{
 "cells": [
  {
   "cell_type": "code",
   "execution_count": 6,
   "metadata": {},
   "outputs": [
    {
     "name": "stdout",
     "output_type": "stream",
     "text": [
      "The autoreload extension is already loaded. To reload it, use:\n",
      "  %reload_ext autoreload\n",
      "/home/jt/Downloads/cobrapy-0.5.11/cobra/__init__.py\n",
      "/home/jt/UCSD/cobrame-master/cobrame/__init__.py\n",
      "/home/jt/UCSD/bacillusme-master/bacillusme/__init__.py\n"
     ]
    }
   ],
   "source": [
    "from __future__ import print_function, division, absolute_import\n",
    "\n",
    "import sys\n",
    "\n",
    "import qminospy\n",
    "from qminospy.me2 import ME_NLP\n",
    "\n",
    "# python imports\n",
    "from copy import copy\n",
    "import re\n",
    "from tqdm import tqdm\n",
    "from os.path import join\n",
    "from collections import defaultdict\n",
    "import pickle\n",
    "\n",
    "# third party imports\n",
    "import pandas\n",
    "import cobra\n",
    "\n",
    "# COBRAme\n",
    "import cobrame\n",
    "from cobrame.util import building, mu, me_model_interface\n",
    "from cobrame.io.json import save_json_me_model, save_reduced_json_me_model\n",
    "\n",
    "# ECOLIme\n",
    "import bacillusme\n",
    "from bacillusme import (transcription, translation, flat_files, generics, formulas, compartments)\n",
    "from bacillusme.util.helper_functions import *\n",
    "%load_ext autoreload\n",
    "%autoreload 2\n",
    "print(cobra.__file__)\n",
    "print(cobrame.__file__)\n",
    "print(bacillusme.__file__)"
   ]
  },
  {
   "cell_type": "code",
   "execution_count": 7,
   "metadata": {},
   "outputs": [
    {
     "data": {
      "text/plain": [
       "<Solution 0.12 at 0x7f409bde0160>"
      ]
     },
     "execution_count": 7,
     "metadata": {},
     "output_type": "execute_result"
    }
   ],
   "source": [
    "eco_directory = join(flat_files.ecoli_files_dir, 'iJO1366.json')\n",
    "ijo_directory = join(flat_files.ecoli_files_dir, 'iYO844.json')\n",
    "uni_directory = join(flat_files.ecoli_files_dir, 'universal_model.json')\n",
    "\n",
    "eco = cobra.io.load_json_model(eco_directory)\n",
    "bsub = cobra.io.load_json_model(ijo_directory)\n",
    "uni = cobra.io.load_json_model(uni_directory)\n",
    "\n",
    "eco.optimize()\n",
    "bsub.optimize()"
   ]
  },
  {
   "cell_type": "code",
   "execution_count": 23,
   "metadata": {},
   "outputs": [
    {
     "data": {
      "text/plain": [
       "<Solution 0.10 at 0x7f40a84f97b8>"
      ]
     },
     "execution_count": 23,
     "metadata": {},
     "output_type": "execute_result"
    }
   ],
   "source": [
    "me.solution"
   ]
  },
  {
   "cell_type": "code",
   "execution_count": 15,
   "metadata": {},
   "outputs": [],
   "source": [
    "with open('./me_models/iYO844b.pickle', 'rb') as f:\n",
    "    me = pickle.load(f)\n",
    "with open('./me_models/final/iJL1678b.pickle', 'rb') as f:\n",
    "    ecome = pickle.load(f)"
   ]
  },
  {
   "cell_type": "code",
   "execution_count": 20,
   "metadata": {},
   "outputs": [
    {
     "data": {
      "text/plain": [
       "'MFAKRFKTSLLPLFAGFLLLFHLVLAGPAAASAETANKSNELTAPSIKSGTILHAWNWSFNTLKHNMKDIHDAGYTAIQTSPINQVKEGNQGDKSMSNWYWLYQPTSYQIGNRYLGTEQEFKEMCAAAEEYGIKVIVDAVINHTTSDYAAISNEVKSIPNWTHGNTQIKNWSDRWDVTQNSLLGLYDWNTQNTQVQSYLKRFLDRALNDGADGFRFDAAKHIELPDDGSYGSQFWPNITNTSAEFQYGEILQDSASRDAAYANYMDVTASNYGHSIRSALKNRNLGVSNISHYASDVSADKLVTWVESHDTYANDDEESTWMSDDDIRLGWAVIASRSGSTPLFFSRPEGGGNGVRFPGKSQIGDRGSALFEDQAITAVNRFHNVMAGQPEELSNPNGNNQIFMNQRGSHGVVLANAGSSSVSINTATKLPDGRYDNKAGAGSFQVNDGKLTGTINARSVAVLYPDDIAKAPHVFLENYKTGVTHSFNDQLTITLRADANTTKAVYQINNGPETAFKDGDQFTIGKGDPFGKTYTIMLKGTNSDGVTRTEKYSFVKRDPASAKTIGYQNPNHWSQVNAYIYKHDGSRVIELTGSWPGKPMTKNADGIYTLTLPADTDTTNAKVIFNNGSAQVPGQNQPGFDYVLNGLYNDSGLSGSLPH'"
      ]
     },
     "execution_count": 20,
     "metadata": {},
     "output_type": "execute_result"
    }
   ],
   "source": [
    "me.metabolites.protein_BSU03040.translation_data.amino_acid_sequence"
   ]
  },
  {
   "cell_type": "code",
   "execution_count": 16,
   "metadata": {},
   "outputs": [
    {
     "name": "stdout",
     "output_type": "stream",
     "text": [
      "( formation_BSU03040-MONOMER 0.0 1000.0 ) \t protein_BSU03040_Inner_Membrane --> BSU03040-MONOMER\n",
      "( translocation_BSU03040 0.0 1000.0 ) \t 26.36 atp_c + 26.36 h2o_c + protein_BSU03040 --> -0.00915277777777778*mu BSU27650-MONOMER + -0.00915277777777778*mu BSU35300-MONOMER + -0.00915277777777778*mu SRP-CPLX + 26.36 adp_c + 26.36 h_c + 26.36 pi_c + protein_BSU03040_Inner_Membrane + -0.00915277777777778*mu secYEG\n"
     ]
    },
    {
     "data": {
      "text/plain": [
       "[<ComplexFormation formation_BSU03040-MONOMER at 0x7f40a8c94128>,\n",
       " <PostTranslationReaction translocation_BSU03040 at 0x7f40a82b3630>]"
      ]
     },
     "execution_count": 16,
     "metadata": {},
     "output_type": "execute_result"
    }
   ],
   "source": [
    "get_reactions_of_met(me,'protein_BSU03040_Inner_Membrane')"
   ]
  },
  {
   "cell_type": "code",
   "execution_count": 66,
   "metadata": {
    "scrolled": true
   },
   "outputs": [
    {
     "name": "stdout",
     "output_type": "stream",
     "text": [
      "iter\tmuopt    \ta     \tb     \tmu1       \tstat1\n",
      "Finished compiling expressions in 208.757804 seconds\n",
      "Finished substituting S,lb,ub in 8.916274 seconds\n",
      "Finished makeME_LP in 1.071229 seconds\n",
      "Getting MINOS parameters from ME_NLP...\n",
      "1 0.0 0.0 0.25 0.25 1\n",
      "Finished substituting S,lb,ub in 8.897109 seconds\n",
      "Finished makeME_LP in 1.287711 seconds\n",
      "Getting MINOS parameters from ME_NLP...\n",
      "2 0.0 0.0 0.125 0.125 1\n",
      "Finished substituting S,lb,ub in 8.767394 seconds\n",
      "Finished makeME_LP in 1.073602 seconds\n",
      "Getting MINOS parameters from ME_NLP...\n",
      "3 0.0 0.0 0.0625 0.0625 1\n",
      "Finished substituting S,lb,ub in 8.960964 seconds\n",
      "Finished makeME_LP in 1.066881 seconds\n",
      "Getting MINOS parameters from ME_NLP...\n",
      "4 0.0 0.0 0.03125 0.03125 1\n",
      "Finished substituting S,lb,ub in 8.884194 seconds\n",
      "Finished makeME_LP in 1.068705 seconds\n",
      "Getting MINOS parameters from ME_NLP...\n",
      "5 0.0 0.0 0.015625 0.015625 1\n",
      "Finished substituting S,lb,ub in 8.863671 seconds\n",
      "Finished makeME_LP in 1.089472 seconds\n",
      "Getting MINOS parameters from ME_NLP...\n",
      "6 0.0 0.0 0.0078125 0.0078125 1\n",
      "Finished substituting S,lb,ub in 8.941919 seconds\n",
      "Finished makeME_LP in 1.077309 seconds\n",
      "Getting MINOS parameters from ME_NLP...\n",
      "7 0.0 0.0 0.00390625 0.00390625 1\n",
      "Finished substituting S,lb,ub in 8.833942 seconds\n",
      "Finished makeME_LP in 1.072682 seconds\n",
      "Getting MINOS parameters from ME_NLP...\n",
      "8 0.0 0.0 0.001953125 0.001953125 1\n",
      "Finished substituting S,lb,ub in 8.916630 seconds\n",
      "Finished makeME_LP in 1.080526 seconds\n",
      "Getting MINOS parameters from ME_NLP...\n",
      "9 0.0 0.0 0.0009765625 0.0009765625 1\n",
      "Finished substituting S,lb,ub in 8.872804 seconds\n",
      "Finished makeME_LP in 1.082076 seconds\n",
      "Getting MINOS parameters from ME_NLP...\n",
      "10 0.0 0.0 0.00048828125 0.00048828125 1\n",
      "Finished substituting S,lb,ub in 8.902229 seconds\n",
      "Finished makeME_LP in 1.073818 seconds\n",
      "Getting MINOS parameters from ME_NLP...\n",
      "11 0.0 0.0 0.000244140625 0.000244140625 1\n",
      "Finished substituting S,lb,ub in 8.909574 seconds\n",
      "Finished makeME_LP in 1.079496 seconds\n",
      "Getting MINOS parameters from ME_NLP...\n",
      "12 0.0 0.0 0.0001220703125 0.0001220703125 1\n",
      "Finished substituting S,lb,ub in 8.894873 seconds\n",
      "Finished makeME_LP in 1.073489 seconds\n",
      "Getting MINOS parameters from ME_NLP...\n",
      "13 0.0 0.0 6.103515625e-05 6.103515625e-05 1\n",
      "Finished substituting S,lb,ub in 9.049735 seconds\n",
      "Finished makeME_LP in 1.075507 seconds\n",
      "Getting MINOS parameters from ME_NLP...\n",
      "14 0.0 0.0 3.0517578125e-05 3.0517578125e-05 1\n",
      "Finished substituting S,lb,ub in 8.817271 seconds\n",
      "Finished makeME_LP in 1.074393 seconds\n",
      "Getting MINOS parameters from ME_NLP...\n",
      "15 0.0 0.0 1.52587890625e-05 1.52587890625e-05 1\n",
      "Finished substituting S,lb,ub in 8.869112 seconds\n",
      "Finished makeME_LP in 1.078599 seconds\n",
      "Getting MINOS parameters from ME_NLP...\n",
      "16 0.0 0.0 7.62939453125e-06 7.62939453125e-06 1\n",
      "Finished substituting S,lb,ub in 8.891609 seconds\n",
      "Finished makeME_LP in 1.077966 seconds\n",
      "Getting MINOS parameters from ME_NLP...\n",
      "17 0.0 0.0 3.814697265625e-06 3.814697265625e-06 1\n",
      "Finished substituting S,lb,ub in 9.021916 seconds\n",
      "Finished makeME_LP in 1.084292 seconds\n",
      "Getting MINOS parameters from ME_NLP...\n",
      "18 0.0 0.0 1.9073486328125e-06 1.9073486328125e-06 1\n",
      "Finished substituting S,lb,ub in 8.949206 seconds\n",
      "Finished makeME_LP in 1.080799 seconds\n",
      "Getting MINOS parameters from ME_NLP...\n",
      "19 0.0 0.0 9.5367431640625e-07 9.5367431640625e-07 1\n",
      "Bisection done in 1224.57 seconds\n"
     ]
    }
   ],
   "source": [
    "solve_me_model(me, max_mu = 0.5, min_mu = .05, using_soplex=False, precision = 1e-6)"
   ]
  },
  {
   "cell_type": "code",
   "execution_count": 5,
   "metadata": {
    "scrolled": true
   },
   "outputs": [
    {
     "name": "stdout",
     "output_type": "stream",
     "text": [
      "iter\tmuopt    \ta     \tb     \tmu1       \tstat1\n",
      "Finished compiling expressions in 421.270160 seconds\n",
      "Finished substituting S,lb,ub in 16.019758 seconds\n",
      "Finished makeME_LP in 1.913121 seconds\n",
      "Getting MINOS parameters from ME_NLP...\n",
      "1 0.5 0.5 1.0 0.5 optimal\n",
      "Finished substituting S,lb,ub in 16.846839 seconds\n",
      "Finished makeME_LP in 1.877419 seconds\n",
      "Getting MINOS parameters from ME_NLP...\n",
      "2 0.75 0.75 1.0 0.75 optimal\n",
      "Finished substituting S,lb,ub in 15.869163 seconds\n",
      "Finished makeME_LP in 1.891475 seconds\n",
      "Getting MINOS parameters from ME_NLP...\n",
      "3 0.75 0.75 0.875 0.875 1\n",
      "Finished substituting S,lb,ub in 15.847416 seconds\n",
      "Finished makeME_LP in 1.871226 seconds\n",
      "Getting MINOS parameters from ME_NLP...\n",
      "4 0.8125 0.8125 0.875 0.8125 optimal\n",
      "Finished substituting S,lb,ub in 15.806131 seconds\n",
      "Finished makeME_LP in 1.899086 seconds\n",
      "Getting MINOS parameters from ME_NLP...\n",
      "5 0.84375 0.84375 0.875 0.84375 optimal\n",
      "Finished substituting S,lb,ub in 15.944288 seconds\n",
      "Finished makeME_LP in 1.919528 seconds\n",
      "Getting MINOS parameters from ME_NLP...\n",
      "6 0.84375 0.84375 0.859375 0.859375 1\n",
      "Finished substituting S,lb,ub in 16.321269 seconds\n",
      "Finished makeME_LP in 1.892085 seconds\n",
      "Getting MINOS parameters from ME_NLP...\n",
      "7 0.84375 0.84375 0.8515625 0.8515625 1\n",
      "Finished substituting S,lb,ub in 15.965733 seconds\n",
      "Finished makeME_LP in 1.909256 seconds\n",
      "Getting MINOS parameters from ME_NLP...\n",
      "8 0.84765625 0.84765625 0.8515625 0.84765625 optimal\n",
      "Finished substituting S,lb,ub in 16.219117 seconds\n",
      "Finished makeME_LP in 1.901203 seconds\n",
      "Getting MINOS parameters from ME_NLP...\n",
      "9 0.84765625 0.84765625 0.849609375 0.849609375 1\n",
      "Finished substituting S,lb,ub in 16.693010 seconds\n",
      "Finished makeME_LP in 1.900191 seconds\n",
      "Getting MINOS parameters from ME_NLP...\n",
      "10 0.84765625 0.84765625 0.8486328125 0.8486328125 1\n",
      "Finished substituting S,lb,ub in 16.156525 seconds\n",
      "Finished makeME_LP in 1.885548 seconds\n",
      "Getting MINOS parameters from ME_NLP...\n",
      "11 0.84814453125 0.84814453125 0.8486328125 0.84814453125 optimal\n",
      "Finished substituting S,lb,ub in 16.052595 seconds\n",
      "Finished makeME_LP in 1.894682 seconds\n",
      "Getting MINOS parameters from ME_NLP...\n",
      "12 0.84814453125 0.84814453125 0.848388671875 0.848388671875 1\n",
      "Finished substituting S,lb,ub in 16.111397 seconds\n",
      "Finished makeME_LP in 1.893450 seconds\n",
      "Getting MINOS parameters from ME_NLP...\n",
      "13 0.8482666015625 0.8482666015625 0.848388671875 0.8482666015625 optimal\n",
      "Finished substituting S,lb,ub in 16.244361 seconds\n",
      "Finished makeME_LP in 1.923649 seconds\n",
      "Getting MINOS parameters from ME_NLP...\n",
      "14 0.8482666015625 0.8482666015625 0.84832763671875 0.84832763671875 1\n",
      "Finished substituting S,lb,ub in 16.124776 seconds\n",
      "Finished makeME_LP in 1.905478 seconds\n",
      "Getting MINOS parameters from ME_NLP...\n",
      "15 0.8482666015625 0.8482666015625 0.848297119140625 0.848297119140625 1\n",
      "Finished substituting S,lb,ub in 15.953633 seconds\n",
      "Finished makeME_LP in 2.043747 seconds\n",
      "Getting MINOS parameters from ME_NLP...\n",
      "16 0.8482666015625 0.8482666015625 0.8482818603515625 0.8482818603515625 1\n",
      "Finished substituting S,lb,ub in 16.245456 seconds\n",
      "Finished makeME_LP in 1.895666 seconds\n",
      "Getting MINOS parameters from ME_NLP...\n",
      "17 0.8482666015625 0.8482666015625 0.8482742309570312 0.8482742309570312 1\n",
      "Finished substituting S,lb,ub in 15.994329 seconds\n",
      "Finished makeME_LP in 1.905673 seconds\n",
      "Getting MINOS parameters from ME_NLP...\n",
      "18 0.8482704162597656 0.8482704162597656 0.8482742309570312 0.8482704162597656 optimal\n",
      "Finished substituting S,lb,ub in 16.407806 seconds\n",
      "Finished makeME_LP in 1.924165 seconds\n",
      "Getting MINOS parameters from ME_NLP...\n",
      "19 0.8482704162597656 0.8482704162597656 0.8482723236083984 0.8482723236083984 1\n",
      "Finished substituting S,lb,ub in 15.843557 seconds\n",
      "Finished makeME_LP in 1.895608 seconds\n",
      "Getting MINOS parameters from ME_NLP...\n",
      "20 0.848271369934082 0.848271369934082 0.8482723236083984 0.848271369934082 optimal\n",
      "Bisection done in 1017.53 seconds\n"
     ]
    }
   ],
   "source": [
    "solve_me_model(ecome, 1., min_mu = .1, precision=1e-6, using_soplex=False)"
   ]
  },
  {
   "cell_type": "code",
   "execution_count": 6,
   "metadata": {},
   "outputs": [],
   "source": [
    "df = exchange_single_model(ecome)\n",
    "df.to_csv('temp_result.csv')"
   ]
  },
  {
   "cell_type": "code",
   "execution_count": 7,
   "metadata": {},
   "outputs": [],
   "source": [
    "with open('./me_models/solution.pickle', 'wb') as solution:\n",
    "    pickle.dump(me,solution)"
   ]
  },
  {
   "cell_type": "code",
   "execution_count": 8,
   "metadata": {},
   "outputs": [],
   "source": [
    "with open('./me_models/ecoli_solution.pickle', 'wb') as solution:\n",
    "    pickle.dump(ecome,solution)"
   ]
  },
  {
   "cell_type": "markdown",
   "metadata": {},
   "source": [
    "# Postprocessing"
   ]
  },
  {
   "cell_type": "code",
   "execution_count": 97,
   "metadata": {},
   "outputs": [],
   "source": [
    "with open('./me_models/solution.pickle', 'rb') as solution:\n",
    "    me = pickle.load(solution)\n",
    "with open('./me_models/ecoli_solution.pickle', 'rb') as solution:\n",
    "    ecome = pickle.load(solution)"
   ]
  },
  {
   "cell_type": "code",
   "execution_count": 103,
   "metadata": {},
   "outputs": [],
   "source": []
  },
  {
   "cell_type": "code",
   "execution_count": 105,
   "metadata": {},
   "outputs": [
    {
     "data": {
      "text/html": [
       "<div>\n",
       "<style scoped>\n",
       "    .dataframe tbody tr th:only-of-type {\n",
       "        vertical-align: middle;\n",
       "    }\n",
       "\n",
       "    .dataframe tbody tr th {\n",
       "        vertical-align: top;\n",
       "    }\n",
       "\n",
       "    .dataframe thead th {\n",
       "        text-align: right;\n",
       "    }\n",
       "</style>\n",
       "<table border=\"1\" class=\"dataframe\">\n",
       "  <thead>\n",
       "    <tr style=\"text-align: right;\">\n",
       "      <th></th>\n",
       "      <th>mass</th>\n",
       "    </tr>\n",
       "  </thead>\n",
       "  <tbody>\n",
       "    <tr>\n",
       "      <th>EX_ca2_e</th>\n",
       "      <td>0.000000</td>\n",
       "    </tr>\n",
       "    <tr>\n",
       "      <th>EX_co2_e</th>\n",
       "      <td>-0.263207</td>\n",
       "    </tr>\n",
       "    <tr>\n",
       "      <th>EX_fe3_e</th>\n",
       "      <td>0.000000</td>\n",
       "    </tr>\n",
       "    <tr>\n",
       "      <th>EX_glc__D_e</th>\n",
       "      <td>0.306265</td>\n",
       "    </tr>\n",
       "    <tr>\n",
       "      <th>EX_h2o_e</th>\n",
       "      <td>-0.141777</td>\n",
       "    </tr>\n",
       "    <tr>\n",
       "      <th>EX_h_e</th>\n",
       "      <td>-0.000774</td>\n",
       "    </tr>\n",
       "    <tr>\n",
       "      <th>EX_k_e</th>\n",
       "      <td>0.003258</td>\n",
       "    </tr>\n",
       "    <tr>\n",
       "      <th>EX_mg2_e</th>\n",
       "      <td>0.000000</td>\n",
       "    </tr>\n",
       "    <tr>\n",
       "      <th>EX_nh4_e</th>\n",
       "      <td>0.017046</td>\n",
       "    </tr>\n",
       "    <tr>\n",
       "      <th>EX_o2_e</th>\n",
       "      <td>0.182582</td>\n",
       "    </tr>\n",
       "    <tr>\n",
       "      <th>EX_pi_e</th>\n",
       "      <td>0.017377</td>\n",
       "    </tr>\n",
       "    <tr>\n",
       "      <th>EX_so4_e</th>\n",
       "      <td>0.001930</td>\n",
       "    </tr>\n",
       "  </tbody>\n",
       "</table>\n",
       "</div>"
      ],
      "text/plain": [
       "                 mass\n",
       "EX_ca2_e     0.000000\n",
       "EX_co2_e    -0.263207\n",
       "EX_fe3_e     0.000000\n",
       "EX_glc__D_e  0.306265\n",
       "EX_h2o_e    -0.141777\n",
       "EX_h_e      -0.000774\n",
       "EX_k_e       0.003258\n",
       "EX_mg2_e     0.000000\n",
       "EX_nh4_e     0.017046\n",
       "EX_o2_e      0.182582\n",
       "EX_pi_e      0.017377\n",
       "EX_so4_e     0.001930"
      ]
     },
     "execution_count": 105,
     "metadata": {},
     "output_type": "execute_result"
    }
   ],
   "source": [
    "b"
   ]
  },
  {
   "cell_type": "code",
   "execution_count": 99,
   "metadata": {},
   "outputs": [
    {
     "data": {
      "text/plain": [
       "<Solution 0.10 at 0x7fe4b52ef6a0>"
      ]
     },
     "execution_count": 99,
     "metadata": {},
     "output_type": "execute_result"
    }
   ],
   "source": [
    "me.solution"
   ]
  },
  {
   "cell_type": "code",
   "execution_count": 22,
   "metadata": {},
   "outputs": [
    {
     "data": {
      "text/html": [
       "<div>\n",
       "<style scoped>\n",
       "    .dataframe tbody tr th:only-of-type {\n",
       "        vertical-align: middle;\n",
       "    }\n",
       "\n",
       "    .dataframe tbody tr th {\n",
       "        vertical-align: top;\n",
       "    }\n",
       "\n",
       "    .dataframe thead th {\n",
       "        text-align: right;\n",
       "    }\n",
       "</style>\n",
       "<table border=\"1\" class=\"dataframe\">\n",
       "  <thead>\n",
       "    <tr style=\"text-align: right;\">\n",
       "      <th></th>\n",
       "      <th>name</th>\n",
       "      <th>reaction</th>\n",
       "      <th>lower_bound</th>\n",
       "      <th>upper_bound</th>\n",
       "      <th>flux_me</th>\n",
       "      <th>flux_m</th>\n",
       "    </tr>\n",
       "    <tr>\n",
       "      <th>id</th>\n",
       "      <th></th>\n",
       "      <th></th>\n",
       "      <th></th>\n",
       "      <th></th>\n",
       "      <th></th>\n",
       "      <th></th>\n",
       "    </tr>\n",
       "  </thead>\n",
       "  <tbody>\n",
       "    <tr>\n",
       "      <th>EX_co2_e</th>\n",
       "      <td></td>\n",
       "      <td>co2_e &lt;=&gt;</td>\n",
       "      <td>-999999.0</td>\n",
       "      <td>999999.0</td>\n",
       "      <td>6.044848e+00</td>\n",
       "      <td>5.980676</td>\n",
       "    </tr>\n",
       "    <tr>\n",
       "      <th>EX_cobalt2_e</th>\n",
       "      <td></td>\n",
       "      <td>cobalt2_e &lt;=&gt;</td>\n",
       "      <td>-1000.0</td>\n",
       "      <td>0.0</td>\n",
       "      <td>-4.867374e-08</td>\n",
       "      <td>NaN</td>\n",
       "    </tr>\n",
       "    <tr>\n",
       "      <th>EX_glc__D_e</th>\n",
       "      <td></td>\n",
       "      <td>glc__D_e &lt;=&gt;</td>\n",
       "      <td>-1.7</td>\n",
       "      <td>999999.0</td>\n",
       "      <td>-1.699997e+00</td>\n",
       "      <td>-1.700000</td>\n",
       "    </tr>\n",
       "    <tr>\n",
       "      <th>EX_h2o_e</th>\n",
       "      <td></td>\n",
       "      <td>h2o_e &lt;=&gt;</td>\n",
       "      <td>-999999.0</td>\n",
       "      <td>999999.0</td>\n",
       "      <td>8.428705e+00</td>\n",
       "      <td>7.869819</td>\n",
       "    </tr>\n",
       "    <tr>\n",
       "      <th>EX_h_e</th>\n",
       "      <td></td>\n",
       "      <td>h_e &lt;=&gt;</td>\n",
       "      <td>-999999.0</td>\n",
       "      <td>999999.0</td>\n",
       "      <td>7.865889e-01</td>\n",
       "      <td>0.767665</td>\n",
       "    </tr>\n",
       "    <tr>\n",
       "      <th>EX_k_e</th>\n",
       "      <td></td>\n",
       "      <td>k_e &lt;=&gt;</td>\n",
       "      <td>-999999.0</td>\n",
       "      <td>999999.0</td>\n",
       "      <td>-1.808057e-07</td>\n",
       "      <td>-0.083321</td>\n",
       "    </tr>\n",
       "    <tr>\n",
       "      <th>EX_mg2_e</th>\n",
       "      <td></td>\n",
       "      <td>mg2_e &lt;=&gt;</td>\n",
       "      <td>-999999.0</td>\n",
       "      <td>999999.0</td>\n",
       "      <td>-1.300238e-03</td>\n",
       "      <td>-0.011999</td>\n",
       "    </tr>\n",
       "    <tr>\n",
       "      <th>EX_mn2_e</th>\n",
       "      <td></td>\n",
       "      <td>mn2_e &lt;=&gt;</td>\n",
       "      <td>-1000.0</td>\n",
       "      <td>0.0</td>\n",
       "      <td>-2.371824e-06</td>\n",
       "      <td>NaN</td>\n",
       "    </tr>\n",
       "    <tr>\n",
       "      <th>EX_nh4_e</th>\n",
       "      <td></td>\n",
       "      <td>nh4_e &lt;=&gt;</td>\n",
       "      <td>-5.0</td>\n",
       "      <td>999999.0</td>\n",
       "      <td>-9.471223e-01</td>\n",
       "      <td>-0.944964</td>\n",
       "    </tr>\n",
       "    <tr>\n",
       "      <th>EX_o2_e</th>\n",
       "      <td></td>\n",
       "      <td>o2_e &lt;--</td>\n",
       "      <td>-999999.0</td>\n",
       "      <td>0.0</td>\n",
       "      <td>-5.795462e+00</td>\n",
       "      <td>-5.705899</td>\n",
       "    </tr>\n",
       "    <tr>\n",
       "      <th>EX_pi_e</th>\n",
       "      <td></td>\n",
       "      <td>pi_e &lt;=&gt;</td>\n",
       "      <td>-5.0</td>\n",
       "      <td>999999.0</td>\n",
       "      <td>-1.070526e-01</td>\n",
       "      <td>-0.181053</td>\n",
       "    </tr>\n",
       "    <tr>\n",
       "      <th>EX_so4_e</th>\n",
       "      <td></td>\n",
       "      <td>so4_e &lt;=&gt;</td>\n",
       "      <td>-5.0</td>\n",
       "      <td>999999.0</td>\n",
       "      <td>-1.702889e-02</td>\n",
       "      <td>-0.020092</td>\n",
       "    </tr>\n",
       "    <tr>\n",
       "      <th>EX_zn2_e</th>\n",
       "      <td></td>\n",
       "      <td>zn2_e &lt;=&gt;</td>\n",
       "      <td>-1000.0</td>\n",
       "      <td>0.0</td>\n",
       "      <td>-1.833245e-07</td>\n",
       "      <td>NaN</td>\n",
       "    </tr>\n",
       "    <tr>\n",
       "      <th>EX_4fe4s_e</th>\n",
       "      <td></td>\n",
       "      <td>4fe4s_e &lt;=&gt;</td>\n",
       "      <td>-1000.0</td>\n",
       "      <td>0.0</td>\n",
       "      <td>-2.389933e-07</td>\n",
       "      <td>NaN</td>\n",
       "    </tr>\n",
       "    <tr>\n",
       "      <th>EX_pydx5p_e</th>\n",
       "      <td></td>\n",
       "      <td>pydx5p_e &lt;=&gt;</td>\n",
       "      <td>-1000.0</td>\n",
       "      <td>0.0</td>\n",
       "      <td>-1.541834e-07</td>\n",
       "      <td>NaN</td>\n",
       "    </tr>\n",
       "    <tr>\n",
       "      <th>EX_thmpp_e</th>\n",
       "      <td></td>\n",
       "      <td>thmpp_e &lt;=&gt;</td>\n",
       "      <td>-1000.0</td>\n",
       "      <td>0.0</td>\n",
       "      <td>-6.725411e-09</td>\n",
       "      <td>NaN</td>\n",
       "    </tr>\n",
       "    <tr>\n",
       "      <th>EX_cbl1_e</th>\n",
       "      <td></td>\n",
       "      <td>cbl1_e &lt;=&gt;</td>\n",
       "      <td>-1000.0</td>\n",
       "      <td>0.0</td>\n",
       "      <td>-3.373457e-09</td>\n",
       "      <td>NaN</td>\n",
       "    </tr>\n",
       "  </tbody>\n",
       "</table>\n",
       "</div>"
      ],
      "text/plain": [
       "             name        reaction  lower_bound  upper_bound       flux_me  \\\n",
       "id                                                                          \n",
       "EX_co2_e               co2_e <=>     -999999.0     999999.0  6.044848e+00   \n",
       "EX_cobalt2_e       cobalt2_e <=>       -1000.0          0.0 -4.867374e-08   \n",
       "EX_glc__D_e         glc__D_e <=>          -1.7     999999.0 -1.699997e+00   \n",
       "EX_h2o_e               h2o_e <=>     -999999.0     999999.0  8.428705e+00   \n",
       "EX_h_e                   h_e <=>     -999999.0     999999.0  7.865889e-01   \n",
       "EX_k_e                   k_e <=>     -999999.0     999999.0 -1.808057e-07   \n",
       "EX_mg2_e               mg2_e <=>     -999999.0     999999.0 -1.300238e-03   \n",
       "EX_mn2_e               mn2_e <=>       -1000.0          0.0 -2.371824e-06   \n",
       "EX_nh4_e               nh4_e <=>          -5.0     999999.0 -9.471223e-01   \n",
       "EX_o2_e                 o2_e <--     -999999.0          0.0 -5.795462e+00   \n",
       "EX_pi_e                 pi_e <=>          -5.0     999999.0 -1.070526e-01   \n",
       "EX_so4_e               so4_e <=>          -5.0     999999.0 -1.702889e-02   \n",
       "EX_zn2_e               zn2_e <=>       -1000.0          0.0 -1.833245e-07   \n",
       "EX_4fe4s_e           4fe4s_e <=>       -1000.0          0.0 -2.389933e-07   \n",
       "EX_pydx5p_e         pydx5p_e <=>       -1000.0          0.0 -1.541834e-07   \n",
       "EX_thmpp_e           thmpp_e <=>       -1000.0          0.0 -6.725411e-09   \n",
       "EX_cbl1_e             cbl1_e <=>       -1000.0          0.0 -3.373457e-09   \n",
       "\n",
       "                flux_m  \n",
       "id                      \n",
       "EX_co2_e      5.980676  \n",
       "EX_cobalt2_e       NaN  \n",
       "EX_glc__D_e  -1.700000  \n",
       "EX_h2o_e      7.869819  \n",
       "EX_h_e        0.767665  \n",
       "EX_k_e       -0.083321  \n",
       "EX_mg2_e     -0.011999  \n",
       "EX_mn2_e           NaN  \n",
       "EX_nh4_e     -0.944964  \n",
       "EX_o2_e      -5.705899  \n",
       "EX_pi_e      -0.181053  \n",
       "EX_so4_e     -0.020092  \n",
       "EX_zn2_e           NaN  \n",
       "EX_4fe4s_e         NaN  \n",
       "EX_pydx5p_e        NaN  \n",
       "EX_thmpp_e         NaN  \n",
       "EX_cbl1_e          NaN  "
      ]
     },
     "execution_count": 22,
     "metadata": {},
     "output_type": "execute_result"
    }
   ],
   "source": [
    "# Exchange\n",
    "df_m = exchange_single_model(bsub)\n",
    "df = exchange_single_model(me)\n",
    "df.join(df_m['flux'],lsuffix='_me',rsuffix='_m')"
   ]
  },
  {
   "cell_type": "code",
   "execution_count": 23,
   "metadata": {},
   "outputs": [
    {
     "name": "stderr",
     "output_type": "stream",
     "text": [
      "100%|██████████| 6282/6282 [01:22<00:00, 76.24it/s] \n",
      "100%|██████████| 1250/1250 [00:02<00:00, 572.97it/s]\n"
     ]
    }
   ],
   "source": [
    "# Solution summary\n",
    "summary_df = solution_summary(me)\n",
    "summary_m_df = solution_summary(bsub)\n",
    "summary_df.to_csv('./solution_summary.csv')"
   ]
  },
  {
   "cell_type": "code",
   "execution_count": 24,
   "metadata": {},
   "outputs": [
    {
     "name": "stderr",
     "output_type": "stream",
     "text": [
      "100%|██████████| 6282/6282 [00:43<00:00, 145.01it/s]\n"
     ]
    }
   ],
   "source": [
    "summary_df = solution_summary(me)"
   ]
  },
  {
   "cell_type": "markdown",
   "metadata": {},
   "source": [
    "## Compare M/ME with ecoli"
   ]
  },
  {
   "cell_type": "code",
   "execution_count": 25,
   "metadata": {},
   "outputs": [
    {
     "name": "stderr",
     "output_type": "stream",
     "text": [
      "100%|██████████| 1250/1250 [00:00<00:00, 4452.99it/s]\n"
     ]
    }
   ],
   "source": [
    "_,rxn_id_dict = homogenize_reactions(model=bsub,ref_model=eco)"
   ]
  },
  {
   "cell_type": "code",
   "execution_count": 26,
   "metadata": {},
   "outputs": [
    {
     "data": {
      "text/html": [
       "<div>\n",
       "<style scoped>\n",
       "    .dataframe tbody tr th:only-of-type {\n",
       "        vertical-align: middle;\n",
       "    }\n",
       "\n",
       "    .dataframe tbody tr th {\n",
       "        vertical-align: top;\n",
       "    }\n",
       "\n",
       "    .dataframe thead th {\n",
       "        text-align: right;\n",
       "    }\n",
       "</style>\n",
       "<table border=\"1\" class=\"dataframe\">\n",
       "  <thead>\n",
       "    <tr style=\"text-align: right;\">\n",
       "      <th></th>\n",
       "      <th>lb</th>\n",
       "      <th>ub</th>\n",
       "      <th>flux_m</th>\n",
       "      <th>formula</th>\n",
       "      <th>flux_me</th>\n",
       "    </tr>\n",
       "  </thead>\n",
       "  <tbody>\n",
       "    <tr>\n",
       "      <th>2S6HCCi</th>\n",
       "      <td>0</td>\n",
       "      <td>999999</td>\n",
       "      <td>3.13791e-05</td>\n",
       "      <td>akg_c + h_c + ichor_c --&gt; 2shchc_c + co2_c + p...</td>\n",
       "      <td>0.000027</td>\n",
       "    </tr>\n",
       "    <tr>\n",
       "      <th>ACACT1r</th>\n",
       "      <td>-999999</td>\n",
       "      <td>999999</td>\n",
       "      <td>0.00330023</td>\n",
       "      <td>2.0 accoa_c &lt;=&gt; aacoa_c + coa_c</td>\n",
       "      <td>0.002846</td>\n",
       "    </tr>\n",
       "    <tr>\n",
       "      <th>ACACT2r</th>\n",
       "      <td>-999999</td>\n",
       "      <td>999999</td>\n",
       "      <td>0.00330023</td>\n",
       "      <td>accoa_c + btcoa_c &lt;=&gt; 3ohcoa_c + coa_c</td>\n",
       "      <td>0.002846</td>\n",
       "    </tr>\n",
       "    <tr>\n",
       "      <th>ACACT3r</th>\n",
       "      <td>-999999</td>\n",
       "      <td>999999</td>\n",
       "      <td>0.00330023</td>\n",
       "      <td>accoa_c + hxcoa_c &lt;=&gt; 3oocoa_c + coa_c</td>\n",
       "      <td>0.002846</td>\n",
       "    </tr>\n",
       "    <tr>\n",
       "      <th>ACACT4r</th>\n",
       "      <td>-999999</td>\n",
       "      <td>999999</td>\n",
       "      <td>0.00330023</td>\n",
       "      <td>accoa_c + occoa_c &lt;=&gt; 3odcoa_c + coa_c</td>\n",
       "      <td>0.002846</td>\n",
       "    </tr>\n",
       "    <tr>\n",
       "      <th>...</th>\n",
       "      <td>...</td>\n",
       "      <td>...</td>\n",
       "      <td>...</td>\n",
       "      <td>...</td>\n",
       "      <td>...</td>\n",
       "    </tr>\n",
       "    <tr>\n",
       "      <th>UMPK</th>\n",
       "      <td>0</td>\n",
       "      <td>999999</td>\n",
       "      <td>0.0383322</td>\n",
       "      <td>atp_c + ump_c --&gt; adp_c + udp_c</td>\n",
       "      <td>0.055363</td>\n",
       "    </tr>\n",
       "    <tr>\n",
       "      <th>URIDK2r_copy1</th>\n",
       "      <td>0</td>\n",
       "      <td>999999</td>\n",
       "      <td>999999</td>\n",
       "      <td>atp_c + dump_c --&gt; adp_c + dudp_c</td>\n",
       "      <td>0.000000</td>\n",
       "    </tr>\n",
       "    <tr>\n",
       "      <th>URIDK2r_copy2</th>\n",
       "      <td>-999999</td>\n",
       "      <td>999999</td>\n",
       "      <td>-999999</td>\n",
       "      <td>atp_c + dump_c &lt;=&gt; adp_c + dudp_c</td>\n",
       "      <td>-0.004859</td>\n",
       "    </tr>\n",
       "    <tr>\n",
       "      <th>VALDHr</th>\n",
       "      <td>-999999</td>\n",
       "      <td>999999</td>\n",
       "      <td>999998</td>\n",
       "      <td>h2o_c + nad_c + val__L_c &lt;=&gt; 3mob_c + h_c + na...</td>\n",
       "      <td>0.000000</td>\n",
       "    </tr>\n",
       "    <tr>\n",
       "      <th>VALTA</th>\n",
       "      <td>-999999</td>\n",
       "      <td>999999</td>\n",
       "      <td>-999998</td>\n",
       "      <td>akg_c + val__L_c &lt;=&gt; 3mob_c + glu__L_c</td>\n",
       "      <td>-0.039537</td>\n",
       "    </tr>\n",
       "  </tbody>\n",
       "</table>\n",
       "<p>340 rows × 5 columns</p>\n",
       "</div>"
      ],
      "text/plain": [
       "                   lb      ub       flux_m  \\\n",
       "2S6HCCi             0  999999  3.13791e-05   \n",
       "ACACT1r       -999999  999999   0.00330023   \n",
       "ACACT2r       -999999  999999   0.00330023   \n",
       "ACACT3r       -999999  999999   0.00330023   \n",
       "ACACT4r       -999999  999999   0.00330023   \n",
       "...               ...     ...          ...   \n",
       "UMPK                0  999999    0.0383322   \n",
       "URIDK2r_copy1       0  999999       999999   \n",
       "URIDK2r_copy2 -999999  999999      -999999   \n",
       "VALDHr        -999999  999999       999998   \n",
       "VALTA         -999999  999999      -999998   \n",
       "\n",
       "                                                         formula   flux_me  \n",
       "2S6HCCi        akg_c + h_c + ichor_c --> 2shchc_c + co2_c + p...  0.000027  \n",
       "ACACT1r                          2.0 accoa_c <=> aacoa_c + coa_c  0.002846  \n",
       "ACACT2r                   accoa_c + btcoa_c <=> 3ohcoa_c + coa_c  0.002846  \n",
       "ACACT3r                   accoa_c + hxcoa_c <=> 3oocoa_c + coa_c  0.002846  \n",
       "ACACT4r                   accoa_c + occoa_c <=> 3odcoa_c + coa_c  0.002846  \n",
       "...                                                          ...       ...  \n",
       "UMPK                             atp_c + ump_c --> adp_c + udp_c  0.055363  \n",
       "URIDK2r_copy1                  atp_c + dump_c --> adp_c + dudp_c  0.000000  \n",
       "URIDK2r_copy2                  atp_c + dump_c <=> adp_c + dudp_c -0.004859  \n",
       "VALDHr         h2o_c + nad_c + val__L_c <=> 3mob_c + h_c + na...  0.000000  \n",
       "VALTA                     akg_c + val__L_c <=> 3mob_c + glu__L_c -0.039537  \n",
       "\n",
       "[340 rows x 5 columns]"
      ]
     },
     "execution_count": 26,
     "metadata": {},
     "output_type": "execute_result"
    }
   ],
   "source": [
    "# M - ME comparison of metabolic fluxes in Bacillus\n",
    "flux_dict = me.get_metabolic_flux()\n",
    "me_flux_df = pd.DataFrame.from_dict({'flux':flux_dict}).rename(index=rxn_id_dict)\n",
    "comparison_df = summary_m_df.join(me_flux_df,lsuffix='_m',rsuffix='_me')\n",
    "comparison_df[abs(comparison_df.flux_m)>0]"
   ]
  },
  {
   "cell_type": "code",
   "execution_count": 28,
   "metadata": {},
   "outputs": [
    {
     "name": "stderr",
     "output_type": "stream",
     "text": [
      "100%|██████████| 12654/12654 [02:23<00:00, 88.41it/s] \n",
      "100%|██████████| 2583/2583 [00:04<00:00, 611.36it/s]\n"
     ]
    }
   ],
   "source": [
    "# M - ME comparison of metabolic fluxes in E. coli\n",
    "summary_df_ecoli = solution_summary(ecome)\n",
    "summary_m_df_ecoli = solution_summary(eco)\n",
    "\n",
    "flux_dict_ecoli = ecome.get_metabolic_flux()\n",
    "comparison_df_ecoli = summary_m_df_ecoli.join(\\\n",
    "                    pd.DataFrame.from_dict({'flux':flux_dict_ecoli}),lsuffix='_m',rsuffix='_me')"
   ]
  },
  {
   "cell_type": "code",
   "execution_count": 29,
   "metadata": {},
   "outputs": [
    {
     "data": {
      "text/html": [
       "<div>\n",
       "<style scoped>\n",
       "    .dataframe tbody tr th:only-of-type {\n",
       "        vertical-align: middle;\n",
       "    }\n",
       "\n",
       "    .dataframe tbody tr th {\n",
       "        vertical-align: top;\n",
       "    }\n",
       "\n",
       "    .dataframe thead th {\n",
       "        text-align: right;\n",
       "    }\n",
       "</style>\n",
       "<table border=\"1\" class=\"dataframe\">\n",
       "  <thead>\n",
       "    <tr style=\"text-align: right;\">\n",
       "      <th></th>\n",
       "      <th>lb</th>\n",
       "      <th>ub</th>\n",
       "      <th>flux</th>\n",
       "      <th>formula</th>\n",
       "    </tr>\n",
       "  </thead>\n",
       "  <tbody>\n",
       "    <tr>\n",
       "      <th>2S6HCCi</th>\n",
       "      <td>0</td>\n",
       "      <td>999999</td>\n",
       "      <td>3.13791e-05</td>\n",
       "      <td>akg_c + h_c + ichor_c --&gt; 2shchc_c + co2_c + p...</td>\n",
       "    </tr>\n",
       "    <tr>\n",
       "      <th>ACACT1r</th>\n",
       "      <td>-999999</td>\n",
       "      <td>999999</td>\n",
       "      <td>0.00330023</td>\n",
       "      <td>2.0 accoa_c &lt;=&gt; aacoa_c + coa_c</td>\n",
       "    </tr>\n",
       "    <tr>\n",
       "      <th>ACACT2r</th>\n",
       "      <td>-999999</td>\n",
       "      <td>999999</td>\n",
       "      <td>0.00330023</td>\n",
       "      <td>accoa_c + btcoa_c &lt;=&gt; 3ohcoa_c + coa_c</td>\n",
       "    </tr>\n",
       "    <tr>\n",
       "      <th>ACACT3r</th>\n",
       "      <td>-999999</td>\n",
       "      <td>999999</td>\n",
       "      <td>0.00330023</td>\n",
       "      <td>accoa_c + hxcoa_c &lt;=&gt; 3oocoa_c + coa_c</td>\n",
       "    </tr>\n",
       "    <tr>\n",
       "      <th>ACACT4r</th>\n",
       "      <td>-999999</td>\n",
       "      <td>999999</td>\n",
       "      <td>0.00330023</td>\n",
       "      <td>accoa_c + occoa_c &lt;=&gt; 3odcoa_c + coa_c</td>\n",
       "    </tr>\n",
       "    <tr>\n",
       "      <th>...</th>\n",
       "      <td>...</td>\n",
       "      <td>...</td>\n",
       "      <td>...</td>\n",
       "      <td>...</td>\n",
       "    </tr>\n",
       "    <tr>\n",
       "      <th>UGT2_BS</th>\n",
       "      <td>0</td>\n",
       "      <td>999999</td>\n",
       "      <td>0.000778578</td>\n",
       "      <td>0.01 12dgr_BS_c + 3.0 udpg_c --&gt; 3.0 h_c + 0.0...</td>\n",
       "    </tr>\n",
       "    <tr>\n",
       "      <th>UGT_BS</th>\n",
       "      <td>0</td>\n",
       "      <td>999999</td>\n",
       "      <td>0.00184028</td>\n",
       "      <td>0.01 12dgr_BS_c + 2.0 udpg_c --&gt; 0.01 d12dg_BS...</td>\n",
       "    </tr>\n",
       "    <tr>\n",
       "      <th>UMPK</th>\n",
       "      <td>0</td>\n",
       "      <td>999999</td>\n",
       "      <td>0.0383322</td>\n",
       "      <td>atp_c + ump_c --&gt; adp_c + udp_c</td>\n",
       "    </tr>\n",
       "    <tr>\n",
       "      <th>URIDK2r_copy1</th>\n",
       "      <td>0</td>\n",
       "      <td>999999</td>\n",
       "      <td>999999</td>\n",
       "      <td>atp_c + dump_c --&gt; adp_c + dudp_c</td>\n",
       "    </tr>\n",
       "    <tr>\n",
       "      <th>VALDHr</th>\n",
       "      <td>-999999</td>\n",
       "      <td>999999</td>\n",
       "      <td>999998</td>\n",
       "      <td>h2o_c + nad_c + val__L_c &lt;=&gt; 3mob_c + h_c + na...</td>\n",
       "    </tr>\n",
       "  </tbody>\n",
       "</table>\n",
       "<p>280 rows × 4 columns</p>\n",
       "</div>"
      ],
      "text/plain": [
       "                   lb      ub         flux  \\\n",
       "2S6HCCi             0  999999  3.13791e-05   \n",
       "ACACT1r       -999999  999999   0.00330023   \n",
       "ACACT2r       -999999  999999   0.00330023   \n",
       "ACACT3r       -999999  999999   0.00330023   \n",
       "ACACT4r       -999999  999999   0.00330023   \n",
       "...               ...     ...          ...   \n",
       "UGT2_BS             0  999999  0.000778578   \n",
       "UGT_BS              0  999999   0.00184028   \n",
       "UMPK                0  999999    0.0383322   \n",
       "URIDK2r_copy1       0  999999       999999   \n",
       "VALDHr        -999999  999999       999998   \n",
       "\n",
       "                                                         formula  \n",
       "2S6HCCi        akg_c + h_c + ichor_c --> 2shchc_c + co2_c + p...  \n",
       "ACACT1r                          2.0 accoa_c <=> aacoa_c + coa_c  \n",
       "ACACT2r                   accoa_c + btcoa_c <=> 3ohcoa_c + coa_c  \n",
       "ACACT3r                   accoa_c + hxcoa_c <=> 3oocoa_c + coa_c  \n",
       "ACACT4r                   accoa_c + occoa_c <=> 3odcoa_c + coa_c  \n",
       "...                                                          ...  \n",
       "UGT2_BS        0.01 12dgr_BS_c + 3.0 udpg_c --> 3.0 h_c + 0.0...  \n",
       "UGT_BS         0.01 12dgr_BS_c + 2.0 udpg_c --> 0.01 d12dg_BS...  \n",
       "UMPK                             atp_c + ump_c --> adp_c + udp_c  \n",
       "URIDK2r_copy1                  atp_c + dump_c --> adp_c + dudp_c  \n",
       "VALDHr         h2o_c + nad_c + val__L_c <=> 3mob_c + h_c + na...  \n",
       "\n",
       "[280 rows x 4 columns]"
      ]
     },
     "execution_count": 29,
     "metadata": {},
     "output_type": "execute_result"
    }
   ],
   "source": [
    "summary_m_df[summary_m_df.flux > 0]"
   ]
  },
  {
   "cell_type": "code",
   "execution_count": 31,
   "metadata": {},
   "outputs": [
    {
     "data": {
      "text/plain": [
       "Text(0.5, 1.0, 'E. coli')"
      ]
     },
     "execution_count": 31,
     "metadata": {},
     "output_type": "execute_result"
    },
    {
     "data": {
      "image/png": "[encoded data removed]",
      "text/plain": [
       "<Figure size 720x288 with 2 Axes>"
      ]
     },
     "metadata": {
      "needs_background": "light"
     },
     "output_type": "display_data"
    }
   ],
   "source": [
    "import matplotlib.pyplot as plt\n",
    "threshold = 100\n",
    "temp_df = comparison_df[abs(comparison_df.flux_m)<threshold]\n",
    "temp_df_ecoli = comparison_df_ecoli[abs(comparison_df_ecoli.flux_m)<threshold]\n",
    "\n",
    "plt.figure(figsize=(10,4))\n",
    "plt.subplot(1,2,1)\n",
    "plt.scatter(temp_df['flux_m'],temp_df['flux_me'])\n",
    "plt.xlabel('M simulation')\n",
    "plt.ylabel('ME simulation')\n",
    "plt.title('Bacillus')\n",
    "\n",
    "plt.subplot(1,2,2)\n",
    "plt.scatter(temp_df_ecoli['flux_m'],temp_df_ecoli['flux_me'])\n",
    "plt.xlabel('M simulation')\n",
    "plt.ylabel('ME simulation')\n",
    "plt.title('E. coli')\n"
   ]
  },
  {
   "cell_type": "code",
   "execution_count": 32,
   "metadata": {},
   "outputs": [],
   "source": [
    "# Store results to visualize in Escher\n",
    "comparison_df['flux_m'].to_csv('fluxdist_m_bsub.csv',header=False)\n",
    "comparison_df['flux_me'].to_csv('fluxdist_me_bsub.csv',header=False)\n",
    "\n",
    "comparison_df_ecoli['flux_m'].to_csv('fluxdist_m_ecoli.csv',header=False)\n",
    "comparison_df_ecoli['flux_me'].to_csv('fluxdist_me_ecoli.csv',header=False)"
   ]
  },
  {
   "cell_type": "code",
   "execution_count": null,
   "metadata": {},
   "outputs": [],
   "source": []
  },
  {
   "cell_type": "code",
   "execution_count": null,
   "metadata": {},
   "outputs": [],
   "source": []
  },
  {
   "cell_type": "code",
   "execution_count": 20,
   "metadata": {},
   "outputs": [],
   "source": [
    "from scipy.special import binom"
   ]
  },
  {
   "cell_type": "code",
   "execution_count": 27,
   "metadata": {},
   "outputs": [
    {
     "name": "stdout",
     "output_type": "stream",
     "text": [
      "5\n",
      "6\n"
     ]
    }
   ],
   "source": [
    "n = 6\n",
    "x = 5\n",
    "\n",
    "p = 0.5\n",
    "P = 0\n",
    "for i in range(x,n+1,1):\n",
    "    print(i)\n",
    "    P += binom(n,i) * p**i * (1-p)**(n-i)"
   ]
  },
  {
   "cell_type": "code",
   "execution_count": 26,
   "metadata": {},
   "outputs": [
    {
     "data": {
      "text/plain": [
       "'h_e + pser__D_e <=> -4.27350427350427e-6*mu CPLX_dummy + h_c + pser__D_c'"
      ]
     },
     "execution_count": 26,
     "metadata": {},
     "output_type": "execute_result"
    }
   ],
   "source": [
    "me.reactions.get_by_id('PSER_Dt6_FWD_CPLX_dummy').reaction"
   ]
  },
  {
   "cell_type": "code",
   "execution_count": 28,
   "metadata": {},
   "outputs": [
    {
     "data": {
      "text/plain": [
       "'D-O-Phosphoserine'"
      ]
     },
     "execution_count": 28,
     "metadata": {},
     "output_type": "execute_result"
    }
   ],
   "source": [
    "me.metabolites.pser__D_e.name"
   ]
  },
  {
   "cell_type": "code",
   "execution_count": 29,
   "metadata": {},
   "outputs": [
    {
     "name": "stdout",
     "output_type": "stream",
     "text": [
      "( EX_pser__D_e 0.0 999999.0 ) \t pser__D_e --> \n",
      "( PSER_Dt6_FWD_CPLX_dummy 0 999999.0 ) \t h_e + pser__D_e <=> -4.27350427350427e-6*mu CPLX_dummy + h_c + pser__D_c\n",
      "( PSER_Dt6_REV_CPLX_dummy 0 999999.0 ) \t h_c + pser__D_c <=> -4.27350427350427e-6*mu CPLX_dummy + h_e + pser__D_e\n"
     ]
    },
    {
     "data": {
      "text/plain": [
       "[<MEReaction EX_pser__D_e at 0x7f40a4898b00>,\n",
       " <MetabolicReaction PSER_Dt6_FWD_CPLX_dummy at 0x7f40a81d2240>,\n",
       " <MetabolicReaction PSER_Dt6_REV_CPLX_dummy at 0x7f40a81d20f0>]"
      ]
     },
     "execution_count": 29,
     "metadata": {},
     "output_type": "execute_result"
    }
   ],
   "source": [
    "get_reactions_of_met(me,'pser__D_e')"
   ]
  },
  {
   "cell_type": "code",
   "execution_count": 31,
   "metadata": {},
   "outputs": [
    {
     "data": {
      "text/plain": [
       "'asp__L_e + h_e <=> -4.27350427350427e-6*mu CPLX_dummy + asp__L_c + h_c'"
      ]
     },
     "execution_count": 31,
     "metadata": {},
     "output_type": "execute_result"
    }
   ],
   "source": [
    "me.reactions.get_by_id('ASPt2r_FWD_CPLX_dummy').reaction"
   ]
  },
  {
   "cell_type": "code",
   "execution_count": 37,
   "metadata": {},
   "outputs": [
    {
     "ename": "KeyError",
     "evalue": "'BSU05620-MONOMER'",
     "output_type": "error",
     "traceback": [
      "\u001b[0;31m---------------------------------------------------------------------------\u001b[0m",
      "\u001b[0;31mKeyError\u001b[0m                                  Traceback (most recent call last)",
      "\u001b[0;32m<ipython-input-37-38875121e1d4>\u001b[0m in \u001b[0;36m<module>\u001b[0;34m\u001b[0m\n\u001b[0;32m----> 1\u001b[0;31m \u001b[0mme\u001b[0m\u001b[0;34m.\u001b[0m\u001b[0mmetabolites\u001b[0m\u001b[0;34m.\u001b[0m\u001b[0mget_by_id\u001b[0m\u001b[0;34m(\u001b[0m\u001b[0;34m'BSU05620-MONOMER'\u001b[0m\u001b[0;34m)\u001b[0m\u001b[0;34m.\u001b[0m\u001b[0mreactions\u001b[0m\u001b[0;34m\u001b[0m\u001b[0m\n\u001b[0m",
      "\u001b[0;32m~/Downloads/cobrapy-0.5.11/cobra/core/DictList.py\u001b[0m in \u001b[0;36mget_by_id\u001b[0;34m(self, id)\u001b[0m\n\u001b[1;32m     54\u001b[0m     \u001b[0;32mdef\u001b[0m \u001b[0mget_by_id\u001b[0m\u001b[0;34m(\u001b[0m\u001b[0mself\u001b[0m\u001b[0;34m,\u001b[0m \u001b[0mid\u001b[0m\u001b[0;34m)\u001b[0m\u001b[0;34m:\u001b[0m\u001b[0;34m\u001b[0m\u001b[0m\n\u001b[1;32m     55\u001b[0m         \u001b[0;34m\"\"\"return the element with a matching id\"\"\"\u001b[0m\u001b[0;34m\u001b[0m\u001b[0m\n\u001b[0;32m---> 56\u001b[0;31m         \u001b[0;32mreturn\u001b[0m \u001b[0mlist\u001b[0m\u001b[0;34m.\u001b[0m\u001b[0m__getitem__\u001b[0m\u001b[0;34m(\u001b[0m\u001b[0mself\u001b[0m\u001b[0;34m,\u001b[0m \u001b[0mself\u001b[0m\u001b[0;34m.\u001b[0m\u001b[0m_dict\u001b[0m\u001b[0;34m[\u001b[0m\u001b[0mid\u001b[0m\u001b[0;34m]\u001b[0m\u001b[0;34m)\u001b[0m\u001b[0;34m\u001b[0m\u001b[0m\n\u001b[0m\u001b[1;32m     57\u001b[0m \u001b[0;34m\u001b[0m\u001b[0m\n\u001b[1;32m     58\u001b[0m     \u001b[0;32mdef\u001b[0m \u001b[0mlist_attr\u001b[0m\u001b[0;34m(\u001b[0m\u001b[0mself\u001b[0m\u001b[0;34m,\u001b[0m \u001b[0mattribute\u001b[0m\u001b[0;34m)\u001b[0m\u001b[0;34m:\u001b[0m\u001b[0;34m\u001b[0m\u001b[0m\n",
      "\u001b[0;31mKeyError\u001b[0m: 'BSU05620-MONOMER'"
     ]
    }
   ],
   "source": [
    "me.metabolites.get_by_id('BSU05620-MONOMER').reactions"
   ]
  },
  {
   "cell_type": "code",
   "execution_count": 35,
   "metadata": {},
   "outputs": [
    {
     "data": {
      "text/plain": [
       "'h_e + pro__L_e <=> -4.27350427350427e-6*mu BSU30530-MONOMER + h_c + pro__L_c'"
      ]
     },
     "execution_count": 35,
     "metadata": {},
     "output_type": "execute_result"
    }
   ],
   "source": [
    "me.reactions.get_by_id('PROt2r_FWD_BSU30530-MONOMER').reaction"
   ]
  },
  {
   "cell_type": "code",
   "execution_count": null,
   "metadata": {},
   "outputs": [],
   "source": []
  }
 ],
 "metadata": {
  "kernelspec": {
   "display_name": "Python 3",
   "language": "python",
   "name": "python3"
  },
  "language_info": {
   "codemirror_mode": {
    "name": "ipython",
    "version": 3
   },
   "file_extension": ".py",
   "mimetype": "text/x-python",
   "name": "python",
   "nbconvert_exporter": "python",
   "pygments_lexer": "ipython3",
   "version": "3.6.3"
  }
 },
 "nbformat": 4,
 "nbformat_minor": 4
}
