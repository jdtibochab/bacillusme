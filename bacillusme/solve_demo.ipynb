{
 "cells": [
  {
   "cell_type": "code",
   "execution_count": 1,
   "metadata": {},
   "outputs": [
    {
     "name": "stderr",
     "output_type": "stream",
     "text": [
      "/home/jt/Downloads/cobrapy-0.5.11/cobra/io/sbml3.py:24: UserWarning: Install lxml for faster SBML I/O\n",
      "  warn(\"Install lxml for faster SBML I/O\")\n",
      "/home/jt/Downloads/cobrapy-0.5.11/cobra/io/__init__.py:12: UserWarning: cobra.io.sbml requires libsbml\n",
      "  warn(\"cobra.io.sbml requires libsbml\")\n"
     ]
    },
    {
     "name": "stdout",
     "output_type": "stream",
     "text": [
      "/home/jt/Downloads/cobrapy-0.5.11/cobra/__init__.py\n",
      "/home/jt/UCSD/cobrame-master/cobrame/__init__.py\n",
      "/home/jt/UCSD/bacillusme-master/bacillusme/__init__.py\n"
     ]
    }
   ],
   "source": [
    "from __future__ import print_function, division, absolute_import\n",
    "\n",
    "import sys\n",
    "\n",
    "import qminospy\n",
    "from qminospy.me2 import ME_NLP\n",
    "\n",
    "# python imports\n",
    "from copy import copy\n",
    "import re\n",
    "from tqdm import tqdm\n",
    "from os.path import join\n",
    "from collections import defaultdict\n",
    "import pickle\n",
    "\n",
    "# third party imports\n",
    "import pandas\n",
    "import cobra\n",
    "\n",
    "# COBRAme\n",
    "import cobrame\n",
    "from cobrame.util import building, mu, me_model_interface\n",
    "from cobrame.io.json import save_json_me_model, save_reduced_json_me_model\n",
    "\n",
    "# ECOLIme\n",
    "import bacillusme\n",
    "from bacillusme import (transcription, translation, flat_files, generics, formulas, compartments)\n",
    "from bacillusme.util.helper_functions import *\n",
    "%load_ext autoreload\n",
    "%autoreload 2\n",
    "print(cobra.__file__)\n",
    "print(cobrame.__file__)\n",
    "print(bacillusme.__file__)"
   ]
  },
  {
   "cell_type": "code",
   "execution_count": 2,
   "metadata": {},
   "outputs": [
    {
     "data": {
      "text/plain": [
       "<Solution 0.12 at 0x7fd1254a7668>"
      ]
     },
     "execution_count": 2,
     "metadata": {},
     "output_type": "execute_result"
    }
   ],
   "source": [
    "eco_directory = join(flat_files.ecoli_files_dir, 'iJO1366.json')\n",
    "ijo_directory = join(flat_files.ecoli_files_dir, 'iYO844.json')\n",
    "uni_directory = join(flat_files.ecoli_files_dir, 'universal_model.json')\n",
    "\n",
    "eco = cobra.io.load_json_model(eco_directory)\n",
    "bsub = cobra.io.load_json_model(ijo_directory)\n",
    "uni = cobra.io.load_json_model(uni_directory)\n",
    "\n",
    "eco.optimize()\n",
    "bsub.optimize()"
   ]
  },
  {
   "cell_type": "code",
   "execution_count": 3,
   "metadata": {},
   "outputs": [],
   "source": [
    "with open('./me_models/iYO844b.pickle', 'rb') as f:\n",
    "    me = pickle.load(f)\n",
    "with open('./me_models/iJL1678b.pickle', 'rb') as f:\n",
    "    ecome = pickle.load(f)"
   ]
  },
  {
   "cell_type": "code",
   "execution_count": null,
   "metadata": {},
   "outputs": [],
   "source": [
    "me.metabolites.mRN"
   ]
  },
  {
   "cell_type": "code",
   "execution_count": null,
   "metadata": {},
   "outputs": [],
   "source": [
    "get_reactions_of_met(me,'mRNA_biomass')"
   ]
  },
  {
   "cell_type": "code",
   "execution_count": null,
   "metadata": {},
   "outputs": [],
   "source": []
  },
  {
   "cell_type": "code",
   "execution_count": null,
   "metadata": {},
   "outputs": [],
   "source": [
    "ecome.metabolites.get_by_id('translation_b4481').reactions"
   ]
  },
  {
   "cell_type": "code",
   "execution_count": null,
   "metadata": {},
   "outputs": [],
   "source": [
    "ecome.reactions.ATPM"
   ]
  },
  {
   "cell_type": "code",
   "execution_count": null,
   "metadata": {},
   "outputs": [],
   "source": []
  },
  {
   "cell_type": "code",
   "execution_count": null,
   "metadata": {},
   "outputs": [],
   "source": [
    "for r in ecome.reactions:\n",
    "    if 'SPONT' in r.id:\n",
    "        print(r.id, r.reaction)"
   ]
  },
  {
   "cell_type": "code",
   "execution_count": 4,
   "metadata": {},
   "outputs": [],
   "source": [
    "with open('./me_models/ecoli_solution.pickle', 'rb') as f:\n",
    "    ecome = pickle.load(f)"
   ]
  },
  {
   "cell_type": "code",
   "execution_count": null,
   "metadata": {
    "scrolled": true
   },
   "outputs": [],
   "source": [
    "pd.DataFrame.from_dict({'price':ecome.solution.y_dict}).hist(bins=100)"
   ]
  },
  {
   "cell_type": "code",
   "execution_count": null,
   "metadata": {
    "scrolled": true
   },
   "outputs": [],
   "source": [
    "solve_me_model(me, max_mu = 0.5, min_mu = .05, using_soplex=False, precision = 1e-6)"
   ]
  },
  {
   "cell_type": "code",
   "execution_count": null,
   "metadata": {
    "scrolled": true
   },
   "outputs": [],
   "source": [
    "solve_me_model(ecome, max_mu = 1., min_mu = .05, using_soplex=False, precision = 1e-6)"
   ]
  },
  {
   "cell_type": "code",
   "execution_count": null,
   "metadata": {},
   "outputs": [],
   "source": [
    "me.solution.y_dict"
   ]
  },
  {
   "cell_type": "code",
   "execution_count": null,
   "metadata": {},
   "outputs": [],
   "source": [
    "me.solution.y_dict"
   ]
  },
  {
   "cell_type": "code",
   "execution_count": null,
   "metadata": {},
   "outputs": [],
   "source": [
    "df = exchange_single_model(ecome)\n",
    "df.to_csv('temp_result.csv')"
   ]
  },
  {
   "cell_type": "code",
   "execution_count": null,
   "metadata": {},
   "outputs": [],
   "source": [
    "with open('./me_models/solution.pickle', 'wb') as solution:\n",
    "    pickle.dump(me,solution)"
   ]
  },
  {
   "cell_type": "code",
   "execution_count": null,
   "metadata": {},
   "outputs": [],
   "source": [
    "with open('./me_models/ecoli_solution.pickle', 'wb') as solution:\n",
    "    pickle.dump(ecome,solution)"
   ]
  },
  {
   "cell_type": "markdown",
   "metadata": {},
   "source": [
    "# Postprocessing"
   ]
  },
  {
   "cell_type": "code",
   "execution_count": null,
   "metadata": {},
   "outputs": [],
   "source": [
    "with open('./me_models/solution.pickle', 'rb') as solution:\n",
    "    me = pickle.load(solution)\n",
    "with open('./me_models/ecoli_solution.pickle', 'rb') as solution:\n",
    "    ecome = pickle.load(solution)"
   ]
  },
  {
   "cell_type": "code",
   "execution_count": null,
   "metadata": {},
   "outputs": [],
   "source": []
  },
  {
   "cell_type": "code",
   "execution_count": null,
   "metadata": {},
   "outputs": [],
   "source": [
    "b"
   ]
  },
  {
   "cell_type": "code",
   "execution_count": null,
   "metadata": {},
   "outputs": [],
   "source": [
    "me.solution"
   ]
  },
  {
   "cell_type": "code",
   "execution_count": null,
   "metadata": {},
   "outputs": [],
   "source": [
    "# Exchange\n",
    "df_m = exchange_single_model(bsub)\n",
    "df = exchange_single_model(me)\n",
    "df.join(df_m['flux'],lsuffix='_me',rsuffix='_m')"
   ]
  },
  {
   "cell_type": "code",
   "execution_count": null,
   "metadata": {},
   "outputs": [],
   "source": [
    "# Solution summary\n",
    "summary_df = solution_summary(me)\n",
    "summary_m_df = solution_summary(bsub)\n",
    "summary_df.to_csv('./solution_summary.csv')"
   ]
  },
  {
   "cell_type": "code",
   "execution_count": null,
   "metadata": {},
   "outputs": [],
   "source": [
    "summary_df = solution_summary(me)"
   ]
  },
  {
   "cell_type": "markdown",
   "metadata": {},
   "source": [
    "## Compare M/ME with ecoli"
   ]
  },
  {
   "cell_type": "code",
   "execution_count": null,
   "metadata": {},
   "outputs": [],
   "source": [
    "_,rxn_id_dict = homogenize_reactions(model=bsub,ref_model=eco)"
   ]
  },
  {
   "cell_type": "code",
   "execution_count": null,
   "metadata": {},
   "outputs": [],
   "source": [
    "# M - ME comparison of metabolic fluxes in Bacillus\n",
    "flux_dict = me.get_metabolic_flux()\n",
    "me_flux_df = pd.DataFrame.from_dict({'flux':flux_dict}).rename(index=rxn_id_dict)\n",
    "comparison_df = summary_m_df.join(me_flux_df,lsuffix='_m',rsuffix='_me')\n",
    "comparison_df[abs(comparison_df.flux_m)>0]"
   ]
  },
  {
   "cell_type": "code",
   "execution_count": null,
   "metadata": {},
   "outputs": [],
   "source": [
    "# M - ME comparison of metabolic fluxes in E. coli\n",
    "summary_df_ecoli = solution_summary(ecome)\n",
    "summary_m_df_ecoli = solution_summary(eco)\n",
    "\n",
    "flux_dict_ecoli = ecome.get_metabolic_flux()\n",
    "comparison_df_ecoli = summary_m_df_ecoli.join(\\\n",
    "                    pd.DataFrame.from_dict({'flux':flux_dict_ecoli}),lsuffix='_m',rsuffix='_me')"
   ]
  },
  {
   "cell_type": "code",
   "execution_count": null,
   "metadata": {},
   "outputs": [],
   "source": [
    "summary_m_df[summary_m_df.flux > 0]"
   ]
  },
  {
   "cell_type": "code",
   "execution_count": null,
   "metadata": {},
   "outputs": [],
   "source": [
    "import matplotlib.pyplot as plt\n",
    "threshold = 100\n",
    "temp_df = comparison_df[abs(comparison_df.flux_m)<threshold]\n",
    "temp_df_ecoli = comparison_df_ecoli[abs(comparison_df_ecoli.flux_m)<threshold]\n",
    "\n",
    "plt.figure(figsize=(10,4))\n",
    "plt.subplot(1,2,1)\n",
    "plt.scatter(temp_df['flux_m'],temp_df['flux_me'])\n",
    "plt.xlabel('M simulation')\n",
    "plt.ylabel('ME simulation')\n",
    "plt.title('Bacillus')\n",
    "\n",
    "plt.subplot(1,2,2)\n",
    "plt.scatter(temp_df_ecoli['flux_m'],temp_df_ecoli['flux_me'])\n",
    "plt.xlabel('M simulation')\n",
    "plt.ylabel('ME simulation')\n",
    "plt.title('E. coli')\n"
   ]
  },
  {
   "cell_type": "code",
   "execution_count": null,
   "metadata": {},
   "outputs": [],
   "source": [
    "# Store results to visualize in Escher\n",
    "comparison_df['flux_m'].to_csv('fluxdist_m_bsub.csv',header=False)\n",
    "comparison_df['flux_me'].to_csv('fluxdist_me_bsub.csv',header=False)\n",
    "\n",
    "comparison_df_ecoli['flux_m'].to_csv('fluxdist_m_ecoli.csv',header=False)\n",
    "comparison_df_ecoli['flux_me'].to_csv('fluxdist_me_ecoli.csv',header=False)"
   ]
  },
  {
   "cell_type": "code",
   "execution_count": 15,
   "metadata": {},
   "outputs": [],
   "source": [
    "with open('./me_models/ecoli_solution.pickle', 'rb') as f:\n",
    "    ecome = pickle.load(f)"
   ]
  },
  {
   "cell_type": "code",
   "execution_count": null,
   "metadata": {},
   "outputs": [],
   "source": []
  },
  {
   "cell_type": "code",
   "execution_count": 128,
   "metadata": {},
   "outputs": [],
   "source": [
    "aminoacids = [m.id for m in bsub.metabolites if '__L_c' in m.id and len(m.id) == 8]\n",
    "all_mets = [m.id for m in bsub.metabolites]\n",
    "\n",
    "sp_dict = {}\n",
    "for aa in aminoacids:\n",
    "    idx = all_mets.index(aa)\n",
    "    sp = bsub.solution.y[idx]\n",
    "    sp_dict[aa] = sp"
   ]
  },
  {
   "cell_type": "code",
   "execution_count": 132,
   "metadata": {},
   "outputs": [
    {
     "data": {
      "text/html": [
       "<div>\n",
       "<style scoped>\n",
       "    .dataframe tbody tr th:only-of-type {\n",
       "        vertical-align: middle;\n",
       "    }\n",
       "\n",
       "    .dataframe tbody tr th {\n",
       "        vertical-align: top;\n",
       "    }\n",
       "\n",
       "    .dataframe thead th {\n",
       "        text-align: right;\n",
       "    }\n",
       "</style>\n",
       "<table border=\"1\" class=\"dataframe\">\n",
       "  <thead>\n",
       "    <tr style=\"text-align: right;\">\n",
       "      <th></th>\n",
       "      <th>sp</th>\n",
       "    </tr>\n",
       "  </thead>\n",
       "  <tbody>\n",
       "    <tr>\n",
       "      <th>trp__L_c</th>\n",
       "      <td>-0.195683</td>\n",
       "    </tr>\n",
       "    <tr>\n",
       "      <th>phe__L_c</th>\n",
       "      <td>-0.156732</td>\n",
       "    </tr>\n",
       "    <tr>\n",
       "      <th>tyr__L_c</th>\n",
       "      <td>-0.150240</td>\n",
       "    </tr>\n",
       "    <tr>\n",
       "      <th>met__L_c</th>\n",
       "      <td>-0.117781</td>\n",
       "    </tr>\n",
       "    <tr>\n",
       "      <th>ile__L_c</th>\n",
       "      <td>-0.113144</td>\n",
       "    </tr>\n",
       "    <tr>\n",
       "      <th>lys__L_c</th>\n",
       "      <td>-0.106652</td>\n",
       "    </tr>\n",
       "    <tr>\n",
       "      <th>leu__L_c</th>\n",
       "      <td>-0.103870</td>\n",
       "    </tr>\n",
       "    <tr>\n",
       "      <th>arg__L_c</th>\n",
       "      <td>-0.103870</td>\n",
       "    </tr>\n",
       "    <tr>\n",
       "      <th>his__L_c</th>\n",
       "      <td>-0.102942</td>\n",
       "    </tr>\n",
       "    <tr>\n",
       "      <th>srb__L_c</th>\n",
       "      <td>-0.090886</td>\n",
       "    </tr>\n",
       "    <tr>\n",
       "      <th>orn__L_c</th>\n",
       "      <td>-0.083467</td>\n",
       "    </tr>\n",
       "    <tr>\n",
       "      <th>pro__L_c</th>\n",
       "      <td>-0.083467</td>\n",
       "    </tr>\n",
       "    <tr>\n",
       "      <th>val__L_c</th>\n",
       "      <td>-0.082539</td>\n",
       "    </tr>\n",
       "    <tr>\n",
       "      <th>abt__L_c</th>\n",
       "      <td>-0.080685</td>\n",
       "    </tr>\n",
       "    <tr>\n",
       "      <th>rbl__L_c</th>\n",
       "      <td>-0.074193</td>\n",
       "    </tr>\n",
       "    <tr>\n",
       "      <th>gln__L_c</th>\n",
       "      <td>-0.071410</td>\n",
       "    </tr>\n",
       "    <tr>\n",
       "      <th>cys__L_c</th>\n",
       "      <td>-0.071410</td>\n",
       "    </tr>\n",
       "    <tr>\n",
       "      <th>glu__L_c</th>\n",
       "      <td>-0.067701</td>\n",
       "    </tr>\n",
       "    <tr>\n",
       "      <th>thr__L_c</th>\n",
       "      <td>-0.065846</td>\n",
       "    </tr>\n",
       "    <tr>\n",
       "      <th>hom__L_c</th>\n",
       "      <td>-0.062136</td>\n",
       "    </tr>\n",
       "    <tr>\n",
       "      <th>asn__L_c</th>\n",
       "      <td>-0.057499</td>\n",
       "    </tr>\n",
       "    <tr>\n",
       "      <th>asp__L_c</th>\n",
       "      <td>-0.046370</td>\n",
       "    </tr>\n",
       "    <tr>\n",
       "      <th>mal__L_c</th>\n",
       "      <td>-0.046370</td>\n",
       "    </tr>\n",
       "    <tr>\n",
       "      <th>ala__L_c</th>\n",
       "      <td>-0.041733</td>\n",
       "    </tr>\n",
       "    <tr>\n",
       "      <th>lac__L_c</th>\n",
       "      <td>-0.041733</td>\n",
       "    </tr>\n",
       "    <tr>\n",
       "      <th>ser__L_c</th>\n",
       "      <td>-0.038951</td>\n",
       "    </tr>\n",
       "  </tbody>\n",
       "</table>\n",
       "</div>"
      ],
      "text/plain": [
       "                sp\n",
       "trp__L_c -0.195683\n",
       "phe__L_c -0.156732\n",
       "tyr__L_c -0.150240\n",
       "met__L_c -0.117781\n",
       "ile__L_c -0.113144\n",
       "lys__L_c -0.106652\n",
       "leu__L_c -0.103870\n",
       "arg__L_c -0.103870\n",
       "his__L_c -0.102942\n",
       "srb__L_c -0.090886\n",
       "orn__L_c -0.083467\n",
       "pro__L_c -0.083467\n",
       "val__L_c -0.082539\n",
       "abt__L_c -0.080685\n",
       "rbl__L_c -0.074193\n",
       "gln__L_c -0.071410\n",
       "cys__L_c -0.071410\n",
       "glu__L_c -0.067701\n",
       "thr__L_c -0.065846\n",
       "hom__L_c -0.062136\n",
       "asn__L_c -0.057499\n",
       "asp__L_c -0.046370\n",
       "mal__L_c -0.046370\n",
       "ala__L_c -0.041733\n",
       "lac__L_c -0.041733\n",
       "ser__L_c -0.038951"
      ]
     },
     "execution_count": 132,
     "metadata": {},
     "output_type": "execute_result"
    }
   ],
   "source": [
    "pd.DataFrame.from_dict({'sp':sp_dict}).sort_values(by='sp')"
   ]
  },
  {
   "cell_type": "code",
   "execution_count": null,
   "metadata": {},
   "outputs": [],
   "source": []
  }
 ],
 "metadata": {
  "kernelspec": {
   "display_name": "Python 3",
   "language": "python",
   "name": "python3"
  },
  "language_info": {
   "codemirror_mode": {
    "name": "ipython",
    "version": 3
   },
   "file_extension": ".py",
   "mimetype": "text/x-python",
   "name": "python",
   "nbconvert_exporter": "python",
   "pygments_lexer": "ipython3",
   "version": "3.6.3"
  }
 },
 "nbformat": 4,
 "nbformat_minor": 4
}
