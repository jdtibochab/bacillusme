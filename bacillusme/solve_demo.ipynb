{
 "cells": [
  {
   "cell_type": "code",
   "execution_count": 1,
   "metadata": {},
   "outputs": [
    {
     "name": "stderr",
     "output_type": "stream",
     "text": [
      "/home/jt/Downloads/cobrapy-0.5.11/cobra/io/sbml3.py:24: UserWarning: Install lxml for faster SBML I/O\n",
      "  warn(\"Install lxml for faster SBML I/O\")\n",
      "/home/jt/Downloads/cobrapy-0.5.11/cobra/io/__init__.py:12: UserWarning: cobra.io.sbml requires libsbml\n",
      "  warn(\"cobra.io.sbml requires libsbml\")\n"
     ]
    },
    {
     "name": "stdout",
     "output_type": "stream",
     "text": [
      "/home/jt/Downloads/cobrapy-0.5.11/cobra/__init__.py\n",
      "/home/jt/UCSD/cobrame-master/cobrame/__init__.py\n",
      "/home/jt/UCSD/bacillusme-master/bacillusme/__init__.py\n"
     ]
    }
   ],
   "source": [
    "from __future__ import print_function, division, absolute_import\n",
    "\n",
    "import sys\n",
    "\n",
    "import qminospy\n",
    "from qminospy.me2 import ME_NLP\n",
    "\n",
    "# python imports\n",
    "from copy import copy\n",
    "import re\n",
    "from tqdm import tqdm\n",
    "from os.path import join\n",
    "from collections import defaultdict\n",
    "import pickle\n",
    "\n",
    "# third party imports\n",
    "import pandas\n",
    "import cobra\n",
    "\n",
    "# COBRAme\n",
    "import cobrame\n",
    "from cobrame.util import building, mu, me_model_interface\n",
    "from cobrame.io.json import save_json_me_model, save_reduced_json_me_model\n",
    "\n",
    "# ECOLIme\n",
    "import bacillusme\n",
    "from bacillusme import (transcription, translation, flat_files, generics, formulas, compartments)\n",
    "from bacillusme.util.helper_functions import *\n",
    "%load_ext autoreload\n",
    "%autoreload 2\n",
    "print(cobra.__file__)\n",
    "print(cobrame.__file__)\n",
    "print(bacillusme.__file__)"
   ]
  },
  {
   "cell_type": "code",
   "execution_count": 2,
   "metadata": {},
   "outputs": [
    {
     "data": {
      "text/plain": [
       "<Solution 0.12 at 0x7f9232912390>"
      ]
     },
     "execution_count": 2,
     "metadata": {},
     "output_type": "execute_result"
    }
   ],
   "source": [
    "eco_directory = join(flat_files.ecoli_files_dir, 'iJO1366.json')\n",
    "ijo_directory = join(flat_files.ecoli_files_dir, 'iYO844.json')\n",
    "uni_directory = join(flat_files.ecoli_files_dir, 'universal_model.json')\n",
    "\n",
    "eco = cobra.io.load_json_model(eco_directory)\n",
    "bsub = cobra.io.load_json_model(ijo_directory)\n",
    "uni = cobra.io.load_json_model(uni_directory)\n",
    "\n",
    "eco.optimize()\n",
    "bsub.optimize()"
   ]
  },
  {
   "cell_type": "code",
   "execution_count": 3,
   "metadata": {},
   "outputs": [],
   "source": [
    "with open('./me_models/iYO844b.pickle', 'rb') as f:\n",
    "    me = pickle.load(f)\n",
    "with open('./me_models/final/iJL1678b.pickle', 'rb') as f:\n",
    "    ecome = pickle.load(f)"
   ]
  },
  {
   "cell_type": "code",
   "execution_count": null,
   "metadata": {},
   "outputs": [],
   "source": [
    "me.metabolites.mRN"
   ]
  },
  {
   "cell_type": "code",
   "execution_count": 4,
   "metadata": {},
   "outputs": [
    {
     "name": "stdout",
     "output_type": "stream",
     "text": [
      "( translation_BSU33940 0.0 1000.0 ) \t 10fthf_c + 39 ala__L_c + 11 arg__L_c + 26 asn__L_c + 21 asp__L_c + 2 cys__L_c + 23.0 generic_tRNA_AAA_lys__L_c + 25.0 generic_tRNA_AAC_asn__L_c + generic_tRNA_AAU_asn__L_c + 12.0 generic_tRNA_ACA_thr__L_c + 4.0 generic_tRNA_ACU_thr__L_c + 4.0 generic_tRNA_AGC_ser__L_c + 14.0 generic_tRNA_AUC_ile__L_c + 8.0 generic_tRNA_AUG_met__L_c + 3.0 generic_tRNA_AUU_ile__L_c + 4.0 generic_tRNA_CAA_gln__L_c + 6.0 generic_tRNA_CAC_his__L_c + generic_tRNA_CAG_gln__L_c + 4.0 generic_tRNA_CCA_pro__L_c + 2.0 generic_tRNA_CCG_pro__L_c + 4.0 generic_tRNA_CCU_pro__L_c + 5.0 generic_tRNA_CGC_arg__L_c + 6.0 generic_tRNA_CGU_arg__L_c + 3.0 generic_tRNA_CUA_leu__L_c + 3.0 generic_tRNA_CUG_leu__L_c + 14.0 generic_tRNA_CUU_leu__L_c + 21.0 generic_tRNA_GAA_glu__L_c + 8.0 generic_tRNA_GAC_asp__L_c + 2.0 generic_tRNA_GAG_glu__L_c + 13.0 generic_tRNA_GAU_asp__L_c + 14.0 generic_tRNA_GCA_ala__L_c + 7.0 generic_tRNA_GCG_ala__L_c + 18.0 generic_tRNA_GCU_ala__L_c + 5.0 generic_tRNA_GGA_gly_c + 11.0 generic_tRNA_GGC_gly_c + 10.0 generic_tRNA_GGU_gly_c + 12.0 generic_tRNA_GUA_val__L_c + generic_tRNA_GUC_val__L_c + 23.0 generic_tRNA_GUU_val__L_c + generic_tRNA_START_met__L_c + 8.0 generic_tRNA_UAC_tyr__L_c + generic_tRNA_UAU_tyr__L_c + 2.0 generic_tRNA_UCA_ser__L_c + 15.0 generic_tRNA_UCU_ser__L_c + 2.0 generic_tRNA_UGC_cys__L_c + 2.0 generic_tRNA_UGG_trp__L_c + 6.0 generic_tRNA_UUA_leu__L_c + 4.0 generic_tRNA_UUC_phe__L_c + generic_tRNA_UUG_leu__L_c + 2.0 generic_tRNA_UUU_phe__L_c + 5 gln__L_c + 23 glu__L_c + 26 gly_c + 670.0 gtp_c + 6 his__L_c + 17 ile__L_c + 27 leu__L_c + 23 lys__L_c + 8.0 met__L_c + 6 phe__L_c + 10 pro__L_c + 21 ser__L_c + 16 thr__L_c + 2 trp__L_c + 9 tyr__L_c + 36 val__L_c --> -0.00142735042735043*mu BSU01120-MONOMER + -4.27350427350427e-6*mu BSU01380-MONOMER + -4.27350427350427e-6*mu BSU01390-MONOMER + -4.27350427350427e-6*mu BSU15720-MONOMER + -4.27350427350427e-6*mu BSU15730-MONOMER + -0.00142735042735043*mu BSU16500-MONOMER + -4.27350427350427e-6*mu BSU16520-MONOMER + -8.54700854700855e-6*mu BSU16630-MONOMER + -4.27350427350427e-6*mu BSU28870-MONOMER + -4.27350427350427e-6*mu BSU35290-MONOMER + -4.27350427350427e-6*mu CPLX8J2-24 + -0.000498399634202103*mu - 0.000195123456790123 - 0.00598079561042524*(mu + 0.3915)/mu RNA_BSU33940 + -2.55589556001079e-8*mu - 1.00063311174422e-8 RNA_degradosome + 7.0 + 1.50566529492455*(mu + 0.3915)/mu adp_c + 334.0 + 1.51314128943759*(mu + 0.3915)/mu amp_c + -341.0 - 1.50566529492455*(mu + 0.3915)/mu atp_c + 1.29783264746228*(mu + 0.3915)/mu cmp_c + for_c + 670.0 gdp_c + -4.27350427350427e-6*mu generic_RF + -0.00142735042735043*mu generic_Tuf + 1.3277366255144*(mu + 0.3915)/mu gmp_c + -679.0 - 1.50566529492455*(mu + 0.3915)/mu h2o_c + 1012.0 + 1.50566529492455*(mu + 0.3915)/mu h_c + -1.92510728804455*(mu + 0.3915)/mu mRNA_biomass + 677.0 + 1.50566529492455*(mu + 0.3915)/mu pi_c + 334.0 ppi_c + protein_BSU33940 + 35.690888660000006 protein_biomass + -0.00480276821901048*mu - 0.0018802837577426 ribosome + thf_c + 1.88993141289438*(mu + 0.3915)/mu ump_c\n",
      "( transcription_TU8J2_446_from_BSU25200-MONOMER 0.0 1000.0 ) \t 1711.0 atp_c + 1724 ctp_c + 1592 gtp_c + 3.0 h2o_c + 2196 utp_c --> -4.27350427350427e-6*mu BSU00550-MONOMER + -4.27350427350427e-6*mu BSU01010-MONOMER + -4.27350427350427e-6*mu BSU16600-MONOMER + -4.27350427350427e-6*mu BSU27320-MONOMER + -4.27350427350427e-6*mu BSU37080-MONOMER + -4.27350427350427e-6*mu CPLX8J2-30 + -0.0345034691952792*mu - 0.0135081081899518 CPLX8J2-52 + RNA_BSU33900 + RNA_BSU33910 + RNA_BSU33920 + RNA_BSU33930 + RNA_BSU33940 + 3.0 adp_c + 3.0 h_c + 1845.681460944 mRNA_biomass + 3.0 pi_c + 7220 ppi_c\n",
      "( DM_RNA_BSU33940 0.0 1000.0 ) \t RNA_BSU33940 + 321.881470868 mRNA_biomass --> \n"
     ]
    },
    {
     "data": {
      "text/plain": [
       "[<TranslationReaction translation_BSU33940 at 0x7f922a1236a0>,\n",
       " <TranscriptionReaction transcription_TU8J2_446_from_BSU25200-MONOMER at 0x7f922db8c5c0>,\n",
       " <MEReaction DM_RNA_BSU33940 at 0x7f92298ccef0>]"
      ]
     },
     "execution_count": 4,
     "metadata": {},
     "output_type": "execute_result"
    }
   ],
   "source": [
    "get_reactions_of_met(me,'RNA_BSU33940')"
   ]
  },
  {
   "cell_type": "code",
   "execution_count": null,
   "metadata": {},
   "outputs": [],
   "source": [
    "ecome.metabolites.get_by_id('translation_b4481').reactions"
   ]
  },
  {
   "cell_type": "code",
   "execution_count": null,
   "metadata": {},
   "outputs": [],
   "source": [
    "ecome.reactions.ATPM"
   ]
  },
  {
   "cell_type": "code",
   "execution_count": null,
   "metadata": {},
   "outputs": [],
   "source": []
  },
  {
   "cell_type": "code",
   "execution_count": null,
   "metadata": {},
   "outputs": [],
   "source": [
    "for r in ecome.reactions:\n",
    "    if 'SPONT' in r.id:\n",
    "        print(r.id, r.reaction)"
   ]
  },
  {
   "cell_type": "code",
   "execution_count": null,
   "metadata": {},
   "outputs": [],
   "source": [
    "with open('./me_models/ecoli_solution.pickle', 'rb') as f:\n",
    "    ecome = pickle.load(f)"
   ]
  },
  {
   "cell_type": "code",
   "execution_count": null,
   "metadata": {
    "scrolled": true
   },
   "outputs": [],
   "source": [
    "pd.DataFrame.from_dict({'price':ecome.solution.y_dict}).hist(bins=100)"
   ]
  },
  {
   "cell_type": "code",
   "execution_count": null,
   "metadata": {
    "scrolled": true
   },
   "outputs": [],
   "source": [
    "solve_me_model(me, max_mu = 0.5, min_mu = .05, using_soplex=False, precision = 1e-6)"
   ]
  },
  {
   "cell_type": "code",
   "execution_count": null,
   "metadata": {
    "scrolled": true
   },
   "outputs": [],
   "source": [
    "solve_me_model(ecome, max_mu = 1., min_mu = .05, using_soplex=False, precision = 1e-6)"
   ]
  },
  {
   "cell_type": "code",
   "execution_count": null,
   "metadata": {},
   "outputs": [],
   "source": [
    "me.solution.y_dict"
   ]
  },
  {
   "cell_type": "code",
   "execution_count": null,
   "metadata": {},
   "outputs": [],
   "source": [
    "me.solution.y_dict"
   ]
  },
  {
   "cell_type": "code",
   "execution_count": null,
   "metadata": {},
   "outputs": [],
   "source": [
    "df = exchange_single_model(ecome)\n",
    "df.to_csv('temp_result.csv')"
   ]
  },
  {
   "cell_type": "code",
   "execution_count": null,
   "metadata": {},
   "outputs": [],
   "source": [
    "with open('./me_models/solution.pickle', 'wb') as solution:\n",
    "    pickle.dump(me,solution)"
   ]
  },
  {
   "cell_type": "code",
   "execution_count": null,
   "metadata": {},
   "outputs": [],
   "source": [
    "with open('./me_models/ecoli_solution.pickle', 'wb') as solution:\n",
    "    pickle.dump(ecome,solution)"
   ]
  },
  {
   "cell_type": "markdown",
   "metadata": {},
   "source": [
    "# Postprocessing"
   ]
  },
  {
   "cell_type": "code",
   "execution_count": null,
   "metadata": {},
   "outputs": [],
   "source": [
    "with open('./me_models/solution.pickle', 'rb') as solution:\n",
    "    me = pickle.load(solution)\n",
    "with open('./me_models/ecoli_solution.pickle', 'rb') as solution:\n",
    "    ecome = pickle.load(solution)"
   ]
  },
  {
   "cell_type": "code",
   "execution_count": null,
   "metadata": {},
   "outputs": [],
   "source": []
  },
  {
   "cell_type": "code",
   "execution_count": null,
   "metadata": {},
   "outputs": [],
   "source": [
    "b"
   ]
  },
  {
   "cell_type": "code",
   "execution_count": null,
   "metadata": {},
   "outputs": [],
   "source": [
    "me.solution"
   ]
  },
  {
   "cell_type": "code",
   "execution_count": null,
   "metadata": {},
   "outputs": [],
   "source": [
    "# Exchange\n",
    "df_m = exchange_single_model(bsub)\n",
    "df = exchange_single_model(me)\n",
    "df.join(df_m['flux'],lsuffix='_me',rsuffix='_m')"
   ]
  },
  {
   "cell_type": "code",
   "execution_count": null,
   "metadata": {},
   "outputs": [],
   "source": [
    "# Solution summary\n",
    "summary_df = solution_summary(me)\n",
    "summary_m_df = solution_summary(bsub)\n",
    "summary_df.to_csv('./solution_summary.csv')"
   ]
  },
  {
   "cell_type": "code",
   "execution_count": null,
   "metadata": {},
   "outputs": [],
   "source": [
    "summary_df = solution_summary(me)"
   ]
  },
  {
   "cell_type": "markdown",
   "metadata": {},
   "source": [
    "## Compare M/ME with ecoli"
   ]
  },
  {
   "cell_type": "code",
   "execution_count": null,
   "metadata": {},
   "outputs": [],
   "source": [
    "_,rxn_id_dict = homogenize_reactions(model=bsub,ref_model=eco)"
   ]
  },
  {
   "cell_type": "code",
   "execution_count": null,
   "metadata": {},
   "outputs": [],
   "source": [
    "# M - ME comparison of metabolic fluxes in Bacillus\n",
    "flux_dict = me.get_metabolic_flux()\n",
    "me_flux_df = pd.DataFrame.from_dict({'flux':flux_dict}).rename(index=rxn_id_dict)\n",
    "comparison_df = summary_m_df.join(me_flux_df,lsuffix='_m',rsuffix='_me')\n",
    "comparison_df[abs(comparison_df.flux_m)>0]"
   ]
  },
  {
   "cell_type": "code",
   "execution_count": null,
   "metadata": {},
   "outputs": [],
   "source": [
    "# M - ME comparison of metabolic fluxes in E. coli\n",
    "summary_df_ecoli = solution_summary(ecome)\n",
    "summary_m_df_ecoli = solution_summary(eco)\n",
    "\n",
    "flux_dict_ecoli = ecome.get_metabolic_flux()\n",
    "comparison_df_ecoli = summary_m_df_ecoli.join(\\\n",
    "                    pd.DataFrame.from_dict({'flux':flux_dict_ecoli}),lsuffix='_m',rsuffix='_me')"
   ]
  },
  {
   "cell_type": "code",
   "execution_count": null,
   "metadata": {},
   "outputs": [],
   "source": [
    "summary_m_df[summary_m_df.flux > 0]"
   ]
  },
  {
   "cell_type": "code",
   "execution_count": null,
   "metadata": {},
   "outputs": [],
   "source": [
    "import matplotlib.pyplot as plt\n",
    "threshold = 100\n",
    "temp_df = comparison_df[abs(comparison_df.flux_m)<threshold]\n",
    "temp_df_ecoli = comparison_df_ecoli[abs(comparison_df_ecoli.flux_m)<threshold]\n",
    "\n",
    "plt.figure(figsize=(10,4))\n",
    "plt.subplot(1,2,1)\n",
    "plt.scatter(temp_df['flux_m'],temp_df['flux_me'])\n",
    "plt.xlabel('M simulation')\n",
    "plt.ylabel('ME simulation')\n",
    "plt.title('Bacillus')\n",
    "\n",
    "plt.subplot(1,2,2)\n",
    "plt.scatter(temp_df_ecoli['flux_m'],temp_df_ecoli['flux_me'])\n",
    "plt.xlabel('M simulation')\n",
    "plt.ylabel('ME simulation')\n",
    "plt.title('E. coli')\n"
   ]
  },
  {
   "cell_type": "code",
   "execution_count": null,
   "metadata": {},
   "outputs": [],
   "source": [
    "# Store results to visualize in Escher\n",
    "comparison_df['flux_m'].to_csv('fluxdist_m_bsub.csv',header=False)\n",
    "comparison_df['flux_me'].to_csv('fluxdist_me_bsub.csv',header=False)\n",
    "\n",
    "comparison_df_ecoli['flux_m'].to_csv('fluxdist_m_ecoli.csv',header=False)\n",
    "comparison_df_ecoli['flux_me'].to_csv('fluxdist_me_ecoli.csv',header=False)"
   ]
  },
  {
   "cell_type": "code",
   "execution_count": null,
   "metadata": {},
   "outputs": [],
   "source": []
  }
 ],
 "metadata": {
  "kernelspec": {
   "display_name": "Python 3",
   "language": "python",
   "name": "python3"
  },
  "language_info": {
   "codemirror_mode": {
    "name": "ipython",
    "version": 3
   },
   "file_extension": ".py",
   "mimetype": "text/x-python",
   "name": "python",
   "nbconvert_exporter": "python",
   "pygments_lexer": "ipython3",
   "version": "3.6.3"
  }
 },
 "nbformat": 4,
 "nbformat_minor": 4
}
