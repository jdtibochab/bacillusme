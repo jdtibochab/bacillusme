{
 "cells": [
  {
   "cell_type": "code",
   "execution_count": 3,
   "metadata": {},
   "outputs": [],
   "source": [
    "import qminospy\n",
    "from qminospy.me2 import ME_NLP\n",
    "import cobra\n",
    "import cobrame\n",
    "import pickle"
   ]
  },
  {
   "cell_type": "code",
   "execution_count": 2,
   "metadata": {},
   "outputs": [],
   "source": [
    "with open('./me_models/final/iJT964-ME.pickle', 'rb') as f:\n",
    "    me = pickle.load(f)"
   ]
  },
  {
   "cell_type": "code",
   "execution_count": 3,
   "metadata": {},
   "outputs": [],
   "source": [
    "def solve_me_model(me, max_mu=1., precision=1e-6, min_mu=0, using_soplex=True,\n",
    "                  compiled_expressions=None, verbosity = 2, mu_fix = False,\n",
    "                  growth_key='mu'):\n",
    "    from qminospy.me1 import ME_NLP1\n",
    "    ## If fixed growth rate, solve as LP\n",
    "    if mu_fix:\n",
    "        me_nlp = ME_NLP1(me)\n",
    "        me_nlp.solvelp(mu_fix)\n",
    "    else:\n",
    "        ## \n",
    "        if using_soplex:\n",
    "            from cobrame.solve.algorithms import binary_search\n",
    "            binary_search(me, min_mu=min_mu, max_mu=max_mu, debug=True, mu_accuracy=precision,\n",
    "                compiled_expressions=compiled_expressions)\n",
    "        else:\n",
    "            # The object containing solveME methods--composite that uses a ME model object \n",
    "            me_nlp = ME_NLP1(me, growth_key=growth_key)\n",
    "            # Use bisection for now (until the NLP formulation is worked out)\n",
    "            muopt, hs, xopt, cache = me_nlp.bisectmu(precision=precision, mumax=max_mu, verbosity=verbosity)\n",
    "            try:\n",
    "                me.solution.f = me.solution.x_dict['biomass_dilution']\n",
    "            except:\n",
    "                pass\n"
   ]
  },
  {
   "cell_type": "code",
   "execution_count": 4,
   "metadata": {
    "scrolled": true,
    "tags": []
   },
   "outputs": [
    {
     "name": "stdout",
     "output_type": "stream",
     "text": [
      "iter\tmuopt    \ta     \tb     \tmu1       \tstat1\n",
      "Finished compiling expressions in 446.844793 seconds\n",
      "Finished substituting S,lb,ub in 21.284753 seconds\n",
      "Finished makeME_LP in 2.056098 seconds\n",
      "Getting MINOS parameters from ME_NLP...\n",
      "1 0.25 0.25 0.5 0.25 optimal\n",
      "Finished substituting S,lb,ub in 20.198956 seconds\n",
      "Finished makeME_LP in 1.892232 seconds\n",
      "Getting MINOS parameters from ME_NLP...\n",
      "2 0.375 0.375 0.5 0.375 optimal\n",
      "Finished substituting S,lb,ub in 21.938123 seconds\n",
      "Finished makeME_LP in 1.939557 seconds\n",
      "Getting MINOS parameters from ME_NLP...\n",
      "3 0.4375 0.4375 0.5 0.4375 optimal\n",
      "Finished substituting S,lb,ub in 21.222908 seconds\n",
      "Finished makeME_LP in 1.975572 seconds\n",
      "Getting MINOS parameters from ME_NLP...\n",
      "4 0.46875 0.46875 0.5 0.46875 optimal\n",
      "Finished substituting S,lb,ub in 21.211153 seconds\n",
      "Finished makeME_LP in 2.014178 seconds\n",
      "Getting MINOS parameters from ME_NLP...\n",
      "5 0.484375 0.484375 0.5 0.484375 optimal\n",
      "Finished substituting S,lb,ub in 21.179812 seconds\n",
      "Finished makeME_LP in 2.063730 seconds\n",
      "Getting MINOS parameters from ME_NLP...\n",
      "6 0.4921875 0.4921875 0.5 0.4921875 optimal\n",
      "Bisection done in 758.459 seconds\n"
     ]
    }
   ],
   "source": [
    "solve_me_model(me, max_mu = 0.5, min_mu = .05, using_soplex=False, precision = 1e-2)"
   ]
  },
  {
   "cell_type": "code",
   "execution_count": null,
   "metadata": {},
   "outputs": [],
   "source": []
  }
 ],
 "metadata": {
  "kernelspec": {
   "display_name": "me_modeling",
   "language": "python",
   "name": "me_modeling"
  },
  "language_info": {
   "codemirror_mode": {
    "name": "ipython",
    "version": 3
   },
   "file_extension": ".py",
   "mimetype": "text/x-python",
   "name": "python",
   "nbconvert_exporter": "python",
   "pygments_lexer": "ipython3",
   "version": "3.6.8"
  }
 },
 "nbformat": 4,
 "nbformat_minor": 4
}
