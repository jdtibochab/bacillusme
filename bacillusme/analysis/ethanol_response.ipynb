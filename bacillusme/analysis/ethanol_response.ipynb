{
 "cells": [
  {
   "cell_type": "markdown",
   "metadata": {},
   "source": [
    "# Ethanol uptake triggers upregulation of tryptophan synthesis "
   ]
  },
  {
   "cell_type": "code",
   "execution_count": 2,
   "metadata": {},
   "outputs": [
    {
     "name": "stderr",
     "output_type": "stream",
     "text": [
      "/home/jt/Downloads/cobrapy-0.5.11/cobra/io/sbml3.py:24: UserWarning: Install lxml for faster SBML I/O\n",
      "  warn(\"Install lxml for faster SBML I/O\")\n",
      "/home/jt/Downloads/cobrapy-0.5.11/cobra/io/__init__.py:12: UserWarning: cobra.io.sbml requires libsbml\n",
      "  warn(\"cobra.io.sbml requires libsbml\")\n"
     ]
    },
    {
     "name": "stdout",
     "output_type": "stream",
     "text": [
      "/home/jt/Downloads/cobrapy-0.5.11/cobra/__init__.py\n",
      "/home/jt/UCSD/cobrame-master/cobrame/__init__.py\n",
      "/home/jt/UCSD/bacillusme-master/ecolime/__init__.py\n"
     ]
    }
   ],
   "source": [
    "from __future__ import print_function, division, absolute_import\n",
    "\n",
    "import sys\n",
    "\n",
    "import qminospy\n",
    "from qminospy.me2 import ME_NLP\n",
    "\n",
    "# python imports\n",
    "from copy import copy\n",
    "import re\n",
    "from os.path import join\n",
    "from collections import defaultdict\n",
    "import pickle\n",
    "\n",
    "# third party imports\n",
    "import pandas\n",
    "import cobra\n",
    "from tqdm import tqdm\n",
    "import numpy as np\n",
    "import scipy\n",
    "import matplotlib.pyplot as plt\n",
    "\n",
    "# COBRAme\n",
    "import cobrame\n",
    "from cobrame.util import building, mu, me_model_interface\n",
    "from cobrame.io.json import save_json_me_model, save_reduced_json_me_model\n",
    "\n",
    "# ECOLIme\n",
    "import ecolime\n",
    "from ecolime import (transcription, translation, flat_files, generics, formulas, compartments)\n",
    "from ecolime.util.helper_functions import *\n",
    "%load_ext autoreload\n",
    "%autoreload 2\n",
    "print(cobra.__file__)\n",
    "print(cobrame.__file__)\n",
    "print(ecolime.__file__)"
   ]
  },
  {
   "cell_type": "markdown",
   "metadata": {},
   "source": [
    "Load"
   ]
  },
  {
   "cell_type": "code",
   "execution_count": 3,
   "metadata": {},
   "outputs": [
    {
     "data": {
      "text/plain": [
       "<Solution 0.12 at 0x7fa4a55e6898>"
      ]
     },
     "execution_count": 3,
     "metadata": {},
     "output_type": "execute_result"
    }
   ],
   "source": [
    "eco_directory = join(flat_files.ecoli_files_dir, 'iJO1366.json')\n",
    "ijo_directory = join(flat_files.ecoli_files_dir, 'iYO844.json')\n",
    "uni_directory = join(flat_files.ecoli_files_dir, 'universal_model.json')\n",
    "\n",
    "eco = cobra.io.load_json_model(eco_directory)\n",
    "bsub = cobra.io.load_json_model(ijo_directory)\n",
    "uni = cobra.io.load_json_model(uni_directory)\n",
    "\n",
    "bsub.optimize()"
   ]
  },
  {
   "cell_type": "code",
   "execution_count": 4,
   "metadata": {},
   "outputs": [],
   "source": [
    "gene_dictionary = pd.read_csv('gene_name_dictionary.csv',index_col=1)"
   ]
  },
  {
   "cell_type": "markdown",
   "metadata": {},
   "source": [
    "## RNASeq data"
   ]
  },
  {
   "cell_type": "code",
   "execution_count": 16,
   "metadata": {},
   "outputs": [],
   "source": [
    "data = pd.read_csv('rna_seq/RNAseq_raw.csv',index_col=1)"
   ]
  },
  {
   "cell_type": "markdown",
   "metadata": {},
   "source": [
    "RNAseq data appears to be normalized. That means that roughly they have the same numbre of cells."
   ]
  },
  {
   "cell_type": "code",
   "execution_count": 17,
   "metadata": {},
   "outputs": [],
   "source": [
    "samples = data.columns\n",
    "control_data = data[samples[samples.str.contains('BMM_')]]\n",
    "stress_data = data[samples[samples.str.contains('Etha_')]]\n",
    "fold_change = np.divide(stress_data,control_data)"
   ]
  },
  {
   "cell_type": "markdown",
   "metadata": {},
   "source": [
    "### Tryptophan biosynthesis"
   ]
  },
  {
   "cell_type": "code",
   "execution_count": 18,
   "metadata": {},
   "outputs": [
    {
     "data": {
      "text/plain": [
       "Text(0.5, 1.0, 'Tryptophan biosynthetic gene expression')"
      ]
     },
     "execution_count": 18,
     "metadata": {},
     "output_type": "execute_result"
    },
    {
     "data": {
      "image/png": "[encoded data removed]",
      "text/plain": [
       "<Figure size 432x288 with 1 Axes>"
      ]
     },
     "metadata": {
      "needs_background": "light"
     },
     "output_type": "display_data"
    }
   ],
   "source": [
    "genes = ['trpE','trpD','trpC','trpF','trpB']\n",
    "fold_change.loc[gene_dictionary.loc[genes]['locus_id']].mean(axis=1).to_frame().boxplot()\n",
    "plt.ylabel('fold_change')\n",
    "plt.title('Tryptophan biosynthetic gene expression')"
   ]
  },
  {
   "cell_type": "markdown",
   "metadata": {},
   "source": [
    "Arginine biosynthesis is downregulated in salt stress."
   ]
  },
  {
   "cell_type": "markdown",
   "metadata": {},
   "source": [
    "### Transporter expression"
   ]
  },
  {
   "cell_type": "markdown",
   "metadata": {},
   "source": [
    "Ethanol transporters are not defined yet in the annotation."
   ]
  },
  {
   "cell_type": "markdown",
   "metadata": {},
   "source": [
    "### Up and downregulation"
   ]
  },
  {
   "cell_type": "code",
   "execution_count": 19,
   "metadata": {},
   "outputs": [
    {
     "name": "stderr",
     "output_type": "stream",
     "text": [
      "100%|██████████| 5875/5875 [00:15<00:00, 378.49it/s]\n"
     ]
    }
   ],
   "source": [
    "from scipy.stats import ttest_ind,t\n",
    "alpha = 0.05\n",
    "decision_df = pd.DataFrame(index=control_data.index,columns=['reg'])\n",
    "for gene in tqdm(decision_df.index):\n",
    "    \n",
    "    a = control_data.loc[gene]\n",
    "    b = stress_data.loc[gene]\n",
    "    tval = ttest_ind(b,a).statistic\n",
    "\n",
    "    pval = t.cdf(tval,df=(len(a)-1)+(len(b)-1))\n",
    "    if pval > 0.95: # b>a?  \n",
    "        decision_df.loc[gene]['reg'] = 1\n",
    "    elif pval < 0.05: # b<a?\n",
    "        decision_df.loc[gene]['reg'] = -1\n",
    "    else:\n",
    "        decision_df.loc[gene]['reg'] = 0"
   ]
  },
  {
   "cell_type": "code",
   "execution_count": 20,
   "metadata": {},
   "outputs": [
    {
     "data": {
      "text/plain": [
       "<matplotlib.axes._subplots.AxesSubplot at 0x7fa49dfece48>"
      ]
     },
     "execution_count": 20,
     "metadata": {},
     "output_type": "execute_result"
    },
    {
     "data": {
      "image/png": "[encoded data removed]",
      "text/plain": [
       "<Figure size 432x288 with 1 Axes>"
      ]
     },
     "metadata": {
      "needs_background": "light"
     },
     "output_type": "display_data"
    }
   ],
   "source": [
    "decision_df['reg'].hist()"
   ]
  },
  {
   "cell_type": "markdown",
   "metadata": {},
   "source": [
    "## M simulations"
   ]
  },
  {
   "cell_type": "code",
   "execution_count": 9,
   "metadata": {},
   "outputs": [],
   "source": [
    "new_glucose_uptake = bsub.solution.x_dict['EX_glc__D_e']*0.5\n",
    "base_mu = bsub.solution.f"
   ]
  },
  {
   "cell_type": "markdown",
   "metadata": {},
   "source": [
    "Bacillus subtilis cannot grow in ethanol only"
   ]
  },
  {
   "cell_type": "code",
   "execution_count": 10,
   "metadata": {},
   "outputs": [
    {
     "data": {
      "text/plain": [
       "<Solution 0.00 at 0x7efd2da93ba8>"
      ]
     },
     "execution_count": 10,
     "metadata": {},
     "output_type": "execute_result"
    }
   ],
   "source": [
    "bsub.reactions.get_by_id('EX_glc__D_e').lower_bound = 0\n",
    "bsub.reactions.get_by_id('EX_etoh_e').lower_bound = -1\n",
    "bsub.reactions.ETOHt3.lower_bound = -999999.0 # This transporter is reversible in E. coli\n",
    "bsub.optimize()"
   ]
  },
  {
   "cell_type": "markdown",
   "metadata": {},
   "source": [
    "But it can use ethanol as carbon source while using glucose as energy"
   ]
  },
  {
   "cell_type": "code",
   "execution_count": 11,
   "metadata": {},
   "outputs": [],
   "source": [
    "# Adjust glucose uptake\n",
    "bsub.reactions.get_by_id('EX_glc__D_e').lower_bound = new_glucose_uptake\n",
    "flux_dict = dict()\n",
    "# Ethanol uptake rates and simulation\n",
    "etoh_rates = -np.arange(0,5,0.1)\n",
    "for rate in etoh_rates:\n",
    "    bsub.reactions.get_by_id('EX_etoh_e').lower_bound = rate\n",
    "    solution = bsub.optimize()\n",
    "    flux_dict[rate] = solution.x_dict\n",
    "flux_responses = pd.DataFrame.from_dict(flux_dict)"
   ]
  },
  {
   "cell_type": "code",
   "execution_count": 12,
   "metadata": {},
   "outputs": [
    {
     "data": {
      "text/plain": [
       "<matplotlib.legend.Legend at 0x7efd2d88b630>"
      ]
     },
     "execution_count": 12,
     "metadata": {},
     "output_type": "execute_result"
    },
    {
     "data": {
      "image/png": "[encoded data removed]",
      "text/plain": [
       "<Figure size 432x288 with 2 Axes>"
      ]
     },
     "metadata": {
      "needs_background": "light"
     },
     "output_type": "display_data"
    }
   ],
   "source": [
    "fig,ax1 = plt.subplots()\n",
    "plt.title('Ethanol uptake')\n",
    "\n",
    "ax1.plot(-flux_responses.loc['EX_etoh_e'],flux_responses.loc['BIOMASS_BS_10'],\n",
    "            label = 'growth',color='tab:red')\n",
    "ax1.set_xlabel('Ethanol uptake')\n",
    "ax1.set_ylabel('Growth rate')\n",
    "\n",
    "ax2 = ax1.twinx()\n",
    "ax2.plot(-flux_responses.loc['EX_etoh_e'],flux_responses.loc['EX_o2_e'],\n",
    "            label = 'Glucose')\n",
    "ax2.plot(-flux_responses.loc['EX_etoh_e'],flux_responses.loc['EX_glc__D_e'],\n",
    "            label = 'O2')\n",
    "ax2.set_ylabel('Rate')\n",
    "\n",
    "ax2.legend()"
   ]
  },
  {
   "cell_type": "markdown",
   "metadata": {},
   "source": [
    "Tryptophan production increases, but it could be an artifact of growth rate"
   ]
  },
  {
   "cell_type": "code",
   "execution_count": 13,
   "metadata": {},
   "outputs": [
    {
     "data": {
      "text/plain": [
       "Text(0, 0.5, 'Tryptophan production')"
      ]
     },
     "execution_count": 13,
     "metadata": {},
     "output_type": "execute_result"
    },
    {
     "data": {
      "image/png": "[encoded data removed]",
      "text/plain": [
       "<Figure size 432x288 with 1 Axes>"
      ]
     },
     "metadata": {
      "needs_background": "light"
     },
     "output_type": "display_data"
    }
   ],
   "source": [
    "trp_prod = 'TRPS1'\n",
    "plt.plot(-flux_responses.loc['EX_etoh_e'],flux_responses.loc[trp_prod])\n",
    "plt.xlabel('Ethanol uptake')\n",
    "plt.ylabel('Tryptophan production')"
   ]
  },
  {
   "cell_type": "markdown",
   "metadata": {},
   "source": [
    "Fix growth rate and calculate by minimization of glucose uptake"
   ]
  },
  {
   "cell_type": "code",
   "execution_count": 14,
   "metadata": {},
   "outputs": [],
   "source": [
    "# Adjust glucose uptake and fix mu to correct the artifact\n",
    "\n",
    "bsub.reactions.get_by_id('EX_glc__D_e').lower_bound = -10\n",
    "bsub.reactions.get_by_id('BIOMASS_BS_10').lower_bound = base_mu\n",
    "bsub.reactions.get_by_id('BIOMASS_BS_10').upper_bound = base_mu\n",
    "\n",
    "bsub.objective = 'EX_glc__D_e'\n",
    "bsub.reactions.get_by_id('EX_glc__D_e').objective_coefficient = -1.\n",
    "\n",
    "# Ethanol uptake rates and simulation\n",
    "etoh_rates = -np.arange(0,5,0.1)\n",
    "flux_responses = dict()\n",
    "for rate in etoh_rates:\n",
    "    bsub.reactions.get_by_id('EX_etoh_e').lower_bound = rate\n",
    "    bsub.reactions.get_by_id('EX_etoh_e').upper_bound = rate\n",
    "    solution = bsub.optimize()\n",
    "    flux_dict[rate] = solution.x_dict\n",
    "flux_responses = pd.DataFrame.from_dict(flux_dict)"
   ]
  },
  {
   "cell_type": "markdown",
   "metadata": {},
   "source": [
    "M-model does not reproduce an increase in Tryptophan production as a result of ethanol processing."
   ]
  },
  {
   "cell_type": "code",
   "execution_count": 15,
   "metadata": {},
   "outputs": [
    {
     "data": {
      "image/png": "[encoded data removed]",
      "text/plain": [
       "<Figure size 936x288 with 3 Axes>"
      ]
     },
     "metadata": {
      "needs_background": "light"
     },
     "output_type": "display_data"
    }
   ],
   "source": [
    "trp_prod = 'TRPS1'\n",
    "\n",
    "plt.figure(figsize=(13,4))\n",
    "plt.subplot(1,3,1)\n",
    "\n",
    "plt.title('Ethanol uptake')\n",
    "plt.plot(-flux_responses.loc['EX_etoh_e'],flux_responses.loc['BIOMASS_BS_10'],\n",
    "            label = 'growth',color='tab:red')\n",
    "plt.xlabel('Ethanol uptake')\n",
    "plt.ylabel('Growth rate')\n",
    "\n",
    "plt.subplot(1,3,2)\n",
    "plt.plot(-flux_responses.loc['EX_etoh_e'],flux_responses.loc[trp_prod])\n",
    "plt.xlabel('Ethanol uptake')\n",
    "plt.ylabel('TRPS1')\n",
    "plt.title('Tryptophan production')\n",
    "\n",
    "plt.subplot(1,3,3)\n",
    "gene_dictionary = pd.read_csv('gene_name_dictionary.csv',index_col=1)\n",
    "genes = ['trpE','trpD','trpC','trpF','trpB','pabA','hisC','tyrA','aroE','trpA']\n",
    "for idx,gene in enumerate(gene_dictionary.loc[genes]['locus_id'].values):\n",
    "    rxns = bsub.genes.get_by_id(gene).reactions\n",
    "    for rxn in rxns:\n",
    "        flux_profile = abs(flux_responses.loc[rxn.id].values)\n",
    "        flux_profile /= max(flux_profile)\n",
    "        plt.plot(etoh_rates,flux_profile,label=genes[idx]+'_'+rxn.id)\n",
    "plt.title('All reactions in operon')\n",
    "plt.xlabel('Sodium uptake')\n",
    "plt.ylabel('Flux')\n",
    "plt.legend()\n",
    "\n",
    "plt.subplots_adjust(wspace=0.4)"
   ]
  },
  {
   "cell_type": "markdown",
   "metadata": {},
   "source": [
    "M-model does not capture changes in tryptophan synthesis"
   ]
  },
  {
   "cell_type": "markdown",
   "metadata": {},
   "source": [
    "## ME-model simulations of ethanol uptake"
   ]
  },
  {
   "cell_type": "code",
   "execution_count": 16,
   "metadata": {},
   "outputs": [],
   "source": [
    "with open('../me_models/solution.pickle', 'rb') as solution:\n",
    "    me = pickle.load(solution)"
   ]
  },
  {
   "cell_type": "code",
   "execution_count": 17,
   "metadata": {},
   "outputs": [],
   "source": [
    "#new_mu = 0.9*me.solution.f\n",
    "new_mu = False\n",
    "me.reactions.biomass_dilution.upper_bound = me.solution.f*0.9"
   ]
  },
  {
   "cell_type": "code",
   "execution_count": 18,
   "metadata": {},
   "outputs": [
    {
     "name": "stdout",
     "output_type": "stream",
     "text": [
      "ETOHtex 0 1000 etoh_e <=> etoh_c\n"
     ]
    }
   ],
   "source": [
    "# Ethanol can be imported through diffusion\n",
    "osm_rxn = cobrame.MEReaction('ETOHtex')\n",
    "me.add_reaction(osm_rxn)\n",
    "\n",
    "osm_rxn.add_metabolites({'etoh_e':-1,'etoh_c':1})\n",
    "osm_rxn.lower_bound=0\n",
    "osm_rxn.upper_bound=1000\n",
    "print(osm_rxn.id,osm_rxn.lower_bound,osm_rxn.upper_bound,osm_rxn.reaction)   "
   ]
  },
  {
   "cell_type": "code",
   "execution_count": 19,
   "metadata": {},
   "outputs": [],
   "source": [
    "def single_flux_response(me,rate,mu_fix=False):\n",
    "    me.reactions.get_by_id('EX_etoh_e').lower_bound = rate\n",
    "    me.reactions.get_by_id('EX_etoh_e').upper_bound = rate\n",
    "    solve_me_model(me, max_mu = 0.5, min_mu = .05, using_soplex=False,\n",
    "                   precision = 1e-6,verbosity=0,mu_fix=mu_fix)\n",
    "    return rate, me.solution.x_dict"
   ]
  },
  {
   "cell_type": "code",
   "execution_count": 20,
   "metadata": {},
   "outputs": [
    {
     "name": "stdout",
     "output_type": "stream",
     "text": [
      "Rates to use: [-0.  -0.5 -1.  -1.5 -2.  -2.5 -3.  -3.5]\n",
      "Calculating with 8 cores\n"
     ]
    },
    {
     "data": {
      "text/html": [
       "<div>\n",
       "<style scoped>\n",
       "    .dataframe tbody tr th:only-of-type {\n",
       "        vertical-align: middle;\n",
       "    }\n",
       "\n",
       "    .dataframe tbody tr th {\n",
       "        vertical-align: top;\n",
       "    }\n",
       "\n",
       "    .dataframe thead th {\n",
       "        text-align: right;\n",
       "    }\n",
       "</style>\n",
       "<table border=\"1\" class=\"dataframe\">\n",
       "  <thead>\n",
       "    <tr style=\"text-align: right;\">\n",
       "      <th></th>\n",
       "      <th>-3.5</th>\n",
       "      <th>-3.0</th>\n",
       "      <th>-2.5</th>\n",
       "      <th>-2.0</th>\n",
       "      <th>-1.5</th>\n",
       "      <th>-1.0</th>\n",
       "      <th>-0.5</th>\n",
       "      <th>-0.0</th>\n",
       "    </tr>\n",
       "  </thead>\n",
       "  <tbody>\n",
       "    <tr>\n",
       "      <th>biomass_dilution</th>\n",
       "      <td>0.091549</td>\n",
       "      <td>0.091549</td>\n",
       "      <td>0.091549</td>\n",
       "      <td>0.091549</td>\n",
       "      <td>0.091549</td>\n",
       "      <td>0.091549</td>\n",
       "      <td>0.091549</td>\n",
       "      <td>0.091549</td>\n",
       "    </tr>\n",
       "    <tr>\n",
       "      <th>protein_biomass_to_biomass</th>\n",
       "      <td>0.024005</td>\n",
       "      <td>0.023888</td>\n",
       "      <td>0.023771</td>\n",
       "      <td>0.023654</td>\n",
       "      <td>0.023535</td>\n",
       "      <td>0.023416</td>\n",
       "      <td>0.023296</td>\n",
       "      <td>0.024280</td>\n",
       "    </tr>\n",
       "    <tr>\n",
       "      <th>mRNA_biomass_to_biomass</th>\n",
       "      <td>0.000084</td>\n",
       "      <td>0.000084</td>\n",
       "      <td>0.000083</td>\n",
       "      <td>0.000083</td>\n",
       "      <td>0.000083</td>\n",
       "      <td>0.000082</td>\n",
       "      <td>0.000082</td>\n",
       "      <td>0.000085</td>\n",
       "    </tr>\n",
       "    <tr>\n",
       "      <th>tRNA_biomass_to_biomass</th>\n",
       "      <td>0.000497</td>\n",
       "      <td>0.000495</td>\n",
       "      <td>0.000493</td>\n",
       "      <td>0.000491</td>\n",
       "      <td>0.000488</td>\n",
       "      <td>0.000486</td>\n",
       "      <td>0.000484</td>\n",
       "      <td>0.000513</td>\n",
       "    </tr>\n",
       "    <tr>\n",
       "      <th>rRNA_biomass_to_biomass</th>\n",
       "      <td>0.003676</td>\n",
       "      <td>0.003660</td>\n",
       "      <td>0.003645</td>\n",
       "      <td>0.003629</td>\n",
       "      <td>0.003613</td>\n",
       "      <td>0.003597</td>\n",
       "      <td>0.003581</td>\n",
       "      <td>0.003707</td>\n",
       "    </tr>\n",
       "  </tbody>\n",
       "</table>\n",
       "</div>"
      ],
      "text/plain": [
       "                                -3.5      -3.0      -2.5      -2.0      -1.5  \\\n",
       "biomass_dilution            0.091549  0.091549  0.091549  0.091549  0.091549   \n",
       "protein_biomass_to_biomass  0.024005  0.023888  0.023771  0.023654  0.023535   \n",
       "mRNA_biomass_to_biomass     0.000084  0.000084  0.000083  0.000083  0.000083   \n",
       "tRNA_biomass_to_biomass     0.000497  0.000495  0.000493  0.000491  0.000488   \n",
       "rRNA_biomass_to_biomass     0.003676  0.003660  0.003645  0.003629  0.003613   \n",
       "\n",
       "                                -1.0      -0.5      -0.0  \n",
       "biomass_dilution            0.091549  0.091549  0.091549  \n",
       "protein_biomass_to_biomass  0.023416  0.023296  0.024280  \n",
       "mRNA_biomass_to_biomass     0.000082  0.000082  0.000085  \n",
       "tRNA_biomass_to_biomass     0.000486  0.000484  0.000513  \n",
       "rRNA_biomass_to_biomass     0.003597  0.003581  0.003707  "
      ]
     },
     "execution_count": 20,
     "metadata": {},
     "output_type": "execute_result"
    }
   ],
   "source": [
    "etoh_rates = -np.arange(0,4,0.5)\n",
    "flux_dict = dict()\n",
    "print('Rates to use: {}'.format(etoh_rates))\n",
    "\n",
    "import multiprocessing as mp\n",
    "NP = min([len(etoh_rates),10])\n",
    "print('Calculating with {} cores'.format(NP))\n",
    "pool = mp.Pool(NP)\n",
    "def collect_result(result):\n",
    "    flux_dict[result[0]] = result[1]\n",
    "for rate in etoh_rates:\n",
    "    pool.apply_async(single_flux_response, args=(me,rate,new_mu), callback=collect_result)\n",
    "pool.close()\n",
    "pool.join()\n",
    "flux_responses_me = pd.DataFrame.from_dict(flux_dict)\n",
    "flux_responses_me = flux_responses_me[sorted(flux_responses_me.columns)]\n",
    "flux_responses_me.head()"
   ]
  },
  {
   "cell_type": "code",
   "execution_count": 21,
   "metadata": {},
   "outputs": [],
   "source": [
    "# Save results\n",
    "flux_responses_me.to_csv('ethanol_flux_responses.csv',index_label='rxn_id')"
   ]
  },
  {
   "cell_type": "code",
   "execution_count": 5,
   "metadata": {},
   "outputs": [],
   "source": [
    "gene_dictionary = pd.read_csv('gene_name_dictionary.csv',index_col=1)\n",
    "flux_responses_me = pd.read_csv('ethanol_flux_responses.csv',index_col=0)"
   ]
  },
  {
   "cell_type": "code",
   "execution_count": 6,
   "metadata": {},
   "outputs": [
    {
     "data": {
      "text/plain": [
       "Text(0.5, 0, 'Ethanol uptake')"
      ]
     },
     "execution_count": 6,
     "metadata": {},
     "output_type": "execute_result"
    },
    {
     "data": {
      "image/png": "[encoded data removed]",
      "text/plain": [
       "<Figure size 432x288 with 1 Axes>"
      ]
     },
     "metadata": {
      "needs_background": "light"
     },
     "output_type": "display_data"
    }
   ],
   "source": [
    "# Visualize transcription profiles\n",
    "\n",
    "# trp operon is TU8J2-727\n",
    "expression = flux_responses_me.loc['transcription_TU8J2_727_from_BSU25200-MONOMER']\n",
    "plt.plot(-flux_responses_me.loc['EX_etoh_e'],\n",
    "         expression/max(expression),\n",
    "         marker = 'o',markersize=8)\n",
    "plt.title('Transcription of trp operon (TU8J2-727)')\n",
    "plt.ylabel('Transcription level')\n",
    "plt.xlabel('Ethanol uptake')"
   ]
  },
  {
   "cell_type": "markdown",
   "metadata": {},
   "source": [
    "Tryptophan production appears to increase with ethanol uptake."
   ]
  },
  {
   "cell_type": "code",
   "execution_count": 7,
   "metadata": {},
   "outputs": [
    {
     "data": {
      "text/plain": [
       "Text(0.5, 1.0, 'promoter')"
      ]
     },
     "execution_count": 7,
     "metadata": {},
     "output_type": "execute_result"
    },
    {
     "data": {
      "image/png": "[encoded data removed]",
      "text/plain": [
       "<Figure size 1080x288 with 3 Axes>"
      ]
     },
     "metadata": {
      "needs_background": "light"
     },
     "output_type": "display_data"
    }
   ],
   "source": [
    "# Visualize protein expression profiles\n",
    "plt.figure(figsize=(15,4))\n",
    "import itertools\n",
    "marker = itertools.cycle(('v', 's', '^', 'o', '*')) \n",
    "\n",
    "plt.subplot(1,3,1)\n",
    "\n",
    "genes = ['trpE','trpD','trpC','trpF','trpB']\n",
    "for gene_name,locus_id in gene_dictionary.loc[genes]['locus_id'].items():\n",
    "    expression = flux_responses_me.loc['translation_'+locus_id]\n",
    "    expression /= np.max(expression)\n",
    "    plt.plot(-flux_responses_me.loc['EX_etoh_e'],expression,\n",
    "            label=gene_name,marker = next(marker),markersize=8)\n",
    "plt.legend()\n",
    "plt.xlabel('Ethanol uptake')\n",
    "plt.ylabel('Protein expression')\n",
    "plt.title('trp operon captured in i-modulon')\n",
    "\n",
    "plt.subplot(1,3,2)\n",
    "genes = ['pabA','hisC','tyrA','aroE']\n",
    "for gene_name,locus_id in gene_dictionary.loc[genes]['locus_id'].items():\n",
    "    expression = flux_responses_me.loc['translation_'+locus_id]\n",
    "    expression /= np.max(expression)\n",
    "    plt.plot(-flux_responses_me.loc['EX_etoh_e'],expression,\n",
    "            label=gene_name,marker = next(marker),markersize=8)\n",
    "plt.legend()\n",
    "plt.xlabel('Ethanol uptake')\n",
    "plt.ylabel('Protein expression')\n",
    "plt.title('trp operon not captured in i-modulon')\n",
    "\n",
    "plt.subplot(1,3,3)\n",
    "genes = ['trpA','adhA']\n",
    "for gene_name,locus_id in gene_dictionary.loc[genes]['locus_id'].items():\n",
    "    expression = flux_responses_me.loc['translation_'+locus_id]\n",
    "    expression /= np.max(expression)\n",
    "    plt.plot(-flux_responses_me.loc['EX_etoh_e'],expression,\n",
    "            label=gene_name,marker = next(marker),markersize=8)\n",
    "plt.legend()\n",
    "plt.xlabel('Ethanol uptake')\n",
    "plt.ylabel('Protein expression')\n",
    "plt.title('promoter')\n"
   ]
  },
  {
   "cell_type": "code",
   "execution_count": 8,
   "metadata": {},
   "outputs": [
    {
     "data": {
      "text/plain": [
       "Text(0.5, 1.0, 'promoter')"
      ]
     },
     "execution_count": 8,
     "metadata": {},
     "output_type": "execute_result"
    },
    {
     "data": {
      "image/png": "[encoded data removed]",
      "text/plain": [
       "<Figure size 1080x288 with 3 Axes>"
      ]
     },
     "metadata": {
      "needs_background": "light"
     },
     "output_type": "display_data"
    }
   ],
   "source": [
    "# Normalized by growth rate (yield)\n",
    "plt.figure(figsize=(15,4))\n",
    "import itertools\n",
    "marker = itertools.cycle(('v', 's', '^', 'o', '*')) \n",
    "\n",
    "plt.subplot(1,3,1)\n",
    "\n",
    "genes = ['trpE','trpD','trpC','trpF','trpB']\n",
    "for gene_name,locus_id in gene_dictionary.loc[genes]['locus_id'].items():\n",
    "    expression = flux_responses_me.loc['translation_'+locus_id]/flux_responses_me.loc['biomass_dilution']\n",
    "    expression /= np.max(expression)\n",
    "    plt.plot(-flux_responses_me.loc['EX_etoh_e'],expression,\n",
    "            label=gene_name,marker = next(marker),markersize=8)\n",
    "plt.legend()\n",
    "plt.xlabel('Ethanol uptake')\n",
    "plt.ylabel('Protein expression')\n",
    "plt.title('trp operon captured in i-modulon')\n",
    "\n",
    "plt.subplot(1,3,2)\n",
    "genes = ['pabA','hisC','tyrA','aroE']\n",
    "for gene_name,locus_id in gene_dictionary.loc[genes]['locus_id'].items():\n",
    "    expression = flux_responses_me.loc['translation_'+locus_id]/flux_responses_me.loc['biomass_dilution']\n",
    "    expression /= np.max(expression)\n",
    "    plt.plot(-flux_responses_me.loc['EX_etoh_e'],expression,\n",
    "            label=gene_name,marker = next(marker),markersize=8)\n",
    "plt.legend()\n",
    "plt.xlabel('Ethanol uptake')\n",
    "plt.ylabel('Protein expression')\n",
    "plt.title('trp operon not captured in i-modulon')\n",
    "\n",
    "plt.subplot(1,3,3)\n",
    "genes = ['trpA','adhA']\n",
    "for gene_name,locus_id in gene_dictionary.loc[genes]['locus_id'].items():\n",
    "    expression = flux_responses_me.loc['translation_'+locus_id]/flux_responses_me.loc['biomass_dilution']\n",
    "    expression /= np.max(expression)\n",
    "    plt.plot(-flux_responses_me.loc['EX_etoh_e'],expression,\n",
    "            label=gene_name,marker = next(marker),markersize=8)\n",
    "plt.legend()\n",
    "plt.xlabel('Ethanol uptake')\n",
    "plt.ylabel('Protein expression')\n",
    "plt.title('promoter')\n"
   ]
  },
  {
   "cell_type": "markdown",
   "metadata": {},
   "source": [
    "There is a clear trend of upregulation of tryptophan synthesis being captured by the model."
   ]
  },
  {
   "cell_type": "markdown",
   "metadata": {},
   "source": [
    "Notes:\n",
    "* Ethanol diffuses through the membrane (passive transport).\n"
   ]
  },
  {
   "cell_type": "code",
   "execution_count": 9,
   "metadata": {},
   "outputs": [],
   "source": [
    "df = flux_responses_me.loc[flux_responses_me.index.str.contains('EX_')]"
   ]
  },
  {
   "cell_type": "code",
   "execution_count": 10,
   "metadata": {},
   "outputs": [
    {
     "data": {
      "text/html": [
       "<div>\n",
       "<style scoped>\n",
       "    .dataframe tbody tr th:only-of-type {\n",
       "        vertical-align: middle;\n",
       "    }\n",
       "\n",
       "    .dataframe tbody tr th {\n",
       "        vertical-align: top;\n",
       "    }\n",
       "\n",
       "    .dataframe thead th {\n",
       "        text-align: right;\n",
       "    }\n",
       "</style>\n",
       "<table border=\"1\" class=\"dataframe\">\n",
       "  <thead>\n",
       "    <tr style=\"text-align: right;\">\n",
       "      <th></th>\n",
       "      <th>-3.5</th>\n",
       "      <th>-3.0</th>\n",
       "      <th>-2.5</th>\n",
       "      <th>-2.0</th>\n",
       "      <th>-1.5</th>\n",
       "      <th>-1.0</th>\n",
       "      <th>-0.5</th>\n",
       "      <th>-0.0</th>\n",
       "    </tr>\n",
       "    <tr>\n",
       "      <th>rxn_id</th>\n",
       "      <th></th>\n",
       "      <th></th>\n",
       "      <th></th>\n",
       "      <th></th>\n",
       "      <th></th>\n",
       "      <th></th>\n",
       "      <th></th>\n",
       "      <th></th>\n",
       "    </tr>\n",
       "  </thead>\n",
       "  <tbody>\n",
       "    <tr>\n",
       "      <th>EX_ac_e</th>\n",
       "      <td>3.514271e+00</td>\n",
       "      <td>3.014198e+00</td>\n",
       "      <td>2.514124e+00</td>\n",
       "      <td>2.014049e+00</td>\n",
       "      <td>1.513975e+00</td>\n",
       "      <td>1.013900e+00</td>\n",
       "      <td>5.138241e-01</td>\n",
       "      <td>0.000000e+00</td>\n",
       "    </tr>\n",
       "    <tr>\n",
       "      <th>EX_acac_e</th>\n",
       "      <td>8.562062e-01</td>\n",
       "      <td>7.282849e-01</td>\n",
       "      <td>6.004338e-01</td>\n",
       "      <td>4.726402e-01</td>\n",
       "      <td>3.445632e-01</td>\n",
       "      <td>2.168490e-01</td>\n",
       "      <td>8.883136e-02</td>\n",
       "      <td>0.000000e+00</td>\n",
       "    </tr>\n",
       "    <tr>\n",
       "      <th>EX_co2_e</th>\n",
       "      <td>3.061924e+00</td>\n",
       "      <td>3.575531e+00</td>\n",
       "      <td>4.089194e+00</td>\n",
       "      <td>4.602921e+00</td>\n",
       "      <td>5.116858e+00</td>\n",
       "      <td>5.630728e+00</td>\n",
       "      <td>6.144820e+00</td>\n",
       "      <td>6.525310e+00</td>\n",
       "    </tr>\n",
       "    <tr>\n",
       "      <th>EX_cobalt2_e</th>\n",
       "      <td>-5.370200e-08</td>\n",
       "      <td>-5.365061e-08</td>\n",
       "      <td>-5.359675e-08</td>\n",
       "      <td>-5.354038e-08</td>\n",
       "      <td>-5.348164e-08</td>\n",
       "      <td>-5.342012e-08</td>\n",
       "      <td>-5.335616e-08</td>\n",
       "      <td>-5.155581e-08</td>\n",
       "    </tr>\n",
       "    <tr>\n",
       "      <th>EX_etoh_e</th>\n",
       "      <td>-3.500000e+00</td>\n",
       "      <td>-3.000000e+00</td>\n",
       "      <td>-2.500000e+00</td>\n",
       "      <td>-2.000000e+00</td>\n",
       "      <td>-1.500000e+00</td>\n",
       "      <td>-1.000000e+00</td>\n",
       "      <td>-5.000000e-01</td>\n",
       "      <td>-0.000000e+00</td>\n",
       "    </tr>\n",
       "    <tr>\n",
       "      <th>EX_glc__D_e</th>\n",
       "      <td>-1.699898e+00</td>\n",
       "      <td>-1.699855e+00</td>\n",
       "      <td>-1.699867e+00</td>\n",
       "      <td>-1.699925e+00</td>\n",
       "      <td>-1.699827e+00</td>\n",
       "      <td>-1.699958e+00</td>\n",
       "      <td>-1.699921e+00</td>\n",
       "      <td>-1.699999e+00</td>\n",
       "    </tr>\n",
       "    <tr>\n",
       "      <th>EX_h2o_e</th>\n",
       "      <td>9.396981e+00</td>\n",
       "      <td>9.279604e+00</td>\n",
       "      <td>9.162336e+00</td>\n",
       "      <td>9.045169e+00</td>\n",
       "      <td>8.927917e+00</td>\n",
       "      <td>8.810936e+00</td>\n",
       "      <td>8.693860e+00</td>\n",
       "      <td>8.502137e+00</td>\n",
       "    </tr>\n",
       "    <tr>\n",
       "      <th>EX_h_e</th>\n",
       "      <td>4.965905e+00</td>\n",
       "      <td>4.336609e+00</td>\n",
       "      <td>3.707372e+00</td>\n",
       "      <td>3.078182e+00</td>\n",
       "      <td>2.448700e+00</td>\n",
       "      <td>1.819568e+00</td>\n",
       "      <td>1.190124e+00</td>\n",
       "      <td>6.006129e-01</td>\n",
       "    </tr>\n",
       "    <tr>\n",
       "      <th>EX_k_e</th>\n",
       "      <td>-2.551703e-07</td>\n",
       "      <td>-2.567668e-07</td>\n",
       "      <td>-2.583848e-07</td>\n",
       "      <td>-2.600237e-07</td>\n",
       "      <td>-2.616619e-07</td>\n",
       "      <td>-2.633413e-07</td>\n",
       "      <td>-2.650189e-07</td>\n",
       "      <td>-2.513293e-07</td>\n",
       "    </tr>\n",
       "    <tr>\n",
       "      <th>EX_mg2_e</th>\n",
       "      <td>-4.309275e-04</td>\n",
       "      <td>-4.291254e-04</td>\n",
       "      <td>-4.273060e-04</td>\n",
       "      <td>-4.254690e-04</td>\n",
       "      <td>-4.236174e-04</td>\n",
       "      <td>-4.217451e-04</td>\n",
       "      <td>-4.198580e-04</td>\n",
       "      <td>-5.059521e-04</td>\n",
       "    </tr>\n",
       "    <tr>\n",
       "      <th>EX_mn2_e</th>\n",
       "      <td>-1.563823e-06</td>\n",
       "      <td>-1.568340e-06</td>\n",
       "      <td>-1.572913e-06</td>\n",
       "      <td>-1.577538e-06</td>\n",
       "      <td>-1.582072e-06</td>\n",
       "      <td>-1.586786e-06</td>\n",
       "      <td>-1.591400e-06</td>\n",
       "      <td>-2.957882e-06</td>\n",
       "    </tr>\n",
       "    <tr>\n",
       "      <th>EX_nh4_e</th>\n",
       "      <td>-7.468744e-01</td>\n",
       "      <td>-7.454794e-01</td>\n",
       "      <td>-7.440750e-01</td>\n",
       "      <td>-7.426612e-01</td>\n",
       "      <td>-7.412404e-01</td>\n",
       "      <td>-7.398077e-01</td>\n",
       "      <td>-7.383681e-01</td>\n",
       "      <td>-7.500979e-01</td>\n",
       "    </tr>\n",
       "    <tr>\n",
       "      <th>EX_o2_e</th>\n",
       "      <td>-6.294646e+00</td>\n",
       "      <td>-6.308125e+00</td>\n",
       "      <td>-6.321661e+00</td>\n",
       "      <td>-6.335259e+00</td>\n",
       "      <td>-6.349067e+00</td>\n",
       "      <td>-6.362808e+00</td>\n",
       "      <td>-6.376769e+00</td>\n",
       "      <td>-6.262289e+00</td>\n",
       "    </tr>\n",
       "    <tr>\n",
       "      <th>EX_pi_e</th>\n",
       "      <td>-1.237032e-01</td>\n",
       "      <td>-1.240394e-01</td>\n",
       "      <td>-1.243782e-01</td>\n",
       "      <td>-1.247197e-01</td>\n",
       "      <td>-1.250630e-01</td>\n",
       "      <td>-1.254096e-01</td>\n",
       "      <td>-1.257580e-01</td>\n",
       "      <td>-1.221603e-01</td>\n",
       "    </tr>\n",
       "    <tr>\n",
       "      <th>EX_so4_e</th>\n",
       "      <td>-1.391686e-02</td>\n",
       "      <td>-1.386317e-02</td>\n",
       "      <td>-1.380912e-02</td>\n",
       "      <td>-1.375469e-02</td>\n",
       "      <td>-1.370004e-02</td>\n",
       "      <td>-1.364489e-02</td>\n",
       "      <td>-1.358951e-02</td>\n",
       "      <td>-1.373726e-02</td>\n",
       "    </tr>\n",
       "    <tr>\n",
       "      <th>EX_zn2_e</th>\n",
       "      <td>-1.768629e-07</td>\n",
       "      <td>-1.775203e-07</td>\n",
       "      <td>-1.781824e-07</td>\n",
       "      <td>-1.788491e-07</td>\n",
       "      <td>-1.795193e-07</td>\n",
       "      <td>-1.801954e-07</td>\n",
       "      <td>-1.808749e-07</td>\n",
       "      <td>-1.887612e-07</td>\n",
       "    </tr>\n",
       "    <tr>\n",
       "      <th>EX_4fe4s_e</th>\n",
       "      <td>-1.033198e-07</td>\n",
       "      <td>-1.315212e-07</td>\n",
       "      <td>-1.599446e-07</td>\n",
       "      <td>-1.885935e-07</td>\n",
       "      <td>-2.174997e-07</td>\n",
       "      <td>-2.466101e-07</td>\n",
       "      <td>-2.759845e-07</td>\n",
       "      <td>-2.897496e-07</td>\n",
       "    </tr>\n",
       "    <tr>\n",
       "      <th>EX_pydx5p_e</th>\n",
       "      <td>-1.465236e-07</td>\n",
       "      <td>-1.470363e-07</td>\n",
       "      <td>-1.475525e-07</td>\n",
       "      <td>-1.480721e-07</td>\n",
       "      <td>-1.485941e-07</td>\n",
       "      <td>-1.491204e-07</td>\n",
       "      <td>-1.496491e-07</td>\n",
       "      <td>-1.678509e-07</td>\n",
       "    </tr>\n",
       "    <tr>\n",
       "      <th>EX_thmpp_e</th>\n",
       "      <td>-5.499940e-09</td>\n",
       "      <td>-5.518080e-09</td>\n",
       "      <td>-5.536354e-09</td>\n",
       "      <td>-5.554761e-09</td>\n",
       "      <td>-5.573268e-09</td>\n",
       "      <td>-5.591942e-09</td>\n",
       "      <td>-5.610714e-09</td>\n",
       "      <td>-8.078915e-09</td>\n",
       "    </tr>\n",
       "    <tr>\n",
       "      <th>EX_cbl1_e</th>\n",
       "      <td>-3.409392e-09</td>\n",
       "      <td>-3.406531e-09</td>\n",
       "      <td>-3.403520e-09</td>\n",
       "      <td>-3.400357e-09</td>\n",
       "      <td>-3.397047e-09</td>\n",
       "      <td>-3.393571e-09</td>\n",
       "      <td>-3.389942e-09</td>\n",
       "      <td>-3.315952e-09</td>\n",
       "    </tr>\n",
       "  </tbody>\n",
       "</table>\n",
       "</div>"
      ],
      "text/plain": [
       "                      -3.5          -3.0          -2.5          -2.0  \\\n",
       "rxn_id                                                                 \n",
       "EX_ac_e       3.514271e+00  3.014198e+00  2.514124e+00  2.014049e+00   \n",
       "EX_acac_e     8.562062e-01  7.282849e-01  6.004338e-01  4.726402e-01   \n",
       "EX_co2_e      3.061924e+00  3.575531e+00  4.089194e+00  4.602921e+00   \n",
       "EX_cobalt2_e -5.370200e-08 -5.365061e-08 -5.359675e-08 -5.354038e-08   \n",
       "EX_etoh_e    -3.500000e+00 -3.000000e+00 -2.500000e+00 -2.000000e+00   \n",
       "EX_glc__D_e  -1.699898e+00 -1.699855e+00 -1.699867e+00 -1.699925e+00   \n",
       "EX_h2o_e      9.396981e+00  9.279604e+00  9.162336e+00  9.045169e+00   \n",
       "EX_h_e        4.965905e+00  4.336609e+00  3.707372e+00  3.078182e+00   \n",
       "EX_k_e       -2.551703e-07 -2.567668e-07 -2.583848e-07 -2.600237e-07   \n",
       "EX_mg2_e     -4.309275e-04 -4.291254e-04 -4.273060e-04 -4.254690e-04   \n",
       "EX_mn2_e     -1.563823e-06 -1.568340e-06 -1.572913e-06 -1.577538e-06   \n",
       "EX_nh4_e     -7.468744e-01 -7.454794e-01 -7.440750e-01 -7.426612e-01   \n",
       "EX_o2_e      -6.294646e+00 -6.308125e+00 -6.321661e+00 -6.335259e+00   \n",
       "EX_pi_e      -1.237032e-01 -1.240394e-01 -1.243782e-01 -1.247197e-01   \n",
       "EX_so4_e     -1.391686e-02 -1.386317e-02 -1.380912e-02 -1.375469e-02   \n",
       "EX_zn2_e     -1.768629e-07 -1.775203e-07 -1.781824e-07 -1.788491e-07   \n",
       "EX_4fe4s_e   -1.033198e-07 -1.315212e-07 -1.599446e-07 -1.885935e-07   \n",
       "EX_pydx5p_e  -1.465236e-07 -1.470363e-07 -1.475525e-07 -1.480721e-07   \n",
       "EX_thmpp_e   -5.499940e-09 -5.518080e-09 -5.536354e-09 -5.554761e-09   \n",
       "EX_cbl1_e    -3.409392e-09 -3.406531e-09 -3.403520e-09 -3.400357e-09   \n",
       "\n",
       "                      -1.5          -1.0          -0.5          -0.0  \n",
       "rxn_id                                                                \n",
       "EX_ac_e       1.513975e+00  1.013900e+00  5.138241e-01  0.000000e+00  \n",
       "EX_acac_e     3.445632e-01  2.168490e-01  8.883136e-02  0.000000e+00  \n",
       "EX_co2_e      5.116858e+00  5.630728e+00  6.144820e+00  6.525310e+00  \n",
       "EX_cobalt2_e -5.348164e-08 -5.342012e-08 -5.335616e-08 -5.155581e-08  \n",
       "EX_etoh_e    -1.500000e+00 -1.000000e+00 -5.000000e-01 -0.000000e+00  \n",
       "EX_glc__D_e  -1.699827e+00 -1.699958e+00 -1.699921e+00 -1.699999e+00  \n",
       "EX_h2o_e      8.927917e+00  8.810936e+00  8.693860e+00  8.502137e+00  \n",
       "EX_h_e        2.448700e+00  1.819568e+00  1.190124e+00  6.006129e-01  \n",
       "EX_k_e       -2.616619e-07 -2.633413e-07 -2.650189e-07 -2.513293e-07  \n",
       "EX_mg2_e     -4.236174e-04 -4.217451e-04 -4.198580e-04 -5.059521e-04  \n",
       "EX_mn2_e     -1.582072e-06 -1.586786e-06 -1.591400e-06 -2.957882e-06  \n",
       "EX_nh4_e     -7.412404e-01 -7.398077e-01 -7.383681e-01 -7.500979e-01  \n",
       "EX_o2_e      -6.349067e+00 -6.362808e+00 -6.376769e+00 -6.262289e+00  \n",
       "EX_pi_e      -1.250630e-01 -1.254096e-01 -1.257580e-01 -1.221603e-01  \n",
       "EX_so4_e     -1.370004e-02 -1.364489e-02 -1.358951e-02 -1.373726e-02  \n",
       "EX_zn2_e     -1.795193e-07 -1.801954e-07 -1.808749e-07 -1.887612e-07  \n",
       "EX_4fe4s_e   -2.174997e-07 -2.466101e-07 -2.759845e-07 -2.897496e-07  \n",
       "EX_pydx5p_e  -1.485941e-07 -1.491204e-07 -1.496491e-07 -1.678509e-07  \n",
       "EX_thmpp_e   -5.573268e-09 -5.591942e-09 -5.610714e-09 -8.078915e-09  \n",
       "EX_cbl1_e    -3.397047e-09 -3.393571e-09 -3.389942e-09 -3.315952e-09  "
      ]
     },
     "execution_count": 10,
     "metadata": {},
     "output_type": "execute_result"
    }
   ],
   "source": [
    "df2=df[(abs(df).select_dtypes(include=['number']) > 1e-15).any(1)]\n",
    "df2 = df2.loc[df2.index.str.contains('_e')]\n",
    "df2"
   ]
  },
  {
   "cell_type": "code",
   "execution_count": 11,
   "metadata": {},
   "outputs": [
    {
     "data": {
      "text/plain": [
       "<seaborn.matrix.ClusterGrid at 0x7fa49fc4cd68>"
      ]
     },
     "execution_count": 11,
     "metadata": {},
     "output_type": "execute_result"
    },
    {
     "data": {
      "image/png": "[encoded data removed]",
      "text/plain": [
       "<Figure size 720x720 with 4 Axes>"
      ]
     },
     "metadata": {
      "needs_background": "light"
     },
     "output_type": "display_data"
    }
   ],
   "source": [
    "import seaborn as sns\n",
    "from scipy import stats\n",
    "a = pd.DataFrame(data=stats.zscore(df2,axis=1),\n",
    "                 index=df2.index,columns=df2.columns)\n",
    "sns.clustermap(a,col_cluster = False)"
   ]
  },
  {
   "cell_type": "markdown",
   "metadata": {},
   "source": [
    "## Accuracy of prediction of transcription response"
   ]
  },
  {
   "cell_type": "code",
   "execution_count": 12,
   "metadata": {},
   "outputs": [],
   "source": [
    "transcription_response = flux_responses_me.loc[flux_responses_me.index.str.contains('translation')]\n",
    "all_genes = [gene.split('_')[1] for gene in transcription_response.index]\n",
    "transcription_df = pd.DataFrame(data=transcription_response.values,index=all_genes,columns=transcription_response.columns)\n",
    "# Only expressed genes\n",
    "transcription_df = transcription_df[transcription_df.any(axis=1)]"
   ]
  },
  {
   "cell_type": "code",
   "execution_count": 13,
   "metadata": {},
   "outputs": [],
   "source": [
    "transcription_df = transcription_df.div(flux_responses_me.loc['biomass_dilution'],axis='columns')"
   ]
  },
  {
   "cell_type": "code",
   "execution_count": 15,
   "metadata": {},
   "outputs": [
    {
     "data": {
      "text/html": [
       "<div>\n",
       "<style scoped>\n",
       "    .dataframe tbody tr th:only-of-type {\n",
       "        vertical-align: middle;\n",
       "    }\n",
       "\n",
       "    .dataframe tbody tr th {\n",
       "        vertical-align: top;\n",
       "    }\n",
       "\n",
       "    .dataframe thead th {\n",
       "        text-align: right;\n",
       "    }\n",
       "</style>\n",
       "<table border=\"1\" class=\"dataframe\">\n",
       "  <thead>\n",
       "    <tr style=\"text-align: right;\">\n",
       "      <th></th>\n",
       "      <th>-3.5</th>\n",
       "      <th>-3.0</th>\n",
       "      <th>-2.5</th>\n",
       "      <th>-2.0</th>\n",
       "      <th>-1.5</th>\n",
       "      <th>-1.0</th>\n",
       "      <th>-0.5</th>\n",
       "      <th>-0.0</th>\n",
       "    </tr>\n",
       "  </thead>\n",
       "  <tbody>\n",
       "    <tr>\n",
       "      <th>BSU00090</th>\n",
       "      <td>2.042631e-07</td>\n",
       "      <td>2.051746e-07</td>\n",
       "      <td>2.060940e-07</td>\n",
       "      <td>2.070212e-07</td>\n",
       "      <td>2.079542e-07</td>\n",
       "      <td>2.088972e-07</td>\n",
       "      <td>2.098459e-07</td>\n",
       "      <td>1.994975e-07</td>\n",
       "    </tr>\n",
       "    <tr>\n",
       "      <th>BSU00130</th>\n",
       "      <td>9.713724e-08</td>\n",
       "      <td>9.686203e-08</td>\n",
       "      <td>9.657935e-08</td>\n",
       "      <td>9.628909e-08</td>\n",
       "      <td>9.599125e-08</td>\n",
       "      <td>9.568539e-08</td>\n",
       "      <td>9.537170e-08</td>\n",
       "      <td>9.663331e-08</td>\n",
       "    </tr>\n",
       "    <tr>\n",
       "      <th>BSU00140</th>\n",
       "      <td>1.474092e-07</td>\n",
       "      <td>1.485921e-07</td>\n",
       "      <td>1.497885e-07</td>\n",
       "      <td>1.509986e-07</td>\n",
       "      <td>1.522201e-07</td>\n",
       "      <td>1.534577e-07</td>\n",
       "      <td>1.547069e-07</td>\n",
       "      <td>0.000000e+00</td>\n",
       "    </tr>\n",
       "    <tr>\n",
       "      <th>BSU00150</th>\n",
       "      <td>3.701856e-08</td>\n",
       "      <td>3.731563e-08</td>\n",
       "      <td>3.761609e-08</td>\n",
       "      <td>3.791997e-08</td>\n",
       "      <td>3.822673e-08</td>\n",
       "      <td>3.853752e-08</td>\n",
       "      <td>3.885124e-08</td>\n",
       "      <td>3.631025e-08</td>\n",
       "    </tr>\n",
       "    <tr>\n",
       "      <th>BSU00180</th>\n",
       "      <td>1.407703e-09</td>\n",
       "      <td>1.416381e-09</td>\n",
       "      <td>1.425146e-09</td>\n",
       "      <td>1.433997e-09</td>\n",
       "      <td>1.442919e-09</td>\n",
       "      <td>1.451944e-09</td>\n",
       "      <td>1.461041e-09</td>\n",
       "      <td>1.385799e-09</td>\n",
       "    </tr>\n",
       "    <tr>\n",
       "      <th>...</th>\n",
       "      <td>...</td>\n",
       "      <td>...</td>\n",
       "      <td>...</td>\n",
       "      <td>...</td>\n",
       "      <td>...</td>\n",
       "      <td>...</td>\n",
       "      <td>...</td>\n",
       "      <td>...</td>\n",
       "    </tr>\n",
       "    <tr>\n",
       "      <th>BSU40890</th>\n",
       "      <td>2.746504e-05</td>\n",
       "      <td>2.734968e-05</td>\n",
       "      <td>2.723321e-05</td>\n",
       "      <td>2.711561e-05</td>\n",
       "      <td>2.699708e-05</td>\n",
       "      <td>2.687723e-05</td>\n",
       "      <td>2.675643e-05</td>\n",
       "      <td>2.764114e-05</td>\n",
       "    </tr>\n",
       "    <tr>\n",
       "      <th>BSU40910</th>\n",
       "      <td>2.746504e-05</td>\n",
       "      <td>2.734968e-05</td>\n",
       "      <td>2.723321e-05</td>\n",
       "      <td>2.711561e-05</td>\n",
       "      <td>2.699708e-05</td>\n",
       "      <td>2.687723e-05</td>\n",
       "      <td>2.675643e-05</td>\n",
       "      <td>2.764114e-05</td>\n",
       "    </tr>\n",
       "    <tr>\n",
       "      <th>BSU41050</th>\n",
       "      <td>2.648089e-12</td>\n",
       "      <td>2.638994e-12</td>\n",
       "      <td>2.629751e-12</td>\n",
       "      <td>2.620356e-12</td>\n",
       "      <td>2.610818e-12</td>\n",
       "      <td>2.601113e-12</td>\n",
       "      <td>2.591261e-12</td>\n",
       "      <td>2.607018e-12</td>\n",
       "    </tr>\n",
       "    <tr>\n",
       "      <th>BSU41060</th>\n",
       "      <td>2.746504e-05</td>\n",
       "      <td>2.734968e-05</td>\n",
       "      <td>2.723321e-05</td>\n",
       "      <td>2.711561e-05</td>\n",
       "      <td>2.699708e-05</td>\n",
       "      <td>2.687723e-05</td>\n",
       "      <td>2.675643e-05</td>\n",
       "      <td>2.764114e-05</td>\n",
       "    </tr>\n",
       "    <tr>\n",
       "      <th>dummy</th>\n",
       "      <td>4.492412e-03</td>\n",
       "      <td>4.473398e-03</td>\n",
       "      <td>4.454251e-03</td>\n",
       "      <td>4.434970e-03</td>\n",
       "      <td>4.415595e-03</td>\n",
       "      <td>4.396049e-03</td>\n",
       "      <td>4.376408e-03</td>\n",
       "      <td>4.551379e-03</td>\n",
       "    </tr>\n",
       "  </tbody>\n",
       "</table>\n",
       "<p>466 rows × 8 columns</p>\n",
       "</div>"
      ],
      "text/plain": [
       "                  -3.5          -3.0          -2.5          -2.0  \\\n",
       "BSU00090  2.042631e-07  2.051746e-07  2.060940e-07  2.070212e-07   \n",
       "BSU00130  9.713724e-08  9.686203e-08  9.657935e-08  9.628909e-08   \n",
       "BSU00140  1.474092e-07  1.485921e-07  1.497885e-07  1.509986e-07   \n",
       "BSU00150  3.701856e-08  3.731563e-08  3.761609e-08  3.791997e-08   \n",
       "BSU00180  1.407703e-09  1.416381e-09  1.425146e-09  1.433997e-09   \n",
       "...                ...           ...           ...           ...   \n",
       "BSU40890  2.746504e-05  2.734968e-05  2.723321e-05  2.711561e-05   \n",
       "BSU40910  2.746504e-05  2.734968e-05  2.723321e-05  2.711561e-05   \n",
       "BSU41050  2.648089e-12  2.638994e-12  2.629751e-12  2.620356e-12   \n",
       "BSU41060  2.746504e-05  2.734968e-05  2.723321e-05  2.711561e-05   \n",
       "dummy     4.492412e-03  4.473398e-03  4.454251e-03  4.434970e-03   \n",
       "\n",
       "                  -1.5          -1.0          -0.5          -0.0  \n",
       "BSU00090  2.079542e-07  2.088972e-07  2.098459e-07  1.994975e-07  \n",
       "BSU00130  9.599125e-08  9.568539e-08  9.537170e-08  9.663331e-08  \n",
       "BSU00140  1.522201e-07  1.534577e-07  1.547069e-07  0.000000e+00  \n",
       "BSU00150  3.822673e-08  3.853752e-08  3.885124e-08  3.631025e-08  \n",
       "BSU00180  1.442919e-09  1.451944e-09  1.461041e-09  1.385799e-09  \n",
       "...                ...           ...           ...           ...  \n",
       "BSU40890  2.699708e-05  2.687723e-05  2.675643e-05  2.764114e-05  \n",
       "BSU40910  2.699708e-05  2.687723e-05  2.675643e-05  2.764114e-05  \n",
       "BSU41050  2.610818e-12  2.601113e-12  2.591261e-12  2.607018e-12  \n",
       "BSU41060  2.699708e-05  2.687723e-05  2.675643e-05  2.764114e-05  \n",
       "dummy     4.415595e-03  4.396049e-03  4.376408e-03  4.551379e-03  \n",
       "\n",
       "[466 rows x 8 columns]"
      ]
     },
     "execution_count": 15,
     "metadata": {},
     "output_type": "execute_result"
    }
   ],
   "source": [
    "transcription_df"
   ]
  },
  {
   "cell_type": "markdown",
   "metadata": {},
   "source": [
    "What should be the threshold to identify up or downregulation in the model?"
   ]
  },
  {
   "cell_type": "code",
   "execution_count": 21,
   "metadata": {},
   "outputs": [],
   "source": [
    "thresholds = np.arange(0,0.05,0.001)\n",
    "accuracies = pd.DataFrame(index=thresholds,columns=['TPR','FNR','FDR'])\n",
    "for threshold in thresholds:\n",
    "\n",
    "    predicted_fold_change = ((transcription_df['-3.5']-transcription_df['-0.0'])/transcription_df['-0.0'])\n",
    "\n",
    "    upregulated_genes = predicted_fold_change[predicted_fold_change>threshold]\n",
    "    downregulated_genes = predicted_fold_change[predicted_fold_change<-threshold]\n",
    "    rest_genes = predicted_fold_change[abs(predicted_fold_change)<=threshold]\n",
    "\n",
    "    predicted_decision = pd.DataFrame(data=np.zeros(len(transcription_df.index)),index=transcription_df.index,columns=['reg'])\n",
    "    predicted_decision.loc[upregulated_genes.index]= 1\n",
    "    predicted_decision.loc[downregulated_genes.index] = -1\n",
    "\n",
    "    decision_results = predicted_decision.join(decision_df,lsuffix='_me',rsuffix='_rna')\n",
    "    \n",
    "    \n",
    "    # Metrics\n",
    "    P = decision_results[decision_results['reg_rna'] != 0].index\n",
    "    F = decision_results[decision_results['reg_rna'] == 0].index\n",
    "    pP = decision_results[decision_results['reg_me'] != 0].index\n",
    "    pF = decision_results[decision_results['reg_me'] == 0].index\n",
    "\n",
    "    TP = len(set(P)&set(pP))\n",
    "    FP = len(pP)-TP\n",
    "    TN = len(set(F)&set(pF))\n",
    "    FN = len(pF)-TN\n",
    "\n",
    "    TPR = TP/(TP+FN)\n",
    "    FNR = TN/(TN+FP)\n",
    "\n",
    "    prec = TP/(TP+FP)\n",
    "    FDR = 1-prec\n",
    "    \n",
    "    accuracies.loc[threshold]['TPR'] = TPR\n",
    "    accuracies.loc[threshold]['FNR'] = FNR\n",
    "    accuracies.loc[threshold]['FDR'] = FDR\n",
    "\n",
    "    correct = sum(decision_results['reg_me'] == decision_results['reg_rna'])\n",
    "    incorrect = len(decision_results.index)-correct\n",
    "\n",
    "    accuracy = correct/len(decision_results.index)"
   ]
  },
  {
   "cell_type": "code",
   "execution_count": 22,
   "metadata": {},
   "outputs": [
    {
     "data": {
      "text/plain": [
       "Text(0, 0.5, 'Metric')"
      ]
     },
     "execution_count": 22,
     "metadata": {},
     "output_type": "execute_result"
    },
    {
     "data": {
      "image/png": "[encoded data removed]",
      "text/plain": [
       "<Figure size 432x288 with 1 Axes>"
      ]
     },
     "metadata": {
      "needs_background": "light"
     },
     "output_type": "display_data"
    }
   ],
   "source": [
    "accuracies.plot()\n",
    "plt.xlabel('Threshold for expression change')\n",
    "plt.ylabel('Metric')"
   ]
  },
  {
   "cell_type": "markdown",
   "metadata": {},
   "source": [
    "Seems like the model is able to capture regulation with small changes. Threshold of 0 is the best for accuracy."
   ]
  },
  {
   "cell_type": "code",
   "execution_count": 23,
   "metadata": {},
   "outputs": [],
   "source": [
    "threshold = 0.\n",
    "predicted_fold_change = ((transcription_df['-3.5']-transcription_df['-0.0'])/transcription_df['-0.0'])\n",
    "\n",
    "upregulated_genes = predicted_fold_change[predicted_fold_change>threshold]\n",
    "downregulated_genes = predicted_fold_change[predicted_fold_change<-threshold]\n",
    "rest_genes = predicted_fold_change[abs(predicted_fold_change)<=threshold]\n",
    "\n",
    "predicted_decision = pd.DataFrame(data=np.zeros(len(transcription_df.index)),index=transcription_df.index,columns=['reg'])\n",
    "predicted_decision.loc[upregulated_genes.index]= 1\n",
    "predicted_decision.loc[downregulated_genes.index] = -1\n",
    "\n",
    "decision_results = predicted_decision.join(decision_df,lsuffix='_me',rsuffix='_rna')\n",
    "decision_results\n",
    "\n",
    "correct = sum(decision_results['reg_me'] == decision_results['reg_rna'])\n",
    "incorrect = len(decision_results.index)-correct\n",
    "\n",
    "accuracy = correct/len(decision_results.index)"
   ]
  },
  {
   "cell_type": "code",
   "execution_count": 24,
   "metadata": {},
   "outputs": [
    {
     "data": {
      "text/plain": [
       "Text(0.5, 1.0, 'Regulation of active genes in the model')"
      ]
     },
     "execution_count": 24,
     "metadata": {},
     "output_type": "execute_result"
    },
    {
     "data": {
      "image/png": "[encoded data removed]",
      "text/plain": [
       "<Figure size 432x288 with 1 Axes>"
      ]
     },
     "metadata": {
      "needs_background": "light"
     },
     "output_type": "display_data"
    }
   ],
   "source": [
    "decision_results['reg_me'].hist(alpha=0.5,label='reg')\n",
    "decision_results['reg_rna'].hist(alpha=0.5,label='rna')\n",
    "\n",
    "plt.legend()\n",
    "plt.xlabel('Regulation')\n",
    "plt.ylabel('Count')\n",
    "plt.xticks([-1,0,1], ['down',0,'up'])\n",
    "plt.title('Regulation of active genes in the model')"
   ]
  },
  {
   "cell_type": "code",
   "execution_count": 1,
   "metadata": {},
   "outputs": [
    {
     "ename": "NameError",
     "evalue": "name 'decision_results' is not defined",
     "output_type": "error",
     "traceback": [
      "\u001b[0;31m---------------------------------------------------------------------------\u001b[0m",
      "\u001b[0;31mNameError\u001b[0m                                 Traceback (most recent call last)",
      "\u001b[0;32m<ipython-input-1-5eebd53ca44d>\u001b[0m in \u001b[0;36m<module>\u001b[0;34m\u001b[0m\n\u001b[0;32m----> 1\u001b[0;31m \u001b[0mdecision_results\u001b[0m\u001b[0;34m\u001b[0m\u001b[0m\n\u001b[0m",
      "\u001b[0;31mNameError\u001b[0m: name 'decision_results' is not defined"
     ]
    }
   ],
   "source": [
    "decision_results"
   ]
  },
  {
   "cell_type": "code",
   "execution_count": null,
   "metadata": {},
   "outputs": [],
   "source": []
  }
 ],
 "metadata": {
  "kernelspec": {
   "display_name": "Python 3",
   "language": "python",
   "name": "python3"
  },
  "language_info": {
   "codemirror_mode": {
    "name": "ipython",
    "version": 3
   },
   "file_extension": ".py",
   "mimetype": "text/x-python",
   "name": "python",
   "nbconvert_exporter": "python",
   "pygments_lexer": "ipython3",
   "version": "3.6.3"
  }
 },
 "nbformat": 4,
 "nbformat_minor": 4
}
