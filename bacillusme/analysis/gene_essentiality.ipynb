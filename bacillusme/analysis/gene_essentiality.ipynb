{
 "cells": [
  {
   "cell_type": "markdown",
   "metadata": {},
   "source": [
    "# Gene essentiality"
   ]
  },
  {
   "cell_type": "code",
   "execution_count": 2,
   "metadata": {
    "scrolled": true
   },
   "outputs": [
    {
     "name": "stderr",
     "output_type": "stream",
     "text": [
      "/home/jt/Downloads/cobrapy-0.5.11/cobra/io/sbml3.py:24: UserWarning: Install lxml for faster SBML I/O\n",
      "  warn(\"Install lxml for faster SBML I/O\")\n",
      "/home/jt/Downloads/cobrapy-0.5.11/cobra/io/__init__.py:12: UserWarning: cobra.io.sbml requires libsbml\n",
      "  warn(\"cobra.io.sbml requires libsbml\")\n"
     ]
    },
    {
     "name": "stdout",
     "output_type": "stream",
     "text": [
      "/home/jt/Downloads/cobrapy-0.5.11/cobra/__init__.py\n",
      "/home/jt/UCSD/cobrame-master/cobrame/__init__.py\n",
      "/home/jt/UCSD/bacillusme-master/bacillusme/__init__.py\n"
     ]
    }
   ],
   "source": [
    "from __future__ import print_function, division, absolute_import\n",
    "\n",
    "import sys\n",
    "\n",
    "import qminospy\n",
    "from qminospy.me2 import ME_NLP\n",
    "\n",
    "# python imports\n",
    "from copy import copy\n",
    "import re\n",
    "from os.path import join\n",
    "from collections import defaultdict\n",
    "import pickle\n",
    "\n",
    "# third party imports\n",
    "import pandas\n",
    "import cobra\n",
    "from tqdm import tqdm\n",
    "import numpy as np\n",
    "import scipy\n",
    "\n",
    "# COBRAme\n",
    "import cobrame\n",
    "from cobrame.util import building, mu, me_model_interface\n",
    "from cobrame.io.json import save_json_me_model, save_reduced_json_me_model\n",
    "\n",
    "# ECOLIme\n",
    "import bacillusme\n",
    "from bacillusme import (transcription, translation, flat_files, generics, formulas, compartments)\n",
    "from bacillusme.util.helper_functions import *\n",
    "\n",
    "%load_ext autoreload\n",
    "%autoreload 2\n",
    "print(cobra.__file__)\n",
    "print(cobrame.__file__)\n",
    "print(bacillusme.__file__)"
   ]
  },
  {
   "cell_type": "code",
   "execution_count": 3,
   "metadata": {
    "scrolled": true
   },
   "outputs": [
    {
     "data": {
      "text/plain": [
       "<Solution 0.12 at 0x7f2a27c3e3c8>"
      ]
     },
     "execution_count": 3,
     "metadata": {},
     "output_type": "execute_result"
    }
   ],
   "source": [
    "eco_directory = join(flat_files.ecoli_files_dir, 'iJO1366.json')\n",
    "ijo_directory = join(flat_files.ecoli_files_dir, 'iYO844.json')\n",
    "uni_directory = join(flat_files.ecoli_files_dir, 'universal_model.json')\n",
    "\n",
    "eco = cobra.io.load_json_model(eco_directory)\n",
    "bsub = cobra.io.load_json_model(ijo_directory)\n",
    "uni = cobra.io.load_json_model(uni_directory)\n",
    "\n",
    "bsub.optimize()"
   ]
  },
  {
   "cell_type": "code",
   "execution_count": 4,
   "metadata": {
    "scrolled": true
   },
   "outputs": [],
   "source": [
    "with open('../me_models/solution.pickle', 'rb') as solution:\n",
    "    me = pickle.load(solution)"
   ]
  },
  {
   "cell_type": "markdown",
   "metadata": {},
   "source": [
    "## Essentiality"
   ]
  },
  {
   "cell_type": "markdown",
   "metadata": {},
   "source": [
    "M-model"
   ]
  },
  {
   "cell_type": "code",
   "execution_count": 5,
   "metadata": {
    "scrolled": true
   },
   "outputs": [],
   "source": [
    "from bacillusme.analysis import essentiality as es"
   ]
  },
  {
   "cell_type": "code",
   "execution_count": 6,
   "metadata": {
    "scrolled": true
   },
   "outputs": [
    {
     "name": "stderr",
     "output_type": "stream",
     "text": [
      "10 threads:   0%|          | 0/844 [00:00<?, ?it/s]"
     ]
    },
    {
     "name": "stdout",
     "output_type": "stream",
     "text": [
      "Solving model for base solution\n"
     ]
    },
    {
     "name": "stderr",
     "output_type": "stream",
     "text": [
      "10 threads: 100%|█████████▉| 843/844 [01:00<00:00, 10.29it/s]"
     ]
    },
    {
     "name": "stdout",
     "output_type": "stream",
     "text": [
      "Done\n"
     ]
    }
   ],
   "source": [
    "genes = [gene.id for gene in bsub.genes]\n",
    "essentiality_df_m,flux_responses_m = es.gene_essentiality(bsub,genes, 'm',NP=10,threshold = 0.01,precision=1e-6)"
   ]
  },
  {
   "cell_type": "code",
   "execution_count": 7,
   "metadata": {
    "scrolled": true
   },
   "outputs": [],
   "source": [
    "flux_responses_m.to_csv('essentiality/essentiality_raw_results.csv')"
   ]
  },
  {
   "cell_type": "markdown",
   "metadata": {},
   "source": [
    "ME-model"
   ]
  },
  {
   "cell_type": "code",
   "execution_count": null,
   "metadata": {
    "scrolled": true
   },
   "outputs": [
    {
     "name": "stdout",
     "output_type": "stream",
     "text": [
      "Solving model for base solution\n"
     ]
    },
    {
     "name": "stderr",
     "output_type": "stream",
     "text": [
      "10 threads: 100%|██████████| 844/844 [01:10<00:00, 10.29it/s]\n",
      "  0%|          | 0/963 [00:00<?, ?it/s]\u001b[A\n",
      "10 threads:   0%|          | 0/963 [00:00<?, ?it/s]\u001b[A\n",
      "10 threads:   0%|          | 1/963 [11:24<182:55:30, 684.54s/it]\u001b[A\n",
      "10 threads:   0%|          | 2/963 [11:36<128:52:45, 482.79s/it]\u001b[A\n",
      "10 threads:   0%|          | 3/963 [11:53<91:27:16, 342.96s/it] \u001b[A\n",
      "10 threads:   0%|          | 4/963 [12:06<64:59:52, 244.00s/it]\u001b[A\n",
      "10 threads:   1%|          | 5/963 [12:11<45:52:07, 172.37s/it]\u001b[A\n",
      "10 threads:   1%|          | 6/963 [12:12<32:09:21, 120.96s/it]\u001b[A\n",
      "10 threads:   1%|          | 7/963 [12:15<22:44:07, 85.61s/it] \u001b[A\n",
      "10 threads:   1%|          | 8/963 [23:15<68:24:56, 257.90s/it]\u001b[A\n",
      "10 threads:   1%|          | 9/963 [24:10<52:14:02, 197.11s/it]\u001b[A\n",
      "10 threads:   1%|          | 10/963 [24:15<36:51:21, 139.23s/it]\u001b[A\n",
      "10 threads:   1%|          | 11/963 [49:44<147:07:12, 556.34s/it]\u001b[A\n",
      "10 threads:   1%|          | 12/963 [1:01:24<158:20:26, 599.40s/it]\u001b[A\n",
      "10 threads:   1%|▏         | 13/963 [1:02:10<114:21:37, 433.37s/it]\u001b[A\n",
      "10 threads:   1%|▏         | 14/963 [2:58:05<630:00:21, 2389.91s/it]\u001b[A\n",
      "10 threads:   2%|▏         | 15/963 [2:59:49<448:42:32, 1703.96s/it]\u001b[A\n",
      "10 threads:   2%|▏         | 16/963 [3:02:28<326:20:39, 1240.59s/it]\u001b[A\n",
      "10 threads:   2%|▏         | 17/963 [3:06:18<246:19:27, 937.39s/it] \u001b[A\n",
      "10 threads:   2%|▏         | 18/963 [3:08:15<181:25:21, 691.13s/it]\u001b[A\n",
      "10 threads:   2%|▏         | 19/963 [3:08:19<127:11:25, 485.05s/it]\u001b[A\n",
      "10 threads:   2%|▏         | 20/963 [3:10:09<97:37:36, 372.70s/it] \u001b[A\n",
      "10 threads:   2%|▏         | 21/963 [3:16:40<98:58:29, 378.25s/it]\u001b[A\n",
      "10 threads:   2%|▏         | 22/963 [3:17:11<71:35:22, 273.88s/it]\u001b[A\n",
      "10 threads:   2%|▏         | 23/963 [3:18:24<55:49:47, 213.82s/it]\u001b[A\n",
      "10 threads:   2%|▏         | 24/963 [3:18:36<39:58:37, 153.27s/it]\u001b[A\n",
      "10 threads:   3%|▎         | 25/963 [3:20:31<36:53:33, 141.59s/it]\u001b[A\n",
      "10 threads:   3%|▎         | 26/963 [3:21:42<31:22:49, 120.56s/it]\u001b[A\n",
      "10 threads:   3%|▎         | 27/963 [3:28:59<56:00:47, 215.44s/it]\u001b[A\n",
      "10 threads:   3%|▎         | 28/963 [3:29:09<39:57:44, 153.87s/it]\u001b[A\n",
      "10 threads:   3%|▎         | 29/963 [3:30:40<34:59:59, 134.90s/it]\u001b[A\n",
      "10 threads:   3%|▎         | 30/963 [3:30:52<25:25:16, 98.09s/it] \u001b[A\n",
      "10 threads:   3%|▎         | 31/963 [3:32:16<24:15:08, 93.68s/it]\u001b[A\n",
      "10 threads:   3%|▎         | 32/963 [3:33:48<24:06:33, 93.23s/it]\u001b[A\n",
      "10 threads:   3%|▎         | 33/963 [3:37:49<35:32:53, 137.61s/it]\u001b[A\n",
      "10 threads:   4%|▎         | 34/963 [3:41:05<40:03:41, 155.24s/it]\u001b[A\n",
      "10 threads:   4%|▎         | 35/963 [3:41:12<28:30:37, 110.60s/it]\u001b[A\n",
      "10 threads:   4%|▎         | 36/963 [3:42:21<25:17:17, 98.21s/it] \u001b[A\n",
      "10 threads:   4%|▍         | 37/963 [3:42:41<19:12:43, 74.69s/it]\u001b[A\n",
      "10 threads:   4%|▍         | 38/963 [3:43:15<16:04:36, 62.57s/it]\u001b[A\n",
      "10 threads:   4%|▍         | 39/963 [3:44:06<15:10:24, 59.12s/it]\u001b[A\n",
      "10 threads:   4%|▍         | 40/963 [3:45:21<16:20:55, 63.77s/it]\u001b[A\n",
      "10 threads:   4%|▍         | 41/963 [3:46:29<16:41:34, 65.18s/it]\u001b[A\n",
      "10 threads:   4%|▍         | 42/963 [3:46:41<12:34:54, 49.18s/it]\u001b[A\n",
      "10 threads:   4%|▍         | 43/963 [3:49:53<23:28:45, 91.88s/it]\u001b[A\n",
      "10 threads:   5%|▍         | 44/963 [3:53:07<31:19:15, 122.69s/it]\u001b[A\n",
      "10 threads:   5%|▍         | 45/963 [3:53:40<24:23:42, 95.67s/it] \u001b[A\n",
      "10 threads:   5%|▍         | 46/963 [3:54:39<21:35:19, 84.75s/it]\u001b[A\n",
      "10 threads:   5%|▍         | 47/963 [3:54:55<16:17:05, 64.00s/it]\u001b[A\n",
      "10 threads:   5%|▍         | 48/963 [3:55:14<12:53:30, 50.72s/it]\u001b[A\n",
      "10 threads:   5%|▌         | 49/963 [3:55:39<10:53:03, 42.87s/it]\u001b[A\n",
      "10 threads:   5%|▌         | 50/963 [3:57:08<14:24:46, 56.83s/it]\u001b[A\n",
      "10 threads:   5%|▌         | 51/963 [4:01:46<31:11:11, 123.10s/it]\u001b[A\n",
      "10 threads:   5%|▌         | 52/963 [4:05:08<37:09:01, 146.81s/it]\u001b[A\n",
      "10 threads:   6%|▌         | 53/963 [4:05:53<29:21:55, 116.17s/it]\u001b[A\n",
      "10 threads:   6%|▌         | 54/963 [4:06:52<24:59:12, 98.96s/it] \u001b[A\n",
      "10 threads:   6%|▌         | 55/963 [4:07:10<18:51:57, 74.80s/it]\u001b[A\n",
      "10 threads:   6%|▌         | 56/963 [4:07:18<13:48:03, 54.78s/it]\u001b[A\n",
      "10 threads:   6%|▌         | 57/963 [4:07:42<11:25:05, 45.37s/it]\u001b[A\n",
      "10 threads:   6%|▌         | 58/963 [4:08:36<12:05:50, 48.12s/it]\u001b[A\n",
      "10 threads:   6%|▌         | 59/963 [4:13:49<32:04:02, 127.70s/it]\u001b[A"
     ]
    }
   ],
   "source": [
    "genes = [gene.id for gene in me.genes]\n",
    "essentiality_df_me,flux_responses_me = es.gene_essentiality(me,genes,'me',NP=10,threshold = 0.01,precision=1e-6)"
   ]
  },
  {
   "cell_type": "code",
   "execution_count": null,
   "metadata": {
    "scrolled": true
   },
   "outputs": [],
   "source": [
    "flux_responses_me.to_csv('essentiality/essentiality_raw_me_results.csv')"
   ]
  },
  {
   "cell_type": "markdown",
   "metadata": {},
   "source": [
    "### Save combined results"
   ]
  },
  {
   "cell_type": "code",
   "execution_count": null,
   "metadata": {
    "scrolled": true
   },
   "outputs": [],
   "source": [
    "essentiality_df = essentiality_df_me.join(essentiality_df_m,lsuffix='_me',rsuffix='_m')"
   ]
  },
  {
   "cell_type": "code",
   "execution_count": null,
   "metadata": {
    "scrolled": true
   },
   "outputs": [],
   "source": [
    "essentiality_df.to_csv('essentiality/essentiality_results.csv')"
   ]
  },
  {
   "cell_type": "markdown",
   "metadata": {},
   "source": [
    "### Read"
   ]
  },
  {
   "cell_type": "code",
   "execution_count": null,
   "metadata": {
    "scrolled": true
   },
   "outputs": [],
   "source": [
    "# Read\n",
    "essentiality_df = pd.read_csv('essentiality_results.csv',index_col=0)\n",
    "subtiwiki_df = pd.read_csv('subtiwiki_essential.txt',sep='\\t')"
   ]
  },
  {
   "cell_type": "markdown",
   "metadata": {},
   "source": [
    "## M/ME comparison"
   ]
  },
  {
   "cell_type": "code",
   "execution_count": null,
   "metadata": {},
   "outputs": [],
   "source": [
    "essentiality_df[essentiality_df.essentiality_m != essentiality_df.essentiality_me].dropna()"
   ]
  },
  {
   "cell_type": "code",
   "execution_count": null,
   "metadata": {},
   "outputs": [],
   "source": [
    "2"
   ]
  },
  {
   "cell_type": "code",
   "execution_count": null,
   "metadata": {},
   "outputs": [],
   "source": []
  }
 ],
 "metadata": {
  "kernelspec": {
   "display_name": "Python 3",
   "language": "python",
   "name": "python3"
  },
  "language_info": {
   "codemirror_mode": {
    "name": "ipython",
    "version": 3
   },
   "file_extension": ".py",
   "mimetype": "text/x-python",
   "name": "python",
   "nbconvert_exporter": "python",
   "pygments_lexer": "ipython3",
   "version": "3.6.3"
  }
 },
 "nbformat": 4,
 "nbformat_minor": 4
}
