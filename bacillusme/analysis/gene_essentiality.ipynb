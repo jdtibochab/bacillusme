{
 "cells": [
  {
   "cell_type": "markdown",
   "metadata": {},
   "source": [
    "# Gene essentiality"
   ]
  },
  {
   "cell_type": "code",
   "execution_count": 2,
   "metadata": {
    "scrolled": true
   },
   "outputs": [
    {
     "name": "stderr",
     "output_type": "stream",
     "text": [
      "/home/jt/Downloads/cobrapy-0.5.11/cobra/io/sbml3.py:24: UserWarning: Install lxml for faster SBML I/O\n",
      "  warn(\"Install lxml for faster SBML I/O\")\n",
      "/home/jt/Downloads/cobrapy-0.5.11/cobra/io/__init__.py:12: UserWarning: cobra.io.sbml requires libsbml\n",
      "  warn(\"cobra.io.sbml requires libsbml\")\n"
     ]
    },
    {
     "name": "stdout",
     "output_type": "stream",
     "text": [
      "/home/jt/Downloads/cobrapy-0.5.11/cobra/__init__.py\n",
      "/home/jt/UCSD/cobrame-master/cobrame/__init__.py\n",
      "/home/jt/UCSD/bacillusme-master/bacillusme/__init__.py\n"
     ]
    }
   ],
   "source": [
    "from __future__ import print_function, division, absolute_import\n",
    "\n",
    "import sys\n",
    "\n",
    "import qminospy\n",
    "from qminospy.me2 import ME_NLP\n",
    "\n",
    "# python imports\n",
    "from copy import copy\n",
    "import re\n",
    "from os.path import join\n",
    "from collections import defaultdict\n",
    "import pickle\n",
    "\n",
    "# third party imports\n",
    "import pandas\n",
    "import cobra\n",
    "from tqdm import tqdm\n",
    "import numpy as np\n",
    "import scipy\n",
    "\n",
    "# COBRAme\n",
    "import cobrame\n",
    "from cobrame.util import building, mu, me_model_interface\n",
    "from cobrame.io.json import save_json_me_model, save_reduced_json_me_model\n",
    "\n",
    "# ECOLIme\n",
    "import bacillusme\n",
    "from bacillusme import (transcription, translation, flat_files, generics, formulas, compartments)\n",
    "from bacillusme.util.helper_functions import *\n",
    "\n",
    "import matplotlib.pyplot as plt \n",
    "\n",
    "%load_ext autoreload\n",
    "%autoreload 2\n",
    "print(cobra.__file__)\n",
    "print(cobrame.__file__)\n",
    "print(bacillusme.__file__)"
   ]
  },
  {
   "cell_type": "code",
   "execution_count": 33,
   "metadata": {},
   "outputs": [],
   "source": [
    "def get_genes_of_me(me):\n",
    "    genes = [m.id.split('_')[1] for m in me.metabolites if isinstance(m,cobrame.TranslatedGene)]\n",
    "    if 'dummy' in genes:\n",
    "        genes.remove('dummy')\n",
    "    return list(set(genes))"
   ]
  },
  {
   "cell_type": "code",
   "execution_count": 4,
   "metadata": {
    "scrolled": true
   },
   "outputs": [
    {
     "data": {
      "text/plain": [
       "<Solution 0.12 at 0x7f90c95b8518>"
      ]
     },
     "execution_count": 4,
     "metadata": {},
     "output_type": "execute_result"
    }
   ],
   "source": [
    "eco_directory = join(flat_files.ecoli_files_dir, 'iJO1366.json')\n",
    "ijo_directory = join(flat_files.ecoli_files_dir, 'iYO844.json')\n",
    "uni_directory = join(flat_files.ecoli_files_dir, 'universal_model.json')\n",
    "\n",
    "eco = cobra.io.load_json_model(eco_directory)\n",
    "bsub = cobra.io.load_json_model(ijo_directory)\n",
    "uni = cobra.io.load_json_model(uni_directory)\n",
    "\n",
    "bsub.optimize()"
   ]
  },
  {
   "cell_type": "code",
   "execution_count": 5,
   "metadata": {
    "scrolled": true
   },
   "outputs": [],
   "source": [
    "with open('../me_models/solution.pickle', 'rb') as solution:\n",
    "    me = pickle.load(solution)\n",
    "with open('../me_models/final/iJL1678b.pickle', 'rb') as f:\n",
    "    ecome = pickle.load(f)"
   ]
  },
  {
   "cell_type": "markdown",
   "metadata": {},
   "source": [
    "## Essentiality"
   ]
  },
  {
   "cell_type": "markdown",
   "metadata": {},
   "source": [
    "M-model"
   ]
  },
  {
   "cell_type": "code",
   "execution_count": 11,
   "metadata": {
    "scrolled": true
   },
   "outputs": [],
   "source": [
    "from bacillusme.analysis import essentiality as es"
   ]
  },
  {
   "cell_type": "code",
   "execution_count": 5,
   "metadata": {
    "scrolled": true
   },
   "outputs": [
    {
     "name": "stderr",
     "output_type": "stream",
     "text": [
      "10 threads:   0%|          | 0/844 [00:00<?, ?it/s]"
     ]
    },
    {
     "name": "stdout",
     "output_type": "stream",
     "text": [
      "Solving model for base solution\n"
     ]
    },
    {
     "name": "stderr",
     "output_type": "stream",
     "text": [
      "10 threads: 100%|██████████| 844/844 [00:58<00:00,  9.49it/s]"
     ]
    },
    {
     "name": "stdout",
     "output_type": "stream",
     "text": [
      "Done\n"
     ]
    }
   ],
   "source": [
    "genes = [gene.id for gene in bsub.genes]\n",
    "essentiality_df_m,flux_responses_m = es.gene_essentiality(bsub,genes, 'm',NP=10,threshold = 0.01,precision=1e-6)\n",
    "flux_responses_m.to_csv('essentiality/essentiality_raw_results.csv')"
   ]
  },
  {
   "cell_type": "code",
   "execution_count": 68,
   "metadata": {
    "scrolled": true
   },
   "outputs": [
    {
     "name": "stderr",
     "output_type": "stream",
     "text": [
      "10 threads:   0%|          | 0/1367 [00:00<?, ?it/s]"
     ]
    },
    {
     "name": "stdout",
     "output_type": "stream",
     "text": [
      "Solving model for base solution\n"
     ]
    },
    {
     "name": "stderr",
     "output_type": "stream",
     "text": [
      "10 threads: 100%|█████████▉| 1366/1367 [03:15<00:00,  9.03it/s]"
     ]
    },
    {
     "name": "stdout",
     "output_type": "stream",
     "text": [
      "Done\n"
     ]
    }
   ],
   "source": [
    "# E. coli\n",
    "genes = [gene.id for gene in eco.genes]\n",
    "essentiality_df_m,flux_responses_m = es.gene_essentiality(eco,genes, 'm',NP=10,threshold = 0.01,precision=1e-6)\n",
    "flux_responses_m.to_csv('essentiality/essentiality_raw_results_eco.csv')"
   ]
  },
  {
   "cell_type": "markdown",
   "metadata": {},
   "source": [
    "ME-model"
   ]
  },
  {
   "cell_type": "code",
   "execution_count": null,
   "metadata": {
    "scrolled": true
   },
   "outputs": [
    {
     "name": "stdout",
     "output_type": "stream",
     "text": [
      "Solving model for base solution\n"
     ]
    },
    {
     "name": "stderr",
     "output_type": "stream",
     "text": [
      "10 threads: 100%|██████████| 844/844 [01:10<00:00,  9.49it/s]"
     ]
    }
   ],
   "source": [
    "genes = [gene.id for gene in me.genes]\n",
    "essentiality_df_me,flux_responses_me = es.gene_essentiality(me,genes,'me',NP=10,threshold = 0.01,precision=1e-6)\n",
    "flux_responses_me.to_csv('essentiality/essentiality_raw_me_results.csv')"
   ]
  },
  {
   "cell_type": "code",
   "execution_count": null,
   "metadata": {
    "scrolled": true
   },
   "outputs": [
    {
     "name": "stdout",
     "output_type": "stream",
     "text": [
      "Solving model for base solution\n"
     ]
    },
    {
     "name": "stderr",
     "output_type": "stream",
     "text": [
      "\n",
      "  0%|          | 0/1569 [00:00<?, ?it/s]\u001b[A\n",
      "10 threads:   0%|          | 0/1569 [00:00<?, ?it/s]\u001b[A\n",
      "10 threads:   0%|          | 1/1569 [18:08<473:54:49, 1088.07s/it]\u001b[A\n",
      "10 threads:   0%|          | 2/1569 [18:19<332:58:27, 764.97s/it] \u001b[A\n",
      "10 threads:   0%|          | 3/1569 [18:22<233:25:03, 536.59s/it]\u001b[A\n",
      "10 threads:   0%|          | 4/1569 [18:23<163:21:13, 375.77s/it]\u001b[A\n",
      "10 threads:   0%|          | 5/1569 [18:49<117:40:33, 270.87s/it]\u001b[A\n",
      "10 threads:   0%|          | 6/1569 [35:57<216:11:17, 497.94s/it]\u001b[A\n",
      "10 threads:   0%|          | 7/1569 [36:30<155:34:07, 358.55s/it]\u001b[A\n",
      "10 threads:   1%|          | 8/1569 [36:36<109:35:07, 252.73s/it]\u001b[A\n",
      "10 threads:   1%|          | 9/1569 [36:40<77:13:31, 178.21s/it] \u001b[A\n",
      "10 threads:   1%|          | 10/1569 [36:57<56:13:05, 129.82s/it]\u001b[A"
     ]
    }
   ],
   "source": [
    "# E. coli\n",
    "genes_eco = get_genes_of_me(ecome)\n",
    "essentiality_df_me,flux_responses_me = es.gene_essentiality(ecome,genes_eco,'me',NP=10,threshold = 0.01,precision=1e-6)\n",
    "flux_responses_me.to_csv('essentiality/essentiality_raw_me_results_eco.csv')"
   ]
  },
  {
   "cell_type": "code",
   "execution_count": 70,
   "metadata": {},
   "outputs": [],
   "source": [
    "# Read\n",
    "flux_responses_m = pd.read_csv('essentiality/essentiality_raw_results.csv',index_col=0)\n",
    "flux_responses_me = pd.read_csv('essentiality/essentiality_raw_me_results.csv',index_col=0)\n",
    "\n",
    "flux_responses_m_eco = pd.read_csv('essentiality/essentiality_raw_results_eco.csv',index_col=0)\n",
    "flux_responses_me_eco = pd.read_csv('essentiality/essentiality_raw_me_results_eco.csv',index_col=0)"
   ]
  },
  {
   "cell_type": "code",
   "execution_count": 72,
   "metadata": {},
   "outputs": [
    {
     "name": "stdout",
     "output_type": "stream",
     "text": [
      "Done\n",
      "Done\n",
      "Done\n",
      "Done\n"
     ]
    }
   ],
   "source": [
    "essentiality_df_m,_ = es.gene_essentiality(bsub,genes,'m',flux_responses=flux_responses_m)\n",
    "essentiality_df_me,_ = es.gene_essentiality(me,genes,'me',flux_responses=flux_responses_me)\n",
    "\n",
    "essentiality_df_m_eco,_ = es.gene_essentiality(eco,genes_eco,'m',flux_responses=flux_responses_m_eco)\n",
    "essentiality_df_me_eco,_ = es.gene_essentiality(ecome,genes_eco,'me',flux_responses=flux_responses_me_eco)"
   ]
  },
  {
   "cell_type": "markdown",
   "metadata": {},
   "source": [
    "### Combine results"
   ]
  },
  {
   "cell_type": "code",
   "execution_count": 73,
   "metadata": {
    "scrolled": true
   },
   "outputs": [],
   "source": [
    "essentiality_df = essentiality_df_me.join(essentiality_df_m,lsuffix='_me',rsuffix='_m')\n",
    "essentiality_df_eco = essentiality_df_me_eco.join(essentiality_df_m_eco,lsuffix='_me',rsuffix='_m')"
   ]
  },
  {
   "cell_type": "markdown",
   "metadata": {},
   "source": [
    "## M/ME comparison"
   ]
  },
  {
   "cell_type": "code",
   "execution_count": 76,
   "metadata": {},
   "outputs": [],
   "source": [
    "difference_df = essentiality_df[essentiality_df.essentiality_m != essentiality_df.essentiality_me].dropna()\n",
    "difference_df_eco = essentiality_df_eco[essentiality_df_eco.essentiality_m != essentiality_df_eco.essentiality_me].dropna()"
   ]
  },
  {
   "cell_type": "code",
   "execution_count": 77,
   "metadata": {},
   "outputs": [
    {
     "data": {
      "text/html": [
       "<div>\n",
       "<style scoped>\n",
       "    .dataframe tbody tr th:only-of-type {\n",
       "        vertical-align: middle;\n",
       "    }\n",
       "\n",
       "    .dataframe tbody tr th {\n",
       "        vertical-align: top;\n",
       "    }\n",
       "\n",
       "    .dataframe thead th {\n",
       "        text-align: right;\n",
       "    }\n",
       "</style>\n",
       "<table border=\"1\" class=\"dataframe\">\n",
       "  <thead>\n",
       "    <tr style=\"text-align: right;\">\n",
       "      <th></th>\n",
       "      <th>response_me</th>\n",
       "      <th>essentiality_me</th>\n",
       "      <th>response_m</th>\n",
       "      <th>essentiality_m</th>\n",
       "    </tr>\n",
       "  </thead>\n",
       "  <tbody>\n",
       "    <tr>\n",
       "      <th>b0084</th>\n",
       "      <td>1.423161</td>\n",
       "      <td>+</td>\n",
       "      <td>0.000000</td>\n",
       "      <td>0</td>\n",
       "    </tr>\n",
       "    <tr>\n",
       "      <th>b0351</th>\n",
       "      <td>-0.553186</td>\n",
       "      <td>-</td>\n",
       "      <td>0.000000</td>\n",
       "      <td>0</td>\n",
       "    </tr>\n",
       "    <tr>\n",
       "      <th>b3747</th>\n",
       "      <td>-0.023486</td>\n",
       "      <td>-</td>\n",
       "      <td>0.000000</td>\n",
       "      <td>0</td>\n",
       "    </tr>\n",
       "    <tr>\n",
       "      <th>b0243</th>\n",
       "      <td>-0.378763</td>\n",
       "      <td>-</td>\n",
       "      <td>-0.000916</td>\n",
       "      <td>0</td>\n",
       "    </tr>\n",
       "    <tr>\n",
       "      <th>b2601</th>\n",
       "      <td>1.643464</td>\n",
       "      <td>+</td>\n",
       "      <td>0.000000</td>\n",
       "      <td>0</td>\n",
       "    </tr>\n",
       "    <tr>\n",
       "      <th>...</th>\n",
       "      <td>...</td>\n",
       "      <td>...</td>\n",
       "      <td>...</td>\n",
       "      <td>...</td>\n",
       "    </tr>\n",
       "    <tr>\n",
       "      <th>b3829</th>\n",
       "      <td>-1.000000</td>\n",
       "      <td>e</td>\n",
       "      <td>0.000000</td>\n",
       "      <td>0</td>\n",
       "    </tr>\n",
       "    <tr>\n",
       "      <th>b3956</th>\n",
       "      <td>1.552055</td>\n",
       "      <td>+</td>\n",
       "      <td>-0.003059</td>\n",
       "      <td>0</td>\n",
       "    </tr>\n",
       "    <tr>\n",
       "      <th>b0727</th>\n",
       "      <td>2.261684</td>\n",
       "      <td>+</td>\n",
       "      <td>-0.004733</td>\n",
       "      <td>0</td>\n",
       "    </tr>\n",
       "    <tr>\n",
       "      <th>b2779</th>\n",
       "      <td>-1.000000</td>\n",
       "      <td>e</td>\n",
       "      <td>-0.078823</td>\n",
       "      <td>-</td>\n",
       "    </tr>\n",
       "    <tr>\n",
       "      <th>b2762</th>\n",
       "      <td>-1.000000</td>\n",
       "      <td>e</td>\n",
       "      <td>0.000000</td>\n",
       "      <td>0</td>\n",
       "    </tr>\n",
       "  </tbody>\n",
       "</table>\n",
       "<p>179 rows × 4 columns</p>\n",
       "</div>"
      ],
      "text/plain": [
       "       response_me essentiality_me  response_m essentiality_m\n",
       "b0084     1.423161               +    0.000000              0\n",
       "b0351    -0.553186               -    0.000000              0\n",
       "b3747    -0.023486               -    0.000000              0\n",
       "b0243    -0.378763               -   -0.000916              0\n",
       "b2601     1.643464               +    0.000000              0\n",
       "...            ...             ...         ...            ...\n",
       "b3829    -1.000000               e    0.000000              0\n",
       "b3956     1.552055               +   -0.003059              0\n",
       "b0727     2.261684               +   -0.004733              0\n",
       "b2779    -1.000000               e   -0.078823              -\n",
       "b2762    -1.000000               e    0.000000              0\n",
       "\n",
       "[179 rows x 4 columns]"
      ]
     },
     "execution_count": 77,
     "metadata": {},
     "output_type": "execute_result"
    }
   ],
   "source": [
    "difference_df_eco"
   ]
  },
  {
   "cell_type": "markdown",
   "metadata": {},
   "source": [
    "## Reported essentiality"
   ]
  },
  {
   "cell_type": "code",
   "execution_count": 78,
   "metadata": {},
   "outputs": [],
   "source": [
    "gene_dictionary = pd.read_csv('../building_data/gene_name_dictionary.csv',index_col=0)\n",
    "essential_genes = pd.read_csv('./essentiality/subtiwiki_essential.txt',index_col=0,sep='\\t')\n",
    "essential_genes_eco = pd.read_csv('./essentiality/eco_essential.txt',index_col=3,sep='\\t')"
   ]
  },
  {
   "cell_type": "code",
   "execution_count": 105,
   "metadata": {},
   "outputs": [],
   "source": [
    "def get_gene_count(me):\n",
    "    from Bio import SeqIO\n",
    "    gb_file = SeqIO.read(\"../building_data/NC_000964.gb\", 'gb')\n",
    "    gene_count = 0\n",
    "    for feature in gb_file.features:\n",
    "        if feature.type not in {'CDS', 'rRNA','tRNA', 'ncRNA'}:\n",
    "            continue\n",
    "        gene_count += 1\n",
    "    return gene_count"
   ]
  },
  {
   "cell_type": "code",
   "execution_count": 106,
   "metadata": {},
   "outputs": [],
   "source": [
    "gene_count = get_gene_count(\"../building_data/NC_000964.gb\")\n",
    "gene_count_eco = get_gene_count(\"../building_data/NC_000913.2.gb\")"
   ]
  },
  {
   "cell_type": "code",
   "execution_count": 80,
   "metadata": {
    "scrolled": true
   },
   "outputs": [],
   "source": [
    "all_genes = get_genes_of_me(me)\n",
    "all_genes_eco = get_genes_of_me(ecome)"
   ]
  },
  {
   "cell_type": "code",
   "execution_count": 81,
   "metadata": {},
   "outputs": [],
   "source": [
    "def get_true_essentiality(essential_genes,all_genes,gene_dictionary=False):\n",
    "    true_essentiality = {}\n",
    "    for locus_id in all_genes:\n",
    "        if isinstance(gene_dictionary,pd.DataFrame):\n",
    "            name = gene_dictionary.loc[locus_id]['name']\n",
    "        else:\n",
    "            name = locus_id\n",
    "        if name in essential_genes.index.values:\n",
    "            true_essentiality[locus_id] = 'e'\n",
    "        else:\n",
    "            true_essentiality[locus_id] = 0\n",
    "    true_essentiality_df = pd.DataFrame({'true_essentiality':true_essentiality})\n",
    "    return true_essentiality_df"
   ]
  },
  {
   "cell_type": "code",
   "execution_count": 90,
   "metadata": {},
   "outputs": [
    {
     "data": {
      "text/html": [
       "<div>\n",
       "<style scoped>\n",
       "    .dataframe tbody tr th:only-of-type {\n",
       "        vertical-align: middle;\n",
       "    }\n",
       "\n",
       "    .dataframe tbody tr th {\n",
       "        vertical-align: top;\n",
       "    }\n",
       "\n",
       "    .dataframe thead th {\n",
       "        text-align: right;\n",
       "    }\n",
       "</style>\n",
       "<table border=\"1\" class=\"dataframe\">\n",
       "  <thead>\n",
       "    <tr style=\"text-align: right;\">\n",
       "      <th></th>\n",
       "      <th>response_me</th>\n",
       "      <th>essentiality_me</th>\n",
       "      <th>response_m</th>\n",
       "      <th>essentiality_m</th>\n",
       "    </tr>\n",
       "  </thead>\n",
       "  <tbody>\n",
       "    <tr>\n",
       "      <th>BSU00140</th>\n",
       "      <td>0.000000</td>\n",
       "      <td>0</td>\n",
       "      <td>-2.150779e-10</td>\n",
       "      <td>0</td>\n",
       "    </tr>\n",
       "    <tr>\n",
       "      <th>BSU00180</th>\n",
       "      <td>0.000000</td>\n",
       "      <td>0</td>\n",
       "      <td>-2.960415e-06</td>\n",
       "      <td>0</td>\n",
       "    </tr>\n",
       "    <tr>\n",
       "      <th>BSU00150</th>\n",
       "      <td>-0.000234</td>\n",
       "      <td>0</td>\n",
       "      <td>-9.729447e-05</td>\n",
       "      <td>0</td>\n",
       "    </tr>\n",
       "    <tr>\n",
       "      <th>BSU00090</th>\n",
       "      <td>0.000000</td>\n",
       "      <td>0</td>\n",
       "      <td>-3.719203e-10</td>\n",
       "      <td>0</td>\n",
       "    </tr>\n",
       "    <tr>\n",
       "      <th>BSU00270</th>\n",
       "      <td>0.000000</td>\n",
       "      <td>0</td>\n",
       "      <td>-1.300703e-10</td>\n",
       "      <td>0</td>\n",
       "    </tr>\n",
       "    <tr>\n",
       "      <th>...</th>\n",
       "      <td>...</td>\n",
       "      <td>...</td>\n",
       "      <td>...</td>\n",
       "      <td>...</td>\n",
       "    </tr>\n",
       "    <tr>\n",
       "      <th>BSU41060</th>\n",
       "      <td>-1.000000</td>\n",
       "      <td>e</td>\n",
       "      <td>NaN</td>\n",
       "      <td>NaN</td>\n",
       "    </tr>\n",
       "    <tr>\n",
       "      <th>BSU40550</th>\n",
       "      <td>-1.000000</td>\n",
       "      <td>e</td>\n",
       "      <td>-1.000000e+00</td>\n",
       "      <td>e</td>\n",
       "    </tr>\n",
       "    <tr>\n",
       "      <th>BSU40910</th>\n",
       "      <td>-1.000000</td>\n",
       "      <td>e</td>\n",
       "      <td>NaN</td>\n",
       "      <td>NaN</td>\n",
       "    </tr>\n",
       "    <tr>\n",
       "      <th>BSU40420</th>\n",
       "      <td>-1.000000</td>\n",
       "      <td>e</td>\n",
       "      <td>-1.000000e+00</td>\n",
       "      <td>e</td>\n",
       "    </tr>\n",
       "    <tr>\n",
       "      <th>BSU41050</th>\n",
       "      <td>-1.000000</td>\n",
       "      <td>e</td>\n",
       "      <td>NaN</td>\n",
       "      <td>NaN</td>\n",
       "    </tr>\n",
       "  </tbody>\n",
       "</table>\n",
       "<p>963 rows × 4 columns</p>\n",
       "</div>"
      ],
      "text/plain": [
       "          response_me essentiality_me    response_m essentiality_m\n",
       "BSU00140     0.000000               0 -2.150779e-10              0\n",
       "BSU00180     0.000000               0 -2.960415e-06              0\n",
       "BSU00150    -0.000234               0 -9.729447e-05              0\n",
       "BSU00090     0.000000               0 -3.719203e-10              0\n",
       "BSU00270     0.000000               0 -1.300703e-10              0\n",
       "...               ...             ...           ...            ...\n",
       "BSU41060    -1.000000               e           NaN            NaN\n",
       "BSU40550    -1.000000               e -1.000000e+00              e\n",
       "BSU40910    -1.000000               e           NaN            NaN\n",
       "BSU40420    -1.000000               e -1.000000e+00              e\n",
       "BSU41050    -1.000000               e           NaN            NaN\n",
       "\n",
       "[963 rows x 4 columns]"
      ]
     },
     "execution_count": 90,
     "metadata": {},
     "output_type": "execute_result"
    }
   ],
   "source": [
    "essentiality_df"
   ]
  },
  {
   "cell_type": "code",
   "execution_count": 89,
   "metadata": {},
   "outputs": [
    {
     "data": {
      "text/html": [
       "<div>\n",
       "<style scoped>\n",
       "    .dataframe tbody tr th:only-of-type {\n",
       "        vertical-align: middle;\n",
       "    }\n",
       "\n",
       "    .dataframe tbody tr th {\n",
       "        vertical-align: top;\n",
       "    }\n",
       "\n",
       "    .dataframe thead th {\n",
       "        text-align: right;\n",
       "    }\n",
       "</style>\n",
       "<table border=\"1\" class=\"dataframe\">\n",
       "  <thead>\n",
       "    <tr style=\"text-align: right;\">\n",
       "      <th></th>\n",
       "      <th>true_essentiality</th>\n",
       "    </tr>\n",
       "  </thead>\n",
       "  <tbody>\n",
       "    <tr>\n",
       "      <th>BSU00090</th>\n",
       "      <td>0</td>\n",
       "    </tr>\n",
       "    <tr>\n",
       "      <th>BSU00110</th>\n",
       "      <td>0</td>\n",
       "    </tr>\n",
       "    <tr>\n",
       "      <th>BSU00120</th>\n",
       "      <td>0</td>\n",
       "    </tr>\n",
       "    <tr>\n",
       "      <th>BSU00130</th>\n",
       "      <td>e</td>\n",
       "    </tr>\n",
       "    <tr>\n",
       "      <th>BSU00140</th>\n",
       "      <td>0</td>\n",
       "    </tr>\n",
       "    <tr>\n",
       "      <th>...</th>\n",
       "      <td>...</td>\n",
       "    </tr>\n",
       "    <tr>\n",
       "      <th>BSU40850</th>\n",
       "      <td>0</td>\n",
       "    </tr>\n",
       "    <tr>\n",
       "      <th>BSU40890</th>\n",
       "      <td>e</td>\n",
       "    </tr>\n",
       "    <tr>\n",
       "      <th>BSU40910</th>\n",
       "      <td>0</td>\n",
       "    </tr>\n",
       "    <tr>\n",
       "      <th>BSU41050</th>\n",
       "      <td>e</td>\n",
       "    </tr>\n",
       "    <tr>\n",
       "      <th>BSU41060</th>\n",
       "      <td>0</td>\n",
       "    </tr>\n",
       "  </tbody>\n",
       "</table>\n",
       "<p>963 rows × 1 columns</p>\n",
       "</div>"
      ],
      "text/plain": [
       "         true_essentiality\n",
       "BSU00090                 0\n",
       "BSU00110                 0\n",
       "BSU00120                 0\n",
       "BSU00130                 e\n",
       "BSU00140                 0\n",
       "...                    ...\n",
       "BSU40850                 0\n",
       "BSU40890                 e\n",
       "BSU40910                 0\n",
       "BSU41050                 e\n",
       "BSU41060                 0\n",
       "\n",
       "[963 rows x 1 columns]"
      ]
     },
     "execution_count": 89,
     "metadata": {},
     "output_type": "execute_result"
    }
   ],
   "source": [
    "true_essentiality_df"
   ]
  },
  {
   "cell_type": "code",
   "execution_count": 91,
   "metadata": {},
   "outputs": [],
   "source": [
    "true_essentiality_df = get_true_essentiality(essential_genes,all_genes,gene_dictionary=gene_dictionary)\n",
    "true_essentiality_df_eco = get_true_essentiality(essential_genes_eco,all_genes_eco,gene_dictionary=False)"
   ]
  },
  {
   "cell_type": "code",
   "execution_count": 92,
   "metadata": {},
   "outputs": [],
   "source": [
    "essentiality_df = essentiality_df.join(true_essentiality_df)\n",
    "essentiality_df_eco = essentiality_df_eco.join(true_essentiality_df_eco)"
   ]
  },
  {
   "cell_type": "code",
   "execution_count": 93,
   "metadata": {
    "scrolled": true
   },
   "outputs": [],
   "source": [
    "essentiality_df.to_csv('essentiality/essentiality_results.csv')\n",
    "essentiality_df_eco.to_csv('essentiality/essentiality_results_eco.csv')"
   ]
  },
  {
   "cell_type": "markdown",
   "metadata": {},
   "source": [
    "### Read"
   ]
  },
  {
   "cell_type": "code",
   "execution_count": 94,
   "metadata": {
    "scrolled": true
   },
   "outputs": [],
   "source": [
    "# Read\n",
    "essentiality_df = pd.read_csv('essentiality/essentiality_results.csv',index_col=0)\n",
    "essentiality_df_eco = pd.read_csv('essentiality/essentiality_results_eco.csv',index_col=0)"
   ]
  },
  {
   "cell_type": "code",
   "execution_count": 111,
   "metadata": {},
   "outputs": [],
   "source": [
    "def get_scores(essentiality_df,gene_count):\n",
    "    models = ['m','me']\n",
    "    scores = {}\n",
    "    for m in models:\n",
    "        scores[m] = {}\n",
    "\n",
    "        field = 'essentiality_{}'.format(m)\n",
    "        P = essentiality_df[(essentiality_df[field]=='e')].shape[0]\n",
    "        N = essentiality_df[(essentiality_df[field]=='0')].shape[0]\n",
    "        TP = essentiality_df[essentiality_df[field]=='e'][essentiality_df.true_essentiality=='e'].shape[0]\n",
    "        FP = P-TP\n",
    "        TN = essentiality_df[essentiality_df[field]=='0'][essentiality_df.true_essentiality=='0'].shape[0]\n",
    "        FN = N-TN\n",
    "\n",
    "        FDR = FP/(FP+TP)\n",
    "        precision = TP/(TP+FP)\n",
    "        TPR = TP/(TP+FN)\n",
    "        MCC = (TP*TN - FP*FN)/np.sqrt((TP+FP)*(TP+FN)*(TN+FP)*(TN+FN))\n",
    "        coverage = (P+N)/gene_count\n",
    "\n",
    "        print(TP,FP,TN,FN)\n",
    "\n",
    "        scores[m]['Precision'] = precision\n",
    "        scores[m]['FDR'] = FDR\n",
    "        scores[m]['TPR'] = TPR\n",
    "        scores[m]['MCC'] = MCC\n",
    "        scores[m]['Coverage'] = coverage\n",
    "\n",
    "    scores_df = pd.DataFrame.from_dict(scores)\n",
    "    return scores_df"
   ]
  },
  {
   "cell_type": "code",
   "execution_count": 112,
   "metadata": {},
   "outputs": [
    {
     "name": "stdout",
     "output_type": "stream",
     "text": [
      "57 117 567 23\n",
      "143 168 592 20\n",
      "92 110 972 141\n",
      "232 177 900 98\n"
     ]
    },
    {
     "name": "stderr",
     "output_type": "stream",
     "text": [
      "/home/jt/UCSD/ME_modelling/ME_env/lib/python3.6/site-packages/ipykernel_launcher.py:10 \u001b[1;31mUserWarning\u001b[0m: Boolean Series key will be reindexed to match DataFrame index.\n",
      "/home/jt/UCSD/ME_modelling/ME_env/lib/python3.6/site-packages/ipykernel_launcher.py:12 \u001b[1;31mUserWarning\u001b[0m: Boolean Series key will be reindexed to match DataFrame index.\n"
     ]
    }
   ],
   "source": [
    "scores_df = get_scores(essentiality_df,gene_count)\n",
    "scores_df_eco = get_scores(essentiality_df_eco,gene_count_eco)"
   ]
  },
  {
   "cell_type": "code",
   "execution_count": 119,
   "metadata": {},
   "outputs": [
    {
     "data": {
      "text/plain": [
       "Text(0, 0.5, 'Score')"
      ]
     },
     "execution_count": 119,
     "metadata": {},
     "output_type": "execute_result"
    },
    {
     "data": {
      "image/png": "[encoded data removed]",
      "text/plain": [
       "<Figure size 432x288 with 1 Axes>"
      ]
     },
     "metadata": {
      "needs_background": "light"
     },
     "output_type": "display_data"
    }
   ],
   "source": [
    "scores_df.plot.bar()\n",
    "plt.ylabel('Score')"
   ]
  },
  {
   "cell_type": "code",
   "execution_count": 120,
   "metadata": {},
   "outputs": [
    {
     "data": {
      "text/plain": [
       "Text(0, 0.5, 'Score')"
      ]
     },
     "execution_count": 120,
     "metadata": {},
     "output_type": "execute_result"
    },
    {
     "data": {
      "image/png": "[encoded data removed]",
      "text/plain": [
       "<Figure size 432x288 with 1 Axes>"
      ]
     },
     "metadata": {
      "needs_background": "light"
     },
     "output_type": "display_data"
    }
   ],
   "source": [
    "scores_df_eco.plot.bar()\n",
    "plt.ylabel('Score')"
   ]
  },
  {
   "cell_type": "code",
   "execution_count": 122,
   "metadata": {},
   "outputs": [
    {
     "data": {
      "image/png": "[encoded data removed]",
      "text/plain": [
       "<Figure size 720x576 with 1 Axes>"
      ]
     },
     "metadata": {
      "needs_background": "light"
     },
     "output_type": "display_data"
    }
   ],
   "source": [
    "all_scores_df = scores_df.join(scores_df_eco,lsuffix='_bsub',rsuffix='_eco')\n",
    "all_scores_df.plot.bar(figsize=(10,8))\n",
    "plt.ylabel('Score')\n",
    "plt.savefig('essentiality/essentiality_scores.svg',format='SVG')\n",
    "plt.tight_layout()"
   ]
  },
  {
   "cell_type": "code",
   "execution_count": null,
   "metadata": {},
   "outputs": [],
   "source": []
  }
 ],
 "metadata": {
  "kernelspec": {
   "display_name": "Python 3",
   "language": "python",
   "name": "python3"
  },
  "language_info": {
   "codemirror_mode": {
    "name": "ipython",
    "version": 3
   },
   "file_extension": ".py",
   "mimetype": "text/x-python",
   "name": "python",
   "nbconvert_exporter": "python",
   "pygments_lexer": "ipython3",
   "version": "3.6.3"
  }
 },
 "nbformat": 4,
 "nbformat_minor": 4
}
