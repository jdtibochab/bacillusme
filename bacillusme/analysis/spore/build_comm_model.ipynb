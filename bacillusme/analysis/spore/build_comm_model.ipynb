{
 "cells": [
  {
   "cell_type": "markdown",
   "metadata": {},
   "source": [
    "# Build community model"
   ]
  },
  {
   "cell_type": "code",
   "execution_count": 1,
   "metadata": {
    "scrolled": true
   },
   "outputs": [
    {
     "name": "stderr",
     "output_type": "stream",
     "text": [
      "/home/jt/Downloads/cobrapy-0.5.11/cobra/io/sbml3.py:24: UserWarning: Install lxml for faster SBML I/O\n",
      "  warn(\"Install lxml for faster SBML I/O\")\n",
      "/home/jt/Downloads/cobrapy-0.5.11/cobra/io/__init__.py:12: UserWarning: cobra.io.sbml requires libsbml\n",
      "  warn(\"cobra.io.sbml requires libsbml\")\n"
     ]
    },
    {
     "name": "stdout",
     "output_type": "stream",
     "text": [
      "/home/jt/Downloads/cobrapy-0.5.11/cobra/__init__.py\n",
      "/home/jt/UCSD/cobrame-master/cobrame/__init__.py\n",
      "/home/jt/UCSD/bacillusme-master/bacillusme/__init__.py\n"
     ]
    }
   ],
   "source": [
    "from __future__ import print_function, division, absolute_import\n",
    "\n",
    "import sys\n",
    "\n",
    "import qminospy\n",
    "from qminospy.me2 import ME_NLP\n",
    "\n",
    "# python imports\n",
    "from copy import copy\n",
    "import re\n",
    "from os.path import join, dirname, abspath\n",
    "import sys\n",
    "sys.path.append('/home/UCSD/cobra_utils')\n",
    "from collections import defaultdict\n",
    "import pickle\n",
    "\n",
    "# third party imports\n",
    "import pandas\n",
    "import cobra\n",
    "from tqdm import tqdm\n",
    "import numpy as np\n",
    "import scipy\n",
    "\n",
    "# COBRAme\n",
    "import cobrame\n",
    "from cobrame.util import building, mu, me_model_interface\n",
    "from cobrame.io.json import save_json_me_model, save_reduced_json_me_model\n",
    "\n",
    "# ECOLIme\n",
    "import bacillusme\n",
    "from bacillusme import (transcription, translation, flat_files, generics, formulas, compartments)\n",
    "from bacillusme.util.helper_functions import *\n",
    "\n",
    "import copy\n",
    "\n",
    "%load_ext autoreload\n",
    "%autoreload 2\n",
    "print(cobra.__file__)\n",
    "print(cobrame.__file__)\n",
    "print(bacillusme.__file__)\n",
    "ecoli_files = dirname(abspath(bacillusme.__file__))"
   ]
  },
  {
   "cell_type": "code",
   "execution_count": 2,
   "metadata": {
    "scrolled": true
   },
   "outputs": [
    {
     "data": {
      "text/plain": [
       "<Solution 0.12 at 0x7f3c8d5fd4a8>"
      ]
     },
     "execution_count": 2,
     "metadata": {},
     "output_type": "execute_result"
    }
   ],
   "source": [
    "eco_directory = join(flat_files.ecoli_files_dir, 'iJO1366.json')\n",
    "ijo_directory = join(flat_files.ecoli_files_dir, 'iYO844.json')\n",
    "uni_directory = join(flat_files.ecoli_files_dir, 'universal_model.json')\n",
    "\n",
    "eco = cobra.io.load_json_model(eco_directory)\n",
    "bsub = cobra.io.load_json_model(ijo_directory)\n",
    "uni = cobra.io.load_json_model(uni_directory)\n",
    "\n",
    "bsub.optimize()"
   ]
  },
  {
   "cell_type": "code",
   "execution_count": 3,
   "metadata": {
    "scrolled": true
   },
   "outputs": [],
   "source": [
    "with open(ecoli_files+'/me_models/solution.pickle', 'rb') as solution:\n",
    "    me = pickle.load(solution)\n",
    "with open(ecoli_files+'/me_models/solution.pickle', 'rb') as solution:\n",
    "    spore = pickle.load(solution)"
   ]
  },
  {
   "cell_type": "markdown",
   "metadata": {},
   "source": [
    "## Create spore model"
   ]
  },
  {
   "cell_type": "markdown",
   "metadata": {},
   "source": [
    "### Change IDs (compartment _s)"
   ]
  },
  {
   "cell_type": "code",
   "execution_count": 4,
   "metadata": {},
   "outputs": [
    {
     "name": "stderr",
     "output_type": "stream",
     "text": [
      "100%|██████████| 4208/4208 [00:00<00:00, 138891.45it/s]\n"
     ]
    }
   ],
   "source": [
    "# Metabolites\n",
    "new_compartment = 's'\n",
    "fix = []\n",
    "for met in tqdm(spore.metabolites):\n",
    "    if re.search('_[c,e]$',met.id):\n",
    "        met.id = re.sub('c$',new_compartment,met.id)\n",
    "    else:\n",
    "        met.id = met.id+'_'+new_compartment"
   ]
  },
  {
   "cell_type": "code",
   "execution_count": 5,
   "metadata": {},
   "outputs": [
    {
     "name": "stderr",
     "output_type": "stream",
     "text": [
      "100%|██████████| 6282/6282 [00:00<00:00, 399257.78it/s]\n"
     ]
    }
   ],
   "source": [
    "# Reactions\n",
    "new_compartment = 's'\n",
    "fix = []\n",
    "for r in tqdm(spore.reactions):\n",
    "        r.id = r.id+'_'+new_compartment"
   ]
  },
  {
   "cell_type": "code",
   "execution_count": 6,
   "metadata": {},
   "outputs": [],
   "source": [
    "spore.repair()"
   ]
  },
  {
   "cell_type": "code",
   "execution_count": 7,
   "metadata": {
    "scrolled": true
   },
   "outputs": [
    {
     "name": "stderr",
     "output_type": "stream",
     "text": [
      "100%|██████████| 6282/6282 [00:45<00:00, 136.99it/s]\n"
     ]
    }
   ],
   "source": [
    "# Create new growth key for spore\n",
    "new_growth_key = 'sigma'\n",
    "for r in tqdm(spore.reactions):\n",
    "    lb = r.lower_bound\n",
    "    ub = r.upper_bound\n",
    "    new_stoichiometry = {m:s for m,s in r.metabolites.items()}\n",
    "    if hasattr(lb, 'subs'):\n",
    "        growth_key = list(lb.free_symbols)[0]\n",
    "        r.lower_bound = lb.subs(growth_key,new_growth_key)\n",
    "    if hasattr(ub, 'subs'):\n",
    "        growth_key = list(ub.free_symbols)[0]\n",
    "        r.upper_bound = ub.subs(growth_key,new_growth_key)\n",
    "    for m,s in new_stoichiometry.items():\n",
    "        if hasattr(s, 'subs'):\n",
    "            growth_key = list(s.free_symbols)[0]\n",
    "            new_stoichiometry[m] = s.subs(growth_key,new_growth_key)\n",
    "    r.add_metabolites(new_stoichiometry,combine=False)"
   ]
  },
  {
   "cell_type": "code",
   "execution_count": 8,
   "metadata": {
    "scrolled": true
   },
   "outputs": [
    {
     "name": "stderr",
     "output_type": "stream",
     "text": [
      "100%|██████████| 6282/6282 [00:00<00:00, 7149.12it/s]\n"
     ]
    }
   ],
   "source": [
    "# Eliminate exchange reactions:\n",
    "reactions = [r for r in spore.reactions]\n",
    "for r in tqdm(reactions):\n",
    "    if re.search('^EX_',r.id):\n",
    "        r.remove_from_model()"
   ]
  },
  {
   "cell_type": "markdown",
   "metadata": {},
   "source": [
    "### Create spore biomass reactions"
   ]
  },
  {
   "cell_type": "code",
   "execution_count": 9,
   "metadata": {},
   "outputs": [],
   "source": [
    "bio_rxn = spore.reactions.BIOMASS_BS_10_FWD_CPLX_dummy_s"
   ]
  },
  {
   "cell_type": "code",
   "execution_count": 10,
   "metadata": {},
   "outputs": [],
   "source": [
    "bio_comp = pd.read_csv('spore_composition.csv',index_col=0)"
   ]
  },
  {
   "cell_type": "code",
   "execution_count": 11,
   "metadata": {},
   "outputs": [
    {
     "name": "stdout",
     "output_type": "stream",
     "text": [
      "2.353230994969913e-06 cdlp_BS_s <=> 0.0003138918345705195 lipid_biomass_s\n",
      "5.5911661649980173e-05 d12dg_BS_s <=> 0.004943796394485683 lipid_biomass_s\n",
      "1.1181601688200874e-05 lysylpgly_BS_s <=> 0.0009416755037115587 lipid_biomass_s\n",
      "4.347080715231638e-05 m12dg_BS_s <=> 0.0031389183457051955 lipid_biomass_s\n",
      "8.915068976475303e-05 pgly_BS_s <=> 0.006356309650053021 lipid_biomass_s\n",
      "0.00028364101108229784 psetha_BS_s <=> 0.01934358430540827 lipid_biomass_s\n",
      "3.337340219543245e-05 t12dg_BS_s <=> 0.0034920466595970297 lipid_biomass_s\n",
      "0.0012215982898295598 gtca3_45_BS_s <=> 0.01794281096319678 lipid_biomass_s\n",
      "4.701037948766861e-06 lipo1_24_BS_s <=> 0.00397181389778114 lipid_biomass_s\n",
      "0.0020899471566517814 tcam_BS_s <=> 0.02898675371802525 lipid_biomass_s\n"
     ]
    }
   ],
   "source": [
    "# Identify lipid metabolites in biomass equation\n",
    "lipid_demand = {}\n",
    "for m in bio_comp.index:\n",
    "    if '_BS_c' in m:\n",
    "        new_id = re.sub('c$','s',m)\n",
    "        value = bio_comp.loc[m]['coeff']\n",
    "        lipid_demand[new_id] = abs(value)\n",
    "                \n",
    "for met, requirement in lipid_demand.items():\n",
    "    component_mass = spore.metabolites.get_by_id(met).formula_weight / 1000.\n",
    "    rxn = cobrame.SummaryVariable('Demand_' + met)\n",
    "    spore.add_reactions([rxn])\n",
    "    rxn.add_metabolites({met: -1 * requirement,\n",
    "                         'lipid_biomass_s': component_mass * requirement})\n",
    "    rxn.lower_bound = spore.reactions.biomass_dilution_s.lower_bound\n",
    "    rxn.upper_bound = 1000.\n",
    "    print(rxn.reaction)"
   ]
  },
  {
   "cell_type": "markdown",
   "metadata": {},
   "source": [
    "### Close specific reactions in the spore"
   ]
  },
  {
   "cell_type": "code",
   "execution_count": 12,
   "metadata": {},
   "outputs": [],
   "source": [
    "spore.reactions.get_by_id('CS_FWD_BSU09440-MONOMER_s').upper_bound = 0\n",
    "spore.reactions.get_by_id('CS_FWD_BSU09440-MONOMER_s').lower_bound = 0\n",
    "\n",
    "spore.reactions.get_by_id('CS_FWD_BSU29140-MONOMER_s').upper_bound = 0\n",
    "spore.reactions.get_by_id('CS_FWD_BSU29140-MONOMER_s').lower_bound = 0"
   ]
  },
  {
   "cell_type": "markdown",
   "metadata": {},
   "source": [
    "### Merge"
   ]
  },
  {
   "cell_type": "code",
   "execution_count": 13,
   "metadata": {},
   "outputs": [],
   "source": [
    "with open(ecoli_files+'/me_models/solution.pickle', 'rb') as solution:\n",
    "    sporeme = pickle.load(solution)"
   ]
  },
  {
   "cell_type": "code",
   "execution_count": 14,
   "metadata": {
    "scrolled": true
   },
   "outputs": [
    {
     "name": "stderr",
     "output_type": "stream",
     "text": [
      "100%|██████████| 6282/6282 [00:47<00:00, 132.91it/s]\n"
     ]
    }
   ],
   "source": [
    "# Mother is not growing. Reactions should then be associated to sigma\n",
    "new_growth_key = 'sigma'\n",
    "for r in tqdm(sporeme.reactions):\n",
    "    lb = r.lower_bound\n",
    "    ub = r.upper_bound\n",
    "    new_stoichiometry = {m:s for m,s in r.metabolites.items()}\n",
    "    if hasattr(lb, 'subs'):\n",
    "        growth_key = list(lb.free_symbols)[0]\n",
    "        r.lower_bound = float(lb.subs(growth_key,0.))\n",
    "    if hasattr(ub, 'subs'):\n",
    "        growth_key = list(ub.free_symbols)[0]\n",
    "        r.upper_bound = float(ub.subs(growth_key,1000.))\n",
    "    for m,s in new_stoichiometry.items():\n",
    "        if hasattr(s, 'subs'):\n",
    "            growth_key = list(s.free_symbols)[0]\n",
    "            new_stoichiometry[m] = s.subs(growth_key,new_growth_key)\n",
    "            a = 1\n",
    "    r.add_metabolites(new_stoichiometry,combine=False)"
   ]
  },
  {
   "cell_type": "code",
   "execution_count": 15,
   "metadata": {},
   "outputs": [],
   "source": [
    "sporeme.add_reactions(spore.reactions)"
   ]
  },
  {
   "cell_type": "code",
   "execution_count": 16,
   "metadata": {
    "scrolled": true
   },
   "outputs": [
    {
     "name": "stderr",
     "output_type": "stream",
     "text": [
      "100%|██████████| 8175/8175 [02:49<00:00, 48.14it/s]  \n"
     ]
    }
   ],
   "source": [
    "# Connect C with S\n",
    "## Change spore transport from e-s to c-s\n",
    "for m in tqdm(sporeme.metabolites):\n",
    "    if not isinstance(m,cobrame.Metabolite) or not re.search('_s$',m.id):\n",
    "        continue\n",
    "    in_transport = get_transport_reactions(sporeme,m.id,comps=['e','s'])\n",
    "    out_transport = get_transport_reactions(sporeme,m.id,comps=['s','e'])\n",
    "    transport_reactions = in_transport + out_transport\n",
    "    for r in transport_reactions:\n",
    "        old_met = sporeme.metabolites.get_by_id(re.sub('_s$','_e',m.id))\n",
    "        new_met = sporeme.metabolites.get_by_id(re.sub('_s$','_c',m.id))\n",
    "        coeff = r.metabolites[old_met]\n",
    "        r.add_metabolites({old_met:-coeff,new_met:coeff})"
   ]
  },
  {
   "cell_type": "code",
   "execution_count": 17,
   "metadata": {},
   "outputs": [],
   "source": [
    "sporeme.objective = 'biomass_dilution_s'"
   ]
  },
  {
   "cell_type": "code",
   "execution_count": 18,
   "metadata": {
    "scrolled": true
   },
   "outputs": [
    {
     "name": "stdout",
     "output_type": "stream",
     "text": [
      "iter\tmuopt    \ta     \tb     \tmu1       \tstat1\n",
      "Finished compiling expressions in 474.915383 seconds\n",
      "Finished substituting S,lb,ub in 21.070204 seconds\n",
      "Finished makeME_LP in 2.262081 seconds\n",
      "Getting MINOS parameters from ME_NLP...\n",
      "1 0.0 0.0 0.25 0.25 1\n",
      "Finished substituting S,lb,ub in 20.562502 seconds\n",
      "Finished makeME_LP in 2.199084 seconds\n",
      "Getting MINOS parameters from ME_NLP...\n",
      "2 0.0 0.0 0.125 0.125 1\n",
      "Finished substituting S,lb,ub in 19.208563 seconds\n",
      "Finished makeME_LP in 2.120087 seconds\n",
      "Getting MINOS parameters from ME_NLP...\n",
      "3 0.0625 0.0625 0.125 0.0625 optimal\n",
      "Finished substituting S,lb,ub in 19.277890 seconds\n",
      "Finished makeME_LP in 2.122979 seconds\n",
      "Getting MINOS parameters from ME_NLP...\n",
      "4 0.09375 0.09375 0.125 0.09375 optimal\n",
      "Finished substituting S,lb,ub in 19.401624 seconds\n",
      "Finished makeME_LP in 2.134589 seconds\n",
      "Getting MINOS parameters from ME_NLP...\n",
      "5 0.09375 0.09375 0.109375 0.109375 1\n",
      "Finished substituting S,lb,ub in 19.265529 seconds\n",
      "Finished makeME_LP in 2.131676 seconds\n",
      "Getting MINOS parameters from ME_NLP...\n",
      "6 0.1015625 0.1015625 0.109375 0.1015625 optimal\n",
      "Finished substituting S,lb,ub in 19.072679 seconds\n",
      "Finished makeME_LP in 2.133658 seconds\n",
      "Getting MINOS parameters from ME_NLP...\n",
      "7 0.10546875 0.10546875 0.109375 0.10546875 optimal\n",
      "Finished substituting S,lb,ub in 19.240244 seconds\n",
      "Finished makeME_LP in 2.173803 seconds\n",
      "Getting MINOS parameters from ME_NLP...\n",
      "8 0.107421875 0.107421875 0.109375 0.107421875 optimal\n",
      "Finished substituting S,lb,ub in 19.531171 seconds\n",
      "Finished makeME_LP in 2.239033 seconds\n",
      "Getting MINOS parameters from ME_NLP...\n",
      "9 0.1083984375 0.1083984375 0.109375 0.1083984375 optimal\n",
      "Finished substituting S,lb,ub in 19.301959 seconds\n",
      "Finished makeME_LP in 2.145268 seconds\n",
      "Getting MINOS parameters from ME_NLP...\n",
      "10 0.1083984375 0.1083984375 0.10888671875 0.10888671875 1\n",
      "Finished substituting S,lb,ub in 19.669160 seconds\n",
      "Finished makeME_LP in 2.143854 seconds\n",
      "Getting MINOS parameters from ME_NLP...\n",
      "11 0.108642578125 0.108642578125 0.10888671875 0.108642578125 optimal\n",
      "Finished substituting S,lb,ub in 19.505508 seconds\n",
      "Finished makeME_LP in 2.141477 seconds\n",
      "Getting MINOS parameters from ME_NLP...\n",
      "12 0.108642578125 0.108642578125 0.1087646484375 0.1087646484375 1\n",
      "Finished substituting S,lb,ub in 19.383821 seconds\n",
      "Finished makeME_LP in 2.145958 seconds\n",
      "Getting MINOS parameters from ME_NLP...\n",
      "13 0.10870361328125 0.10870361328125 0.1087646484375 0.10870361328125 optimal\n",
      "Finished substituting S,lb,ub in 19.097271 seconds\n",
      "Finished makeME_LP in 2.142950 seconds\n",
      "Getting MINOS parameters from ME_NLP...\n",
      "14 0.10870361328125 0.10870361328125 0.108734130859375 0.108734130859375 1\n",
      "Finished substituting S,lb,ub in 19.200948 seconds\n",
      "Finished makeME_LP in 2.134737 seconds\n",
      "Getting MINOS parameters from ME_NLP...\n",
      "15 0.10870361328125 0.10870361328125 0.1087188720703125 0.1087188720703125 1\n",
      "Finished substituting S,lb,ub in 18.904144 seconds\n",
      "Finished makeME_LP in 2.131742 seconds\n",
      "Getting MINOS parameters from ME_NLP...\n",
      "16 0.10871124267578125 0.10871124267578125 0.1087188720703125 0.10871124267578125 optimal\n",
      "Finished substituting S,lb,ub in 18.988302 seconds\n",
      "Finished makeME_LP in 2.213997 seconds\n",
      "Getting MINOS parameters from ME_NLP...\n",
      "17 0.10871505737304688 0.10871505737304688 0.1087188720703125 0.10871505737304688 optimal\n",
      "Finished substituting S,lb,ub in 20.254548 seconds\n",
      "Finished makeME_LP in 2.232270 seconds\n",
      "Getting MINOS parameters from ME_NLP...\n",
      "18 0.10871696472167969 0.10871696472167969 0.1087188720703125 0.10871696472167969 optimal\n",
      "Finished substituting S,lb,ub in 19.664020 seconds\n",
      "Finished makeME_LP in 2.149187 seconds\n",
      "Getting MINOS parameters from ME_NLP...\n",
      "19 0.10871696472167969 0.10871696472167969 0.1087179183959961 0.1087179183959961 1\n",
      "Bisection done in 2053.44 seconds\n"
     ]
    }
   ],
   "source": [
    "solve_me_model(sporeme, max_mu = 0.5, min_mu = .05, using_soplex=False, precision = 1e-6,growth_key = 'sigma')"
   ]
  },
  {
   "cell_type": "code",
   "execution_count": 20,
   "metadata": {},
   "outputs": [],
   "source": [
    "with open(\"./sporeme_solution.pickle\", \"wb\") as outfile:\n",
    "    pickle.dump(sporeme, outfile)"
   ]
  },
  {
   "cell_type": "code",
   "execution_count": 22,
   "metadata": {},
   "outputs": [],
   "source": [
    "with open(\"./sporeme_solution.pickle\", \"rb\") as outfile:\n",
    "    sporeme = pickle.load(outfile)"
   ]
  },
  {
   "cell_type": "code",
   "execution_count": 23,
   "metadata": {},
   "outputs": [
    {
     "data": {
      "text/plain": [
       "<Solution 0.05 at 0x7f3c6f0a17f0>"
      ]
     },
     "execution_count": 23,
     "metadata": {},
     "output_type": "execute_result"
    }
   ],
   "source": [
    "sporeme.solution"
   ]
  },
  {
   "cell_type": "code",
   "execution_count": 24,
   "metadata": {},
   "outputs": [
    {
     "data": {
      "text/plain": [
       "0.10871696472167969"
      ]
     },
     "execution_count": 24,
     "metadata": {},
     "output_type": "execute_result"
    }
   ],
   "source": [
    "sporeme.solution.x_dict['biomass_dilution_s']"
   ]
  },
  {
   "cell_type": "code",
   "execution_count": null,
   "metadata": {},
   "outputs": [],
   "source": []
  }
 ],
 "metadata": {
  "kernelspec": {
   "display_name": "Python 3",
   "language": "python",
   "name": "python3"
  },
  "language_info": {
   "codemirror_mode": {
    "name": "ipython",
    "version": 3
   },
   "file_extension": ".py",
   "mimetype": "text/x-python",
   "name": "python",
   "nbconvert_exporter": "python",
   "pygments_lexer": "ipython3",
   "version": "3.6.3"
  }
 },
 "nbformat": 4,
 "nbformat_minor": 4
}
