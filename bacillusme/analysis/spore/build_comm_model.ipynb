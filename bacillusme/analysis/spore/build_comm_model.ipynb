{
 "cells": [
  {
   "cell_type": "markdown",
   "metadata": {},
   "source": [
    "# Build community model"
   ]
  },
  {
   "cell_type": "code",
   "execution_count": 6,
   "metadata": {
    "scrolled": true
   },
   "outputs": [
    {
     "name": "stdout",
     "output_type": "stream",
     "text": [
      "The autoreload extension is already loaded. To reload it, use:\n",
      "  %reload_ext autoreload\n",
      "/home/jt/Downloads/cobrapy-0.5.11/cobra/__init__.py\n",
      "/home/jt/UCSD/cobrame-master/cobrame/__init__.py\n",
      "/home/jt/UCSD/bacillusme-master/bacillusme/__init__.py\n"
     ]
    }
   ],
   "source": [
    "from __future__ import print_function, division, absolute_import\n",
    "\n",
    "import sys\n",
    "\n",
    "import qminospy\n",
    "from qminospy.me2 import ME_NLP\n",
    "\n",
    "# python imports\n",
    "from copy import copy\n",
    "import re\n",
    "from os.path import join, dirname, abspath\n",
    "import sys\n",
    "sys.path.append('/home/UCSD/cobra_utils')\n",
    "from collections import defaultdict\n",
    "import pickle\n",
    "\n",
    "# third party imports\n",
    "import pandas\n",
    "import cobra\n",
    "from tqdm import tqdm\n",
    "import numpy as np\n",
    "import scipy\n",
    "\n",
    "# COBRAme\n",
    "import cobrame\n",
    "from cobrame.util import building, mu, me_model_interface\n",
    "from cobrame.io.json import save_json_me_model, save_reduced_json_me_model\n",
    "\n",
    "# ECOLIme\n",
    "import bacillusme\n",
    "from bacillusme import (transcription, translation, flat_files, generics, formulas, compartments)\n",
    "from bacillusme.util.helper_functions import *\n",
    "\n",
    "import copy\n",
    "%load_ext autoreload\n",
    "%autoreload 2\n",
    "print(cobra.__file__)\n",
    "print(cobrame.__file__)\n",
    "print(bacillusme.__file__)\n",
    "ecoli_files = dirname(abspath(bacillusme.__file__))"
   ]
  },
  {
   "cell_type": "code",
   "execution_count": 7,
   "metadata": {
    "scrolled": true
   },
   "outputs": [
    {
     "data": {
      "text/plain": [
       "<Solution 0.12 at 0x7f60203cab38>"
      ]
     },
     "execution_count": 7,
     "metadata": {},
     "output_type": "execute_result"
    }
   ],
   "source": [
    "eco_directory = join(flat_files.ecoli_files_dir, 'iJO1366.json')\n",
    "ijo_directory = join(flat_files.ecoli_files_dir, 'iYO844.json')\n",
    "uni_directory = join(flat_files.ecoli_files_dir, 'universal_model.json')\n",
    "\n",
    "eco = cobra.io.load_json_model(eco_directory)\n",
    "bsub = cobra.io.load_json_model(ijo_directory)\n",
    "uni = cobra.io.load_json_model(uni_directory)\n",
    "\n",
    "bsub.optimize()"
   ]
  },
  {
   "cell_type": "code",
   "execution_count": 13,
   "metadata": {},
   "outputs": [
    {
     "name": "stdout",
     "output_type": "stream",
     "text": [
      "ACACT1r 2.0 accoa_c <=> aacoa_c + coa_c frozenset({<Gene BSU24170 at 0x7f6029119358>})\n",
      "ACACT2r accoa_c + btcoa_c <=> 3ohcoa_c + coa_c frozenset({<Gene BSU32830 at 0x7f6029119438>})\n",
      "ACACT3r accoa_c + hxcoa_c <=> 3oocoa_c + coa_c frozenset({<Gene BSU32830 at 0x7f6029119438>})\n",
      "ACACT4r accoa_c + occoa_c <=> 3odcoa_c + coa_c frozenset({<Gene BSU32830 at 0x7f6029119438>})\n",
      "ACACT5r_1 accoa_c + dccoa_c <=> 3oddcoa_c + coa_c frozenset({<Gene BSU32830 at 0x7f6029119438>})\n",
      "ACACT6r_1 accoa_c + ddcoa_c <=> 3otdcoa_c + coa_c frozenset({<Gene BSU32830 at 0x7f6029119438>})\n",
      "ACACT7r accoa_c + tdcoa_c <=> 3ohdcoa_c + coa_c frozenset({<Gene BSU32830 at 0x7f6029119438>})\n"
     ]
    }
   ],
   "source": [
    "for r in bsub.reactions:\n",
    "    if 'ACACT' in r.id:\n",
    "        print(r.id, r.reaction, r.genes)"
   ]
  },
  {
   "cell_type": "code",
   "execution_count": 3,
   "metadata": {
    "scrolled": true
   },
   "outputs": [],
   "source": [
    "with open(ecoli_files+'/me_models/solution.pickle', 'rb') as solution:\n",
    "    me = pickle.load(solution)\n",
    "with open(ecoli_files+'/me_models/solution.pickle', 'rb') as solution:\n",
    "    spore = pickle.load(solution)"
   ]
  },
  {
   "cell_type": "markdown",
   "metadata": {},
   "source": [
    "## Create spore model"
   ]
  },
  {
   "cell_type": "markdown",
   "metadata": {},
   "source": [
    "### Change IDs (compartment _s)"
   ]
  },
  {
   "cell_type": "code",
   "execution_count": 4,
   "metadata": {},
   "outputs": [
    {
     "name": "stderr",
     "output_type": "stream",
     "text": [
      "100%|██████████| 4211/4211 [00:00<00:00, 70822.23it/s]\n"
     ]
    }
   ],
   "source": [
    "# Metabolites\n",
    "new_compartment = 's'\n",
    "fix = []\n",
    "for met in tqdm(spore.metabolites):\n",
    "    if re.search('_[c,e]$',met.id):\n",
    "        met.id = re.sub('c$',new_compartment,met.id)\n",
    "    else:\n",
    "        met.id = met.id+'_'+new_compartment"
   ]
  },
  {
   "cell_type": "code",
   "execution_count": 5,
   "metadata": {},
   "outputs": [
    {
     "name": "stderr",
     "output_type": "stream",
     "text": [
      "100%|██████████| 6277/6277 [00:00<00:00, 318158.87it/s]\n"
     ]
    }
   ],
   "source": [
    "# Reactions\n",
    "new_compartment = 's'\n",
    "fix = []\n",
    "for r in tqdm(spore.reactions):\n",
    "        r.id = r.id+'_'+new_compartment"
   ]
  },
  {
   "cell_type": "code",
   "execution_count": 6,
   "metadata": {},
   "outputs": [],
   "source": [
    "spore.repair()"
   ]
  },
  {
   "cell_type": "code",
   "execution_count": 7,
   "metadata": {
    "scrolled": true
   },
   "outputs": [
    {
     "name": "stderr",
     "output_type": "stream",
     "text": [
      "100%|██████████| 6277/6277 [00:52<00:00, 119.87it/s] \n"
     ]
    }
   ],
   "source": [
    "# Create new growth key for spore\n",
    "new_growth_key = 'sigma'\n",
    "for r in tqdm(spore.reactions):\n",
    "    lb = r.lower_bound\n",
    "    ub = r.upper_bound\n",
    "    new_stoichiometry = {m:s for m,s in r.metabolites.items()}\n",
    "    if hasattr(lb, 'subs'):\n",
    "        growth_key = list(lb.free_symbols)[0]\n",
    "        r.lower_bound = lb.subs(growth_key,new_growth_key)\n",
    "    if hasattr(ub, 'subs'):\n",
    "        growth_key = list(ub.free_symbols)[0]\n",
    "        r.upper_bound = ub.subs(growth_key,new_growth_key)\n",
    "    for m,s in new_stoichiometry.items():\n",
    "        if hasattr(s, 'subs'):\n",
    "            growth_key = list(s.free_symbols)[0]\n",
    "            new_stoichiometry[m] = s.subs(growth_key,new_growth_key)\n",
    "    r.add_metabolites(new_stoichiometry,combine=False)"
   ]
  },
  {
   "cell_type": "code",
   "execution_count": 8,
   "metadata": {
    "scrolled": true
   },
   "outputs": [
    {
     "name": "stderr",
     "output_type": "stream",
     "text": [
      "100%|██████████| 6277/6277 [00:00<00:00, 8311.21it/s]\n"
     ]
    }
   ],
   "source": [
    "# Eliminate exchange reactions:\n",
    "reactions = [r for r in spore.reactions]\n",
    "for r in tqdm(reactions):\n",
    "    if re.search('^EX_',r.id):\n",
    "        r.remove_from_model()"
   ]
  },
  {
   "cell_type": "markdown",
   "metadata": {},
   "source": [
    "### Create spore biomass reactions"
   ]
  },
  {
   "cell_type": "code",
   "execution_count": 9,
   "metadata": {},
   "outputs": [],
   "source": [
    "bio_rxn = spore.reactions.BIOMASS_BS_10_FWD_CPLX_dummy_s"
   ]
  },
  {
   "cell_type": "code",
   "execution_count": 10,
   "metadata": {},
   "outputs": [],
   "source": [
    "bio_comp = pd.read_csv('spore_composition.csv',index_col=0)"
   ]
  },
  {
   "cell_type": "code",
   "execution_count": 11,
   "metadata": {},
   "outputs": [
    {
     "name": "stdout",
     "output_type": "stream",
     "text": [
      "2.353230994969913e-06 cdlp_BS_s <=> 0.0003138918345705195 lipid_biomass_s\n",
      "5.5911661649980173e-05 d12dg_BS_s <=> 0.004943796394485683 lipid_biomass_s\n",
      "1.1181601688200874e-05 lysylpgly_BS_s <=> 0.0009416755037115587 lipid_biomass_s\n",
      "4.347080715231638e-05 m12dg_BS_s <=> 0.0031389183457051955 lipid_biomass_s\n",
      "8.915068976475303e-05 pgly_BS_s <=> 0.006356309650053021 lipid_biomass_s\n",
      "0.00028364101108229784 psetha_BS_s <=> 0.01934358430540827 lipid_biomass_s\n",
      "3.337340219543245e-05 t12dg_BS_s <=> 0.0034920466595970297 lipid_biomass_s\n",
      "0.0012215982898295598 gtca3_45_BS_s <=> 0.01794281096319678 lipid_biomass_s\n",
      "4.701037948766861e-06 lipo1_24_BS_s <=> 0.00397181389778114 lipid_biomass_s\n",
      "0.0020899471566517814 tcam_BS_s <=> 0.02898675371802525 lipid_biomass_s\n"
     ]
    }
   ],
   "source": [
    "# Identify lipid metabolites in biomass equation\n",
    "lipid_demand = {}\n",
    "for m in bio_comp.index:\n",
    "    if '_BS_c' in m:\n",
    "        new_id = re.sub('c$','s',m)\n",
    "        value = bio_comp.loc[m]['coeff']\n",
    "        lipid_demand[new_id] = abs(value)\n",
    "                \n",
    "for met, requirement in lipid_demand.items():\n",
    "    component_mass = spore.metabolites.get_by_id(met).formula_weight / 1000.\n",
    "    rxn = cobrame.SummaryVariable('Demand_' + met)\n",
    "    spore.add_reactions([rxn])\n",
    "    rxn.add_metabolites({met: -1 * requirement,\n",
    "                         'lipid_biomass_s': component_mass * requirement})\n",
    "    rxn.lower_bound = spore.reactions.biomass_dilution_s.lower_bound\n",
    "    rxn.upper_bound = 1000.\n",
    "    print(rxn.reaction)"
   ]
  },
  {
   "cell_type": "markdown",
   "metadata": {},
   "source": [
    "### Merge"
   ]
  },
  {
   "cell_type": "code",
   "execution_count": 12,
   "metadata": {},
   "outputs": [],
   "source": [
    "with open(ecoli_files+'/me_models/solution.pickle', 'rb') as solution:\n",
    "    sporeme = pickle.load(solution)"
   ]
  },
  {
   "cell_type": "code",
   "execution_count": 13,
   "metadata": {
    "scrolled": true
   },
   "outputs": [
    {
     "name": "stderr",
     "output_type": "stream",
     "text": [
      "100%|██████████| 6277/6277 [00:50<00:00, 124.26it/s] \n"
     ]
    }
   ],
   "source": [
    "# Mother is not growing. Reactions should then be associated to sigma\n",
    "new_growth_key = 'sigma'\n",
    "for r in tqdm(sporeme.reactions):\n",
    "    lb = r.lower_bound\n",
    "    ub = r.upper_bound\n",
    "    new_stoichiometry = {m:s for m,s in r.metabolites.items()}\n",
    "    if hasattr(lb, 'subs'):\n",
    "        growth_key = list(lb.free_symbols)[0]\n",
    "        r.lower_bound = float(lb.subs(growth_key,0.))\n",
    "    if hasattr(ub, 'subs'):\n",
    "        growth_key = list(ub.free_symbols)[0]\n",
    "        r.upper_bound = float(ub.subs(growth_key,1000.))\n",
    "    for m,s in new_stoichiometry.items():\n",
    "        if hasattr(s, 'subs'):\n",
    "            growth_key = list(s.free_symbols)[0]\n",
    "            new_stoichiometry[m] = s.subs(growth_key,new_growth_key)\n",
    "            a = 1\n",
    "    r.add_metabolites(new_stoichiometry,combine=False)"
   ]
  },
  {
   "cell_type": "code",
   "execution_count": 14,
   "metadata": {},
   "outputs": [],
   "source": [
    "sporeme.add_reactions(spore.reactions)"
   ]
  },
  {
   "cell_type": "code",
   "execution_count": 15,
   "metadata": {
    "scrolled": true
   },
   "outputs": [
    {
     "name": "stderr",
     "output_type": "stream",
     "text": [
      "100%|██████████| 8181/8181 [00:03<00:00, 2430.68it/s] \n"
     ]
    }
   ],
   "source": [
    "# Connect C with S\n",
    "## Change spore transport from e-s to c-s\n",
    "for m in tqdm(sporeme.metabolites):\n",
    "    if not isinstance(m,cobrame.Metabolite) or not re.search('_s$',m.id):\n",
    "        continue\n",
    "    in_transport = get_transport_reactions(sporeme,m.id,comps=['e','s'])\n",
    "    out_transport = get_transport_reactions(sporeme,m.id,comps=['s','e'])\n",
    "    transport_reactions = in_transport + out_transport\n",
    "    for r in transport_reactions:\n",
    "        old_met = sporeme.metabolites.get_by_id(re.sub('_s$','_e',m.id))\n",
    "        new_met = sporeme.metabolites.get_by_id(re.sub('_s$','_c',m.id))\n",
    "        coeff = r.metabolites[old_met]\n",
    "        r.add_metabolites({old_met:-coeff,new_met:coeff})"
   ]
  },
  {
   "cell_type": "code",
   "execution_count": 16,
   "metadata": {},
   "outputs": [],
   "source": [
    "sporeme.objective = 'biomass_dilution_s'\n",
    "sporeme.reactions.get_by_id('BIOMASS_BS_10_FWD_CPLX_dummy_s').upper_bound = 0"
   ]
  },
  {
   "cell_type": "markdown",
   "metadata": {},
   "source": [
    "### Manual fixes"
   ]
  },
  {
   "cell_type": "markdown",
   "metadata": {},
   "source": [
    "As reported by Eammon, arginine is transported through permeases RocC and RocE, and ABC transporters ArtPQR."
   ]
  },
  {
   "cell_type": "code",
   "execution_count": 17,
   "metadata": {},
   "outputs": [],
   "source": [
    "# close_met_transport = ['3gmp_c','gmp_c']\n",
    "# transporters = []\n",
    "# for m in tqdm(close_met_transport):\n",
    "#     transport = get_transport_reactions(sporeme,m,comps=['c','s']) + \\\n",
    "#         get_transport_reactions(sporeme,m,comps=['s','c'])\n",
    "#     [transporters.append(i) for i in transport]\n",
    "# transporters"
   ]
  },
  {
   "cell_type": "code",
   "execution_count": 18,
   "metadata": {},
   "outputs": [],
   "source": [
    "# for t in transporters:\n",
    "#     t.lower_bound = 0\n",
    "#     t.upper_bound = 0"
   ]
  },
  {
   "cell_type": "markdown",
   "metadata": {},
   "source": [
    "### Close specific reactions in the spore\n",
    "It was shown that all but one (odhB) TCA reaction was necessary. We close the unnecessary ones."
   ]
  },
  {
   "cell_type": "code",
   "execution_count": 19,
   "metadata": {},
   "outputs": [],
   "source": [
    "# gene_dictionary = pd.read_csv('../../building_data/gene_name_dictionary.csv',index_col=1)\n",
    "# eliminate_genes = ['citA','citB','citZ','icd','sucD','fumC','mdh']\n",
    "# gene_dictionary.loc[eliminate_genes]['locus_id']"
   ]
  },
  {
   "cell_type": "code",
   "execution_count": 20,
   "metadata": {},
   "outputs": [
    {
     "data": {
      "text/plain": [
       "name\n",
       "pckA    BSU30560\n",
       "purL    BSU06480\n",
       "ilvB    BSU28310\n",
       "citZ    BSU29140\n",
       "acsA    BSU29680\n",
       "etfA    BSU28520\n",
       "acoC    BSU08080\n",
       "sigF    BSU23450\n",
       "yxbC    BSU39880\n",
       "lutC    BSU34030\n",
       "argJ    BSU11200\n",
       "hpf     BSU35310\n",
       "Name: locus_id, dtype: object"
      ]
     },
     "execution_count": 20,
     "metadata": {},
     "output_type": "execute_result"
    }
   ],
   "source": [
    "# New version\n",
    "gene_dictionary = pd.read_csv('../../building_data/gene_name_dictionary.csv',index_col=1)\n",
    "eliminate_genes = ['pckA','purL','ilvB','citZ','acsA','etfA','acoC','sigF','yxbC','lutC','argJ','hpf']\n",
    "gene_dictionary.loc[eliminate_genes]['locus_id']"
   ]
  },
  {
   "cell_type": "code",
   "execution_count": 27,
   "metadata": {},
   "outputs": [],
   "source": [
    "eliminate_ids = set(gene_dictionary.loc[eliminate_genes]['locus_id']) & set(essentiality_df.index)"
   ]
  },
  {
   "cell_type": "code",
   "execution_count": 29,
   "metadata": {},
   "outputs": [
    {
     "data": {
      "text/html": [
       "<div>\n",
       "<style scoped>\n",
       "    .dataframe tbody tr th:only-of-type {\n",
       "        vertical-align: middle;\n",
       "    }\n",
       "\n",
       "    .dataframe tbody tr th {\n",
       "        vertical-align: top;\n",
       "    }\n",
       "\n",
       "    .dataframe thead th {\n",
       "        text-align: right;\n",
       "    }\n",
       "</style>\n",
       "<table border=\"1\" class=\"dataframe\">\n",
       "  <thead>\n",
       "    <tr style=\"text-align: right;\">\n",
       "      <th></th>\n",
       "      <th>response_me</th>\n",
       "      <th>essentiality_me</th>\n",
       "      <th>response_m</th>\n",
       "      <th>essentiality_m</th>\n",
       "      <th>true_essentiality</th>\n",
       "    </tr>\n",
       "  </thead>\n",
       "  <tbody>\n",
       "    <tr>\n",
       "      <th>BSU29680</th>\n",
       "      <td>0.000000</td>\n",
       "      <td>0</td>\n",
       "      <td>-1.302820e-10</td>\n",
       "      <td>0</td>\n",
       "      <td>0</td>\n",
       "    </tr>\n",
       "    <tr>\n",
       "      <th>BSU30560</th>\n",
       "      <td>0.000000</td>\n",
       "      <td>0</td>\n",
       "      <td>-1.828217e-10</td>\n",
       "      <td>0</td>\n",
       "      <td>0</td>\n",
       "    </tr>\n",
       "    <tr>\n",
       "      <th>BSU29140</th>\n",
       "      <td>-0.000028</td>\n",
       "      <td>0</td>\n",
       "      <td>0.000000e+00</td>\n",
       "      <td>0</td>\n",
       "      <td>0</td>\n",
       "    </tr>\n",
       "    <tr>\n",
       "      <th>BSU06480</th>\n",
       "      <td>0.000000</td>\n",
       "      <td>0</td>\n",
       "      <td>-1.000000e+00</td>\n",
       "      <td>e</td>\n",
       "      <td>0</td>\n",
       "    </tr>\n",
       "    <tr>\n",
       "      <th>BSU11200</th>\n",
       "      <td>-1.000000</td>\n",
       "      <td>e</td>\n",
       "      <td>-1.000000e+00</td>\n",
       "      <td>e</td>\n",
       "      <td>0</td>\n",
       "    </tr>\n",
       "    <tr>\n",
       "      <th>BSU28310</th>\n",
       "      <td>-0.000009</td>\n",
       "      <td>0</td>\n",
       "      <td>0.000000e+00</td>\n",
       "      <td>0</td>\n",
       "      <td>0</td>\n",
       "    </tr>\n",
       "    <tr>\n",
       "      <th>BSU23450</th>\n",
       "      <td>0.000000</td>\n",
       "      <td>0</td>\n",
       "      <td>NaN</td>\n",
       "      <td>NaN</td>\n",
       "      <td>0</td>\n",
       "    </tr>\n",
       "  </tbody>\n",
       "</table>\n",
       "</div>"
      ],
      "text/plain": [
       "          response_me essentiality_me    response_m essentiality_m  \\\n",
       "BSU29680     0.000000               0 -1.302820e-10              0   \n",
       "BSU30560     0.000000               0 -1.828217e-10              0   \n",
       "BSU29140    -0.000028               0  0.000000e+00              0   \n",
       "BSU06480     0.000000               0 -1.000000e+00              e   \n",
       "BSU11200    -1.000000               e -1.000000e+00              e   \n",
       "BSU28310    -0.000009               0  0.000000e+00              0   \n",
       "BSU23450     0.000000               0           NaN            NaN   \n",
       "\n",
       "         true_essentiality  \n",
       "BSU29680                 0  \n",
       "BSU30560                 0  \n",
       "BSU29140                 0  \n",
       "BSU06480                 0  \n",
       "BSU11200                 0  \n",
       "BSU28310                 0  \n",
       "BSU23450                 0  "
      ]
     },
     "execution_count": 29,
     "metadata": {},
     "output_type": "execute_result"
    }
   ],
   "source": [
    "essentiality_df = pd.read_csv('../essentiality/essentiality_results.csv',index_col=0)\n",
    "essentiality_df.loc[eliminate_ids]"
   ]
  },
  {
   "cell_type": "code",
   "execution_count": 30,
   "metadata": {},
   "outputs": [
    {
     "data": {
      "text/html": [
       "<div>\n",
       "<style scoped>\n",
       "    .dataframe tbody tr th:only-of-type {\n",
       "        vertical-align: middle;\n",
       "    }\n",
       "\n",
       "    .dataframe tbody tr th {\n",
       "        vertical-align: top;\n",
       "    }\n",
       "\n",
       "    .dataframe thead th {\n",
       "        text-align: right;\n",
       "    }\n",
       "</style>\n",
       "<table border=\"1\" class=\"dataframe\">\n",
       "  <thead>\n",
       "    <tr style=\"text-align: right;\">\n",
       "      <th></th>\n",
       "      <th>response_me</th>\n",
       "      <th>essentiality_me</th>\n",
       "      <th>true_essentiality</th>\n",
       "    </tr>\n",
       "  </thead>\n",
       "  <tbody>\n",
       "    <tr>\n",
       "      <th>BSU29680</th>\n",
       "      <td>0.000000</td>\n",
       "      <td>0</td>\n",
       "      <td>0</td>\n",
       "    </tr>\n",
       "    <tr>\n",
       "      <th>BSU30560</th>\n",
       "      <td>0.000000</td>\n",
       "      <td>0</td>\n",
       "      <td>0</td>\n",
       "    </tr>\n",
       "    <tr>\n",
       "      <th>BSU29140</th>\n",
       "      <td>-0.000028</td>\n",
       "      <td>0</td>\n",
       "      <td>0</td>\n",
       "    </tr>\n",
       "    <tr>\n",
       "      <th>BSU06480</th>\n",
       "      <td>0.000000</td>\n",
       "      <td>0</td>\n",
       "      <td>0</td>\n",
       "    </tr>\n",
       "    <tr>\n",
       "      <th>BSU11200</th>\n",
       "      <td>-1.000000</td>\n",
       "      <td>e</td>\n",
       "      <td>0</td>\n",
       "    </tr>\n",
       "    <tr>\n",
       "      <th>BSU28310</th>\n",
       "      <td>-0.000009</td>\n",
       "      <td>0</td>\n",
       "      <td>0</td>\n",
       "    </tr>\n",
       "    <tr>\n",
       "      <th>BSU23450</th>\n",
       "      <td>0.000000</td>\n",
       "      <td>0</td>\n",
       "      <td>0</td>\n",
       "    </tr>\n",
       "  </tbody>\n",
       "</table>\n",
       "</div>"
      ],
      "text/plain": [
       "          response_me essentiality_me true_essentiality\n",
       "BSU29680     0.000000               0                 0\n",
       "BSU30560     0.000000               0                 0\n",
       "BSU29140    -0.000028               0                 0\n",
       "BSU06480     0.000000               0                 0\n",
       "BSU11200    -1.000000               e                 0\n",
       "BSU28310    -0.000009               0                 0\n",
       "BSU23450     0.000000               0                 0"
      ]
     },
     "execution_count": 30,
     "metadata": {},
     "output_type": "execute_result"
    }
   ],
   "source": [
    "essentiality_df.loc[eliminate_ids][['response_me','essentiality_me','true_essentiality']]"
   ]
  },
  {
   "cell_type": "code",
   "execution_count": 31,
   "metadata": {},
   "outputs": [
    {
     "name": "stdout",
     "output_type": "stream",
     "text": [
      "translation_BSU29680_s\n",
      "translation_BSU30560_s\n",
      "translation_BSU29140_s\n",
      "translation_BSU06480_s\n",
      "translation_BSU11200_s\n",
      "translation_BSU28310_s\n",
      "translation_BSU23450_s\n"
     ]
    }
   ],
   "source": [
    "for gene in eliminate_ids:\n",
    "    r = 'translation_' + gene +'_s'\n",
    "    print(r)\n",
    "    rxn = sporeme.reactions.get_by_id(r)\n",
    "    rxn.upper_bound = 0\n",
    "    rxn.lower_bound = 0"
   ]
  },
  {
   "cell_type": "markdown",
   "metadata": {},
   "source": [
    "### Solve"
   ]
  },
  {
   "cell_type": "code",
   "execution_count": 32,
   "metadata": {
    "scrolled": true
   },
   "outputs": [
    {
     "name": "stdout",
     "output_type": "stream",
     "text": [
      "iter\tmuopt    \ta     \tb     \tmu1       \tstat1\n",
      "Finished compiling expressions in 441.062099 seconds\n",
      "Finished substituting S,lb,ub in 11.767199 seconds\n",
      "Finished makeME_LP in 2.215844 seconds\n",
      "Getting MINOS parameters from ME_NLP...\n",
      "1 0.0 0.0 0.25 0.25 1\n",
      "Finished substituting S,lb,ub in 11.887437 seconds\n",
      "Finished makeME_LP in 2.213207 seconds\n",
      "Getting MINOS parameters from ME_NLP...\n",
      "2 0.0 0.0 0.125 0.125 1\n",
      "Finished substituting S,lb,ub in 11.915103 seconds\n",
      "Finished makeME_LP in 2.229609 seconds\n",
      "Getting MINOS parameters from ME_NLP...\n",
      "3 0.0625 0.0625 0.125 0.0625 optimal\n",
      "Finished substituting S,lb,ub in 11.829234 seconds\n",
      "Finished makeME_LP in 2.210995 seconds\n",
      "Getting MINOS parameters from ME_NLP...\n",
      "4 0.09375 0.09375 0.125 0.09375 optimal\n",
      "Finished substituting S,lb,ub in 11.828267 seconds\n",
      "Finished makeME_LP in 2.214204 seconds\n",
      "Getting MINOS parameters from ME_NLP...\n",
      "5 0.109375 0.109375 0.125 0.109375 optimal\n",
      "Finished substituting S,lb,ub in 11.786286 seconds\n",
      "Finished makeME_LP in 2.212468 seconds\n",
      "Getting MINOS parameters from ME_NLP...\n",
      "6 0.109375 0.109375 0.1171875 0.1171875 1\n",
      "Finished substituting S,lb,ub in 11.776582 seconds\n",
      "Finished makeME_LP in 2.215346 seconds\n",
      "Getting MINOS parameters from ME_NLP...\n",
      "7 0.109375 0.109375 0.11328125 0.11328125 1\n",
      "Finished substituting S,lb,ub in 11.720773 seconds\n",
      "Finished makeME_LP in 2.215093 seconds\n",
      "Getting MINOS parameters from ME_NLP...\n",
      "8 0.111328125 0.111328125 0.11328125 0.111328125 optimal\n",
      "Finished substituting S,lb,ub in 11.680601 seconds\n",
      "Finished makeME_LP in 2.220810 seconds\n",
      "Getting MINOS parameters from ME_NLP...\n",
      "9 0.1123046875 0.1123046875 0.11328125 0.1123046875 optimal\n",
      "Finished substituting S,lb,ub in 11.672072 seconds\n",
      "Finished makeME_LP in 2.272310 seconds\n",
      "Getting MINOS parameters from ME_NLP...\n",
      "10 0.1123046875 0.1123046875 0.11279296875 0.11279296875 1\n",
      "Finished substituting S,lb,ub in 11.641838 seconds\n",
      "Finished makeME_LP in 2.199897 seconds\n",
      "Getting MINOS parameters from ME_NLP...\n",
      "11 0.112548828125 0.112548828125 0.11279296875 0.112548828125 optimal\n",
      "Finished substituting S,lb,ub in 11.795223 seconds\n",
      "Finished makeME_LP in 2.206186 seconds\n",
      "Getting MINOS parameters from ME_NLP...\n",
      "12 0.112548828125 0.112548828125 0.1126708984375 0.1126708984375 1\n",
      "Finished substituting S,lb,ub in 11.563449 seconds\n",
      "Finished makeME_LP in 2.211458 seconds\n",
      "Getting MINOS parameters from ME_NLP...\n",
      "13 0.11260986328125 0.11260986328125 0.1126708984375 0.11260986328125 optimal\n",
      "Finished substituting S,lb,ub in 11.559319 seconds\n",
      "Finished makeME_LP in 2.211540 seconds\n",
      "Getting MINOS parameters from ME_NLP...\n",
      "14 0.11260986328125 0.11260986328125 0.112640380859375 0.112640380859375 1\n",
      "Finished substituting S,lb,ub in 12.383324 seconds\n",
      "Finished makeME_LP in 2.208213 seconds\n",
      "Getting MINOS parameters from ME_NLP...\n",
      "15 0.1126251220703125 0.1126251220703125 0.112640380859375 0.1126251220703125 optimal\n",
      "Finished substituting S,lb,ub in 11.733871 seconds\n",
      "Finished makeME_LP in 2.317613 seconds\n",
      "Getting MINOS parameters from ME_NLP...\n",
      "16 0.1126251220703125 0.1126251220703125 0.11263275146484375 0.11263275146484375 1\n",
      "Finished substituting S,lb,ub in 11.460970 seconds\n",
      "Finished makeME_LP in 2.204299 seconds\n",
      "Getting MINOS parameters from ME_NLP...\n",
      "17 0.11262893676757812 0.11262893676757812 0.11263275146484375 0.11262893676757812 optimal\n",
      "Finished substituting S,lb,ub in 11.582307 seconds\n",
      "Finished makeME_LP in 2.198182 seconds\n",
      "Getting MINOS parameters from ME_NLP...\n",
      "18 0.11262893676757812 0.11262893676757812 0.11263084411621094 0.11263084411621094 1\n",
      "Finished substituting S,lb,ub in 11.483995 seconds\n",
      "Finished makeME_LP in 2.200205 seconds\n",
      "Getting MINOS parameters from ME_NLP...\n",
      "19 0.11262893676757812 0.11262893676757812 0.11262989044189453 0.11262989044189453 1\n",
      "Bisection done in 1663.76 seconds\n"
     ]
    }
   ],
   "source": [
    "solve_me_model(sporeme, max_mu = 0.5, min_mu = .05, using_soplex=False, precision = 1e-6,growth_key = 'sigma')"
   ]
  },
  {
   "cell_type": "code",
   "execution_count": 4,
   "metadata": {},
   "outputs": [],
   "source": [
    "# Close ATP synthase as it seems it is not present in the spore according to Eammons thesis\n",
    "sporeme.reactions.get_by_id('ATPS4r_FWD_CPLX000-10_s').bounds = (0,0)\n",
    "with open(\"./sporeme_solution_v2.pickle\", \"wb\") as outfile:\n",
    "    pickle.dump(sporeme, outfile)"
   ]
  },
  {
   "cell_type": "code",
   "execution_count": 2,
   "metadata": {},
   "outputs": [],
   "source": [
    "with open(\"./sporeme_solution.pickle\", \"rb\") as outfile:\n",
    "    sporeme = pickle.load(outfile)"
   ]
  },
  {
   "cell_type": "code",
   "execution_count": 3,
   "metadata": {},
   "outputs": [
    {
     "data": {
      "text/plain": [
       "0.11261272430419922"
      ]
     },
     "execution_count": 3,
     "metadata": {},
     "output_type": "execute_result"
    }
   ],
   "source": [
    "sporeme.solution.x_dict['biomass_dilution_s']"
   ]
  },
  {
   "cell_type": "code",
   "execution_count": 26,
   "metadata": {},
   "outputs": [
    {
     "name": "stdout",
     "output_type": "stream",
     "text": [
      "( formation_CPLX000-8_s 0.0 1000.0 ) \t protein_BSU28730_s + protein_BSU28740_s + protein_BSU28750_s --> CPLX000-8_s\n",
      "( ARBabc_FWD_CPLX000-8_s 0 999999.0 ) \t arab__L_c + atp_s + h2o_s <=> -4.27350427350427e-6*sigma CPLX000-8_s + adp_s + arab__L_s + h_s + pi_s\n"
     ]
    },
    {
     "data": {
      "text/plain": [
       "[<ComplexFormation formation_CPLX000-8_s at 0x7f21140ac518>,\n",
       " <MetabolicReaction ARBabc_FWD_CPLX000-8_s at 0x7f2113eb2160>]"
      ]
     },
     "execution_count": 26,
     "metadata": {},
     "output_type": "execute_result"
    }
   ],
   "source": [
    "get_reactions_of_met(sporeme,'malcoa_c',only_types=['MetabolicReaction'])"
   ]
  },
  {
   "cell_type": "code",
   "execution_count": 10,
   "metadata": {},
   "outputs": [
    {
     "data": {
      "text/plain": [
       "6054"
      ]
     },
     "execution_count": 10,
     "metadata": {},
     "output_type": "execute_result"
    }
   ],
   "source": [
    "len([r for r in sporeme.reactions if '_s' not in r.id[-2:]])"
   ]
  },
  {
   "cell_type": "code",
   "execution_count": 11,
   "metadata": {},
   "outputs": [
    {
     "data": {
      "text/plain": [
       "3973"
      ]
     },
     "execution_count": 11,
     "metadata": {},
     "output_type": "execute_result"
    }
   ],
   "source": [
    "len([r for r in sporeme.metabolites if '_s' in r.id[-2:]])"
   ]
  },
  {
   "cell_type": "code",
   "execution_count": 15,
   "metadata": {},
   "outputs": [
    {
     "data": {
      "text/plain": [
       "6057"
      ]
     },
     "execution_count": 15,
     "metadata": {},
     "output_type": "execute_result"
    }
   ],
   "source": [
    "len(sporeme.reactions) - 6282"
   ]
  },
  {
   "cell_type": "markdown",
   "metadata": {},
   "source": [
    "### "
   ]
  }
 ],
 "metadata": {
  "kernelspec": {
   "display_name": "env_MEmodeling",
   "language": "python",
   "name": "env_memodeling"
  },
  "language_info": {
   "codemirror_mode": {
    "name": "ipython",
    "version": 3
   },
   "file_extension": ".py",
   "mimetype": "text/x-python",
   "name": "python",
   "nbconvert_exporter": "python",
   "pygments_lexer": "ipython3",
   "version": "3.6.3"
  }
 },
 "nbformat": 4,
 "nbformat_minor": 4
}
