{
 "cells": [
  {
   "cell_type": "markdown",
   "metadata": {},
   "source": [
    "# Build community model"
   ]
  },
  {
   "cell_type": "code",
   "execution_count": 1,
   "metadata": {
    "scrolled": true
   },
   "outputs": [
    {
     "name": "stderr",
     "output_type": "stream",
     "text": [
      "/home/jt/Downloads/cobrapy-0.5.11/cobra/io/sbml3.py:24: UserWarning: Install lxml for faster SBML I/O\n",
      "  warn(\"Install lxml for faster SBML I/O\")\n",
      "/home/jt/Downloads/cobrapy-0.5.11/cobra/io/__init__.py:12: UserWarning: cobra.io.sbml requires libsbml\n",
      "  warn(\"cobra.io.sbml requires libsbml\")\n"
     ]
    },
    {
     "name": "stdout",
     "output_type": "stream",
     "text": [
      "/home/jt/Downloads/cobrapy-0.5.11/cobra/__init__.py\n",
      "/home/jt/UCSD/cobrame-master/cobrame/__init__.py\n",
      "/home/jt/UCSD/bacillusme-master/bacillusme/__init__.py\n"
     ]
    }
   ],
   "source": [
    "from __future__ import print_function, division, absolute_import\n",
    "\n",
    "import sys\n",
    "\n",
    "import qminospy\n",
    "from qminospy.me2 import ME_NLP\n",
    "\n",
    "# python imports\n",
    "from copy import copy\n",
    "import re\n",
    "from os.path import join, dirname, abspath\n",
    "import sys\n",
    "sys.path.append('/home/UCSD/cobra_utils')\n",
    "from collections import defaultdict\n",
    "import pickle\n",
    "\n",
    "# third party imports\n",
    "import pandas\n",
    "import cobra\n",
    "from tqdm import tqdm\n",
    "import numpy as np\n",
    "import scipy\n",
    "\n",
    "# COBRAme\n",
    "import cobrame\n",
    "from cobrame.util import building, mu, me_model_interface\n",
    "from cobrame.io.json import save_json_me_model, save_reduced_json_me_model\n",
    "\n",
    "# ECOLIme\n",
    "import bacillusme\n",
    "from bacillusme import (transcription, translation, flat_files, generics, formulas, compartments)\n",
    "from bacillusme.util.helper_functions import *\n",
    "\n",
    "import copy\n",
    "\n",
    "%load_ext autoreload\n",
    "%autoreload 2\n",
    "print(cobra.__file__)\n",
    "print(cobrame.__file__)\n",
    "print(bacillusme.__file__)\n",
    "ecoli_files = dirname(abspath(bacillusme.__file__))"
   ]
  },
  {
   "cell_type": "code",
   "execution_count": 2,
   "metadata": {
    "scrolled": true
   },
   "outputs": [
    {
     "data": {
      "text/plain": [
       "<Solution 0.12 at 0x7fbaf722e1d0>"
      ]
     },
     "execution_count": 2,
     "metadata": {},
     "output_type": "execute_result"
    }
   ],
   "source": [
    "eco_directory = join(flat_files.ecoli_files_dir, 'iJO1366.json')\n",
    "ijo_directory = join(flat_files.ecoli_files_dir, 'iYO844.json')\n",
    "uni_directory = join(flat_files.ecoli_files_dir, 'universal_model.json')\n",
    "\n",
    "eco = cobra.io.load_json_model(eco_directory)\n",
    "bsub = cobra.io.load_json_model(ijo_directory)\n",
    "uni = cobra.io.load_json_model(uni_directory)\n",
    "\n",
    "bsub.optimize()"
   ]
  },
  {
   "cell_type": "code",
   "execution_count": 3,
   "metadata": {
    "scrolled": true
   },
   "outputs": [],
   "source": [
    "with open(ecoli_files+'/me_models/solution.pickle', 'rb') as solution:\n",
    "    me = pickle.load(solution)\n",
    "with open(ecoli_files+'/me_models/solution.pickle', 'rb') as solution:\n",
    "    spore = pickle.load(solution)"
   ]
  },
  {
   "cell_type": "markdown",
   "metadata": {},
   "source": [
    "## Create spore model"
   ]
  },
  {
   "cell_type": "markdown",
   "metadata": {},
   "source": [
    "### Change IDs (compartment _s)"
   ]
  },
  {
   "cell_type": "code",
   "execution_count": 4,
   "metadata": {},
   "outputs": [
    {
     "name": "stderr",
     "output_type": "stream",
     "text": [
      "100%|██████████| 4214/4214 [00:00<00:00, 139734.97it/s]\n"
     ]
    }
   ],
   "source": [
    "# Metabolites\n",
    "new_compartment = 's'\n",
    "fix = []\n",
    "for met in tqdm(spore.metabolites):\n",
    "    if re.search('_[c,e]$',met.id):\n",
    "        met.id = re.sub('c$',new_compartment,met.id)\n",
    "    else:\n",
    "        met.id = met.id+'_'+new_compartment"
   ]
  },
  {
   "cell_type": "code",
   "execution_count": 5,
   "metadata": {},
   "outputs": [
    {
     "name": "stderr",
     "output_type": "stream",
     "text": [
      "100%|██████████| 6285/6285 [00:00<00:00, 411174.21it/s]\n"
     ]
    }
   ],
   "source": [
    "# Reactions\n",
    "new_compartment = 's'\n",
    "fix = []\n",
    "for r in tqdm(spore.reactions):\n",
    "        r.id = r.id+'_'+new_compartment"
   ]
  },
  {
   "cell_type": "code",
   "execution_count": 6,
   "metadata": {},
   "outputs": [],
   "source": [
    "spore.repair()"
   ]
  },
  {
   "cell_type": "code",
   "execution_count": 7,
   "metadata": {
    "scrolled": true
   },
   "outputs": [
    {
     "name": "stderr",
     "output_type": "stream",
     "text": [
      "100%|██████████| 6285/6285 [00:45<00:00, 137.24it/s]\n"
     ]
    }
   ],
   "source": [
    "# Create new growth key for spore\n",
    "new_growth_key = 'sigma'\n",
    "for r in tqdm(spore.reactions):\n",
    "    lb = r.lower_bound\n",
    "    ub = r.upper_bound\n",
    "    new_stoichiometry = {m:s for m,s in r.metabolites.items()}\n",
    "    if hasattr(lb, 'subs'):\n",
    "        growth_key = list(lb.free_symbols)[0]\n",
    "        r.lower_bound = lb.subs(growth_key,new_growth_key)\n",
    "    if hasattr(ub, 'subs'):\n",
    "        growth_key = list(ub.free_symbols)[0]\n",
    "        r.upper_bound = ub.subs(growth_key,new_growth_key)\n",
    "    for m,s in new_stoichiometry.items():\n",
    "        if hasattr(s, 'subs'):\n",
    "            growth_key = list(s.free_symbols)[0]\n",
    "            new_stoichiometry[m] = s.subs(growth_key,new_growth_key)\n",
    "    r.add_metabolites(new_stoichiometry,combine=False)"
   ]
  },
  {
   "cell_type": "code",
   "execution_count": 8,
   "metadata": {
    "scrolled": true
   },
   "outputs": [
    {
     "name": "stderr",
     "output_type": "stream",
     "text": [
      "100%|██████████| 6285/6285 [00:01<00:00, 5749.80it/s]\n"
     ]
    }
   ],
   "source": [
    "# Eliminate exchange reactions:\n",
    "reactions = [r for r in spore.reactions]\n",
    "for r in tqdm(reactions):\n",
    "    if re.search('^EX_',r.id):\n",
    "        r.remove_from_model()"
   ]
  },
  {
   "cell_type": "markdown",
   "metadata": {},
   "source": [
    "### Create spore biomass reactions"
   ]
  },
  {
   "cell_type": "code",
   "execution_count": 9,
   "metadata": {},
   "outputs": [],
   "source": [
    "bio_rxn = spore.reactions.BIOMASS_BS_10_FWD_CPLX_dummy_s"
   ]
  },
  {
   "cell_type": "code",
   "execution_count": 10,
   "metadata": {},
   "outputs": [],
   "source": [
    "bio_comp = pd.read_csv('spore_composition.csv',index_col=0)"
   ]
  },
  {
   "cell_type": "code",
   "execution_count": 11,
   "metadata": {},
   "outputs": [
    {
     "name": "stdout",
     "output_type": "stream",
     "text": [
      "2.353230994969913e-06 cdlp_BS_s <=> 0.0003138918345705195 lipid_biomass_s\n",
      "5.5911661649980173e-05 d12dg_BS_s <=> 0.004943796394485683 lipid_biomass_s\n",
      "1.1181601688200874e-05 lysylpgly_BS_s <=> 0.0009416755037115587 lipid_biomass_s\n",
      "4.347080715231638e-05 m12dg_BS_s <=> 0.0031389183457051955 lipid_biomass_s\n",
      "8.915068976475303e-05 pgly_BS_s <=> 0.006356309650053021 lipid_biomass_s\n",
      "0.00028364101108229784 psetha_BS_s <=> 0.01934358430540827 lipid_biomass_s\n",
      "3.337340219543245e-05 t12dg_BS_s <=> 0.0034920466595970297 lipid_biomass_s\n",
      "0.0012215982898295598 gtca3_45_BS_s <=> 0.01794281096319678 lipid_biomass_s\n",
      "4.701037948766861e-06 lipo1_24_BS_s <=> 0.00397181389778114 lipid_biomass_s\n",
      "0.0020899471566517814 tcam_BS_s <=> 0.02898675371802525 lipid_biomass_s\n"
     ]
    }
   ],
   "source": [
    "# Identify lipid metabolites in biomass equation\n",
    "lipid_demand = {}\n",
    "for m in bio_comp.index:\n",
    "    if '_BS_c' in m:\n",
    "        new_id = re.sub('c$','s',m)\n",
    "        value = bio_comp.loc[m]['coeff']\n",
    "        lipid_demand[new_id] = abs(value)\n",
    "                \n",
    "for met, requirement in lipid_demand.items():\n",
    "    component_mass = spore.metabolites.get_by_id(met).formula_weight / 1000.\n",
    "    rxn = cobrame.SummaryVariable('Demand_' + met)\n",
    "    spore.add_reactions([rxn])\n",
    "    rxn.add_metabolites({met: -1 * requirement,\n",
    "                         'lipid_biomass_s': component_mass * requirement})\n",
    "    rxn.lower_bound = spore.reactions.biomass_dilution_s.lower_bound\n",
    "    rxn.upper_bound = 1000.\n",
    "    print(rxn.reaction)"
   ]
  },
  {
   "cell_type": "markdown",
   "metadata": {},
   "source": [
    "### Merge"
   ]
  },
  {
   "cell_type": "code",
   "execution_count": 12,
   "metadata": {},
   "outputs": [],
   "source": [
    "with open(ecoli_files+'/me_models/solution.pickle', 'rb') as solution:\n",
    "    sporeme = pickle.load(solution)"
   ]
  },
  {
   "cell_type": "code",
   "execution_count": 13,
   "metadata": {
    "scrolled": true
   },
   "outputs": [
    {
     "name": "stderr",
     "output_type": "stream",
     "text": [
      "100%|██████████| 6285/6285 [00:47<00:00, 133.37it/s]\n"
     ]
    }
   ],
   "source": [
    "# Mother is not growing. Reactions should then be associated to sigma\n",
    "new_growth_key = 'sigma'\n",
    "for r in tqdm(sporeme.reactions):\n",
    "    lb = r.lower_bound\n",
    "    ub = r.upper_bound\n",
    "    new_stoichiometry = {m:s for m,s in r.metabolites.items()}\n",
    "    if hasattr(lb, 'subs'):\n",
    "        growth_key = list(lb.free_symbols)[0]\n",
    "        r.lower_bound = float(lb.subs(growth_key,0.))\n",
    "    if hasattr(ub, 'subs'):\n",
    "        growth_key = list(ub.free_symbols)[0]\n",
    "        r.upper_bound = float(ub.subs(growth_key,1000.))\n",
    "    for m,s in new_stoichiometry.items():\n",
    "        if hasattr(s, 'subs'):\n",
    "            growth_key = list(s.free_symbols)[0]\n",
    "            new_stoichiometry[m] = s.subs(growth_key,new_growth_key)\n",
    "            a = 1\n",
    "    r.add_metabolites(new_stoichiometry,combine=False)"
   ]
  },
  {
   "cell_type": "code",
   "execution_count": 14,
   "metadata": {},
   "outputs": [],
   "source": [
    "sporeme.add_reactions(spore.reactions)"
   ]
  },
  {
   "cell_type": "code",
   "execution_count": 15,
   "metadata": {
    "scrolled": true
   },
   "outputs": [
    {
     "name": "stderr",
     "output_type": "stream",
     "text": [
      "100%|██████████| 8187/8187 [00:02<00:00, 2866.99it/s] \n"
     ]
    }
   ],
   "source": [
    "# Connect C with S\n",
    "## Change spore transport from e-s to c-s\n",
    "for m in tqdm(sporeme.metabolites):\n",
    "    if not isinstance(m,cobrame.Metabolite) or not re.search('_s$',m.id):\n",
    "        continue\n",
    "    in_transport = get_transport_reactions(sporeme,m.id,comps=['e','s'])\n",
    "    out_transport = get_transport_reactions(sporeme,m.id,comps=['s','e'])\n",
    "    transport_reactions = in_transport + out_transport\n",
    "    for r in transport_reactions:\n",
    "        old_met = sporeme.metabolites.get_by_id(re.sub('_s$','_e',m.id))\n",
    "        new_met = sporeme.metabolites.get_by_id(re.sub('_s$','_c',m.id))\n",
    "        coeff = r.metabolites[old_met]\n",
    "        r.add_metabolites({old_met:-coeff,new_met:coeff})"
   ]
  },
  {
   "cell_type": "code",
   "execution_count": 16,
   "metadata": {},
   "outputs": [],
   "source": [
    "sporeme.objective = 'biomass_dilution_s'\n",
    "sporeme.reactions.get_by_id('BIOMASS_BS_10_FWD_CPLX_dummy_s').upper_bound = 0"
   ]
  },
  {
   "cell_type": "markdown",
   "metadata": {},
   "source": [
    "### Manual fixes"
   ]
  },
  {
   "cell_type": "markdown",
   "metadata": {},
   "source": [
    "As reported by Eammon, arginine is transported through permeases RocC and RocE, and ABC transporters ArtPQR."
   ]
  },
  {
   "cell_type": "code",
   "execution_count": 17,
   "metadata": {},
   "outputs": [],
   "source": [
    "# close_met_transport = ['3gmp_c','gmp_c']\n",
    "# transporters = []\n",
    "# for m in tqdm(close_met_transport):\n",
    "#     transport = get_transport_reactions(sporeme,m,comps=['c','s']) + \\\n",
    "#         get_transport_reactions(sporeme,m,comps=['s','c'])\n",
    "#     [transporters.append(i) for i in transport]\n",
    "# transporters"
   ]
  },
  {
   "cell_type": "code",
   "execution_count": 18,
   "metadata": {},
   "outputs": [],
   "source": [
    "# for t in transporters:\n",
    "#     t.lower_bound = 0\n",
    "#     t.upper_bound = 0"
   ]
  },
  {
   "cell_type": "markdown",
   "metadata": {},
   "source": [
    "### Close specific reactions in the spore\n",
    "It was shown that all but one (odhB) TCA reaction was necessary. We close the unnecessary ones."
   ]
  },
  {
   "cell_type": "code",
   "execution_count": 6,
   "metadata": {},
   "outputs": [
    {
     "data": {
      "text/plain": [
       "name\n",
       "citA    BSU09440\n",
       "citB    BSU18000\n",
       "citZ    BSU29140\n",
       "icd     BSU29130\n",
       "sucD    BSU16100\n",
       "fumC    BSU33040\n",
       "mdh     BSU29120\n",
       "Name: locus_id, dtype: object"
      ]
     },
     "execution_count": 6,
     "metadata": {},
     "output_type": "execute_result"
    }
   ],
   "source": [
    "gene_dictionary = pd.read_csv('../../building_data/gene_name_dictionary.csv',index_col=1)\n",
    "eliminate_genes = ['citA','citB','citZ','icd','sucD','fumC','mdh']\n",
    "gene_dictionary.loc[eliminate_genes]['locus_id']"
   ]
  },
  {
   "cell_type": "code",
   "execution_count": 7,
   "metadata": {},
   "outputs": [],
   "source": [
    "eliminate_ids = gene_dictionary.loc[eliminate_genes]['locus_id'].tolist()"
   ]
  },
  {
   "cell_type": "code",
   "execution_count": 8,
   "metadata": {},
   "outputs": [
    {
     "data": {
      "text/html": [
       "<div>\n",
       "<style scoped>\n",
       "    .dataframe tbody tr th:only-of-type {\n",
       "        vertical-align: middle;\n",
       "    }\n",
       "\n",
       "    .dataframe tbody tr th {\n",
       "        vertical-align: top;\n",
       "    }\n",
       "\n",
       "    .dataframe thead th {\n",
       "        text-align: right;\n",
       "    }\n",
       "</style>\n",
       "<table border=\"1\" class=\"dataframe\">\n",
       "  <thead>\n",
       "    <tr style=\"text-align: right;\">\n",
       "      <th></th>\n",
       "      <th>response_me</th>\n",
       "      <th>essentiality_me</th>\n",
       "      <th>response_m</th>\n",
       "      <th>essentiality_m</th>\n",
       "      <th>true_essentiality</th>\n",
       "    </tr>\n",
       "  </thead>\n",
       "  <tbody>\n",
       "    <tr>\n",
       "      <th>BSU09440</th>\n",
       "      <td>0.000000</td>\n",
       "      <td>0</td>\n",
       "      <td>0.000000</td>\n",
       "      <td>0</td>\n",
       "      <td>0</td>\n",
       "    </tr>\n",
       "    <tr>\n",
       "      <th>BSU18000</th>\n",
       "      <td>-0.153926</td>\n",
       "      <td>-</td>\n",
       "      <td>-0.152083</td>\n",
       "      <td>-</td>\n",
       "      <td>0</td>\n",
       "    </tr>\n",
       "    <tr>\n",
       "      <th>BSU29140</th>\n",
       "      <td>-0.000028</td>\n",
       "      <td>0</td>\n",
       "      <td>0.000000</td>\n",
       "      <td>0</td>\n",
       "      <td>0</td>\n",
       "    </tr>\n",
       "    <tr>\n",
       "      <th>BSU29130</th>\n",
       "      <td>-0.153936</td>\n",
       "      <td>-</td>\n",
       "      <td>-0.152083</td>\n",
       "      <td>-</td>\n",
       "      <td>0</td>\n",
       "    </tr>\n",
       "    <tr>\n",
       "      <th>BSU16100</th>\n",
       "      <td>-0.061582</td>\n",
       "      <td>-</td>\n",
       "      <td>-0.059546</td>\n",
       "      <td>-</td>\n",
       "      <td>0</td>\n",
       "    </tr>\n",
       "    <tr>\n",
       "      <th>BSU33040</th>\n",
       "      <td>-0.139421</td>\n",
       "      <td>-</td>\n",
       "      <td>-0.135523</td>\n",
       "      <td>-</td>\n",
       "      <td>0</td>\n",
       "    </tr>\n",
       "    <tr>\n",
       "      <th>BSU29120</th>\n",
       "      <td>-0.065595</td>\n",
       "      <td>-</td>\n",
       "      <td>-0.063391</td>\n",
       "      <td>-</td>\n",
       "      <td>0</td>\n",
       "    </tr>\n",
       "  </tbody>\n",
       "</table>\n",
       "</div>"
      ],
      "text/plain": [
       "          response_me essentiality_me  response_m essentiality_m  \\\n",
       "BSU09440     0.000000               0    0.000000              0   \n",
       "BSU18000    -0.153926               -   -0.152083              -   \n",
       "BSU29140    -0.000028               0    0.000000              0   \n",
       "BSU29130    -0.153936               -   -0.152083              -   \n",
       "BSU16100    -0.061582               -   -0.059546              -   \n",
       "BSU33040    -0.139421               -   -0.135523              -   \n",
       "BSU29120    -0.065595               -   -0.063391              -   \n",
       "\n",
       "         true_essentiality  \n",
       "BSU09440                 0  \n",
       "BSU18000                 0  \n",
       "BSU29140                 0  \n",
       "BSU29130                 0  \n",
       "BSU16100                 0  \n",
       "BSU33040                 0  \n",
       "BSU29120                 0  "
      ]
     },
     "execution_count": 8,
     "metadata": {},
     "output_type": "execute_result"
    }
   ],
   "source": [
    "essentiality_df = pd.read_csv('../essentiality/essentiality_results.csv',index_col=0)\n",
    "essentiality_df.loc[eliminate_ids]"
   ]
  },
  {
   "cell_type": "code",
   "execution_count": 11,
   "metadata": {},
   "outputs": [
    {
     "data": {
      "text/html": [
       "<div>\n",
       "<style scoped>\n",
       "    .dataframe tbody tr th:only-of-type {\n",
       "        vertical-align: middle;\n",
       "    }\n",
       "\n",
       "    .dataframe tbody tr th {\n",
       "        vertical-align: top;\n",
       "    }\n",
       "\n",
       "    .dataframe thead th {\n",
       "        text-align: right;\n",
       "    }\n",
       "</style>\n",
       "<table border=\"1\" class=\"dataframe\">\n",
       "  <thead>\n",
       "    <tr style=\"text-align: right;\">\n",
       "      <th></th>\n",
       "      <th>response_me</th>\n",
       "      <th>essentiality_me</th>\n",
       "      <th>true_essentiality</th>\n",
       "    </tr>\n",
       "  </thead>\n",
       "  <tbody>\n",
       "    <tr>\n",
       "      <th>BSU09440</th>\n",
       "      <td>0.000000</td>\n",
       "      <td>0</td>\n",
       "      <td>0</td>\n",
       "    </tr>\n",
       "    <tr>\n",
       "      <th>BSU18000</th>\n",
       "      <td>-0.153926</td>\n",
       "      <td>-</td>\n",
       "      <td>0</td>\n",
       "    </tr>\n",
       "    <tr>\n",
       "      <th>BSU29140</th>\n",
       "      <td>-0.000028</td>\n",
       "      <td>0</td>\n",
       "      <td>0</td>\n",
       "    </tr>\n",
       "    <tr>\n",
       "      <th>BSU29130</th>\n",
       "      <td>-0.153936</td>\n",
       "      <td>-</td>\n",
       "      <td>0</td>\n",
       "    </tr>\n",
       "    <tr>\n",
       "      <th>BSU16100</th>\n",
       "      <td>-0.061582</td>\n",
       "      <td>-</td>\n",
       "      <td>0</td>\n",
       "    </tr>\n",
       "    <tr>\n",
       "      <th>BSU33040</th>\n",
       "      <td>-0.139421</td>\n",
       "      <td>-</td>\n",
       "      <td>0</td>\n",
       "    </tr>\n",
       "    <tr>\n",
       "      <th>BSU29120</th>\n",
       "      <td>-0.065595</td>\n",
       "      <td>-</td>\n",
       "      <td>0</td>\n",
       "    </tr>\n",
       "  </tbody>\n",
       "</table>\n",
       "</div>"
      ],
      "text/plain": [
       "          response_me essentiality_me true_essentiality\n",
       "BSU09440     0.000000               0                 0\n",
       "BSU18000    -0.153926               -                 0\n",
       "BSU29140    -0.000028               0                 0\n",
       "BSU29130    -0.153936               -                 0\n",
       "BSU16100    -0.061582               -                 0\n",
       "BSU33040    -0.139421               -                 0\n",
       "BSU29120    -0.065595               -                 0"
      ]
     },
     "execution_count": 11,
     "metadata": {},
     "output_type": "execute_result"
    }
   ],
   "source": [
    "essentiality_df.loc[eliminate_ids][['response_me','essentiality_me','true_essentiality']]"
   ]
  },
  {
   "cell_type": "code",
   "execution_count": 9,
   "metadata": {},
   "outputs": [
    {
     "name": "stdout",
     "output_type": "stream",
     "text": [
      "translation_BSU09440_s\n"
     ]
    },
    {
     "ename": "NameError",
     "evalue": "name 'sporeme' is not defined",
     "output_type": "error",
     "traceback": [
      "\u001b[0;31m---------------------------------------------------------------------------\u001b[0m",
      "\u001b[0;31mNameError\u001b[0m                                 Traceback (most recent call last)",
      "\u001b[0;32m<ipython-input-9-c37c2581b91d>\u001b[0m in \u001b[0;36m<module>\u001b[0;34m\u001b[0m\n\u001b[1;32m      2\u001b[0m     \u001b[0mr\u001b[0m \u001b[0;34m=\u001b[0m \u001b[0;34m'translation_'\u001b[0m \u001b[0;34m+\u001b[0m \u001b[0mgene\u001b[0m \u001b[0;34m+\u001b[0m\u001b[0;34m'_s'\u001b[0m\u001b[0;34m\u001b[0m\u001b[0m\n\u001b[1;32m      3\u001b[0m     \u001b[0mprint\u001b[0m\u001b[0;34m(\u001b[0m\u001b[0mr\u001b[0m\u001b[0;34m)\u001b[0m\u001b[0;34m\u001b[0m\u001b[0m\n\u001b[0;32m----> 4\u001b[0;31m     \u001b[0mrxn\u001b[0m \u001b[0;34m=\u001b[0m \u001b[0msporeme\u001b[0m\u001b[0;34m.\u001b[0m\u001b[0mreactions\u001b[0m\u001b[0;34m.\u001b[0m\u001b[0mget_by_id\u001b[0m\u001b[0;34m(\u001b[0m\u001b[0mr\u001b[0m\u001b[0;34m)\u001b[0m\u001b[0;34m\u001b[0m\u001b[0m\n\u001b[0m\u001b[1;32m      5\u001b[0m     \u001b[0mrxn\u001b[0m\u001b[0;34m.\u001b[0m\u001b[0mupper_bound\u001b[0m \u001b[0;34m=\u001b[0m \u001b[0;36m0\u001b[0m\u001b[0;34m\u001b[0m\u001b[0m\n\u001b[1;32m      6\u001b[0m     \u001b[0mrxn\u001b[0m\u001b[0;34m.\u001b[0m\u001b[0mlower_bound\u001b[0m \u001b[0;34m=\u001b[0m \u001b[0;36m0\u001b[0m\u001b[0;34m\u001b[0m\u001b[0m\n",
      "\u001b[0;31mNameError\u001b[0m: name 'sporeme' is not defined"
     ]
    }
   ],
   "source": [
    "for gene in eliminate_ids:\n",
    "    r = 'translation_' + gene +'_s'\n",
    "    print(r)\n",
    "    rxn = sporeme.reactions.get_by_id(r)\n",
    "    rxn.upper_bound = 0\n",
    "    rxn.lower_bound = 0"
   ]
  },
  {
   "cell_type": "markdown",
   "metadata": {},
   "source": [
    "### Solve"
   ]
  },
  {
   "cell_type": "code",
   "execution_count": 23,
   "metadata": {
    "scrolled": true
   },
   "outputs": [
    {
     "name": "stdout",
     "output_type": "stream",
     "text": [
      "iter\tmuopt    \ta     \tb     \tmu1       \tstat1\n",
      "Finished compiling expressions in 424.082317 seconds\n",
      "Finished substituting S,lb,ub in 17.994887 seconds\n",
      "Finished makeME_LP in 2.066244 seconds\n",
      "Getting MINOS parameters from ME_NLP...\n",
      "1 0.0 0.0 0.25 0.25 1\n",
      "Finished substituting S,lb,ub in 18.102022 seconds\n",
      "Finished makeME_LP in 2.058146 seconds\n",
      "Getting MINOS parameters from ME_NLP...\n",
      "2 0.0 0.0 0.125 0.125 1\n",
      "Finished substituting S,lb,ub in 17.925951 seconds\n",
      "Finished makeME_LP in 2.065915 seconds\n",
      "Getting MINOS parameters from ME_NLP...\n",
      "3 0.0625 0.0625 0.125 0.0625 optimal\n",
      "Finished substituting S,lb,ub in 19.659141 seconds\n",
      "Finished makeME_LP in 2.158814 seconds\n",
      "Getting MINOS parameters from ME_NLP...\n",
      "4 0.09375 0.09375 0.125 0.09375 optimal\n",
      "Finished substituting S,lb,ub in 18.598482 seconds\n",
      "Finished makeME_LP in 2.181318 seconds\n",
      "Getting MINOS parameters from ME_NLP...\n",
      "5 0.109375 0.109375 0.125 0.109375 optimal\n",
      "Finished substituting S,lb,ub in 18.500516 seconds\n",
      "Finished makeME_LP in 2.073452 seconds\n",
      "Getting MINOS parameters from ME_NLP...\n",
      "6 0.109375 0.109375 0.1171875 0.1171875 1\n",
      "Finished substituting S,lb,ub in 17.895429 seconds\n",
      "Finished makeME_LP in 2.104578 seconds\n",
      "Getting MINOS parameters from ME_NLP...\n",
      "7 0.109375 0.109375 0.11328125 0.11328125 1\n",
      "Finished substituting S,lb,ub in 17.634174 seconds\n",
      "Finished makeME_LP in 2.074645 seconds\n",
      "Getting MINOS parameters from ME_NLP...\n",
      "8 0.111328125 0.111328125 0.11328125 0.111328125 optimal\n",
      "Finished substituting S,lb,ub in 18.012963 seconds\n",
      "Finished makeME_LP in 2.076500 seconds\n",
      "Getting MINOS parameters from ME_NLP...\n",
      "9 0.1123046875 0.1123046875 0.11328125 0.1123046875 optimal\n",
      "Finished substituting S,lb,ub in 17.871720 seconds\n",
      "Finished makeME_LP in 2.062070 seconds\n",
      "Getting MINOS parameters from ME_NLP...\n",
      "10 0.1123046875 0.1123046875 0.11279296875 0.11279296875 1\n",
      "Finished substituting S,lb,ub in 18.378302 seconds\n",
      "Finished makeME_LP in 2.153813 seconds\n",
      "Getting MINOS parameters from ME_NLP...\n",
      "11 0.112548828125 0.112548828125 0.11279296875 0.112548828125 optimal\n",
      "Finished substituting S,lb,ub in 19.575549 seconds\n",
      "Finished makeME_LP in 2.161732 seconds\n",
      "Getting MINOS parameters from ME_NLP...\n",
      "12 0.112548828125 0.112548828125 0.1126708984375 0.1126708984375 1\n",
      "Finished substituting S,lb,ub in 19.064538 seconds\n",
      "Finished makeME_LP in 2.150596 seconds\n",
      "Getting MINOS parameters from ME_NLP...\n",
      "13 0.11260986328125 0.11260986328125 0.1126708984375 0.11260986328125 optimal\n",
      "Finished substituting S,lb,ub in 18.211098 seconds\n",
      "Finished makeME_LP in 2.071484 seconds\n",
      "Getting MINOS parameters from ME_NLP...\n",
      "14 0.11260986328125 0.11260986328125 0.112640380859375 0.112640380859375 1\n",
      "Finished substituting S,lb,ub in 18.147451 seconds\n",
      "Finished makeME_LP in 2.089810 seconds\n",
      "Getting MINOS parameters from ME_NLP...\n",
      "15 0.11260986328125 0.11260986328125 0.1126251220703125 0.1126251220703125 1\n",
      "Finished substituting S,lb,ub in 19.651004 seconds\n",
      "Finished makeME_LP in 2.195674 seconds\n",
      "Getting MINOS parameters from ME_NLP...\n",
      "16 0.11260986328125 0.11260986328125 0.11261749267578125 0.11261749267578125 1\n",
      "Finished substituting S,lb,ub in 19.089639 seconds\n",
      "Finished makeME_LP in 2.168581 seconds\n",
      "Getting MINOS parameters from ME_NLP...\n",
      "17 0.11260986328125 0.11260986328125 0.11261367797851562 0.11261367797851562 1\n",
      "Finished substituting S,lb,ub in 18.478668 seconds\n",
      "Finished makeME_LP in 2.096493 seconds\n",
      "Getting MINOS parameters from ME_NLP...\n",
      "18 0.11261177062988281 0.11261177062988281 0.11261367797851562 0.11261177062988281 optimal\n",
      "Finished substituting S,lb,ub in 18.029541 seconds\n",
      "Finished makeME_LP in 2.074660 seconds\n",
      "Getting MINOS parameters from ME_NLP...\n",
      "19 0.11261272430419922 0.11261272430419922 0.11261367797851562 0.11261272430419922 optimal\n",
      "Bisection done in 1837.6 seconds\n"
     ]
    }
   ],
   "source": [
    "solve_me_model(sporeme, max_mu = 0.5, min_mu = .05, using_soplex=False, precision = 1e-6,growth_key = 'sigma')"
   ]
  },
  {
   "cell_type": "code",
   "execution_count": 24,
   "metadata": {},
   "outputs": [],
   "source": [
    "with open(\"./sporeme_solution.pickle\", \"wb\") as outfile:\n",
    "    pickle.dump(sporeme, outfile)"
   ]
  },
  {
   "cell_type": "code",
   "execution_count": 25,
   "metadata": {},
   "outputs": [],
   "source": [
    "with open(\"./sporeme_solution.pickle\", \"rb\") as outfile:\n",
    "    sporeme = pickle.load(outfile)"
   ]
  },
  {
   "cell_type": "code",
   "execution_count": 26,
   "metadata": {},
   "outputs": [
    {
     "name": "stdout",
     "output_type": "stream",
     "text": [
      "( formation_CPLX000-8_s 0.0 1000.0 ) \t protein_BSU28730_s + protein_BSU28740_s + protein_BSU28750_s --> CPLX000-8_s\n",
      "( ARBabc_FWD_CPLX000-8_s 0 999999.0 ) \t arab__L_c + atp_s + h2o_s <=> -4.27350427350427e-6*sigma CPLX000-8_s + adp_s + arab__L_s + h_s + pi_s\n"
     ]
    },
    {
     "data": {
      "text/plain": [
       "[<ComplexFormation formation_CPLX000-8_s at 0x7f21140ac518>,\n",
       " <MetabolicReaction ARBabc_FWD_CPLX000-8_s at 0x7f2113eb2160>]"
      ]
     },
     "execution_count": 26,
     "metadata": {},
     "output_type": "execute_result"
    }
   ],
   "source": [
    "get_reactions_of_met(sporeme,'malcoa_c',only_types=['MetabolicReaction'])"
   ]
  },
  {
   "cell_type": "code",
   "execution_count": 48,
   "metadata": {},
   "outputs": [],
   "source": []
  },
  {
   "cell_type": "code",
   "execution_count": 52,
   "metadata": {},
   "outputs": [
    {
     "ename": "FileNotFoundError",
     "evalue": "[Errno 2] No such file or directory: './analysis/{}_breakdown.svg'",
     "output_type": "error",
     "traceback": [
      "\u001b[0;31m---------------------------------------------------------------------------\u001b[0m",
      "\u001b[0;31mFileNotFoundError\u001b[0m                         Traceback (most recent call last)",
      "\u001b[0;32m<ipython-input-52-4c20dfd0584b>\u001b[0m in \u001b[0;36m<module>\u001b[0;34m\u001b[0m\n\u001b[1;32m      6\u001b[0m     \u001b[0mplt\u001b[0m\u001b[0;34m.\u001b[0m\u001b[0mtitle\u001b[0m\u001b[0;34m(\u001b[0m\u001b[0mf\u001b[0m\u001b[0;34m)\u001b[0m\u001b[0;34m\u001b[0m\u001b[0m\n\u001b[1;32m      7\u001b[0m     \u001b[0mplt\u001b[0m\u001b[0;34m.\u001b[0m\u001b[0mtight_layout\u001b[0m\u001b[0;34m(\u001b[0m\u001b[0;34m)\u001b[0m\u001b[0;34m\u001b[0m\u001b[0m\n\u001b[0;32m----> 8\u001b[0;31m     \u001b[0mplt\u001b[0m\u001b[0;34m.\u001b[0m\u001b[0msavefig\u001b[0m\u001b[0;34m(\u001b[0m\u001b[0;34m\"./analysis/{}_breakdown.svg\"\u001b[0m\u001b[0;34m,\u001b[0m \u001b[0mformat\u001b[0m\u001b[0;34m=\u001b[0m\u001b[0;34m\"SVG\"\u001b[0m\u001b[0;34m)\u001b[0m\u001b[0;34m\u001b[0m\u001b[0m\n\u001b[0m",
      "\u001b[0;32m~/UCSD/ME_modelling/ME_env/lib/python3.6/site-packages/matplotlib/pyplot.py\u001b[0m in \u001b[0;36msavefig\u001b[0;34m(*args, **kwargs)\u001b[0m\n\u001b[1;32m    720\u001b[0m \u001b[0;32mdef\u001b[0m \u001b[0msavefig\u001b[0m\u001b[0;34m(\u001b[0m\u001b[0;34m*\u001b[0m\u001b[0margs\u001b[0m\u001b[0;34m,\u001b[0m \u001b[0;34m**\u001b[0m\u001b[0mkwargs\u001b[0m\u001b[0;34m)\u001b[0m\u001b[0;34m:\u001b[0m\u001b[0;34m\u001b[0m\u001b[0m\n\u001b[1;32m    721\u001b[0m     \u001b[0mfig\u001b[0m \u001b[0;34m=\u001b[0m \u001b[0mgcf\u001b[0m\u001b[0;34m(\u001b[0m\u001b[0;34m)\u001b[0m\u001b[0;34m\u001b[0m\u001b[0m\n\u001b[0;32m--> 722\u001b[0;31m     \u001b[0mres\u001b[0m \u001b[0;34m=\u001b[0m \u001b[0mfig\u001b[0m\u001b[0;34m.\u001b[0m\u001b[0msavefig\u001b[0m\u001b[0;34m(\u001b[0m\u001b[0;34m*\u001b[0m\u001b[0margs\u001b[0m\u001b[0;34m,\u001b[0m \u001b[0;34m**\u001b[0m\u001b[0mkwargs\u001b[0m\u001b[0;34m)\u001b[0m\u001b[0;34m\u001b[0m\u001b[0m\n\u001b[0m\u001b[1;32m    723\u001b[0m     \u001b[0mfig\u001b[0m\u001b[0;34m.\u001b[0m\u001b[0mcanvas\u001b[0m\u001b[0;34m.\u001b[0m\u001b[0mdraw_idle\u001b[0m\u001b[0;34m(\u001b[0m\u001b[0;34m)\u001b[0m   \u001b[0;31m# need this if 'transparent=True' to reset colors\u001b[0m\u001b[0;34m\u001b[0m\u001b[0m\n\u001b[1;32m    724\u001b[0m     \u001b[0;32mreturn\u001b[0m \u001b[0mres\u001b[0m\u001b[0;34m\u001b[0m\u001b[0m\n",
      "\u001b[0;32m~/UCSD/ME_modelling/ME_env/lib/python3.6/site-packages/matplotlib/figure.py\u001b[0m in \u001b[0;36msavefig\u001b[0;34m(self, fname, transparent, **kwargs)\u001b[0m\n\u001b[1;32m   2178\u001b[0m             \u001b[0mself\u001b[0m\u001b[0;34m.\u001b[0m\u001b[0mpatch\u001b[0m\u001b[0;34m.\u001b[0m\u001b[0mset_visible\u001b[0m\u001b[0;34m(\u001b[0m\u001b[0mframeon\u001b[0m\u001b[0;34m)\u001b[0m\u001b[0;34m\u001b[0m\u001b[0m\n\u001b[1;32m   2179\u001b[0m \u001b[0;34m\u001b[0m\u001b[0m\n\u001b[0;32m-> 2180\u001b[0;31m         \u001b[0mself\u001b[0m\u001b[0;34m.\u001b[0m\u001b[0mcanvas\u001b[0m\u001b[0;34m.\u001b[0m\u001b[0mprint_figure\u001b[0m\u001b[0;34m(\u001b[0m\u001b[0mfname\u001b[0m\u001b[0;34m,\u001b[0m \u001b[0;34m**\u001b[0m\u001b[0mkwargs\u001b[0m\u001b[0;34m)\u001b[0m\u001b[0;34m\u001b[0m\u001b[0m\n\u001b[0m\u001b[1;32m   2181\u001b[0m \u001b[0;34m\u001b[0m\u001b[0m\n\u001b[1;32m   2182\u001b[0m         \u001b[0;32mif\u001b[0m \u001b[0mframeon\u001b[0m\u001b[0;34m:\u001b[0m\u001b[0;34m\u001b[0m\u001b[0m\n",
      "\u001b[0;32m~/UCSD/ME_modelling/ME_env/lib/python3.6/site-packages/matplotlib/backend_bases.py\u001b[0m in \u001b[0;36mprint_figure\u001b[0;34m(self, filename, dpi, facecolor, edgecolor, orientation, format, bbox_inches, **kwargs)\u001b[0m\n\u001b[1;32m   2087\u001b[0m                     \u001b[0morientation\u001b[0m\u001b[0;34m=\u001b[0m\u001b[0morientation\u001b[0m\u001b[0;34m,\u001b[0m\u001b[0;34m\u001b[0m\u001b[0m\n\u001b[1;32m   2088\u001b[0m                     \u001b[0mbbox_inches_restore\u001b[0m\u001b[0;34m=\u001b[0m\u001b[0m_bbox_inches_restore\u001b[0m\u001b[0;34m,\u001b[0m\u001b[0;34m\u001b[0m\u001b[0m\n\u001b[0;32m-> 2089\u001b[0;31m                     **kwargs)\n\u001b[0m\u001b[1;32m   2090\u001b[0m             \u001b[0;32mfinally\u001b[0m\u001b[0;34m:\u001b[0m\u001b[0;34m\u001b[0m\u001b[0m\n\u001b[1;32m   2091\u001b[0m                 \u001b[0;32mif\u001b[0m \u001b[0mbbox_inches\u001b[0m \u001b[0;32mand\u001b[0m \u001b[0mrestore_bbox\u001b[0m\u001b[0;34m:\u001b[0m\u001b[0;34m\u001b[0m\u001b[0m\n",
      "\u001b[0;32m~/UCSD/ME_modelling/ME_env/lib/python3.6/site-packages/matplotlib/backends/backend_svg.py\u001b[0m in \u001b[0;36mprint_svg\u001b[0;34m(self, filename, *args, **kwargs)\u001b[0m\n\u001b[1;32m   1188\u001b[0m \u001b[0;34m\u001b[0m\u001b[0m\n\u001b[1;32m   1189\u001b[0m     \u001b[0;32mdef\u001b[0m \u001b[0mprint_svg\u001b[0m\u001b[0;34m(\u001b[0m\u001b[0mself\u001b[0m\u001b[0;34m,\u001b[0m \u001b[0mfilename\u001b[0m\u001b[0;34m,\u001b[0m \u001b[0;34m*\u001b[0m\u001b[0margs\u001b[0m\u001b[0;34m,\u001b[0m \u001b[0;34m**\u001b[0m\u001b[0mkwargs\u001b[0m\u001b[0;34m)\u001b[0m\u001b[0;34m:\u001b[0m\u001b[0;34m\u001b[0m\u001b[0m\n\u001b[0;32m-> 1190\u001b[0;31m         \u001b[0;32mwith\u001b[0m \u001b[0mcbook\u001b[0m\u001b[0;34m.\u001b[0m\u001b[0mopen_file_cm\u001b[0m\u001b[0;34m(\u001b[0m\u001b[0mfilename\u001b[0m\u001b[0;34m,\u001b[0m \u001b[0;34m\"w\"\u001b[0m\u001b[0;34m,\u001b[0m \u001b[0mencoding\u001b[0m\u001b[0;34m=\u001b[0m\u001b[0;34m\"utf-8\"\u001b[0m\u001b[0;34m)\u001b[0m \u001b[0;32mas\u001b[0m \u001b[0mfh\u001b[0m\u001b[0;34m:\u001b[0m\u001b[0;34m\u001b[0m\u001b[0m\n\u001b[0m\u001b[1;32m   1191\u001b[0m \u001b[0;34m\u001b[0m\u001b[0m\n\u001b[1;32m   1192\u001b[0m             \u001b[0mfilename\u001b[0m \u001b[0;34m=\u001b[0m \u001b[0mgetattr\u001b[0m\u001b[0;34m(\u001b[0m\u001b[0mfh\u001b[0m\u001b[0;34m,\u001b[0m \u001b[0;34m'name'\u001b[0m\u001b[0;34m,\u001b[0m \u001b[0;34m''\u001b[0m\u001b[0;34m)\u001b[0m\u001b[0;34m\u001b[0m\u001b[0m\n",
      "\u001b[0;32m/usr/local/lib/python3.6/contextlib.py\u001b[0m in \u001b[0;36m__enter__\u001b[0;34m(self)\u001b[0m\n\u001b[1;32m     79\u001b[0m     \u001b[0;32mdef\u001b[0m \u001b[0m__enter__\u001b[0m\u001b[0;34m(\u001b[0m\u001b[0mself\u001b[0m\u001b[0;34m)\u001b[0m\u001b[0;34m:\u001b[0m\u001b[0;34m\u001b[0m\u001b[0m\n\u001b[1;32m     80\u001b[0m         \u001b[0;32mtry\u001b[0m\u001b[0;34m:\u001b[0m\u001b[0;34m\u001b[0m\u001b[0m\n\u001b[0;32m---> 81\u001b[0;31m             \u001b[0;32mreturn\u001b[0m \u001b[0mnext\u001b[0m\u001b[0;34m(\u001b[0m\u001b[0mself\u001b[0m\u001b[0;34m.\u001b[0m\u001b[0mgen\u001b[0m\u001b[0;34m)\u001b[0m\u001b[0;34m\u001b[0m\u001b[0m\n\u001b[0m\u001b[1;32m     82\u001b[0m         \u001b[0;32mexcept\u001b[0m \u001b[0mStopIteration\u001b[0m\u001b[0;34m:\u001b[0m\u001b[0;34m\u001b[0m\u001b[0m\n\u001b[1;32m     83\u001b[0m             \u001b[0;32mraise\u001b[0m \u001b[0mRuntimeError\u001b[0m\u001b[0;34m(\u001b[0m\u001b[0;34m\"generator didn't yield\"\u001b[0m\u001b[0;34m)\u001b[0m \u001b[0;32mfrom\u001b[0m \u001b[0;32mNone\u001b[0m\u001b[0;34m\u001b[0m\u001b[0m\n",
      "\u001b[0;32m~/UCSD/ME_modelling/ME_env/lib/python3.6/site-packages/matplotlib/cbook/__init__.py\u001b[0m in \u001b[0;36mopen_file_cm\u001b[0;34m(path_or_file, mode, encoding)\u001b[0m\n\u001b[1;32m    445\u001b[0m \u001b[0;32mdef\u001b[0m \u001b[0mopen_file_cm\u001b[0m\u001b[0;34m(\u001b[0m\u001b[0mpath_or_file\u001b[0m\u001b[0;34m,\u001b[0m \u001b[0mmode\u001b[0m\u001b[0;34m=\u001b[0m\u001b[0;34m\"r\"\u001b[0m\u001b[0;34m,\u001b[0m \u001b[0mencoding\u001b[0m\u001b[0;34m=\u001b[0m\u001b[0;32mNone\u001b[0m\u001b[0;34m)\u001b[0m\u001b[0;34m:\u001b[0m\u001b[0;34m\u001b[0m\u001b[0m\n\u001b[1;32m    446\u001b[0m     \u001b[0;34mr\"\"\"Pass through file objects and context-manage `.PathLike`\\s.\"\"\"\u001b[0m\u001b[0;34m\u001b[0m\u001b[0m\n\u001b[0;32m--> 447\u001b[0;31m     \u001b[0mfh\u001b[0m\u001b[0;34m,\u001b[0m \u001b[0mopened\u001b[0m \u001b[0;34m=\u001b[0m \u001b[0mto_filehandle\u001b[0m\u001b[0;34m(\u001b[0m\u001b[0mpath_or_file\u001b[0m\u001b[0;34m,\u001b[0m \u001b[0mmode\u001b[0m\u001b[0;34m,\u001b[0m \u001b[0;32mTrue\u001b[0m\u001b[0;34m,\u001b[0m \u001b[0mencoding\u001b[0m\u001b[0;34m)\u001b[0m\u001b[0;34m\u001b[0m\u001b[0m\n\u001b[0m\u001b[1;32m    448\u001b[0m     \u001b[0;32mif\u001b[0m \u001b[0mopened\u001b[0m\u001b[0;34m:\u001b[0m\u001b[0;34m\u001b[0m\u001b[0m\n\u001b[1;32m    449\u001b[0m         \u001b[0;32mwith\u001b[0m \u001b[0mfh\u001b[0m\u001b[0;34m:\u001b[0m\u001b[0;34m\u001b[0m\u001b[0m\n",
      "\u001b[0;32m~/UCSD/ME_modelling/ME_env/lib/python3.6/site-packages/matplotlib/cbook/__init__.py\u001b[0m in \u001b[0;36mto_filehandle\u001b[0;34m(fname, flag, return_opened, encoding)\u001b[0m\n\u001b[1;32m    430\u001b[0m             \u001b[0mfh\u001b[0m \u001b[0;34m=\u001b[0m \u001b[0mbz2\u001b[0m\u001b[0;34m.\u001b[0m\u001b[0mBZ2File\u001b[0m\u001b[0;34m(\u001b[0m\u001b[0mfname\u001b[0m\u001b[0;34m,\u001b[0m \u001b[0mflag\u001b[0m\u001b[0;34m)\u001b[0m\u001b[0;34m\u001b[0m\u001b[0m\n\u001b[1;32m    431\u001b[0m         \u001b[0;32melse\u001b[0m\u001b[0;34m:\u001b[0m\u001b[0;34m\u001b[0m\u001b[0m\n\u001b[0;32m--> 432\u001b[0;31m             \u001b[0mfh\u001b[0m \u001b[0;34m=\u001b[0m \u001b[0mopen\u001b[0m\u001b[0;34m(\u001b[0m\u001b[0mfname\u001b[0m\u001b[0;34m,\u001b[0m \u001b[0mflag\u001b[0m\u001b[0;34m,\u001b[0m \u001b[0mencoding\u001b[0m\u001b[0;34m=\u001b[0m\u001b[0mencoding\u001b[0m\u001b[0;34m)\u001b[0m\u001b[0;34m\u001b[0m\u001b[0m\n\u001b[0m\u001b[1;32m    433\u001b[0m         \u001b[0mopened\u001b[0m \u001b[0;34m=\u001b[0m \u001b[0;32mTrue\u001b[0m\u001b[0;34m\u001b[0m\u001b[0m\n\u001b[1;32m    434\u001b[0m     \u001b[0;32melif\u001b[0m \u001b[0mhasattr\u001b[0m\u001b[0;34m(\u001b[0m\u001b[0mfname\u001b[0m\u001b[0;34m,\u001b[0m \u001b[0;34m'seek'\u001b[0m\u001b[0;34m)\u001b[0m\u001b[0;34m:\u001b[0m\u001b[0;34m\u001b[0m\u001b[0m\n",
      "\u001b[0;31mFileNotFoundError\u001b[0m: [Errno 2] No such file or directory: './analysis/{}_breakdown.svg'"
     ]
    },
    {
     "data": {
      "image/png": "[encoded data removed]",
      "text/plain": [
       "<Figure size 432x288 with 1 Axes>"
      ]
     },
     "metadata": {
      "needs_background": "light"
     },
     "output_type": "display_data"
    }
   ],
   "source": [
    "import matplotlib.pyplot as plt\n",
    "fields = ['metabolites','reactions']\n",
    "for idx,f in enumerate(fields):\n",
    "    get_breakdown(me,f).plot.bar(legend=False)\n",
    "    plt.ylabel('Count')\n",
    "    plt.title(f)\n",
    "    plt.tight_layout()\n",
    "    plt.savefig(\"./analysis/{}_breakdown.svg\", format=\"SVG\")"
   ]
  },
  {
   "cell_type": "code",
   "execution_count": null,
   "metadata": {},
   "outputs": [],
   "source": []
  }
 ],
 "metadata": {
  "kernelspec": {
   "display_name": "Python 3",
   "language": "python",
   "name": "python3"
  },
  "language_info": {
   "codemirror_mode": {
    "name": "ipython",
    "version": 3
   },
   "file_extension": ".py",
   "mimetype": "text/x-python",
   "name": "python",
   "nbconvert_exporter": "python",
   "pygments_lexer": "ipython3",
   "version": "3.6.3"
  }
 },
 "nbformat": 4,
 "nbformat_minor": 4
}
