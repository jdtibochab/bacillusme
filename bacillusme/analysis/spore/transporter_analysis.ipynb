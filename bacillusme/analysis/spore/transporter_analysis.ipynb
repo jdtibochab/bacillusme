{
 "cells": [
  {
   "cell_type": "markdown",
   "metadata": {},
   "source": [
    "# Transporter analysis of bacillus mother-spore"
   ]
  },
  {
   "cell_type": "code",
   "execution_count": 1,
   "metadata": {
    "scrolled": true
   },
   "outputs": [
    {
     "name": "stderr",
     "output_type": "stream",
     "text": [
      "/home/jt/Downloads/cobrapy-0.5.11/cobra/io/sbml3.py:24: UserWarning: Install lxml for faster SBML I/O\n",
      "  warn(\"Install lxml for faster SBML I/O\")\n",
      "/home/jt/Downloads/cobrapy-0.5.11/cobra/io/__init__.py:12: UserWarning: cobra.io.sbml requires libsbml\n",
      "  warn(\"cobra.io.sbml requires libsbml\")\n"
     ]
    },
    {
     "name": "stdout",
     "output_type": "stream",
     "text": [
      "/home/jt/Downloads/cobrapy-0.5.11/cobra/__init__.py\n",
      "/home/jt/UCSD/cobrame-master/cobrame/__init__.py\n",
      "/home/jt/UCSD/bacillusme-master/bacillusme/__init__.py\n"
     ]
    }
   ],
   "source": [
    "from __future__ import print_function, division, absolute_import\n",
    "\n",
    "import sys\n",
    "\n",
    "import qminospy\n",
    "from qminospy.me2 import ME_NLP\n",
    "\n",
    "# python imports\n",
    "from copy import copy\n",
    "import re\n",
    "from os.path import join, dirname, abspath\n",
    "import sys\n",
    "sys.path.append('/home/UCSD/cobra_utils')\n",
    "from collections import defaultdict\n",
    "import pickle\n",
    "\n",
    "# third party imports\n",
    "import pandas\n",
    "import cobra\n",
    "from tqdm import tqdm\n",
    "import numpy as np\n",
    "import scipy\n",
    "\n",
    "# COBRAme\n",
    "import cobrame\n",
    "from cobrame.util import building, mu, me_model_interface\n",
    "from cobrame.io.json import save_json_me_model, save_reduced_json_me_model\n",
    "\n",
    "# ECOLIme\n",
    "import bacillusme\n",
    "from bacillusme import (transcription, translation, flat_files, generics, formulas, compartments)\n",
    "from bacillusme.util.helper_functions import *\n",
    "\n",
    "import copy\n",
    "from scipy import stats\n",
    "import matplotlib.pyplot as plt\n",
    "%load_ext autoreload\n",
    "%autoreload 2\n",
    "print(cobra.__file__)\n",
    "print(cobrame.__file__)\n",
    "print(bacillusme.__file__)\n",
    "ecoli_files = dirname(abspath(bacillusme.__file__))"
   ]
  },
  {
   "cell_type": "code",
   "execution_count": 2,
   "metadata": {
    "scrolled": true
   },
   "outputs": [],
   "source": [
    "with open(\"./sporeme_solution_v2.pickle\", \"rb\") as outfile:\n",
    "    sporeme = pickle.load(outfile)"
   ]
  },
  {
   "cell_type": "code",
   "execution_count": 3,
   "metadata": {
    "scrolled": true,
    "tags": []
   },
   "outputs": [],
   "source": [
    "# solve_me_model(sporeme, max_mu = 0.1, min_mu = .01, using_soplex=False, precision = 1e-6,growth_key = 'sigma')"
   ]
  },
  {
   "cell_type": "code",
   "execution_count": 4,
   "metadata": {
    "scrolled": true
   },
   "outputs": [],
   "source": [
    "# with open(\"./sporeme_solution_v2.pickle\", \"rb\") as outfile:\n",
    "#     sporeme = pickle.load(outfile)"
   ]
  },
  {
   "cell_type": "code",
   "execution_count": 9,
   "metadata": {},
   "outputs": [],
   "source": [
    "# Previously identified essential metabolites\n",
    "exchange_list = ['4fe4s_s','2fe2s_s','udcpp_s','pydx5p_s','3fe4s_s','cl_s','sheme_s','cu_s','mn2_s',\n",
    "                 'bmocogdp_s','dpm_s','thmpp_s','zn2_s','cbl1_s','cobalt2_s']\n",
    "additional = [m.id for m in sporeme.metabolites if isinstance(m,cobrame.Metabolite)]\n",
    "transported_metabolites = exchange_list+additional"
   ]
  },
  {
   "cell_type": "code",
   "execution_count": 10,
   "metadata": {
    "scrolled": true
   },
   "outputs": [],
   "source": [
    "# Get transport reactions\n",
    "\n",
    "def get_compartments(r):\n",
    "    comps = []\n",
    "    if isinstance(r,cobrame.MetabolicReaction):\n",
    "        for m in r.metabolites:\n",
    "            if isinstance(m,cobrame.Metabolite):\n",
    "                comps.append(m.id[-1])\n",
    "    return list(set(comps))\n",
    "\n",
    "def get_all_transport(model):\n",
    "    transport_reactions = []\n",
    "    for r in tqdm(model.reactions):\n",
    "        comps = get_compartments(r)\n",
    "        if len(comps) > 1 and 's' in comps:\n",
    "            transport_reactions.append(r.id)\n",
    "    return list(set(transport_reactions))\n",
    "\n",
    "def get_active_transport(transport_reactions):\n",
    "    active_transporters = []\n",
    "    for r in tqdm(transport_reactions):\n",
    "        if 'SPONT' not in r and abs(sporeme.solution.x_dict[r])>0.:\n",
    "            active_transporters.append(r)\n",
    "    # Include arginine transport\n",
    "    arginine_transport = [r.id for r in get_transport_reactions(sporeme,'arg__L_c',comps=['c','s'])+get_transport_reactions(sporeme,'arg__L_c',comps=['s','c'])]\n",
    "    [active_transporters.append(r) for r in arginine_transport]\n",
    "    active_transporters = list(set(active_transporters))\n",
    "    return active_transporters"
   ]
  },
  {
   "cell_type": "code",
   "execution_count": 33,
   "metadata": {
    "scrolled": true
   },
   "outputs": [
    {
     "name": "stderr",
     "output_type": "stream",
     "text": [
      "100%|██████████| 12323/12323 [00:00<00:00, 137490.18it/s]"
     ]
    },
    {
     "name": "stdout",
     "output_type": "stream",
     "text": [
      "399 transport reactions identified\n"
     ]
    },
    {
     "name": "stderr",
     "output_type": "stream",
     "text": [
      "\n"
     ]
    }
   ],
   "source": [
    "transport_reactions = get_all_transport(sporeme)\n",
    "print('{} transport reactions identified'.format(len(transport_reactions)))"
   ]
  },
  {
   "cell_type": "code",
   "execution_count": 12,
   "metadata": {},
   "outputs": [
    {
     "data": {
      "text/plain": [
       "Text(0, 0.5, 'Count')"
      ]
     },
     "execution_count": 12,
     "metadata": {},
     "output_type": "execute_result"
    },
    {
     "data": {
      "image/png": "[encoded data removed]",
      "text/plain": [
       "<Figure size 432x288 with 1 Axes>"
      ]
     },
     "metadata": {
      "needs_background": "light"
     },
     "output_type": "display_data"
    }
   ],
   "source": [
    "count = {'no_rule':0,'spont':0,'annot':0}\n",
    "for r in transport_reactions:\n",
    "    if 'dummy' in r:\n",
    "        count['no_rule']+=1\n",
    "    elif 'SPONT' in r:\n",
    "        count['spont']+=1\n",
    "    else:\n",
    "        count['annot']+=1\n",
    "pd.DataFrame.from_dict({'count':count}).plot.bar(figsize=(6,4),legend=False)\n",
    "plt.ylabel('Count')"
   ]
  },
  {
   "cell_type": "code",
   "execution_count": 14,
   "metadata": {
    "scrolled": true
   },
   "outputs": [
    {
     "name": "stderr",
     "output_type": "stream",
     "text": [
      "100%|██████████| 399/399 [00:00<00:00, 278271.91it/s]\n"
     ]
    }
   ],
   "source": [
    "active_transporters = get_active_transport(transport_reactions)"
   ]
  },
  {
   "cell_type": "code",
   "execution_count": 15,
   "metadata": {},
   "outputs": [
    {
     "name": "stdout",
     "output_type": "stream",
     "text": [
      "67 active transport reactions identified\n"
     ]
    }
   ],
   "source": [
    "print('{} active transport reactions identified'.format(len(active_transporters)))"
   ]
  },
  {
   "cell_type": "code",
   "execution_count": 16,
   "metadata": {},
   "outputs": [],
   "source": [
    "for r in transport_reactions:\n",
    "    if r not in active_transporters and 'SPONT' not in r:\n",
    "        rxn = sporeme.reactions.get_by_id(r)\n",
    "        rxn.upper_bound = 0 \n",
    "        rxn.lower_bound = 0"
   ]
  },
  {
   "cell_type": "code",
   "execution_count": null,
   "metadata": {
    "scrolled": true
   },
   "outputs": [],
   "source": [
    "solve_me_model(sporeme, max_mu = 0.1, min_mu = .01, using_soplex=False, precision = 1e-6,growth_key = 'sigma')"
   ]
  },
  {
   "cell_type": "markdown",
   "metadata": {},
   "source": [
    "## Single KO"
   ]
  },
  {
   "cell_type": "code",
   "execution_count": null,
   "metadata": {
    "scrolled": true
   },
   "outputs": [],
   "source": [
    "from bacillusme.analysis import sensitivity as ss\n",
    "flux_results_df = ss.transporter_knockout(sporeme,active_transporters, \\\n",
    "                                        NP=10,solution=1,biomass_dilution='biomass_dilution_s',\\\n",
    "                                        growth_key = 'sigma')\n",
    "flux_results_df.to_csv('comm_transport_flux_results.csv')"
   ]
  },
  {
   "cell_type": "code",
   "execution_count": null,
   "metadata": {},
   "outputs": [],
   "source": [
    "# All of them:\n",
    "flux_results_df = pd.read_csv('comm_transport_flux_results.csv',index_col=0)\n",
    "(n, bins, patches) = plt.hist(flux_results_df.loc['biomass_dilution_s'])\n",
    "plt.xlabel('Growth rate')\n",
    "plt.ylabel('Counts')"
   ]
  },
  {
   "cell_type": "code",
   "execution_count": null,
   "metadata": {},
   "outputs": [],
   "source": [
    "transport_dict = {}\n",
    "for candidate in flux_results_df.drop('base',axis=1).columns:\n",
    "    r = sporeme.reactions.get_by_id(candidate)\n",
    "    mets = []\n",
    "    [mets.append(re.split('_.$',m.id)[0]) for m in r.metabolites if isinstance(m,cobrame.Metabolite) and 'h_' not in m.id]\n",
    "    mets = list(set(mets))\n",
    "    transport_dict[candidate] = mets[0]\n",
    "    \n",
    "plt.figure(figsize=(13,3))\n",
    "flux_results_df.loc['biomass_dilution_s'].sort_values().plot.bar()\n",
    "plt.xlabel('Single knockout')\n",
    "plt.ylabel('Spore growth rate')"
   ]
  },
  {
   "cell_type": "code",
   "execution_count": null,
   "metadata": {},
   "outputs": [],
   "source": [
    "# Important transporters without gene so far\n",
    "df = flux_results_df.loc['biomass_dilution_s'].sort_values().head(20)\n",
    "df[df.index.str.contains('dummy')]"
   ]
  },
  {
   "cell_type": "code",
   "execution_count": null,
   "metadata": {},
   "outputs": [],
   "source": [
    "output = flux_results_df.loc[flux_results_df.columns.to_list()+['biomass_dilution_s']]\n",
    "output = output[output.any(axis=1)] # Only reactions that carried flux in at least one knockout"
   ]
  },
  {
   "cell_type": "code",
   "execution_count": null,
   "metadata": {},
   "outputs": [],
   "source": [
    "plt.figure(figsize = (13,5))\n",
    "cluster_df = pd.DataFrame(stats.zscore(output,axis=1),\n",
    "                            index=output.index,columns=output.columns)\n",
    "cluster_df = cluster_df.loc[:,output.loc['biomass_dilution_s']<bins[-1]]\n",
    "sns.clustermap(cluster_df,col_cluster=1,row_cluster=1,cmap=\"mako\")\n",
    "plt.savefig('clustermap_filtered')"
   ]
  },
  {
   "cell_type": "markdown",
   "metadata": {},
   "source": [
    "Identify essential transporters so far. These are stored and taken out as they are already results."
   ]
  },
  {
   "cell_type": "code",
   "execution_count": null,
   "metadata": {},
   "outputs": [],
   "source": [
    "essential_transporters = list(output.columns[output.loc['biomass_dilution_s'] < 0.001])\n",
    "non_essential_transporter = list(output.columns[output.loc['biomass_dilution_s'] >= bins[-1]])\n",
    "\n",
    "# Remove non-essential\n",
    "candidates_df = output.drop(non_essential_transporter,axis=1)\n",
    "# Remove the ones that we now already are essential\n",
    "candidates_df = candidates_df.drop(essential_transporters,axis=1)\n",
    "\n",
    "print('{} transporters are obviously non-essential: {} \\n'.format(len(non_essential_transporter),non_essential_transporter))\n",
    "print('So far, {} transporters are obviously essential: {} \\n'.format(len(essential_transporters),essential_transporters))\n",
    "\n",
    "print('There are {} candidates: {} \\n'.format(len(candidates_df.columns),candidates_df.columns.values))"
   ]
  },
  {
   "cell_type": "code",
   "execution_count": null,
   "metadata": {},
   "outputs": [],
   "source": [
    "# The rest:\n",
    "(n, bins, patches) = plt.hist(candidates_df.loc['biomass_dilution_s'])\n",
    "plt.xlabel('Growth rate')\n",
    "plt.ylabel('Counts')"
   ]
  },
  {
   "cell_type": "code",
   "execution_count": null,
   "metadata": {},
   "outputs": [],
   "source": [
    "output = candidates_df.loc[candidates_df.columns.to_list()+['biomass_dilution_s']]\n",
    "output = output[output.any(axis=1)] # Only reactions that carried flux in at least one knockout"
   ]
  },
  {
   "cell_type": "code",
   "execution_count": null,
   "metadata": {},
   "outputs": [],
   "source": [
    "cluster_df = pd.DataFrame(stats.zscore(output,axis=1),\n",
    "                            index=output.index,columns=output.columns)\n",
    "cm = sns.clustermap(cluster_df,col_cluster=1,row_cluster=1,cmap=\"mako\",yticklabels=1,xticklabels=1)\n",
    "\n",
    "plt.savefig('clustermap_filtered')"
   ]
  },
  {
   "cell_type": "code",
   "execution_count": null,
   "metadata": {},
   "outputs": [],
   "source": [
    "# 1. Pairwise interaction knockout\n",
    "# 2. Find minimal set of transporters. Sort values and close less essential first. \n",
    "# Ignore those transporters that are not active. Restore them if they are turned on again to compensate.\n",
    "# 3. Do these simulations change with different NGAM?"
   ]
  },
  {
   "cell_type": "markdown",
   "metadata": {},
   "source": [
    "## Pairwise interaction"
   ]
  },
  {
   "cell_type": "code",
   "execution_count": null,
   "metadata": {},
   "outputs": [],
   "source": [
    "from bacillusme.analysis import sensitivity as ss\n",
    "transport_reactions_filtered = cluster_df.columns.values\n",
    "base_model = copy.deepcopy(sporeme)"
   ]
  },
  {
   "cell_type": "code",
   "execution_count": null,
   "metadata": {},
   "outputs": [],
   "source": [
    "from scipy.special import binom\n",
    "print('With {} knockouts there can be {} pairs'.format(len(transport_reactions_filtered),binom(len(transport_reactions_filtered),2)))"
   ]
  },
  {
   "cell_type": "code",
   "execution_count": null,
   "metadata": {
    "scrolled": true
   },
   "outputs": [],
   "source": [
    "for r in transport_reactions_filtered:\n",
    "    # Restore\n",
    "    sporeme = copy.deepcopy(base_model)\n",
    "    \n",
    "    # Close transporter\n",
    "    rxn = sporeme.reactions.get_by_id(r)\n",
    "    rxn.lower_bound = 0\n",
    "    rxn.upper_bound = 0\n",
    "    \n",
    "    # Calculation\n",
    "    flux_results_df = ss.transporter_knockout(sporeme,transport_reactions_filtered, \\\n",
    "                                        NP=10,solution=1,biomass_dilution='biomass_dilution_s',\\\n",
    "                                        growth_key = 'sigma')\n",
    "    flux_results_df.to_csv('transporter_knockouts/{}.csv'.format(r))"
   ]
  },
  {
   "cell_type": "code",
   "execution_count": null,
   "metadata": {},
   "outputs": [],
   "source": [
    "# Read and process\n",
    "gr_df = pd.DataFrame(index=transport_reactions_filtered)\n",
    "for r in transport_reactions_filtered:\n",
    "    flux_results_df=pd.read_csv('transporter_knockouts/{}.csv'.format(r),index_col=0).drop('base',axis=1)\n",
    "    for i in transport_reactions_filtered:\n",
    "        gr_df.loc[r,i] = flux_results_df.loc['biomass_dilution_s',i]"
   ]
  },
  {
   "cell_type": "code",
   "execution_count": null,
   "metadata": {},
   "outputs": [],
   "source": [
    "plt.figure(figsize = (13,5))\n",
    "output = gr_df.loc[gr_df.any(axis=1),gr_df.any(axis=0)].drop('H2Ot_FWD_CPLX_dummy_s',axis=0).drop('H2Ot_FWD_CPLX_dummy_s',axis=1)\n",
    "cluster_df = pd.DataFrame(stats.zscore(output,axis=1),\n",
    "                            index=output.index,columns=output.columns)\n",
    "sns.clustermap(output,col_cluster=1,row_cluster=1, cmap='mako')\n",
    "plt.savefig('pairwise_growth')"
   ]
  },
  {
   "cell_type": "markdown",
   "metadata": {},
   "source": [
    "## Check for other possible transporters"
   ]
  },
  {
   "cell_type": "markdown",
   "metadata": {},
   "source": [
    "Close each one of the active 51 transporters and check for all other transporters that might turn on. Then include all in the analysis."
   ]
  },
  {
   "cell_type": "code",
   "execution_count": null,
   "metadata": {
    "scrolled": true
   },
   "outputs": [],
   "source": [
    "with open(\"./sporeme_solution.pickle\", \"rb\") as outfile:\n",
    "    sporeme = pickle.load(outfile)"
   ]
  },
  {
   "cell_type": "code",
   "execution_count": null,
   "metadata": {},
   "outputs": [],
   "source": [
    "closed_flux_results_df = pd.read_csv('comm_transport_flux_results.csv',index_col=0).drop('base',axis=1)"
   ]
  },
  {
   "cell_type": "code",
   "execution_count": null,
   "metadata": {
    "scrolled": true
   },
   "outputs": [],
   "source": [
    "from bacillusme.analysis import sensitivity as ss\n",
    "flux_results_df = ss.transporter_knockout(sporeme,active_transporters, \\\n",
    "                                        NP=10,solution=1,biomass_dilution='biomass_dilution_s',\\\n",
    "                                        growth_key = 'sigma')\n",
    "flux_results_df.to_csv('single_ko_all_open.csv')"
   ]
  },
  {
   "cell_type": "code",
   "execution_count": null,
   "metadata": {},
   "outputs": [],
   "source": [
    "flux_results_df = pd.read_csv('single_ko_all_open.csv',index_col=0)"
   ]
  },
  {
   "cell_type": "code",
   "execution_count": null,
   "metadata": {
    "scrolled": true
   },
   "outputs": [],
   "source": [
    "new_transporters = []\n",
    "for r in transport_reactions:\n",
    "    if (flux_results_df.loc[r]>0).any() and r not in active_transporters:\n",
    "        new_transporters.append(r)\n",
    "        \n",
    "        print('REACTION:',r,flux_results_df.loc[r,'base'])\n",
    "        print(flux_results_df[flux_results_df.columns[flux_results_df.loc[r]>0]].loc[r])\n",
    "        print('\\n')"
   ]
  },
  {
   "cell_type": "code",
   "execution_count": null,
   "metadata": {},
   "outputs": [],
   "source": [
    "include_transporters = new_transporters\n",
    "output = flux_results_df.loc[include_transporters,active_transporters]"
   ]
  },
  {
   "cell_type": "code",
   "execution_count": null,
   "metadata": {},
   "outputs": [],
   "source": [
    "cluster_df = pd.DataFrame(stats.zscore(output,axis=1),\n",
    "                            index=output.index,columns=output.columns)\n",
    "sns.clustermap(cluster_df,col_cluster=1,row_cluster=1, cmap='mako',yticklabels=1,xticklabels=1,figsize=(13,13))\n",
    "plt.savefig('transporters_turned_on')"
   ]
  },
  {
   "cell_type": "markdown",
   "metadata": {},
   "source": [
    "### Mini robustness"
   ]
  },
  {
   "cell_type": "code",
   "execution_count": null,
   "metadata": {},
   "outputs": [],
   "source": [
    "transport_reactions = ['ASPt2r_FWD_CPLX_dummy_s','4FE4St_s','PSER_Lt6_FWD_CPLX_dummy_s','CBL1t_s']"
   ]
  },
  {
   "cell_type": "code",
   "execution_count": null,
   "metadata": {},
   "outputs": [],
   "source": [
    "from bacillusme.analysis import sensitivity as ss\n",
    "flux_results_df = ss.transporter_knockout(sporeme,transport_reactions, \\\n",
    "                                        NP=10,solution=1,biomass_dilution='biomass_dilution_s',\\\n",
    "                                        growth_key = 'sigma',overexpress=True)\n",
    "flux_results_df.to_csv('overexpress_flux_results.csv')"
   ]
  },
  {
   "cell_type": "code",
   "execution_count": null,
   "metadata": {},
   "outputs": [],
   "source": [
    "flux_results_df = pd.read_csv('overexpress_flux_results.csv',index_col=0)"
   ]
  },
  {
   "cell_type": "code",
   "execution_count": null,
   "metadata": {},
   "outputs": [],
   "source": [
    "output = flux_results_df.loc[flux_results_df.columns.to_list()+['biomass_dilution_s']]\n",
    "output = output[output.any(axis=1)] # Only reactions that carried flux in at least one knockout"
   ]
  },
  {
   "cell_type": "code",
   "execution_count": null,
   "metadata": {},
   "outputs": [],
   "source": [
    "plt.figure(figsize = (13,5))\n",
    "cluster_df = pd.DataFrame(stats.zscore(output,axis=1),\n",
    "                            index=output.index,columns=output.columns)\n",
    "sns.clustermap(cluster_df,col_cluster=1,row_cluster=1,cmap=\"mako\")\n",
    "plt.savefig('clustermap_filtered')"
   ]
  },
  {
   "cell_type": "markdown",
   "metadata": {},
   "source": [
    "## Check by group of transporters of metabolite"
   ]
  },
  {
   "cell_type": "code",
   "execution_count": 18,
   "metadata": {
    "scrolled": true
   },
   "outputs": [],
   "source": [
    "with open(\"./sporeme_solution_v2.pickle\", \"rb\") as outfile:\n",
    "    sporeme = pickle.load(outfile)"
   ]
  },
  {
   "cell_type": "code",
   "execution_count": 19,
   "metadata": {
    "scrolled": true,
    "tags": []
   },
   "outputs": [
    {
     "name": "stdout",
     "output_type": "stream",
     "text": [
      "iter\tmuopt    \ta     \tb     \tmu1       \tstat1\n",
      "Finished compiling expressions in 262.334991 seconds\n",
      "Finished substituting S,lb,ub in 7.733471 seconds\n",
      "Finished makeME_LP in 1.450617 seconds\n",
      "Getting MINOS parameters from ME_NLP...\n",
      "1 0.05 0.05 0.1 0.05 optimal\n",
      "Finished substituting S,lb,ub in 7.720798 seconds\n",
      "Finished makeME_LP in 1.459907 seconds\n",
      "Getting MINOS parameters from ME_NLP...\n",
      "2 0.05 0.05 0.07500000000000001 0.07500000000000001 1\n",
      "Finished substituting S,lb,ub in 7.677529 seconds\n",
      "Finished makeME_LP in 1.454162 seconds\n",
      "Getting MINOS parameters from ME_NLP...\n",
      "3 0.05 0.05 0.0625 0.0625 1\n",
      "Finished substituting S,lb,ub in 7.391881 seconds\n",
      "Finished makeME_LP in 1.454710 seconds\n",
      "Getting MINOS parameters from ME_NLP...\n",
      "4 0.05625 0.05625 0.0625 0.05625 optimal\n",
      "Finished substituting S,lb,ub in 7.398260 seconds\n",
      "Finished makeME_LP in 1.448528 seconds\n",
      "Getting MINOS parameters from ME_NLP...\n",
      "5 0.059375 0.059375 0.0625 0.059375 optimal\n",
      "Finished substituting S,lb,ub in 7.469999 seconds\n",
      "Finished makeME_LP in 1.450540 seconds\n",
      "Getting MINOS parameters from ME_NLP...\n",
      "6 0.059375 0.059375 0.0609375 0.0609375 1\n",
      "Finished substituting S,lb,ub in 7.424511 seconds\n",
      "Finished makeME_LP in 1.460149 seconds\n",
      "Getting MINOS parameters from ME_NLP...\n",
      "7 0.060156249999999994 0.060156249999999994 0.0609375 0.060156249999999994 optimal\n",
      "Finished substituting S,lb,ub in 7.311993 seconds\n",
      "Finished makeME_LP in 1.446311 seconds\n",
      "Getting MINOS parameters from ME_NLP...\n",
      "8 0.060156249999999994 0.060156249999999994 0.060546875 0.060546875 1\n",
      "Finished substituting S,lb,ub in 7.357549 seconds\n",
      "Finished makeME_LP in 1.450094 seconds\n",
      "Getting MINOS parameters from ME_NLP...\n",
      "9 0.0603515625 0.0603515625 0.060546875 0.0603515625 optimal\n",
      "Finished substituting S,lb,ub in 7.290285 seconds\n",
      "Finished makeME_LP in 1.458491 seconds\n",
      "Getting MINOS parameters from ME_NLP...\n",
      "10 0.06044921875 0.06044921875 0.060546875 0.06044921875 optimal\n",
      "Bisection done in 661.256 seconds\n"
     ]
    }
   ],
   "source": [
    "solve_me_model(sporeme, max_mu = 0.1, min_mu = .01, using_soplex=False, precision = 1e-4,growth_key = 'sigma', verbosity = 2)"
   ]
  },
  {
   "cell_type": "code",
   "execution_count": 20,
   "metadata": {},
   "outputs": [],
   "source": [
    "def get_necessary_metabolites(model,active_transporters):\n",
    "    necessary_metabolites = []\n",
    "    for r in tqdm(active_transporters):\n",
    "        rxn = model.reactions.get_by_id(r)\n",
    "        for m in rxn.products:\n",
    "            if not isinstance(m,cobrame.Metabolite):\n",
    "                continue\n",
    "            met_root = m.id[:-2]\n",
    "            for i in rxn.reactants:\n",
    "                if met_root in i.id:\n",
    "                    necessary_metabolites.append(m.id)\n",
    "    return list(set(necessary_metabolites))\n",
    "\n",
    "def get_all_available_transport(model,necessary_metabolites):\n",
    "    available_transport = []\n",
    "    at_dict = {}\n",
    "    for m in tqdm(necessary_metabolites):\n",
    "        rxns = get_transport_reactions(model,m,comps=['c','s']) + get_transport_reactions(model,m,comps=['s','c'])\n",
    "        [available_transport.append(r.id) for r in rxns]\n",
    "        at_dict[m] = []\n",
    "        [at_dict[m].append(r.id) for r in rxns]\n",
    "    return list(set(available_transport)), at_dict"
   ]
  },
  {
   "cell_type": "code",
   "execution_count": 21,
   "metadata": {},
   "outputs": [],
   "source": [
    "# Previously identified essential metabolites\n",
    "exchange_list = ['4fe4s_s','2fe2s_s','udcpp_s','pydx5p_s','3fe4s_s','cl_s','sheme_s','cu_s','mn2_s',\n",
    "                 'bmocogdp_s','dpm_s','thmpp_s','zn2_s','cbl1_s','cobalt2_s']\n",
    "additional = [m.id for m in sporeme.metabolites if isinstance(m,cobrame.Metabolite)]\n",
    "transported_metabolites = exchange_list+additional"
   ]
  },
  {
   "cell_type": "code",
   "execution_count": 22,
   "metadata": {},
   "outputs": [
    {
     "name": "stderr",
     "output_type": "stream",
     "text": [
      "100%|██████████| 12323/12323 [00:00<00:00, 166025.54it/s]"
     ]
    },
    {
     "name": "stdout",
     "output_type": "stream",
     "text": [
      "399 transport reactions identified\n"
     ]
    },
    {
     "name": "stderr",
     "output_type": "stream",
     "text": [
      "\n"
     ]
    }
   ],
   "source": [
    "transport_reactions = get_all_transport(sporeme)\n",
    "print('{} transport reactions identified'.format(len(transport_reactions)))"
   ]
  },
  {
   "cell_type": "code",
   "execution_count": 23,
   "metadata": {
    "scrolled": true
   },
   "outputs": [
    {
     "name": "stderr",
     "output_type": "stream",
     "text": [
      "100%|██████████| 399/399 [00:00<00:00, 423249.19it/s]\n",
      "100%|██████████| 51/51 [00:00<00:00, 2567.32it/s]\n",
      "100%|██████████| 47/47 [00:00<00:00, 81.57it/s]\n"
     ]
    }
   ],
   "source": [
    "active_transporters = get_active_transport(transport_reactions)\n",
    "necessary_metabolites = get_necessary_metabolites(sporeme,active_transporters)\n",
    "necessary_metabolites.remove('h_s')\n",
    "necessary_metabolites.remove('h_c')\n",
    "available_transport, at_dict = get_all_available_transport(sporeme,necessary_metabolites)"
   ]
  },
  {
   "cell_type": "code",
   "execution_count": 24,
   "metadata": {},
   "outputs": [
    {
     "name": "stdout",
     "output_type": "stream",
     "text": [
      "51 active transport reactions identified\n",
      "47 necessary metabolites identified\n",
      "118 available transport reactions identified\n"
     ]
    }
   ],
   "source": [
    "print('{} active transport reactions identified'.format(len(active_transporters)))\n",
    "print('{} necessary metabolites identified'.format(len(necessary_metabolites)))\n",
    "print('{} available transport reactions identified'.format(len(available_transport)))"
   ]
  },
  {
   "cell_type": "code",
   "execution_count": 25,
   "metadata": {},
   "outputs": [
    {
     "name": "stdout",
     "output_type": "stream",
     "text": [
      "119 open transport reactions identified\n",
      "Included {'GLCpts_FWD_BSU13890-MONOMER_s'}\n"
     ]
    }
   ],
   "source": [
    "all_transporters_to_open = list(set(active_transporters + available_transport))\n",
    "print('{} open transport reactions identified'.format(len(all_transporters_to_open)))\n",
    "print('Included {}'.format(set(active_transporters)-set(available_transport)))"
   ]
  },
  {
   "cell_type": "code",
   "execution_count": 26,
   "metadata": {},
   "outputs": [],
   "source": [
    "for r in transport_reactions:\n",
    "    if r not in all_transporters_to_open and 'SPONT' not in r:\n",
    "        rxn = sporeme.reactions.get_by_id(r)\n",
    "        rxn.upper_bound = 0 \n",
    "        rxn.lower_bound = 0"
   ]
  },
  {
   "cell_type": "code",
   "execution_count": 27,
   "metadata": {},
   "outputs": [],
   "source": [
    "# sporeme.reactions.get_by_id('GLCpts_FWD_BSU13890-MONOMER_s').bounds = (0,0)"
   ]
  },
  {
   "cell_type": "code",
   "execution_count": 28,
   "metadata": {
    "scrolled": true
   },
   "outputs": [
    {
     "name": "stdout",
     "output_type": "stream",
     "text": [
      "iter\tmuopt    \ta     \tb     \tmu1       \tstat1\n",
      "Finished compiling expressions in 261.005041 seconds\n",
      "Finished substituting S,lb,ub in 7.663067 seconds\n",
      "Finished makeME_LP in 1.448347 seconds\n",
      "Getting MINOS parameters from ME_NLP...\n",
      "1 0.05 0.05 0.1 0.05 optimal\n",
      "Finished substituting S,lb,ub in 7.692944 seconds\n",
      "Finished makeME_LP in 1.454668 seconds\n",
      "Getting MINOS parameters from ME_NLP...\n",
      "2 0.05 0.05 0.07500000000000001 0.07500000000000001 1\n",
      "Finished substituting S,lb,ub in 7.461002 seconds\n",
      "Finished makeME_LP in 1.447574 seconds\n",
      "Getting MINOS parameters from ME_NLP...\n",
      "3 0.05 0.05 0.0625 0.0625 1\n",
      "Finished substituting S,lb,ub in 7.541075 seconds\n",
      "Finished makeME_LP in 1.456405 seconds\n",
      "Getting MINOS parameters from ME_NLP...\n",
      "4 0.05625 0.05625 0.0625 0.05625 optimal\n",
      "Finished substituting S,lb,ub in 7.398392 seconds\n",
      "Finished makeME_LP in 1.443614 seconds\n",
      "Getting MINOS parameters from ME_NLP...\n",
      "5 0.059375 0.059375 0.0625 0.059375 optimal\n",
      "Finished substituting S,lb,ub in 7.385573 seconds\n",
      "Finished makeME_LP in 1.445712 seconds\n",
      "Getting MINOS parameters from ME_NLP...\n",
      "6 0.059375 0.059375 0.0609375 0.0609375 1\n",
      "Finished substituting S,lb,ub in 7.428494 seconds\n",
      "Finished makeME_LP in 1.444206 seconds\n",
      "Getting MINOS parameters from ME_NLP...\n",
      "7 0.060156249999999994 0.060156249999999994 0.0609375 0.060156249999999994 optimal\n",
      "Finished substituting S,lb,ub in 7.464248 seconds\n",
      "Finished makeME_LP in 1.450518 seconds\n",
      "Getting MINOS parameters from ME_NLP...\n",
      "8 0.060156249999999994 0.060156249999999994 0.060546875 0.060546875 1\n",
      "Finished substituting S,lb,ub in 7.397577 seconds\n",
      "Finished makeME_LP in 1.450773 seconds\n",
      "Getting MINOS parameters from ME_NLP...\n",
      "9 0.0603515625 0.0603515625 0.060546875 0.0603515625 optimal\n",
      "Finished substituting S,lb,ub in 7.412307 seconds\n",
      "Finished makeME_LP in 1.455444 seconds\n",
      "Getting MINOS parameters from ME_NLP...\n",
      "10 0.06044921875 0.06044921875 0.060546875 0.06044921875 optimal\n",
      "Finished substituting S,lb,ub in 7.301338 seconds\n",
      "Finished makeME_LP in 1.451122 seconds\n",
      "Getting MINOS parameters from ME_NLP...\n",
      "11 0.06044921875 0.06044921875 0.060498046875 0.060498046875 1\n",
      "Finished substituting S,lb,ub in 7.312940 seconds\n",
      "Finished makeME_LP in 1.451618 seconds\n",
      "Getting MINOS parameters from ME_NLP...\n",
      "12 0.0604736328125 0.0604736328125 0.060498046875 0.0604736328125 optimal\n",
      "Finished substituting S,lb,ub in 7.466158 seconds\n",
      "Finished makeME_LP in 1.462537 seconds\n",
      "Getting MINOS parameters from ME_NLP...\n",
      "13 0.06048583984375 0.06048583984375 0.060498046875 0.06048583984375 optimal\n",
      "Finished substituting S,lb,ub in 7.459767 seconds\n",
      "Finished makeME_LP in 1.453027 seconds\n",
      "Getting MINOS parameters from ME_NLP...\n",
      "14 0.06048583984375 0.06048583984375 0.060491943359375 0.060491943359375 1\n",
      "Finished substituting S,lb,ub in 7.428304 seconds\n",
      "Finished makeME_LP in 1.456916 seconds\n",
      "Getting MINOS parameters from ME_NLP...\n",
      "15 0.0604888916015625 0.0604888916015625 0.060491943359375 0.0604888916015625 optimal\n",
      "Finished substituting S,lb,ub in 7.467089 seconds\n",
      "Finished makeME_LP in 1.456480 seconds\n",
      "Getting MINOS parameters from ME_NLP...\n",
      "16 0.06049041748046875 0.06049041748046875 0.060491943359375 0.06049041748046875 optimal\n",
      "Finished substituting S,lb,ub in 7.382888 seconds\n",
      "Finished makeME_LP in 1.461932 seconds\n",
      "Getting MINOS parameters from ME_NLP...\n",
      "17 0.06049041748046875 0.06049041748046875 0.06049118041992188 0.06049118041992188 1\n",
      "Bisection done in 729.733 seconds\n"
     ]
    }
   ],
   "source": [
    "solve_me_model(sporeme, max_mu = 0.1, min_mu = .01, using_soplex=False, precision = 1e-6,growth_key = 'sigma')"
   ]
  },
  {
   "cell_type": "code",
   "execution_count": null,
   "metadata": {
    "scrolled": true,
    "tags": []
   },
   "outputs": [
    {
     "name": "stdout",
     "output_type": "stream",
     "text": [
      "Chosen change function: group_knockout      Sequential = False\n"
     ]
    },
    {
     "name": "stderr",
     "output_type": "stream",
     "text": [
      "biomass_dilution_s response (10 threads):  49%|████▉     | 23/47 [1:42:20<2:08:28, 321.20s/it]"
     ]
    }
   ],
   "source": [
    "from bacillusme.analysis import sensitivity as ss\n",
    "flux_results_df = ss.transporter_knockout(sporeme,necessary_metabolites, \\\n",
    "                                        NP=10,solution=1,biomass_dilution='biomass_dilution_s',\\\n",
    "                                        growth_key = 'sigma',single_change_function='group_knockout')"
   ]
  },
  {
   "cell_type": "code",
   "execution_count": null,
   "metadata": {},
   "outputs": [],
   "source": [
    "flux_results_df.to_csv('group_KO_flux_results_v3.csv')"
   ]
  },
  {
   "cell_type": "code",
   "execution_count": 32,
   "metadata": {},
   "outputs": [
    {
     "data": {
      "image/png": "[encoded data removed]",
      "text/plain": [
       "<Figure size 864x288 with 1 Axes>"
      ]
     },
     "metadata": {
      "needs_background": "light"
     },
     "output_type": "display_data"
    }
   ],
   "source": [
    "flux_results_df = pd.read_csv('group_KO_flux_results_v3.csv',index_col=0)\n",
    "flux_results_df.loc['biomass_dilution_s'].sort_values().plot.bar(figsize=(12,4))\n",
    "plt.tight_layout()\n",
    "plt.savefig(\"group_KO_flux_results_v3.svg\", format=\"SVG\")"
   ]
  },
  {
   "cell_type": "markdown",
   "metadata": {},
   "source": [
    "### Close metabolite one by one\n",
    "Including information about arginine being transported"
   ]
  },
  {
   "cell_type": "code",
   "execution_count": 34,
   "metadata": {
    "scrolled": true
   },
   "outputs": [],
   "source": [
    "with open(\"./sporeme_solution_v2.pickle\", \"rb\") as outfile:\n",
    "    sporeme = pickle.load(outfile)"
   ]
  },
  {
   "cell_type": "code",
   "execution_count": 35,
   "metadata": {},
   "outputs": [],
   "source": [
    "for r in transport_reactions:\n",
    "    if r not in all_transporters_to_open and 'SPONT' not in r:\n",
    "        rxn = sporeme.reactions.get_by_id(r)\n",
    "        rxn.upper_bound = 0 \n",
    "        rxn.lower_bound = 0"
   ]
  },
  {
   "cell_type": "code",
   "execution_count": 40,
   "metadata": {},
   "outputs": [],
   "source": [
    "flux_results_df = pd.read_csv('group_KO_flux_results_v3.csv',index_col=0)\n",
    "sorted_mets = flux_results_df.loc['biomass_dilution_s'].sort_values(ascending=False).drop('base').index.to_list()"
   ]
  },
  {
   "cell_type": "code",
   "execution_count": 41,
   "metadata": {},
   "outputs": [],
   "source": [
    "sorted_mets.remove('arg__L_s')\n",
    "sorted_mets.append('arg__L_s')"
   ]
  },
  {
   "cell_type": "code",
   "execution_count": 42,
   "metadata": {
    "scrolled": true
   },
   "outputs": [],
   "source": [
    "# flux_dict = {}\n",
    "# b = 0\n",
    "# for met in tqdm(sorted_mets):\n",
    "#     transport = at_dict[met]\n",
    "    \n",
    "#     if b == 1:\n",
    "#         flux_dict[met] = {r.id:0. for r in sporeme.reactions}\n",
    "#         continue\n",
    "    \n",
    "#     for r in transport:\n",
    "#         rxn = sporeme.reactions.get_by_id(r)\n",
    "#         rxn.lower_bound = 0\n",
    "#         rxn.upper_bound = 0\n",
    "#     solve_me_model(sporeme, max_mu = 0.5, min_mu = .05, using_soplex=False, precision = 1e-4,growth_key = 'sigma',\n",
    "#                   verbosity = 0)\n",
    "#     if sporeme.solution:\n",
    "#         flux_dict[met] = sporeme.solution.x_dict\n",
    "#     else:\n",
    "#         flux_dict[met] = {r.id:0. for r in sporeme.reactions}\n",
    "#         b = 1\n",
    "# flux_results_df = pd.DataFrame.from_dict(flux_dict)\n"
   ]
  },
  {
   "cell_type": "code",
   "execution_count": null,
   "metadata": {
    "scrolled": true
   },
   "outputs": [
    {
     "name": "stdout",
     "output_type": "stream",
     "text": [
      "Chosen change function: group_knockout      Sequential = True\n"
     ]
    },
    {
     "name": "stderr",
     "output_type": "stream",
     "text": [
      "biomass_dilution_s response (20 threads):  43%|████▎     | 20/47 [59:53<30:23, 67.52s/it]    "
     ]
    }
   ],
   "source": [
    "from bacillusme.analysis import sensitivity as ss\n",
    "flux_results_df = ss.transporter_knockout(sporeme,sorted_mets, \\\n",
    "                                        NP=20,solution=1,biomass_dilution='biomass_dilution_s',\\\n",
    "                                        growth_key = 'sigma',single_change_function='group_knockout',sequential=True)\n",
    "flux_results_df.to_csv('group_1by1_KO_flux_results_v3.csv')"
   ]
  },
  {
   "cell_type": "code",
   "execution_count": 46,
   "metadata": {},
   "outputs": [
    {
     "data": {
      "image/png": "[encoded data removed]",
      "text/plain": [
       "<Figure size 864x288 with 1 Axes>"
      ]
     },
     "metadata": {
      "needs_background": "light"
     },
     "output_type": "display_data"
    }
   ],
   "source": [
    "flux_results_df = pd.read_csv('group_1by1_KO_flux_results_v3.csv',index_col=0)\n",
    "flux_results_df.loc['biomass_dilution_s',sorted_mets[::-1]].plot.bar(figsize=(12,4))\n",
    "plt.tight_layout()\n",
    "plt.savefig(\"group_1by1_KO_flux_results_v3.svg\", format=\"SVG\")"
   ]
  },
  {
   "cell_type": "code",
   "execution_count": 52,
   "metadata": {},
   "outputs": [],
   "source": [
    "last_met = 'gsn_c'"
   ]
  },
  {
   "cell_type": "code",
   "execution_count": 53,
   "metadata": {},
   "outputs": [
    {
     "data": {
      "text/html": [
       "<div>\n",
       "<style scoped>\n",
       "    .dataframe tbody tr th:only-of-type {\n",
       "        vertical-align: middle;\n",
       "    }\n",
       "\n",
       "    .dataframe tbody tr th {\n",
       "        vertical-align: top;\n",
       "    }\n",
       "\n",
       "    .dataframe thead th {\n",
       "        text-align: right;\n",
       "    }\n",
       "</style>\n",
       "<table border=\"1\" class=\"dataframe\">\n",
       "  <thead>\n",
       "    <tr style=\"text-align: right;\">\n",
       "      <th></th>\n",
       "      <th>lb</th>\n",
       "      <th>ub</th>\n",
       "      <th>rxn_flux</th>\n",
       "      <th>met_flux</th>\n",
       "      <th>reaction</th>\n",
       "    </tr>\n",
       "  </thead>\n",
       "  <tbody>\n",
       "    <tr>\n",
       "      <th>ACKr_REV_BSU29470-MONOMER_s</th>\n",
       "      <td>0</td>\n",
       "      <td>999999</td>\n",
       "      <td>26.9782</td>\n",
       "      <td>26.9782</td>\n",
       "      <td>actp_s + adp_s --&gt; -4.27350427350427e-6*sigma ...</td>\n",
       "    </tr>\n",
       "    <tr>\n",
       "      <th>SUCOAS_FWD_CPLX8J2-7_s</th>\n",
       "      <td>0</td>\n",
       "      <td>999999</td>\n",
       "      <td>13.2452</td>\n",
       "      <td>-13.2452</td>\n",
       "      <td>atp_s + coa_s + succ_s --&gt; -4.27350427350427e-...</td>\n",
       "    </tr>\n",
       "    <tr>\n",
       "      <th>PGK_REV_BSU33930-MONOMER_s</th>\n",
       "      <td>0</td>\n",
       "      <td>999999</td>\n",
       "      <td>1.19341</td>\n",
       "      <td>1.19341</td>\n",
       "      <td>13dpg_s + adp_s --&gt; 3pg_s + -2.73961266103634e...</td>\n",
       "    </tr>\n",
       "    <tr>\n",
       "      <th>PYK_FWD_BSU29180-MONOMER_mod_mn2_mod_k_s</th>\n",
       "      <td>0</td>\n",
       "      <td>999999</td>\n",
       "      <td>1.12249</td>\n",
       "      <td>1.12249</td>\n",
       "      <td>adp_s + h_s + pep_s --&gt; -7.24069444255906e-7*s...</td>\n",
       "    </tr>\n",
       "    <tr>\n",
       "      <th>NDPK1_FWD_BSU22730-MONOMER_mod_mn2_s</th>\n",
       "      <td>0</td>\n",
       "      <td>999999</td>\n",
       "      <td>0.263031</td>\n",
       "      <td>-0.263031</td>\n",
       "      <td>atp_s + gdp_s --&gt; -4.27350427350427e-6*sigma B...</td>\n",
       "    </tr>\n",
       "    <tr>\n",
       "      <th>NDPK2_FWD_BSU22730-MONOMER_mod_mn2_s</th>\n",
       "      <td>0</td>\n",
       "      <td>999999</td>\n",
       "      <td>0.119108</td>\n",
       "      <td>-0.119108</td>\n",
       "      <td>atp_s + udp_s --&gt; -4.27350427350427e-6*sigma B...</td>\n",
       "    </tr>\n",
       "    <tr>\n",
       "      <th>ADK1_FWD_BSU01370-MONOMER_mod_mg2_s</th>\n",
       "      <td>0</td>\n",
       "      <td>999999</td>\n",
       "      <td>0.091009</td>\n",
       "      <td>-0.091009</td>\n",
       "      <td>amp_s + atp_s --&gt; -4.27350427350427e-6*sigma B...</td>\n",
       "    </tr>\n",
       "    <tr>\n",
       "      <th>ACCOAC_FWD_CPLX000-1_s</th>\n",
       "      <td>0</td>\n",
       "      <td>999999</td>\n",
       "      <td>0.0854167</td>\n",
       "      <td>-0.0854167</td>\n",
       "      <td>accoa_s + atp_s + hco3_s --&gt; -4.27350427350427...</td>\n",
       "    </tr>\n",
       "    <tr>\n",
       "      <th>PRPPS_REV_BSU00510-MONOMER_mod_mn2_mod_pi_s</th>\n",
       "      <td>0</td>\n",
       "      <td>999999</td>\n",
       "      <td>0.0760147</td>\n",
       "      <td>0.0760147</td>\n",
       "      <td>amp_s + h_s + prpp_s --&gt; -1.38401264312306e-5*...</td>\n",
       "    </tr>\n",
       "    <tr>\n",
       "      <th>GLNS_FWD_CPLX8J2-146_s</th>\n",
       "      <td>0</td>\n",
       "      <td>999999</td>\n",
       "      <td>0.0720369</td>\n",
       "      <td>-0.0720369</td>\n",
       "      <td>atp_s + glu__L_s + nh4_s --&gt; -4.27350427350427...</td>\n",
       "    </tr>\n",
       "  </tbody>\n",
       "</table>\n",
       "</div>"
      ],
      "text/plain": [
       "                                            lb      ub   rxn_flux   met_flux  \\\n",
       "ACKr_REV_BSU29470-MONOMER_s                  0  999999    26.9782    26.9782   \n",
       "SUCOAS_FWD_CPLX8J2-7_s                       0  999999    13.2452   -13.2452   \n",
       "PGK_REV_BSU33930-MONOMER_s                   0  999999    1.19341    1.19341   \n",
       "PYK_FWD_BSU29180-MONOMER_mod_mn2_mod_k_s     0  999999    1.12249    1.12249   \n",
       "NDPK1_FWD_BSU22730-MONOMER_mod_mn2_s         0  999999   0.263031  -0.263031   \n",
       "NDPK2_FWD_BSU22730-MONOMER_mod_mn2_s         0  999999   0.119108  -0.119108   \n",
       "ADK1_FWD_BSU01370-MONOMER_mod_mg2_s          0  999999   0.091009  -0.091009   \n",
       "ACCOAC_FWD_CPLX000-1_s                       0  999999  0.0854167 -0.0854167   \n",
       "PRPPS_REV_BSU00510-MONOMER_mod_mn2_mod_pi_s  0  999999  0.0760147  0.0760147   \n",
       "GLNS_FWD_CPLX8J2-146_s                       0  999999  0.0720369 -0.0720369   \n",
       "\n",
       "                                                                                      reaction  \n",
       "ACKr_REV_BSU29470-MONOMER_s                  actp_s + adp_s --> -4.27350427350427e-6*sigma ...  \n",
       "SUCOAS_FWD_CPLX8J2-7_s                       atp_s + coa_s + succ_s --> -4.27350427350427e-...  \n",
       "PGK_REV_BSU33930-MONOMER_s                   13dpg_s + adp_s --> 3pg_s + -2.73961266103634e...  \n",
       "PYK_FWD_BSU29180-MONOMER_mod_mn2_mod_k_s     adp_s + h_s + pep_s --> -7.24069444255906e-7*s...  \n",
       "NDPK1_FWD_BSU22730-MONOMER_mod_mn2_s         atp_s + gdp_s --> -4.27350427350427e-6*sigma B...  \n",
       "NDPK2_FWD_BSU22730-MONOMER_mod_mn2_s         atp_s + udp_s --> -4.27350427350427e-6*sigma B...  \n",
       "ADK1_FWD_BSU01370-MONOMER_mod_mg2_s          amp_s + atp_s --> -4.27350427350427e-6*sigma B...  \n",
       "ACCOAC_FWD_CPLX000-1_s                       accoa_s + atp_s + hco3_s --> -4.27350427350427...  \n",
       "PRPPS_REV_BSU00510-MONOMER_mod_mn2_mod_pi_s  amp_s + h_s + prpp_s --> -1.38401264312306e-5*...  \n",
       "GLNS_FWD_CPLX8J2-146_s                       atp_s + glu__L_s + nh4_s --> -4.27350427350427...  "
      ]
     },
     "execution_count": 53,
     "metadata": {},
     "output_type": "execute_result"
    }
   ],
   "source": [
    "flux_based_reactions(sporeme,'atp_s',flux_dict=flux_results_df[last_met].to_dict(), only_types=['MetabolicReaction']).head(10)"
   ]
  },
  {
   "cell_type": "code",
   "execution_count": 54,
   "metadata": {},
   "outputs": [
    {
     "ename": "NameError",
     "evalue": "name 'df' is not defined",
     "output_type": "error",
     "traceback": [
      "\u001b[0;31m---------------------------------------------------------------------------\u001b[0m",
      "\u001b[0;31mNameError\u001b[0m                                 Traceback (most recent call last)",
      "\u001b[0;32m<ipython-input-54-655255a2db9f>\u001b[0m in \u001b[0;36m<module>\u001b[0;34m\u001b[0m\n\u001b[0;32m----> 1\u001b[0;31m \u001b[0mdf\u001b[0m \u001b[0;34m=\u001b[0m \u001b[0mdf\u001b[0m\u001b[0;34m[\u001b[0m\u001b[0;34m'met_flux'\u001b[0m\u001b[0;34m]\u001b[0m\u001b[0;34m[\u001b[0m\u001b[0;34m:\u001b[0m\u001b[0;36m3\u001b[0m\u001b[0;34m]\u001b[0m\u001b[0;34m\u001b[0m\u001b[0;34m\u001b[0m\u001b[0m\n\u001b[0m",
      "\u001b[0;31mNameError\u001b[0m: name 'df' is not defined"
     ]
    }
   ],
   "source": [
    "df = df['met_flux'][:3]"
   ]
  },
  {
   "cell_type": "code",
   "execution_count": 113,
   "metadata": {},
   "outputs": [
    {
     "data": {
      "text/plain": [
       "ACKr_REV_BSU29470-MONOMER_s                 0.449631\n",
       "PGK_REV_BSU33930-MONOMER_s                  0.318687\n",
       "PYK_FWD_BSU29180-MONOMER_mod_mn2_mod_k_s    0.231682\n",
       "Name: met_flux, dtype: object"
      ]
     },
     "execution_count": 113,
     "metadata": {},
     "output_type": "execute_result"
    }
   ],
   "source": [
    "df.div(df.sum())"
   ]
  },
  {
   "cell_type": "code",
   "execution_count": 116,
   "metadata": {},
   "outputs": [
    {
     "data": {
      "text/plain": [
       "'Acetyl phosphate'"
      ]
     },
     "execution_count": 116,
     "metadata": {},
     "output_type": "execute_result"
    }
   ],
   "source": [
    "sporeme.metabolites.actp_s.name"
   ]
  },
  {
   "cell_type": "code",
   "execution_count": 55,
   "metadata": {},
   "outputs": [
    {
     "data": {
      "text/html": [
       "<div>\n",
       "<style scoped>\n",
       "    .dataframe tbody tr th:only-of-type {\n",
       "        vertical-align: middle;\n",
       "    }\n",
       "\n",
       "    .dataframe tbody tr th {\n",
       "        vertical-align: top;\n",
       "    }\n",
       "\n",
       "    .dataframe thead th {\n",
       "        text-align: right;\n",
       "    }\n",
       "</style>\n",
       "<table border=\"1\" class=\"dataframe\">\n",
       "  <thead>\n",
       "    <tr style=\"text-align: right;\">\n",
       "      <th></th>\n",
       "      <th>lb</th>\n",
       "      <th>ub</th>\n",
       "      <th>rxn_flux</th>\n",
       "      <th>met_flux</th>\n",
       "      <th>reaction</th>\n",
       "    </tr>\n",
       "  </thead>\n",
       "  <tbody>\n",
       "    <tr>\n",
       "      <th>ACACt2_FWD_CPLX_dummy_s</th>\n",
       "      <td>0</td>\n",
       "      <td>999999</td>\n",
       "      <td>13.5835</td>\n",
       "      <td>13.5835</td>\n",
       "      <td>acac_c + h_c --&gt; -4.27350427350427e-6*sigma CP...</td>\n",
       "    </tr>\n",
       "    <tr>\n",
       "      <th>OCOAT1_FWD_CPLX8J2-34_s</th>\n",
       "      <td>0</td>\n",
       "      <td>999999</td>\n",
       "      <td>13.5835</td>\n",
       "      <td>-13.5835</td>\n",
       "      <td>acac_s + succoa_s --&gt; -4.27350427350427e-6*sig...</td>\n",
       "    </tr>\n",
       "    <tr>\n",
       "      <th>ACACt2_REV_CPLX_dummy_s</th>\n",
       "      <td>0</td>\n",
       "      <td>999999</td>\n",
       "      <td>0</td>\n",
       "      <td>-0</td>\n",
       "      <td>acac_s + h_s --&gt; -4.27350427350427e-6*sigma CP...</td>\n",
       "    </tr>\n",
       "    <tr>\n",
       "      <th>HMGL_FWD_BSU18230-MONOMER_s</th>\n",
       "      <td>0</td>\n",
       "      <td>999999</td>\n",
       "      <td>0</td>\n",
       "      <td>0</td>\n",
       "      <td>hmgcoa_s --&gt; -1.45715293064355e-5*sigma BSU182...</td>\n",
       "    </tr>\n",
       "    <tr>\n",
       "      <th>OCOAT1_REV_CPLX8J2-34_s</th>\n",
       "      <td>0</td>\n",
       "      <td>999999</td>\n",
       "      <td>0</td>\n",
       "      <td>0</td>\n",
       "      <td>aacoa_s + succ_s --&gt; -4.27350427350427e-6*sigm...</td>\n",
       "    </tr>\n",
       "  </tbody>\n",
       "</table>\n",
       "</div>"
      ],
      "text/plain": [
       "                            lb      ub rxn_flux met_flux  \\\n",
       "ACACt2_FWD_CPLX_dummy_s      0  999999  13.5835  13.5835   \n",
       "OCOAT1_FWD_CPLX8J2-34_s      0  999999  13.5835 -13.5835   \n",
       "ACACt2_REV_CPLX_dummy_s      0  999999        0       -0   \n",
       "HMGL_FWD_BSU18230-MONOMER_s  0  999999        0        0   \n",
       "OCOAT1_REV_CPLX8J2-34_s      0  999999        0        0   \n",
       "\n",
       "                                                                      reaction  \n",
       "ACACt2_FWD_CPLX_dummy_s      acac_c + h_c --> -4.27350427350427e-6*sigma CP...  \n",
       "OCOAT1_FWD_CPLX8J2-34_s      acac_s + succoa_s --> -4.27350427350427e-6*sig...  \n",
       "ACACt2_REV_CPLX_dummy_s      acac_s + h_s --> -4.27350427350427e-6*sigma CP...  \n",
       "HMGL_FWD_BSU18230-MONOMER_s  hmgcoa_s --> -1.45715293064355e-5*sigma BSU182...  \n",
       "OCOAT1_REV_CPLX8J2-34_s      aacoa_s + succ_s --> -4.27350427350427e-6*sigm...  "
      ]
     },
     "execution_count": 55,
     "metadata": {},
     "output_type": "execute_result"
    }
   ],
   "source": [
    "flux_based_reactions(sporeme,'acac_s',flux_dict=flux_results_df[last_met].to_dict(), only_types=['MetabolicReaction']).head(10)"
   ]
  },
  {
   "cell_type": "code",
   "execution_count": 101,
   "metadata": {},
   "outputs": [
    {
     "data": {
      "text/plain": [
       "'ac_s + h_s <=> -7.16763618336694e-5*sigma BSU38240-MONOMER_s + ac_c + h_c'"
      ]
     },
     "execution_count": 101,
     "metadata": {},
     "output_type": "execute_result"
    }
   ],
   "source": [
    "sporeme.reactions.get_by_id('ACt2r_REV_BSU38240-MONOMER_s').reaction"
   ]
  },
  {
   "cell_type": "code",
   "execution_count": 56,
   "metadata": {},
   "outputs": [
    {
     "data": {
      "text/html": [
       "<div>\n",
       "<style scoped>\n",
       "    .dataframe tbody tr th:only-of-type {\n",
       "        vertical-align: middle;\n",
       "    }\n",
       "\n",
       "    .dataframe tbody tr th {\n",
       "        vertical-align: top;\n",
       "    }\n",
       "\n",
       "    .dataframe thead th {\n",
       "        text-align: right;\n",
       "    }\n",
       "</style>\n",
       "<table border=\"1\" class=\"dataframe\">\n",
       "  <thead>\n",
       "    <tr style=\"text-align: right;\">\n",
       "      <th></th>\n",
       "      <th>lb</th>\n",
       "      <th>ub</th>\n",
       "      <th>rxn_flux</th>\n",
       "      <th>met_flux</th>\n",
       "      <th>reaction</th>\n",
       "    </tr>\n",
       "  </thead>\n",
       "  <tbody>\n",
       "    <tr>\n",
       "      <th>PGM_REV_BSU33910-MONOMER_mod_mn2_s</th>\n",
       "      <td>0</td>\n",
       "      <td>999999</td>\n",
       "      <td>1.21246</td>\n",
       "      <td>1.21246</td>\n",
       "      <td>3pg_s --&gt; 2pg_s + -2.20620421261451e-6*sigma B...</td>\n",
       "    </tr>\n",
       "    <tr>\n",
       "      <th>ENO_FWD_BSU33900-MONOMER_s</th>\n",
       "      <td>0</td>\n",
       "      <td>999999</td>\n",
       "      <td>1.21246</td>\n",
       "      <td>-1.21246</td>\n",
       "      <td>2pg_s --&gt; -2.54380061324535e-6*sigma BSU33900-...</td>\n",
       "    </tr>\n",
       "    <tr>\n",
       "      <th>2PGt6_REV_CPLX_dummy_s</th>\n",
       "      <td>0</td>\n",
       "      <td>0</td>\n",
       "      <td>0</td>\n",
       "      <td>-0</td>\n",
       "      <td>2pg_s + h_s --&gt; 2pg_c + -4.27350427350427e-6*s...</td>\n",
       "    </tr>\n",
       "    <tr>\n",
       "      <th>PGM_FWD_BSU33910-MONOMER_mod_mn2_s</th>\n",
       "      <td>0</td>\n",
       "      <td>999999</td>\n",
       "      <td>0</td>\n",
       "      <td>-0</td>\n",
       "      <td>2pg_s --&gt; 3pg_s + -2.20620421261451e-6*sigma B...</td>\n",
       "    </tr>\n",
       "    <tr>\n",
       "      <th>ENO_REV_BSU33900-MONOMER_s</th>\n",
       "      <td>0</td>\n",
       "      <td>999999</td>\n",
       "      <td>0</td>\n",
       "      <td>0</td>\n",
       "      <td>h2o_s + pep_s --&gt; 2pg_s + -2.54380061324535e-6...</td>\n",
       "    </tr>\n",
       "    <tr>\n",
       "      <th>2PGt6_FWD_CPLX_dummy_s</th>\n",
       "      <td>0</td>\n",
       "      <td>0</td>\n",
       "      <td>0</td>\n",
       "      <td>0</td>\n",
       "      <td>2pg_c + h_c --&gt; 2pg_s + -4.27350427350427e-6*s...</td>\n",
       "    </tr>\n",
       "  </tbody>\n",
       "</table>\n",
       "</div>"
      ],
      "text/plain": [
       "                                   lb      ub rxn_flux met_flux  \\\n",
       "PGM_REV_BSU33910-MONOMER_mod_mn2_s  0  999999  1.21246  1.21246   \n",
       "ENO_FWD_BSU33900-MONOMER_s          0  999999  1.21246 -1.21246   \n",
       "2PGt6_REV_CPLX_dummy_s              0       0        0       -0   \n",
       "PGM_FWD_BSU33910-MONOMER_mod_mn2_s  0  999999        0       -0   \n",
       "ENO_REV_BSU33900-MONOMER_s          0  999999        0        0   \n",
       "2PGt6_FWD_CPLX_dummy_s              0       0        0        0   \n",
       "\n",
       "                                                                             reaction  \n",
       "PGM_REV_BSU33910-MONOMER_mod_mn2_s  3pg_s --> 2pg_s + -2.20620421261451e-6*sigma B...  \n",
       "ENO_FWD_BSU33900-MONOMER_s          2pg_s --> -2.54380061324535e-6*sigma BSU33900-...  \n",
       "2PGt6_REV_CPLX_dummy_s              2pg_s + h_s --> 2pg_c + -4.27350427350427e-6*s...  \n",
       "PGM_FWD_BSU33910-MONOMER_mod_mn2_s  2pg_s --> 3pg_s + -2.20620421261451e-6*sigma B...  \n",
       "ENO_REV_BSU33900-MONOMER_s          h2o_s + pep_s --> 2pg_s + -2.54380061324535e-6...  \n",
       "2PGt6_FWD_CPLX_dummy_s              2pg_c + h_c --> 2pg_s + -4.27350427350427e-6*s...  "
      ]
     },
     "execution_count": 56,
     "metadata": {},
     "output_type": "execute_result"
    }
   ],
   "source": [
    "flux_based_reactions(sporeme,'2pg_s',flux_dict=flux_results_df[last_met].to_dict(), only_types=['MetabolicReaction']).head(10)"
   ]
  },
  {
   "cell_type": "code",
   "execution_count": 57,
   "metadata": {},
   "outputs": [
    {
     "data": {
      "text/html": [
       "<div>\n",
       "<style scoped>\n",
       "    .dataframe tbody tr th:only-of-type {\n",
       "        vertical-align: middle;\n",
       "    }\n",
       "\n",
       "    .dataframe tbody tr th {\n",
       "        vertical-align: top;\n",
       "    }\n",
       "\n",
       "    .dataframe thead th {\n",
       "        text-align: right;\n",
       "    }\n",
       "</style>\n",
       "<table border=\"1\" class=\"dataframe\">\n",
       "  <thead>\n",
       "    <tr style=\"text-align: right;\">\n",
       "      <th></th>\n",
       "      <th>lb</th>\n",
       "      <th>ub</th>\n",
       "      <th>rxn_flux</th>\n",
       "      <th>met_flux</th>\n",
       "      <th>reaction</th>\n",
       "    </tr>\n",
       "  </thead>\n",
       "  <tbody>\n",
       "    <tr>\n",
       "      <th>ACKr_FWD_BSU29470-MONOMER</th>\n",
       "      <td>0</td>\n",
       "      <td>999999</td>\n",
       "      <td>27.0029</td>\n",
       "      <td>-27.0029</td>\n",
       "      <td>ac_c + atp_c --&gt; -4.27350427350427e-6*sigma BS...</td>\n",
       "    </tr>\n",
       "    <tr>\n",
       "      <th>ACt2r_REV_BSU38240-MONOMER_s</th>\n",
       "      <td>0</td>\n",
       "      <td>999999</td>\n",
       "      <td>26.9916</td>\n",
       "      <td>26.9916</td>\n",
       "      <td>ac_s + h_s --&gt; -7.16763618336694e-5*sigma BSU3...</td>\n",
       "    </tr>\n",
       "    <tr>\n",
       "      <th>ADPDA_FWD_CPLX8J2-147</th>\n",
       "      <td>0</td>\n",
       "      <td>999999</td>\n",
       "      <td>0.0113611</td>\n",
       "      <td>0.0113611</td>\n",
       "      <td>26dapime_c + h2o_c --&gt; 26dap_LL_c + -4.2735042...</td>\n",
       "    </tr>\n",
       "    <tr>\n",
       "      <th>SLCYSS_FWD_BSU00730-MONOMER_mod_2:pydx5p</th>\n",
       "      <td>0</td>\n",
       "      <td>999999</td>\n",
       "      <td>0</td>\n",
       "      <td>0</td>\n",
       "      <td>acser_c + tsul_c --&gt; -4.27350427350427e-6*sigm...</td>\n",
       "    </tr>\n",
       "    <tr>\n",
       "      <th>CYSS_2_FWD_BSU00730-MONOMER_mod_2:pydx5p</th>\n",
       "      <td>0</td>\n",
       "      <td>999999</td>\n",
       "      <td>0</td>\n",
       "      <td>0</td>\n",
       "      <td>acser_c + h2s_c --&gt; -8.58171771088816e-6*sigma...</td>\n",
       "    </tr>\n",
       "    <tr>\n",
       "      <th>SLCYSS_FWD_BSU11870-MONOMER</th>\n",
       "      <td>0</td>\n",
       "      <td>999999</td>\n",
       "      <td>0</td>\n",
       "      <td>0</td>\n",
       "      <td>acser_c + tsul_c --&gt; -1.21283586630798e-5*sigm...</td>\n",
       "    </tr>\n",
       "    <tr>\n",
       "      <th>AHSERL3_REV_BSU00730-MONOMER_mod_2:pydx5p</th>\n",
       "      <td>0</td>\n",
       "      <td>999999</td>\n",
       "      <td>0</td>\n",
       "      <td>-0</td>\n",
       "      <td>ac_c + scys__L_c --&gt; -4.27350427350427e-6*sigm...</td>\n",
       "    </tr>\n",
       "    <tr>\n",
       "      <th>AHSERL3_FWD_BSU00730-MONOMER_mod_2:pydx5p</th>\n",
       "      <td>0</td>\n",
       "      <td>999999</td>\n",
       "      <td>0</td>\n",
       "      <td>0</td>\n",
       "      <td>acser_c + seln_c --&gt; -4.27350427350427e-6*sigm...</td>\n",
       "    </tr>\n",
       "    <tr>\n",
       "      <th>ACt2r_REV_BSU38240-MONOMER</th>\n",
       "      <td>0</td>\n",
       "      <td>999999</td>\n",
       "      <td>0</td>\n",
       "      <td>-0</td>\n",
       "      <td>ac_c + h_c --&gt; -7.16763618336694e-5*sigma BSU3...</td>\n",
       "    </tr>\n",
       "    <tr>\n",
       "      <th>ADPDA_REV_BSU14190-MONOMER</th>\n",
       "      <td>0</td>\n",
       "      <td>999999</td>\n",
       "      <td>0</td>\n",
       "      <td>-0</td>\n",
       "      <td>26dap_LL_c + ac_c --&gt; 26dapime_c + -1.21623195...</td>\n",
       "    </tr>\n",
       "  </tbody>\n",
       "</table>\n",
       "</div>"
      ],
      "text/plain": [
       "                                          lb      ub   rxn_flux   met_flux  \\\n",
       "ACKr_FWD_BSU29470-MONOMER                  0  999999    27.0029   -27.0029   \n",
       "ACt2r_REV_BSU38240-MONOMER_s               0  999999    26.9916    26.9916   \n",
       "ADPDA_FWD_CPLX8J2-147                      0  999999  0.0113611  0.0113611   \n",
       "SLCYSS_FWD_BSU00730-MONOMER_mod_2:pydx5p   0  999999          0          0   \n",
       "CYSS_2_FWD_BSU00730-MONOMER_mod_2:pydx5p   0  999999          0          0   \n",
       "SLCYSS_FWD_BSU11870-MONOMER                0  999999          0          0   \n",
       "AHSERL3_REV_BSU00730-MONOMER_mod_2:pydx5p  0  999999          0         -0   \n",
       "AHSERL3_FWD_BSU00730-MONOMER_mod_2:pydx5p  0  999999          0          0   \n",
       "ACt2r_REV_BSU38240-MONOMER                 0  999999          0         -0   \n",
       "ADPDA_REV_BSU14190-MONOMER                 0  999999          0         -0   \n",
       "\n",
       "                                                                                    reaction  \n",
       "ACKr_FWD_BSU29470-MONOMER                  ac_c + atp_c --> -4.27350427350427e-6*sigma BS...  \n",
       "ACt2r_REV_BSU38240-MONOMER_s               ac_s + h_s --> -7.16763618336694e-5*sigma BSU3...  \n",
       "ADPDA_FWD_CPLX8J2-147                      26dapime_c + h2o_c --> 26dap_LL_c + -4.2735042...  \n",
       "SLCYSS_FWD_BSU00730-MONOMER_mod_2:pydx5p   acser_c + tsul_c --> -4.27350427350427e-6*sigm...  \n",
       "CYSS_2_FWD_BSU00730-MONOMER_mod_2:pydx5p   acser_c + h2s_c --> -8.58171771088816e-6*sigma...  \n",
       "SLCYSS_FWD_BSU11870-MONOMER                acser_c + tsul_c --> -1.21283586630798e-5*sigm...  \n",
       "AHSERL3_REV_BSU00730-MONOMER_mod_2:pydx5p  ac_c + scys__L_c --> -4.27350427350427e-6*sigm...  \n",
       "AHSERL3_FWD_BSU00730-MONOMER_mod_2:pydx5p  acser_c + seln_c --> -4.27350427350427e-6*sigm...  \n",
       "ACt2r_REV_BSU38240-MONOMER                 ac_c + h_c --> -7.16763618336694e-5*sigma BSU3...  \n",
       "ADPDA_REV_BSU14190-MONOMER                 26dap_LL_c + ac_c --> 26dapime_c + -1.21623195...  "
      ]
     },
     "execution_count": 57,
     "metadata": {},
     "output_type": "execute_result"
    }
   ],
   "source": [
    "flux_based_reactions(sporeme,'ac_c',flux_dict=flux_results_df[last_met].to_dict(), only_types=['MetabolicReaction']).head(10)"
   ]
  },
  {
   "cell_type": "code",
   "execution_count": 120,
   "metadata": {},
   "outputs": [
    {
     "data": {
      "text/plain": [
       "'ac_c + atp_c <=> -4.27350427350427e-6*sigma BSU29470-MONOMER + actp_c + adp_c'"
      ]
     },
     "execution_count": 120,
     "metadata": {},
     "output_type": "execute_result"
    }
   ],
   "source": [
    "sporeme.reactions.get_by_id('ACKr_FWD_BSU29470-MONOMER').reaction"
   ]
  },
  {
   "cell_type": "markdown",
   "metadata": {},
   "source": [
    "#### Essential mets"
   ]
  },
  {
   "cell_type": "code",
   "execution_count": 145,
   "metadata": {
    "scrolled": true
   },
   "outputs": [],
   "source": [
    "with open(\"./sporeme_solution_v2.pickle\", \"rb\") as outfile:\n",
    "    sporeme = pickle.load(outfile)"
   ]
  },
  {
   "cell_type": "code",
   "execution_count": 146,
   "metadata": {},
   "outputs": [
    {
     "name": "stdout",
     "output_type": "stream",
     "text": [
      "Essential metabolites: ['ac_c', 'lac__L_c', 'lys__L_s', 'cmp_s', 'adn_c', '3amp_s', 'asp__L_s', 'leu__L_s', '6pgc_s', 'thr__L_s', 'gsn_c', '3pg_c', 'gly_s', 'his__L_s', 'gam6p_s', 'amp_s', 'met__L_s', 'akg_s', 'arg__L_s', 'succ_c', 'zn2_s', 'pyr_s', 'asn__L_s', 'mn2_s', 'acac_s', 'k_s', 'gmp_s', 'chor_s', 'phe__L_c', 'pep_c', 'mg2_s']\n"
     ]
    }
   ],
   "source": [
    "flux_results_df = pd.read_csv('group_1by1_KO_flux_results_v2.csv',index_col=0)\n",
    "sorted_mets = flux_results_df.loc['biomass_dilution_s'].sort_values(ascending=True).index.to_list()\n",
    "essential_mets = sorted_mets[:sorted_mets.index('dtmp_s')]\n",
    "print('Essential metabolites: {}'.format(essential_mets))"
   ]
  },
  {
   "cell_type": "code",
   "execution_count": 147,
   "metadata": {},
   "outputs": [],
   "source": [
    "flux_results_df = pd.read_csv('group_1by1_KO_flux_results_v2.csv',index_col=0)\n",
    "sorted_mets = flux_results_df.loc['biomass_dilution_s'].sort_values(ascending=True).index.to_list()"
   ]
  },
  {
   "cell_type": "code",
   "execution_count": 148,
   "metadata": {},
   "outputs": [],
   "source": [
    "essential_transporters = []\n",
    "for met in essential_mets:\n",
    "    [essential_transporters.append(i) for i in at_dict[met]]"
   ]
  },
  {
   "cell_type": "code",
   "execution_count": 149,
   "metadata": {},
   "outputs": [
    {
     "name": "stdout",
     "output_type": "stream",
     "text": [
      "81 essential open transporters\n"
     ]
    }
   ],
   "source": [
    "print('{} essential open transporters'.format(len(essential_transporters)))"
   ]
  },
  {
   "cell_type": "code",
   "execution_count": 150,
   "metadata": {},
   "outputs": [],
   "source": [
    "for r in transport_reactions:\n",
    "    if r not in essential_transporters and 'SPONT' not in r:\n",
    "        rxn = sporeme.reactions.get_by_id(r)\n",
    "        rxn.upper_bound = 0 \n",
    "        rxn.lower_bound = 0"
   ]
  },
  {
   "cell_type": "code",
   "execution_count": 151,
   "metadata": {
    "scrolled": true
   },
   "outputs": [
    {
     "name": "stdout",
     "output_type": "stream",
     "text": [
      "iter\tmuopt    \ta     \tb     \tmu1       \tstat1\n",
      "Finished compiling expressions in 442.978929 seconds\n",
      "Finished substituting S,lb,ub in 12.093062 seconds\n",
      "Finished makeME_LP in 2.242694 seconds\n",
      "Getting MINOS parameters from ME_NLP...\n",
      "1 0.0 0.0 0.075 0.075 1\n",
      "Finished substituting S,lb,ub in 12.084176 seconds\n",
      "Finished makeME_LP in 2.243949 seconds\n",
      "Getting MINOS parameters from ME_NLP...\n",
      "2 0.0375 0.0375 0.075 0.0375 optimal\n",
      "Finished substituting S,lb,ub in 12.043799 seconds\n",
      "Finished makeME_LP in 2.225168 seconds\n",
      "Getting MINOS parameters from ME_NLP...\n",
      "3 0.056249999999999994 0.056249999999999994 0.075 0.056249999999999994 optimal\n",
      "Finished substituting S,lb,ub in 12.053120 seconds\n",
      "Finished makeME_LP in 2.219285 seconds\n",
      "Getting MINOS parameters from ME_NLP...\n",
      "4 0.056249999999999994 0.056249999999999994 0.06562499999999999 0.06562499999999999 1\n",
      "Finished substituting S,lb,ub in 11.698097 seconds\n",
      "Finished makeME_LP in 2.238744 seconds\n",
      "Getting MINOS parameters from ME_NLP...\n",
      "5 0.056249999999999994 0.056249999999999994 0.06093749999999999 0.06093749999999999 1\n",
      "Finished substituting S,lb,ub in 11.663429 seconds\n",
      "Finished makeME_LP in 2.230734 seconds\n",
      "Getting MINOS parameters from ME_NLP...\n",
      "6 0.056249999999999994 0.056249999999999994 0.05859374999999999 0.05859374999999999 1\n",
      "Finished substituting S,lb,ub in 11.759300 seconds\n",
      "Finished makeME_LP in 2.222314 seconds\n",
      "Getting MINOS parameters from ME_NLP...\n",
      "7 0.057421875 0.057421875 0.05859374999999999 0.057421875 optimal\n",
      "Finished substituting S,lb,ub in 11.740243 seconds\n",
      "Finished makeME_LP in 2.219337 seconds\n",
      "Getting MINOS parameters from ME_NLP...\n",
      "8 0.057421875 0.057421875 0.05800781249999999 0.05800781249999999 1\n",
      "Finished substituting S,lb,ub in 11.472810 seconds\n",
      "Finished makeME_LP in 2.326112 seconds\n",
      "Getting MINOS parameters from ME_NLP...\n",
      "9 0.057714843749999994 0.057714843749999994 0.05800781249999999 0.057714843749999994 optimal\n",
      "Finished substituting S,lb,ub in 11.509472 seconds\n",
      "Finished makeME_LP in 2.211310 seconds\n",
      "Getting MINOS parameters from ME_NLP...\n",
      "10 0.057714843749999994 0.057714843749999994 0.05786132812499999 0.05786132812499999 1\n",
      "Finished substituting S,lb,ub in 11.475029 seconds\n",
      "Finished makeME_LP in 2.219228 seconds\n",
      "Getting MINOS parameters from ME_NLP...\n",
      "11 0.0577880859375 0.0577880859375 0.05786132812499999 0.0577880859375 optimal\n",
      "Finished substituting S,lb,ub in 11.550666 seconds\n",
      "Finished makeME_LP in 2.223290 seconds\n",
      "Getting MINOS parameters from ME_NLP...\n",
      "12 0.0577880859375 0.0577880859375 0.05782470703124999 0.05782470703124999 1\n",
      "Finished substituting S,lb,ub in 11.561195 seconds\n",
      "Finished makeME_LP in 2.217983 seconds\n",
      "Getting MINOS parameters from ME_NLP...\n",
      "13 0.057806396484374994 0.057806396484374994 0.05782470703124999 0.057806396484374994 optimal\n",
      "Finished substituting S,lb,ub in 11.407398 seconds\n",
      "Finished makeME_LP in 2.241959 seconds\n",
      "Getting MINOS parameters from ME_NLP...\n",
      "14 0.057806396484374994 0.057806396484374994 0.05781555175781249 0.05781555175781249 1\n",
      "Finished substituting S,lb,ub in 11.433030 seconds\n",
      "Finished makeME_LP in 2.220590 seconds\n",
      "Getting MINOS parameters from ME_NLP...\n",
      "15 0.05781097412109375 0.05781097412109375 0.05781555175781249 0.05781097412109375 optimal\n",
      "Finished substituting S,lb,ub in 11.572433 seconds\n",
      "Finished makeME_LP in 2.209970 seconds\n",
      "Getting MINOS parameters from ME_NLP...\n",
      "16 0.05781097412109375 0.05781097412109375 0.05781326293945312 0.05781326293945312 1\n",
      "Finished substituting S,lb,ub in 11.474451 seconds\n",
      "Finished makeME_LP in 2.221476 seconds\n",
      "Getting MINOS parameters from ME_NLP...\n",
      "17 0.05781211853027343 0.05781211853027343 0.05781326293945312 0.05781211853027343 optimal\n",
      "Finished substituting S,lb,ub in 11.519557 seconds\n",
      "Finished makeME_LP in 2.231236 seconds\n",
      "Getting MINOS parameters from ME_NLP...\n",
      "18 0.05781211853027343 0.05781211853027343 0.057812690734863274 0.057812690734863274 1\n",
      "Bisection done in 1211.55 seconds\n"
     ]
    }
   ],
   "source": [
    "solve_me_model(sporeme, max_mu = 0.15, min_mu = .05, using_soplex=False, precision = 1e-6,growth_key = 'sigma')"
   ]
  },
  {
   "cell_type": "code",
   "execution_count": 152,
   "metadata": {
    "scrolled": true
   },
   "outputs": [
    {
     "name": "stdout",
     "output_type": "stream",
     "text": [
      "Chosen change function: group_knockout      Sequential = False\n"
     ]
    },
    {
     "name": "stderr",
     "output_type": "stream",
     "text": [
      "biomass_dilution_s response (20 threads): 100%|██████████| 31/31 [2:34:22<00:00, 504.14s/it]   "
     ]
    }
   ],
   "source": [
    "from bacillusme.analysis import sensitivity as ss\n",
    "flux_results_df = ss.transporter_knockout(sporeme,essential_mets, \\\n",
    "                                        NP=20,solution=1,biomass_dilution='biomass_dilution_s',\\\n",
    "                                        growth_key = 'sigma',single_change_function='group_knockout')\n",
    "flux_results_df.to_csv('essential_metabolite_group_KO_v2.csv')"
   ]
  },
  {
   "cell_type": "code",
   "execution_count": 153,
   "metadata": {},
   "outputs": [
    {
     "data": {
      "image/png": "[encoded data removed]",
      "text/plain": [
       "<Figure size 1080x288 with 1 Axes>"
      ]
     },
     "metadata": {
      "needs_background": "light"
     },
     "output_type": "display_data"
    }
   ],
   "source": [
    "flux_results_df = pd.read_csv('essential_metabolite_group_KO_v2.csv',index_col=0)\n",
    "flux_results_df.loc['biomass_dilution_s'].plot.bar(figsize=(15,4))\n",
    "plt.tight_layout()\n",
    "plt.savefig(\"essential_metabolite_group_KO_v2.svg\", format=\"SVG\")"
   ]
  },
  {
   "cell_type": "code",
   "execution_count": null,
   "metadata": {
    "scrolled": true
   },
   "outputs": [
    {
     "name": "stdout",
     "output_type": "stream",
     "text": [
      "Chosen change function: transporter      Sequential = False\n"
     ]
    },
    {
     "name": "stderr",
     "output_type": "stream",
     "text": [
      "biomass_dilution_s response (20 threads):  14%|█▎        | 11/81 [38:05<1:36:28, 82.69s/it]  "
     ]
    }
   ],
   "source": [
    "from bacillusme.analysis import sensitivity as ss\n",
    "flux_results_df = ss.transporter_knockout(sporeme,essential_transporters, \\\n",
    "                                        NP=20,solution=1,biomass_dilution='biomass_dilution_s',\\\n",
    "                                        growth_key = 'sigma')\n",
    "flux_results_df.to_csv('essential_transporter_KO_v2.csv')"
   ]
  },
  {
   "cell_type": "code",
   "execution_count": null,
   "metadata": {},
   "outputs": [],
   "source": [
    "flux_results_df = pd.read_csv('essential_transporter_KO_v2.csv',index_col=0)\n",
    "flux_results_df.loc['biomass_dilution_s'].plot.bar(figsize=(15,4))"
   ]
  },
  {
   "cell_type": "code",
   "execution_count": null,
   "metadata": {},
   "outputs": [],
   "source": [
    "flux_results_df.loc['biomass_dilution_s',at_dict['arg__L_s']+at_dict['met__L_c']].plot.bar()"
   ]
  },
  {
   "cell_type": "code",
   "execution_count": 74,
   "metadata": {},
   "outputs": [
    {
     "name": "stdout",
     "output_type": "stream",
     "text": [
      "arg__L_c + h_c <=> -7.42684631202334e-5*sigma BSU37760-MONOMER_s + arg__L_s + h_s\n",
      "arg__L_c + h_c <=> -4.27350427350427e-6*sigma BSU33330-MONOMER_s + arg__L_s + h_s\n",
      "arg__L_c + atp_s + h2o_s <=> -4.27350427350427e-6*sigma CPLX000-9_s + adp_s + arg__L_s + h_s + pi_s\n",
      "arg__L_c + h_c <=> -4.27350427350427e-6*sigma BSU40330-MONOMER_s + arg__L_s + h_s\n"
     ]
    }
   ],
   "source": [
    "for r in at_dict['arg__L_s']:\n",
    "    rxn = sporeme.reactions.get_by_id(r)\n",
    "    print(rxn.reaction)"
   ]
  },
  {
   "cell_type": "markdown",
   "metadata": {},
   "source": [
    "### Network visualization"
   ]
  },
  {
   "cell_type": "code",
   "execution_count": null,
   "metadata": {},
   "outputs": [],
   "source": [
    "import itertools\n",
    "import networkx as nx"
   ]
  },
  {
   "cell_type": "code",
   "execution_count": null,
   "metadata": {},
   "outputs": [],
   "source": [
    "flux_results_df = pd.read_csv('essential_transporter_KO_v2.csv',index_col=0)"
   ]
  },
  {
   "cell_type": "code",
   "execution_count": null,
   "metadata": {},
   "outputs": [],
   "source": [
    "flux_results_df.drop('base',axis=1)"
   ]
  },
  {
   "cell_type": "code",
   "execution_count": null,
   "metadata": {},
   "outputs": [],
   "source": [
    "G = nx.Graph()\n",
    "\n",
    "for r in flux_results_df.drop('base',axis=1).columns:\n",
    "    rxn = sporeme.reactions.get_by_id(r)\n",
    "    mets = list(set([m.id[:-2] for m in rxn.metabolites if isinstance(m,cobrame.Metabolite)]))\n",
    "    combinations = list(itertools.combinations(mets, 2))\n",
    "    \n",
    "    for m in mets:\n",
    "        G.add_node(m,node_size=1000)\n",
    "    \n",
    "    for c in combinations:\n",
    "        G.add_edge(c[0],c[1])"
   ]
  },
  {
   "cell_type": "code",
   "execution_count": null,
   "metadata": {},
   "outputs": [],
   "source": [
    "print(\"Nodes of graph: \")\n",
    "print(G.nodes())\n",
    "print(\"Edges of graph: \")\n",
    "print(G.edges())"
   ]
  },
  {
   "cell_type": "code",
   "execution_count": null,
   "metadata": {},
   "outputs": [],
   "source": [
    "G.remove_node('cbl1')"
   ]
  },
  {
   "cell_type": "code",
   "execution_count": null,
   "metadata": {},
   "outputs": [],
   "source": [
    "d = dict(G.degree)\n",
    "\n",
    "pos = nx.spring_layout(G)\n",
    "plt.figure(figsize=(13,8))\n",
    "nx.draw(G,pos=pos, nodelist=d.keys(), node_size=[v * 100 for v in d.values()],alpha=0.8)\n",
    "\n",
    "for label in pos.keys():\n",
    "    x,y = pos[label]\n",
    "    plt.text(x,y+0.09,s=label,horizontalalignment='center')\n",
    "\n",
    "plt.draw()\n",
    "plt.savefig(\"transport_graph.svg\", format=\"SVG\")"
   ]
  },
  {
   "cell_type": "markdown",
   "metadata": {},
   "source": [
    "#### Cases"
   ]
  },
  {
   "cell_type": "code",
   "execution_count": 58,
   "metadata": {},
   "outputs": [],
   "source": [
    "flux_results_df = pd.read_csv('group_1by1_KO_flux_results.csv',index_col=0)\n",
    "flux_dict = flux_results_df['his__L_s'].to_dict() # Last time before model breaks"
   ]
  },
  {
   "cell_type": "code",
   "execution_count": 59,
   "metadata": {},
   "outputs": [
    {
     "data": {
      "text/plain": [
       "0.046609332278877834"
      ]
     },
     "execution_count": 59,
     "metadata": {},
     "output_type": "execute_result"
    }
   ],
   "source": [
    "flux_dict['biomass_dilution']"
   ]
  },
  {
   "cell_type": "code",
   "execution_count": 60,
   "metadata": {},
   "outputs": [
    {
     "data": {
      "text/html": [
       "<div>\n",
       "<style scoped>\n",
       "    .dataframe tbody tr th:only-of-type {\n",
       "        vertical-align: middle;\n",
       "    }\n",
       "\n",
       "    .dataframe tbody tr th {\n",
       "        vertical-align: top;\n",
       "    }\n",
       "\n",
       "    .dataframe thead th {\n",
       "        text-align: right;\n",
       "    }\n",
       "</style>\n",
       "<table border=\"1\" class=\"dataframe\">\n",
       "  <thead>\n",
       "    <tr style=\"text-align: right;\">\n",
       "      <th></th>\n",
       "      <th>lb</th>\n",
       "      <th>ub</th>\n",
       "      <th>rxn_flux</th>\n",
       "      <th>met_flux</th>\n",
       "      <th>reaction</th>\n",
       "    </tr>\n",
       "  </thead>\n",
       "  <tbody>\n",
       "    <tr>\n",
       "      <th>ATPS4r_FWD_CPLX000-10_s</th>\n",
       "      <td>0</td>\n",
       "      <td>0</td>\n",
       "      <td>23.0471</td>\n",
       "      <td>23.0471</td>\n",
       "      <td>adp_s + 4.0 h_c + pi_s --&gt; -4.27350427350427e-...</td>\n",
       "    </tr>\n",
       "    <tr>\n",
       "      <th>NDPK1_FWD_BSU22730-MONOMER_mod_mn2_s</th>\n",
       "      <td>0</td>\n",
       "      <td>999999</td>\n",
       "      <td>0.973197</td>\n",
       "      <td>-0.973197</td>\n",
       "      <td>atp_s + gdp_s --&gt; -4.27350427350427e-6*sigma B...</td>\n",
       "    </tr>\n",
       "    <tr>\n",
       "      <th>PYK_FWD_BSU29180-MONOMER_mod_mn2_mod_k_s</th>\n",
       "      <td>0</td>\n",
       "      <td>999999</td>\n",
       "      <td>0.82865</td>\n",
       "      <td>0.82865</td>\n",
       "      <td>adp_s + h_s + pep_s --&gt; -7.24069444255906e-7*s...</td>\n",
       "    </tr>\n",
       "    <tr>\n",
       "      <th>ADK1_FWD_BSU01370-MONOMER_mod_mg2_s</th>\n",
       "      <td>0</td>\n",
       "      <td>999999</td>\n",
       "      <td>0.582517</td>\n",
       "      <td>-0.582517</td>\n",
       "      <td>amp_s + atp_s --&gt; -4.27350427350427e-6*sigma B...</td>\n",
       "    </tr>\n",
       "    <tr>\n",
       "      <th>ACCOAC_FWD_CPLX000-1_s</th>\n",
       "      <td>0</td>\n",
       "      <td>999999</td>\n",
       "      <td>0.168744</td>\n",
       "      <td>-0.168744</td>\n",
       "      <td>accoa_s + atp_s + hco3_s --&gt; -4.27350427350427...</td>\n",
       "    </tr>\n",
       "    <tr>\n",
       "      <th>...</th>\n",
       "      <td>...</td>\n",
       "      <td>...</td>\n",
       "      <td>...</td>\n",
       "      <td>...</td>\n",
       "      <td>...</td>\n",
       "    </tr>\n",
       "    <tr>\n",
       "      <th>LAAL20_FWD_BSU37710-MONOMER_s</th>\n",
       "      <td>0</td>\n",
       "      <td>999999</td>\n",
       "      <td>0</td>\n",
       "      <td>-0</td>\n",
       "      <td>ala__L_s + atp_s + met__L_s --&gt; -4.27350427350...</td>\n",
       "    </tr>\n",
       "    <tr>\n",
       "      <th>LAAL21_FWD_BSU37710-MONOMER_s</th>\n",
       "      <td>0</td>\n",
       "      <td>999999</td>\n",
       "      <td>0</td>\n",
       "      <td>-0</td>\n",
       "      <td>atp_s + met__L_s + ser__L_s --&gt; -4.27350427350...</td>\n",
       "    </tr>\n",
       "    <tr>\n",
       "      <th>LAAL22_FWD_BSU37710-MONOMER_s</th>\n",
       "      <td>0</td>\n",
       "      <td>999999</td>\n",
       "      <td>0</td>\n",
       "      <td>-0</td>\n",
       "      <td>atp_s + met__L_s + thr__L_s --&gt; -4.27350427350...</td>\n",
       "    </tr>\n",
       "    <tr>\n",
       "      <th>LAAL23_FWD_BSU37710-MONOMER_s</th>\n",
       "      <td>0</td>\n",
       "      <td>999999</td>\n",
       "      <td>0</td>\n",
       "      <td>-0</td>\n",
       "      <td>atp_s + 2.0 met__L_s --&gt; -4.27350427350427e-6*...</td>\n",
       "    </tr>\n",
       "    <tr>\n",
       "      <th>LAAL32_FWD_BSU37710-MONOMER_s</th>\n",
       "      <td>0</td>\n",
       "      <td>999999</td>\n",
       "      <td>0</td>\n",
       "      <td>-0</td>\n",
       "      <td>atp_s + met__L_s + tyr__L_s --&gt; -4.27350427350...</td>\n",
       "    </tr>\n",
       "  </tbody>\n",
       "</table>\n",
       "<p>418 rows × 5 columns</p>\n",
       "</div>"
      ],
      "text/plain": [
       "                                         lb      ub  rxn_flux  met_flux  \\\n",
       "ATPS4r_FWD_CPLX000-10_s                   0       0   23.0471   23.0471   \n",
       "NDPK1_FWD_BSU22730-MONOMER_mod_mn2_s      0  999999  0.973197 -0.973197   \n",
       "PYK_FWD_BSU29180-MONOMER_mod_mn2_mod_k_s  0  999999   0.82865   0.82865   \n",
       "ADK1_FWD_BSU01370-MONOMER_mod_mg2_s       0  999999  0.582517 -0.582517   \n",
       "ACCOAC_FWD_CPLX000-1_s                    0  999999  0.168744 -0.168744   \n",
       "...                                      ..     ...       ...       ...   \n",
       "LAAL20_FWD_BSU37710-MONOMER_s             0  999999         0        -0   \n",
       "LAAL21_FWD_BSU37710-MONOMER_s             0  999999         0        -0   \n",
       "LAAL22_FWD_BSU37710-MONOMER_s             0  999999         0        -0   \n",
       "LAAL23_FWD_BSU37710-MONOMER_s             0  999999         0        -0   \n",
       "LAAL32_FWD_BSU37710-MONOMER_s             0  999999         0        -0   \n",
       "\n",
       "                                                                                   reaction  \n",
       "ATPS4r_FWD_CPLX000-10_s                   adp_s + 4.0 h_c + pi_s --> -4.27350427350427e-...  \n",
       "NDPK1_FWD_BSU22730-MONOMER_mod_mn2_s      atp_s + gdp_s --> -4.27350427350427e-6*sigma B...  \n",
       "PYK_FWD_BSU29180-MONOMER_mod_mn2_mod_k_s  adp_s + h_s + pep_s --> -7.24069444255906e-7*s...  \n",
       "ADK1_FWD_BSU01370-MONOMER_mod_mg2_s       amp_s + atp_s --> -4.27350427350427e-6*sigma B...  \n",
       "ACCOAC_FWD_CPLX000-1_s                    accoa_s + atp_s + hco3_s --> -4.27350427350427...  \n",
       "...                                                                                     ...  \n",
       "LAAL20_FWD_BSU37710-MONOMER_s             ala__L_s + atp_s + met__L_s --> -4.27350427350...  \n",
       "LAAL21_FWD_BSU37710-MONOMER_s             atp_s + met__L_s + ser__L_s --> -4.27350427350...  \n",
       "LAAL22_FWD_BSU37710-MONOMER_s             atp_s + met__L_s + thr__L_s --> -4.27350427350...  \n",
       "LAAL23_FWD_BSU37710-MONOMER_s             atp_s + 2.0 met__L_s --> -4.27350427350427e-6*...  \n",
       "LAAL32_FWD_BSU37710-MONOMER_s             atp_s + met__L_s + tyr__L_s --> -4.27350427350...  \n",
       "\n",
       "[418 rows x 5 columns]"
      ]
     },
     "execution_count": 60,
     "metadata": {},
     "output_type": "execute_result"
    }
   ],
   "source": [
    "met='atp_s' # ATP production and glucose uptake\n",
    "flux_based_reactions(sporeme,met,flux_dict=flux_dict,only_types=['MetabolicReaction'])"
   ]
  },
  {
   "cell_type": "code",
   "execution_count": 17,
   "metadata": {},
   "outputs": [
    {
     "data": {
      "text/html": [
       "<div>\n",
       "<style scoped>\n",
       "    .dataframe tbody tr th:only-of-type {\n",
       "        vertical-align: middle;\n",
       "    }\n",
       "\n",
       "    .dataframe tbody tr th {\n",
       "        vertical-align: top;\n",
       "    }\n",
       "\n",
       "    .dataframe thead th {\n",
       "        text-align: right;\n",
       "    }\n",
       "</style>\n",
       "<table border=\"1\" class=\"dataframe\">\n",
       "  <thead>\n",
       "    <tr style=\"text-align: right;\">\n",
       "      <th></th>\n",
       "      <th>lb</th>\n",
       "      <th>ub</th>\n",
       "      <th>rxn_flux</th>\n",
       "      <th>met_flux</th>\n",
       "      <th>reaction</th>\n",
       "    </tr>\n",
       "  </thead>\n",
       "  <tbody>\n",
       "    <tr>\n",
       "      <th>3AMPt6_FWD_CPLX_dummy_s</th>\n",
       "      <td>0</td>\n",
       "      <td>999999</td>\n",
       "      <td>179.642</td>\n",
       "      <td>-179.642</td>\n",
       "      <td>3amp_c + h_c &lt;=&gt; 3amp_s + -4.27350427350427e-6...</td>\n",
       "    </tr>\n",
       "    <tr>\n",
       "      <th>ADNt2_REV_BSU38710-MONOMER_s</th>\n",
       "      <td>0</td>\n",
       "      <td>999999</td>\n",
       "      <td>179.636</td>\n",
       "      <td>179.636</td>\n",
       "      <td>adn_s + h_s &lt;=&gt; -4.27350427350427e-6*sigma BSU...</td>\n",
       "    </tr>\n",
       "    <tr>\n",
       "      <th>MAN6Pt6_REV_BSU10520-MONOMER_s</th>\n",
       "      <td>0</td>\n",
       "      <td>999999</td>\n",
       "      <td>92.505</td>\n",
       "      <td>92.505</td>\n",
       "      <td>h_s + man6p_s &lt;=&gt; -4.27350427350427e-6*sigma B...</td>\n",
       "    </tr>\n",
       "    <tr>\n",
       "      <th>ATPS4r_FWD_CPLX000-10_s</th>\n",
       "      <td>0</td>\n",
       "      <td>999999</td>\n",
       "      <td>23.0471</td>\n",
       "      <td>-92.1882</td>\n",
       "      <td>adp_s + 4.0 h_c + pi_s &lt;=&gt; -4.27350427350427e-...</td>\n",
       "    </tr>\n",
       "    <tr>\n",
       "      <th>CYOO3_FWD_CPLX8J2-22</th>\n",
       "      <td>0</td>\n",
       "      <td>999999</td>\n",
       "      <td>6.34559</td>\n",
       "      <td>-38.0735</td>\n",
       "      <td>2.0 focytcc_c + 6.0 h_c + 0.5 o2_c &lt;=&gt; -3.4284...</td>\n",
       "    </tr>\n",
       "    <tr>\n",
       "      <th>...</th>\n",
       "      <td>...</td>\n",
       "      <td>...</td>\n",
       "      <td>...</td>\n",
       "      <td>...</td>\n",
       "      <td>...</td>\n",
       "    </tr>\n",
       "    <tr>\n",
       "      <th>HACD6_REV_BSU32840-MONOMER</th>\n",
       "      <td>0</td>\n",
       "      <td>999999</td>\n",
       "      <td>0</td>\n",
       "      <td>0</td>\n",
       "      <td>3htdcoa_c + nad_c &lt;=&gt; 3otdcoa_c + -4.273504273...</td>\n",
       "    </tr>\n",
       "    <tr>\n",
       "      <th>ACCOAC_FWD_CPLX000-1</th>\n",
       "      <td>0</td>\n",
       "      <td>999999</td>\n",
       "      <td>0</td>\n",
       "      <td>0</td>\n",
       "      <td>accoa_c + atp_c + hco3_c &lt;=&gt; -4.27350427350427...</td>\n",
       "    </tr>\n",
       "    <tr>\n",
       "      <th>HACD5_FWD_BSU32840-MONOMER</th>\n",
       "      <td>0</td>\n",
       "      <td>999999</td>\n",
       "      <td>0</td>\n",
       "      <td>-0</td>\n",
       "      <td>3oddcoa_c + h_c + nadh_c &lt;=&gt; 3hddcoa_c + -4.27...</td>\n",
       "    </tr>\n",
       "    <tr>\n",
       "      <th>PGCD_REV_BSU23070-MONOMER</th>\n",
       "      <td>0</td>\n",
       "      <td>999999</td>\n",
       "      <td>0</td>\n",
       "      <td>-0</td>\n",
       "      <td>3php_c + h_c + nadh_c &lt;=&gt; 3pg_c + -9.577330709...</td>\n",
       "    </tr>\n",
       "    <tr>\n",
       "      <th>KAS8_FWD_CPLX000-49</th>\n",
       "      <td>0</td>\n",
       "      <td>999999</td>\n",
       "      <td>0</td>\n",
       "      <td>-0</td>\n",
       "      <td>accoa_c + 20.0 h_c + 7.0 malcoa_c + 14.0 nadph...</td>\n",
       "    </tr>\n",
       "  </tbody>\n",
       "</table>\n",
       "<p>1259 rows × 5 columns</p>\n",
       "</div>"
      ],
      "text/plain": [
       "                               lb      ub rxn_flux met_flux  \\\n",
       "3AMPt6_FWD_CPLX_dummy_s         0  999999  179.642 -179.642   \n",
       "ADNt2_REV_BSU38710-MONOMER_s    0  999999  179.636  179.636   \n",
       "MAN6Pt6_REV_BSU10520-MONOMER_s  0  999999   92.505   92.505   \n",
       "ATPS4r_FWD_CPLX000-10_s         0  999999  23.0471 -92.1882   \n",
       "CYOO3_FWD_CPLX8J2-22            0  999999  6.34559 -38.0735   \n",
       "...                            ..     ...      ...      ...   \n",
       "HACD6_REV_BSU32840-MONOMER      0  999999        0        0   \n",
       "ACCOAC_FWD_CPLX000-1            0  999999        0        0   \n",
       "HACD5_FWD_BSU32840-MONOMER      0  999999        0       -0   \n",
       "PGCD_REV_BSU23070-MONOMER       0  999999        0       -0   \n",
       "KAS8_FWD_CPLX000-49             0  999999        0       -0   \n",
       "\n",
       "                                                                         reaction  \n",
       "3AMPt6_FWD_CPLX_dummy_s         3amp_c + h_c <=> 3amp_s + -4.27350427350427e-6...  \n",
       "ADNt2_REV_BSU38710-MONOMER_s    adn_s + h_s <=> -4.27350427350427e-6*sigma BSU...  \n",
       "MAN6Pt6_REV_BSU10520-MONOMER_s  h_s + man6p_s <=> -4.27350427350427e-6*sigma B...  \n",
       "ATPS4r_FWD_CPLX000-10_s         adp_s + 4.0 h_c + pi_s <=> -4.27350427350427e-...  \n",
       "CYOO3_FWD_CPLX8J2-22            2.0 focytcc_c + 6.0 h_c + 0.5 o2_c <=> -3.4284...  \n",
       "...                                                                           ...  \n",
       "HACD6_REV_BSU32840-MONOMER      3htdcoa_c + nad_c <=> 3otdcoa_c + -4.273504273...  \n",
       "ACCOAC_FWD_CPLX000-1            accoa_c + atp_c + hco3_c <=> -4.27350427350427...  \n",
       "HACD5_FWD_BSU32840-MONOMER      3oddcoa_c + h_c + nadh_c <=> 3hddcoa_c + -4.27...  \n",
       "PGCD_REV_BSU23070-MONOMER       3php_c + h_c + nadh_c <=> 3pg_c + -9.577330709...  \n",
       "KAS8_FWD_CPLX000-49             accoa_c + 20.0 h_c + 7.0 malcoa_c + 14.0 nadph...  \n",
       "\n",
       "[1259 rows x 5 columns]"
      ]
     },
     "execution_count": 17,
     "metadata": {},
     "output_type": "execute_result"
    }
   ],
   "source": [
    "met='h_c' # ATP production and glucose uptake\n",
    "flux_based_reactions(sporeme,met,flux_dict=flux_dict,only_types=['MetabolicReaction'])"
   ]
  },
  {
   "cell_type": "code",
   "execution_count": 19,
   "metadata": {},
   "outputs": [
    {
     "data": {
      "text/html": [
       "<div>\n",
       "<style scoped>\n",
       "    .dataframe tbody tr th:only-of-type {\n",
       "        vertical-align: middle;\n",
       "    }\n",
       "\n",
       "    .dataframe tbody tr th {\n",
       "        vertical-align: top;\n",
       "    }\n",
       "\n",
       "    .dataframe thead th {\n",
       "        text-align: right;\n",
       "    }\n",
       "</style>\n",
       "<table border=\"1\" class=\"dataframe\">\n",
       "  <thead>\n",
       "    <tr style=\"text-align: right;\">\n",
       "      <th></th>\n",
       "      <th>lb</th>\n",
       "      <th>ub</th>\n",
       "      <th>rxn_flux</th>\n",
       "      <th>met_flux</th>\n",
       "      <th>reaction</th>\n",
       "    </tr>\n",
       "  </thead>\n",
       "  <tbody>\n",
       "    <tr>\n",
       "      <th>3AMPt6_FWD_CPLX_dummy_s</th>\n",
       "      <td>0</td>\n",
       "      <td>999999</td>\n",
       "      <td>179.642</td>\n",
       "      <td>179.642</td>\n",
       "      <td>3amp_c + h_c &lt;=&gt; 3amp_s + -4.27350427350427e-6...</td>\n",
       "    </tr>\n",
       "    <tr>\n",
       "      <th>3NUCLE1_FWD_BSU07840-MONOMER_s</th>\n",
       "      <td>0</td>\n",
       "      <td>999999</td>\n",
       "      <td>179.642</td>\n",
       "      <td>-179.642</td>\n",
       "      <td>3amp_s + h2o_s &lt;=&gt; -4.27350427350427e-6*sigma ...</td>\n",
       "    </tr>\n",
       "    <tr>\n",
       "      <th>23CN2P1_REV_BSU07840-MONOMER_s</th>\n",
       "      <td>0</td>\n",
       "      <td>999999</td>\n",
       "      <td>0</td>\n",
       "      <td>-0</td>\n",
       "      <td>3amp_s + h_s &lt;=&gt; 23camp_s + -4.27350427350427e...</td>\n",
       "    </tr>\n",
       "    <tr>\n",
       "      <th>3AMPt6_REV_CPLX_dummy_s</th>\n",
       "      <td>0</td>\n",
       "      <td>999999</td>\n",
       "      <td>0</td>\n",
       "      <td>-0</td>\n",
       "      <td>3amp_s + h_s &lt;=&gt; 3amp_c + -4.27350427350427e-6...</td>\n",
       "    </tr>\n",
       "    <tr>\n",
       "      <th>23CN2P1_FWD_BSU07840-MONOMER_s</th>\n",
       "      <td>0</td>\n",
       "      <td>999999</td>\n",
       "      <td>0</td>\n",
       "      <td>0</td>\n",
       "      <td>23camp_s + h2o_s &lt;=&gt; 3amp_s + -4.2735042735042...</td>\n",
       "    </tr>\n",
       "    <tr>\n",
       "      <th>3NUCLE1_REV_BSU07840-MONOMER_s</th>\n",
       "      <td>0</td>\n",
       "      <td>999999</td>\n",
       "      <td>0</td>\n",
       "      <td>0</td>\n",
       "      <td>adn_s + pi_s &lt;=&gt; 3amp_s + -4.27350427350427e-6...</td>\n",
       "    </tr>\n",
       "  </tbody>\n",
       "</table>\n",
       "</div>"
      ],
      "text/plain": [
       "                               lb      ub rxn_flux met_flux  \\\n",
       "3AMPt6_FWD_CPLX_dummy_s         0  999999  179.642  179.642   \n",
       "3NUCLE1_FWD_BSU07840-MONOMER_s  0  999999  179.642 -179.642   \n",
       "23CN2P1_REV_BSU07840-MONOMER_s  0  999999        0       -0   \n",
       "3AMPt6_REV_CPLX_dummy_s         0  999999        0       -0   \n",
       "23CN2P1_FWD_BSU07840-MONOMER_s  0  999999        0        0   \n",
       "3NUCLE1_REV_BSU07840-MONOMER_s  0  999999        0        0   \n",
       "\n",
       "                                                                         reaction  \n",
       "3AMPt6_FWD_CPLX_dummy_s         3amp_c + h_c <=> 3amp_s + -4.27350427350427e-6...  \n",
       "3NUCLE1_FWD_BSU07840-MONOMER_s  3amp_s + h2o_s <=> -4.27350427350427e-6*sigma ...  \n",
       "23CN2P1_REV_BSU07840-MONOMER_s  3amp_s + h_s <=> 23camp_s + -4.27350427350427e...  \n",
       "3AMPt6_REV_CPLX_dummy_s         3amp_s + h_s <=> 3amp_c + -4.27350427350427e-6...  \n",
       "23CN2P1_FWD_BSU07840-MONOMER_s  23camp_s + h2o_s <=> 3amp_s + -4.2735042735042...  \n",
       "3NUCLE1_REV_BSU07840-MONOMER_s  adn_s + pi_s <=> 3amp_s + -4.27350427350427e-6...  "
      ]
     },
     "execution_count": 19,
     "metadata": {},
     "output_type": "execute_result"
    }
   ],
   "source": [
    "met='3amp_s' # ATP production and glucose uptake\n",
    "flux_based_reactions(sporeme,met,flux_dict=flux_dict,only_types=['MetabolicReaction'])"
   ]
  },
  {
   "cell_type": "code",
   "execution_count": 90,
   "metadata": {},
   "outputs": [
    {
     "data": {
      "text/plain": [
       "'h_s + pyr_s <=> -3.45671075569924e-6*sigma CPLX8J2-189_s + h_c + pyr_c'"
      ]
     },
     "execution_count": 90,
     "metadata": {},
     "output_type": "execute_result"
    }
   ],
   "source": [
    "sporeme.reactions.get_by_id('PYRt2_REV_CPLX8J2-189_s').reaction"
   ]
  },
  {
   "cell_type": "code",
   "execution_count": 11,
   "metadata": {},
   "outputs": [],
   "source": [
    "met='pyr_s' # ATP production and glucose uptake\n",
    "flux_based_reactions(sporeme,met,flux_dict=flux_dict,only_types=['MetabolicReaction']).to_csv('metabolite_cases/{}.csv'.format(met[:-2]))"
   ]
  },
  {
   "cell_type": "code",
   "execution_count": 25,
   "metadata": {},
   "outputs": [],
   "source": [
    "met='pep_s' # ATP production and glucose uptake\n",
    "flux_based_reactions(sporeme,met,flux_dict=flux_dict,only_types=['MetabolicReaction']).to_csv('metabolite_cases/{}.csv'.format(met[:-2]))"
   ]
  },
  {
   "cell_type": "code",
   "execution_count": 14,
   "metadata": {},
   "outputs": [],
   "source": [
    "met='cit_s'\n",
    "flux_based_reactions(sporeme,met,flux_dict=flux_dict,only_types=['MetabolicReaction']).to_csv('metabolite_cases/{}.csv'.format(met[:-2]))"
   ]
  },
  {
   "cell_type": "code",
   "execution_count": 89,
   "metadata": {},
   "outputs": [
    {
     "data": {
      "text/html": [
       "<div>\n",
       "<style scoped>\n",
       "    .dataframe tbody tr th:only-of-type {\n",
       "        vertical-align: middle;\n",
       "    }\n",
       "\n",
       "    .dataframe tbody tr th {\n",
       "        vertical-align: top;\n",
       "    }\n",
       "\n",
       "    .dataframe thead th {\n",
       "        text-align: right;\n",
       "    }\n",
       "</style>\n",
       "<table border=\"1\" class=\"dataframe\">\n",
       "  <thead>\n",
       "    <tr style=\"text-align: right;\">\n",
       "      <th></th>\n",
       "      <th>lb</th>\n",
       "      <th>ub</th>\n",
       "      <th>rxn_flux</th>\n",
       "      <th>met_flux</th>\n",
       "      <th>reaction</th>\n",
       "    </tr>\n",
       "  </thead>\n",
       "  <tbody>\n",
       "    <tr>\n",
       "      <th>METabc_FWD_CPLX8J2-67_s</th>\n",
       "      <td>0</td>\n",
       "      <td>0</td>\n",
       "      <td>0.01326</td>\n",
       "      <td>0.01326</td>\n",
       "      <td>atp_s + h2o_s + met__L_c --&gt; -3.48600131410306...</td>\n",
       "    </tr>\n",
       "    <tr>\n",
       "      <th>LAAL28_FWD_BSU37710-MONOMER_s</th>\n",
       "      <td>0</td>\n",
       "      <td>999999</td>\n",
       "      <td>0</td>\n",
       "      <td>-0</td>\n",
       "      <td>atp_s + met__L_s + phe__L_s --&gt; -4.27350427350...</td>\n",
       "    </tr>\n",
       "    <tr>\n",
       "      <th>METSR_S2_FWD_BSU21690-MONOMER_s</th>\n",
       "      <td>0</td>\n",
       "      <td>999999</td>\n",
       "      <td>0</td>\n",
       "      <td>-0</td>\n",
       "      <td>h2o2_s + met__L_s --&gt; -2.09020092194076e-5*sig...</td>\n",
       "    </tr>\n",
       "    <tr>\n",
       "      <th>LAAL32_FWD_BSU37710-MONOMER_s</th>\n",
       "      <td>0</td>\n",
       "      <td>999999</td>\n",
       "      <td>0</td>\n",
       "      <td>-0</td>\n",
       "      <td>atp_s + met__L_s + tyr__L_s --&gt; -4.27350427350...</td>\n",
       "    </tr>\n",
       "    <tr>\n",
       "      <th>LAAL42_FWD_BSU37710-MONOMER_s</th>\n",
       "      <td>0</td>\n",
       "      <td>999999</td>\n",
       "      <td>0</td>\n",
       "      <td>-0</td>\n",
       "      <td>atp_s + his__L_s + met__L_s --&gt; -4.27350427350...</td>\n",
       "    </tr>\n",
       "    <tr>\n",
       "      <th>METAT_FWD_BSU30550-MONOMER_s</th>\n",
       "      <td>0</td>\n",
       "      <td>999999</td>\n",
       "      <td>0</td>\n",
       "      <td>-0</td>\n",
       "      <td>atp_s + h2o_s + met__L_s --&gt; -1.16417684944902...</td>\n",
       "    </tr>\n",
       "    <tr>\n",
       "      <th>METS_FWD_BSU13180-MONOMER_mod_zn2_s</th>\n",
       "      <td>0</td>\n",
       "      <td>999999</td>\n",
       "      <td>0</td>\n",
       "      <td>0</td>\n",
       "      <td>5mthf_s + hcys__L_s --&gt; -6.99881286711861e-6*s...</td>\n",
       "    </tr>\n",
       "    <tr>\n",
       "      <th>METSR_R1_FWD_BSU21680-MONOMER_s</th>\n",
       "      <td>0</td>\n",
       "      <td>999999</td>\n",
       "      <td>0</td>\n",
       "      <td>0</td>\n",
       "      <td>metox__R_s --&gt; -4.27350427350427e-6*sigma BSU2...</td>\n",
       "    </tr>\n",
       "    <tr>\n",
       "      <th>METSR_R2_FWD_BSU21680-MONOMER_s</th>\n",
       "      <td>0</td>\n",
       "      <td>999999</td>\n",
       "      <td>0</td>\n",
       "      <td>-0</td>\n",
       "      <td>h2o2_s + met__L_s --&gt; -2.41985162952036e-5*sig...</td>\n",
       "    </tr>\n",
       "    <tr>\n",
       "      <th>METSR_S1_FWD_BSU21690-MONOMER_s</th>\n",
       "      <td>0</td>\n",
       "      <td>999999</td>\n",
       "      <td>0</td>\n",
       "      <td>0</td>\n",
       "      <td>metox_s --&gt; -4.27350427350427e-6*sigma BSU2169...</td>\n",
       "    </tr>\n",
       "    <tr>\n",
       "      <th>BIOMASS_BS_10_FWD_CPLX_dummy_s</th>\n",
       "      <td>0</td>\n",
       "      <td>0</td>\n",
       "      <td>0</td>\n",
       "      <td>-0</td>\n",
       "      <td>0.000367 10fthf_s + 0.266902 ala__L_s + 0.0046...</td>\n",
       "    </tr>\n",
       "    <tr>\n",
       "      <th>SHSL3_FWD_BSU11870-MONOMER_s</th>\n",
       "      <td>0</td>\n",
       "      <td>999999</td>\n",
       "      <td>0</td>\n",
       "      <td>0</td>\n",
       "      <td>ch4s_s + suchms_s --&gt; -4.27350427350427e-6*sig...</td>\n",
       "    </tr>\n",
       "    <tr>\n",
       "      <th>METt3_FWD_CPLX_dummy_s</th>\n",
       "      <td>0</td>\n",
       "      <td>0</td>\n",
       "      <td>0</td>\n",
       "      <td>-0</td>\n",
       "      <td>h_c + met__L_s --&gt; -4.27350427350427e-6*sigma ...</td>\n",
       "    </tr>\n",
       "    <tr>\n",
       "      <th>LAAL19_FWD_BSU37710-MONOMER_s</th>\n",
       "      <td>0</td>\n",
       "      <td>999999</td>\n",
       "      <td>0</td>\n",
       "      <td>-0</td>\n",
       "      <td>atp_s + gly_s + met__L_s --&gt; -4.27350427350427...</td>\n",
       "    </tr>\n",
       "    <tr>\n",
       "      <th>LAAL20_FWD_BSU37710-MONOMER_s</th>\n",
       "      <td>0</td>\n",
       "      <td>999999</td>\n",
       "      <td>0</td>\n",
       "      <td>-0</td>\n",
       "      <td>ala__L_s + atp_s + met__L_s --&gt; -4.27350427350...</td>\n",
       "    </tr>\n",
       "    <tr>\n",
       "      <th>LAAL21_FWD_BSU37710-MONOMER_s</th>\n",
       "      <td>0</td>\n",
       "      <td>999999</td>\n",
       "      <td>0</td>\n",
       "      <td>-0</td>\n",
       "      <td>atp_s + met__L_s + ser__L_s --&gt; -4.27350427350...</td>\n",
       "    </tr>\n",
       "    <tr>\n",
       "      <th>LAAL22_FWD_BSU37710-MONOMER_s</th>\n",
       "      <td>0</td>\n",
       "      <td>999999</td>\n",
       "      <td>0</td>\n",
       "      <td>-0</td>\n",
       "      <td>atp_s + met__L_s + thr__L_s --&gt; -4.27350427350...</td>\n",
       "    </tr>\n",
       "    <tr>\n",
       "      <th>LAAL23_FWD_BSU37710-MONOMER_s</th>\n",
       "      <td>0</td>\n",
       "      <td>999999</td>\n",
       "      <td>0</td>\n",
       "      <td>-0</td>\n",
       "      <td>atp_s + 2.0 met__L_s --&gt; -4.27350427350427e-6*...</td>\n",
       "    </tr>\n",
       "    <tr>\n",
       "      <th>FMETDF_FWD_BSU15720-MONOMER_s</th>\n",
       "      <td>0</td>\n",
       "      <td>999999</td>\n",
       "      <td>0</td>\n",
       "      <td>0</td>\n",
       "      <td>fmet_s + h2o_s --&gt; -2.29934335445251e-5*sigma ...</td>\n",
       "    </tr>\n",
       "    <tr>\n",
       "      <th>UNK5_FWD_BSU13580-MONOMER_s</th>\n",
       "      <td>0</td>\n",
       "      <td>999999</td>\n",
       "      <td>0</td>\n",
       "      <td>0</td>\n",
       "      <td>2kmb_s + asp__L_s --&gt; -6.92210384867352e-6*sig...</td>\n",
       "    </tr>\n",
       "  </tbody>\n",
       "</table>\n",
       "</div>"
      ],
      "text/plain": [
       "                                    lb      ub rxn_flux met_flux  \\\n",
       "METabc_FWD_CPLX8J2-67_s              0       0  0.01326  0.01326   \n",
       "LAAL28_FWD_BSU37710-MONOMER_s        0  999999        0       -0   \n",
       "METSR_S2_FWD_BSU21690-MONOMER_s      0  999999        0       -0   \n",
       "LAAL32_FWD_BSU37710-MONOMER_s        0  999999        0       -0   \n",
       "LAAL42_FWD_BSU37710-MONOMER_s        0  999999        0       -0   \n",
       "METAT_FWD_BSU30550-MONOMER_s         0  999999        0       -0   \n",
       "METS_FWD_BSU13180-MONOMER_mod_zn2_s  0  999999        0        0   \n",
       "METSR_R1_FWD_BSU21680-MONOMER_s      0  999999        0        0   \n",
       "METSR_R2_FWD_BSU21680-MONOMER_s      0  999999        0       -0   \n",
       "METSR_S1_FWD_BSU21690-MONOMER_s      0  999999        0        0   \n",
       "BIOMASS_BS_10_FWD_CPLX_dummy_s       0       0        0       -0   \n",
       "SHSL3_FWD_BSU11870-MONOMER_s         0  999999        0        0   \n",
       "METt3_FWD_CPLX_dummy_s               0       0        0       -0   \n",
       "LAAL19_FWD_BSU37710-MONOMER_s        0  999999        0       -0   \n",
       "LAAL20_FWD_BSU37710-MONOMER_s        0  999999        0       -0   \n",
       "LAAL21_FWD_BSU37710-MONOMER_s        0  999999        0       -0   \n",
       "LAAL22_FWD_BSU37710-MONOMER_s        0  999999        0       -0   \n",
       "LAAL23_FWD_BSU37710-MONOMER_s        0  999999        0       -0   \n",
       "FMETDF_FWD_BSU15720-MONOMER_s        0  999999        0        0   \n",
       "UNK5_FWD_BSU13580-MONOMER_s          0  999999        0        0   \n",
       "\n",
       "                                                                              reaction  \n",
       "METabc_FWD_CPLX8J2-67_s              atp_s + h2o_s + met__L_c --> -3.48600131410306...  \n",
       "LAAL28_FWD_BSU37710-MONOMER_s        atp_s + met__L_s + phe__L_s --> -4.27350427350...  \n",
       "METSR_S2_FWD_BSU21690-MONOMER_s      h2o2_s + met__L_s --> -2.09020092194076e-5*sig...  \n",
       "LAAL32_FWD_BSU37710-MONOMER_s        atp_s + met__L_s + tyr__L_s --> -4.27350427350...  \n",
       "LAAL42_FWD_BSU37710-MONOMER_s        atp_s + his__L_s + met__L_s --> -4.27350427350...  \n",
       "METAT_FWD_BSU30550-MONOMER_s         atp_s + h2o_s + met__L_s --> -1.16417684944902...  \n",
       "METS_FWD_BSU13180-MONOMER_mod_zn2_s  5mthf_s + hcys__L_s --> -6.99881286711861e-6*s...  \n",
       "METSR_R1_FWD_BSU21680-MONOMER_s      metox__R_s --> -4.27350427350427e-6*sigma BSU2...  \n",
       "METSR_R2_FWD_BSU21680-MONOMER_s      h2o2_s + met__L_s --> -2.41985162952036e-5*sig...  \n",
       "METSR_S1_FWD_BSU21690-MONOMER_s      metox_s --> -4.27350427350427e-6*sigma BSU2169...  \n",
       "BIOMASS_BS_10_FWD_CPLX_dummy_s       0.000367 10fthf_s + 0.266902 ala__L_s + 0.0046...  \n",
       "SHSL3_FWD_BSU11870-MONOMER_s         ch4s_s + suchms_s --> -4.27350427350427e-6*sig...  \n",
       "METt3_FWD_CPLX_dummy_s               h_c + met__L_s --> -4.27350427350427e-6*sigma ...  \n",
       "LAAL19_FWD_BSU37710-MONOMER_s        atp_s + gly_s + met__L_s --> -4.27350427350427...  \n",
       "LAAL20_FWD_BSU37710-MONOMER_s        ala__L_s + atp_s + met__L_s --> -4.27350427350...  \n",
       "LAAL21_FWD_BSU37710-MONOMER_s        atp_s + met__L_s + ser__L_s --> -4.27350427350...  \n",
       "LAAL22_FWD_BSU37710-MONOMER_s        atp_s + met__L_s + thr__L_s --> -4.27350427350...  \n",
       "LAAL23_FWD_BSU37710-MONOMER_s        atp_s + 2.0 met__L_s --> -4.27350427350427e-6*...  \n",
       "FMETDF_FWD_BSU15720-MONOMER_s        fmet_s + h2o_s --> -2.29934335445251e-5*sigma ...  \n",
       "UNK5_FWD_BSU13580-MONOMER_s          2kmb_s + asp__L_s --> -6.92210384867352e-6*sig...  "
      ]
     },
     "execution_count": 89,
     "metadata": {},
     "output_type": "execute_result"
    }
   ],
   "source": [
    "met='met__L_s' # Protein synthesis\n",
    "flux_based_reactions(sporeme,met,flux_dict=flux_dict,only_types=['MetabolicReaction'])"
   ]
  },
  {
   "cell_type": "code",
   "execution_count": 15,
   "metadata": {},
   "outputs": [
    {
     "data": {
      "text/html": [
       "<div>\n",
       "<style scoped>\n",
       "    .dataframe tbody tr th:only-of-type {\n",
       "        vertical-align: middle;\n",
       "    }\n",
       "\n",
       "    .dataframe tbody tr th {\n",
       "        vertical-align: top;\n",
       "    }\n",
       "\n",
       "    .dataframe thead th {\n",
       "        text-align: right;\n",
       "    }\n",
       "</style>\n",
       "<table border=\"1\" class=\"dataframe\">\n",
       "  <thead>\n",
       "    <tr style=\"text-align: right;\">\n",
       "      <th></th>\n",
       "      <th>lb</th>\n",
       "      <th>ub</th>\n",
       "      <th>rxn_flux</th>\n",
       "      <th>met_flux</th>\n",
       "      <th>reaction</th>\n",
       "    </tr>\n",
       "  </thead>\n",
       "  <tbody>\n",
       "    <tr>\n",
       "      <th>SERAT_FWD_BSU00930-MONOMER_s</th>\n",
       "      <td>0</td>\n",
       "      <td>999999</td>\n",
       "      <td>0.0027431</td>\n",
       "      <td>0.0027431</td>\n",
       "      <td>accoa_s + ser__L_s &lt;=&gt; -4.76499661867703e-6*si...</td>\n",
       "    </tr>\n",
       "    <tr>\n",
       "      <th>CYSS_2_FWD_BSU00730-MONOMER_mod_2:pydx5p_s</th>\n",
       "      <td>0</td>\n",
       "      <td>999999</td>\n",
       "      <td>0.0027431</td>\n",
       "      <td>-0.0027431</td>\n",
       "      <td>acser_s + h2s_s &lt;=&gt; -8.58171771088816e-6*sigma...</td>\n",
       "    </tr>\n",
       "    <tr>\n",
       "      <th>SERAT_REV_BSU00930-MONOMER_s</th>\n",
       "      <td>0</td>\n",
       "      <td>999999</td>\n",
       "      <td>0</td>\n",
       "      <td>-0</td>\n",
       "      <td>acser_s + coa_s &lt;=&gt; -4.76499661867703e-6*sigma...</td>\n",
       "    </tr>\n",
       "    <tr>\n",
       "      <th>AHSERL4_FWD_BSU00730-MONOMER_mod_2:pydx5p_s</th>\n",
       "      <td>0</td>\n",
       "      <td>999999</td>\n",
       "      <td>0</td>\n",
       "      <td>-0</td>\n",
       "      <td>acser_s + tsul_s &lt;=&gt; -4.27350427350427e-6*sigm...</td>\n",
       "    </tr>\n",
       "    <tr>\n",
       "      <th>SLCYSS_FWD_BSU00730-MONOMER_mod_2:pydx5p_s</th>\n",
       "      <td>0</td>\n",
       "      <td>999999</td>\n",
       "      <td>0</td>\n",
       "      <td>-0</td>\n",
       "      <td>acser_s + tsul_s &lt;=&gt; -4.27350427350427e-6*sigm...</td>\n",
       "    </tr>\n",
       "    <tr>\n",
       "      <th>AHSERL3_REV_BSU00730-MONOMER_mod_2:pydx5p_s</th>\n",
       "      <td>0</td>\n",
       "      <td>999999</td>\n",
       "      <td>0</td>\n",
       "      <td>0</td>\n",
       "      <td>ac_s + scys__L_s &lt;=&gt; -4.27350427350427e-6*sigm...</td>\n",
       "    </tr>\n",
       "    <tr>\n",
       "      <th>AHSERL4_REV_BSU00730-MONOMER_mod_2:pydx5p_s</th>\n",
       "      <td>0</td>\n",
       "      <td>999999</td>\n",
       "      <td>0</td>\n",
       "      <td>0</td>\n",
       "      <td>BSU28500-MONOMER_mod_Oxidized_s + ac_s + cys__...</td>\n",
       "    </tr>\n",
       "    <tr>\n",
       "      <th>SLCYSS_FWD_BSU11870-MONOMER_s</th>\n",
       "      <td>0</td>\n",
       "      <td>999999</td>\n",
       "      <td>0</td>\n",
       "      <td>-0</td>\n",
       "      <td>acser_s + tsul_s &lt;=&gt; -1.21283586630798e-5*sigm...</td>\n",
       "    </tr>\n",
       "    <tr>\n",
       "      <th>AHSERL3_FWD_BSU00730-MONOMER_mod_2:pydx5p_s</th>\n",
       "      <td>0</td>\n",
       "      <td>999999</td>\n",
       "      <td>0</td>\n",
       "      <td>-0</td>\n",
       "      <td>acser_s + seln_s &lt;=&gt; -4.27350427350427e-6*sigm...</td>\n",
       "    </tr>\n",
       "  </tbody>\n",
       "</table>\n",
       "</div>"
      ],
      "text/plain": [
       "                                            lb      ub   rxn_flux   met_flux  \\\n",
       "SERAT_FWD_BSU00930-MONOMER_s                 0  999999  0.0027431  0.0027431   \n",
       "CYSS_2_FWD_BSU00730-MONOMER_mod_2:pydx5p_s   0  999999  0.0027431 -0.0027431   \n",
       "SERAT_REV_BSU00930-MONOMER_s                 0  999999          0         -0   \n",
       "AHSERL4_FWD_BSU00730-MONOMER_mod_2:pydx5p_s  0  999999          0         -0   \n",
       "SLCYSS_FWD_BSU00730-MONOMER_mod_2:pydx5p_s   0  999999          0         -0   \n",
       "AHSERL3_REV_BSU00730-MONOMER_mod_2:pydx5p_s  0  999999          0          0   \n",
       "AHSERL4_REV_BSU00730-MONOMER_mod_2:pydx5p_s  0  999999          0          0   \n",
       "SLCYSS_FWD_BSU11870-MONOMER_s                0  999999          0         -0   \n",
       "AHSERL3_FWD_BSU00730-MONOMER_mod_2:pydx5p_s  0  999999          0         -0   \n",
       "\n",
       "                                                                                      reaction  \n",
       "SERAT_FWD_BSU00930-MONOMER_s                 accoa_s + ser__L_s <=> -4.76499661867703e-6*si...  \n",
       "CYSS_2_FWD_BSU00730-MONOMER_mod_2:pydx5p_s   acser_s + h2s_s <=> -8.58171771088816e-6*sigma...  \n",
       "SERAT_REV_BSU00930-MONOMER_s                 acser_s + coa_s <=> -4.76499661867703e-6*sigma...  \n",
       "AHSERL4_FWD_BSU00730-MONOMER_mod_2:pydx5p_s  acser_s + tsul_s <=> -4.27350427350427e-6*sigm...  \n",
       "SLCYSS_FWD_BSU00730-MONOMER_mod_2:pydx5p_s   acser_s + tsul_s <=> -4.27350427350427e-6*sigm...  \n",
       "AHSERL3_REV_BSU00730-MONOMER_mod_2:pydx5p_s  ac_s + scys__L_s <=> -4.27350427350427e-6*sigm...  \n",
       "AHSERL4_REV_BSU00730-MONOMER_mod_2:pydx5p_s  BSU28500-MONOMER_mod_Oxidized_s + ac_s + cys__...  \n",
       "SLCYSS_FWD_BSU11870-MONOMER_s                acser_s + tsul_s <=> -1.21283586630798e-5*sigm...  \n",
       "AHSERL3_FWD_BSU00730-MONOMER_mod_2:pydx5p_s  acser_s + seln_s <=> -4.27350427350427e-6*sigm...  "
      ]
     },
     "execution_count": 15,
     "metadata": {},
     "output_type": "execute_result"
    }
   ],
   "source": [
    "met='so4_s' # Protein synthesis\n",
    "flux_based_reactions(sporeme,met,flux_dict=flux_dict,only_types=['MetabolicReaction'])"
   ]
  },
  {
   "cell_type": "code",
   "execution_count": 18,
   "metadata": {},
   "outputs": [],
   "source": [
    "met='arg__L_s' # Ornithine synthesis, ArgSuc synthesis\n",
    "flux_based_reactions(sporeme,met,flux_dict=flux_dict,only_types=['MetabolicReaction']).to_csv('metabolite_cases/{}.csv'.format(met[:-2]))"
   ]
  },
  {
   "cell_type": "code",
   "execution_count": 88,
   "metadata": {},
   "outputs": [
    {
     "data": {
      "text/html": [
       "<div>\n",
       "<style scoped>\n",
       "    .dataframe tbody tr th:only-of-type {\n",
       "        vertical-align: middle;\n",
       "    }\n",
       "\n",
       "    .dataframe tbody tr th {\n",
       "        vertical-align: top;\n",
       "    }\n",
       "\n",
       "    .dataframe thead th {\n",
       "        text-align: right;\n",
       "    }\n",
       "</style>\n",
       "<table border=\"1\" class=\"dataframe\">\n",
       "  <thead>\n",
       "    <tr style=\"text-align: right;\">\n",
       "      <th></th>\n",
       "      <th>lb</th>\n",
       "      <th>ub</th>\n",
       "      <th>rxn_flux</th>\n",
       "      <th>met_flux</th>\n",
       "      <th>reaction</th>\n",
       "    </tr>\n",
       "  </thead>\n",
       "  <tbody>\n",
       "    <tr>\n",
       "      <th>OCBT_1_REV_BSU11250-MONOMER_s</th>\n",
       "      <td>0</td>\n",
       "      <td>999999</td>\n",
       "      <td>0.0247992</td>\n",
       "      <td>-0.0247992</td>\n",
       "      <td>citr__L_s + h_s + pi_s --&gt; -1.39331395579107e-...</td>\n",
       "    </tr>\n",
       "    <tr>\n",
       "      <th>ARGSS_REV_BSU29450-MONOMER_mod_mg2_s</th>\n",
       "      <td>0</td>\n",
       "      <td>999999</td>\n",
       "      <td>0.0247992</td>\n",
       "      <td>0.0247992</td>\n",
       "      <td>amp_s + argsuc_s + h_s + ppi_s --&gt; -4.27350427...</td>\n",
       "    </tr>\n",
       "    <tr>\n",
       "      <th>OCBT_1_FWD_BSU11250-MONOMER_s</th>\n",
       "      <td>0</td>\n",
       "      <td>999999</td>\n",
       "      <td>0</td>\n",
       "      <td>0</td>\n",
       "      <td>cbp_s + orn__L_s --&gt; -1.39331395579107e-5*sigm...</td>\n",
       "    </tr>\n",
       "    <tr>\n",
       "      <th>ARGSS_FWD_BSU29450-MONOMER_mod_mg2_s</th>\n",
       "      <td>0</td>\n",
       "      <td>999999</td>\n",
       "      <td>0</td>\n",
       "      <td>-0</td>\n",
       "      <td>asp__L_s + atp_s + citr__L_s --&gt; -4.2735042735...</td>\n",
       "    </tr>\n",
       "    <tr>\n",
       "      <th>CITRt2r_FWD_CPLX_dummy_s</th>\n",
       "      <td>0</td>\n",
       "      <td>0</td>\n",
       "      <td>0</td>\n",
       "      <td>0</td>\n",
       "      <td>citr__L_c + h_c --&gt; -4.27350427350427e-6*sigma...</td>\n",
       "    </tr>\n",
       "  </tbody>\n",
       "</table>\n",
       "</div>"
      ],
      "text/plain": [
       "                                     lb      ub   rxn_flux   met_flux  \\\n",
       "OCBT_1_REV_BSU11250-MONOMER_s         0  999999  0.0247992 -0.0247992   \n",
       "ARGSS_REV_BSU29450-MONOMER_mod_mg2_s  0  999999  0.0247992  0.0247992   \n",
       "OCBT_1_FWD_BSU11250-MONOMER_s         0  999999          0          0   \n",
       "ARGSS_FWD_BSU29450-MONOMER_mod_mg2_s  0  999999          0         -0   \n",
       "CITRt2r_FWD_CPLX_dummy_s              0       0          0          0   \n",
       "\n",
       "                                                                               reaction  \n",
       "OCBT_1_REV_BSU11250-MONOMER_s         citr__L_s + h_s + pi_s --> -1.39331395579107e-...  \n",
       "ARGSS_REV_BSU29450-MONOMER_mod_mg2_s  amp_s + argsuc_s + h_s + ppi_s --> -4.27350427...  \n",
       "OCBT_1_FWD_BSU11250-MONOMER_s         cbp_s + orn__L_s --> -1.39331395579107e-5*sigm...  \n",
       "ARGSS_FWD_BSU29450-MONOMER_mod_mg2_s  asp__L_s + atp_s + citr__L_s --> -4.2735042735...  \n",
       "CITRt2r_FWD_CPLX_dummy_s              citr__L_c + h_c --> -4.27350427350427e-6*sigma...  "
      ]
     },
     "execution_count": 88,
     "metadata": {},
     "output_type": "execute_result"
    }
   ],
   "source": [
    "met='argsuc_s' # Citruline synthesis.  Urea cycle and the synthesis of pyrimidines: nucleotide synthesis\n",
    "flux_based_reactions(sporeme,met,flux_dict=flux_dict,only_types=['MetabolicReaction']).to_csv('metabolite_cases/{}.csv'.format(met[:-2]))"
   ]
  },
  {
   "cell_type": "code",
   "execution_count": 86,
   "metadata": {},
   "outputs": [
    {
     "data": {
      "text/html": [
       "<div>\n",
       "<style scoped>\n",
       "    .dataframe tbody tr th:only-of-type {\n",
       "        vertical-align: middle;\n",
       "    }\n",
       "\n",
       "    .dataframe tbody tr th {\n",
       "        vertical-align: top;\n",
       "    }\n",
       "\n",
       "    .dataframe thead th {\n",
       "        text-align: right;\n",
       "    }\n",
       "</style>\n",
       "<table border=\"1\" class=\"dataframe\">\n",
       "  <thead>\n",
       "    <tr style=\"text-align: right;\">\n",
       "      <th></th>\n",
       "      <th>lb</th>\n",
       "      <th>ub</th>\n",
       "      <th>rxn_flux</th>\n",
       "      <th>met_flux</th>\n",
       "      <th>reaction</th>\n",
       "    </tr>\n",
       "  </thead>\n",
       "  <tbody>\n",
       "    <tr>\n",
       "      <th>G5SADs_FWD_CPLX_dummy_s</th>\n",
       "      <td>0</td>\n",
       "      <td>999999</td>\n",
       "      <td>0.077624</td>\n",
       "      <td>-0.077624</td>\n",
       "      <td>glu5sa_s --&gt; 1pyr5c_s + -4.27350427350427e-6*s...</td>\n",
       "    </tr>\n",
       "    <tr>\n",
       "      <th>ORNTA_1_FWD_BSU40340-MONOMER_s</th>\n",
       "      <td>0</td>\n",
       "      <td>999999</td>\n",
       "      <td>0.077624</td>\n",
       "      <td>0.077624</td>\n",
       "      <td>akg_s + orn__L_s --&gt; -1.16983570433274e-5*sigm...</td>\n",
       "    </tr>\n",
       "    <tr>\n",
       "      <th>G5SD_FWD_BSU13130-MONOMER_s</th>\n",
       "      <td>0</td>\n",
       "      <td>999999</td>\n",
       "      <td>0</td>\n",
       "      <td>0</td>\n",
       "      <td>glu5p_s + h_s + nadph_s --&gt; -1.14080389449556e...</td>\n",
       "    </tr>\n",
       "    <tr>\n",
       "      <th>G5SADs_REV_CPLX_dummy_s</th>\n",
       "      <td>0</td>\n",
       "      <td>999999</td>\n",
       "      <td>0</td>\n",
       "      <td>0</td>\n",
       "      <td>1pyr5c_s + h2o_s + h_s --&gt; -4.27350427350427e-...</td>\n",
       "    </tr>\n",
       "  </tbody>\n",
       "</table>\n",
       "</div>"
      ],
      "text/plain": [
       "                               lb      ub  rxn_flux  met_flux  \\\n",
       "G5SADs_FWD_CPLX_dummy_s         0  999999  0.077624 -0.077624   \n",
       "ORNTA_1_FWD_BSU40340-MONOMER_s  0  999999  0.077624  0.077624   \n",
       "G5SD_FWD_BSU13130-MONOMER_s     0  999999         0         0   \n",
       "G5SADs_REV_CPLX_dummy_s         0  999999         0         0   \n",
       "\n",
       "                                                                         reaction  \n",
       "G5SADs_FWD_CPLX_dummy_s         glu5sa_s --> 1pyr5c_s + -4.27350427350427e-6*s...  \n",
       "ORNTA_1_FWD_BSU40340-MONOMER_s  akg_s + orn__L_s --> -1.16983570433274e-5*sigm...  \n",
       "G5SD_FWD_BSU13130-MONOMER_s     glu5p_s + h_s + nadph_s --> -1.14080389449556e...  \n",
       "G5SADs_REV_CPLX_dummy_s         1pyr5c_s + h2o_s + h_s --> -4.27350427350427e-...  "
      ]
     },
     "execution_count": 86,
     "metadata": {},
     "output_type": "execute_result"
    }
   ],
   "source": [
    "met='glu5sa_s' # Citruline synthesis.  Urea cycle and the synthesis of pyrimidines: nucleotide synthesis\n",
    "flux_based_reactions(sporeme,met,flux_dict=flux_dict,only_types=['MetabolicReaction'])"
   ]
  },
  {
   "cell_type": "code",
   "execution_count": 87,
   "metadata": {},
   "outputs": [
    {
     "data": {
      "text/plain": [
       "'glu5sa_s --> 1pyr5c_s + -4.27350427350427e-6*sigma CPLX_dummy_s + h2o_s + h_s'"
      ]
     },
     "execution_count": 87,
     "metadata": {},
     "output_type": "execute_result"
    }
   ],
   "source": [
    "sporeme.reactions.get_by_id('G5SADs_FWD_CPLX_dummy_s').reaction"
   ]
  },
  {
   "cell_type": "code",
   "execution_count": 37,
   "metadata": {},
   "outputs": [],
   "source": [
    "met='citr__L_s' # Carbamoyl phosphate and ornithine synthesis.  Urea cycle and the synthesis of pyrimidines: nucleotide synthesis\n",
    "flux_based_reactions(sporeme,met,flux_dict=flux_dict,only_types=['MetabolicReaction']).to_csv('metabolite_cases/{}.csv'.format(met[:-2]))"
   ]
  },
  {
   "cell_type": "code",
   "execution_count": 21,
   "metadata": {},
   "outputs": [],
   "source": [
    "met='pser__L_s' # Glutamate synthesis\n",
    "flux_based_reactions(sporeme,met,flux_dict=flux_dict,only_types=['MetabolicReaction']).to_csv('metabolite_cases/{}.csv'.format(met[:-2]))"
   ]
  },
  {
   "cell_type": "code",
   "execution_count": 22,
   "metadata": {},
   "outputs": [],
   "source": [
    "met='asp__L_s' # Production of 4asp\n",
    "flux_based_reactions(sporeme,met,flux_dict=flux_dict,only_types=['MetabolicReaction']).to_csv('metabolite_cases/{}.csv'.format(met[:-2]))"
   ]
  },
  {
   "cell_type": "code",
   "execution_count": 67,
   "metadata": {},
   "outputs": [
    {
     "data": {
      "text/html": [
       "<div>\n",
       "<style scoped>\n",
       "    .dataframe tbody tr th:only-of-type {\n",
       "        vertical-align: middle;\n",
       "    }\n",
       "\n",
       "    .dataframe tbody tr th {\n",
       "        vertical-align: top;\n",
       "    }\n",
       "\n",
       "    .dataframe thead th {\n",
       "        text-align: right;\n",
       "    }\n",
       "</style>\n",
       "<table border=\"1\" class=\"dataframe\">\n",
       "  <thead>\n",
       "    <tr style=\"text-align: right;\">\n",
       "      <th></th>\n",
       "      <th>lb</th>\n",
       "      <th>ub</th>\n",
       "      <th>rxn_flux</th>\n",
       "      <th>met_flux</th>\n",
       "      <th>reaction</th>\n",
       "    </tr>\n",
       "  </thead>\n",
       "  <tbody>\n",
       "    <tr>\n",
       "      <th>NDPK1_FWD_BSU22730-MONOMER_mod_mn2_s</th>\n",
       "      <td>0</td>\n",
       "      <td>999999</td>\n",
       "      <td>0.973197</td>\n",
       "      <td>-0.973197</td>\n",
       "      <td>atp_s + gdp_s --&gt; -4.27350427350427e-6*sigma B...</td>\n",
       "    </tr>\n",
       "    <tr>\n",
       "      <th>ADSS_FWD_BSU40420-MONOMER_s</th>\n",
       "      <td>0</td>\n",
       "      <td>999999</td>\n",
       "      <td>0.014486</td>\n",
       "      <td>0.014486</td>\n",
       "      <td>asp__L_s + gtp_s + imp_s --&gt; -1.09694457755973...</td>\n",
       "    </tr>\n",
       "    <tr>\n",
       "      <th>GK1_FWD_BSU15680-MONOMER_mod_mg2_s</th>\n",
       "      <td>0</td>\n",
       "      <td>999999</td>\n",
       "      <td>0.0140795</td>\n",
       "      <td>0.0140795</td>\n",
       "      <td>atp_s + gmp_s --&gt; -4.27350427350427e-6*sigma B...</td>\n",
       "    </tr>\n",
       "    <tr>\n",
       "      <th>GK2_FWD_BSU15680-MONOMER_mod_mg2_s</th>\n",
       "      <td>0</td>\n",
       "      <td>999999</td>\n",
       "      <td>0</td>\n",
       "      <td>0</td>\n",
       "      <td>datp_s + gmp_s --&gt; -1.11896284956934e-5*sigma ...</td>\n",
       "    </tr>\n",
       "    <tr>\n",
       "      <th>GK2_REV_BSU15680-MONOMER_mod_mg2_s</th>\n",
       "      <td>0</td>\n",
       "      <td>999999</td>\n",
       "      <td>0</td>\n",
       "      <td>-0</td>\n",
       "      <td>dadp_s + gdp_s --&gt; -1.11896284956934e-5*sigma ...</td>\n",
       "    </tr>\n",
       "    <tr>\n",
       "      <th>GK1_REV_BSU15680-MONOMER_mod_mg2_s</th>\n",
       "      <td>0</td>\n",
       "      <td>999999</td>\n",
       "      <td>0</td>\n",
       "      <td>-0</td>\n",
       "      <td>adp_s + gdp_s --&gt; -4.27350427350427e-6*sigma B...</td>\n",
       "    </tr>\n",
       "    <tr>\n",
       "      <th>NDPK1_REV_BSU22730-MONOMER_mod_mn2_s</th>\n",
       "      <td>0</td>\n",
       "      <td>999999</td>\n",
       "      <td>0</td>\n",
       "      <td>0</td>\n",
       "      <td>adp_s + gtp_s --&gt; -4.27350427350427e-6*sigma B...</td>\n",
       "    </tr>\n",
       "    <tr>\n",
       "      <th>RNDR2_FWD_CPLX8J2-9_s</th>\n",
       "      <td>0</td>\n",
       "      <td>999999</td>\n",
       "      <td>0</td>\n",
       "      <td>-0</td>\n",
       "      <td>gdp_s --&gt; BSU28500-MONOMER_mod_Oxidized_s + -4...</td>\n",
       "    </tr>\n",
       "    <tr>\n",
       "      <th>NADK1_FWD_BSU11610-MONOMER_mod_mg2_s</th>\n",
       "      <td>0</td>\n",
       "      <td>999999</td>\n",
       "      <td>0</td>\n",
       "      <td>0</td>\n",
       "      <td>gtp_s + nad_s --&gt; -4.27350427350427e-6*sigma B...</td>\n",
       "    </tr>\n",
       "    <tr>\n",
       "      <th>BIOMASS_BS_10_FWD_CPLX_dummy_s</th>\n",
       "      <td>0</td>\n",
       "      <td>0</td>\n",
       "      <td>0</td>\n",
       "      <td>-0</td>\n",
       "      <td>0.000367 10fthf_s + 0.266902 ala__L_s + 0.0046...</td>\n",
       "    </tr>\n",
       "    <tr>\n",
       "      <th>CYTDK2_FWD_BSU27330-MONOMER_mod_mg2_s</th>\n",
       "      <td>0</td>\n",
       "      <td>999999</td>\n",
       "      <td>0</td>\n",
       "      <td>0</td>\n",
       "      <td>cytd_s + gtp_s --&gt; -4.27350427350427e-6*sigma ...</td>\n",
       "    </tr>\n",
       "    <tr>\n",
       "      <th>URIK2_FWD_BSU27330-MONOMER_mod_mg2_s</th>\n",
       "      <td>0</td>\n",
       "      <td>999999</td>\n",
       "      <td>0</td>\n",
       "      <td>0</td>\n",
       "      <td>gtp_s + uri_s --&gt; -4.27350427350427e-6*sigma B...</td>\n",
       "    </tr>\n",
       "  </tbody>\n",
       "</table>\n",
       "</div>"
      ],
      "text/plain": [
       "                                      lb      ub   rxn_flux   met_flux  \\\n",
       "NDPK1_FWD_BSU22730-MONOMER_mod_mn2_s   0  999999   0.973197  -0.973197   \n",
       "ADSS_FWD_BSU40420-MONOMER_s            0  999999   0.014486   0.014486   \n",
       "GK1_FWD_BSU15680-MONOMER_mod_mg2_s     0  999999  0.0140795  0.0140795   \n",
       "GK2_FWD_BSU15680-MONOMER_mod_mg2_s     0  999999          0          0   \n",
       "GK2_REV_BSU15680-MONOMER_mod_mg2_s     0  999999          0         -0   \n",
       "GK1_REV_BSU15680-MONOMER_mod_mg2_s     0  999999          0         -0   \n",
       "NDPK1_REV_BSU22730-MONOMER_mod_mn2_s   0  999999          0          0   \n",
       "RNDR2_FWD_CPLX8J2-9_s                  0  999999          0         -0   \n",
       "NADK1_FWD_BSU11610-MONOMER_mod_mg2_s   0  999999          0          0   \n",
       "BIOMASS_BS_10_FWD_CPLX_dummy_s         0       0          0         -0   \n",
       "CYTDK2_FWD_BSU27330-MONOMER_mod_mg2_s  0  999999          0          0   \n",
       "URIK2_FWD_BSU27330-MONOMER_mod_mg2_s   0  999999          0          0   \n",
       "\n",
       "                                                                                reaction  \n",
       "NDPK1_FWD_BSU22730-MONOMER_mod_mn2_s   atp_s + gdp_s --> -4.27350427350427e-6*sigma B...  \n",
       "ADSS_FWD_BSU40420-MONOMER_s            asp__L_s + gtp_s + imp_s --> -1.09694457755973...  \n",
       "GK1_FWD_BSU15680-MONOMER_mod_mg2_s     atp_s + gmp_s --> -4.27350427350427e-6*sigma B...  \n",
       "GK2_FWD_BSU15680-MONOMER_mod_mg2_s     datp_s + gmp_s --> -1.11896284956934e-5*sigma ...  \n",
       "GK2_REV_BSU15680-MONOMER_mod_mg2_s     dadp_s + gdp_s --> -1.11896284956934e-5*sigma ...  \n",
       "GK1_REV_BSU15680-MONOMER_mod_mg2_s     adp_s + gdp_s --> -4.27350427350427e-6*sigma B...  \n",
       "NDPK1_REV_BSU22730-MONOMER_mod_mn2_s   adp_s + gtp_s --> -4.27350427350427e-6*sigma B...  \n",
       "RNDR2_FWD_CPLX8J2-9_s                  gdp_s --> BSU28500-MONOMER_mod_Oxidized_s + -4...  \n",
       "NADK1_FWD_BSU11610-MONOMER_mod_mg2_s   gtp_s + nad_s --> -4.27350427350427e-6*sigma B...  \n",
       "BIOMASS_BS_10_FWD_CPLX_dummy_s         0.000367 10fthf_s + 0.266902 ala__L_s + 0.0046...  \n",
       "CYTDK2_FWD_BSU27330-MONOMER_mod_mg2_s  cytd_s + gtp_s --> -4.27350427350427e-6*sigma ...  \n",
       "URIK2_FWD_BSU27330-MONOMER_mod_mg2_s   gtp_s + uri_s --> -4.27350427350427e-6*sigma B...  "
      ]
     },
     "execution_count": 67,
     "metadata": {},
     "output_type": "execute_result"
    }
   ],
   "source": [
    "met='gdp_s' # Nucleotide synthesis\n",
    "flux_based_reactions(sporeme,met,flux_dict=flux_dict,only_types=['MetabolicReaction'])"
   ]
  },
  {
   "cell_type": "code",
   "execution_count": 70,
   "metadata": {},
   "outputs": [
    {
     "data": {
      "text/plain": [
       "'asp__L_s + gtp_s + imp_s --> -1.09694457755973e-5*sigma BSU40420-MONOMER_s + dcamp_s + gdp_s + 2.0 h_s + pi_s'"
      ]
     },
     "execution_count": 70,
     "metadata": {},
     "output_type": "execute_result"
    }
   ],
   "source": [
    "sporeme.reactions.get_by_id('ADSS_FWD_BSU40420-MONOMER_s').reaction"
   ]
  },
  {
   "cell_type": "code",
   "execution_count": 69,
   "metadata": {},
   "outputs": [
    {
     "data": {
      "text/html": [
       "<div>\n",
       "<style scoped>\n",
       "    .dataframe tbody tr th:only-of-type {\n",
       "        vertical-align: middle;\n",
       "    }\n",
       "\n",
       "    .dataframe tbody tr th {\n",
       "        vertical-align: top;\n",
       "    }\n",
       "\n",
       "    .dataframe thead th {\n",
       "        text-align: right;\n",
       "    }\n",
       "</style>\n",
       "<table border=\"1\" class=\"dataframe\">\n",
       "  <thead>\n",
       "    <tr style=\"text-align: right;\">\n",
       "      <th></th>\n",
       "      <th>lb</th>\n",
       "      <th>ub</th>\n",
       "      <th>rxn_flux</th>\n",
       "      <th>met_flux</th>\n",
       "      <th>reaction</th>\n",
       "    </tr>\n",
       "  </thead>\n",
       "  <tbody>\n",
       "    <tr>\n",
       "      <th>NDPK1_FWD_BSU22730-MONOMER_mod_mn2_s</th>\n",
       "      <td>0</td>\n",
       "      <td>999999</td>\n",
       "      <td>0.973197</td>\n",
       "      <td>0.973197</td>\n",
       "      <td>atp_s + gdp_s --&gt; -4.27350427350427e-6*sigma B...</td>\n",
       "    </tr>\n",
       "    <tr>\n",
       "      <th>ADSS_FWD_BSU40420-MONOMER_s</th>\n",
       "      <td>0</td>\n",
       "      <td>999999</td>\n",
       "      <td>0.014486</td>\n",
       "      <td>-0.014486</td>\n",
       "      <td>asp__L_s + gtp_s + imp_s --&gt; -1.09694457755973...</td>\n",
       "    </tr>\n",
       "    <tr>\n",
       "      <th>GTPCI_FWD_BSU22780-MONOMER_mod_zn2_s</th>\n",
       "      <td>0</td>\n",
       "      <td>999999</td>\n",
       "      <td>4.08605e-05</td>\n",
       "      <td>-4.08605e-05</td>\n",
       "      <td>gtp_s + h2o_s --&gt; -9.91233679928824e-7*sigma B...</td>\n",
       "    </tr>\n",
       "    <tr>\n",
       "      <th>GTPCII_FWD_BSU23260-MONOMER_s</th>\n",
       "      <td>0</td>\n",
       "      <td>999999</td>\n",
       "      <td>1.29604e-07</td>\n",
       "      <td>-1.29604e-07</td>\n",
       "      <td>gtp_s + 3.0 h2o_s --&gt; 25dhpp_s + -3.2196180643...</td>\n",
       "    </tr>\n",
       "    <tr>\n",
       "      <th>NDPK1_REV_BSU22730-MONOMER_mod_mn2_s</th>\n",
       "      <td>0</td>\n",
       "      <td>999999</td>\n",
       "      <td>0</td>\n",
       "      <td>-0</td>\n",
       "      <td>adp_s + gtp_s --&gt; -4.27350427350427e-6*sigma B...</td>\n",
       "    </tr>\n",
       "    <tr>\n",
       "      <th>NADK1_FWD_BSU11610-MONOMER_mod_mg2_s</th>\n",
       "      <td>0</td>\n",
       "      <td>999999</td>\n",
       "      <td>0</td>\n",
       "      <td>-0</td>\n",
       "      <td>gtp_s + nad_s --&gt; -4.27350427350427e-6*sigma B...</td>\n",
       "    </tr>\n",
       "    <tr>\n",
       "      <th>CYTDK2_FWD_BSU27330-MONOMER_mod_mg2_s</th>\n",
       "      <td>0</td>\n",
       "      <td>999999</td>\n",
       "      <td>0</td>\n",
       "      <td>-0</td>\n",
       "      <td>cytd_s + gtp_s --&gt; -4.27350427350427e-6*sigma ...</td>\n",
       "    </tr>\n",
       "    <tr>\n",
       "      <th>URIK2_FWD_BSU27330-MONOMER_mod_mg2_s</th>\n",
       "      <td>0</td>\n",
       "      <td>999999</td>\n",
       "      <td>0</td>\n",
       "      <td>-0</td>\n",
       "      <td>gtp_s + uri_s --&gt; -4.27350427350427e-6*sigma B...</td>\n",
       "    </tr>\n",
       "    <tr>\n",
       "      <th>BIOMASS_BS_10_FWD_CPLX_dummy_s</th>\n",
       "      <td>0</td>\n",
       "      <td>0</td>\n",
       "      <td>0</td>\n",
       "      <td>-0</td>\n",
       "      <td>0.000367 10fthf_s + 0.266902 ala__L_s + 0.0046...</td>\n",
       "    </tr>\n",
       "    <tr>\n",
       "      <th>GTPDPK_FWD_BSU27600-MONOMER_mod_mn2_s</th>\n",
       "      <td>0</td>\n",
       "      <td>999999</td>\n",
       "      <td>0</td>\n",
       "      <td>-0</td>\n",
       "      <td>atp_s + gtp_s --&gt; -7.11932754370277e-6*sigma B...</td>\n",
       "    </tr>\n",
       "  </tbody>\n",
       "</table>\n",
       "</div>"
      ],
      "text/plain": [
       "                                      lb      ub     rxn_flux     met_flux  \\\n",
       "NDPK1_FWD_BSU22730-MONOMER_mod_mn2_s   0  999999     0.973197     0.973197   \n",
       "ADSS_FWD_BSU40420-MONOMER_s            0  999999     0.014486    -0.014486   \n",
       "GTPCI_FWD_BSU22780-MONOMER_mod_zn2_s   0  999999  4.08605e-05 -4.08605e-05   \n",
       "GTPCII_FWD_BSU23260-MONOMER_s          0  999999  1.29604e-07 -1.29604e-07   \n",
       "NDPK1_REV_BSU22730-MONOMER_mod_mn2_s   0  999999            0           -0   \n",
       "NADK1_FWD_BSU11610-MONOMER_mod_mg2_s   0  999999            0           -0   \n",
       "CYTDK2_FWD_BSU27330-MONOMER_mod_mg2_s  0  999999            0           -0   \n",
       "URIK2_FWD_BSU27330-MONOMER_mod_mg2_s   0  999999            0           -0   \n",
       "BIOMASS_BS_10_FWD_CPLX_dummy_s         0       0            0           -0   \n",
       "GTPDPK_FWD_BSU27600-MONOMER_mod_mn2_s  0  999999            0           -0   \n",
       "\n",
       "                                                                                reaction  \n",
       "NDPK1_FWD_BSU22730-MONOMER_mod_mn2_s   atp_s + gdp_s --> -4.27350427350427e-6*sigma B...  \n",
       "ADSS_FWD_BSU40420-MONOMER_s            asp__L_s + gtp_s + imp_s --> -1.09694457755973...  \n",
       "GTPCI_FWD_BSU22780-MONOMER_mod_zn2_s   gtp_s + h2o_s --> -9.91233679928824e-7*sigma B...  \n",
       "GTPCII_FWD_BSU23260-MONOMER_s          gtp_s + 3.0 h2o_s --> 25dhpp_s + -3.2196180643...  \n",
       "NDPK1_REV_BSU22730-MONOMER_mod_mn2_s   adp_s + gtp_s --> -4.27350427350427e-6*sigma B...  \n",
       "NADK1_FWD_BSU11610-MONOMER_mod_mg2_s   gtp_s + nad_s --> -4.27350427350427e-6*sigma B...  \n",
       "CYTDK2_FWD_BSU27330-MONOMER_mod_mg2_s  cytd_s + gtp_s --> -4.27350427350427e-6*sigma ...  \n",
       "URIK2_FWD_BSU27330-MONOMER_mod_mg2_s   gtp_s + uri_s --> -4.27350427350427e-6*sigma B...  \n",
       "BIOMASS_BS_10_FWD_CPLX_dummy_s         0.000367 10fthf_s + 0.266902 ala__L_s + 0.0046...  \n",
       "GTPDPK_FWD_BSU27600-MONOMER_mod_mn2_s  atp_s + gtp_s --> -7.11932754370277e-6*sigma B...  "
      ]
     },
     "execution_count": 69,
     "metadata": {},
     "output_type": "execute_result"
    }
   ],
   "source": [
    "met='gtp_s' # Nucleotide synthesis\n",
    "flux_based_reactions(sporeme,met,flux_dict=flux_dict,only_types=['MetabolicReaction'])"
   ]
  },
  {
   "cell_type": "code",
   "execution_count": 24,
   "metadata": {},
   "outputs": [],
   "source": [
    "met='acnam_s' # A fraction of PEP_s requirement in the spore\n",
    "flux_based_reactions(sporeme,met,flux_dict=flux_dict,only_types=['MetabolicReaction']).to_csv('metabolite_cases/{}.csv'.format(met[:-2]))"
   ]
  },
  {
   "cell_type": "code",
   "execution_count": 27,
   "metadata": {},
   "outputs": [],
   "source": [
    "met='3amp_s' # Pumping phosporus Pi C->S. Pi is used to pump Fructose C->S\n",
    "flux_based_reactions(sporeme,met,flux_dict=flux_dict,only_types=['MetabolicReaction']).to_csv('metabolite_cases/{}.csv'.format(met[:-2]))"
   ]
  },
  {
   "cell_type": "code",
   "execution_count": 29,
   "metadata": {},
   "outputs": [],
   "source": [
    "met='f6p_s' # \n",
    "flux_based_reactions(sporeme,met,flux_dict=flux_dict,only_types=['MetabolicReaction']).to_csv('metabolite_cases/{}.csv'.format(met[:-2]))"
   ]
  },
  {
   "cell_type": "code",
   "execution_count": 30,
   "metadata": {},
   "outputs": [],
   "source": [
    "met='man6p_s' #\n",
    "flux_based_reactions(sporeme,met,flux_dict=flux_dict,only_types=['MetabolicReaction']).to_csv('metabolite_cases/{}.csv'.format(met[:-2]))"
   ]
  },
  {
   "cell_type": "code",
   "execution_count": 34,
   "metadata": {},
   "outputs": [],
   "source": [
    "met='h_s' # \n",
    "flux_based_reactions(sporeme,met,flux_dict=flux_dict,only_types=['MetabolicReaction']).to_csv('metabolite_cases/{}.csv'.format(met[:-2]))"
   ]
  },
  {
   "cell_type": "code",
   "execution_count": 71,
   "metadata": {},
   "outputs": [
    {
     "data": {
      "text/html": [
       "<div>\n",
       "<style scoped>\n",
       "    .dataframe tbody tr th:only-of-type {\n",
       "        vertical-align: middle;\n",
       "    }\n",
       "\n",
       "    .dataframe tbody tr th {\n",
       "        vertical-align: top;\n",
       "    }\n",
       "\n",
       "    .dataframe thead th {\n",
       "        text-align: right;\n",
       "    }\n",
       "</style>\n",
       "<table border=\"1\" class=\"dataframe\">\n",
       "  <thead>\n",
       "    <tr style=\"text-align: right;\">\n",
       "      <th></th>\n",
       "      <th>lb</th>\n",
       "      <th>ub</th>\n",
       "      <th>rxn_flux</th>\n",
       "      <th>met_flux</th>\n",
       "      <th>reaction</th>\n",
       "    </tr>\n",
       "  </thead>\n",
       "  <tbody>\n",
       "    <tr>\n",
       "      <th>F6Pt6_2_FWD_BSU12010-MONOMER_s</th>\n",
       "      <td>0</td>\n",
       "      <td>999999</td>\n",
       "      <td>90.4033</td>\n",
       "      <td>-180.807</td>\n",
       "      <td>f6p_c + 2.0 pi_s &lt;=&gt; -4.27350427350427e-6*sigm...</td>\n",
       "    </tr>\n",
       "    <tr>\n",
       "      <th>3NUCLE1_FWD_BSU07840-MONOMER_s</th>\n",
       "      <td>0</td>\n",
       "      <td>999999</td>\n",
       "      <td>179.642</td>\n",
       "      <td>179.642</td>\n",
       "      <td>3amp_s + h2o_s &lt;=&gt; -4.27350427350427e-6*sigma ...</td>\n",
       "    </tr>\n",
       "    <tr>\n",
       "      <th>ATPS4r_FWD_CPLX000-10_s</th>\n",
       "      <td>0</td>\n",
       "      <td>999999</td>\n",
       "      <td>23.0471</td>\n",
       "      <td>-23.0471</td>\n",
       "      <td>adp_s + 4.0 h_c + pi_s &lt;=&gt; -4.27350427350427e-...</td>\n",
       "    </tr>\n",
       "    <tr>\n",
       "      <th>PPA_FWD_BSU40550-MONOMER_s</th>\n",
       "      <td>0</td>\n",
       "      <td>999999</td>\n",
       "      <td>0.769643</td>\n",
       "      <td>1.53929</td>\n",
       "      <td>h2o_s + ppi_s &lt;=&gt; -0.000101820379163072*sigma ...</td>\n",
       "    </tr>\n",
       "    <tr>\n",
       "      <th>ACCOAC_FWD_CPLX000-1_s</th>\n",
       "      <td>0</td>\n",
       "      <td>999999</td>\n",
       "      <td>0.168744</td>\n",
       "      <td>0.168744</td>\n",
       "      <td>accoa_s + atp_s + hco3_s &lt;=&gt; -4.27350427350427...</td>\n",
       "    </tr>\n",
       "    <tr>\n",
       "      <th>...</th>\n",
       "      <td>...</td>\n",
       "      <td>...</td>\n",
       "      <td>...</td>\n",
       "      <td>...</td>\n",
       "      <td>...</td>\n",
       "    </tr>\n",
       "    <tr>\n",
       "      <th>OCBT_1_FWD_BSU11250-MONOMER_s</th>\n",
       "      <td>0</td>\n",
       "      <td>999999</td>\n",
       "      <td>0</td>\n",
       "      <td>0</td>\n",
       "      <td>cbp_s + orn__L_s &lt;=&gt; -1.39331395579107e-5*sigm...</td>\n",
       "    </tr>\n",
       "    <tr>\n",
       "      <th>LANTHabc_FWD_CPLX_dummy_s</th>\n",
       "      <td>0</td>\n",
       "      <td>999999</td>\n",
       "      <td>0</td>\n",
       "      <td>0</td>\n",
       "      <td>atp_s + h2o_s + lanth_c &lt;=&gt; -4.27350427350427e...</td>\n",
       "    </tr>\n",
       "    <tr>\n",
       "      <th>MALTTRabc_FWD_CPLX_dummy_s</th>\n",
       "      <td>0</td>\n",
       "      <td>999999</td>\n",
       "      <td>0</td>\n",
       "      <td>0</td>\n",
       "      <td>atp_s + h2o_s + malttr_c &lt;=&gt; -4.27350427350427...</td>\n",
       "    </tr>\n",
       "    <tr>\n",
       "      <th>MSO3abc_FWD_CPLX8J2-74_s</th>\n",
       "      <td>0</td>\n",
       "      <td>999999</td>\n",
       "      <td>0</td>\n",
       "      <td>0</td>\n",
       "      <td>atp_s + h2o_s + mso3_c &lt;=&gt; -4.27350427350427e-...</td>\n",
       "    </tr>\n",
       "    <tr>\n",
       "      <th>ETHSabc_FWD_CPLX8J2-74_s</th>\n",
       "      <td>0</td>\n",
       "      <td>999999</td>\n",
       "      <td>0</td>\n",
       "      <td>0</td>\n",
       "      <td>atp_s + eths_c + h2o_s &lt;=&gt; -4.27350427350427e-...</td>\n",
       "    </tr>\n",
       "  </tbody>\n",
       "</table>\n",
       "<p>281 rows × 5 columns</p>\n",
       "</div>"
      ],
      "text/plain": [
       "                               lb      ub  rxn_flux  met_flux  \\\n",
       "F6Pt6_2_FWD_BSU12010-MONOMER_s  0  999999   90.4033  -180.807   \n",
       "3NUCLE1_FWD_BSU07840-MONOMER_s  0  999999   179.642   179.642   \n",
       "ATPS4r_FWD_CPLX000-10_s         0  999999   23.0471  -23.0471   \n",
       "PPA_FWD_BSU40550-MONOMER_s      0  999999  0.769643   1.53929   \n",
       "ACCOAC_FWD_CPLX000-1_s          0  999999  0.168744  0.168744   \n",
       "...                            ..     ...       ...       ...   \n",
       "OCBT_1_FWD_BSU11250-MONOMER_s   0  999999         0         0   \n",
       "LANTHabc_FWD_CPLX_dummy_s       0  999999         0         0   \n",
       "MALTTRabc_FWD_CPLX_dummy_s      0  999999         0         0   \n",
       "MSO3abc_FWD_CPLX8J2-74_s        0  999999         0         0   \n",
       "ETHSabc_FWD_CPLX8J2-74_s        0  999999         0         0   \n",
       "\n",
       "                                                                         reaction  \n",
       "F6Pt6_2_FWD_BSU12010-MONOMER_s  f6p_c + 2.0 pi_s <=> -4.27350427350427e-6*sigm...  \n",
       "3NUCLE1_FWD_BSU07840-MONOMER_s  3amp_s + h2o_s <=> -4.27350427350427e-6*sigma ...  \n",
       "ATPS4r_FWD_CPLX000-10_s         adp_s + 4.0 h_c + pi_s <=> -4.27350427350427e-...  \n",
       "PPA_FWD_BSU40550-MONOMER_s      h2o_s + ppi_s <=> -0.000101820379163072*sigma ...  \n",
       "ACCOAC_FWD_CPLX000-1_s          accoa_s + atp_s + hco3_s <=> -4.27350427350427...  \n",
       "...                                                                           ...  \n",
       "OCBT_1_FWD_BSU11250-MONOMER_s   cbp_s + orn__L_s <=> -1.39331395579107e-5*sigm...  \n",
       "LANTHabc_FWD_CPLX_dummy_s       atp_s + h2o_s + lanth_c <=> -4.27350427350427e...  \n",
       "MALTTRabc_FWD_CPLX_dummy_s      atp_s + h2o_s + malttr_c <=> -4.27350427350427...  \n",
       "MSO3abc_FWD_CPLX8J2-74_s        atp_s + h2o_s + mso3_c <=> -4.27350427350427e-...  \n",
       "ETHSabc_FWD_CPLX8J2-74_s        atp_s + eths_c + h2o_s <=> -4.27350427350427e-...  \n",
       "\n",
       "[281 rows x 5 columns]"
      ]
     },
     "execution_count": 71,
     "metadata": {},
     "output_type": "execute_result"
    }
   ],
   "source": [
    "met='pi_s' # \n",
    "flux_based_reactions(sporeme,met,flux_dict=flux_dict,only_types=['MetabolicReaction'])"
   ]
  },
  {
   "cell_type": "code",
   "execution_count": 64,
   "metadata": {},
   "outputs": [
    {
     "data": {
      "text/plain": [
       "'3amp_c + h_c <=> 3amp_s + -4.27350427350427e-6*sigma CPLX_dummy_s + h_s'"
      ]
     },
     "execution_count": 64,
     "metadata": {},
     "output_type": "execute_result"
    }
   ],
   "source": [
    "sporeme.reactions.get_by_id('3AMPt6_FWD_CPLX_dummy_s').reaction"
   ]
  },
  {
   "cell_type": "code",
   "execution_count": 66,
   "metadata": {},
   "outputs": [
    {
     "data": {
      "text/plain": [
       "'3amp_s + h2o_s <=> -4.27350427350427e-6*sigma BSU07840-MONOMER_s + adn_s + pi_s'"
      ]
     },
     "execution_count": 66,
     "metadata": {},
     "output_type": "execute_result"
    }
   ],
   "source": [
    "sporeme.reactions.get_by_id('3NUCLE1_FWD_BSU07840-MONOMER_s').reaction"
   ]
  },
  {
   "cell_type": "code",
   "execution_count": 68,
   "metadata": {},
   "outputs": [
    {
     "data": {
      "text/plain": [
       "'adn_s + h_s <=> -4.27350427350427e-6*sigma BSU38710-MONOMER_s + adn_c + h_c'"
      ]
     },
     "execution_count": 68,
     "metadata": {},
     "output_type": "execute_result"
    }
   ],
   "source": [
    "sporeme.reactions.get_by_id('ADNt2_REV_BSU38710-MONOMER_s').reaction"
   ]
  },
  {
   "cell_type": "code",
   "execution_count": 70,
   "metadata": {},
   "outputs": [
    {
     "data": {
      "text/plain": [
       "'adn_c + pi_c <=> 3amp_c + -4.27350427350427e-6*sigma BSU07840-MONOMER + h2o_c'"
      ]
     },
     "execution_count": 70,
     "metadata": {},
     "output_type": "execute_result"
    }
   ],
   "source": [
    "sporeme.reactions.get_by_id('3NUCLE1_REV_BSU07840-MONOMER').reaction"
   ]
  },
  {
   "cell_type": "code",
   "execution_count": 72,
   "metadata": {},
   "outputs": [
    {
     "data": {
      "text/plain": [
       "'Sulfate'"
      ]
     },
     "execution_count": 72,
     "metadata": {},
     "output_type": "execute_result"
    }
   ],
   "source": [
    "sporeme.metabolites.get_by_id('so4_s').name"
   ]
  },
  {
   "cell_type": "code",
   "execution_count": 26,
   "metadata": {},
   "outputs": [],
   "source": [
    "met='adn_s' #\n",
    "flux_based_reactions(sporeme,met,flux_dict=flux_dict,only_types=['MetabolicReaction']).to_csv('metabolite_cases/{}.csv'.format(met[:-2]))"
   ]
  },
  {
   "cell_type": "code",
   "execution_count": 28,
   "metadata": {},
   "outputs": [],
   "source": [
    "met='pi_s' #\n",
    "flux_based_reactions(sporeme,met,flux_dict=flux_dict,only_types=['MetabolicReaction']).to_csv('metabolite_cases/{}.csv'.format(met[:-2]))"
   ]
  },
  {
   "cell_type": "code",
   "execution_count": 51,
   "metadata": {},
   "outputs": [],
   "source": [
    "met='leu__L_s' # \n",
    "flux_based_reactions(sporeme,met,flux_dict=flux_dict,only_types=['MetabolicReaction']).to_csv('metabolite_cases/{}.csv'.format(met[:-2]))"
   ]
  },
  {
   "cell_type": "code",
   "execution_count": null,
   "metadata": {},
   "outputs": [],
   "source": [
    "met='glu__L_s' # \n",
    "flux_based_reactions(sporeme,met,flux_dict=flux_dict,only_types=['MetabolicReaction']).to_csv('metabolite_cases/{}.csv'.format(met[:-2]))"
   ]
  },
  {
   "cell_type": "code",
   "execution_count": 53,
   "metadata": {},
   "outputs": [],
   "source": [
    "met='orn__L_s' # \n",
    "flux_based_reactions(sporeme,met,flux_dict=flux_dict,only_types=['MetabolicReaction']).to_csv('metabolite_cases/{}.csv'.format(met[:-2]))"
   ]
  },
  {
   "cell_type": "markdown",
   "metadata": {},
   "source": [
    "#### Pairwise interaction"
   ]
  },
  {
   "cell_type": "code",
   "execution_count": 96,
   "metadata": {
    "scrolled": true
   },
   "outputs": [],
   "source": [
    "with open(\"./sporeme_solution.pickle\", \"rb\") as outfile:\n",
    "    sporeme = pickle.load(outfile)"
   ]
  },
  {
   "cell_type": "code",
   "execution_count": 97,
   "metadata": {},
   "outputs": [],
   "source": [
    "for r in transport_reactions:\n",
    "    if r not in essential_transporters and 'SPONT' not in r:\n",
    "        rxn = sporeme.reactions.get_by_id(r)\n",
    "        rxn.upper_bound = 0 \n",
    "        rxn.lower_bound = 0"
   ]
  },
  {
   "cell_type": "code",
   "execution_count": 98,
   "metadata": {},
   "outputs": [],
   "source": [
    "flux_results_df = pd.read_csv('essential_metabolite_group_KO.csv',index_col=0)\n",
    "essential_metabolites = flux_results_df.drop('base',axis=1).columns.values\n",
    "base_model = copy.deepcopy(sporeme)"
   ]
  },
  {
   "cell_type": "code",
   "execution_count": 99,
   "metadata": {},
   "outputs": [
    {
     "name": "stdout",
     "output_type": "stream",
     "text": [
      "With 21 knockouts there can be 210.0 pairs\n"
     ]
    }
   ],
   "source": [
    "from scipy.special import binom\n",
    "print('With {} knockouts there can be {} pairs'.format(len(essential_metabolites),binom(len(essential_metabolites),2)))"
   ]
  },
  {
   "cell_type": "code",
   "execution_count": null,
   "metadata": {
    "scrolled": true
   },
   "outputs": [
    {
     "name": "stdout",
     "output_type": "stream",
     "text": [
      "Chosen change function: group_knockout      Sequential = False\n"
     ]
    },
    {
     "name": "stderr",
     "output_type": "stream",
     "text": [
      "\n",
      "\n",
      "\n",
      "\n",
      "\n",
      "\n",
      "\n",
      "\n",
      "\n",
      "\n",
      "\n",
      "\n",
      "\n",
      "\n",
      "\n",
      "\n",
      "\n",
      "\n",
      "\n",
      "\n",
      "\n",
      "\n",
      "  0%|          | 0/21 [00:00<?, ?it/s]\u001b[A\u001b[A\u001b[A\u001b[A\u001b[A\u001b[A\u001b[A\u001b[A\u001b[A\u001b[A\u001b[A\u001b[A\u001b[A\u001b[A\u001b[A\u001b[A\u001b[A\u001b[A\u001b[A\u001b[A\u001b[A\u001b[A\n",
      "\n",
      "\n",
      "\n",
      "\n",
      "\n",
      "\n",
      "\n",
      "\n",
      "\n",
      "\n",
      "\n",
      "\n",
      "\n",
      "\n",
      "\n",
      "\n",
      "\n",
      "\n",
      "\n",
      "\n",
      "\n",
      "biomass_dilution_s response (20 threads):   0%|          | 0/21 [00:00<?, ?it/s]\u001b[A\u001b[A\u001b[A\u001b[A\u001b[A\u001b[A\u001b[A\u001b[A\u001b[A\u001b[A\u001b[A\u001b[A\u001b[A\u001b[A\u001b[A\u001b[A\u001b[A\u001b[A\u001b[A\u001b[A\u001b[A\u001b[A"
     ]
    }
   ],
   "source": [
    "from bacillusme.analysis import sensitivity as ss\n",
    "for met in essential_metabolites:\n",
    "    # Restore\n",
    "    sporeme = copy.deepcopy(base_model)\n",
    "    \n",
    "    # Close transporter\n",
    "    for r in at_dict[met]:\n",
    "        rxn = sporeme.reactions.get_by_id(r)\n",
    "        rxn.lower_bound = 0\n",
    "        rxn.upper_bound = 0\n",
    "    \n",
    "    # Calculation\n",
    "    flux_results_df = ss.transporter_knockout(sporeme,essential_metabolites, \\\n",
    "                                        NP=20,solution=1,biomass_dilution='biomass_dilution_s',\\\n",
    "                                        growth_key = 'sigma',single_change_function='group_knockout')\n",
    "    flux_results_df.to_csv('group_transporter_knockouts/{}.csv'.format(met))"
   ]
  },
  {
   "cell_type": "code",
   "execution_count": 102,
   "metadata": {},
   "outputs": [
    {
     "data": {
      "text/html": [
       "<div>\n",
       "<style scoped>\n",
       "    .dataframe tbody tr th:only-of-type {\n",
       "        vertical-align: middle;\n",
       "    }\n",
       "\n",
       "    .dataframe tbody tr th {\n",
       "        vertical-align: top;\n",
       "    }\n",
       "\n",
       "    .dataframe thead th {\n",
       "        text-align: right;\n",
       "    }\n",
       "</style>\n",
       "<table border=\"1\" class=\"dataframe\">\n",
       "  <thead>\n",
       "    <tr style=\"text-align: right;\">\n",
       "      <th></th>\n",
       "      <th>base</th>\n",
       "      <th>arg__L_s</th>\n",
       "      <th>zn2_s</th>\n",
       "      <th>so4_s</th>\n",
       "      <th>acnam_s</th>\n",
       "      <th>pser__L_s</th>\n",
       "      <th>6pgc_s</th>\n",
       "      <th>asp__L_s</th>\n",
       "      <th>k_s</th>\n",
       "      <th>gmp_s</th>\n",
       "      <th>...</th>\n",
       "      <th>pyr_c</th>\n",
       "      <th>cbl1_s</th>\n",
       "      <th>mg2_s</th>\n",
       "      <th>pi_c</th>\n",
       "      <th>3amp_s</th>\n",
       "      <th>adn_c</th>\n",
       "      <th>man6p_c</th>\n",
       "      <th>mn2_s</th>\n",
       "      <th>f6p_s</th>\n",
       "      <th>met__L_c</th>\n",
       "    </tr>\n",
       "  </thead>\n",
       "  <tbody>\n",
       "    <tr>\n",
       "      <th>biomass_dilution</th>\n",
       "      <td>0.046832</td>\n",
       "      <td>0.0</td>\n",
       "      <td>0.0</td>\n",
       "      <td>0.0</td>\n",
       "      <td>0.0</td>\n",
       "      <td>0.0</td>\n",
       "      <td>0.0</td>\n",
       "      <td>0.0</td>\n",
       "      <td>0.0</td>\n",
       "      <td>0.0</td>\n",
       "      <td>...</td>\n",
       "      <td>0.0</td>\n",
       "      <td>0.0</td>\n",
       "      <td>0.0</td>\n",
       "      <td>0.0</td>\n",
       "      <td>0.0</td>\n",
       "      <td>0.0</td>\n",
       "      <td>0.0</td>\n",
       "      <td>0.0</td>\n",
       "      <td>0.0</td>\n",
       "      <td>0.0</td>\n",
       "    </tr>\n",
       "    <tr>\n",
       "      <th>protein_biomass_to_biomass</th>\n",
       "      <td>0.026954</td>\n",
       "      <td>0.0</td>\n",
       "      <td>0.0</td>\n",
       "      <td>0.0</td>\n",
       "      <td>0.0</td>\n",
       "      <td>0.0</td>\n",
       "      <td>0.0</td>\n",
       "      <td>0.0</td>\n",
       "      <td>0.0</td>\n",
       "      <td>0.0</td>\n",
       "      <td>...</td>\n",
       "      <td>0.0</td>\n",
       "      <td>0.0</td>\n",
       "      <td>0.0</td>\n",
       "      <td>0.0</td>\n",
       "      <td>0.0</td>\n",
       "      <td>0.0</td>\n",
       "      <td>0.0</td>\n",
       "      <td>0.0</td>\n",
       "      <td>0.0</td>\n",
       "      <td>0.0</td>\n",
       "    </tr>\n",
       "    <tr>\n",
       "      <th>mRNA_biomass_to_biomass</th>\n",
       "      <td>0.000092</td>\n",
       "      <td>0.0</td>\n",
       "      <td>0.0</td>\n",
       "      <td>0.0</td>\n",
       "      <td>0.0</td>\n",
       "      <td>0.0</td>\n",
       "      <td>0.0</td>\n",
       "      <td>0.0</td>\n",
       "      <td>0.0</td>\n",
       "      <td>0.0</td>\n",
       "      <td>...</td>\n",
       "      <td>0.0</td>\n",
       "      <td>0.0</td>\n",
       "      <td>0.0</td>\n",
       "      <td>0.0</td>\n",
       "      <td>0.0</td>\n",
       "      <td>0.0</td>\n",
       "      <td>0.0</td>\n",
       "      <td>0.0</td>\n",
       "      <td>0.0</td>\n",
       "      <td>0.0</td>\n",
       "    </tr>\n",
       "    <tr>\n",
       "      <th>tRNA_biomass_to_biomass</th>\n",
       "      <td>0.000544</td>\n",
       "      <td>0.0</td>\n",
       "      <td>0.0</td>\n",
       "      <td>0.0</td>\n",
       "      <td>0.0</td>\n",
       "      <td>0.0</td>\n",
       "      <td>0.0</td>\n",
       "      <td>0.0</td>\n",
       "      <td>0.0</td>\n",
       "      <td>0.0</td>\n",
       "      <td>...</td>\n",
       "      <td>0.0</td>\n",
       "      <td>0.0</td>\n",
       "      <td>0.0</td>\n",
       "      <td>0.0</td>\n",
       "      <td>0.0</td>\n",
       "      <td>0.0</td>\n",
       "      <td>0.0</td>\n",
       "      <td>0.0</td>\n",
       "      <td>0.0</td>\n",
       "      <td>0.0</td>\n",
       "    </tr>\n",
       "    <tr>\n",
       "      <th>rRNA_biomass_to_biomass</th>\n",
       "      <td>0.004027</td>\n",
       "      <td>0.0</td>\n",
       "      <td>0.0</td>\n",
       "      <td>0.0</td>\n",
       "      <td>0.0</td>\n",
       "      <td>0.0</td>\n",
       "      <td>0.0</td>\n",
       "      <td>0.0</td>\n",
       "      <td>0.0</td>\n",
       "      <td>0.0</td>\n",
       "      <td>...</td>\n",
       "      <td>0.0</td>\n",
       "      <td>0.0</td>\n",
       "      <td>0.0</td>\n",
       "      <td>0.0</td>\n",
       "      <td>0.0</td>\n",
       "      <td>0.0</td>\n",
       "      <td>0.0</td>\n",
       "      <td>0.0</td>\n",
       "      <td>0.0</td>\n",
       "      <td>0.0</td>\n",
       "    </tr>\n",
       "    <tr>\n",
       "      <th>...</th>\n",
       "      <td>...</td>\n",
       "      <td>...</td>\n",
       "      <td>...</td>\n",
       "      <td>...</td>\n",
       "      <td>...</td>\n",
       "      <td>...</td>\n",
       "      <td>...</td>\n",
       "      <td>...</td>\n",
       "      <td>...</td>\n",
       "      <td>...</td>\n",
       "      <td>...</td>\n",
       "      <td>...</td>\n",
       "      <td>...</td>\n",
       "      <td>...</td>\n",
       "      <td>...</td>\n",
       "      <td>...</td>\n",
       "      <td>...</td>\n",
       "      <td>...</td>\n",
       "      <td>...</td>\n",
       "      <td>...</td>\n",
       "      <td>...</td>\n",
       "    </tr>\n",
       "    <tr>\n",
       "      <th>Demand_psetha_BS_s</th>\n",
       "      <td>0.112613</td>\n",
       "      <td>0.0</td>\n",
       "      <td>0.0</td>\n",
       "      <td>0.0</td>\n",
       "      <td>0.0</td>\n",
       "      <td>0.0</td>\n",
       "      <td>0.0</td>\n",
       "      <td>0.0</td>\n",
       "      <td>0.0</td>\n",
       "      <td>0.0</td>\n",
       "      <td>...</td>\n",
       "      <td>0.0</td>\n",
       "      <td>0.0</td>\n",
       "      <td>0.0</td>\n",
       "      <td>0.0</td>\n",
       "      <td>0.0</td>\n",
       "      <td>0.0</td>\n",
       "      <td>0.0</td>\n",
       "      <td>0.0</td>\n",
       "      <td>0.0</td>\n",
       "      <td>0.0</td>\n",
       "    </tr>\n",
       "    <tr>\n",
       "      <th>Demand_t12dg_BS_s</th>\n",
       "      <td>0.112613</td>\n",
       "      <td>0.0</td>\n",
       "      <td>0.0</td>\n",
       "      <td>0.0</td>\n",
       "      <td>0.0</td>\n",
       "      <td>0.0</td>\n",
       "      <td>0.0</td>\n",
       "      <td>0.0</td>\n",
       "      <td>0.0</td>\n",
       "      <td>0.0</td>\n",
       "      <td>...</td>\n",
       "      <td>0.0</td>\n",
       "      <td>0.0</td>\n",
       "      <td>0.0</td>\n",
       "      <td>0.0</td>\n",
       "      <td>0.0</td>\n",
       "      <td>0.0</td>\n",
       "      <td>0.0</td>\n",
       "      <td>0.0</td>\n",
       "      <td>0.0</td>\n",
       "      <td>0.0</td>\n",
       "    </tr>\n",
       "    <tr>\n",
       "      <th>Demand_gtca3_45_BS_s</th>\n",
       "      <td>0.112613</td>\n",
       "      <td>0.0</td>\n",
       "      <td>0.0</td>\n",
       "      <td>0.0</td>\n",
       "      <td>0.0</td>\n",
       "      <td>0.0</td>\n",
       "      <td>0.0</td>\n",
       "      <td>0.0</td>\n",
       "      <td>0.0</td>\n",
       "      <td>0.0</td>\n",
       "      <td>...</td>\n",
       "      <td>0.0</td>\n",
       "      <td>0.0</td>\n",
       "      <td>0.0</td>\n",
       "      <td>0.0</td>\n",
       "      <td>0.0</td>\n",
       "      <td>0.0</td>\n",
       "      <td>0.0</td>\n",
       "      <td>0.0</td>\n",
       "      <td>0.0</td>\n",
       "      <td>0.0</td>\n",
       "    </tr>\n",
       "    <tr>\n",
       "      <th>Demand_lipo1_24_BS_s</th>\n",
       "      <td>0.112613</td>\n",
       "      <td>0.0</td>\n",
       "      <td>0.0</td>\n",
       "      <td>0.0</td>\n",
       "      <td>0.0</td>\n",
       "      <td>0.0</td>\n",
       "      <td>0.0</td>\n",
       "      <td>0.0</td>\n",
       "      <td>0.0</td>\n",
       "      <td>0.0</td>\n",
       "      <td>...</td>\n",
       "      <td>0.0</td>\n",
       "      <td>0.0</td>\n",
       "      <td>0.0</td>\n",
       "      <td>0.0</td>\n",
       "      <td>0.0</td>\n",
       "      <td>0.0</td>\n",
       "      <td>0.0</td>\n",
       "      <td>0.0</td>\n",
       "      <td>0.0</td>\n",
       "      <td>0.0</td>\n",
       "    </tr>\n",
       "    <tr>\n",
       "      <th>Demand_tcam_BS_s</th>\n",
       "      <td>0.112613</td>\n",
       "      <td>0.0</td>\n",
       "      <td>0.0</td>\n",
       "      <td>0.0</td>\n",
       "      <td>0.0</td>\n",
       "      <td>0.0</td>\n",
       "      <td>0.0</td>\n",
       "      <td>0.0</td>\n",
       "      <td>0.0</td>\n",
       "      <td>0.0</td>\n",
       "      <td>...</td>\n",
       "      <td>0.0</td>\n",
       "      <td>0.0</td>\n",
       "      <td>0.0</td>\n",
       "      <td>0.0</td>\n",
       "      <td>0.0</td>\n",
       "      <td>0.0</td>\n",
       "      <td>0.0</td>\n",
       "      <td>0.0</td>\n",
       "      <td>0.0</td>\n",
       "      <td>0.0</td>\n",
       "    </tr>\n",
       "  </tbody>\n",
       "</table>\n",
       "<p>12339 rows × 22 columns</p>\n",
       "</div>"
      ],
      "text/plain": [
       "                                base  arg__L_s  zn2_s  so4_s  acnam_s  \\\n",
       "biomass_dilution            0.046832       0.0    0.0    0.0      0.0   \n",
       "protein_biomass_to_biomass  0.026954       0.0    0.0    0.0      0.0   \n",
       "mRNA_biomass_to_biomass     0.000092       0.0    0.0    0.0      0.0   \n",
       "tRNA_biomass_to_biomass     0.000544       0.0    0.0    0.0      0.0   \n",
       "rRNA_biomass_to_biomass     0.004027       0.0    0.0    0.0      0.0   \n",
       "...                              ...       ...    ...    ...      ...   \n",
       "Demand_psetha_BS_s          0.112613       0.0    0.0    0.0      0.0   \n",
       "Demand_t12dg_BS_s           0.112613       0.0    0.0    0.0      0.0   \n",
       "Demand_gtca3_45_BS_s        0.112613       0.0    0.0    0.0      0.0   \n",
       "Demand_lipo1_24_BS_s        0.112613       0.0    0.0    0.0      0.0   \n",
       "Demand_tcam_BS_s            0.112613       0.0    0.0    0.0      0.0   \n",
       "\n",
       "                            pser__L_s  6pgc_s  asp__L_s  k_s  gmp_s  ...  \\\n",
       "biomass_dilution                  0.0     0.0       0.0  0.0    0.0  ...   \n",
       "protein_biomass_to_biomass        0.0     0.0       0.0  0.0    0.0  ...   \n",
       "mRNA_biomass_to_biomass           0.0     0.0       0.0  0.0    0.0  ...   \n",
       "tRNA_biomass_to_biomass           0.0     0.0       0.0  0.0    0.0  ...   \n",
       "rRNA_biomass_to_biomass           0.0     0.0       0.0  0.0    0.0  ...   \n",
       "...                               ...     ...       ...  ...    ...  ...   \n",
       "Demand_psetha_BS_s                0.0     0.0       0.0  0.0    0.0  ...   \n",
       "Demand_t12dg_BS_s                 0.0     0.0       0.0  0.0    0.0  ...   \n",
       "Demand_gtca3_45_BS_s              0.0     0.0       0.0  0.0    0.0  ...   \n",
       "Demand_lipo1_24_BS_s              0.0     0.0       0.0  0.0    0.0  ...   \n",
       "Demand_tcam_BS_s                  0.0     0.0       0.0  0.0    0.0  ...   \n",
       "\n",
       "                            pyr_c  cbl1_s  mg2_s  pi_c  3amp_s  adn_c  \\\n",
       "biomass_dilution              0.0     0.0    0.0   0.0     0.0    0.0   \n",
       "protein_biomass_to_biomass    0.0     0.0    0.0   0.0     0.0    0.0   \n",
       "mRNA_biomass_to_biomass       0.0     0.0    0.0   0.0     0.0    0.0   \n",
       "tRNA_biomass_to_biomass       0.0     0.0    0.0   0.0     0.0    0.0   \n",
       "rRNA_biomass_to_biomass       0.0     0.0    0.0   0.0     0.0    0.0   \n",
       "...                           ...     ...    ...   ...     ...    ...   \n",
       "Demand_psetha_BS_s            0.0     0.0    0.0   0.0     0.0    0.0   \n",
       "Demand_t12dg_BS_s             0.0     0.0    0.0   0.0     0.0    0.0   \n",
       "Demand_gtca3_45_BS_s          0.0     0.0    0.0   0.0     0.0    0.0   \n",
       "Demand_lipo1_24_BS_s          0.0     0.0    0.0   0.0     0.0    0.0   \n",
       "Demand_tcam_BS_s              0.0     0.0    0.0   0.0     0.0    0.0   \n",
       "\n",
       "                            man6p_c  mn2_s  f6p_s  met__L_c  \n",
       "biomass_dilution                0.0    0.0    0.0       0.0  \n",
       "protein_biomass_to_biomass      0.0    0.0    0.0       0.0  \n",
       "mRNA_biomass_to_biomass         0.0    0.0    0.0       0.0  \n",
       "tRNA_biomass_to_biomass         0.0    0.0    0.0       0.0  \n",
       "rRNA_biomass_to_biomass         0.0    0.0    0.0       0.0  \n",
       "...                             ...    ...    ...       ...  \n",
       "Demand_psetha_BS_s              0.0    0.0    0.0       0.0  \n",
       "Demand_t12dg_BS_s               0.0    0.0    0.0       0.0  \n",
       "Demand_gtca3_45_BS_s            0.0    0.0    0.0       0.0  \n",
       "Demand_lipo1_24_BS_s            0.0    0.0    0.0       0.0  \n",
       "Demand_tcam_BS_s                0.0    0.0    0.0       0.0  \n",
       "\n",
       "[12339 rows x 22 columns]"
      ]
     },
     "execution_count": 102,
     "metadata": {},
     "output_type": "execute_result"
    }
   ],
   "source": [
    "flux_results_df"
   ]
  },
  {
   "cell_type": "code",
   "execution_count": 103,
   "metadata": {},
   "outputs": [],
   "source": [
    "# Read and process\n",
    "gr_df = pd.DataFrame(index=essential_metabolites)\n",
    "for m in essential_metabolites:\n",
    "    flux_results_df=pd.read_csv('group_transporter_knockouts/{}.csv'.format(m),index_col=0).drop('base',axis=1)\n",
    "    for i in flux_results_df.columns.values:\n",
    "        gr_df.loc[m,i] = flux_results_df.loc['biomass_dilution_s',i]"
   ]
  },
  {
   "cell_type": "code",
   "execution_count": 105,
   "metadata": {},
   "outputs": [
    {
     "data": {
      "text/plain": [
       "<seaborn.matrix.ClusterGrid at 0x7f5dce37f780>"
      ]
     },
     "execution_count": 105,
     "metadata": {},
     "output_type": "execute_result"
    },
    {
     "data": {
      "text/plain": [
       "<Figure size 936x360 with 0 Axes>"
      ]
     },
     "metadata": {},
     "output_type": "display_data"
    },
    {
     "data": {
      "image/png": "[encoded data removed]",
      "text/plain": [
       "<Figure size 720x720 with 4 Axes>"
      ]
     },
     "metadata": {},
     "output_type": "display_data"
    }
   ],
   "source": [
    "plt.figure(figsize = (13,5))\n",
    "output = gr_df.loc[gr_df.any(axis=1),gr_df.any(axis=0)]\n",
    "cluster_df = pd.DataFrame(stats.zscore(output,axis=1),\n",
    "                            index=output.index,columns=output.columns)\n",
    "sns.clustermap(cluster_df,col_cluster=1,row_cluster=1, cmap='mako')"
   ]
  },
  {
   "cell_type": "code",
   "execution_count": 111,
   "metadata": {},
   "outputs": [
    {
     "data": {
      "text/plain": [
       "<seaborn.matrix.ClusterGrid at 0x7f5d867192b0>"
      ]
     },
     "execution_count": 111,
     "metadata": {},
     "output_type": "execute_result"
    },
    {
     "data": {
      "text/plain": [
       "<Figure size 936x360 with 0 Axes>"
      ]
     },
     "metadata": {},
     "output_type": "display_data"
    },
    {
     "data": {
      "image/png": "[encoded data removed]",
      "text/plain": [
       "<Figure size 720x720 with 4 Axes>"
      ]
     },
     "metadata": {},
     "output_type": "display_data"
    }
   ],
   "source": [
    "plt.figure(figsize = (13,5))\n",
    "output = gr_df.loc[gr_df.any(axis=1),gr_df.any(axis=0)]\n",
    "cluster_df = pd.DataFrame(stats.zscore(output,axis=1),\n",
    "                            index=output.index,columns=output.columns)\n",
    "sns.clustermap(cluster_df,col_cluster=1,row_cluster=1, cmap='mako')"
   ]
  },
  {
   "cell_type": "markdown",
   "metadata": {},
   "source": [
    "## Energy analysis"
   ]
  },
  {
   "cell_type": "code",
   "execution_count": 188,
   "metadata": {
    "scrolled": true
   },
   "outputs": [],
   "source": [
    "with open(\"./sporeme_solution.pickle\", \"rb\") as outfile:\n",
    "    sporeme = pickle.load(outfile)"
   ]
  },
  {
   "cell_type": "code",
   "execution_count": 189,
   "metadata": {},
   "outputs": [
    {
     "name": "stdout",
     "output_type": "stream",
     "text": [
      "Essential metabolites: ['arg__L_s', 'zn2_s', '6pgc_s', 'so4_s', 'mg2_s', 'pi_c', 'cbl1_s', 'asp__L_s', 'f6p_s', 'mn2_s', 'adn_c', 'acnam_s', 'pep_s', 'pyr_c', 'k_s', 'pser__L_s', 'man6p_c', 'gmp_s', 'leu__L_s', '3amp_s', 'met__L_c']\n"
     ]
    }
   ],
   "source": [
    "flux_results_df = pd.read_csv('group_1by1_KO_flux_results.csv',index_col=0)\n",
    "sorted_mets = flux_results_df.loc['biomass_dilution_s'].sort_values(ascending=True).index.to_list()\n",
    "essential_mets = sorted_mets[:sorted_mets.index('met__L_c')+1]\n",
    "print('Essential metabolites: {}'.format(essential_mets))"
   ]
  },
  {
   "cell_type": "code",
   "execution_count": 190,
   "metadata": {},
   "outputs": [],
   "source": [
    "essential_transporters = []\n",
    "for met in essential_mets:\n",
    "    [essential_transporters.append(i) for i in at_dict[met]]"
   ]
  },
  {
   "cell_type": "code",
   "execution_count": 191,
   "metadata": {},
   "outputs": [
    {
     "name": "stdout",
     "output_type": "stream",
     "text": [
      "63 essential open transporters\n"
     ]
    }
   ],
   "source": [
    "print('{} essential open transporters'.format(len(essential_transporters)))"
   ]
  },
  {
   "cell_type": "code",
   "execution_count": 192,
   "metadata": {},
   "outputs": [],
   "source": [
    "for r in transport_reactions:\n",
    "    if r not in essential_transporters and 'SPONT' not in r:\n",
    "        rxn = sporeme.reactions.get_by_id(r)\n",
    "        rxn.upper_bound = 0 \n",
    "        rxn.lower_bound = 0"
   ]
  },
  {
   "cell_type": "code",
   "execution_count": null,
   "metadata": {
    "scrolled": true
   },
   "outputs": [
    {
     "name": "stdout",
     "output_type": "stream",
     "text": [
      "iter\tmuopt    \ta     \tb     \tmu1       \tstat1\n"
     ]
    }
   ],
   "source": [
    "solve_me_model(sporeme, max_mu = 0.15, min_mu = .05, using_soplex=False, precision = 1e-6,growth_key = 'sigma')\n",
    "flux_dict_base = sporeme.solution.x_dict"
   ]
  },
  {
   "cell_type": "markdown",
   "metadata": {},
   "source": [
    "### Increasing ATPM"
   ]
  },
  {
   "cell_type": "code",
   "execution_count": null,
   "metadata": {},
   "outputs": [],
   "source": [
    "current_ATPM = sporeme.reactions.ATPM_s.lower_bound\n",
    "new_ATPM = 1.1 * current_ATPM\n",
    "\n",
    "sporeme.reactions.ATPM_s.lower_bound = new_ATPM\n",
    "sporeme.reactions.ATPM_s.upper_bound = new_ATPM"
   ]
  },
  {
   "cell_type": "code",
   "execution_count": 177,
   "metadata": {
    "scrolled": true
   },
   "outputs": [
    {
     "name": "stdout",
     "output_type": "stream",
     "text": [
      "iter\tmuopt    \ta     \tb     \tmu1       \tstat1\n",
      "Finished compiling expressions in 415.296403 seconds\n",
      "Finished substituting S,lb,ub in 18.126293 seconds\n",
      "Finished makeME_LP in 2.265234 seconds\n",
      "Getting MINOS parameters from ME_NLP...\n",
      "1 0.0 0.0 0.1 0.1 1\n",
      "Finished substituting S,lb,ub in 18.146298 seconds\n",
      "Finished makeME_LP in 2.297373 seconds\n",
      "Getting MINOS parameters from ME_NLP...\n",
      "2 0.0 0.0 0.05 0.05 1\n",
      "Finished substituting S,lb,ub in 18.020615 seconds\n",
      "Finished makeME_LP in 2.269276 seconds\n",
      "Getting MINOS parameters from ME_NLP...\n",
      "3 0.0 0.0 0.025 0.025 1\n",
      "Finished substituting S,lb,ub in 17.943079 seconds\n",
      "Finished makeME_LP in 2.261524 seconds\n",
      "Getting MINOS parameters from ME_NLP...\n",
      "4 0.0125 0.0125 0.025 0.0125 optimal\n",
      "Finished substituting S,lb,ub in 17.930481 seconds\n",
      "Finished makeME_LP in 2.260695 seconds\n",
      "Getting MINOS parameters from ME_NLP...\n",
      "5 0.0125 0.0125 0.018750000000000003 0.018750000000000003 1\n",
      "Finished substituting S,lb,ub in 18.196980 seconds\n",
      "Finished makeME_LP in 2.283978 seconds\n",
      "Getting MINOS parameters from ME_NLP...\n",
      "6 0.015625 0.015625 0.018750000000000003 0.015625 optimal\n",
      "Finished substituting S,lb,ub in 17.492452 seconds\n",
      "Finished makeME_LP in 2.261822 seconds\n",
      "Getting MINOS parameters from ME_NLP...\n",
      "7 0.015625 0.015625 0.0171875 0.0171875 1\n",
      "Finished substituting S,lb,ub in 17.564386 seconds\n",
      "Finished makeME_LP in 2.240327 seconds\n",
      "Getting MINOS parameters from ME_NLP...\n",
      "8 0.01640625 0.01640625 0.0171875 0.01640625 optimal\n",
      "Finished substituting S,lb,ub in 17.508969 seconds\n",
      "Finished makeME_LP in 2.256292 seconds\n",
      "Getting MINOS parameters from ME_NLP...\n",
      "9 0.01640625 0.01640625 0.016796875000000003 0.016796875000000003 1\n",
      "Finished substituting S,lb,ub in 17.466653 seconds\n",
      "Finished makeME_LP in 2.280223 seconds\n",
      "Getting MINOS parameters from ME_NLP...\n",
      "10 0.0166015625 0.0166015625 0.016796875000000003 0.0166015625 optimal\n",
      "Finished substituting S,lb,ub in 17.559752 seconds\n",
      "Finished makeME_LP in 2.260895 seconds\n",
      "Getting MINOS parameters from ME_NLP...\n",
      "11 0.01669921875 0.01669921875 0.016796875000000003 0.01669921875 optimal\n",
      "Finished substituting S,lb,ub in 17.551544 seconds\n",
      "Finished makeME_LP in 2.249591 seconds\n",
      "Getting MINOS parameters from ME_NLP...\n",
      "12 0.01669921875 0.01669921875 0.016748046875000002 0.016748046875000002 1\n",
      "Finished substituting S,lb,ub in 17.519121 seconds\n",
      "Finished makeME_LP in 2.266143 seconds\n",
      "Getting MINOS parameters from ME_NLP...\n",
      "13 0.0167236328125 0.0167236328125 0.016748046875000002 0.0167236328125 optimal\n",
      "Finished substituting S,lb,ub in 17.448744 seconds\n",
      "Finished makeME_LP in 2.266668 seconds\n",
      "Getting MINOS parameters from ME_NLP...\n",
      "14 0.016735839843750003 0.016735839843750003 0.016748046875000002 0.016735839843750003 optimal\n",
      "Finished substituting S,lb,ub in 17.590960 seconds\n",
      "Finished makeME_LP in 2.263836 seconds\n",
      "Getting MINOS parameters from ME_NLP...\n",
      "15 0.016741943359375004 0.016741943359375004 0.016748046875000002 0.016741943359375004 optimal\n",
      "Finished substituting S,lb,ub in 17.473265 seconds\n",
      "Finished makeME_LP in 2.267441 seconds\n",
      "Getting MINOS parameters from ME_NLP...\n",
      "16 0.0167449951171875 0.0167449951171875 0.016748046875000002 0.0167449951171875 optimal\n",
      "Finished substituting S,lb,ub in 17.451697 seconds\n",
      "Finished makeME_LP in 2.258030 seconds\n",
      "Getting MINOS parameters from ME_NLP...\n",
      "17 0.0167449951171875 0.0167449951171875 0.01674652099609375 0.01674652099609375 1\n",
      "Finished substituting S,lb,ub in 17.609313 seconds\n",
      "Finished makeME_LP in 2.676704 seconds\n",
      "Getting MINOS parameters from ME_NLP...\n",
      "18 0.016745758056640626 0.016745758056640626 0.01674652099609375 0.016745758056640626 optimal\n",
      "Bisection done in 1717.75 seconds\n"
     ]
    }
   ],
   "source": [
    "solve_me_model(sporeme, max_mu = 0.2, min_mu = .05, using_soplex=False, precision = 1e-6,growth_key='sigma')\n",
    "flux_dict_ATPM = sporeme.solution.x_dict"
   ]
  },
  {
   "cell_type": "code",
   "execution_count": 199,
   "metadata": {},
   "outputs": [
    {
     "data": {
      "text/plain": [
       "flux        11.979\n",
       "flux_atp     9.900\n",
       "Name: ATPM_s, dtype: float64"
      ]
     },
     "execution_count": 199,
     "metadata": {},
     "output_type": "execute_result"
    }
   ],
   "source": [
    "atp_df = pd.DataFrame.from_dict({'flux':flux_dict_base}).join(pd.DataFrame.from_dict({'flux':flux_dict_ATPM}),rsuffix='_atp')\n",
    "atp_df.loc['ATPM_s']"
   ]
  },
  {
   "cell_type": "code",
   "execution_count": 215,
   "metadata": {},
   "outputs": [
    {
     "data": {
      "text/plain": [
       "True"
      ]
     },
     "execution_count": 215,
     "metadata": {},
     "output_type": "execute_result"
    }
   ],
   "source": [
    "sums = atp_df.loc[at_dict[met]].sum(axis=0)\n",
    "sums.any()"
   ]
  },
  {
   "cell_type": "markdown",
   "metadata": {},
   "source": [
    "## "
   ]
  },
  {
   "cell_type": "code",
   "execution_count": 218,
   "metadata": {},
   "outputs": [
    {
     "name": "stdout",
     "output_type": "stream",
     "text": [
      "mg2_s 1.369556359552247\n",
      "gmp_s 1.3936761015209471\n",
      "pyr_c 0.9235568354626225\n",
      "k_s 1.402986049062581\n",
      "man6p_c 1.4041387607925155\n",
      "arg__L_s 1.3820070949439316\n",
      "met__L_c 1.3367661897406746\n",
      "mn2_s 1.3274067919517458\n",
      "acnam_s 1.410649664782645\n",
      "pep_s 0.9219755938517683\n",
      "so4_s 1.3508168559868865\n",
      "zn2_s 1.9776180944903203\n",
      "adn_c 0.9206735465435527\n",
      "3amp_s 0.9206362189827443\n",
      "pser__L_s 1.431980366328135\n",
      "6pgc_s 1.404908804372569\n",
      "leu__L_s 1.3894840437357847\n"
     ]
    }
   ],
   "source": [
    "\n",
    "for met in at_dict.keys():\n",
    "    sums = atp_df.loc[at_dict[met]].sum(axis=0)\n",
    "    if sums.any():\n",
    "        ratio = sums['flux_atp']/sums['flux']\n",
    "        print(met,ratio)"
   ]
  },
  {
   "cell_type": "markdown",
   "metadata": {},
   "source": [
    "## Metabolites in medium"
   ]
  },
  {
   "cell_type": "code",
   "execution_count": null,
   "metadata": {},
   "outputs": [],
   "source": [
    "[fed_mets = m for m in at_dict.keys() if m]"
   ]
  },
  {
   "cell_type": "code",
   "execution_count": null,
   "metadata": {
    "scrolled": true
   },
   "outputs": [
    {
     "name": "stdout",
     "output_type": "stream",
     "text": [
      "Chosen change function: feed_metabolites      Sequential = False\n"
     ]
    },
    {
     "name": "stderr",
     "output_type": "stream",
     "text": [
      "\n",
      "\n",
      "\n",
      "\n",
      "\n",
      "\n",
      "\n",
      "\n",
      "\n",
      "\n",
      "\n",
      "\n",
      "\n",
      "\n",
      "\n",
      "\n",
      "\n",
      "\n",
      "\n",
      "\n",
      "\n",
      "\n",
      "\n",
      "\n",
      "\n",
      "\n",
      "\n",
      "\n",
      "\n",
      "\n",
      "\n",
      "\n",
      "\n",
      "\n",
      "\n",
      "\n",
      "\n",
      "\n",
      "\n",
      "\n",
      "\n",
      "\n",
      "\n",
      "\n",
      "  0%|          | 0/38 [00:00<?, ?it/s]\u001b[A\u001b[A\u001b[A\u001b[A\u001b[A\u001b[A\u001b[A\u001b[A\u001b[A\u001b[A\u001b[A\u001b[A\u001b[A\u001b[A\u001b[A\u001b[A\u001b[A\u001b[A\u001b[A\u001b[A\u001b[A\u001b[A\u001b[A\u001b[A\u001b[A\u001b[A\u001b[A\u001b[A\u001b[A\u001b[A\u001b[A\u001b[A\u001b[A\u001b[A\u001b[A\u001b[A\u001b[A\u001b[A\u001b[A\u001b[A\u001b[A\u001b[A\u001b[A\u001b[A\n",
      "\n",
      "\n",
      "\n",
      "\n",
      "\n",
      "\n",
      "\n",
      "\n",
      "\n",
      "\n",
      "\n",
      "\n",
      "\n",
      "\n",
      "\n",
      "\n",
      "\n",
      "\n",
      "\n",
      "\n",
      "\n",
      "\n",
      "\n",
      "\n",
      "\n",
      "\n",
      "\n",
      "\n",
      "\n",
      "\n",
      "\n",
      "\n",
      "\n",
      "\n",
      "\n",
      "\n",
      "\n",
      "\n",
      "\n",
      "\n",
      "\n",
      "\n",
      "\n",
      "biomass_dilution_s response (10 threads):   0%|          | 0/38 [00:00<?, ?it/s]\u001b[A\u001b[A\u001b[A\u001b[A\u001b[A\u001b[A\u001b[A\u001b[A\u001b[A\u001b[A\u001b[A\u001b[A\u001b[A\u001b[A\u001b[A\u001b[A\u001b[A\u001b[A\u001b[A\u001b[A\u001b[A\u001b[A\u001b[A\u001b[A\u001b[A\u001b[A\u001b[A\u001b[A\u001b[A\u001b[A\u001b[A\u001b[A\u001b[A\u001b[A\u001b[A\u001b[A\u001b[A\u001b[A\u001b[A\u001b[A\u001b[A\u001b[A\u001b[A\u001b[A"
     ]
    }
   ],
   "source": [
    "from bacillusme.analysis import sensitivity as ss\n",
    "flux_results_df = ss.transporter_knockout(sporeme,fed_mets, \\\n",
    "                                        NP=10,solution=1,biomass_dilution='biomass_dilution_s',\\\n",
    "                                        growth_key = 'sigma',single_change_function='feed_metabolites')"
   ]
  },
  {
   "cell_type": "code",
   "execution_count": 225,
   "metadata": {},
   "outputs": [
    {
     "data": {
      "text/html": [
       "<div>\n",
       "<style scoped>\n",
       "    .dataframe tbody tr th:only-of-type {\n",
       "        vertical-align: middle;\n",
       "    }\n",
       "\n",
       "    .dataframe tbody tr th {\n",
       "        vertical-align: top;\n",
       "    }\n",
       "\n",
       "    .dataframe thead th {\n",
       "        text-align: right;\n",
       "    }\n",
       "</style>\n",
       "<table border=\"1\" class=\"dataframe\">\n",
       "  <thead>\n",
       "    <tr style=\"text-align: right;\">\n",
       "      <th></th>\n",
       "      <th>base</th>\n",
       "      <th>gly_s</th>\n",
       "      <th>nac_s</th>\n",
       "      <th>cit_s</th>\n",
       "      <th>amp_s</th>\n",
       "      <th>citr__L_s</th>\n",
       "      <th>asn__L_s</th>\n",
       "      <th>acac_s</th>\n",
       "      <th>cmp_s</th>\n",
       "      <th>ump_s</th>\n",
       "      <th>...</th>\n",
       "      <th>ala__D_s</th>\n",
       "      <th>glu__L_s</th>\n",
       "      <th>pnto__R_s</th>\n",
       "      <th>dad_2_s</th>\n",
       "      <th>ribflv_s</th>\n",
       "      <th>3amp_s</th>\n",
       "      <th>ala__L_s</th>\n",
       "      <th>6pgc_s</th>\n",
       "      <th>pser__L_s</th>\n",
       "      <th>leu__L_s</th>\n",
       "    </tr>\n",
       "  </thead>\n",
       "  <tbody>\n",
       "    <tr>\n",
       "      <th>biomass_dilution</th>\n",
       "      <td>0.012078</td>\n",
       "      <td>0.012073</td>\n",
       "      <td>0.012052</td>\n",
       "      <td>0.012060</td>\n",
       "      <td>0.012035</td>\n",
       "      <td>0.012056</td>\n",
       "      <td>0.012061</td>\n",
       "      <td>0.012064</td>\n",
       "      <td>0.012043</td>\n",
       "      <td>0.012044</td>\n",
       "      <td>...</td>\n",
       "      <td>0.012067</td>\n",
       "      <td>0.012055</td>\n",
       "      <td>0.012034</td>\n",
       "      <td>0.012034</td>\n",
       "      <td>0.011992</td>\n",
       "      <td>0.012036</td>\n",
       "      <td>0.012067</td>\n",
       "      <td>0.012054</td>\n",
       "      <td>0.012067</td>\n",
       "      <td>0.012050</td>\n",
       "    </tr>\n",
       "    <tr>\n",
       "      <th>protein_biomass_to_biomass</th>\n",
       "      <td>0.007074</td>\n",
       "      <td>0.007072</td>\n",
       "      <td>0.007059</td>\n",
       "      <td>0.007064</td>\n",
       "      <td>0.007049</td>\n",
       "      <td>0.007061</td>\n",
       "      <td>0.007065</td>\n",
       "      <td>0.007066</td>\n",
       "      <td>0.007054</td>\n",
       "      <td>0.007055</td>\n",
       "      <td>...</td>\n",
       "      <td>0.007068</td>\n",
       "      <td>0.007061</td>\n",
       "      <td>0.007049</td>\n",
       "      <td>0.007049</td>\n",
       "      <td>0.007024</td>\n",
       "      <td>0.007050</td>\n",
       "      <td>0.007068</td>\n",
       "      <td>0.007060</td>\n",
       "      <td>0.007068</td>\n",
       "      <td>0.007058</td>\n",
       "    </tr>\n",
       "    <tr>\n",
       "      <th>mRNA_biomass_to_biomass</th>\n",
       "      <td>0.000020</td>\n",
       "      <td>0.000020</td>\n",
       "      <td>0.000020</td>\n",
       "      <td>0.000020</td>\n",
       "      <td>0.000020</td>\n",
       "      <td>0.000020</td>\n",
       "      <td>0.000020</td>\n",
       "      <td>0.000020</td>\n",
       "      <td>0.000020</td>\n",
       "      <td>0.000020</td>\n",
       "      <td>...</td>\n",
       "      <td>0.000020</td>\n",
       "      <td>0.000020</td>\n",
       "      <td>0.000020</td>\n",
       "      <td>0.000020</td>\n",
       "      <td>0.000020</td>\n",
       "      <td>0.000020</td>\n",
       "      <td>0.000020</td>\n",
       "      <td>0.000020</td>\n",
       "      <td>0.000020</td>\n",
       "      <td>0.000020</td>\n",
       "    </tr>\n",
       "    <tr>\n",
       "      <th>tRNA_biomass_to_biomass</th>\n",
       "      <td>0.000119</td>\n",
       "      <td>0.000119</td>\n",
       "      <td>0.000119</td>\n",
       "      <td>0.000119</td>\n",
       "      <td>0.000118</td>\n",
       "      <td>0.000119</td>\n",
       "      <td>0.000119</td>\n",
       "      <td>0.000119</td>\n",
       "      <td>0.000118</td>\n",
       "      <td>0.000118</td>\n",
       "      <td>...</td>\n",
       "      <td>0.000119</td>\n",
       "      <td>0.000119</td>\n",
       "      <td>0.000118</td>\n",
       "      <td>0.000118</td>\n",
       "      <td>0.000118</td>\n",
       "      <td>0.000118</td>\n",
       "      <td>0.000119</td>\n",
       "      <td>0.000119</td>\n",
       "      <td>0.000119</td>\n",
       "      <td>0.000119</td>\n",
       "    </tr>\n",
       "    <tr>\n",
       "      <th>rRNA_biomass_to_biomass</th>\n",
       "      <td>0.000879</td>\n",
       "      <td>0.000879</td>\n",
       "      <td>0.000877</td>\n",
       "      <td>0.000878</td>\n",
       "      <td>0.000876</td>\n",
       "      <td>0.000877</td>\n",
       "      <td>0.000878</td>\n",
       "      <td>0.000878</td>\n",
       "      <td>0.000876</td>\n",
       "      <td>0.000876</td>\n",
       "      <td>...</td>\n",
       "      <td>0.000878</td>\n",
       "      <td>0.000877</td>\n",
       "      <td>0.000876</td>\n",
       "      <td>0.000876</td>\n",
       "      <td>0.000872</td>\n",
       "      <td>0.000876</td>\n",
       "      <td>0.000878</td>\n",
       "      <td>0.000877</td>\n",
       "      <td>0.000878</td>\n",
       "      <td>0.000877</td>\n",
       "    </tr>\n",
       "    <tr>\n",
       "      <th>...</th>\n",
       "      <td>...</td>\n",
       "      <td>...</td>\n",
       "      <td>...</td>\n",
       "      <td>...</td>\n",
       "      <td>...</td>\n",
       "      <td>...</td>\n",
       "      <td>...</td>\n",
       "      <td>...</td>\n",
       "      <td>...</td>\n",
       "      <td>...</td>\n",
       "      <td>...</td>\n",
       "      <td>...</td>\n",
       "      <td>...</td>\n",
       "      <td>...</td>\n",
       "      <td>...</td>\n",
       "      <td>...</td>\n",
       "      <td>...</td>\n",
       "      <td>...</td>\n",
       "      <td>...</td>\n",
       "      <td>...</td>\n",
       "      <td>...</td>\n",
       "    </tr>\n",
       "    <tr>\n",
       "      <th>Demand_t12dg_BS_s</th>\n",
       "      <td>0.030711</td>\n",
       "      <td>0.030701</td>\n",
       "      <td>0.030658</td>\n",
       "      <td>0.030674</td>\n",
       "      <td>0.030608</td>\n",
       "      <td>0.030663</td>\n",
       "      <td>0.030672</td>\n",
       "      <td>0.030684</td>\n",
       "      <td>0.030635</td>\n",
       "      <td>0.030640</td>\n",
       "      <td>...</td>\n",
       "      <td>0.030691</td>\n",
       "      <td>0.030657</td>\n",
       "      <td>0.030620</td>\n",
       "      <td>0.030610</td>\n",
       "      <td>0.030513</td>\n",
       "      <td>0.030612</td>\n",
       "      <td>0.030691</td>\n",
       "      <td>0.030661</td>\n",
       "      <td>0.030687</td>\n",
       "      <td>0.030656</td>\n",
       "    </tr>\n",
       "    <tr>\n",
       "      <th>Demand_gtca3_45_BS_s</th>\n",
       "      <td>0.030711</td>\n",
       "      <td>0.030701</td>\n",
       "      <td>0.030658</td>\n",
       "      <td>0.030674</td>\n",
       "      <td>0.030608</td>\n",
       "      <td>0.030663</td>\n",
       "      <td>0.030672</td>\n",
       "      <td>0.030684</td>\n",
       "      <td>0.030635</td>\n",
       "      <td>0.030640</td>\n",
       "      <td>...</td>\n",
       "      <td>0.030691</td>\n",
       "      <td>0.030657</td>\n",
       "      <td>0.030620</td>\n",
       "      <td>0.030610</td>\n",
       "      <td>0.030513</td>\n",
       "      <td>0.030612</td>\n",
       "      <td>0.030691</td>\n",
       "      <td>0.030661</td>\n",
       "      <td>0.030687</td>\n",
       "      <td>0.030656</td>\n",
       "    </tr>\n",
       "    <tr>\n",
       "      <th>Demand_lipo1_24_BS_s</th>\n",
       "      <td>0.030711</td>\n",
       "      <td>0.030701</td>\n",
       "      <td>0.030658</td>\n",
       "      <td>0.030674</td>\n",
       "      <td>0.030608</td>\n",
       "      <td>0.030663</td>\n",
       "      <td>0.030672</td>\n",
       "      <td>0.030684</td>\n",
       "      <td>0.030635</td>\n",
       "      <td>0.030640</td>\n",
       "      <td>...</td>\n",
       "      <td>0.030691</td>\n",
       "      <td>0.030657</td>\n",
       "      <td>0.030620</td>\n",
       "      <td>0.030610</td>\n",
       "      <td>0.030513</td>\n",
       "      <td>0.030612</td>\n",
       "      <td>0.030691</td>\n",
       "      <td>0.030661</td>\n",
       "      <td>0.030687</td>\n",
       "      <td>0.030656</td>\n",
       "    </tr>\n",
       "    <tr>\n",
       "      <th>Demand_tcam_BS_s</th>\n",
       "      <td>0.539554</td>\n",
       "      <td>0.539392</td>\n",
       "      <td>0.538664</td>\n",
       "      <td>0.538933</td>\n",
       "      <td>0.537795</td>\n",
       "      <td>0.538743</td>\n",
       "      <td>0.538900</td>\n",
       "      <td>0.539076</td>\n",
       "      <td>0.538259</td>\n",
       "      <td>0.538332</td>\n",
       "      <td>...</td>\n",
       "      <td>0.539224</td>\n",
       "      <td>0.538640</td>\n",
       "      <td>0.537977</td>\n",
       "      <td>0.537838</td>\n",
       "      <td>0.536119</td>\n",
       "      <td>0.537875</td>\n",
       "      <td>0.539226</td>\n",
       "      <td>0.538711</td>\n",
       "      <td>0.539156</td>\n",
       "      <td>0.538619</td>\n",
       "    </tr>\n",
       "    <tr>\n",
       "      <th>dummy_demand</th>\n",
       "      <td>NaN</td>\n",
       "      <td>0.001000</td>\n",
       "      <td>0.001000</td>\n",
       "      <td>0.001000</td>\n",
       "      <td>0.001000</td>\n",
       "      <td>0.001000</td>\n",
       "      <td>0.001000</td>\n",
       "      <td>0.001000</td>\n",
       "      <td>0.001000</td>\n",
       "      <td>0.001000</td>\n",
       "      <td>...</td>\n",
       "      <td>0.001000</td>\n",
       "      <td>0.001000</td>\n",
       "      <td>0.001000</td>\n",
       "      <td>0.001000</td>\n",
       "      <td>0.001000</td>\n",
       "      <td>0.001000</td>\n",
       "      <td>0.001000</td>\n",
       "      <td>0.001000</td>\n",
       "      <td>0.001000</td>\n",
       "      <td>0.001000</td>\n",
       "    </tr>\n",
       "  </tbody>\n",
       "</table>\n",
       "<p>12340 rows × 39 columns</p>\n",
       "</div>"
      ],
      "text/plain": [
       "                                base     gly_s     nac_s     cit_s     amp_s  \\\n",
       "biomass_dilution            0.012078  0.012073  0.012052  0.012060  0.012035   \n",
       "protein_biomass_to_biomass  0.007074  0.007072  0.007059  0.007064  0.007049   \n",
       "mRNA_biomass_to_biomass     0.000020  0.000020  0.000020  0.000020  0.000020   \n",
       "tRNA_biomass_to_biomass     0.000119  0.000119  0.000119  0.000119  0.000118   \n",
       "rRNA_biomass_to_biomass     0.000879  0.000879  0.000877  0.000878  0.000876   \n",
       "...                              ...       ...       ...       ...       ...   \n",
       "Demand_t12dg_BS_s           0.030711  0.030701  0.030658  0.030674  0.030608   \n",
       "Demand_gtca3_45_BS_s        0.030711  0.030701  0.030658  0.030674  0.030608   \n",
       "Demand_lipo1_24_BS_s        0.030711  0.030701  0.030658  0.030674  0.030608   \n",
       "Demand_tcam_BS_s            0.539554  0.539392  0.538664  0.538933  0.537795   \n",
       "dummy_demand                     NaN  0.001000  0.001000  0.001000  0.001000   \n",
       "\n",
       "                            citr__L_s  asn__L_s    acac_s     cmp_s     ump_s  \\\n",
       "biomass_dilution             0.012056  0.012061  0.012064  0.012043  0.012044   \n",
       "protein_biomass_to_biomass   0.007061  0.007065  0.007066  0.007054  0.007055   \n",
       "mRNA_biomass_to_biomass      0.000020  0.000020  0.000020  0.000020  0.000020   \n",
       "tRNA_biomass_to_biomass      0.000119  0.000119  0.000119  0.000118  0.000118   \n",
       "rRNA_biomass_to_biomass      0.000877  0.000878  0.000878  0.000876  0.000876   \n",
       "...                               ...       ...       ...       ...       ...   \n",
       "Demand_t12dg_BS_s            0.030663  0.030672  0.030684  0.030635  0.030640   \n",
       "Demand_gtca3_45_BS_s         0.030663  0.030672  0.030684  0.030635  0.030640   \n",
       "Demand_lipo1_24_BS_s         0.030663  0.030672  0.030684  0.030635  0.030640   \n",
       "Demand_tcam_BS_s             0.538743  0.538900  0.539076  0.538259  0.538332   \n",
       "dummy_demand                 0.001000  0.001000  0.001000  0.001000  0.001000   \n",
       "\n",
       "                            ...  ala__D_s  glu__L_s  pnto__R_s   dad_2_s  \\\n",
       "biomass_dilution            ...  0.012067  0.012055   0.012034  0.012034   \n",
       "protein_biomass_to_biomass  ...  0.007068  0.007061   0.007049  0.007049   \n",
       "mRNA_biomass_to_biomass     ...  0.000020  0.000020   0.000020  0.000020   \n",
       "tRNA_biomass_to_biomass     ...  0.000119  0.000119   0.000118  0.000118   \n",
       "rRNA_biomass_to_biomass     ...  0.000878  0.000877   0.000876  0.000876   \n",
       "...                         ...       ...       ...        ...       ...   \n",
       "Demand_t12dg_BS_s           ...  0.030691  0.030657   0.030620  0.030610   \n",
       "Demand_gtca3_45_BS_s        ...  0.030691  0.030657   0.030620  0.030610   \n",
       "Demand_lipo1_24_BS_s        ...  0.030691  0.030657   0.030620  0.030610   \n",
       "Demand_tcam_BS_s            ...  0.539224  0.538640   0.537977  0.537838   \n",
       "dummy_demand                ...  0.001000  0.001000   0.001000  0.001000   \n",
       "\n",
       "                            ribflv_s    3amp_s  ala__L_s    6pgc_s  pser__L_s  \\\n",
       "biomass_dilution            0.011992  0.012036  0.012067  0.012054   0.012067   \n",
       "protein_biomass_to_biomass  0.007024  0.007050  0.007068  0.007060   0.007068   \n",
       "mRNA_biomass_to_biomass     0.000020  0.000020  0.000020  0.000020   0.000020   \n",
       "tRNA_biomass_to_biomass     0.000118  0.000118  0.000119  0.000119   0.000119   \n",
       "rRNA_biomass_to_biomass     0.000872  0.000876  0.000878  0.000877   0.000878   \n",
       "...                              ...       ...       ...       ...        ...   \n",
       "Demand_t12dg_BS_s           0.030513  0.030612  0.030691  0.030661   0.030687   \n",
       "Demand_gtca3_45_BS_s        0.030513  0.030612  0.030691  0.030661   0.030687   \n",
       "Demand_lipo1_24_BS_s        0.030513  0.030612  0.030691  0.030661   0.030687   \n",
       "Demand_tcam_BS_s            0.536119  0.537875  0.539226  0.538711   0.539156   \n",
       "dummy_demand                0.001000  0.001000  0.001000  0.001000   0.001000   \n",
       "\n",
       "                            leu__L_s  \n",
       "biomass_dilution            0.012050  \n",
       "protein_biomass_to_biomass  0.007058  \n",
       "mRNA_biomass_to_biomass     0.000020  \n",
       "tRNA_biomass_to_biomass     0.000119  \n",
       "rRNA_biomass_to_biomass     0.000877  \n",
       "...                              ...  \n",
       "Demand_t12dg_BS_s           0.030656  \n",
       "Demand_gtca3_45_BS_s        0.030656  \n",
       "Demand_lipo1_24_BS_s        0.030656  \n",
       "Demand_tcam_BS_s            0.538619  \n",
       "dummy_demand                0.001000  \n",
       "\n",
       "[12340 rows x 39 columns]"
      ]
     },
     "execution_count": 225,
     "metadata": {},
     "output_type": "execute_result"
    }
   ],
   "source": [
    "flux_results_df"
   ]
  },
  {
   "cell_type": "code",
   "execution_count": null,
   "metadata": {},
   "outputs": [],
   "source": []
  }
 ],
 "metadata": {
  "kernelspec": {
   "display_name": "test",
   "language": "python",
   "name": "test"
  },
  "language_info": {
   "codemirror_mode": {
    "name": "ipython",
    "version": 3
   },
   "file_extension": ".py",
   "mimetype": "text/x-python",
   "name": "python",
   "nbconvert_exporter": "python",
   "pygments_lexer": "ipython3",
   "version": "3.6.8"
  }
 },
 "nbformat": 4,
 "nbformat_minor": 4
}
