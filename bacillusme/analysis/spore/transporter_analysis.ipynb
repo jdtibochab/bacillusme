{
 "cells": [
  {
   "cell_type": "markdown",
   "metadata": {},
   "source": [
    "# Transporter analysis of bacillus mother-spore"
   ]
  },
  {
   "cell_type": "code",
   "execution_count": 26,
   "metadata": {
    "scrolled": true
   },
   "outputs": [
    {
     "name": "stdout",
     "output_type": "stream",
     "text": [
      "The autoreload extension is already loaded. To reload it, use:\n",
      "  %reload_ext autoreload\n",
      "/home/jt/Downloads/cobrapy-0.5.11/cobra/__init__.py\n",
      "/home/jt/UCSD/cobrame-master/cobrame/__init__.py\n",
      "/home/jt/UCSD/bacillusme-master/bacillusme/__init__.py\n"
     ]
    }
   ],
   "source": [
    "from __future__ import print_function, division, absolute_import\n",
    "\n",
    "import sys\n",
    "\n",
    "import qminospy\n",
    "from qminospy.me2 import ME_NLP\n",
    "\n",
    "# python imports\n",
    "from copy import copy\n",
    "import re\n",
    "from os.path import join, dirname, abspath\n",
    "import sys\n",
    "sys.path.append('/home/UCSD/cobra_utils')\n",
    "from collections import defaultdict\n",
    "import pickle\n",
    "\n",
    "# third party imports\n",
    "import pandas\n",
    "import cobra\n",
    "from tqdm import tqdm\n",
    "import numpy as np\n",
    "import scipy\n",
    "\n",
    "# COBRAme\n",
    "import cobrame\n",
    "from cobrame.util import building, mu, me_model_interface\n",
    "from cobrame.io.json import save_json_me_model, save_reduced_json_me_model\n",
    "\n",
    "# ECOLIme\n",
    "import bacillusme\n",
    "from bacillusme import (transcription, translation, flat_files, generics, formulas, compartments)\n",
    "from bacillusme.util.helper_functions import *\n",
    "\n",
    "import copy\n",
    "\n",
    "%load_ext autoreload\n",
    "%autoreload 2\n",
    "print(cobra.__file__)\n",
    "print(cobrame.__file__)\n",
    "print(bacillusme.__file__)\n",
    "ecoli_files = dirname(abspath(bacillusme.__file__))"
   ]
  },
  {
   "cell_type": "code",
   "execution_count": 27,
   "metadata": {},
   "outputs": [],
   "source": [
    "import seaborn as sns\n",
    "from scipy import stats\n",
    "import matplotlib.pyplot as plt\n",
    "plt.style.use('seaborn')"
   ]
  },
  {
   "cell_type": "code",
   "execution_count": 28,
   "metadata": {
    "scrolled": true
   },
   "outputs": [],
   "source": [
    "with open(\"./sporeme_solution.pickle\", \"rb\") as outfile:\n",
    "    sporeme = pickle.load(outfile)"
   ]
  },
  {
   "cell_type": "code",
   "execution_count": 29,
   "metadata": {},
   "outputs": [],
   "source": [
    "# Previously identified essential metabolites\n",
    "exchange_list = ['4fe4s_s','2fe2s_s','udcpp_s','pydx5p_s','3fe4s_s','cl_s','sheme_s','cu_s','mn2_s',\n",
    "                 'bmocogdp_s','dpm_s','thmpp_s','zn2_s','cbl1_s','cobalt2_s']\n",
    "additional = [m.id for m in sporeme.metabolites if isinstance(m,cobrame.Metabolite)]\n",
    "transported_metabolites = exchange_list+additional"
   ]
  },
  {
   "cell_type": "code",
   "execution_count": 30,
   "metadata": {
    "scrolled": true
   },
   "outputs": [],
   "source": [
    "# Get transport reactions\n",
    "\n",
    "def get_compartments(r):\n",
    "    comps = []\n",
    "    if isinstance(r,cobrame.MetabolicReaction):\n",
    "        for m in r.metabolites:\n",
    "            if isinstance(m,cobrame.Metabolite):\n",
    "                comps.append(m.id[-1])\n",
    "    return list(set(comps))\n",
    "\n",
    "def get_all_transport(model):\n",
    "    transport_reactions = []\n",
    "    for r in tqdm(model.reactions):\n",
    "        comps = get_compartments(r)\n",
    "        if len(comps) > 1 and 's' in comps:\n",
    "            transport_reactions.append(r.id)\n",
    "    return list(set(transport_reactions))\n",
    "\n",
    "def get_active_transport(transport_reactions):\n",
    "    active_transporters = []\n",
    "    for r in tqdm(transport_reactions):\n",
    "        if 'SPONT' not in r and abs(sporeme.solution.x_dict[r])>0.:\n",
    "            active_transporters.append(r)\n",
    "    # Include arginine transport\n",
    "    arginine_transport = [r.id for r in get_transport_reactions(sporeme,'arg__L_c',comps=['c','s'])+get_transport_reactions(sporeme,'arg__L_c',comps=['s','c'])]\n",
    "    [active_transporters.append(r) for r in arginine_transport]\n",
    "    active_transporters = list(set(active_transporters))\n",
    "    return active_transporters"
   ]
  },
  {
   "cell_type": "code",
   "execution_count": 43,
   "metadata": {
    "scrolled": true
   },
   "outputs": [
    {
     "name": "stderr",
     "output_type": "stream",
     "text": [
      "\n",
      "\n",
      "\n",
      "\n",
      "\n",
      "\n",
      "\n",
      "\n",
      "\n",
      "\n",
      "\n",
      "\n",
      "\n",
      "\n",
      "\n",
      "\n",
      "\n",
      "\n",
      "\n",
      "\n",
      "\n",
      "\n",
      "  0%|          | 0/12339 [00:00<?, ?it/s]\u001b[A\u001b[A\u001b[A\u001b[A\u001b[A\u001b[A\u001b[A\u001b[A\u001b[A\u001b[A\u001b[A\u001b[A\u001b[A\u001b[A\u001b[A\u001b[A\u001b[A\u001b[A\u001b[A\u001b[A\u001b[A\u001b[A\n",
      "\n",
      "\n",
      "\n",
      "\n",
      "\n",
      "\n",
      "\n",
      "\n",
      "\n",
      "\n",
      "\n",
      "\n",
      "\n",
      "\n",
      "\n",
      "\n",
      "\n",
      "\n",
      "\n",
      "\n",
      "\n",
      "100%|██████████| 12339/12339 [00:00<00:00, 99667.83it/s] \u001b[A\u001b[A\u001b[A\u001b[A\u001b[A\u001b[A\u001b[A\u001b[A\u001b[A\u001b[A\u001b[A\u001b[A\u001b[A\u001b[A\u001b[A\u001b[A\u001b[A\u001b[A\u001b[A\u001b[A\u001b[A\u001b[A"
     ]
    },
    {
     "name": "stdout",
     "output_type": "stream",
     "text": [
      "405 transport reactions identified\n"
     ]
    },
    {
     "name": "stderr",
     "output_type": "stream",
     "text": [
      "\n"
     ]
    }
   ],
   "source": [
    "transport_reactions = get_all_transport(sporeme)\n",
    "print('{} transport reactions identified'.format(len(transport_reactions)))"
   ]
  },
  {
   "cell_type": "code",
   "execution_count": 48,
   "metadata": {},
   "outputs": [
    {
     "data": {
      "text/plain": [
       "Text(0, 0.5, 'Count')"
      ]
     },
     "execution_count": 48,
     "metadata": {},
     "output_type": "execute_result"
    },
    {
     "data": {
      "image/png": "[encoded data removed]",
      "text/plain": [
       "<Figure size 432x288 with 1 Axes>"
      ]
     },
     "metadata": {},
     "output_type": "display_data"
    }
   ],
   "source": [
    "count = {'no_rule':0,'spont':0,'annot':0}\n",
    "for r in transport_reactions:\n",
    "    if 'dummy' in r:\n",
    "        count['no_rule']+=1\n",
    "    elif 'SPONT' in r:\n",
    "        count['spont']+=1\n",
    "    else:\n",
    "        count['annot']+=1\n",
    "pd.DataFrame.from_dict({'count':count}).plot.bar(figsize=(6,4),legend=False)\n",
    "plt.ylabel('Count')"
   ]
  },
  {
   "cell_type": "code",
   "execution_count": 7,
   "metadata": {
    "scrolled": true
   },
   "outputs": [
    {
     "name": "stderr",
     "output_type": "stream",
     "text": [
      "100%|██████████| 405/405 [00:00<00:00, 140597.01it/s]\n"
     ]
    }
   ],
   "source": [
    "active_transporters = get_active_transport(transport_reactions)"
   ]
  },
  {
   "cell_type": "code",
   "execution_count": 8,
   "metadata": {},
   "outputs": [
    {
     "name": "stdout",
     "output_type": "stream",
     "text": [
      "54 active transport reactions identified\n"
     ]
    }
   ],
   "source": [
    "print('{} active transport reactions identified'.format(len(active_transporters)))"
   ]
  },
  {
   "cell_type": "code",
   "execution_count": 9,
   "metadata": {},
   "outputs": [],
   "source": [
    "for r in transport_reactions:\n",
    "    if r not in active_transporters and 'SPONT' not in r:\n",
    "        rxn = sporeme.reactions.get_by_id(r)\n",
    "        rxn.upper_bound = 0 \n",
    "        rxn.lower_bound = 0"
   ]
  },
  {
   "cell_type": "code",
   "execution_count": null,
   "metadata": {
    "scrolled": true
   },
   "outputs": [],
   "source": [
    "solve_me_model(sporeme, max_mu = 0.5, min_mu = .05, using_soplex=False, precision = 1e-6,growth_key = 'sigma')"
   ]
  },
  {
   "cell_type": "code",
   "execution_count": null,
   "metadata": {
    "scrolled": true
   },
   "outputs": [],
   "source": [
    "from bacillusme.analysis import sensitivity as ss\n",
    "flux_results_df = ss.transporter_knockout(sporeme,active_transporters, \\\n",
    "                                        NP=10,solution=1,biomass_dilution='biomass_dilution_s',\\\n",
    "                                        growth_key = 'sigma')\n",
    "flux_results_df.to_csv('comm_transport_flux_results.csv')"
   ]
  },
  {
   "cell_type": "code",
   "execution_count": null,
   "metadata": {},
   "outputs": [],
   "source": [
    "# All of them:\n",
    "flux_results_df = pd.read_csv('comm_transport_flux_results.csv',index_col=0)\n",
    "(n, bins, patches) = plt.hist(flux_results_df.loc['biomass_dilution_s'])\n",
    "plt.xlabel('Growth rate')\n",
    "plt.ylabel('Counts')"
   ]
  },
  {
   "cell_type": "code",
   "execution_count": null,
   "metadata": {},
   "outputs": [],
   "source": [
    "transport_dict = {}\n",
    "for candidate in flux_results_df.drop('base',axis=1).columns:\n",
    "    r = sporeme.reactions.get_by_id(candidate)\n",
    "    mets = []\n",
    "    [mets.append(re.split('_.$',m.id)[0]) for m in r.metabolites if isinstance(m,cobrame.Metabolite) and 'h_' not in m.id]\n",
    "    mets = list(set(mets))\n",
    "    transport_dict[candidate] = mets[0]\n",
    "    \n",
    "plt.figure(figsize=(13,3))\n",
    "flux_results_df.loc['biomass_dilution_s'].sort_values().plot.bar()\n",
    "plt.xlabel('Single knockout')\n",
    "plt.ylabel('Spore growth rate')"
   ]
  },
  {
   "cell_type": "code",
   "execution_count": null,
   "metadata": {},
   "outputs": [],
   "source": [
    "# Important transporters without gene so far\n",
    "df = flux_results_df.loc['biomass_dilution_s'].sort_values().head(20)\n",
    "df[df.index.str.contains('dummy')]"
   ]
  },
  {
   "cell_type": "code",
   "execution_count": null,
   "metadata": {},
   "outputs": [],
   "source": [
    "output = flux_results_df.loc[flux_results_df.columns.to_list()+['biomass_dilution_s']]\n",
    "output = output[output.any(axis=1)] # Only reactions that carried flux in at least one knockout"
   ]
  },
  {
   "cell_type": "code",
   "execution_count": null,
   "metadata": {},
   "outputs": [],
   "source": [
    "plt.figure(figsize = (13,5))\n",
    "cluster_df = pd.DataFrame(stats.zscore(output,axis=1),\n",
    "                            index=output.index,columns=output.columns)\n",
    "cluster_df = cluster_df.loc[:,output.loc['biomass_dilution_s']<bins[-1]]\n",
    "sns.clustermap(cluster_df,col_cluster=1,row_cluster=1,cmap=\"mako\")\n",
    "plt.savefig('clustermap_filtered')"
   ]
  },
  {
   "cell_type": "markdown",
   "metadata": {},
   "source": [
    "Identify essential transporters so far. These are stored and taken out as they are already results."
   ]
  },
  {
   "cell_type": "code",
   "execution_count": null,
   "metadata": {},
   "outputs": [],
   "source": [
    "essential_transporters = list(output.columns[output.loc['biomass_dilution_s'] < 0.001])\n",
    "non_essential_transporter = list(output.columns[output.loc['biomass_dilution_s'] >= bins[-1]])\n",
    "\n",
    "# Remove non-essential\n",
    "candidates_df = output.drop(non_essential_transporter,axis=1)\n",
    "# Remove the ones that we now already are essential\n",
    "candidates_df = candidates_df.drop(essential_transporters,axis=1)\n",
    "\n",
    "print('{} transporters are obviously non-essential: {} \\n'.format(len(non_essential_transporter),non_essential_transporter))\n",
    "print('So far, {} transporters are obviously essential: {} \\n'.format(len(essential_transporters),essential_transporters))\n",
    "\n",
    "print('There are {} candidates: {} \\n'.format(len(candidates_df.columns),candidates_df.columns.values))"
   ]
  },
  {
   "cell_type": "code",
   "execution_count": null,
   "metadata": {},
   "outputs": [],
   "source": [
    "# The rest:\n",
    "(n, bins, patches) = plt.hist(candidates_df.loc['biomass_dilution_s'])\n",
    "plt.xlabel('Growth rate')\n",
    "plt.ylabel('Counts')"
   ]
  },
  {
   "cell_type": "code",
   "execution_count": null,
   "metadata": {},
   "outputs": [],
   "source": [
    "output = candidates_df.loc[candidates_df.columns.to_list()+['biomass_dilution_s']]\n",
    "output = output[output.any(axis=1)] # Only reactions that carried flux in at least one knockout"
   ]
  },
  {
   "cell_type": "code",
   "execution_count": null,
   "metadata": {},
   "outputs": [],
   "source": [
    "cluster_df = pd.DataFrame(stats.zscore(output,axis=1),\n",
    "                            index=output.index,columns=output.columns)\n",
    "cm = sns.clustermap(cluster_df,col_cluster=1,row_cluster=1,cmap=\"mako\",yticklabels=1,xticklabels=1)\n",
    "\n",
    "plt.savefig('clustermap_filtered')"
   ]
  },
  {
   "cell_type": "code",
   "execution_count": null,
   "metadata": {},
   "outputs": [],
   "source": [
    "# 1. Pairwise interaction knockout\n",
    "# 2. Find minimal set of transporters. Sort values and close less essential first. \n",
    "# Ignore those transporters that are not active. Restore them if they are turned on again to compensate.\n",
    "# 3. Do these simulations change with different NGAM?"
   ]
  },
  {
   "cell_type": "markdown",
   "metadata": {},
   "source": [
    "## Pairwise interaction"
   ]
  },
  {
   "cell_type": "code",
   "execution_count": null,
   "metadata": {},
   "outputs": [],
   "source": [
    "from bacillusme.analysis import sensitivity as ss\n",
    "transport_reactions_filtered = cluster_df.columns.values\n",
    "base_model = copy.deepcopy(sporeme)"
   ]
  },
  {
   "cell_type": "code",
   "execution_count": null,
   "metadata": {},
   "outputs": [],
   "source": [
    "from scipy.special import binom\n",
    "print('With {} knockouts there can be {} pairs'.format(len(transport_reactions_filtered),binom(len(transport_reactions_filtered),2)))"
   ]
  },
  {
   "cell_type": "code",
   "execution_count": null,
   "metadata": {
    "scrolled": true
   },
   "outputs": [],
   "source": [
    "for r in transport_reactions_filtered:\n",
    "    # Restore\n",
    "    sporeme = copy.deepcopy(base_model)\n",
    "    \n",
    "    # Close transporter\n",
    "    rxn = sporeme.reactions.get_by_id(r)\n",
    "    rxn.lower_bound = 0\n",
    "    rxn.upper_bound = 0\n",
    "    \n",
    "    # Calculation\n",
    "    flux_results_df = ss.transporter_knockout(sporeme,transport_reactions_filtered, \\\n",
    "                                        NP=10,solution=1,biomass_dilution='biomass_dilution_s',\\\n",
    "                                        growth_key = 'sigma')\n",
    "    flux_results_df.to_csv('transporter_knockouts/{}.csv'.format(r))"
   ]
  },
  {
   "cell_type": "code",
   "execution_count": null,
   "metadata": {},
   "outputs": [],
   "source": [
    "# Read and process\n",
    "gr_df = pd.DataFrame(index=transport_reactions_filtered)\n",
    "for r in transport_reactions_filtered:\n",
    "    flux_results_df=pd.read_csv('transporter_knockouts/{}.csv'.format(r),index_col=0).drop('base',axis=1)\n",
    "    for i in transport_reactions_filtered:\n",
    "        gr_df.loc[r,i] = flux_results_df.loc['biomass_dilution_s',i]"
   ]
  },
  {
   "cell_type": "code",
   "execution_count": null,
   "metadata": {},
   "outputs": [],
   "source": [
    "plt.figure(figsize = (13,5))\n",
    "output = gr_df.loc[gr_df.any(axis=1),gr_df.any(axis=0)].drop('H2Ot_FWD_CPLX_dummy_s',axis=0).drop('H2Ot_FWD_CPLX_dummy_s',axis=1)\n",
    "cluster_df = pd.DataFrame(stats.zscore(output,axis=1),\n",
    "                            index=output.index,columns=output.columns)\n",
    "sns.clustermap(output,col_cluster=1,row_cluster=1, cmap='mako')\n",
    "plt.savefig('pairwise_growth')"
   ]
  },
  {
   "cell_type": "markdown",
   "metadata": {},
   "source": [
    "## Check for other possible transporters"
   ]
  },
  {
   "cell_type": "markdown",
   "metadata": {},
   "source": [
    "Close each one of the active 51 transporters and check for all other transporters that might turn on. Then include all in the analysis."
   ]
  },
  {
   "cell_type": "code",
   "execution_count": null,
   "metadata": {
    "scrolled": true
   },
   "outputs": [],
   "source": [
    "with open(\"./sporeme_solution.pickle\", \"rb\") as outfile:\n",
    "    sporeme = pickle.load(outfile)"
   ]
  },
  {
   "cell_type": "code",
   "execution_count": null,
   "metadata": {},
   "outputs": [],
   "source": [
    "closed_flux_results_df = pd.read_csv('comm_transport_flux_results.csv',index_col=0).drop('base',axis=1)"
   ]
  },
  {
   "cell_type": "code",
   "execution_count": null,
   "metadata": {
    "scrolled": true
   },
   "outputs": [],
   "source": [
    "from bacillusme.analysis import sensitivity as ss\n",
    "flux_results_df = ss.transporter_knockout(sporeme,active_transporters, \\\n",
    "                                        NP=10,solution=1,biomass_dilution='biomass_dilution_s',\\\n",
    "                                        growth_key = 'sigma')\n",
    "flux_results_df.to_csv('single_ko_all_open.csv')"
   ]
  },
  {
   "cell_type": "code",
   "execution_count": null,
   "metadata": {},
   "outputs": [],
   "source": [
    "flux_results_df = pd.read_csv('single_ko_all_open.csv',index_col=0)"
   ]
  },
  {
   "cell_type": "code",
   "execution_count": null,
   "metadata": {
    "scrolled": true
   },
   "outputs": [],
   "source": [
    "new_transporters = []\n",
    "for r in transport_reactions:\n",
    "    if (flux_results_df.loc[r]>0).any() and r not in active_transporters:\n",
    "        new_transporters.append(r)\n",
    "        \n",
    "        print('REACTION:',r,flux_results_df.loc[r,'base'])\n",
    "        print(flux_results_df[flux_results_df.columns[flux_results_df.loc[r]>0]].loc[r])\n",
    "        print('\\n')"
   ]
  },
  {
   "cell_type": "code",
   "execution_count": null,
   "metadata": {},
   "outputs": [],
   "source": [
    "include_transporters = new_transporters\n",
    "output = flux_results_df.loc[include_transporters,active_transporters]"
   ]
  },
  {
   "cell_type": "code",
   "execution_count": null,
   "metadata": {},
   "outputs": [],
   "source": [
    "cluster_df = pd.DataFrame(stats.zscore(output,axis=1),\n",
    "                            index=output.index,columns=output.columns)\n",
    "sns.clustermap(cluster_df,col_cluster=1,row_cluster=1, cmap='mako',yticklabels=1,xticklabels=1,figsize=(13,13))\n",
    "plt.savefig('transporters_turned_on')"
   ]
  },
  {
   "cell_type": "markdown",
   "metadata": {},
   "source": [
    "### Mini robustness"
   ]
  },
  {
   "cell_type": "code",
   "execution_count": null,
   "metadata": {},
   "outputs": [],
   "source": [
    "transport_reactions = ['ASPt2r_FWD_CPLX_dummy_s','4FE4St_s','PSER_Lt6_FWD_CPLX_dummy_s','CBL1t_s']"
   ]
  },
  {
   "cell_type": "code",
   "execution_count": null,
   "metadata": {},
   "outputs": [],
   "source": [
    "from bacillusme.analysis import sensitivity as ss\n",
    "flux_results_df = ss.transporter_knockout(sporeme,transport_reactions, \\\n",
    "                                        NP=10,solution=1,biomass_dilution='biomass_dilution_s',\\\n",
    "                                        growth_key = 'sigma',overexpress=True)\n",
    "flux_results_df.to_csv('overexpress_flux_results.csv')"
   ]
  },
  {
   "cell_type": "code",
   "execution_count": null,
   "metadata": {},
   "outputs": [],
   "source": [
    "flux_results_df = pd.read_csv('overexpress_flux_results.csv',index_col=0)"
   ]
  },
  {
   "cell_type": "code",
   "execution_count": null,
   "metadata": {},
   "outputs": [],
   "source": [
    "output = flux_results_df.loc[flux_results_df.columns.to_list()+['biomass_dilution_s']]\n",
    "output = output[output.any(axis=1)] # Only reactions that carried flux in at least one knockout"
   ]
  },
  {
   "cell_type": "code",
   "execution_count": null,
   "metadata": {},
   "outputs": [],
   "source": [
    "plt.figure(figsize = (13,5))\n",
    "cluster_df = pd.DataFrame(stats.zscore(output,axis=1),\n",
    "                            index=output.index,columns=output.columns)\n",
    "sns.clustermap(cluster_df,col_cluster=1,row_cluster=1,cmap=\"mako\")\n",
    "plt.savefig('clustermap_filtered')"
   ]
  },
  {
   "cell_type": "markdown",
   "metadata": {},
   "source": [
    "## Check by group of transporters of metabolite"
   ]
  },
  {
   "cell_type": "code",
   "execution_count": 10,
   "metadata": {
    "scrolled": true
   },
   "outputs": [],
   "source": [
    "with open(\"./sporeme_solution.pickle\", \"rb\") as outfile:\n",
    "    sporeme = pickle.load(outfile)"
   ]
  },
  {
   "cell_type": "code",
   "execution_count": 9,
   "metadata": {},
   "outputs": [],
   "source": [
    "def get_necessary_metabolites(model,active_transporters):\n",
    "    necessary_metabolites = []\n",
    "    for r in tqdm(active_transporters):\n",
    "        rxn = model.reactions.get_by_id(r)\n",
    "        for m in rxn.products:\n",
    "            if not isinstance(m,cobrame.Metabolite):\n",
    "                continue\n",
    "            met_root = m.id[:-2]\n",
    "            for i in rxn.reactants:\n",
    "                if met_root in i.id:\n",
    "                    necessary_metabolites.append(m.id)\n",
    "    return list(set(necessary_metabolites))\n",
    "\n",
    "def get_all_available_transport(model,necessary_metabolites):\n",
    "    available_transport = []\n",
    "    at_dict = {}\n",
    "    for m in tqdm(necessary_metabolites):\n",
    "        rxns = get_transport_reactions(model,m,comps=['c','s']) + get_transport_reactions(model,m,comps=['s','c'])\n",
    "        [available_transport.append(r.id) for r in rxns]\n",
    "        at_dict[m] = []\n",
    "        [at_dict[m].append(r.id) for r in rxns]\n",
    "    return list(set(available_transport)), at_dict"
   ]
  },
  {
   "cell_type": "code",
   "execution_count": 10,
   "metadata": {},
   "outputs": [],
   "source": [
    "# Previously identified essential metabolites\n",
    "exchange_list = ['4fe4s_s','2fe2s_s','udcpp_s','pydx5p_s','3fe4s_s','cl_s','sheme_s','cu_s','mn2_s',\n",
    "                 'bmocogdp_s','dpm_s','thmpp_s','zn2_s','cbl1_s','cobalt2_s']\n",
    "additional = [m.id for m in sporeme.metabolites if isinstance(m,cobrame.Metabolite)]\n",
    "transported_metabolites = exchange_list+additional"
   ]
  },
  {
   "cell_type": "code",
   "execution_count": 11,
   "metadata": {},
   "outputs": [
    {
     "name": "stderr",
     "output_type": "stream",
     "text": [
      "100%|██████████| 12339/12339 [00:00<00:00, 90983.36it/s]"
     ]
    },
    {
     "name": "stdout",
     "output_type": "stream",
     "text": [
      "405 transport reactions identified\n"
     ]
    },
    {
     "name": "stderr",
     "output_type": "stream",
     "text": [
      "\n"
     ]
    }
   ],
   "source": [
    "transport_reactions = get_all_transport(sporeme)\n",
    "print('{} transport reactions identified'.format(len(transport_reactions)))"
   ]
  },
  {
   "cell_type": "code",
   "execution_count": 12,
   "metadata": {
    "scrolled": true
   },
   "outputs": [
    {
     "name": "stderr",
     "output_type": "stream",
     "text": [
      "100%|██████████| 405/405 [00:00<00:00, 129276.49it/s]\n",
      "100%|██████████| 54/54 [00:00<00:00, 2318.31it/s]\n",
      "100%|██████████| 51/51 [00:01<00:00, 36.53it/s]\n"
     ]
    }
   ],
   "source": [
    "active_transporters = get_active_transport(transport_reactions)\n",
    "necessary_metabolites = get_necessary_metabolites(sporeme,active_transporters)\n",
    "necessary_metabolites.remove('h_s')\n",
    "necessary_metabolites.remove('h_c')\n",
    "available_transport, at_dict = get_all_available_transport(sporeme,necessary_metabolites)"
   ]
  },
  {
   "cell_type": "code",
   "execution_count": 13,
   "metadata": {},
   "outputs": [
    {
     "name": "stdout",
     "output_type": "stream",
     "text": [
      "54 active transport reactions identified\n",
      "51 necessary metabolites identified\n",
      "127 available transport reactions identified\n"
     ]
    }
   ],
   "source": [
    "print('{} active transport reactions identified'.format(len(active_transporters)))\n",
    "print('{} necessary metabolites identified'.format(len(necessary_metabolites)))\n",
    "print('{} available transport reactions identified'.format(len(available_transport)))"
   ]
  },
  {
   "cell_type": "code",
   "execution_count": 14,
   "metadata": {},
   "outputs": [
    {
     "name": "stdout",
     "output_type": "stream",
     "text": [
      "129 open transport reactions identified\n",
      "Included {'GLCpts_FWD_BSU13890-MONOMER_s', 'ATPS4r_FWD_CPLX000-10_s'}\n"
     ]
    }
   ],
   "source": [
    "all_transporters_to_open = list(set(active_transporters + available_transport))\n",
    "print('{} open transport reactions identified'.format(len(all_transporters_to_open)))\n",
    "print('Included {}'.format(set(active_transporters)-set(available_transport)))"
   ]
  },
  {
   "cell_type": "code",
   "execution_count": 17,
   "metadata": {},
   "outputs": [],
   "source": [
    "for r in transport_reactions:\n",
    "    if r not in all_transporters_to_open and 'SPONT' not in r:\n",
    "        rxn = sporeme.reactions.get_by_id(r)\n",
    "        rxn.upper_bound = 0 \n",
    "        rxn.lower_bound = 0"
   ]
  },
  {
   "cell_type": "code",
   "execution_count": 19,
   "metadata": {
    "scrolled": true
   },
   "outputs": [
    {
     "name": "stdout",
     "output_type": "stream",
     "text": [
      "iter\tmuopt    \ta     \tb     \tmu1       \tstat1\n",
      "Finished compiling expressions in 458.311061 seconds\n",
      "Finished substituting S,lb,ub in 19.991355 seconds\n",
      "Finished makeME_LP in 2.215100 seconds\n",
      "Getting MINOS parameters from ME_NLP...\n",
      "1 0.075 0.075 0.15 0.075 optimal\n",
      "Finished substituting S,lb,ub in 20.147968 seconds\n",
      "Finished makeME_LP in 2.209548 seconds\n",
      "Getting MINOS parameters from ME_NLP...\n",
      "2 0.11249999999999999 0.11249999999999999 0.15 0.11249999999999999 optimal\n",
      "Finished substituting S,lb,ub in 19.398486 seconds\n",
      "Finished makeME_LP in 2.307412 seconds\n",
      "Getting MINOS parameters from ME_NLP...\n",
      "3 0.11249999999999999 0.11249999999999999 0.13124999999999998 0.13124999999999998 1\n",
      "Finished substituting S,lb,ub in 19.748151 seconds\n",
      "Finished makeME_LP in 2.185317 seconds\n",
      "Getting MINOS parameters from ME_NLP...\n",
      "4 0.11249999999999999 0.11249999999999999 0.12187499999999998 0.12187499999999998 1\n",
      "Finished substituting S,lb,ub in 19.552347 seconds\n",
      "Finished makeME_LP in 2.191740 seconds\n",
      "Getting MINOS parameters from ME_NLP...\n",
      "5 0.11249999999999999 0.11249999999999999 0.11718749999999999 0.11718749999999999 1\n",
      "Finished substituting S,lb,ub in 19.514972 seconds\n",
      "Finished makeME_LP in 2.197946 seconds\n",
      "Getting MINOS parameters from ME_NLP...\n",
      "6 0.11249999999999999 0.11249999999999999 0.11484375 0.11484375 1\n",
      "Finished substituting S,lb,ub in 19.458566 seconds\n",
      "Finished makeME_LP in 2.191162 seconds\n",
      "Getting MINOS parameters from ME_NLP...\n",
      "7 0.11249999999999999 0.11249999999999999 0.11367187499999999 0.11367187499999999 1\n",
      "Finished substituting S,lb,ub in 20.049598 seconds\n",
      "Finished makeME_LP in 2.274858 seconds\n",
      "Getting MINOS parameters from ME_NLP...\n",
      "8 0.11249999999999999 0.11249999999999999 0.11308593749999998 0.11308593749999998 1\n",
      "Finished substituting S,lb,ub in 19.984293 seconds\n",
      "Finished makeME_LP in 2.314416 seconds\n",
      "Getting MINOS parameters from ME_NLP...\n",
      "9 0.11249999999999999 0.11249999999999999 0.11279296874999999 0.11279296874999999 1\n",
      "Finished substituting S,lb,ub in 20.167932 seconds\n",
      "Finished makeME_LP in 2.205017 seconds\n",
      "Getting MINOS parameters from ME_NLP...\n",
      "10 0.11249999999999999 0.11249999999999999 0.112646484375 0.112646484375 1\n",
      "Finished substituting S,lb,ub in 19.911598 seconds\n",
      "Finished makeME_LP in 2.247534 seconds\n",
      "Getting MINOS parameters from ME_NLP...\n",
      "11 0.11257324218749999 0.11257324218749999 0.112646484375 0.11257324218749999 optimal\n",
      "Finished substituting S,lb,ub in 20.028586 seconds\n",
      "Finished makeME_LP in 2.205216 seconds\n",
      "Getting MINOS parameters from ME_NLP...\n",
      "12 0.11260986328125 0.11260986328125 0.112646484375 0.11260986328125 optimal\n",
      "Finished substituting S,lb,ub in 19.910508 seconds\n",
      "Finished makeME_LP in 2.211862 seconds\n",
      "Getting MINOS parameters from ME_NLP...\n",
      "13 0.11260986328125 0.11260986328125 0.112628173828125 0.112628173828125 1\n",
      "Finished substituting S,lb,ub in 19.873580 seconds\n",
      "Finished makeME_LP in 2.191931 seconds\n",
      "Getting MINOS parameters from ME_NLP...\n",
      "14 0.11260986328125 0.11260986328125 0.1126190185546875 0.1126190185546875 1\n",
      "Finished substituting S,lb,ub in 20.026928 seconds\n",
      "Finished makeME_LP in 2.253957 seconds\n",
      "Getting MINOS parameters from ME_NLP...\n",
      "15 0.11260986328125 0.11260986328125 0.11261444091796875 0.11261444091796875 1\n",
      "Finished substituting S,lb,ub in 19.915341 seconds\n",
      "Finished makeME_LP in 2.203684 seconds\n",
      "Getting MINOS parameters from ME_NLP...\n",
      "16 0.11261215209960937 0.11261215209960937 0.11261444091796875 0.11261215209960937 optimal\n",
      "Finished substituting S,lb,ub in 20.167341 seconds\n",
      "Finished makeME_LP in 2.225593 seconds\n",
      "Getting MINOS parameters from ME_NLP...\n",
      "17 0.11261329650878907 0.11261329650878907 0.11261444091796875 0.11261329650878907 optimal\n",
      "Finished substituting S,lb,ub in 20.006278 seconds\n",
      "Finished makeME_LP in 2.198997 seconds\n",
      "Getting MINOS parameters from ME_NLP...\n",
      "18 0.11261329650878907 0.11261329650878907 0.11261386871337892 0.11261386871337892 1\n",
      "Bisection done in 1236.58 seconds\n"
     ]
    }
   ],
   "source": [
    "solve_me_model(sporeme, max_mu = 0.15, min_mu = .05, using_soplex=False, precision = 1e-6,growth_key = 'sigma')"
   ]
  },
  {
   "cell_type": "code",
   "execution_count": null,
   "metadata": {
    "scrolled": true
   },
   "outputs": [
    {
     "name": "stdout",
     "output_type": "stream",
     "text": [
      "Chosen change function: group_knockout      Sequential = False\n"
     ]
    },
    {
     "name": "stderr",
     "output_type": "stream",
     "text": [
      "biomass_dilution_s response (10 threads):   0%|          | 0/51 [00:00<?, ?it/s]"
     ]
    }
   ],
   "source": [
    "from bacillusme.analysis import sensitivity as ss\n",
    "flux_results_df = ss.transporter_knockout(sporeme,necessary_metabolites, \\\n",
    "                                        NP=10,solution=1,biomass_dilution='biomass_dilution_s',\\\n",
    "                                        growth_key = 'sigma',single_change_function='group_knockout')"
   ]
  },
  {
   "cell_type": "code",
   "execution_count": null,
   "metadata": {},
   "outputs": [],
   "source": [
    "flux_results_df.to_csv('group_KO_flux_results.csv')"
   ]
  },
  {
   "cell_type": "code",
   "execution_count": 94,
   "metadata": {},
   "outputs": [
    {
     "data": {
      "image/png": "[encoded data removed]",
      "text/plain": [
       "<Figure size 864x288 with 1 Axes>"
      ]
     },
     "metadata": {},
     "output_type": "display_data"
    }
   ],
   "source": [
    "flux_results_df = pd.read_csv('group_KO_flux_results.csv',index_col=0)\n",
    "flux_results_df.loc['biomass_dilution_s'].sort_values().plot.bar(figsize=(12,4))\n",
    "plt.tight_layout()\n",
    "plt.savefig(\"group_KO_flux_results.svg\", format=\"SVG\")"
   ]
  },
  {
   "cell_type": "markdown",
   "metadata": {},
   "source": [
    "### Close metabolite one by one\n",
    "Including information about arginine being transported"
   ]
  },
  {
   "cell_type": "code",
   "execution_count": 20,
   "metadata": {
    "scrolled": true
   },
   "outputs": [],
   "source": [
    "with open(\"./sporeme_solution.pickle\", \"rb\") as outfile:\n",
    "    sporeme = pickle.load(outfile)"
   ]
  },
  {
   "cell_type": "code",
   "execution_count": 21,
   "metadata": {},
   "outputs": [],
   "source": [
    "for r in transport_reactions:\n",
    "    if r not in all_transporters_to_open and 'SPONT' not in r:\n",
    "        rxn = sporeme.reactions.get_by_id(r)\n",
    "        rxn.upper_bound = 0 \n",
    "        rxn.lower_bound = 0"
   ]
  },
  {
   "cell_type": "code",
   "execution_count": 22,
   "metadata": {},
   "outputs": [],
   "source": [
    "flux_results_df = pd.read_csv('group_KO_flux_results.csv',index_col=0)\n",
    "sorted_mets = flux_results_df.loc['biomass_dilution_s'].sort_values(ascending=False).drop('base').index.to_list()"
   ]
  },
  {
   "cell_type": "code",
   "execution_count": 23,
   "metadata": {},
   "outputs": [],
   "source": [
    "sorted_mets.remove('arg__L_s')\n",
    "sorted_mets.append('arg__L_s')"
   ]
  },
  {
   "cell_type": "code",
   "execution_count": null,
   "metadata": {
    "scrolled": true
   },
   "outputs": [],
   "source": [
    "# flux_dict = {}\n",
    "# b = 0\n",
    "# for met in tqdm(sorted_mets):\n",
    "#     transport = at_dict[met]\n",
    "    \n",
    "#     if b == 1:\n",
    "#         flux_dict[met] = {r.id:0. for r in sporeme.reactions}\n",
    "#         continue\n",
    "    \n",
    "#     for r in transport:\n",
    "#         rxn = sporeme.reactions.get_by_id(r)\n",
    "#         rxn.lower_bound = 0\n",
    "#         rxn.upper_bound = 0\n",
    "#     solve_me_model(sporeme, max_mu = 0.5, min_mu = .05, using_soplex=False, precision = 1e-4,growth_key = 'sigma',\n",
    "#                   verbosity = 0)\n",
    "#     if sporeme.solution:\n",
    "#         flux_dict[met] = sporeme.solution.x_dict\n",
    "#     else:\n",
    "#         flux_dict[met] = {r.id:0. for r in sporeme.reactions}\n",
    "#         b = 1\n",
    "# flux_results_df = pd.DataFrame.from_dict(flux_dict)\n"
   ]
  },
  {
   "cell_type": "code",
   "execution_count": null,
   "metadata": {
    "scrolled": true
   },
   "outputs": [
    {
     "name": "stdout",
     "output_type": "stream",
     "text": [
      "Chosen change function: group_knockout      Sequential = True\n"
     ]
    },
    {
     "name": "stderr",
     "output_type": "stream",
     "text": [
      "biomass_dilution_s response (20 threads):  59%|█████▉    | 30/51 [1:06:57<39:06, 111.72s/it]  "
     ]
    }
   ],
   "source": [
    "from bacillusme.analysis import sensitivity as ss\n",
    "flux_results_df = ss.transporter_knockout(sporeme,sorted_mets, \\\n",
    "                                        NP=20,solution=1,biomass_dilution='biomass_dilution_s',\\\n",
    "                                        growth_key = 'sigma',single_change_function='group_knockout',sequential=True)\n",
    "flux_results_df.to_csv('group_1by1_KO_flux_results.csv')"
   ]
  },
  {
   "cell_type": "code",
   "execution_count": 92,
   "metadata": {},
   "outputs": [
    {
     "data": {
      "image/png": "[encoded data removed]",
      "text/plain": [
       "<Figure size 864x288 with 1 Axes>"
      ]
     },
     "metadata": {},
     "output_type": "display_data"
    }
   ],
   "source": [
    "flux_results_df = pd.read_csv('group_1by1_KO_flux_results.csv',index_col=0)\n",
    "flux_results_df.loc['biomass_dilution_s',sorted_mets[::-1]].plot.bar(figsize=(12,4))\n",
    "plt.tight_layout()\n",
    "plt.savefig(\"group_1by1_KO_flux_results.svg\", format=\"SVG\")"
   ]
  },
  {
   "cell_type": "markdown",
   "metadata": {},
   "source": [
    "#### Essential mets"
   ]
  },
  {
   "cell_type": "code",
   "execution_count": 183,
   "metadata": {
    "scrolled": true
   },
   "outputs": [],
   "source": [
    "with open(\"./sporeme_solution.pickle\", \"rb\") as outfile:\n",
    "    sporeme = pickle.load(outfile)"
   ]
  },
  {
   "cell_type": "code",
   "execution_count": 184,
   "metadata": {},
   "outputs": [
    {
     "name": "stdout",
     "output_type": "stream",
     "text": [
      "Essential metabolites: ['arg__L_s', 'zn2_s', '6pgc_s', 'so4_s', 'mg2_s', 'pi_c', 'cbl1_s', 'asp__L_s', 'f6p_s', 'mn2_s', 'adn_c', 'acnam_s', 'pep_s', 'pyr_c', 'k_s', 'pser__L_s', 'man6p_c', 'gmp_s', 'leu__L_s', '3amp_s', 'met__L_c']\n"
     ]
    }
   ],
   "source": [
    "flux_results_df = pd.read_csv('group_1by1_KO_flux_results.csv',index_col=0)\n",
    "sorted_mets = flux_results_df.loc['biomass_dilution_s'].sort_values(ascending=True).index.to_list()\n",
    "essential_mets = sorted_mets[:sorted_mets.index('met__L_c')+1]\n",
    "print('Essential metabolites: {}'.format(essential_mets))"
   ]
  },
  {
   "cell_type": "code",
   "execution_count": 185,
   "metadata": {},
   "outputs": [],
   "source": [
    "essential_transporters = []\n",
    "for met in essential_mets:\n",
    "    [essential_transporters.append(i) for i in at_dict[met]]"
   ]
  },
  {
   "cell_type": "code",
   "execution_count": 186,
   "metadata": {},
   "outputs": [
    {
     "name": "stdout",
     "output_type": "stream",
     "text": [
      "63 essential open transporters\n"
     ]
    }
   ],
   "source": [
    "print('{} essential open transporters'.format(len(essential_transporters)))"
   ]
  },
  {
   "cell_type": "code",
   "execution_count": 187,
   "metadata": {},
   "outputs": [],
   "source": [
    "for r in transport_reactions:\n",
    "    if r not in essential_transporters and 'SPONT' not in r:\n",
    "        rxn = sporeme.reactions.get_by_id(r)\n",
    "        rxn.upper_bound = 0 \n",
    "        rxn.lower_bound = 0"
   ]
  },
  {
   "cell_type": "code",
   "execution_count": 40,
   "metadata": {
    "scrolled": true
   },
   "outputs": [
    {
     "name": "stdout",
     "output_type": "stream",
     "text": [
      "iter\tmuopt    \ta     \tb     \tmu1       \tstat1\n",
      "Finished compiling expressions in 419.896291 seconds\n",
      "Finished substituting S,lb,ub in 18.152458 seconds\n",
      "Finished makeME_LP in 2.073279 seconds\n",
      "Getting MINOS parameters from ME_NLP...\n",
      "1 0.0 0.0 0.075 0.075 1\n",
      "Finished substituting S,lb,ub in 18.030050 seconds\n",
      "Finished makeME_LP in 2.020010 seconds\n",
      "Getting MINOS parameters from ME_NLP...\n",
      "2 0.0 0.0 0.0375 0.0375 1\n",
      "Finished substituting S,lb,ub in 18.068915 seconds\n",
      "Finished makeME_LP in 2.028888 seconds\n",
      "Getting MINOS parameters from ME_NLP...\n",
      "3 0.01875 0.01875 0.0375 0.01875 optimal\n",
      "Finished substituting S,lb,ub in 18.030855 seconds\n",
      "Finished makeME_LP in 2.034919 seconds\n",
      "Getting MINOS parameters from ME_NLP...\n",
      "4 0.028124999999999997 0.028124999999999997 0.0375 0.028124999999999997 optimal\n",
      "Finished substituting S,lb,ub in 18.027932 seconds\n",
      "Finished makeME_LP in 2.061384 seconds\n",
      "Getting MINOS parameters from ME_NLP...\n",
      "5 0.032812499999999994 0.032812499999999994 0.0375 0.032812499999999994 optimal\n",
      "Finished substituting S,lb,ub in 17.818643 seconds\n",
      "Finished makeME_LP in 2.044960 seconds\n",
      "Getting MINOS parameters from ME_NLP...\n",
      "6 0.032812499999999994 0.032812499999999994 0.03515625 0.03515625 1\n",
      "Finished substituting S,lb,ub in 17.760512 seconds\n",
      "Finished makeME_LP in 2.025776 seconds\n",
      "Getting MINOS parameters from ME_NLP...\n",
      "7 0.033984375 0.033984375 0.03515625 0.033984375 optimal\n",
      "Finished substituting S,lb,ub in 17.884906 seconds\n",
      "Finished makeME_LP in 2.045836 seconds\n",
      "Getting MINOS parameters from ME_NLP...\n",
      "8 0.0345703125 0.0345703125 0.03515625 0.0345703125 optimal\n",
      "Finished substituting S,lb,ub in 17.699486 seconds\n",
      "Finished makeME_LP in 2.022104 seconds\n",
      "Getting MINOS parameters from ME_NLP...\n",
      "9 0.0345703125 0.0345703125 0.03486328125 0.03486328125 1\n",
      "Finished substituting S,lb,ub in 17.676635 seconds\n",
      "Finished makeME_LP in 2.017565 seconds\n",
      "Getting MINOS parameters from ME_NLP...\n",
      "10 0.0345703125 0.0345703125 0.034716796875 0.034716796875 1\n",
      "Finished substituting S,lb,ub in 17.818541 seconds\n",
      "Finished makeME_LP in 2.015323 seconds\n",
      "Getting MINOS parameters from ME_NLP...\n",
      "11 0.0345703125 0.0345703125 0.034643554687499994 0.034643554687499994 1\n",
      "Finished substituting S,lb,ub in 17.833530 seconds\n",
      "Finished makeME_LP in 2.021494 seconds\n",
      "Getting MINOS parameters from ME_NLP...\n",
      "12 0.03460693359375 0.03460693359375 0.034643554687499994 0.03460693359375 optimal\n",
      "Finished substituting S,lb,ub in 17.650001 seconds\n",
      "Finished makeME_LP in 2.030957 seconds\n",
      "Getting MINOS parameters from ME_NLP...\n",
      "13 0.03460693359375 0.03460693359375 0.034625244140625 0.034625244140625 1\n",
      "Finished substituting S,lb,ub in 17.763062 seconds\n",
      "Finished makeME_LP in 2.022782 seconds\n",
      "Getting MINOS parameters from ME_NLP...\n",
      "14 0.0346160888671875 0.0346160888671875 0.034625244140625 0.0346160888671875 optimal\n",
      "Finished substituting S,lb,ub in 17.856682 seconds\n",
      "Finished makeME_LP in 2.032190 seconds\n",
      "Getting MINOS parameters from ME_NLP...\n",
      "15 0.034620666503906244 0.034620666503906244 0.034625244140625 0.034620666503906244 optimal\n",
      "Finished substituting S,lb,ub in 17.827292 seconds\n",
      "Finished makeME_LP in 2.036062 seconds\n",
      "Getting MINOS parameters from ME_NLP...\n",
      "16 0.034620666503906244 0.034620666503906244 0.03462295532226562 0.03462295532226562 1\n",
      "Finished substituting S,lb,ub in 17.674470 seconds\n",
      "Finished makeME_LP in 2.016154 seconds\n",
      "Getting MINOS parameters from ME_NLP...\n",
      "17 0.034620666503906244 0.034620666503906244 0.03462181091308593 0.03462181091308593 1\n",
      "Finished substituting S,lb,ub in 17.732747 seconds\n",
      "Finished makeME_LP in 2.019422 seconds\n",
      "Getting MINOS parameters from ME_NLP...\n",
      "18 0.03462123870849609 0.03462123870849609 0.03462181091308593 0.03462123870849609 optimal\n",
      "Bisection done in 1489.51 seconds\n"
     ]
    }
   ],
   "source": [
    "solve_me_model(sporeme, max_mu = 0.15, min_mu = .05, using_soplex=False, precision = 1e-6,growth_key = 'sigma')"
   ]
  },
  {
   "cell_type": "code",
   "execution_count": null,
   "metadata": {
    "scrolled": true
   },
   "outputs": [
    {
     "name": "stdout",
     "output_type": "stream",
     "text": [
      "Chosen change function: group_knockout      Sequential = False\n"
     ]
    },
    {
     "name": "stderr",
     "output_type": "stream",
     "text": [
      "\n",
      "  0%|          | 0/21 [00:00<?, ?it/s]\u001b[A\n",
      "biomass_dilution_s response (20 threads):   0%|          | 0/21 [00:00<?, ?it/s]\u001b[A"
     ]
    }
   ],
   "source": [
    "from bacillusme.analysis import sensitivity as ss\n",
    "flux_results_df = ss.transporter_knockout(sporeme,essential_mets, \\\n",
    "                                        NP=20,solution=1,biomass_dilution='biomass_dilution_s',\\\n",
    "                                        growth_key = 'sigma',single_change_function='group_knockout')\n",
    "flux_results_df.to_csv('essential_metabolite_group_KO.csv')"
   ]
  },
  {
   "cell_type": "code",
   "execution_count": 87,
   "metadata": {},
   "outputs": [
    {
     "data": {
      "image/png": "[encoded data removed]",
      "text/plain": [
       "<Figure size 1080x288 with 1 Axes>"
      ]
     },
     "metadata": {},
     "output_type": "display_data"
    }
   ],
   "source": [
    "flux_results_df = pd.read_csv('essential_metabolite_group_KO.csv',index_col=0)\n",
    "flux_results_df.loc['biomass_dilution_s'].plot.bar(figsize=(15,4))\n",
    "plt.tight_layout()\n",
    "plt.savefig(\"essential_metabolite_group_KO.svg\", format=\"SVG\")"
   ]
  },
  {
   "cell_type": "code",
   "execution_count": null,
   "metadata": {
    "scrolled": true
   },
   "outputs": [],
   "source": [
    "from bacillusme.analysis import sensitivity as ss\n",
    "flux_results_df = ss.transporter_knockout(sporeme,essential_transporters, \\\n",
    "                                        NP=20,solution=1,biomass_dilution='biomass_dilution_s',\\\n",
    "                                        growth_key = 'sigma')\n",
    "flux_results_df.to_csv('essential_transporter_KO.csv')"
   ]
  },
  {
   "cell_type": "code",
   "execution_count": 48,
   "metadata": {},
   "outputs": [
    {
     "data": {
      "text/plain": [
       "<matplotlib.axes._subplots.AxesSubplot at 0x7f43ec6765c0>"
      ]
     },
     "execution_count": 48,
     "metadata": {},
     "output_type": "execute_result"
    },
    {
     "data": {
      "image/png": "[encoded data removed]",
      "text/plain": [
       "<Figure size 1080x288 with 1 Axes>"
      ]
     },
     "metadata": {},
     "output_type": "display_data"
    }
   ],
   "source": [
    "flux_results_df = pd.read_csv('essential_transporter_KO.csv',index_col=0)\n",
    "flux_results_df.loc['biomass_dilution_s'].plot.bar(figsize=(15,4))"
   ]
  },
  {
   "cell_type": "code",
   "execution_count": 53,
   "metadata": {},
   "outputs": [
    {
     "data": {
      "text/plain": [
       "<matplotlib.axes._subplots.AxesSubplot at 0x7f43f5945ba8>"
      ]
     },
     "execution_count": 53,
     "metadata": {},
     "output_type": "execute_result"
    },
    {
     "data": {
      "image/png": "[encoded data removed]",
      "text/plain": [
       "<Figure size 576x396 with 1 Axes>"
      ]
     },
     "metadata": {},
     "output_type": "display_data"
    }
   ],
   "source": [
    "flux_results_df.loc['biomass_dilution_s',at_dict['arg__L_s']+at_dict['met__L_c']].plot.bar()"
   ]
  },
  {
   "cell_type": "code",
   "execution_count": 74,
   "metadata": {},
   "outputs": [
    {
     "name": "stdout",
     "output_type": "stream",
     "text": [
      "arg__L_c + h_c <=> -7.42684631202334e-5*sigma BSU37760-MONOMER_s + arg__L_s + h_s\n",
      "arg__L_c + h_c <=> -4.27350427350427e-6*sigma BSU33330-MONOMER_s + arg__L_s + h_s\n",
      "arg__L_c + atp_s + h2o_s <=> -4.27350427350427e-6*sigma CPLX000-9_s + adp_s + arg__L_s + h_s + pi_s\n",
      "arg__L_c + h_c <=> -4.27350427350427e-6*sigma BSU40330-MONOMER_s + arg__L_s + h_s\n"
     ]
    }
   ],
   "source": [
    "for r in at_dict['arg__L_s']:\n",
    "    rxn = sporeme.reactions.get_by_id(r)\n",
    "    print(rxn.reaction)"
   ]
  },
  {
   "cell_type": "markdown",
   "metadata": {},
   "source": [
    "### Network visualization"
   ]
  },
  {
   "cell_type": "code",
   "execution_count": 50,
   "metadata": {},
   "outputs": [],
   "source": [
    "import itertools\n",
    "import networkx as nx\n",
    "\n",
    "flux_results_df = pd.read_csv('essential_transporter_KO.csv',index_col=0)\n",
    "\n",
    "G = nx.Graph()\n",
    "\n",
    "for r in flux_results_df.drop('base',axis=1).columns:\n",
    "    rxn = sporeme.reactions.get_by_id(r)\n",
    "    mets = list(set([m.id[:-2] for m in rxn.metabolites if isinstance(m,cobrame.Metabolite)]))\n",
    "    combinations = list(itertools.combinations(mets, 2))\n",
    "    \n",
    "    for m in mets:\n",
    "        G.add_node(m,node_size=1000)\n",
    "    \n",
    "    for c in combinations:\n",
    "        G.add_edge(c[0],c[1])"
   ]
  },
  {
   "cell_type": "code",
   "execution_count": 51,
   "metadata": {},
   "outputs": [
    {
     "name": "stdout",
     "output_type": "stream",
     "text": [
      "Nodes of graph: \n",
      "['so4', 'h', 'arg__L', 'adp', 'atp', 'h2o', 'pi', 'zn2', 'k', 'mg2', '6pgc', 'cit', 'icit', 'na1', 'f6p', 'cbl1', 'asp__L', 'mn2', 'g1p', 'acnam', 'g6p', 'adn', 'pep', 'pser__L', 'cd2', 'pyr', 'man6p', 'gmp', 'leu__L', '3amp', 'met__L']\n",
      "Edges of graph: \n",
      "[('so4', 'h'), ('h', 'arg__L'), ('h', 'adp'), ('h', 'atp'), ('h', 'h2o'), ('h', 'pi'), ('h', 'zn2'), ('h', 'k'), ('h', '6pgc'), ('h', 'mg2'), ('h', 'cit'), ('h', 'icit'), ('h', 'asp__L'), ('h', 'mn2'), ('h', 'acnam'), ('h', 'adn'), ('h', 'pep'), ('h', 'pser__L'), ('h', 'cd2'), ('h', 'pyr'), ('h', 'man6p'), ('h', 'gmp'), ('h', 'leu__L'), ('h', '3amp'), ('h', 'met__L'), ('arg__L', 'adp'), ('arg__L', 'atp'), ('arg__L', 'h2o'), ('arg__L', 'pi'), ('adp', 'atp'), ('adp', 'h2o'), ('adp', 'pi'), ('adp', 'mn2'), ('adp', 'zn2'), ('adp', 'met__L'), ('atp', 'h2o'), ('atp', 'pi'), ('atp', 'mn2'), ('atp', 'zn2'), ('atp', 'met__L'), ('h2o', 'pi'), ('h2o', 'mn2'), ('h2o', 'zn2'), ('h2o', 'met__L'), ('pi', 'na1'), ('pi', 'f6p'), ('pi', 'mn2'), ('pi', 'g1p'), ('pi', 'g6p'), ('pi', 'zn2'), ('pi', 'met__L'), ('zn2', 'k'), ('zn2', 'cit'), ('k', 'cd2'), ('mg2', 'cit'), ('mg2', 'icit'), ('cit', 'mn2')]\n"
     ]
    }
   ],
   "source": [
    "print(\"Nodes of graph: \")\n",
    "print(G.nodes())\n",
    "print(\"Edges of graph: \")\n",
    "print(G.edges())"
   ]
  },
  {
   "cell_type": "code",
   "execution_count": 52,
   "metadata": {},
   "outputs": [],
   "source": [
    "G.remove_node('cbl1')"
   ]
  },
  {
   "cell_type": "code",
   "execution_count": 58,
   "metadata": {},
   "outputs": [
    {
     "data": {
      "text/plain": [
       "{'so4': array([-0.27809808, -0.49195416]),\n",
       " 'h': array([-0.15168805,  0.02697109]),\n",
       " 'arg__L': array([0.28499787, 0.14736918]),\n",
       " 'adp': array([0.25875237, 0.0163389 ]),\n",
       " 'atp': array([ 0.31793118, -0.08517893]),\n",
       " 'h2o': array([ 0.22326524, -0.08495193]),\n",
       " 'pi': array([ 0.52229121, -0.07801026]),\n",
       " 'zn2': array([0.1256678 , 0.01943615]),\n",
       " 'k': array([0.04630552, 0.31176186]),\n",
       " 'mg2': array([-0.27478328, -0.28151426]),\n",
       " '6pgc': array([-0.50415023,  0.04938726]),\n",
       " 'cit': array([-0.03039478, -0.24022903]),\n",
       " 'icit': array([-0.46014197, -0.2419485 ]),\n",
       " 'na1': array([0.94084888, 0.14569968]),\n",
       " 'f6p': array([ 0.84545532, -0.42364881]),\n",
       " 'asp__L': array([-0.5972213 ,  0.31331184]),\n",
       " 'mn2': array([ 0.21437143, -0.22774777]),\n",
       " 'g1p': array([ 1.       , -0.0565255]),\n",
       " 'acnam': array([-0.0744365 , -0.48984122]),\n",
       " 'g6p': array([ 0.97465085, -0.25521221]),\n",
       " 'adn': array([-0.64999835, -0.20451307]),\n",
       " 'pep': array([-0.3176969 ,  0.53414686]),\n",
       " 'pser__L': array([-0.35112   ,  0.32418729]),\n",
       " 'cd2': array([0.03256955, 0.48846756]),\n",
       " 'pyr': array([-0.6678625 ,  0.16258305]),\n",
       " 'man6p': array([-0.68523972, -0.02369323]),\n",
       " 'gmp': array([-0.4920896 ,  0.45572657]),\n",
       " 'leu__L': array([-0.47797202, -0.42301121]),\n",
       " '3amp': array([-0.14719828,  0.53927653]),\n",
       " 'met__L': array([0.37298433, 0.07331625])}"
      ]
     },
     "execution_count": 58,
     "metadata": {},
     "output_type": "execute_result"
    }
   ],
   "source": [
    "pos"
   ]
  },
  {
   "cell_type": "code",
   "execution_count": 85,
   "metadata": {},
   "outputs": [
    {
     "data": {
      "image/png": "[encoded data removed]",
      "text/plain": [
       "<Figure size 576x396 with 1 Axes>"
      ]
     },
     "metadata": {},
     "output_type": "display_data"
    }
   ],
   "source": [
    "d = dict(G.degree)\n",
    "\n",
    "pos = nx.spring_layout(G)\n",
    "nx.draw(G,pos=pos, nodelist=d.keys(), node_size=[v * 100 for v in d.values()],figsize=(13,8),alpha=0.8)\n",
    "\n",
    "for label in pos.keys():\n",
    "    x,y = pos[label]\n",
    "    plt.text(x,y+0.09,s=label,horizontalalignment='center')\n",
    "\n",
    "plt.draw()\n",
    "plt.savefig(\"transport_graph.svg\", format=\"SVG\")"
   ]
  },
  {
   "cell_type": "markdown",
   "metadata": {},
   "source": [
    "#### Pairwise interaction"
   ]
  },
  {
   "cell_type": "code",
   "execution_count": 96,
   "metadata": {
    "scrolled": true
   },
   "outputs": [],
   "source": [
    "with open(\"./sporeme_solution.pickle\", \"rb\") as outfile:\n",
    "    sporeme = pickle.load(outfile)"
   ]
  },
  {
   "cell_type": "code",
   "execution_count": 97,
   "metadata": {},
   "outputs": [],
   "source": [
    "for r in transport_reactions:\n",
    "    if r not in essential_transporters and 'SPONT' not in r:\n",
    "        rxn = sporeme.reactions.get_by_id(r)\n",
    "        rxn.upper_bound = 0 \n",
    "        rxn.lower_bound = 0"
   ]
  },
  {
   "cell_type": "code",
   "execution_count": 98,
   "metadata": {},
   "outputs": [],
   "source": [
    "flux_results_df = pd.read_csv('essential_metabolite_group_KO.csv',index_col=0)\n",
    "essential_metabolites = flux_results_df.drop('base',axis=1).columns.values\n",
    "base_model = copy.deepcopy(sporeme)"
   ]
  },
  {
   "cell_type": "code",
   "execution_count": 99,
   "metadata": {},
   "outputs": [
    {
     "name": "stdout",
     "output_type": "stream",
     "text": [
      "With 21 knockouts there can be 210.0 pairs\n"
     ]
    }
   ],
   "source": [
    "from scipy.special import binom\n",
    "print('With {} knockouts there can be {} pairs'.format(len(essential_metabolites),binom(len(essential_metabolites),2)))"
   ]
  },
  {
   "cell_type": "code",
   "execution_count": null,
   "metadata": {
    "scrolled": true
   },
   "outputs": [
    {
     "name": "stdout",
     "output_type": "stream",
     "text": [
      "Chosen change function: group_knockout      Sequential = False\n"
     ]
    },
    {
     "name": "stderr",
     "output_type": "stream",
     "text": [
      "\n",
      "\n",
      "\n",
      "\n",
      "\n",
      "\n",
      "\n",
      "\n",
      "\n",
      "\n",
      "\n",
      "\n",
      "\n",
      "\n",
      "\n",
      "\n",
      "\n",
      "\n",
      "\n",
      "\n",
      "\n",
      "\n",
      "  0%|          | 0/21 [00:00<?, ?it/s]\u001b[A\u001b[A\u001b[A\u001b[A\u001b[A\u001b[A\u001b[A\u001b[A\u001b[A\u001b[A\u001b[A\u001b[A\u001b[A\u001b[A\u001b[A\u001b[A\u001b[A\u001b[A\u001b[A\u001b[A\u001b[A\u001b[A\n",
      "\n",
      "\n",
      "\n",
      "\n",
      "\n",
      "\n",
      "\n",
      "\n",
      "\n",
      "\n",
      "\n",
      "\n",
      "\n",
      "\n",
      "\n",
      "\n",
      "\n",
      "\n",
      "\n",
      "\n",
      "\n",
      "biomass_dilution_s response (20 threads):   0%|          | 0/21 [00:00<?, ?it/s]\u001b[A\u001b[A\u001b[A\u001b[A\u001b[A\u001b[A\u001b[A\u001b[A\u001b[A\u001b[A\u001b[A\u001b[A\u001b[A\u001b[A\u001b[A\u001b[A\u001b[A\u001b[A\u001b[A\u001b[A\u001b[A\u001b[A"
     ]
    }
   ],
   "source": [
    "from bacillusme.analysis import sensitivity as ss\n",
    "for met in essential_metabolites:\n",
    "    # Restore\n",
    "    sporeme = copy.deepcopy(base_model)\n",
    "    \n",
    "    # Close transporter\n",
    "    for r in at_dict[met]:\n",
    "        rxn = sporeme.reactions.get_by_id(r)\n",
    "        rxn.lower_bound = 0\n",
    "        rxn.upper_bound = 0\n",
    "    \n",
    "    # Calculation\n",
    "    flux_results_df = ss.transporter_knockout(sporeme,essential_metabolites, \\\n",
    "                                        NP=20,solution=1,biomass_dilution='biomass_dilution_s',\\\n",
    "                                        growth_key = 'sigma',single_change_function='group_knockout')\n",
    "    flux_results_df.to_csv('group_transporter_knockouts/{}.csv'.format(met))"
   ]
  },
  {
   "cell_type": "code",
   "execution_count": 102,
   "metadata": {},
   "outputs": [
    {
     "data": {
      "text/html": [
       "<div>\n",
       "<style scoped>\n",
       "    .dataframe tbody tr th:only-of-type {\n",
       "        vertical-align: middle;\n",
       "    }\n",
       "\n",
       "    .dataframe tbody tr th {\n",
       "        vertical-align: top;\n",
       "    }\n",
       "\n",
       "    .dataframe thead th {\n",
       "        text-align: right;\n",
       "    }\n",
       "</style>\n",
       "<table border=\"1\" class=\"dataframe\">\n",
       "  <thead>\n",
       "    <tr style=\"text-align: right;\">\n",
       "      <th></th>\n",
       "      <th>base</th>\n",
       "      <th>arg__L_s</th>\n",
       "      <th>zn2_s</th>\n",
       "      <th>so4_s</th>\n",
       "      <th>acnam_s</th>\n",
       "      <th>pser__L_s</th>\n",
       "      <th>6pgc_s</th>\n",
       "      <th>asp__L_s</th>\n",
       "      <th>k_s</th>\n",
       "      <th>gmp_s</th>\n",
       "      <th>...</th>\n",
       "      <th>pyr_c</th>\n",
       "      <th>cbl1_s</th>\n",
       "      <th>mg2_s</th>\n",
       "      <th>pi_c</th>\n",
       "      <th>3amp_s</th>\n",
       "      <th>adn_c</th>\n",
       "      <th>man6p_c</th>\n",
       "      <th>mn2_s</th>\n",
       "      <th>f6p_s</th>\n",
       "      <th>met__L_c</th>\n",
       "    </tr>\n",
       "  </thead>\n",
       "  <tbody>\n",
       "    <tr>\n",
       "      <th>biomass_dilution</th>\n",
       "      <td>0.046832</td>\n",
       "      <td>0.0</td>\n",
       "      <td>0.0</td>\n",
       "      <td>0.0</td>\n",
       "      <td>0.0</td>\n",
       "      <td>0.0</td>\n",
       "      <td>0.0</td>\n",
       "      <td>0.0</td>\n",
       "      <td>0.0</td>\n",
       "      <td>0.0</td>\n",
       "      <td>...</td>\n",
       "      <td>0.0</td>\n",
       "      <td>0.0</td>\n",
       "      <td>0.0</td>\n",
       "      <td>0.0</td>\n",
       "      <td>0.0</td>\n",
       "      <td>0.0</td>\n",
       "      <td>0.0</td>\n",
       "      <td>0.0</td>\n",
       "      <td>0.0</td>\n",
       "      <td>0.0</td>\n",
       "    </tr>\n",
       "    <tr>\n",
       "      <th>protein_biomass_to_biomass</th>\n",
       "      <td>0.026954</td>\n",
       "      <td>0.0</td>\n",
       "      <td>0.0</td>\n",
       "      <td>0.0</td>\n",
       "      <td>0.0</td>\n",
       "      <td>0.0</td>\n",
       "      <td>0.0</td>\n",
       "      <td>0.0</td>\n",
       "      <td>0.0</td>\n",
       "      <td>0.0</td>\n",
       "      <td>...</td>\n",
       "      <td>0.0</td>\n",
       "      <td>0.0</td>\n",
       "      <td>0.0</td>\n",
       "      <td>0.0</td>\n",
       "      <td>0.0</td>\n",
       "      <td>0.0</td>\n",
       "      <td>0.0</td>\n",
       "      <td>0.0</td>\n",
       "      <td>0.0</td>\n",
       "      <td>0.0</td>\n",
       "    </tr>\n",
       "    <tr>\n",
       "      <th>mRNA_biomass_to_biomass</th>\n",
       "      <td>0.000092</td>\n",
       "      <td>0.0</td>\n",
       "      <td>0.0</td>\n",
       "      <td>0.0</td>\n",
       "      <td>0.0</td>\n",
       "      <td>0.0</td>\n",
       "      <td>0.0</td>\n",
       "      <td>0.0</td>\n",
       "      <td>0.0</td>\n",
       "      <td>0.0</td>\n",
       "      <td>...</td>\n",
       "      <td>0.0</td>\n",
       "      <td>0.0</td>\n",
       "      <td>0.0</td>\n",
       "      <td>0.0</td>\n",
       "      <td>0.0</td>\n",
       "      <td>0.0</td>\n",
       "      <td>0.0</td>\n",
       "      <td>0.0</td>\n",
       "      <td>0.0</td>\n",
       "      <td>0.0</td>\n",
       "    </tr>\n",
       "    <tr>\n",
       "      <th>tRNA_biomass_to_biomass</th>\n",
       "      <td>0.000544</td>\n",
       "      <td>0.0</td>\n",
       "      <td>0.0</td>\n",
       "      <td>0.0</td>\n",
       "      <td>0.0</td>\n",
       "      <td>0.0</td>\n",
       "      <td>0.0</td>\n",
       "      <td>0.0</td>\n",
       "      <td>0.0</td>\n",
       "      <td>0.0</td>\n",
       "      <td>...</td>\n",
       "      <td>0.0</td>\n",
       "      <td>0.0</td>\n",
       "      <td>0.0</td>\n",
       "      <td>0.0</td>\n",
       "      <td>0.0</td>\n",
       "      <td>0.0</td>\n",
       "      <td>0.0</td>\n",
       "      <td>0.0</td>\n",
       "      <td>0.0</td>\n",
       "      <td>0.0</td>\n",
       "    </tr>\n",
       "    <tr>\n",
       "      <th>rRNA_biomass_to_biomass</th>\n",
       "      <td>0.004027</td>\n",
       "      <td>0.0</td>\n",
       "      <td>0.0</td>\n",
       "      <td>0.0</td>\n",
       "      <td>0.0</td>\n",
       "      <td>0.0</td>\n",
       "      <td>0.0</td>\n",
       "      <td>0.0</td>\n",
       "      <td>0.0</td>\n",
       "      <td>0.0</td>\n",
       "      <td>...</td>\n",
       "      <td>0.0</td>\n",
       "      <td>0.0</td>\n",
       "      <td>0.0</td>\n",
       "      <td>0.0</td>\n",
       "      <td>0.0</td>\n",
       "      <td>0.0</td>\n",
       "      <td>0.0</td>\n",
       "      <td>0.0</td>\n",
       "      <td>0.0</td>\n",
       "      <td>0.0</td>\n",
       "    </tr>\n",
       "    <tr>\n",
       "      <th>...</th>\n",
       "      <td>...</td>\n",
       "      <td>...</td>\n",
       "      <td>...</td>\n",
       "      <td>...</td>\n",
       "      <td>...</td>\n",
       "      <td>...</td>\n",
       "      <td>...</td>\n",
       "      <td>...</td>\n",
       "      <td>...</td>\n",
       "      <td>...</td>\n",
       "      <td>...</td>\n",
       "      <td>...</td>\n",
       "      <td>...</td>\n",
       "      <td>...</td>\n",
       "      <td>...</td>\n",
       "      <td>...</td>\n",
       "      <td>...</td>\n",
       "      <td>...</td>\n",
       "      <td>...</td>\n",
       "      <td>...</td>\n",
       "      <td>...</td>\n",
       "    </tr>\n",
       "    <tr>\n",
       "      <th>Demand_psetha_BS_s</th>\n",
       "      <td>0.112613</td>\n",
       "      <td>0.0</td>\n",
       "      <td>0.0</td>\n",
       "      <td>0.0</td>\n",
       "      <td>0.0</td>\n",
       "      <td>0.0</td>\n",
       "      <td>0.0</td>\n",
       "      <td>0.0</td>\n",
       "      <td>0.0</td>\n",
       "      <td>0.0</td>\n",
       "      <td>...</td>\n",
       "      <td>0.0</td>\n",
       "      <td>0.0</td>\n",
       "      <td>0.0</td>\n",
       "      <td>0.0</td>\n",
       "      <td>0.0</td>\n",
       "      <td>0.0</td>\n",
       "      <td>0.0</td>\n",
       "      <td>0.0</td>\n",
       "      <td>0.0</td>\n",
       "      <td>0.0</td>\n",
       "    </tr>\n",
       "    <tr>\n",
       "      <th>Demand_t12dg_BS_s</th>\n",
       "      <td>0.112613</td>\n",
       "      <td>0.0</td>\n",
       "      <td>0.0</td>\n",
       "      <td>0.0</td>\n",
       "      <td>0.0</td>\n",
       "      <td>0.0</td>\n",
       "      <td>0.0</td>\n",
       "      <td>0.0</td>\n",
       "      <td>0.0</td>\n",
       "      <td>0.0</td>\n",
       "      <td>...</td>\n",
       "      <td>0.0</td>\n",
       "      <td>0.0</td>\n",
       "      <td>0.0</td>\n",
       "      <td>0.0</td>\n",
       "      <td>0.0</td>\n",
       "      <td>0.0</td>\n",
       "      <td>0.0</td>\n",
       "      <td>0.0</td>\n",
       "      <td>0.0</td>\n",
       "      <td>0.0</td>\n",
       "    </tr>\n",
       "    <tr>\n",
       "      <th>Demand_gtca3_45_BS_s</th>\n",
       "      <td>0.112613</td>\n",
       "      <td>0.0</td>\n",
       "      <td>0.0</td>\n",
       "      <td>0.0</td>\n",
       "      <td>0.0</td>\n",
       "      <td>0.0</td>\n",
       "      <td>0.0</td>\n",
       "      <td>0.0</td>\n",
       "      <td>0.0</td>\n",
       "      <td>0.0</td>\n",
       "      <td>...</td>\n",
       "      <td>0.0</td>\n",
       "      <td>0.0</td>\n",
       "      <td>0.0</td>\n",
       "      <td>0.0</td>\n",
       "      <td>0.0</td>\n",
       "      <td>0.0</td>\n",
       "      <td>0.0</td>\n",
       "      <td>0.0</td>\n",
       "      <td>0.0</td>\n",
       "      <td>0.0</td>\n",
       "    </tr>\n",
       "    <tr>\n",
       "      <th>Demand_lipo1_24_BS_s</th>\n",
       "      <td>0.112613</td>\n",
       "      <td>0.0</td>\n",
       "      <td>0.0</td>\n",
       "      <td>0.0</td>\n",
       "      <td>0.0</td>\n",
       "      <td>0.0</td>\n",
       "      <td>0.0</td>\n",
       "      <td>0.0</td>\n",
       "      <td>0.0</td>\n",
       "      <td>0.0</td>\n",
       "      <td>...</td>\n",
       "      <td>0.0</td>\n",
       "      <td>0.0</td>\n",
       "      <td>0.0</td>\n",
       "      <td>0.0</td>\n",
       "      <td>0.0</td>\n",
       "      <td>0.0</td>\n",
       "      <td>0.0</td>\n",
       "      <td>0.0</td>\n",
       "      <td>0.0</td>\n",
       "      <td>0.0</td>\n",
       "    </tr>\n",
       "    <tr>\n",
       "      <th>Demand_tcam_BS_s</th>\n",
       "      <td>0.112613</td>\n",
       "      <td>0.0</td>\n",
       "      <td>0.0</td>\n",
       "      <td>0.0</td>\n",
       "      <td>0.0</td>\n",
       "      <td>0.0</td>\n",
       "      <td>0.0</td>\n",
       "      <td>0.0</td>\n",
       "      <td>0.0</td>\n",
       "      <td>0.0</td>\n",
       "      <td>...</td>\n",
       "      <td>0.0</td>\n",
       "      <td>0.0</td>\n",
       "      <td>0.0</td>\n",
       "      <td>0.0</td>\n",
       "      <td>0.0</td>\n",
       "      <td>0.0</td>\n",
       "      <td>0.0</td>\n",
       "      <td>0.0</td>\n",
       "      <td>0.0</td>\n",
       "      <td>0.0</td>\n",
       "    </tr>\n",
       "  </tbody>\n",
       "</table>\n",
       "<p>12339 rows × 22 columns</p>\n",
       "</div>"
      ],
      "text/plain": [
       "                                base  arg__L_s  zn2_s  so4_s  acnam_s  \\\n",
       "biomass_dilution            0.046832       0.0    0.0    0.0      0.0   \n",
       "protein_biomass_to_biomass  0.026954       0.0    0.0    0.0      0.0   \n",
       "mRNA_biomass_to_biomass     0.000092       0.0    0.0    0.0      0.0   \n",
       "tRNA_biomass_to_biomass     0.000544       0.0    0.0    0.0      0.0   \n",
       "rRNA_biomass_to_biomass     0.004027       0.0    0.0    0.0      0.0   \n",
       "...                              ...       ...    ...    ...      ...   \n",
       "Demand_psetha_BS_s          0.112613       0.0    0.0    0.0      0.0   \n",
       "Demand_t12dg_BS_s           0.112613       0.0    0.0    0.0      0.0   \n",
       "Demand_gtca3_45_BS_s        0.112613       0.0    0.0    0.0      0.0   \n",
       "Demand_lipo1_24_BS_s        0.112613       0.0    0.0    0.0      0.0   \n",
       "Demand_tcam_BS_s            0.112613       0.0    0.0    0.0      0.0   \n",
       "\n",
       "                            pser__L_s  6pgc_s  asp__L_s  k_s  gmp_s  ...  \\\n",
       "biomass_dilution                  0.0     0.0       0.0  0.0    0.0  ...   \n",
       "protein_biomass_to_biomass        0.0     0.0       0.0  0.0    0.0  ...   \n",
       "mRNA_biomass_to_biomass           0.0     0.0       0.0  0.0    0.0  ...   \n",
       "tRNA_biomass_to_biomass           0.0     0.0       0.0  0.0    0.0  ...   \n",
       "rRNA_biomass_to_biomass           0.0     0.0       0.0  0.0    0.0  ...   \n",
       "...                               ...     ...       ...  ...    ...  ...   \n",
       "Demand_psetha_BS_s                0.0     0.0       0.0  0.0    0.0  ...   \n",
       "Demand_t12dg_BS_s                 0.0     0.0       0.0  0.0    0.0  ...   \n",
       "Demand_gtca3_45_BS_s              0.0     0.0       0.0  0.0    0.0  ...   \n",
       "Demand_lipo1_24_BS_s              0.0     0.0       0.0  0.0    0.0  ...   \n",
       "Demand_tcam_BS_s                  0.0     0.0       0.0  0.0    0.0  ...   \n",
       "\n",
       "                            pyr_c  cbl1_s  mg2_s  pi_c  3amp_s  adn_c  \\\n",
       "biomass_dilution              0.0     0.0    0.0   0.0     0.0    0.0   \n",
       "protein_biomass_to_biomass    0.0     0.0    0.0   0.0     0.0    0.0   \n",
       "mRNA_biomass_to_biomass       0.0     0.0    0.0   0.0     0.0    0.0   \n",
       "tRNA_biomass_to_biomass       0.0     0.0    0.0   0.0     0.0    0.0   \n",
       "rRNA_biomass_to_biomass       0.0     0.0    0.0   0.0     0.0    0.0   \n",
       "...                           ...     ...    ...   ...     ...    ...   \n",
       "Demand_psetha_BS_s            0.0     0.0    0.0   0.0     0.0    0.0   \n",
       "Demand_t12dg_BS_s             0.0     0.0    0.0   0.0     0.0    0.0   \n",
       "Demand_gtca3_45_BS_s          0.0     0.0    0.0   0.0     0.0    0.0   \n",
       "Demand_lipo1_24_BS_s          0.0     0.0    0.0   0.0     0.0    0.0   \n",
       "Demand_tcam_BS_s              0.0     0.0    0.0   0.0     0.0    0.0   \n",
       "\n",
       "                            man6p_c  mn2_s  f6p_s  met__L_c  \n",
       "biomass_dilution                0.0    0.0    0.0       0.0  \n",
       "protein_biomass_to_biomass      0.0    0.0    0.0       0.0  \n",
       "mRNA_biomass_to_biomass         0.0    0.0    0.0       0.0  \n",
       "tRNA_biomass_to_biomass         0.0    0.0    0.0       0.0  \n",
       "rRNA_biomass_to_biomass         0.0    0.0    0.0       0.0  \n",
       "...                             ...    ...    ...       ...  \n",
       "Demand_psetha_BS_s              0.0    0.0    0.0       0.0  \n",
       "Demand_t12dg_BS_s               0.0    0.0    0.0       0.0  \n",
       "Demand_gtca3_45_BS_s            0.0    0.0    0.0       0.0  \n",
       "Demand_lipo1_24_BS_s            0.0    0.0    0.0       0.0  \n",
       "Demand_tcam_BS_s                0.0    0.0    0.0       0.0  \n",
       "\n",
       "[12339 rows x 22 columns]"
      ]
     },
     "execution_count": 102,
     "metadata": {},
     "output_type": "execute_result"
    }
   ],
   "source": [
    "flux_results_df"
   ]
  },
  {
   "cell_type": "code",
   "execution_count": 103,
   "metadata": {},
   "outputs": [],
   "source": [
    "# Read and process\n",
    "gr_df = pd.DataFrame(index=essential_metabolites)\n",
    "for m in essential_metabolites:\n",
    "    flux_results_df=pd.read_csv('group_transporter_knockouts/{}.csv'.format(m),index_col=0).drop('base',axis=1)\n",
    "    for i in flux_results_df.columns.values:\n",
    "        gr_df.loc[m,i] = flux_results_df.loc['biomass_dilution_s',i]"
   ]
  },
  {
   "cell_type": "code",
   "execution_count": 105,
   "metadata": {},
   "outputs": [
    {
     "data": {
      "text/plain": [
       "<seaborn.matrix.ClusterGrid at 0x7f5dce37f780>"
      ]
     },
     "execution_count": 105,
     "metadata": {},
     "output_type": "execute_result"
    },
    {
     "data": {
      "text/plain": [
       "<Figure size 936x360 with 0 Axes>"
      ]
     },
     "metadata": {},
     "output_type": "display_data"
    },
    {
     "data": {
      "image/png": "[encoded data removed]",
      "text/plain": [
       "<Figure size 720x720 with 4 Axes>"
      ]
     },
     "metadata": {},
     "output_type": "display_data"
    }
   ],
   "source": [
    "plt.figure(figsize = (13,5))\n",
    "output = gr_df.loc[gr_df.any(axis=1),gr_df.any(axis=0)]\n",
    "cluster_df = pd.DataFrame(stats.zscore(output,axis=1),\n",
    "                            index=output.index,columns=output.columns)\n",
    "sns.clustermap(cluster_df,col_cluster=1,row_cluster=1, cmap='mako')"
   ]
  },
  {
   "cell_type": "code",
   "execution_count": 111,
   "metadata": {},
   "outputs": [
    {
     "data": {
      "text/plain": [
       "<seaborn.matrix.ClusterGrid at 0x7f5d867192b0>"
      ]
     },
     "execution_count": 111,
     "metadata": {},
     "output_type": "execute_result"
    },
    {
     "data": {
      "text/plain": [
       "<Figure size 936x360 with 0 Axes>"
      ]
     },
     "metadata": {},
     "output_type": "display_data"
    },
    {
     "data": {
      "image/png": "[encoded data removed]",
      "text/plain": [
       "<Figure size 720x720 with 4 Axes>"
      ]
     },
     "metadata": {},
     "output_type": "display_data"
    }
   ],
   "source": [
    "plt.figure(figsize = (13,5))\n",
    "output = gr_df.loc[gr_df.any(axis=1),gr_df.any(axis=0)]\n",
    "cluster_df = pd.DataFrame(stats.zscore(output,axis=1),\n",
    "                            index=output.index,columns=output.columns)\n",
    "sns.clustermap(cluster_df,col_cluster=1,row_cluster=1, cmap='mako')"
   ]
  },
  {
   "cell_type": "markdown",
   "metadata": {},
   "source": [
    "## Energy analysis"
   ]
  },
  {
   "cell_type": "code",
   "execution_count": 188,
   "metadata": {
    "scrolled": true
   },
   "outputs": [],
   "source": [
    "with open(\"./sporeme_solution.pickle\", \"rb\") as outfile:\n",
    "    sporeme = pickle.load(outfile)"
   ]
  },
  {
   "cell_type": "code",
   "execution_count": 189,
   "metadata": {},
   "outputs": [
    {
     "name": "stdout",
     "output_type": "stream",
     "text": [
      "Essential metabolites: ['arg__L_s', 'zn2_s', '6pgc_s', 'so4_s', 'mg2_s', 'pi_c', 'cbl1_s', 'asp__L_s', 'f6p_s', 'mn2_s', 'adn_c', 'acnam_s', 'pep_s', 'pyr_c', 'k_s', 'pser__L_s', 'man6p_c', 'gmp_s', 'leu__L_s', '3amp_s', 'met__L_c']\n"
     ]
    }
   ],
   "source": [
    "flux_results_df = pd.read_csv('group_1by1_KO_flux_results.csv',index_col=0)\n",
    "sorted_mets = flux_results_df.loc['biomass_dilution_s'].sort_values(ascending=True).index.to_list()\n",
    "essential_mets = sorted_mets[:sorted_mets.index('met__L_c')+1]\n",
    "print('Essential metabolites: {}'.format(essential_mets))"
   ]
  },
  {
   "cell_type": "code",
   "execution_count": 190,
   "metadata": {},
   "outputs": [],
   "source": [
    "essential_transporters = []\n",
    "for met in essential_mets:\n",
    "    [essential_transporters.append(i) for i in at_dict[met]]"
   ]
  },
  {
   "cell_type": "code",
   "execution_count": 191,
   "metadata": {},
   "outputs": [
    {
     "name": "stdout",
     "output_type": "stream",
     "text": [
      "63 essential open transporters\n"
     ]
    }
   ],
   "source": [
    "print('{} essential open transporters'.format(len(essential_transporters)))"
   ]
  },
  {
   "cell_type": "code",
   "execution_count": 192,
   "metadata": {},
   "outputs": [],
   "source": [
    "for r in transport_reactions:\n",
    "    if r not in essential_transporters and 'SPONT' not in r:\n",
    "        rxn = sporeme.reactions.get_by_id(r)\n",
    "        rxn.upper_bound = 0 \n",
    "        rxn.lower_bound = 0"
   ]
  },
  {
   "cell_type": "code",
   "execution_count": null,
   "metadata": {
    "scrolled": true
   },
   "outputs": [
    {
     "name": "stdout",
     "output_type": "stream",
     "text": [
      "iter\tmuopt    \ta     \tb     \tmu1       \tstat1\n"
     ]
    }
   ],
   "source": [
    "solve_me_model(sporeme, max_mu = 0.15, min_mu = .05, using_soplex=False, precision = 1e-6,growth_key = 'sigma')\n",
    "flux_dict_base = sporeme.solution.x_dict"
   ]
  },
  {
   "cell_type": "markdown",
   "metadata": {},
   "source": [
    "### Increasing ATPM"
   ]
  },
  {
   "cell_type": "code",
   "execution_count": null,
   "metadata": {},
   "outputs": [],
   "source": [
    "current_ATPM = sporeme.reactions.ATPM_s.lower_bound\n",
    "new_ATPM = 1.1 * current_ATPM\n",
    "\n",
    "sporeme.reactions.ATPM_s.lower_bound = new_ATPM\n",
    "sporeme.reactions.ATPM_s.upper_bound = new_ATPM"
   ]
  },
  {
   "cell_type": "code",
   "execution_count": 177,
   "metadata": {
    "scrolled": true
   },
   "outputs": [
    {
     "name": "stdout",
     "output_type": "stream",
     "text": [
      "iter\tmuopt    \ta     \tb     \tmu1       \tstat1\n",
      "Finished compiling expressions in 415.296403 seconds\n",
      "Finished substituting S,lb,ub in 18.126293 seconds\n",
      "Finished makeME_LP in 2.265234 seconds\n",
      "Getting MINOS parameters from ME_NLP...\n",
      "1 0.0 0.0 0.1 0.1 1\n",
      "Finished substituting S,lb,ub in 18.146298 seconds\n",
      "Finished makeME_LP in 2.297373 seconds\n",
      "Getting MINOS parameters from ME_NLP...\n",
      "2 0.0 0.0 0.05 0.05 1\n",
      "Finished substituting S,lb,ub in 18.020615 seconds\n",
      "Finished makeME_LP in 2.269276 seconds\n",
      "Getting MINOS parameters from ME_NLP...\n",
      "3 0.0 0.0 0.025 0.025 1\n",
      "Finished substituting S,lb,ub in 17.943079 seconds\n",
      "Finished makeME_LP in 2.261524 seconds\n",
      "Getting MINOS parameters from ME_NLP...\n",
      "4 0.0125 0.0125 0.025 0.0125 optimal\n",
      "Finished substituting S,lb,ub in 17.930481 seconds\n",
      "Finished makeME_LP in 2.260695 seconds\n",
      "Getting MINOS parameters from ME_NLP...\n",
      "5 0.0125 0.0125 0.018750000000000003 0.018750000000000003 1\n",
      "Finished substituting S,lb,ub in 18.196980 seconds\n",
      "Finished makeME_LP in 2.283978 seconds\n",
      "Getting MINOS parameters from ME_NLP...\n",
      "6 0.015625 0.015625 0.018750000000000003 0.015625 optimal\n",
      "Finished substituting S,lb,ub in 17.492452 seconds\n",
      "Finished makeME_LP in 2.261822 seconds\n",
      "Getting MINOS parameters from ME_NLP...\n",
      "7 0.015625 0.015625 0.0171875 0.0171875 1\n",
      "Finished substituting S,lb,ub in 17.564386 seconds\n",
      "Finished makeME_LP in 2.240327 seconds\n",
      "Getting MINOS parameters from ME_NLP...\n",
      "8 0.01640625 0.01640625 0.0171875 0.01640625 optimal\n",
      "Finished substituting S,lb,ub in 17.508969 seconds\n",
      "Finished makeME_LP in 2.256292 seconds\n",
      "Getting MINOS parameters from ME_NLP...\n",
      "9 0.01640625 0.01640625 0.016796875000000003 0.016796875000000003 1\n",
      "Finished substituting S,lb,ub in 17.466653 seconds\n",
      "Finished makeME_LP in 2.280223 seconds\n",
      "Getting MINOS parameters from ME_NLP...\n",
      "10 0.0166015625 0.0166015625 0.016796875000000003 0.0166015625 optimal\n",
      "Finished substituting S,lb,ub in 17.559752 seconds\n",
      "Finished makeME_LP in 2.260895 seconds\n",
      "Getting MINOS parameters from ME_NLP...\n",
      "11 0.01669921875 0.01669921875 0.016796875000000003 0.01669921875 optimal\n",
      "Finished substituting S,lb,ub in 17.551544 seconds\n",
      "Finished makeME_LP in 2.249591 seconds\n",
      "Getting MINOS parameters from ME_NLP...\n",
      "12 0.01669921875 0.01669921875 0.016748046875000002 0.016748046875000002 1\n",
      "Finished substituting S,lb,ub in 17.519121 seconds\n",
      "Finished makeME_LP in 2.266143 seconds\n",
      "Getting MINOS parameters from ME_NLP...\n",
      "13 0.0167236328125 0.0167236328125 0.016748046875000002 0.0167236328125 optimal\n",
      "Finished substituting S,lb,ub in 17.448744 seconds\n",
      "Finished makeME_LP in 2.266668 seconds\n",
      "Getting MINOS parameters from ME_NLP...\n",
      "14 0.016735839843750003 0.016735839843750003 0.016748046875000002 0.016735839843750003 optimal\n",
      "Finished substituting S,lb,ub in 17.590960 seconds\n",
      "Finished makeME_LP in 2.263836 seconds\n",
      "Getting MINOS parameters from ME_NLP...\n",
      "15 0.016741943359375004 0.016741943359375004 0.016748046875000002 0.016741943359375004 optimal\n",
      "Finished substituting S,lb,ub in 17.473265 seconds\n",
      "Finished makeME_LP in 2.267441 seconds\n",
      "Getting MINOS parameters from ME_NLP...\n",
      "16 0.0167449951171875 0.0167449951171875 0.016748046875000002 0.0167449951171875 optimal\n",
      "Finished substituting S,lb,ub in 17.451697 seconds\n",
      "Finished makeME_LP in 2.258030 seconds\n",
      "Getting MINOS parameters from ME_NLP...\n",
      "17 0.0167449951171875 0.0167449951171875 0.01674652099609375 0.01674652099609375 1\n",
      "Finished substituting S,lb,ub in 17.609313 seconds\n",
      "Finished makeME_LP in 2.676704 seconds\n",
      "Getting MINOS parameters from ME_NLP...\n",
      "18 0.016745758056640626 0.016745758056640626 0.01674652099609375 0.016745758056640626 optimal\n",
      "Bisection done in 1717.75 seconds\n"
     ]
    }
   ],
   "source": [
    "solve_me_model(sporeme, max_mu = 0.2, min_mu = .05, using_soplex=False, precision = 1e-6,growth_key='sigma')\n",
    "flux_dict_ATPM = sporeme.solution.x_dict"
   ]
  },
  {
   "cell_type": "code",
   "execution_count": 199,
   "metadata": {},
   "outputs": [
    {
     "data": {
      "text/plain": [
       "flux        11.979\n",
       "flux_atp     9.900\n",
       "Name: ATPM_s, dtype: float64"
      ]
     },
     "execution_count": 199,
     "metadata": {},
     "output_type": "execute_result"
    }
   ],
   "source": [
    "atp_df = pd.DataFrame.from_dict({'flux':flux_dict_base}).join(pd.DataFrame.from_dict({'flux':flux_dict_ATPM}),rsuffix='_atp')\n",
    "atp_df.loc['ATPM_s']"
   ]
  },
  {
   "cell_type": "code",
   "execution_count": 215,
   "metadata": {},
   "outputs": [
    {
     "data": {
      "text/plain": [
       "True"
      ]
     },
     "execution_count": 215,
     "metadata": {},
     "output_type": "execute_result"
    }
   ],
   "source": [
    "sums = atp_df.loc[at_dict[met]].sum(axis=0)\n",
    "sums.any()"
   ]
  },
  {
   "cell_type": "markdown",
   "metadata": {},
   "source": [
    "## "
   ]
  },
  {
   "cell_type": "code",
   "execution_count": 218,
   "metadata": {},
   "outputs": [
    {
     "name": "stdout",
     "output_type": "stream",
     "text": [
      "mg2_s 1.369556359552247\n",
      "gmp_s 1.3936761015209471\n",
      "pyr_c 0.9235568354626225\n",
      "k_s 1.402986049062581\n",
      "man6p_c 1.4041387607925155\n",
      "arg__L_s 1.3820070949439316\n",
      "met__L_c 1.3367661897406746\n",
      "mn2_s 1.3274067919517458\n",
      "acnam_s 1.410649664782645\n",
      "pep_s 0.9219755938517683\n",
      "so4_s 1.3508168559868865\n",
      "zn2_s 1.9776180944903203\n",
      "adn_c 0.9206735465435527\n",
      "3amp_s 0.9206362189827443\n",
      "pser__L_s 1.431980366328135\n",
      "6pgc_s 1.404908804372569\n",
      "leu__L_s 1.3894840437357847\n"
     ]
    }
   ],
   "source": [
    "\n",
    "for met in at_dict.keys():\n",
    "    sums = atp_df.loc[at_dict[met]].sum(axis=0)\n",
    "    if sums.any():\n",
    "        ratio = sums['flux_atp']/sums['flux']\n",
    "        print(met,ratio)"
   ]
  },
  {
   "cell_type": "markdown",
   "metadata": {},
   "source": [
    "## Metabolites in medium"
   ]
  },
  {
   "cell_type": "code",
   "execution_count": null,
   "metadata": {},
   "outputs": [],
   "source": [
    "[fed_mets = m for m in at_dict.keys() if m]"
   ]
  },
  {
   "cell_type": "code",
   "execution_count": null,
   "metadata": {
    "scrolled": true
   },
   "outputs": [
    {
     "name": "stdout",
     "output_type": "stream",
     "text": [
      "Chosen change function: feed_metabolites      Sequential = False\n"
     ]
    },
    {
     "name": "stderr",
     "output_type": "stream",
     "text": [
      "\n",
      "\n",
      "\n",
      "\n",
      "\n",
      "\n",
      "\n",
      "\n",
      "\n",
      "\n",
      "\n",
      "\n",
      "\n",
      "\n",
      "\n",
      "\n",
      "\n",
      "\n",
      "\n",
      "\n",
      "\n",
      "\n",
      "\n",
      "\n",
      "\n",
      "\n",
      "\n",
      "\n",
      "\n",
      "\n",
      "\n",
      "\n",
      "\n",
      "\n",
      "\n",
      "\n",
      "\n",
      "\n",
      "\n",
      "\n",
      "\n",
      "\n",
      "\n",
      "\n",
      "  0%|          | 0/38 [00:00<?, ?it/s]\u001b[A\u001b[A\u001b[A\u001b[A\u001b[A\u001b[A\u001b[A\u001b[A\u001b[A\u001b[A\u001b[A\u001b[A\u001b[A\u001b[A\u001b[A\u001b[A\u001b[A\u001b[A\u001b[A\u001b[A\u001b[A\u001b[A\u001b[A\u001b[A\u001b[A\u001b[A\u001b[A\u001b[A\u001b[A\u001b[A\u001b[A\u001b[A\u001b[A\u001b[A\u001b[A\u001b[A\u001b[A\u001b[A\u001b[A\u001b[A\u001b[A\u001b[A\u001b[A\u001b[A\n",
      "\n",
      "\n",
      "\n",
      "\n",
      "\n",
      "\n",
      "\n",
      "\n",
      "\n",
      "\n",
      "\n",
      "\n",
      "\n",
      "\n",
      "\n",
      "\n",
      "\n",
      "\n",
      "\n",
      "\n",
      "\n",
      "\n",
      "\n",
      "\n",
      "\n",
      "\n",
      "\n",
      "\n",
      "\n",
      "\n",
      "\n",
      "\n",
      "\n",
      "\n",
      "\n",
      "\n",
      "\n",
      "\n",
      "\n",
      "\n",
      "\n",
      "\n",
      "\n",
      "biomass_dilution_s response (10 threads):   0%|          | 0/38 [00:00<?, ?it/s]\u001b[A\u001b[A\u001b[A\u001b[A\u001b[A\u001b[A\u001b[A\u001b[A\u001b[A\u001b[A\u001b[A\u001b[A\u001b[A\u001b[A\u001b[A\u001b[A\u001b[A\u001b[A\u001b[A\u001b[A\u001b[A\u001b[A\u001b[A\u001b[A\u001b[A\u001b[A\u001b[A\u001b[A\u001b[A\u001b[A\u001b[A\u001b[A\u001b[A\u001b[A\u001b[A\u001b[A\u001b[A\u001b[A\u001b[A\u001b[A\u001b[A\u001b[A\u001b[A\u001b[A"
     ]
    }
   ],
   "source": [
    "from bacillusme.analysis import sensitivity as ss\n",
    "flux_results_df = ss.transporter_knockout(sporeme,fed_mets, \\\n",
    "                                        NP=10,solution=1,biomass_dilution='biomass_dilution_s',\\\n",
    "                                        growth_key = 'sigma',single_change_function='feed_metabolites')"
   ]
  },
  {
   "cell_type": "code",
   "execution_count": 225,
   "metadata": {},
   "outputs": [
    {
     "data": {
      "text/html": [
       "<div>\n",
       "<style scoped>\n",
       "    .dataframe tbody tr th:only-of-type {\n",
       "        vertical-align: middle;\n",
       "    }\n",
       "\n",
       "    .dataframe tbody tr th {\n",
       "        vertical-align: top;\n",
       "    }\n",
       "\n",
       "    .dataframe thead th {\n",
       "        text-align: right;\n",
       "    }\n",
       "</style>\n",
       "<table border=\"1\" class=\"dataframe\">\n",
       "  <thead>\n",
       "    <tr style=\"text-align: right;\">\n",
       "      <th></th>\n",
       "      <th>base</th>\n",
       "      <th>gly_s</th>\n",
       "      <th>nac_s</th>\n",
       "      <th>cit_s</th>\n",
       "      <th>amp_s</th>\n",
       "      <th>citr__L_s</th>\n",
       "      <th>asn__L_s</th>\n",
       "      <th>acac_s</th>\n",
       "      <th>cmp_s</th>\n",
       "      <th>ump_s</th>\n",
       "      <th>...</th>\n",
       "      <th>ala__D_s</th>\n",
       "      <th>glu__L_s</th>\n",
       "      <th>pnto__R_s</th>\n",
       "      <th>dad_2_s</th>\n",
       "      <th>ribflv_s</th>\n",
       "      <th>3amp_s</th>\n",
       "      <th>ala__L_s</th>\n",
       "      <th>6pgc_s</th>\n",
       "      <th>pser__L_s</th>\n",
       "      <th>leu__L_s</th>\n",
       "    </tr>\n",
       "  </thead>\n",
       "  <tbody>\n",
       "    <tr>\n",
       "      <th>biomass_dilution</th>\n",
       "      <td>0.012078</td>\n",
       "      <td>0.012073</td>\n",
       "      <td>0.012052</td>\n",
       "      <td>0.012060</td>\n",
       "      <td>0.012035</td>\n",
       "      <td>0.012056</td>\n",
       "      <td>0.012061</td>\n",
       "      <td>0.012064</td>\n",
       "      <td>0.012043</td>\n",
       "      <td>0.012044</td>\n",
       "      <td>...</td>\n",
       "      <td>0.012067</td>\n",
       "      <td>0.012055</td>\n",
       "      <td>0.012034</td>\n",
       "      <td>0.012034</td>\n",
       "      <td>0.011992</td>\n",
       "      <td>0.012036</td>\n",
       "      <td>0.012067</td>\n",
       "      <td>0.012054</td>\n",
       "      <td>0.012067</td>\n",
       "      <td>0.012050</td>\n",
       "    </tr>\n",
       "    <tr>\n",
       "      <th>protein_biomass_to_biomass</th>\n",
       "      <td>0.007074</td>\n",
       "      <td>0.007072</td>\n",
       "      <td>0.007059</td>\n",
       "      <td>0.007064</td>\n",
       "      <td>0.007049</td>\n",
       "      <td>0.007061</td>\n",
       "      <td>0.007065</td>\n",
       "      <td>0.007066</td>\n",
       "      <td>0.007054</td>\n",
       "      <td>0.007055</td>\n",
       "      <td>...</td>\n",
       "      <td>0.007068</td>\n",
       "      <td>0.007061</td>\n",
       "      <td>0.007049</td>\n",
       "      <td>0.007049</td>\n",
       "      <td>0.007024</td>\n",
       "      <td>0.007050</td>\n",
       "      <td>0.007068</td>\n",
       "      <td>0.007060</td>\n",
       "      <td>0.007068</td>\n",
       "      <td>0.007058</td>\n",
       "    </tr>\n",
       "    <tr>\n",
       "      <th>mRNA_biomass_to_biomass</th>\n",
       "      <td>0.000020</td>\n",
       "      <td>0.000020</td>\n",
       "      <td>0.000020</td>\n",
       "      <td>0.000020</td>\n",
       "      <td>0.000020</td>\n",
       "      <td>0.000020</td>\n",
       "      <td>0.000020</td>\n",
       "      <td>0.000020</td>\n",
       "      <td>0.000020</td>\n",
       "      <td>0.000020</td>\n",
       "      <td>...</td>\n",
       "      <td>0.000020</td>\n",
       "      <td>0.000020</td>\n",
       "      <td>0.000020</td>\n",
       "      <td>0.000020</td>\n",
       "      <td>0.000020</td>\n",
       "      <td>0.000020</td>\n",
       "      <td>0.000020</td>\n",
       "      <td>0.000020</td>\n",
       "      <td>0.000020</td>\n",
       "      <td>0.000020</td>\n",
       "    </tr>\n",
       "    <tr>\n",
       "      <th>tRNA_biomass_to_biomass</th>\n",
       "      <td>0.000119</td>\n",
       "      <td>0.000119</td>\n",
       "      <td>0.000119</td>\n",
       "      <td>0.000119</td>\n",
       "      <td>0.000118</td>\n",
       "      <td>0.000119</td>\n",
       "      <td>0.000119</td>\n",
       "      <td>0.000119</td>\n",
       "      <td>0.000118</td>\n",
       "      <td>0.000118</td>\n",
       "      <td>...</td>\n",
       "      <td>0.000119</td>\n",
       "      <td>0.000119</td>\n",
       "      <td>0.000118</td>\n",
       "      <td>0.000118</td>\n",
       "      <td>0.000118</td>\n",
       "      <td>0.000118</td>\n",
       "      <td>0.000119</td>\n",
       "      <td>0.000119</td>\n",
       "      <td>0.000119</td>\n",
       "      <td>0.000119</td>\n",
       "    </tr>\n",
       "    <tr>\n",
       "      <th>rRNA_biomass_to_biomass</th>\n",
       "      <td>0.000879</td>\n",
       "      <td>0.000879</td>\n",
       "      <td>0.000877</td>\n",
       "      <td>0.000878</td>\n",
       "      <td>0.000876</td>\n",
       "      <td>0.000877</td>\n",
       "      <td>0.000878</td>\n",
       "      <td>0.000878</td>\n",
       "      <td>0.000876</td>\n",
       "      <td>0.000876</td>\n",
       "      <td>...</td>\n",
       "      <td>0.000878</td>\n",
       "      <td>0.000877</td>\n",
       "      <td>0.000876</td>\n",
       "      <td>0.000876</td>\n",
       "      <td>0.000872</td>\n",
       "      <td>0.000876</td>\n",
       "      <td>0.000878</td>\n",
       "      <td>0.000877</td>\n",
       "      <td>0.000878</td>\n",
       "      <td>0.000877</td>\n",
       "    </tr>\n",
       "    <tr>\n",
       "      <th>...</th>\n",
       "      <td>...</td>\n",
       "      <td>...</td>\n",
       "      <td>...</td>\n",
       "      <td>...</td>\n",
       "      <td>...</td>\n",
       "      <td>...</td>\n",
       "      <td>...</td>\n",
       "      <td>...</td>\n",
       "      <td>...</td>\n",
       "      <td>...</td>\n",
       "      <td>...</td>\n",
       "      <td>...</td>\n",
       "      <td>...</td>\n",
       "      <td>...</td>\n",
       "      <td>...</td>\n",
       "      <td>...</td>\n",
       "      <td>...</td>\n",
       "      <td>...</td>\n",
       "      <td>...</td>\n",
       "      <td>...</td>\n",
       "      <td>...</td>\n",
       "    </tr>\n",
       "    <tr>\n",
       "      <th>Demand_t12dg_BS_s</th>\n",
       "      <td>0.030711</td>\n",
       "      <td>0.030701</td>\n",
       "      <td>0.030658</td>\n",
       "      <td>0.030674</td>\n",
       "      <td>0.030608</td>\n",
       "      <td>0.030663</td>\n",
       "      <td>0.030672</td>\n",
       "      <td>0.030684</td>\n",
       "      <td>0.030635</td>\n",
       "      <td>0.030640</td>\n",
       "      <td>...</td>\n",
       "      <td>0.030691</td>\n",
       "      <td>0.030657</td>\n",
       "      <td>0.030620</td>\n",
       "      <td>0.030610</td>\n",
       "      <td>0.030513</td>\n",
       "      <td>0.030612</td>\n",
       "      <td>0.030691</td>\n",
       "      <td>0.030661</td>\n",
       "      <td>0.030687</td>\n",
       "      <td>0.030656</td>\n",
       "    </tr>\n",
       "    <tr>\n",
       "      <th>Demand_gtca3_45_BS_s</th>\n",
       "      <td>0.030711</td>\n",
       "      <td>0.030701</td>\n",
       "      <td>0.030658</td>\n",
       "      <td>0.030674</td>\n",
       "      <td>0.030608</td>\n",
       "      <td>0.030663</td>\n",
       "      <td>0.030672</td>\n",
       "      <td>0.030684</td>\n",
       "      <td>0.030635</td>\n",
       "      <td>0.030640</td>\n",
       "      <td>...</td>\n",
       "      <td>0.030691</td>\n",
       "      <td>0.030657</td>\n",
       "      <td>0.030620</td>\n",
       "      <td>0.030610</td>\n",
       "      <td>0.030513</td>\n",
       "      <td>0.030612</td>\n",
       "      <td>0.030691</td>\n",
       "      <td>0.030661</td>\n",
       "      <td>0.030687</td>\n",
       "      <td>0.030656</td>\n",
       "    </tr>\n",
       "    <tr>\n",
       "      <th>Demand_lipo1_24_BS_s</th>\n",
       "      <td>0.030711</td>\n",
       "      <td>0.030701</td>\n",
       "      <td>0.030658</td>\n",
       "      <td>0.030674</td>\n",
       "      <td>0.030608</td>\n",
       "      <td>0.030663</td>\n",
       "      <td>0.030672</td>\n",
       "      <td>0.030684</td>\n",
       "      <td>0.030635</td>\n",
       "      <td>0.030640</td>\n",
       "      <td>...</td>\n",
       "      <td>0.030691</td>\n",
       "      <td>0.030657</td>\n",
       "      <td>0.030620</td>\n",
       "      <td>0.030610</td>\n",
       "      <td>0.030513</td>\n",
       "      <td>0.030612</td>\n",
       "      <td>0.030691</td>\n",
       "      <td>0.030661</td>\n",
       "      <td>0.030687</td>\n",
       "      <td>0.030656</td>\n",
       "    </tr>\n",
       "    <tr>\n",
       "      <th>Demand_tcam_BS_s</th>\n",
       "      <td>0.539554</td>\n",
       "      <td>0.539392</td>\n",
       "      <td>0.538664</td>\n",
       "      <td>0.538933</td>\n",
       "      <td>0.537795</td>\n",
       "      <td>0.538743</td>\n",
       "      <td>0.538900</td>\n",
       "      <td>0.539076</td>\n",
       "      <td>0.538259</td>\n",
       "      <td>0.538332</td>\n",
       "      <td>...</td>\n",
       "      <td>0.539224</td>\n",
       "      <td>0.538640</td>\n",
       "      <td>0.537977</td>\n",
       "      <td>0.537838</td>\n",
       "      <td>0.536119</td>\n",
       "      <td>0.537875</td>\n",
       "      <td>0.539226</td>\n",
       "      <td>0.538711</td>\n",
       "      <td>0.539156</td>\n",
       "      <td>0.538619</td>\n",
       "    </tr>\n",
       "    <tr>\n",
       "      <th>dummy_demand</th>\n",
       "      <td>NaN</td>\n",
       "      <td>0.001000</td>\n",
       "      <td>0.001000</td>\n",
       "      <td>0.001000</td>\n",
       "      <td>0.001000</td>\n",
       "      <td>0.001000</td>\n",
       "      <td>0.001000</td>\n",
       "      <td>0.001000</td>\n",
       "      <td>0.001000</td>\n",
       "      <td>0.001000</td>\n",
       "      <td>...</td>\n",
       "      <td>0.001000</td>\n",
       "      <td>0.001000</td>\n",
       "      <td>0.001000</td>\n",
       "      <td>0.001000</td>\n",
       "      <td>0.001000</td>\n",
       "      <td>0.001000</td>\n",
       "      <td>0.001000</td>\n",
       "      <td>0.001000</td>\n",
       "      <td>0.001000</td>\n",
       "      <td>0.001000</td>\n",
       "    </tr>\n",
       "  </tbody>\n",
       "</table>\n",
       "<p>12340 rows × 39 columns</p>\n",
       "</div>"
      ],
      "text/plain": [
       "                                base     gly_s     nac_s     cit_s     amp_s  \\\n",
       "biomass_dilution            0.012078  0.012073  0.012052  0.012060  0.012035   \n",
       "protein_biomass_to_biomass  0.007074  0.007072  0.007059  0.007064  0.007049   \n",
       "mRNA_biomass_to_biomass     0.000020  0.000020  0.000020  0.000020  0.000020   \n",
       "tRNA_biomass_to_biomass     0.000119  0.000119  0.000119  0.000119  0.000118   \n",
       "rRNA_biomass_to_biomass     0.000879  0.000879  0.000877  0.000878  0.000876   \n",
       "...                              ...       ...       ...       ...       ...   \n",
       "Demand_t12dg_BS_s           0.030711  0.030701  0.030658  0.030674  0.030608   \n",
       "Demand_gtca3_45_BS_s        0.030711  0.030701  0.030658  0.030674  0.030608   \n",
       "Demand_lipo1_24_BS_s        0.030711  0.030701  0.030658  0.030674  0.030608   \n",
       "Demand_tcam_BS_s            0.539554  0.539392  0.538664  0.538933  0.537795   \n",
       "dummy_demand                     NaN  0.001000  0.001000  0.001000  0.001000   \n",
       "\n",
       "                            citr__L_s  asn__L_s    acac_s     cmp_s     ump_s  \\\n",
       "biomass_dilution             0.012056  0.012061  0.012064  0.012043  0.012044   \n",
       "protein_biomass_to_biomass   0.007061  0.007065  0.007066  0.007054  0.007055   \n",
       "mRNA_biomass_to_biomass      0.000020  0.000020  0.000020  0.000020  0.000020   \n",
       "tRNA_biomass_to_biomass      0.000119  0.000119  0.000119  0.000118  0.000118   \n",
       "rRNA_biomass_to_biomass      0.000877  0.000878  0.000878  0.000876  0.000876   \n",
       "...                               ...       ...       ...       ...       ...   \n",
       "Demand_t12dg_BS_s            0.030663  0.030672  0.030684  0.030635  0.030640   \n",
       "Demand_gtca3_45_BS_s         0.030663  0.030672  0.030684  0.030635  0.030640   \n",
       "Demand_lipo1_24_BS_s         0.030663  0.030672  0.030684  0.030635  0.030640   \n",
       "Demand_tcam_BS_s             0.538743  0.538900  0.539076  0.538259  0.538332   \n",
       "dummy_demand                 0.001000  0.001000  0.001000  0.001000  0.001000   \n",
       "\n",
       "                            ...  ala__D_s  glu__L_s  pnto__R_s   dad_2_s  \\\n",
       "biomass_dilution            ...  0.012067  0.012055   0.012034  0.012034   \n",
       "protein_biomass_to_biomass  ...  0.007068  0.007061   0.007049  0.007049   \n",
       "mRNA_biomass_to_biomass     ...  0.000020  0.000020   0.000020  0.000020   \n",
       "tRNA_biomass_to_biomass     ...  0.000119  0.000119   0.000118  0.000118   \n",
       "rRNA_biomass_to_biomass     ...  0.000878  0.000877   0.000876  0.000876   \n",
       "...                         ...       ...       ...        ...       ...   \n",
       "Demand_t12dg_BS_s           ...  0.030691  0.030657   0.030620  0.030610   \n",
       "Demand_gtca3_45_BS_s        ...  0.030691  0.030657   0.030620  0.030610   \n",
       "Demand_lipo1_24_BS_s        ...  0.030691  0.030657   0.030620  0.030610   \n",
       "Demand_tcam_BS_s            ...  0.539224  0.538640   0.537977  0.537838   \n",
       "dummy_demand                ...  0.001000  0.001000   0.001000  0.001000   \n",
       "\n",
       "                            ribflv_s    3amp_s  ala__L_s    6pgc_s  pser__L_s  \\\n",
       "biomass_dilution            0.011992  0.012036  0.012067  0.012054   0.012067   \n",
       "protein_biomass_to_biomass  0.007024  0.007050  0.007068  0.007060   0.007068   \n",
       "mRNA_biomass_to_biomass     0.000020  0.000020  0.000020  0.000020   0.000020   \n",
       "tRNA_biomass_to_biomass     0.000118  0.000118  0.000119  0.000119   0.000119   \n",
       "rRNA_biomass_to_biomass     0.000872  0.000876  0.000878  0.000877   0.000878   \n",
       "...                              ...       ...       ...       ...        ...   \n",
       "Demand_t12dg_BS_s           0.030513  0.030612  0.030691  0.030661   0.030687   \n",
       "Demand_gtca3_45_BS_s        0.030513  0.030612  0.030691  0.030661   0.030687   \n",
       "Demand_lipo1_24_BS_s        0.030513  0.030612  0.030691  0.030661   0.030687   \n",
       "Demand_tcam_BS_s            0.536119  0.537875  0.539226  0.538711   0.539156   \n",
       "dummy_demand                0.001000  0.001000  0.001000  0.001000   0.001000   \n",
       "\n",
       "                            leu__L_s  \n",
       "biomass_dilution            0.012050  \n",
       "protein_biomass_to_biomass  0.007058  \n",
       "mRNA_biomass_to_biomass     0.000020  \n",
       "tRNA_biomass_to_biomass     0.000119  \n",
       "rRNA_biomass_to_biomass     0.000877  \n",
       "...                              ...  \n",
       "Demand_t12dg_BS_s           0.030656  \n",
       "Demand_gtca3_45_BS_s        0.030656  \n",
       "Demand_lipo1_24_BS_s        0.030656  \n",
       "Demand_tcam_BS_s            0.538619  \n",
       "dummy_demand                0.001000  \n",
       "\n",
       "[12340 rows x 39 columns]"
      ]
     },
     "execution_count": 225,
     "metadata": {},
     "output_type": "execute_result"
    }
   ],
   "source": [
    "flux_results_df"
   ]
  },
  {
   "cell_type": "code",
   "execution_count": null,
   "metadata": {},
   "outputs": [],
   "source": []
  }
 ],
 "metadata": {
  "kernelspec": {
   "display_name": "Python 3",
   "language": "python",
   "name": "python3"
  },
  "language_info": {
   "codemirror_mode": {
    "name": "ipython",
    "version": 3
   },
   "file_extension": ".py",
   "mimetype": "text/x-python",
   "name": "python",
   "nbconvert_exporter": "python",
   "pygments_lexer": "ipython3",
   "version": "3.6.3"
  }
 },
 "nbformat": 4,
 "nbformat_minor": 4
}
