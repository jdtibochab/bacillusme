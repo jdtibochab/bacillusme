{
 "cells": [
  {
   "cell_type": "markdown",
   "metadata": {},
   "source": [
    "# Transporter analysis of bacillus mother-spore"
   ]
  },
  {
   "cell_type": "code",
   "execution_count": 1,
   "metadata": {
    "scrolled": true
   },
   "outputs": [
    {
     "name": "stderr",
     "output_type": "stream",
     "text": [
      "/home/jt/me_modeling/lib/python3.6/site-packages/cobra-0.5.11-py3.6-linux-x86_64.egg/cobra/io/sbml3.py:24: UserWarning: Install lxml for faster SBML I/O\n",
      "  warn(\"Install lxml for faster SBML I/O\")\n",
      "/home/jt/me_modeling/lib/python3.6/site-packages/cobra-0.5.11-py3.6-linux-x86_64.egg/cobra/io/__init__.py:12: UserWarning: cobra.io.sbml requires libsbml\n",
      "  warn(\"cobra.io.sbml requires libsbml\")\n"
     ]
    },
    {
     "name": "stdout",
     "output_type": "stream",
     "text": [
      "/home/jt/me_modeling/lib/python3.6/site-packages/cobra-0.5.11-py3.6-linux-x86_64.egg/cobra/__init__.py\n",
      "/home/jt/UCSD/cobrame/cobrame/__init__.py\n",
      "/home/jt/UCSD/bacillusme-master/bacillusme/__init__.py\n"
     ]
    }
   ],
   "source": [
    "from __future__ import print_function, division, absolute_import\n",
    "\n",
    "import sys\n",
    "\n",
    "import qminospy\n",
    "from qminospy.me2 import ME_NLP\n",
    "\n",
    "# python imports\n",
    "from copy import copy\n",
    "import re\n",
    "from os.path import join, dirname, abspath\n",
    "import sys\n",
    "sys.path.append('/home/UCSD/cobra_utils')\n",
    "from collections import defaultdict\n",
    "import pickle\n",
    "\n",
    "# third party imports\n",
    "import pandas\n",
    "import cobra\n",
    "from tqdm import tqdm\n",
    "import numpy as np\n",
    "import scipy\n",
    "\n",
    "# COBRAme\n",
    "import cobrame\n",
    "from cobrame.util import building, mu, me_model_interface\n",
    "from cobrame.io.json import save_json_me_model, save_reduced_json_me_model\n",
    "\n",
    "# ECOLIme\n",
    "import bacillusme\n",
    "from bacillusme import (transcription, translation, flat_files, generics, formulas, compartments)\n",
    "from bacillusme.util.helper_functions import *\n",
    "\n",
    "import copy\n",
    "from scipy import stats\n",
    "import matplotlib.pyplot as plt\n",
    "%load_ext autoreload\n",
    "%autoreload 2\n",
    "print(cobra.__file__)\n",
    "print(cobrame.__file__)\n",
    "print(bacillusme.__file__)\n",
    "ecoli_files = dirname(abspath(bacillusme.__file__))"
   ]
  },
  {
   "cell_type": "code",
   "execution_count": 2,
   "metadata": {
    "scrolled": true
   },
   "outputs": [],
   "source": [
    "with open(\"./sporeme_solution_v4_CYTK2.pickle\", \"rb\") as outfile:\n",
    "    sporeme = pickle.load(outfile)"
   ]
  },
  {
   "cell_type": "code",
   "execution_count": 3,
   "metadata": {},
   "outputs": [],
   "source": [
    "sporeme.reactions.get_by_id('ENO_FWD_BSU33900-MONOMER_s').bounds = (0,0)\n",
    "with open(\"./sporeme_solution_v4_CYTK2_ENO.pickle\", \"wb\") as outfile:\n",
    "    pickle.dump(sporeme, outfile)"
   ]
  },
  {
   "cell_type": "code",
   "execution_count": 4,
   "metadata": {
    "scrolled": true,
    "tags": []
   },
   "outputs": [
    {
     "name": "stdout",
     "output_type": "stream",
     "text": [
      "iter\tmuopt    \ta     \tb     \tmu1       \tstat1\n",
      "Finished compiling expressions in 252.224337 seconds\n",
      "Finished substituting S,lb,ub in 6.972282 seconds\n",
      "Finished makeME_LP in 1.415677 seconds\n",
      "Getting MINOS parameters from ME_NLP...\n",
      "1 0.05 0.05 0.1 0.05 optimal\n",
      "Finished substituting S,lb,ub in 7.260437 seconds\n",
      "Finished makeME_LP in 1.410728 seconds\n",
      "Getting MINOS parameters from ME_NLP...\n",
      "2 0.05 0.05 0.07500000000000001 0.07500000000000001 1\n",
      "Finished substituting S,lb,ub in 7.275717 seconds\n",
      "Finished makeME_LP in 1.423601 seconds\n",
      "Getting MINOS parameters from ME_NLP...\n",
      "3 0.05 0.05 0.0625 0.0625 1\n",
      "Finished substituting S,lb,ub in 6.893586 seconds\n",
      "Finished makeME_LP in 1.406752 seconds\n",
      "Getting MINOS parameters from ME_NLP...\n",
      "4 0.05625 0.05625 0.0625 0.05625 optimal\n",
      "Finished substituting S,lb,ub in 6.903785 seconds\n",
      "Finished makeME_LP in 1.415975 seconds\n",
      "Getting MINOS parameters from ME_NLP...\n",
      "5 0.05625 0.05625 0.059375 0.059375 1\n",
      "Finished substituting S,lb,ub in 7.004753 seconds\n",
      "Finished makeME_LP in 1.409602 seconds\n",
      "Getting MINOS parameters from ME_NLP...\n",
      "6 0.0578125 0.0578125 0.059375 0.0578125 optimal\n",
      "Finished substituting S,lb,ub in 6.749010 seconds\n",
      "Finished makeME_LP in 1.404497 seconds\n",
      "Getting MINOS parameters from ME_NLP...\n",
      "7 0.0578125 0.0578125 0.05859375 0.05859375 1\n",
      "Finished substituting S,lb,ub in 6.798947 seconds\n",
      "Finished makeME_LP in 1.408620 seconds\n",
      "Getting MINOS parameters from ME_NLP...\n",
      "8 0.0578125 0.0578125 0.058203125 0.058203125 1\n",
      "Finished substituting S,lb,ub in 6.854639 seconds\n",
      "Finished makeME_LP in 1.410331 seconds\n",
      "Getting MINOS parameters from ME_NLP...\n",
      "9 0.0578125 0.0578125 0.058007812500000006 0.058007812500000006 1\n",
      "Finished substituting S,lb,ub in 6.954350 seconds\n",
      "Finished makeME_LP in 1.416844 seconds\n",
      "Getting MINOS parameters from ME_NLP...\n",
      "10 0.057910156250000004 0.057910156250000004 0.058007812500000006 0.057910156250000004 optimal\n",
      "Finished substituting S,lb,ub in 6.906005 seconds\n",
      "Finished makeME_LP in 1.407533 seconds\n",
      "Getting MINOS parameters from ME_NLP...\n",
      "11 0.05795898437500001 0.05795898437500001 0.058007812500000006 0.05795898437500001 optimal\n",
      "Finished substituting S,lb,ub in 6.879906 seconds\n",
      "Finished makeME_LP in 1.411587 seconds\n",
      "Getting MINOS parameters from ME_NLP...\n",
      "12 0.05795898437500001 0.05795898437500001 0.05798339843750001 0.05798339843750001 1\n",
      "Finished substituting S,lb,ub in 6.837140 seconds\n",
      "Finished makeME_LP in 1.419734 seconds\n",
      "Getting MINOS parameters from ME_NLP...\n",
      "13 0.05795898437500001 0.05795898437500001 0.05797119140625001 0.05797119140625001 1\n",
      "Finished substituting S,lb,ub in 6.744393 seconds\n",
      "Finished makeME_LP in 1.416410 seconds\n",
      "Getting MINOS parameters from ME_NLP...\n",
      "14 0.05795898437500001 0.05795898437500001 0.05796508789062501 0.05796508789062501 1\n",
      "Finished substituting S,lb,ub in 6.796761 seconds\n",
      "Finished makeME_LP in 1.408995 seconds\n",
      "Getting MINOS parameters from ME_NLP...\n",
      "15 0.057962036132812506 0.057962036132812506 0.05796508789062501 0.057962036132812506 optimal\n",
      "Finished substituting S,lb,ub in 6.769409 seconds\n",
      "Finished makeME_LP in 1.413645 seconds\n",
      "Getting MINOS parameters from ME_NLP...\n",
      "16 0.057962036132812506 0.057962036132812506 0.05796356201171876 0.05796356201171876 1\n",
      "Finished substituting S,lb,ub in 6.869315 seconds\n",
      "Finished makeME_LP in 1.404509 seconds\n",
      "Getting MINOS parameters from ME_NLP...\n",
      "17 0.05796279907226563 0.05796279907226563 0.05796356201171876 0.05796279907226563 optimal\n",
      "Bisection done in 795.003 seconds\n"
     ]
    }
   ],
   "source": [
    "solve_me_model(sporeme, max_mu = 0.1, min_mu = .01, using_soplex=False, precision = 1e-6,growth_key = 'sigma')"
   ]
  },
  {
   "cell_type": "code",
   "execution_count": 5,
   "metadata": {
    "scrolled": true
   },
   "outputs": [],
   "source": [
    "# with open(\"./sporeme_solution_v2.pickle\", \"rb\") as outfile:\n",
    "#     sporeme = pickle.load(outfile)"
   ]
  },
  {
   "cell_type": "code",
   "execution_count": 6,
   "metadata": {},
   "outputs": [],
   "source": [
    "# Previously identified essential metabolites\n",
    "exchange_list = ['4fe4s_s','2fe2s_s','udcpp_s','pydx5p_s','3fe4s_s','cl_s','sheme_s','cu_s','mn2_s',\n",
    "                 'bmocogdp_s','dpm_s','thmpp_s','zn2_s','cbl1_s','cobalt2_s']\n",
    "additional = [m.id for m in sporeme.metabolites if isinstance(m,cobrame.Metabolite)]\n",
    "transported_metabolites = exchange_list+additional"
   ]
  },
  {
   "cell_type": "code",
   "execution_count": 7,
   "metadata": {
    "scrolled": true
   },
   "outputs": [],
   "source": [
    "# Get transport reactions\n",
    "\n",
    "def get_compartments(r):\n",
    "    comps = []\n",
    "    if isinstance(r,cobrame.MetabolicReaction):\n",
    "        for m in r.metabolites:\n",
    "            if isinstance(m,cobrame.Metabolite):\n",
    "                comps.append(m.id[-1])\n",
    "    return list(set(comps))\n",
    "\n",
    "def get_all_transport(model):\n",
    "    transport_reactions = []\n",
    "    for r in tqdm(model.reactions):\n",
    "        comps = get_compartments(r)\n",
    "        if len(comps) > 1 and 's' in comps:\n",
    "            transport_reactions.append(r.id)\n",
    "    return list(set(transport_reactions))\n",
    "\n",
    "def get_active_transport(transport_reactions):\n",
    "    active_transporters = []\n",
    "    for r in tqdm(transport_reactions):\n",
    "        if 'SPONT' not in r and abs(sporeme.solution.x_dict[r])>0.:\n",
    "            active_transporters.append(r)\n",
    "    # Include arginine transport\n",
    "    arginine_transport = [r.id for r in get_transport_reactions(sporeme,'arg__L_c',comps=['c','s'])+get_transport_reactions(sporeme,'arg__L_c',comps=['s','c'])]\n",
    "    [active_transporters.append(r) for r in arginine_transport]\n",
    "    active_transporters = list(set(active_transporters))\n",
    "    return active_transporters"
   ]
  },
  {
   "cell_type": "code",
   "execution_count": 8,
   "metadata": {
    "scrolled": true
   },
   "outputs": [
    {
     "name": "stderr",
     "output_type": "stream",
     "text": [
      "100%|██████████| 12323/12323 [00:00<00:00, 188696.44it/s]"
     ]
    },
    {
     "name": "stdout",
     "output_type": "stream",
     "text": [
      "399 transport reactions identified\n"
     ]
    },
    {
     "name": "stderr",
     "output_type": "stream",
     "text": [
      "\n"
     ]
    }
   ],
   "source": [
    "transport_reactions = get_all_transport(sporeme)\n",
    "print('{} transport reactions identified'.format(len(transport_reactions)))"
   ]
  },
  {
   "cell_type": "code",
   "execution_count": 9,
   "metadata": {},
   "outputs": [
    {
     "data": {
      "text/plain": [
       "Text(0, 0.5, 'Count')"
      ]
     },
     "execution_count": 9,
     "metadata": {},
     "output_type": "execute_result"
    },
    {
     "data": {
      "image/png": "[encoded data removed]",
      "text/plain": [
       "<Figure size 432x288 with 1 Axes>"
      ]
     },
     "metadata": {
      "needs_background": "light"
     },
     "output_type": "display_data"
    }
   ],
   "source": [
    "count = {'no_rule':0,'spont':0,'annot':0}\n",
    "for r in transport_reactions:\n",
    "    if 'dummy' in r:\n",
    "        count['no_rule']+=1\n",
    "    elif 'SPONT' in r:\n",
    "        count['spont']+=1\n",
    "    else:\n",
    "        count['annot']+=1\n",
    "pd.DataFrame.from_dict({'count':count}).plot.bar(figsize=(6,4),legend=False)\n",
    "plt.ylabel('Count')"
   ]
  },
  {
   "cell_type": "code",
   "execution_count": 10,
   "metadata": {
    "scrolled": true
   },
   "outputs": [
    {
     "name": "stderr",
     "output_type": "stream",
     "text": [
      "100%|██████████| 399/399 [00:00<00:00, 396946.70it/s]\n"
     ]
    }
   ],
   "source": [
    "active_transporters = get_active_transport(transport_reactions)"
   ]
  },
  {
   "cell_type": "code",
   "execution_count": 11,
   "metadata": {},
   "outputs": [
    {
     "name": "stdout",
     "output_type": "stream",
     "text": [
      "54 active transport reactions identified\n"
     ]
    }
   ],
   "source": [
    "print('{} active transport reactions identified'.format(len(active_transporters)))"
   ]
  },
  {
   "cell_type": "code",
   "execution_count": 12,
   "metadata": {},
   "outputs": [],
   "source": [
    "for r in transport_reactions:\n",
    "    if r not in active_transporters and 'SPONT' not in r:\n",
    "        rxn = sporeme.reactions.get_by_id(r)\n",
    "        rxn.upper_bound = 0 \n",
    "        rxn.lower_bound = 0"
   ]
  },
  {
   "cell_type": "code",
   "execution_count": 13,
   "metadata": {
    "scrolled": true
   },
   "outputs": [
    {
     "name": "stdout",
     "output_type": "stream",
     "text": [
      "iter\tmuopt    \ta     \tb     \tmu1       \tstat1\n",
      "Finished compiling expressions in 254.623315 seconds\n",
      "Finished substituting S,lb,ub in 6.950416 seconds\n",
      "Finished makeME_LP in 1.400547 seconds\n",
      "Getting MINOS parameters from ME_NLP...\n",
      "1 0.05 0.05 0.1 0.05 optimal\n",
      "Finished substituting S,lb,ub in 7.461227 seconds\n",
      "Finished makeME_LP in 1.413168 seconds\n",
      "Getting MINOS parameters from ME_NLP...\n",
      "2 0.05 0.05 0.07500000000000001 0.07500000000000001 1\n",
      "Finished substituting S,lb,ub in 7.511784 seconds\n",
      "Finished makeME_LP in 1.410127 seconds\n",
      "Getting MINOS parameters from ME_NLP...\n",
      "3 0.05 0.05 0.0625 0.0625 1\n",
      "Finished substituting S,lb,ub in 7.465236 seconds\n",
      "Finished makeME_LP in 1.409506 seconds\n",
      "Getting MINOS parameters from ME_NLP...\n",
      "4 0.05625 0.05625 0.0625 0.05625 optimal\n",
      "Finished substituting S,lb,ub in 7.592957 seconds\n",
      "Finished makeME_LP in 1.414224 seconds\n",
      "Getting MINOS parameters from ME_NLP...\n",
      "5 0.05625 0.05625 0.059375 0.059375 1\n",
      "Finished substituting S,lb,ub in 7.670109 seconds\n",
      "Finished makeME_LP in 1.411894 seconds\n",
      "Getting MINOS parameters from ME_NLP...\n",
      "6 0.0578125 0.0578125 0.059375 0.0578125 optimal\n",
      "Finished substituting S,lb,ub in 7.519263 seconds\n",
      "Finished makeME_LP in 1.406805 seconds\n",
      "Getting MINOS parameters from ME_NLP...\n",
      "7 0.0578125 0.0578125 0.05859375 0.05859375 1\n",
      "Finished substituting S,lb,ub in 7.666074 seconds\n",
      "Finished makeME_LP in 1.406943 seconds\n",
      "Getting MINOS parameters from ME_NLP...\n",
      "8 0.0578125 0.0578125 0.058203125 0.058203125 1\n",
      "Finished substituting S,lb,ub in 7.668816 seconds\n",
      "Finished makeME_LP in 1.414820 seconds\n",
      "Getting MINOS parameters from ME_NLP...\n",
      "9 0.0578125 0.0578125 0.058007812500000006 0.058007812500000006 1\n",
      "Finished substituting S,lb,ub in 7.606314 seconds\n",
      "Finished makeME_LP in 1.402402 seconds\n",
      "Getting MINOS parameters from ME_NLP...\n",
      "10 0.057910156250000004 0.057910156250000004 0.058007812500000006 0.057910156250000004 optimal\n",
      "Finished substituting S,lb,ub in 7.733044 seconds\n",
      "Finished makeME_LP in 1.412329 seconds\n",
      "Getting MINOS parameters from ME_NLP...\n",
      "11 0.05795898437500001 0.05795898437500001 0.058007812500000006 0.05795898437500001 optimal\n",
      "Finished substituting S,lb,ub in 7.212753 seconds\n",
      "Finished makeME_LP in 1.411998 seconds\n",
      "Getting MINOS parameters from ME_NLP...\n",
      "12 0.05795898437500001 0.05795898437500001 0.05798339843750001 0.05798339843750001 1\n",
      "Finished substituting S,lb,ub in 7.106308 seconds\n",
      "Finished makeME_LP in 1.397148 seconds\n",
      "Getting MINOS parameters from ME_NLP...\n",
      "13 0.05795898437500001 0.05795898437500001 0.05797119140625001 0.05797119140625001 1\n",
      "Finished substituting S,lb,ub in 7.184962 seconds\n",
      "Finished makeME_LP in 1.393279 seconds\n",
      "Getting MINOS parameters from ME_NLP...\n",
      "14 0.05795898437500001 0.05795898437500001 0.05796508789062501 0.05796508789062501 1\n",
      "Finished substituting S,lb,ub in 6.882930 seconds\n",
      "Finished makeME_LP in 1.410049 seconds\n",
      "Getting MINOS parameters from ME_NLP...\n",
      "15 0.057962036132812506 0.057962036132812506 0.05796508789062501 0.057962036132812506 optimal\n",
      "Finished substituting S,lb,ub in 7.152014 seconds\n",
      "Finished makeME_LP in 1.406914 seconds\n",
      "Getting MINOS parameters from ME_NLP...\n",
      "16 0.057962036132812506 0.057962036132812506 0.05796356201171876 0.05796356201171876 1\n",
      "Finished substituting S,lb,ub in 6.781871 seconds\n",
      "Finished makeME_LP in 1.389222 seconds\n",
      "Getting MINOS parameters from ME_NLP...\n",
      "17 0.05796279907226563 0.05796279907226563 0.05796356201171876 0.05796279907226563 optimal\n",
      "Bisection done in 789.67 seconds\n"
     ]
    }
   ],
   "source": [
    "solve_me_model(sporeme, max_mu = 0.1, min_mu = .01, using_soplex=False, precision = 1e-6,growth_key = 'sigma')"
   ]
  },
  {
   "cell_type": "markdown",
   "metadata": {},
   "source": [
    "## Check by group of transporters of metabolite"
   ]
  },
  {
   "cell_type": "code",
   "execution_count": 14,
   "metadata": {
    "scrolled": true
   },
   "outputs": [],
   "source": [
    "with open(\"./sporeme_solution_v4_CYTK2_ENO.pickle\", \"rb\") as outfile:\n",
    "    sporeme = pickle.load(outfile)"
   ]
  },
  {
   "cell_type": "code",
   "execution_count": 15,
   "metadata": {
    "scrolled": true,
    "tags": []
   },
   "outputs": [
    {
     "name": "stdout",
     "output_type": "stream",
     "text": [
      "iter\tmuopt    \ta     \tb     \tmu1       \tstat1\n",
      "Finished compiling expressions in 255.492825 seconds\n",
      "Finished substituting S,lb,ub in 7.336406 seconds\n",
      "Finished makeME_LP in 1.412361 seconds\n",
      "Getting MINOS parameters from ME_NLP...\n",
      "1 0.05 0.05 0.1 0.05 optimal\n",
      "Finished substituting S,lb,ub in 7.327149 seconds\n",
      "Finished makeME_LP in 1.404336 seconds\n",
      "Getting MINOS parameters from ME_NLP...\n",
      "2 0.05 0.05 0.07500000000000001 0.07500000000000001 1\n",
      "Finished substituting S,lb,ub in 7.345304 seconds\n",
      "Finished makeME_LP in 1.398832 seconds\n",
      "Getting MINOS parameters from ME_NLP...\n",
      "3 0.05 0.05 0.0625 0.0625 1\n",
      "Finished substituting S,lb,ub in 6.967664 seconds\n",
      "Finished makeME_LP in 1.405783 seconds\n",
      "Getting MINOS parameters from ME_NLP...\n",
      "4 0.05625 0.05625 0.0625 0.05625 optimal\n",
      "Finished substituting S,lb,ub in 6.958680 seconds\n",
      "Finished makeME_LP in 1.402118 seconds\n",
      "Getting MINOS parameters from ME_NLP...\n",
      "5 0.05625 0.05625 0.059375 0.059375 1\n",
      "Finished substituting S,lb,ub in 7.039496 seconds\n",
      "Finished makeME_LP in 1.405020 seconds\n",
      "Getting MINOS parameters from ME_NLP...\n",
      "6 0.0578125 0.0578125 0.059375 0.0578125 optimal\n",
      "Finished substituting S,lb,ub in 6.793460 seconds\n",
      "Finished makeME_LP in 1.405870 seconds\n",
      "Getting MINOS parameters from ME_NLP...\n",
      "7 0.0578125 0.0578125 0.05859375 0.05859375 1\n",
      "Finished substituting S,lb,ub in 6.858770 seconds\n",
      "Finished makeME_LP in 1.418230 seconds\n",
      "Getting MINOS parameters from ME_NLP...\n",
      "8 0.0578125 0.0578125 0.058203125 0.058203125 1\n",
      "Finished substituting S,lb,ub in 6.905890 seconds\n",
      "Finished makeME_LP in 1.408316 seconds\n",
      "Getting MINOS parameters from ME_NLP...\n",
      "9 0.0578125 0.0578125 0.058007812500000006 0.058007812500000006 1\n",
      "Finished substituting S,lb,ub in 6.887418 seconds\n",
      "Finished makeME_LP in 1.405982 seconds\n",
      "Getting MINOS parameters from ME_NLP...\n",
      "10 0.057910156250000004 0.057910156250000004 0.058007812500000006 0.057910156250000004 optimal\n",
      "Bisection done in 723.544 seconds\n"
     ]
    }
   ],
   "source": [
    "solve_me_model(sporeme, max_mu = 0.1, min_mu = .01, using_soplex=False, precision = 1e-4,growth_key = 'sigma', verbosity = 2)"
   ]
  },
  {
   "cell_type": "code",
   "execution_count": 16,
   "metadata": {},
   "outputs": [],
   "source": [
    "def get_necessary_metabolites(model,active_transporters):\n",
    "    necessary_metabolites = []\n",
    "    for r in tqdm(active_transporters):\n",
    "        rxn = model.reactions.get_by_id(r)\n",
    "        for m in rxn.products:\n",
    "            if not isinstance(m,cobrame.Metabolite):\n",
    "                continue\n",
    "            met_root = m.id[:-2]\n",
    "            for i in rxn.reactants:\n",
    "                if met_root in i.id:\n",
    "                    necessary_metabolites.append(m.id)\n",
    "    return list(set(necessary_metabolites))\n",
    "\n",
    "def get_all_available_transport(model,necessary_metabolites):\n",
    "    available_transport = []\n",
    "    at_dict = {}\n",
    "    for m in tqdm(necessary_metabolites):\n",
    "        rxns = get_transport_reactions(model,m,comps=['c','s']) + get_transport_reactions(model,m,comps=['s','c'])\n",
    "        [available_transport.append(r.id) for r in rxns]\n",
    "        at_dict[m] = []\n",
    "        [at_dict[m].append(r.id) for r in rxns]\n",
    "    return list(set(available_transport)), at_dict"
   ]
  },
  {
   "cell_type": "code",
   "execution_count": 17,
   "metadata": {},
   "outputs": [],
   "source": [
    "# Previously identified essential metabolites\n",
    "exchange_list = ['4fe4s_s','2fe2s_s','udcpp_s','pydx5p_s','3fe4s_s','cl_s','sheme_s','cu_s','mn2_s',\n",
    "                 'bmocogdp_s','dpm_s','thmpp_s','zn2_s','cbl1_s','cobalt2_s']\n",
    "additional = [m.id for m in sporeme.metabolites if isinstance(m,cobrame.Metabolite)]\n",
    "transported_metabolites = exchange_list+additional"
   ]
  },
  {
   "cell_type": "code",
   "execution_count": 18,
   "metadata": {},
   "outputs": [
    {
     "name": "stderr",
     "output_type": "stream",
     "text": [
      "100%|██████████| 12323/12323 [00:00<00:00, 155885.73it/s]"
     ]
    },
    {
     "name": "stdout",
     "output_type": "stream",
     "text": [
      "399 transport reactions identified\n"
     ]
    },
    {
     "name": "stderr",
     "output_type": "stream",
     "text": [
      "\n"
     ]
    }
   ],
   "source": [
    "transport_reactions = get_all_transport(sporeme)\n",
    "print('{} transport reactions identified'.format(len(transport_reactions)))"
   ]
  },
  {
   "cell_type": "code",
   "execution_count": 19,
   "metadata": {
    "scrolled": true
   },
   "outputs": [
    {
     "name": "stderr",
     "output_type": "stream",
     "text": [
      "100%|██████████| 399/399 [00:00<00:00, 365478.77it/s]\n",
      "100%|██████████| 54/54 [00:00<00:00, 2357.75it/s]\n",
      "100%|██████████| 53/53 [00:00<00:00, 61.72it/s]\n"
     ]
    }
   ],
   "source": [
    "active_transporters = get_active_transport(transport_reactions)\n",
    "necessary_metabolites = get_necessary_metabolites(sporeme,active_transporters)\n",
    "necessary_metabolites.remove('h_s')\n",
    "necessary_metabolites.remove('h_c')\n",
    "available_transport, at_dict = get_all_available_transport(sporeme,necessary_metabolites)"
   ]
  },
  {
   "cell_type": "code",
   "execution_count": 20,
   "metadata": {},
   "outputs": [
    {
     "name": "stdout",
     "output_type": "stream",
     "text": [
      "54 active transport reactions identified\n",
      "53 necessary metabolites identified\n",
      "134 available transport reactions identified\n"
     ]
    }
   ],
   "source": [
    "print('{} active transport reactions identified'.format(len(active_transporters)))\n",
    "print('{} necessary metabolites identified'.format(len(necessary_metabolites)))\n",
    "print('{} available transport reactions identified'.format(len(available_transport)))"
   ]
  },
  {
   "cell_type": "code",
   "execution_count": 21,
   "metadata": {},
   "outputs": [
    {
     "name": "stdout",
     "output_type": "stream",
     "text": [
      "134 open transport reactions identified\n",
      "Included set()\n"
     ]
    }
   ],
   "source": [
    "all_transporters_to_open = list(set(active_transporters + available_transport))\n",
    "print('{} open transport reactions identified'.format(len(all_transporters_to_open)))\n",
    "print('Included {}'.format(set(active_transporters)-set(available_transport)))"
   ]
  },
  {
   "cell_type": "code",
   "execution_count": 22,
   "metadata": {},
   "outputs": [],
   "source": [
    "for r in transport_reactions:\n",
    "    if r not in all_transporters_to_open and 'SPONT' not in r:\n",
    "        rxn = sporeme.reactions.get_by_id(r)\n",
    "        rxn.upper_bound = 0 \n",
    "        rxn.lower_bound = 0"
   ]
  },
  {
   "cell_type": "code",
   "execution_count": 23,
   "metadata": {
    "scrolled": true,
    "tags": []
   },
   "outputs": [],
   "source": [
    "# for r in sporeme.reactions:\n",
    "#     comps = set([m.id[-1] for m,_ in r.metabolites.items() if isinstance(m,cobrame.Metabolite)])\n",
    "#     if 's' in comps and 'e' in comps:\n",
    "#         print(r.id,r.reaction,sporeme.solution.x_dict[r.id])"
   ]
  },
  {
   "cell_type": "code",
   "execution_count": 24,
   "metadata": {
    "scrolled": true
   },
   "outputs": [
    {
     "name": "stdout",
     "output_type": "stream",
     "text": [
      "iter\tmuopt    \ta     \tb     \tmu1       \tstat1\n",
      "Finished compiling expressions in 251.750707 seconds\n",
      "Finished substituting S,lb,ub in 7.276811 seconds\n",
      "Finished makeME_LP in 1.403145 seconds\n",
      "Getting MINOS parameters from ME_NLP...\n",
      "1 0.05 0.05 0.1 0.05 optimal\n",
      "Finished substituting S,lb,ub in 7.297058 seconds\n",
      "Finished makeME_LP in 1.396767 seconds\n",
      "Getting MINOS parameters from ME_NLP...\n",
      "2 0.05 0.05 0.07500000000000001 0.07500000000000001 1\n",
      "Finished substituting S,lb,ub in 7.136460 seconds\n",
      "Finished makeME_LP in 1.420367 seconds\n",
      "Getting MINOS parameters from ME_NLP...\n",
      "3 0.05 0.05 0.0625 0.0625 1\n",
      "Finished substituting S,lb,ub in 6.934000 seconds\n",
      "Finished makeME_LP in 1.404308 seconds\n",
      "Getting MINOS parameters from ME_NLP...\n",
      "4 0.05625 0.05625 0.0625 0.05625 optimal\n",
      "Finished substituting S,lb,ub in 6.789343 seconds\n",
      "Finished makeME_LP in 1.393515 seconds\n",
      "Getting MINOS parameters from ME_NLP...\n",
      "5 0.05625 0.05625 0.059375 0.059375 1\n",
      "Finished substituting S,lb,ub in 6.931571 seconds\n",
      "Finished makeME_LP in 1.404250 seconds\n",
      "Getting MINOS parameters from ME_NLP...\n",
      "6 0.0578125 0.0578125 0.059375 0.0578125 optimal\n",
      "Finished substituting S,lb,ub in 6.907224 seconds\n",
      "Finished makeME_LP in 1.408499 seconds\n",
      "Getting MINOS parameters from ME_NLP...\n",
      "7 0.0578125 0.0578125 0.05859375 0.05859375 1\n",
      "Finished substituting S,lb,ub in 6.942898 seconds\n",
      "Finished makeME_LP in 1.398143 seconds\n",
      "Getting MINOS parameters from ME_NLP...\n",
      "8 0.0578125 0.0578125 0.058203125 0.058203125 1\n",
      "Finished substituting S,lb,ub in 7.081651 seconds\n",
      "Finished makeME_LP in 1.402586 seconds\n",
      "Getting MINOS parameters from ME_NLP...\n",
      "9 0.0578125 0.0578125 0.058007812500000006 0.058007812500000006 1\n",
      "Finished substituting S,lb,ub in 6.976854 seconds\n",
      "Finished makeME_LP in 1.387474 seconds\n",
      "Getting MINOS parameters from ME_NLP...\n",
      "10 0.057910156250000004 0.057910156250000004 0.058007812500000006 0.057910156250000004 optimal\n",
      "Finished substituting S,lb,ub in 6.866383 seconds\n",
      "Finished makeME_LP in 1.399750 seconds\n",
      "Getting MINOS parameters from ME_NLP...\n",
      "11 0.05795898437500001 0.05795898437500001 0.058007812500000006 0.05795898437500001 optimal\n",
      "Finished substituting S,lb,ub in 6.923393 seconds\n",
      "Finished makeME_LP in 1.411859 seconds\n",
      "Getting MINOS parameters from ME_NLP...\n",
      "12 0.05795898437500001 0.05795898437500001 0.05798339843750001 0.05798339843750001 1\n",
      "Finished substituting S,lb,ub in 7.011624 seconds\n",
      "Finished makeME_LP in 1.390165 seconds\n",
      "Getting MINOS parameters from ME_NLP...\n",
      "13 0.05795898437500001 0.05795898437500001 0.05797119140625001 0.05797119140625001 1\n",
      "Finished substituting S,lb,ub in 6.974655 seconds\n",
      "Finished makeME_LP in 1.394297 seconds\n",
      "Getting MINOS parameters from ME_NLP...\n",
      "14 0.05795898437500001 0.05795898437500001 0.05796508789062501 0.05796508789062501 1\n",
      "Finished substituting S,lb,ub in 7.015257 seconds\n",
      "Finished makeME_LP in 1.394899 seconds\n",
      "Getting MINOS parameters from ME_NLP...\n",
      "15 0.057962036132812506 0.057962036132812506 0.05796508789062501 0.057962036132812506 optimal\n",
      "Finished substituting S,lb,ub in 7.024990 seconds\n",
      "Finished makeME_LP in 1.401995 seconds\n",
      "Getting MINOS parameters from ME_NLP...\n",
      "16 0.057962036132812506 0.057962036132812506 0.05796356201171876 0.05796356201171876 1\n",
      "Finished substituting S,lb,ub in 6.889548 seconds\n",
      "Finished makeME_LP in 1.396190 seconds\n",
      "Getting MINOS parameters from ME_NLP...\n",
      "17 0.05796279907226563 0.05796279907226563 0.05796356201171876 0.05796279907226563 optimal\n",
      "Bisection done in 734.529 seconds\n"
     ]
    }
   ],
   "source": [
    "solve_me_model(sporeme, max_mu = 0.1, min_mu = .01, using_soplex=False, precision = 1e-6,growth_key = 'sigma')"
   ]
  },
  {
   "cell_type": "code",
   "execution_count": null,
   "metadata": {
    "scrolled": true,
    "tags": []
   },
   "outputs": [
    {
     "name": "stdout",
     "output_type": "stream",
     "text": [
      "Chosen change function: group_knockout      Sequential = False\n"
     ]
    },
    {
     "name": "stderr",
     "output_type": "stream",
     "text": [
      "biomass_dilution_s response (10 threads):  28%|██▊       | 15/53 [41:25<48:51, 77.13s/it]    "
     ]
    }
   ],
   "source": [
    "from bacillusme.analysis import sensitivity as ss\n",
    "flux_results_df = ss.transporter_knockout(sporeme,necessary_metabolites, \\\n",
    "                                        NP=10,solution=1,biomass_dilution='biomass_dilution_s',\\\n",
    "                                        growth_key = 'sigma',single_change_function='group_knockout')"
   ]
  },
  {
   "cell_type": "code",
   "execution_count": null,
   "metadata": {},
   "outputs": [],
   "source": [
    "flux_results_df.to_csv('group_KO_flux_results_v4_ENO.csv')"
   ]
  },
  {
   "cell_type": "code",
   "execution_count": null,
   "metadata": {},
   "outputs": [],
   "source": [
    "flux_results_df = pd.read_csv('group_KO_flux_results_v4_ENO.csv',index_col=0)\n",
    "flux_results_df.loc['biomass_dilution_s'].sort_values().plot.bar(figsize=(12 ,4))\n",
    "plt.tight_layout()\n",
    "plt.savefig(\"group_KO_flux_results_v4_ENO.svg\", format=\"SVG\")"
   ]
  },
  {
   "cell_type": "markdown",
   "metadata": {},
   "source": [
    "### Close metabolite one by one\n",
    "Including information about arginine being transported"
   ]
  },
  {
   "cell_type": "code",
   "execution_count": null,
   "metadata": {
    "scrolled": true
   },
   "outputs": [],
   "source": [
    "with open(\"./sporeme_solution_v4_CYTK2_ENO.pickle\", \"rb\") as outfile:\n",
    "    sporeme = pickle.load(outfile)"
   ]
  },
  {
   "cell_type": "code",
   "execution_count": null,
   "metadata": {},
   "outputs": [],
   "source": [
    "for r in transport_reactions:\n",
    "    if r not in all_transporters_to_open and 'SPONT' not in r:\n",
    "        rxn = sporeme.reactions.get_by_id(r)\n",
    "        rxn.upper_bound = 0 \n",
    "        rxn.lower_bound = 0"
   ]
  },
  {
   "cell_type": "code",
   "execution_count": 54,
   "metadata": {},
   "outputs": [],
   "source": [
    "flux_results_df = pd.read_csv('group_KO_flux_results_v4_ENO.csv',index_col=0)\n",
    "sorted_mets = flux_results_df.loc['biomass_dilution_s'].sort_values(ascending=False).drop('base').index.to_list()"
   ]
  },
  {
   "cell_type": "code",
   "execution_count": 55,
   "metadata": {},
   "outputs": [],
   "source": [
    "sorted_mets.remove('arg__L_s')\n",
    "sorted_mets.append('arg__L_s')"
   ]
  },
  {
   "cell_type": "code",
   "execution_count": null,
   "metadata": {
    "scrolled": true
   },
   "outputs": [],
   "source": [
    "from bacillusme.analysis import sensitivity as ss\n",
    "flux_results_df = ss.transporter_knockout(sporeme,sorted_mets, \\\n",
    "                                        NP=20,solution=1,biomass_dilution='biomass_dilution_s',\\\n",
    "                                        growth_key = 'sigma',single_change_function='group_knockout',sequential=True)\n",
    "flux_results_df.to_csv('group_1by1_KO_flux_results_v4_ENO.csv')"
   ]
  },
  {
   "cell_type": "code",
   "execution_count": 56,
   "metadata": {},
   "outputs": [
    {
     "data": {
      "image/png": "[encoded data removed]",
      "text/plain": [
       "<Figure size 864x288 with 1 Axes>"
      ]
     },
     "metadata": {
      "needs_background": "light"
     },
     "output_type": "display_data"
    }
   ],
   "source": [
    "flux_results_df = pd.read_csv('group_1by1_KO_flux_results_v4_ENO.csv',index_col=0)\n",
    "flux_results_df.loc['biomass_dilution_s',sorted_mets[::-1]].plot.bar(figsize=(12,4))\n",
    "plt.tight_layout()\n",
    "plt.savefig(\"group_1by1_KO_flux_results_v4_ENO.svg\", format=\"SVG\")"
   ]
  },
  {
   "cell_type": "code",
   "execution_count": 59,
   "metadata": {},
   "outputs": [
    {
     "data": {
      "image/png": "[encoded data removed]",
      "text/plain": [
       "<Figure size 864x288 with 1 Axes>"
      ]
     },
     "metadata": {
      "needs_background": "light"
     },
     "output_type": "display_data"
    }
   ],
   "source": [
    "flux_results_df = pd.read_csv('group_1by1_KO_flux_results.csv',index_col=0)\n",
    "sorted_mets = flux_results_df.loc['biomass_dilution_s'].sort_values(ascending=False).drop('base').index.to_list()\n",
    "flux_results_df.loc['biomass_dilution_s',sorted_mets[::-1]].plot.bar(figsize=(12,4))\n",
    "plt.tight_layout()"
   ]
  },
  {
   "cell_type": "markdown",
   "metadata": {},
   "source": [
    "#### Cases"
   ]
  },
  {
   "cell_type": "code",
   "execution_count": 60,
   "metadata": {},
   "outputs": [],
   "source": [
    "pd.set_option('display.max_colwidth', None)"
   ]
  },
  {
   "cell_type": "code",
   "execution_count": 78,
   "metadata": {},
   "outputs": [],
   "source": [
    "flux_results_df = pd.read_csv('group_1by1_KO_flux_results_v4_ENO.csv',index_col=0)"
   ]
  },
  {
   "cell_type": "code",
   "execution_count": 79,
   "metadata": {},
   "outputs": [
    {
     "name": "stdout",
     "output_type": "stream",
     "text": [
      "gmp_s\n"
     ]
    }
   ],
   "source": [
    "sorted_mets = flux_results_df.loc['biomass_dilution_s'].sort_values(ascending=True)\n",
    "last_met = sorted_mets.index[list(sorted_mets.index).index(sorted_mets[sorted_mets<1e-5].index[-1])+1]\n",
    "print(last_met)\n",
    "flux_dict = flux_results_df[last_met].to_dict() # Last time before model breaks"
   ]
  },
  {
   "cell_type": "code",
   "execution_count": 80,
   "metadata": {},
   "outputs": [
    {
     "data": {
      "text/plain": [
       "0.013744955683277587"
      ]
     },
     "execution_count": 80,
     "metadata": {},
     "output_type": "execute_result"
    }
   ],
   "source": [
    "flux_dict['biomass_dilution']"
   ]
  },
  {
   "cell_type": "code",
   "execution_count": 64,
   "metadata": {},
   "outputs": [
    {
     "data": {
      "text/plain": [
       "13.335684635857957"
      ]
     },
     "execution_count": 64,
     "metadata": {},
     "output_type": "execute_result"
    }
   ],
   "source": [
    "met='atp_s' # ATP production and glucose uptake\n",
    "prod_atp_df = flux_based_reactions(sporeme,met,flux_dict=flux_dict,only_types=['MetabolicReaction'])\n",
    "prod_atp_df = prod_atp_df[prod_atp_df['met_flux']>0]\n",
    "prod_atp_df['met_flux'].sum()"
   ]
  },
  {
   "cell_type": "code",
   "execution_count": 48,
   "metadata": {},
   "outputs": [
    {
     "data": {
      "text/plain": [
       "ACKr_REV_BSU29470-MONOMER_s                       0.591267\n",
       "PGK_REV_BSU33930-MONOMER_s                        0.399905\n",
       "PYK_FWD_BSU29180-MONOMER_mod_mn2_mod_k_s        0.00679279\n",
       "ARGSS_REV_BSU29450-MONOMER_mod_mg2_s            0.00194143\n",
       "URIDK2r_copy2_REV_BSU00280-MONOMER_mod_mg2_s    9.4293e-05\n",
       "Name: met_flux, dtype: object"
      ]
     },
     "execution_count": 48,
     "metadata": {},
     "output_type": "execute_result"
    }
   ],
   "source": [
    "prod_atp_df['met_flux'].div(prod_atp_df['met_flux'].sum())"
   ]
  },
  {
   "cell_type": "code",
   "execution_count": 49,
   "metadata": {},
   "outputs": [
    {
     "data": {
      "text/plain": [
       "ATPM_s                                     0.674695\n",
       "GAM_s                                      0.256539\n",
       "NDPK1_FWD_BSU22730-MONOMER_mod_mn2_s     0.00876069\n",
       "ADK1_FWD_BSU01370-MONOMER_mod_mg2_s      0.00759006\n",
       "NDPK2_FWD_BSU22730-MONOMER_mod_mn2_s      0.0066902\n",
       "                                           ...     \n",
       "translation_BSU22430_s                  2.09352e-24\n",
       "translation_BSU15110_s                  2.07097e-24\n",
       "translation_BSU22420_s                   2.0495e-24\n",
       "translation_BSU29060_s                  1.86436e-24\n",
       "translation_BSU22410_s                  1.69276e-24\n",
       "Name: met_flux, Length: 833, dtype: object"
      ]
     },
     "execution_count": 49,
     "metadata": {},
     "output_type": "execute_result"
    }
   ],
   "source": [
    "met='atp_s' # ATP production and glucose uptake\n",
    "atp_df = flux_based_reactions(sporeme,met,flux_dict=flux_dict,growth_symbol='sigma')\n",
    "atp_df = atp_df[atp_df['met_flux']<0]\n",
    "atp_df['met_flux'].div(atp_df['met_flux'].sum())"
   ]
  },
  {
   "cell_type": "code",
   "execution_count": 50,
   "metadata": {
    "scrolled": true,
    "tags": []
   },
   "outputs": [
    {
     "data": {
      "text/plain": [
       "{<Metabolite atp_s at 0x7f0636f5e630>: -105.053483,\n",
       " <Metabolite h2o_s at 0x7f0636f5e1d0>: -105.053483,\n",
       " <Metabolite adp_s at 0x7f0636f5e048>: 105.053483,\n",
       " <Metabolite h_s at 0x7f0636f5e5f8>: 105.053483,\n",
       " <Metabolite pi_s at 0x7f0636f5e4e0>: 105.053483}"
      ]
     },
     "execution_count": 50,
     "metadata": {},
     "output_type": "execute_result"
    }
   ],
   "source": [
    "sporeme.reactions.GAM_s.metabolites"
   ]
  },
  {
   "cell_type": "code",
   "execution_count": 51,
   "metadata": {},
   "outputs": [],
   "source": [
    "atp_consumption = {}\n",
    "for r,f in atp_df['met_flux'].items():\n",
    "    rxn = sporeme.reactions.get_by_id(r)\n",
    "    if str(type(rxn)) not in atp_consumption: atp_consumption[str(type(rxn))] = 0\n",
    "    atp_consumption[str(type(rxn))] += f"
   ]
  },
  {
   "cell_type": "code",
   "execution_count": 52,
   "metadata": {},
   "outputs": [
    {
     "data": {
      "text/plain": [
       "{\"<class 'cobrame.core.reaction.SummaryVariable'>\": -12.422060783514405,\n",
       " \"<class 'cobrame.core.reaction.MetabolicReaction'>\": -0.8504932161444384,\n",
       " \"<class 'cobrame.core.reaction.TranslationReaction'>\": -0.05597805693251851,\n",
       " \"<class 'cobrame.core.reaction.TranscriptionReaction'>\": -0.010380673132950182,\n",
       " \"<class 'cobrame.core.reaction.PostTranslationReaction'>\": -0.0004389034121987891}"
      ]
     },
     "execution_count": 52,
     "metadata": {},
     "output_type": "execute_result"
    }
   ],
   "source": [
    "atp_consumption"
   ]
  },
  {
   "cell_type": "code",
   "execution_count": 43,
   "metadata": {},
   "outputs": [],
   "source": [
    "met='atp_s' # ATP production and glucose uptake\n",
    "atp_df = flux_based_reactions(sporeme,met,flux_dict=flux_dict,only_types=['MetabolicReaction'])\n",
    "atp_df = atp_df[atp_df['met_flux']>0]"
   ]
  },
  {
   "cell_type": "code",
   "execution_count": 44,
   "metadata": {},
   "outputs": [
    {
     "data": {
      "text/plain": [
       "ACKr_REV_BSU29470-MONOMER_s                       0.591267\n",
       "PGK_REV_BSU33930-MONOMER_s                        0.399905\n",
       "PYK_FWD_BSU29180-MONOMER_mod_mn2_mod_k_s        0.00679279\n",
       "ARGSS_REV_BSU29450-MONOMER_mod_mg2_s            0.00194143\n",
       "URIDK2r_copy2_REV_BSU00280-MONOMER_mod_mg2_s    9.4293e-05\n",
       "Name: met_flux, dtype: object"
      ]
     },
     "execution_count": 44,
     "metadata": {},
     "output_type": "execute_result"
    }
   ],
   "source": [
    "atp_df['met_flux'].div(atp_df['met_flux'].sum())"
   ]
  },
  {
   "cell_type": "code",
   "execution_count": 73,
   "metadata": {},
   "outputs": [
    {
     "data": {
      "text/html": [
       "<div>\n",
       "<style scoped>\n",
       "    .dataframe tbody tr th:only-of-type {\n",
       "        vertical-align: middle;\n",
       "    }\n",
       "\n",
       "    .dataframe tbody tr th {\n",
       "        vertical-align: top;\n",
       "    }\n",
       "\n",
       "    .dataframe thead th {\n",
       "        text-align: right;\n",
       "    }\n",
       "</style>\n",
       "<table border=\"1\" class=\"dataframe\">\n",
       "  <thead>\n",
       "    <tr style=\"text-align: right;\">\n",
       "      <th></th>\n",
       "      <th>lb</th>\n",
       "      <th>ub</th>\n",
       "      <th>rxn_flux</th>\n",
       "      <th>met_flux</th>\n",
       "      <th>reaction</th>\n",
       "    </tr>\n",
       "  </thead>\n",
       "  <tbody>\n",
       "    <tr>\n",
       "      <th>GMPS2_FWD_BSU06360-MONOMER_mod_mg2_s</th>\n",
       "      <td>0</td>\n",
       "      <td>999999</td>\n",
       "      <td>0.00699902</td>\n",
       "      <td>-0.00699902</td>\n",
       "      <td>atp_s + gln__L_s + h2o_s + xmp_s --&gt; -5.64275700176595e-6*sigma BSU06360-MONOMER_mod_mg2_s + amp_s + glu__L_s + gmp_s + 2.0 h_s + ppi_s</td>\n",
       "    </tr>\n",
       "    <tr>\n",
       "      <th>IMPD_FWD_BSU00090-MONOMER_s</th>\n",
       "      <td>0</td>\n",
       "      <td>999999</td>\n",
       "      <td>0.00699902</td>\n",
       "      <td>0.00699902</td>\n",
       "      <td>h2o_s + imp_s + nad_s --&gt; -3.58225363215499e-6*sigma BSU00090-MONOMER_s + h_s + nadh_s + xmp_s</td>\n",
       "    </tr>\n",
       "    <tr>\n",
       "      <th>NTD10_FWD_BSU07840-MONOMER_s</th>\n",
       "      <td>0</td>\n",
       "      <td>999999</td>\n",
       "      <td>0</td>\n",
       "      <td>-0</td>\n",
       "      <td>h2o_s + xmp_s --&gt; -4.27350427350427e-6*sigma BSU07840-MONOMER_s + pi_s + xtsn_s</td>\n",
       "    </tr>\n",
       "    <tr>\n",
       "      <th>XPPT_FWD_BSU22070-MONOMER_s</th>\n",
       "      <td>0</td>\n",
       "      <td>999999</td>\n",
       "      <td>0</td>\n",
       "      <td>0</td>\n",
       "      <td>prpp_s + xan_s --&gt; -2.02594348405928e-5*sigma BSU22070-MONOMER_s + ppi_s + xmp_s</td>\n",
       "    </tr>\n",
       "  </tbody>\n",
       "</table>\n",
       "</div>"
      ],
      "text/plain": [
       "                                     lb      ub    rxn_flux    met_flux  \\\n",
       "GMPS2_FWD_BSU06360-MONOMER_mod_mg2_s  0  999999  0.00699902 -0.00699902   \n",
       "IMPD_FWD_BSU00090-MONOMER_s           0  999999  0.00699902  0.00699902   \n",
       "NTD10_FWD_BSU07840-MONOMER_s          0  999999           0          -0   \n",
       "XPPT_FWD_BSU22070-MONOMER_s           0  999999           0           0   \n",
       "\n",
       "                                                                                                                                                                     reaction  \n",
       "GMPS2_FWD_BSU06360-MONOMER_mod_mg2_s  atp_s + gln__L_s + h2o_s + xmp_s --> -5.64275700176595e-6*sigma BSU06360-MONOMER_mod_mg2_s + amp_s + glu__L_s + gmp_s + 2.0 h_s + ppi_s  \n",
       "IMPD_FWD_BSU00090-MONOMER_s                                                    h2o_s + imp_s + nad_s --> -3.58225363215499e-6*sigma BSU00090-MONOMER_s + h_s + nadh_s + xmp_s  \n",
       "NTD10_FWD_BSU07840-MONOMER_s                                                                  h2o_s + xmp_s --> -4.27350427350427e-6*sigma BSU07840-MONOMER_s + pi_s + xtsn_s  \n",
       "XPPT_FWD_BSU22070-MONOMER_s                                                                  prpp_s + xan_s --> -2.02594348405928e-5*sigma BSU22070-MONOMER_s + ppi_s + xmp_s  "
      ]
     },
     "execution_count": 73,
     "metadata": {},
     "output_type": "execute_result"
    }
   ],
   "source": [
    "met='xmp_s' # ATP production and glucose uptake\n",
    "flux_based_reactions(sporeme,met,flux_dict=flux_dict,only_types=['MetabolicReaction'],threshold=0.).head(10)"
   ]
  },
  {
   "cell_type": "code",
   "execution_count": 43,
   "metadata": {},
   "outputs": [
    {
     "data": {
      "text/html": [
       "<div>\n",
       "<style scoped>\n",
       "    .dataframe tbody tr th:only-of-type {\n",
       "        vertical-align: middle;\n",
       "    }\n",
       "\n",
       "    .dataframe tbody tr th {\n",
       "        vertical-align: top;\n",
       "    }\n",
       "\n",
       "    .dataframe thead th {\n",
       "        text-align: right;\n",
       "    }\n",
       "</style>\n",
       "<table border=\"1\" class=\"dataframe\">\n",
       "  <thead>\n",
       "    <tr style=\"text-align: right;\">\n",
       "      <th></th>\n",
       "      <th>lb</th>\n",
       "      <th>ub</th>\n",
       "      <th>rxn_flux</th>\n",
       "      <th>met_flux</th>\n",
       "      <th>reaction</th>\n",
       "    </tr>\n",
       "  </thead>\n",
       "  <tbody>\n",
       "    <tr>\n",
       "      <th>GAPD_FWD_BSU33940-MONOMER_s</th>\n",
       "      <td>0</td>\n",
       "      <td>999999</td>\n",
       "      <td>4.82284</td>\n",
       "      <td>-4.82284</td>\n",
       "      <td>g3p_s + nad_s + pi_s --&gt; 13dpg_s + -3.09634335676979e-6*sigma BSU33940-MONOMER_s + h_s + nadh_s</td>\n",
       "    </tr>\n",
       "    <tr>\n",
       "      <th>TPI_FWD_BSU33920-MONOMER_s</th>\n",
       "      <td>0</td>\n",
       "      <td>999999</td>\n",
       "      <td>4.81724</td>\n",
       "      <td>4.81724</td>\n",
       "      <td>dhap_s --&gt; -3.82588298571337e-6*sigma BSU33920-MONOMER_s + g3p_s</td>\n",
       "    </tr>\n",
       "    <tr>\n",
       "      <th>TKT1_FWD_BSU17890-MONOMER_mod_mg2_mod_mn2_mod_thmpp_s</th>\n",
       "      <td>0</td>\n",
       "      <td>999999</td>\n",
       "      <td>0.0172825</td>\n",
       "      <td>0.0172825</td>\n",
       "      <td>r5p_s + xu5p__D_s --&gt; -4.27350427350427e-6*sigma BSU17890-MONOMER_mod_mg2_mod_mn2_mod_thmpp_s + g3p_s + s7p_s</td>\n",
       "    </tr>\n",
       "    <tr>\n",
       "      <th>TALA_FWD_CPLX8J2-126_s</th>\n",
       "      <td>0</td>\n",
       "      <td>999999</td>\n",
       "      <td>0.0172825</td>\n",
       "      <td>-0.0172825</td>\n",
       "      <td>g3p_s + s7p_s --&gt; -6.70308015237875e-7*sigma CPLX8J2-126_s + e4p_s + f6p_s</td>\n",
       "    </tr>\n",
       "    <tr>\n",
       "      <th>TKT2_FWD_BSU17890-MONOMER_mod_mg2_mod_mn2_mod_thmpp_s</th>\n",
       "      <td>0</td>\n",
       "      <td>999999</td>\n",
       "      <td>0.0109346</td>\n",
       "      <td>0.0109346</td>\n",
       "      <td>e4p_s + xu5p__D_s --&gt; -1.08473043261878e-6*sigma BSU17890-MONOMER_mod_mg2_mod_mn2_mod_thmpp_s + f6p_s + g3p_s</td>\n",
       "    </tr>\n",
       "    <tr>\n",
       "      <th>DRPA_REV_BSU39420-MONOMER_s</th>\n",
       "      <td>0</td>\n",
       "      <td>999999</td>\n",
       "      <td>0.00594608</td>\n",
       "      <td>-0.00594608</td>\n",
       "      <td>acald_s + g3p_s --&gt; 2dr5p_s + -1.87911930275808e-5*sigma BSU39420-MONOMER_s</td>\n",
       "    </tr>\n",
       "    <tr>\n",
       "      <th>TRPS1_FWD_CPLX8J2-19_mod_pydx5p_s</th>\n",
       "      <td>0</td>\n",
       "      <td>999999</td>\n",
       "      <td>0.000667339</td>\n",
       "      <td>0.000667339</td>\n",
       "      <td>3ig3p_s + ser__L_s --&gt; -4.73113259594653e-6*sigma CPLX8J2-19_mod_pydx5p_s + g3p_s + h2o_s + trp__L_s</td>\n",
       "    </tr>\n",
       "    <tr>\n",
       "      <th>DXPS_FWD_BSU24270-MONOMER_mod_thmpp_s</th>\n",
       "      <td>0</td>\n",
       "      <td>999999</td>\n",
       "      <td>0.000107636</td>\n",
       "      <td>-0.000107636</td>\n",
       "      <td>g3p_s + h_s + pyr_s --&gt; -1.11685525170979e-6*sigma BSU24270-MONOMER_mod_thmpp_s + co2_s + dxyl5p_s</td>\n",
       "    </tr>\n",
       "    <tr>\n",
       "      <th>FBA_FWD_BSU37120-MONOMER_s</th>\n",
       "      <td>0</td>\n",
       "      <td>999999</td>\n",
       "      <td>4.25064e-05</td>\n",
       "      <td>4.25064e-05</td>\n",
       "      <td>fdp_s --&gt; -3.5030386613539e-6*sigma BSU37120-MONOMER_s + dhap_s + g3p_s</td>\n",
       "    </tr>\n",
       "    <tr>\n",
       "      <th>EDA_FWD_BSU22100-MONOMER_s</th>\n",
       "      <td>0</td>\n",
       "      <td>999999</td>\n",
       "      <td>0</td>\n",
       "      <td>0</td>\n",
       "      <td>2ddg6p_s --&gt; -4.64479094452713e-6*sigma BSU22100-MONOMER_s + g3p_s + pyr_s</td>\n",
       "    </tr>\n",
       "  </tbody>\n",
       "</table>\n",
       "</div>"
      ],
      "text/plain": [
       "                                                      lb      ub     rxn_flux  \\\n",
       "GAPD_FWD_BSU33940-MONOMER_s                            0  999999      4.82284   \n",
       "TPI_FWD_BSU33920-MONOMER_s                             0  999999      4.81724   \n",
       "TKT1_FWD_BSU17890-MONOMER_mod_mg2_mod_mn2_mod_thmpp_s  0  999999    0.0172825   \n",
       "TALA_FWD_CPLX8J2-126_s                                 0  999999    0.0172825   \n",
       "TKT2_FWD_BSU17890-MONOMER_mod_mg2_mod_mn2_mod_thmpp_s  0  999999    0.0109346   \n",
       "DRPA_REV_BSU39420-MONOMER_s                            0  999999   0.00594608   \n",
       "TRPS1_FWD_CPLX8J2-19_mod_pydx5p_s                      0  999999  0.000667339   \n",
       "DXPS_FWD_BSU24270-MONOMER_mod_thmpp_s                  0  999999  0.000107636   \n",
       "FBA_FWD_BSU37120-MONOMER_s                             0  999999  4.25064e-05   \n",
       "EDA_FWD_BSU22100-MONOMER_s                             0  999999            0   \n",
       "\n",
       "                                                          met_flux  \\\n",
       "GAPD_FWD_BSU33940-MONOMER_s                               -4.82284   \n",
       "TPI_FWD_BSU33920-MONOMER_s                                 4.81724   \n",
       "TKT1_FWD_BSU17890-MONOMER_mod_mg2_mod_mn2_mod_thmpp_s    0.0172825   \n",
       "TALA_FWD_CPLX8J2-126_s                                  -0.0172825   \n",
       "TKT2_FWD_BSU17890-MONOMER_mod_mg2_mod_mn2_mod_thmpp_s    0.0109346   \n",
       "DRPA_REV_BSU39420-MONOMER_s                            -0.00594608   \n",
       "TRPS1_FWD_CPLX8J2-19_mod_pydx5p_s                      0.000667339   \n",
       "DXPS_FWD_BSU24270-MONOMER_mod_thmpp_s                 -0.000107636   \n",
       "FBA_FWD_BSU37120-MONOMER_s                             4.25064e-05   \n",
       "EDA_FWD_BSU22100-MONOMER_s                                       0   \n",
       "\n",
       "                                                                                                                                                            reaction  \n",
       "GAPD_FWD_BSU33940-MONOMER_s                                          g3p_s + nad_s + pi_s --> 13dpg_s + -3.09634335676979e-6*sigma BSU33940-MONOMER_s + h_s + nadh_s  \n",
       "TPI_FWD_BSU33920-MONOMER_s                                                                          dhap_s --> -3.82588298571337e-6*sigma BSU33920-MONOMER_s + g3p_s  \n",
       "TKT1_FWD_BSU17890-MONOMER_mod_mg2_mod_mn2_mod_thmpp_s  r5p_s + xu5p__D_s --> -4.27350427350427e-6*sigma BSU17890-MONOMER_mod_mg2_mod_mn2_mod_thmpp_s + g3p_s + s7p_s  \n",
       "TALA_FWD_CPLX8J2-126_s                                                                    g3p_s + s7p_s --> -6.70308015237875e-7*sigma CPLX8J2-126_s + e4p_s + f6p_s  \n",
       "TKT2_FWD_BSU17890-MONOMER_mod_mg2_mod_mn2_mod_thmpp_s  e4p_s + xu5p__D_s --> -1.08473043261878e-6*sigma BSU17890-MONOMER_mod_mg2_mod_mn2_mod_thmpp_s + f6p_s + g3p_s  \n",
       "DRPA_REV_BSU39420-MONOMER_s                                                              acald_s + g3p_s --> 2dr5p_s + -1.87911930275808e-5*sigma BSU39420-MONOMER_s  \n",
       "TRPS1_FWD_CPLX8J2-19_mod_pydx5p_s                               3ig3p_s + ser__L_s --> -4.73113259594653e-6*sigma CPLX8J2-19_mod_pydx5p_s + g3p_s + h2o_s + trp__L_s  \n",
       "DXPS_FWD_BSU24270-MONOMER_mod_thmpp_s                             g3p_s + h_s + pyr_s --> -1.11685525170979e-6*sigma BSU24270-MONOMER_mod_thmpp_s + co2_s + dxyl5p_s  \n",
       "FBA_FWD_BSU37120-MONOMER_s                                                                   fdp_s --> -3.5030386613539e-6*sigma BSU37120-MONOMER_s + dhap_s + g3p_s  \n",
       "EDA_FWD_BSU22100-MONOMER_s                                                                2ddg6p_s --> -4.64479094452713e-6*sigma BSU22100-MONOMER_s + g3p_s + pyr_s  "
      ]
     },
     "execution_count": 43,
     "metadata": {},
     "output_type": "execute_result"
    }
   ],
   "source": [
    "met='g3p_s' # ATP production and glucose uptake\n",
    "flux_based_reactions(sporeme,met,flux_dict=flux_dict,only_types=['MetabolicReaction']).head(10)"
   ]
  },
  {
   "cell_type": "code",
   "execution_count": null,
   "metadata": {},
   "outputs": [],
   "source": [
    "met='hom__L_s' #\n",
    "flux_based_reactions(sporeme,met,flux_dict=flux_dict,only_types=['MetabolicReaction']).head(10)"
   ]
  },
  {
   "cell_type": "code",
   "execution_count": null,
   "metadata": {},
   "outputs": [],
   "source": [
    "sporeme.metabolites.get_by_id('gam1p_c').name"
   ]
  },
  {
   "cell_type": "code",
   "execution_count": null,
   "metadata": {},
   "outputs": [],
   "source": [
    "met='orn__L_s' #\n",
    "flux_based_reactions(sporeme,met,flux_dict=flux_dict,only_types=['MetabolicReaction']).head(10)"
   ]
  },
  {
   "cell_type": "code",
   "execution_count": null,
   "metadata": {},
   "outputs": [],
   "source": [
    "met='h_c' # ATP production and glucose uptake\n",
    "flux_based_reactions(sporeme,met,flux_dict=flux_dict,only_types=['MetabolicReaction'])"
   ]
  },
  {
   "cell_type": "code",
   "execution_count": null,
   "metadata": {},
   "outputs": [],
   "source": [
    "met='3amp_s' # ATP production and glucose uptake\n",
    "flux_based_reactions(sporeme,met,flux_dict=flux_dict,only_types=['MetabolicReaction'])"
   ]
  },
  {
   "cell_type": "code",
   "execution_count": null,
   "metadata": {},
   "outputs": [],
   "source": [
    "met='pyr_s' # ATP production and glucose uptake\n",
    "flux_based_reactions(sporeme,met,flux_dict=flux_dict,only_types=['MetabolicReaction']).to_csv('metabolite_cases/{}.csv'.format(met[:-2]))"
   ]
  },
  {
   "cell_type": "code",
   "execution_count": null,
   "metadata": {},
   "outputs": [],
   "source": [
    "met='pep_s' # ATP production and glucose uptake\n",
    "flux_based_reactions(sporeme,met,flux_dict=flux_dict,only_types=['MetabolicReaction']).to_csv('metabolite_cases/{}.csv'.format(met[:-2]))"
   ]
  },
  {
   "cell_type": "code",
   "execution_count": null,
   "metadata": {},
   "outputs": [],
   "source": [
    "met='cit_s'\n",
    "flux_based_reactions(sporeme,met,flux_dict=flux_dict,only_types=['MetabolicReaction']).to_csv('metabolite_cases/{}.csv'.format(met[:-2]))"
   ]
  },
  {
   "cell_type": "code",
   "execution_count": null,
   "metadata": {},
   "outputs": [],
   "source": [
    "met='met__L_s' # Protein synthesis\n",
    "flux_based_reactions(sporeme,met,flux_dict=flux_dict,only_types=['MetabolicReaction'])"
   ]
  },
  {
   "cell_type": "code",
   "execution_count": null,
   "metadata": {},
   "outputs": [],
   "source": [
    "met='so4_s' # Protein synthesis\n",
    "flux_based_reactions(sporeme,met,flux_dict=flux_dict,only_types=['MetabolicReaction'])"
   ]
  },
  {
   "cell_type": "code",
   "execution_count": null,
   "metadata": {},
   "outputs": [],
   "source": [
    "met='arg__L_s' # Ornithine synthesis, ArgSuc synthesis\n",
    "flux_based_reactions(sporeme,met,flux_dict=flux_dict,only_types=['MetabolicReaction']).to_csv('metabolite_cases/{}.csv'.format(met[:-2]))"
   ]
  },
  {
   "cell_type": "code",
   "execution_count": null,
   "metadata": {},
   "outputs": [],
   "source": [
    "met='argsuc_s' # Citruline synthesis.  Urea cycle and the synthesis of pyrimidines: nucleotide synthesis\n",
    "flux_based_reactions(sporeme,met,flux_dict=flux_dict,only_types=['MetabolicReaction']).to_csv('metabolite_cases/{}.csv'.format(met[:-2]))"
   ]
  },
  {
   "cell_type": "code",
   "execution_count": null,
   "metadata": {},
   "outputs": [],
   "source": [
    "met='glu5sa_s' # Citruline synthesis.  Urea cycle and the synthesis of pyrimidines: nucleotide synthesis\n",
    "flux_based_reactions(sporeme,met,flux_dict=flux_dict,only_types=['MetabolicReaction'])"
   ]
  },
  {
   "cell_type": "code",
   "execution_count": null,
   "metadata": {},
   "outputs": [],
   "source": [
    "sporeme.reactions.get_by_id('G5SADs_FWD_CPLX_dummy_s').reaction"
   ]
  },
  {
   "cell_type": "code",
   "execution_count": null,
   "metadata": {},
   "outputs": [],
   "source": [
    "met='citr__L_s' # Carbamoyl phosphate and ornithine synthesis.  Urea cycle and the synthesis of pyrimidines: nucleotide synthesis\n",
    "flux_based_reactions(sporeme,met,flux_dict=flux_dict,only_types=['MetabolicReaction']).to_csv('metabolite_cases/{}.csv'.format(met[:-2]))"
   ]
  },
  {
   "cell_type": "code",
   "execution_count": null,
   "metadata": {},
   "outputs": [],
   "source": [
    "met='pser__L_s' # Glutamate synthesis\n",
    "flux_based_reactions(sporeme,met,flux_dict=flux_dict,only_types=['MetabolicReaction']).to_csv('metabolite_cases/{}.csv'.format(met[:-2]))"
   ]
  },
  {
   "cell_type": "code",
   "execution_count": null,
   "metadata": {},
   "outputs": [],
   "source": [
    "met='asp__L_s' # Production of 4asp\n",
    "flux_based_reactions(sporeme,met,flux_dict=flux_dict,only_types=['MetabolicReaction']).to_csv('metabolite_cases/{}.csv'.format(met[:-2]))"
   ]
  },
  {
   "cell_type": "code",
   "execution_count": null,
   "metadata": {},
   "outputs": [],
   "source": [
    "met='gdp_s' # Nucleotide synthesis\n",
    "flux_based_reactions(sporeme,met,flux_dict=flux_dict,only_types=['MetabolicReaction'])"
   ]
  },
  {
   "cell_type": "code",
   "execution_count": null,
   "metadata": {},
   "outputs": [],
   "source": [
    "sporeme.reactions.get_by_id('ADSS_FWD_BSU40420-MONOMER_s').reaction"
   ]
  },
  {
   "cell_type": "code",
   "execution_count": null,
   "metadata": {},
   "outputs": [],
   "source": [
    "met='gtp_s' # Nucleotide synthesis\n",
    "flux_based_reactions(sporeme,met,flux_dict=flux_dict,only_types=['MetabolicReaction'])"
   ]
  },
  {
   "cell_type": "code",
   "execution_count": null,
   "metadata": {},
   "outputs": [],
   "source": [
    "met='acnam_s' # A fraction of PEP_s requirement in the spore\n",
    "flux_based_reactions(sporeme,met,flux_dict=flux_dict,only_types=['MetabolicReaction']).to_csv('metabolite_cases/{}.csv'.format(met[:-2]))"
   ]
  },
  {
   "cell_type": "code",
   "execution_count": null,
   "metadata": {},
   "outputs": [],
   "source": [
    "met='3amp_s' # Pumping phosporus Pi C->S. Pi is used to pump Fructose C->S\n",
    "flux_based_reactions(sporeme,met,flux_dict=flux_dict,only_types=['MetabolicReaction']).to_csv('metabolite_cases/{}.csv'.format(met[:-2]))"
   ]
  },
  {
   "cell_type": "code",
   "execution_count": null,
   "metadata": {},
   "outputs": [],
   "source": [
    "met='f6p_s' # \n",
    "flux_based_reactions(sporeme,met,flux_dict=flux_dict,only_types=['MetabolicReaction']).to_csv('metabolite_cases/{}.csv'.format(met[:-2]))"
   ]
  },
  {
   "cell_type": "code",
   "execution_count": null,
   "metadata": {},
   "outputs": [],
   "source": [
    "met='man6p_s' #\n",
    "flux_based_reactions(sporeme,met,flux_dict=flux_dict,only_types=['MetabolicReaction']).to_csv('metabolite_cases/{}.csv'.format(met[:-2]))"
   ]
  },
  {
   "cell_type": "code",
   "execution_count": null,
   "metadata": {},
   "outputs": [],
   "source": [
    "met='h_s' # \n",
    "flux_based_reactions(sporeme,met,flux_dict=flux_dict,only_types=['MetabolicReaction']).to_csv('metabolite_cases/{}.csv'.format(met[:-2]))"
   ]
  },
  {
   "cell_type": "code",
   "execution_count": null,
   "metadata": {},
   "outputs": [],
   "source": [
    "met='pi_s' # \n",
    "flux_based_reactions(sporeme,met,flux_dict=flux_dict,only_types=['MetabolicReaction'])"
   ]
  },
  {
   "cell_type": "code",
   "execution_count": null,
   "metadata": {},
   "outputs": [],
   "source": [
    "sporeme.reactions.get_by_id('3AMPt6_FWD_CPLX_dummy_s').reaction"
   ]
  },
  {
   "cell_type": "code",
   "execution_count": null,
   "metadata": {},
   "outputs": [],
   "source": [
    "sporeme.reactions.get_by_id('3NUCLE1_FWD_BSU07840-MONOMER_s').reaction"
   ]
  },
  {
   "cell_type": "code",
   "execution_count": null,
   "metadata": {},
   "outputs": [],
   "source": [
    "sporeme.reactions.get_by_id('ADNt2_REV_BSU38710-MONOMER_s').reaction"
   ]
  },
  {
   "cell_type": "code",
   "execution_count": null,
   "metadata": {},
   "outputs": [],
   "source": [
    "sporeme.reactions.get_by_id('3NUCLE1_REV_BSU07840-MONOMER').reaction"
   ]
  },
  {
   "cell_type": "code",
   "execution_count": null,
   "metadata": {},
   "outputs": [],
   "source": [
    "sporeme.metabolites.get_by_id('so4_s').name"
   ]
  },
  {
   "cell_type": "code",
   "execution_count": null,
   "metadata": {},
   "outputs": [],
   "source": [
    "met='adn_s' #\n",
    "flux_based_reactions(sporeme,met,flux_dict=flux_dict,only_types=['MetabolicReaction']).to_csv('metabolite_cases/{}.csv'.format(met[:-2]))"
   ]
  },
  {
   "cell_type": "code",
   "execution_count": null,
   "metadata": {},
   "outputs": [],
   "source": [
    "met='pi_s' #\n",
    "flux_based_reactions(sporeme,met,flux_dict=flux_dict,only_types=['MetabolicReaction']).to_csv('metabolite_cases/{}.csv'.format(met[:-2]))"
   ]
  },
  {
   "cell_type": "code",
   "execution_count": null,
   "metadata": {},
   "outputs": [],
   "source": [
    "met='leu__L_s' # \n",
    "flux_based_reactions(sporeme,met,flux_dict=flux_dict,only_types=['MetabolicReaction']).to_csv('metabolite_cases/{}.csv'.format(met[:-2]))"
   ]
  },
  {
   "cell_type": "code",
   "execution_count": null,
   "metadata": {},
   "outputs": [],
   "source": [
    "met='glu__L_s' # \n",
    "flux_based_reactions(sporeme,met,flux_dict=flux_dict,only_types=['MetabolicReaction']).to_csv('metabolite_cases/{}.csv'.format(met[:-2]))"
   ]
  },
  {
   "cell_type": "code",
   "execution_count": null,
   "metadata": {},
   "outputs": [],
   "source": [
    "met='orn__L_s' # \n",
    "flux_based_reactions(sporeme,met,flux_dict=flux_dict,only_types=['MetabolicReaction']).to_csv('metabolite_cases/{}.csv'.format(met[:-2]))"
   ]
  },
  {
   "cell_type": "code",
   "execution_count": 170,
   "metadata": {},
   "outputs": [
    {
     "data": {
      "text/plain": [
       "15.866048221386526"
      ]
     },
     "execution_count": 170,
     "metadata": {},
     "output_type": "execute_result"
    }
   ],
   "source": [
    "met='atp_s' # ATP production and glucose uptake\n",
    "prod_atp_df = flux_based_reactions(sporeme,met,flux_dict=flux_dict,only_types=['MetabolicReaction'])\n",
    "prod_atp_df = prod_atp_df[prod_atp_df['met_flux']>0]\n",
    "prod_atp_df['met_flux'].sum()"
   ]
  },
  {
   "cell_type": "code",
   "execution_count": 19,
   "metadata": {},
   "outputs": [
    {
     "data": {
      "text/plain": [
       "ACKr_REV_BSU29470-MONOMER_s                        0.435925\n",
       "PGK_REV_BSU33930-MONOMER_s                         0.303972\n",
       "PYK_FWD_BSU29180-MONOMER_mod_mn2_mod_k_s           0.222772\n",
       "PRPPS_REV_BSU00510-MONOMER_mod_mn2_mod_pi_s        0.021681\n",
       "ADK1_REV_BSU01370-MONOMER_mod_mg2_s               0.0152716\n",
       "ARGSS_REV_BSU29450-MONOMER_mod_mg2_s            0.000229173\n",
       "URIDK2r_copy2_REV_BSU00280-MONOMER_mod_mg2_s    0.000118324\n",
       "CYTK2_REV_BSU22890-MONOMER_mod_mg2_s            3.04227e-05\n",
       "SUCOAS_FWD_CPLX8J2-7_s                          4.18044e-39\n",
       "LAAL29_FWD_BSU37710-MONOMER_s                   9.05477e-40\n",
       "PRASCSi_REV_BSU06450-MONOMER_s                   3.6099e-40\n",
       "ARGKr_REV_CPLX_dummy_s                          1.41334e-40\n",
       "LAAL23_FWD_BSU37710-MONOMER_s                   1.35944e-40\n",
       "Name: met_flux, dtype: object"
      ]
     },
     "execution_count": 19,
     "metadata": {},
     "output_type": "execute_result"
    }
   ],
   "source": [
    "prod_atp_df['met_flux'].div(prod_atp_df['met_flux'].sum())"
   ]
  },
  {
   "cell_type": "code",
   "execution_count": 167,
   "metadata": {},
   "outputs": [
    {
     "data": {
      "text/plain": [
       "ATPM_s                                      0.56712\n",
       "GAM_s                                      0.382665\n",
       "NDPK1_FWD_BSU22730-MONOMER_mod_mn2_s     0.00931769\n",
       "NDPK2_FWD_BSU22730-MONOMER_mod_mn2_s     0.00753493\n",
       "CYTK1_FWD_BSU22890-MONOMER_mod_mg2_s     0.00699603\n",
       "                                           ...     \n",
       "transcription_TU_BSU_rRNA_18_s          1.00652e-40\n",
       "LAAL33_FWD_BSU37710-MONOMER_s           7.95121e-41\n",
       "translation_BSU30740_s                  1.77329e-44\n",
       "translocation_BSU30770_s                2.87636e-45\n",
       "translocation_BSU30760_s                1.79263e-45\n",
       "Name: met_flux, Length: 831, dtype: object"
      ]
     },
     "execution_count": 167,
     "metadata": {},
     "output_type": "execute_result"
    }
   ],
   "source": [
    "met='atp_s' # ATP production and glucose uptake\n",
    "atp_df = flux_based_reactions(sporeme,met,flux_dict=flux_dict,growth_symbol='sigma')\n",
    "atp_df = atp_df[atp_df['met_flux']<0]\n",
    "atp_df['met_flux'].div(atp_df['met_flux'].sum())"
   ]
  },
  {
   "cell_type": "code",
   "execution_count": 186,
   "metadata": {
    "scrolled": true,
    "tags": []
   },
   "outputs": [
    {
     "data": {
      "text/plain": [
       "{<Metabolite atp_s at 0x7f3a26ba8550>: -105.053483,\n",
       " <Metabolite h2o_s at 0x7f3a26ba85f8>: -105.053483,\n",
       " <Metabolite adp_s at 0x7f3a26ba8710>: 105.053483,\n",
       " <Metabolite h_s at 0x7f3a26ba8898>: 105.053483,\n",
       " <Metabolite pi_s at 0x7f3a26ba87b8>: 105.053483}"
      ]
     },
     "execution_count": 186,
     "metadata": {},
     "output_type": "execute_result"
    }
   ],
   "source": [
    "sporeme.reactions.GAM_s.metabolites"
   ]
  },
  {
   "cell_type": "code",
   "execution_count": 180,
   "metadata": {},
   "outputs": [],
   "source": [
    "atp_consumption = {}\n",
    "for r,f in atp_df['met_flux'].items():\n",
    "    rxn = sporeme.reactions.get_by_id(r)\n",
    "    if str(type(rxn)) not in atp_consumption: atp_consumption[str(type(rxn))] = 0\n",
    "    \n",
    "    atp_consumption[str(type(rxn))] += f"
   ]
  },
  {
   "cell_type": "markdown",
   "metadata": {},
   "source": [
    "## Essential mets"
   ]
  },
  {
   "cell_type": "code",
   "execution_count": null,
   "metadata": {
    "scrolled": true
   },
   "outputs": [],
   "source": [
    "with open(\"./sporeme_solution_v4_CYTK2.pickle\", \"rb\") as outfile:\n",
    "    sporeme = pickle.load(outfile)"
   ]
  },
  {
   "cell_type": "code",
   "execution_count": 44,
   "metadata": {},
   "outputs": [
    {
     "name": "stdout",
     "output_type": "stream",
     "text": [
      "Essential metabolites: ['mn2_s', 'gam6p_s', '3pg_c', 'leu__L_s', 'for_c', 'asp__L_s', 'ade_s', 'acac_s', 'lys__L_s', 'ac_c', 'succ_c', 'met__L_s', 'gmp_s', 'akg_s', 'gsn_c', 'mg2_s', 'pyr_s', 'zn2_s', 'arg__L_s', 'lac__L_c', '6pgc_s', 'adn_c', '3amp_s', 'cmp_s', 'thr__L_s', 'k_s', 'asn__L_s']\n"
     ]
    }
   ],
   "source": [
    "flux_results_df = pd.read_csv('group_1by1_KO_flux_results_v4.csv',index_col=0)\n",
    "sorted_mets = flux_results_df.loc['biomass_dilution_s'].sort_values(ascending=True)\n",
    "essential_mets = list(sorted_mets.iloc[:list(sorted_mets.index).index(sorted_mets[sorted_mets<1e-5].index[-1])+2].index) # All up until the last one before it breaks \n",
    "print('Essential metabolites: {}'.format(essential_mets))"
   ]
  },
  {
   "cell_type": "code",
   "execution_count": 45,
   "metadata": {},
   "outputs": [],
   "source": [
    "essential_transporters = []\n",
    "for met in essential_mets:\n",
    "    [essential_transporters.append(i) for i in at_dict[met]]"
   ]
  },
  {
   "cell_type": "code",
   "execution_count": 46,
   "metadata": {},
   "outputs": [
    {
     "name": "stdout",
     "output_type": "stream",
     "text": [
      "72 essential open transporters\n"
     ]
    }
   ],
   "source": [
    "print('{} essential open transporters'.format(len(essential_transporters)))"
   ]
  },
  {
   "cell_type": "code",
   "execution_count": 47,
   "metadata": {},
   "outputs": [],
   "source": [
    "for r in transport_reactions:\n",
    "    if r not in essential_transporters and 'SPONT' not in r:\n",
    "        rxn = sporeme.reactions.get_by_id(r)\n",
    "        rxn.upper_bound = 0 \n",
    "        rxn.lower_bound = 0"
   ]
  },
  {
   "cell_type": "code",
   "execution_count": 48,
   "metadata": {
    "scrolled": true
   },
   "outputs": [
    {
     "name": "stdout",
     "output_type": "stream",
     "text": [
      "iter\tmuopt    \ta     \tb     \tmu1       \tstat1\n",
      "Finished compiling expressions in 251.814851 seconds\n",
      "Finished substituting S,lb,ub in 7.384463 seconds\n",
      "Finished makeME_LP in 1.557973 seconds\n",
      "Getting MINOS parameters from ME_NLP...\n",
      "1 0.0 0.0 0.075 0.075 1\n",
      "Finished substituting S,lb,ub in 7.411553 seconds\n",
      "Finished makeME_LP in 1.542169 seconds\n",
      "Getting MINOS parameters from ME_NLP...\n",
      "2 0.0375 0.0375 0.075 0.0375 optimal\n",
      "Finished substituting S,lb,ub in 7.410092 seconds\n",
      "Finished makeME_LP in 1.562008 seconds\n",
      "Getting MINOS parameters from ME_NLP...\n",
      "3 0.056249999999999994 0.056249999999999994 0.075 0.056249999999999994 optimal\n",
      "Finished substituting S,lb,ub in 7.202686 seconds\n",
      "Finished makeME_LP in 1.550135 seconds\n",
      "Getting MINOS parameters from ME_NLP...\n",
      "4 0.056249999999999994 0.056249999999999994 0.06562499999999999 0.06562499999999999 1\n",
      "Finished substituting S,lb,ub in 7.194803 seconds\n",
      "Finished makeME_LP in 1.555077 seconds\n",
      "Getting MINOS parameters from ME_NLP...\n",
      "5 0.056249999999999994 0.056249999999999994 0.06093749999999999 0.06093749999999999 1\n",
      "Finished substituting S,lb,ub in 7.245203 seconds\n",
      "Finished makeME_LP in 1.544753 seconds\n",
      "Getting MINOS parameters from ME_NLP...\n",
      "6 0.056249999999999994 0.056249999999999994 0.05859374999999999 0.05859374999999999 1\n",
      "Finished substituting S,lb,ub in 7.215847 seconds\n",
      "Finished makeME_LP in 1.551702 seconds\n",
      "Getting MINOS parameters from ME_NLP...\n",
      "7 0.057421875 0.057421875 0.05859374999999999 0.057421875 optimal\n",
      "Finished substituting S,lb,ub in 7.166410 seconds\n",
      "Finished makeME_LP in 1.549939 seconds\n",
      "Getting MINOS parameters from ME_NLP...\n",
      "8 0.057421875 0.057421875 0.05800781249999999 0.05800781249999999 1\n",
      "Finished substituting S,lb,ub in 7.131937 seconds\n",
      "Finished makeME_LP in 1.535160 seconds\n",
      "Getting MINOS parameters from ME_NLP...\n",
      "9 0.057714843749999994 0.057714843749999994 0.05800781249999999 0.057714843749999994 optimal\n",
      "Finished substituting S,lb,ub in 7.154944 seconds\n",
      "Finished makeME_LP in 1.553463 seconds\n",
      "Getting MINOS parameters from ME_NLP...\n",
      "10 0.057714843749999994 0.057714843749999994 0.05786132812499999 0.05786132812499999 1\n",
      "Finished substituting S,lb,ub in 7.146374 seconds\n",
      "Finished makeME_LP in 1.548771 seconds\n",
      "Getting MINOS parameters from ME_NLP...\n",
      "11 0.0577880859375 0.0577880859375 0.05786132812499999 0.0577880859375 optimal\n",
      "Finished substituting S,lb,ub in 7.174286 seconds\n",
      "Finished makeME_LP in 1.557103 seconds\n",
      "Getting MINOS parameters from ME_NLP...\n",
      "12 0.0577880859375 0.0577880859375 0.05782470703124999 0.05782470703124999 1\n",
      "Finished substituting S,lb,ub in 7.178155 seconds\n",
      "Finished makeME_LP in 1.544766 seconds\n",
      "Getting MINOS parameters from ME_NLP...\n",
      "13 0.057806396484374994 0.057806396484374994 0.05782470703124999 0.057806396484374994 optimal\n",
      "Finished substituting S,lb,ub in 7.211493 seconds\n",
      "Finished makeME_LP in 1.557744 seconds\n",
      "Getting MINOS parameters from ME_NLP...\n",
      "14 0.05781555175781249 0.05781555175781249 0.05782470703124999 0.05781555175781249 optimal\n",
      "Finished substituting S,lb,ub in 7.251672 seconds\n",
      "Finished makeME_LP in 1.541997 seconds\n",
      "Getting MINOS parameters from ME_NLP...\n",
      "15 0.05781555175781249 0.05781555175781249 0.05782012939453124 0.05782012939453124 1\n",
      "Finished substituting S,lb,ub in 7.204395 seconds\n",
      "Finished makeME_LP in 1.542776 seconds\n",
      "Getting MINOS parameters from ME_NLP...\n",
      "16 0.05781784057617187 0.05781784057617187 0.05782012939453124 0.05781784057617187 optimal\n",
      "Finished substituting S,lb,ub in 7.116466 seconds\n",
      "Finished makeME_LP in 1.561061 seconds\n",
      "Getting MINOS parameters from ME_NLP...\n",
      "17 0.05781784057617187 0.05781784057617187 0.057818984985351554 0.057818984985351554 1\n",
      "Finished substituting S,lb,ub in 7.191980 seconds\n",
      "Finished makeME_LP in 1.547538 seconds\n",
      "Getting MINOS parameters from ME_NLP...\n",
      "18 0.05781841278076171 0.05781841278076171 0.057818984985351554 0.05781841278076171 optimal\n",
      "Bisection done in 955.5 seconds\n"
     ]
    }
   ],
   "source": [
    "solve_me_model(sporeme, max_mu = 0.15, min_mu = .05, using_soplex=False, precision = 1e-6,growth_key = 'sigma')"
   ]
  },
  {
   "cell_type": "code",
   "execution_count": 49,
   "metadata": {
    "scrolled": true
   },
   "outputs": [
    {
     "name": "stdout",
     "output_type": "stream",
     "text": [
      "Chosen change function: group_knockout      Sequential = False\n"
     ]
    },
    {
     "name": "stderr",
     "output_type": "stream",
     "text": [
      "biomass_dilution_s response (20 threads): 100%|██████████| 27/27 [2:08:29<00:00, 285.54s/it]   \n"
     ]
    }
   ],
   "source": [
    "from bacillusme.analysis import sensitivity as ss\n",
    "flux_results_df = ss.transporter_knockout(sporeme,essential_mets, \\\n",
    "                                        NP=20,solution=1,biomass_dilution='biomass_dilution_s',\\\n",
    "                                        growth_key = 'sigma',single_change_function='group_knockout')\n",
    "flux_results_df.to_csv('essential_metabolite_group_KO_v4.csv')"
   ]
  },
  {
   "cell_type": "code",
   "execution_count": 50,
   "metadata": {},
   "outputs": [
    {
     "data": {
      "image/png": "[encoded data removed]",
      "text/plain": [
       "<Figure size 1080x288 with 1 Axes>"
      ]
     },
     "metadata": {
      "needs_background": "light"
     },
     "output_type": "display_data"
    }
   ],
   "source": [
    "flux_results_df = pd.read_csv('essential_metabolite_group_KO_v4.csv',index_col=0)\n",
    "flux_results_df.loc['biomass_dilution_s'].plot.bar(figsize=(15,4))\n",
    "plt.tight_layout()\n",
    "plt.savefig(\"essential_metabolite_group_KO_v4.svg\", format=\"SVG\")"
   ]
  },
  {
   "cell_type": "code",
   "execution_count": null,
   "metadata": {
    "scrolled": true
   },
   "outputs": [
    {
     "name": "stderr",
     "output_type": "stream",
     "text": [
      "Process ForkPoolWorker-55:\n",
      "Traceback (most recent call last):\n",
      "  File \"/opt/python3.6.8/lib/python3.6/multiprocessing/process.py\", line 258, in _bootstrap\n",
      "    self.run()\n",
      "  File \"/opt/python3.6.8/lib/python3.6/multiprocessing/process.py\", line 93, in run\n",
      "    self._target(*self._args, **self._kwargs)\n",
      "  File \"/opt/python3.6.8/lib/python3.6/multiprocessing/pool.py\", line 119, in worker\n",
      "    result = (True, func(*args, **kwds))\n",
      "  File \"/home/jt/UCSD/bacillusme-master/bacillusme/analysis/sensitivity.py\", line 104, in single_flux_response\n",
      "    solve_model(me,precision = precision,mu_fix=mu_fix,growth_key=growth_key)\n",
      "  File \"/home/jt/UCSD/bacillusme-master/bacillusme/analysis/sensitivity.py\", line 115, in solve_model\n",
      "    verbosity=0,growth_key=growth_key)\n",
      "  File \"/home/jt/UCSD/bacillusme-master/bacillusme/util/helper_functions.py\", line 298, in solve_me_model\n",
      "    muopt, hs, xopt, cache = me_nlp.bisectmu(precision=precision, mumax=max_mu, verbosity=verbosity)\n",
      "  File \"/home/jt/UCSD/solvemepy-master/qminospy/me1.py\", line 465, in bisectmu\n",
      "    stat1, hs, sol1, x1 = checkmu(mu1, hs)\n",
      "  File \"/home/jt/UCSD/solvemepy-master/qminospy/me1.py\", line 439, in checkmu\n",
      "    precision=solver_precision)\n",
      "  File \"/home/jt/UCSD/solvemepy-master/qminospy/me2.py\", line 398, in solvelp\n",
      "    nrealopts = nRealOpts)\n",
      "KeyboardInterrupt\n",
      "Process ForkPoolWorker-56:\n",
      "Traceback (most recent call last):\n",
      "  File \"/opt/python3.6.8/lib/python3.6/multiprocessing/process.py\", line 258, in _bootstrap\n",
      "    self.run()\n",
      "  File \"/opt/python3.6.8/lib/python3.6/multiprocessing/process.py\", line 93, in run\n",
      "    self._target(*self._args, **self._kwargs)\n",
      "  File \"/opt/python3.6.8/lib/python3.6/multiprocessing/pool.py\", line 119, in worker\n",
      "    result = (True, func(*args, **kwds))\n",
      "  File \"/home/jt/UCSD/bacillusme-master/bacillusme/analysis/sensitivity.py\", line 104, in single_flux_response\n",
      "    solve_model(me,precision = precision,mu_fix=mu_fix,growth_key=growth_key)\n",
      "  File \"/home/jt/UCSD/bacillusme-master/bacillusme/analysis/sensitivity.py\", line 115, in solve_model\n",
      "    verbosity=0,growth_key=growth_key)\n",
      "  File \"/home/jt/UCSD/bacillusme-master/bacillusme/util/helper_functions.py\", line 298, in solve_me_model\n",
      "    muopt, hs, xopt, cache = me_nlp.bisectmu(precision=precision, mumax=max_mu, verbosity=verbosity)\n",
      "  File \"/home/jt/UCSD/solvemepy-master/qminospy/me1.py\", line 465, in bisectmu\n",
      "    stat1, hs, sol1, x1 = checkmu(mu1, hs)\n",
      "  File \"/home/jt/UCSD/solvemepy-master/qminospy/me1.py\", line 439, in checkmu\n",
      "    precision=solver_precision)\n",
      "  File \"/home/jt/UCSD/solvemepy-master/qminospy/me2.py\", line 398, in solvelp\n",
      "    nrealopts = nRealOpts)\n",
      "KeyboardInterrupt\n",
      "Process ForkPoolWorker-71:\n",
      "Traceback (most recent call last):\n",
      "  File \"/opt/python3.6.8/lib/python3.6/multiprocessing/process.py\", line 258, in _bootstrap\n",
      "    self.run()\n",
      "  File \"/opt/python3.6.8/lib/python3.6/multiprocessing/process.py\", line 93, in run\n",
      "    self._target(*self._args, **self._kwargs)\n",
      "  File \"/opt/python3.6.8/lib/python3.6/multiprocessing/pool.py\", line 119, in worker\n",
      "    result = (True, func(*args, **kwds))\n",
      "  File \"/home/jt/UCSD/bacillusme-master/bacillusme/analysis/sensitivity.py\", line 104, in single_flux_response\n",
      "    solve_model(me,precision = precision,mu_fix=mu_fix,growth_key=growth_key)\n",
      "  File \"/home/jt/UCSD/bacillusme-master/bacillusme/analysis/sensitivity.py\", line 115, in solve_model\n",
      "    verbosity=0,growth_key=growth_key)\n",
      "  File \"/home/jt/UCSD/bacillusme-master/bacillusme/util/helper_functions.py\", line 298, in solve_me_model\n",
      "    muopt, hs, xopt, cache = me_nlp.bisectmu(precision=precision, mumax=max_mu, verbosity=verbosity)\n",
      "  File \"/home/jt/UCSD/solvemepy-master/qminospy/me1.py\", line 465, in bisectmu\n",
      "    stat1, hs, sol1, x1 = checkmu(mu1, hs)\n",
      "  File \"/home/jt/UCSD/solvemepy-master/qminospy/me1.py\", line 439, in checkmu\n",
      "    precision=solver_precision)\n",
      "  File \"/home/jt/UCSD/solvemepy-master/qminospy/me2.py\", line 398, in solvelp\n",
      "    nrealopts = nRealOpts)\n",
      "KeyboardInterrupt\n",
      "Process ForkPoolWorker-67:\n",
      "Traceback (most recent call last):\n",
      "  File \"/opt/python3.6.8/lib/python3.6/multiprocessing/process.py\", line 258, in _bootstrap\n",
      "    self.run()\n",
      "  File \"/opt/python3.6.8/lib/python3.6/multiprocessing/process.py\", line 93, in run\n",
      "    self._target(*self._args, **self._kwargs)\n",
      "  File \"/opt/python3.6.8/lib/python3.6/multiprocessing/pool.py\", line 119, in worker\n",
      "    result = (True, func(*args, **kwds))\n",
      "  File \"/home/jt/UCSD/bacillusme-master/bacillusme/analysis/sensitivity.py\", line 104, in single_flux_response\n",
      "    solve_model(me,precision = precision,mu_fix=mu_fix,growth_key=growth_key)\n",
      "  File \"/home/jt/UCSD/bacillusme-master/bacillusme/analysis/sensitivity.py\", line 115, in solve_model\n",
      "    verbosity=0,growth_key=growth_key)\n",
      "  File \"/home/jt/UCSD/bacillusme-master/bacillusme/util/helper_functions.py\", line 298, in solve_me_model\n",
      "    muopt, hs, xopt, cache = me_nlp.bisectmu(precision=precision, mumax=max_mu, verbosity=verbosity)\n",
      "  File \"/home/jt/UCSD/solvemepy-master/qminospy/me1.py\", line 465, in bisectmu\n",
      "    stat1, hs, sol1, x1 = checkmu(mu1, hs)\n",
      "  File \"/home/jt/UCSD/solvemepy-master/qminospy/me1.py\", line 439, in checkmu\n",
      "    precision=solver_precision)\n",
      "  File \"/home/jt/UCSD/solvemepy-master/qminospy/me2.py\", line 398, in solvelp\n",
      "    nrealopts = nRealOpts)\n",
      "KeyboardInterrupt\n",
      "Process ForkPoolWorker-70:\n",
      "Traceback (most recent call last):\n",
      "  File \"/opt/python3.6.8/lib/python3.6/multiprocessing/process.py\", line 258, in _bootstrap\n",
      "    self.run()\n",
      "  File \"/opt/python3.6.8/lib/python3.6/multiprocessing/process.py\", line 93, in run\n",
      "    self._target(*self._args, **self._kwargs)\n",
      "  File \"/opt/python3.6.8/lib/python3.6/multiprocessing/pool.py\", line 119, in worker\n",
      "    result = (True, func(*args, **kwds))\n",
      "  File \"/home/jt/UCSD/bacillusme-master/bacillusme/analysis/sensitivity.py\", line 104, in single_flux_response\n",
      "    solve_model(me,precision = precision,mu_fix=mu_fix,growth_key=growth_key)\n",
      "  File \"/home/jt/UCSD/bacillusme-master/bacillusme/analysis/sensitivity.py\", line 115, in solve_model\n",
      "    verbosity=0,growth_key=growth_key)\n",
      "  File \"/home/jt/UCSD/bacillusme-master/bacillusme/util/helper_functions.py\", line 298, in solve_me_model\n",
      "    muopt, hs, xopt, cache = me_nlp.bisectmu(precision=precision, mumax=max_mu, verbosity=verbosity)\n",
      "  File \"/home/jt/UCSD/solvemepy-master/qminospy/me1.py\", line 465, in bisectmu\n",
      "    stat1, hs, sol1, x1 = checkmu(mu1, hs)\n",
      "  File \"/home/jt/UCSD/solvemepy-master/qminospy/me1.py\", line 439, in checkmu\n",
      "    precision=solver_precision)\n",
      "  File \"/home/jt/UCSD/solvemepy-master/qminospy/me2.py\", line 398, in solvelp\n",
      "    nrealopts = nRealOpts)\n",
      "KeyboardInterrupt\n",
      "Process ForkPoolWorker-65:\n",
      "Traceback (most recent call last):\n",
      "  File \"/opt/python3.6.8/lib/python3.6/multiprocessing/process.py\", line 258, in _bootstrap\n",
      "    self.run()\n",
      "  File \"/opt/python3.6.8/lib/python3.6/multiprocessing/process.py\", line 93, in run\n",
      "    self._target(*self._args, **self._kwargs)\n",
      "  File \"/opt/python3.6.8/lib/python3.6/multiprocessing/pool.py\", line 119, in worker\n",
      "    result = (True, func(*args, **kwds))\n",
      "  File \"/home/jt/UCSD/bacillusme-master/bacillusme/analysis/sensitivity.py\", line 104, in single_flux_response\n",
      "    solve_model(me,precision = precision,mu_fix=mu_fix,growth_key=growth_key)\n",
      "  File \"/home/jt/UCSD/bacillusme-master/bacillusme/analysis/sensitivity.py\", line 115, in solve_model\n",
      "    verbosity=0,growth_key=growth_key)\n",
      "  File \"/home/jt/UCSD/bacillusme-master/bacillusme/util/helper_functions.py\", line 298, in solve_me_model\n",
      "    muopt, hs, xopt, cache = me_nlp.bisectmu(precision=precision, mumax=max_mu, verbosity=verbosity)\n",
      "  File \"/home/jt/UCSD/solvemepy-master/qminospy/me1.py\", line 465, in bisectmu\n",
      "    stat1, hs, sol1, x1 = checkmu(mu1, hs)\n",
      "  File \"/home/jt/UCSD/solvemepy-master/qminospy/me1.py\", line 439, in checkmu\n",
      "    precision=solver_precision)\n",
      "  File \"/home/jt/UCSD/solvemepy-master/qminospy/me2.py\", line 398, in solvelp\n",
      "    nrealopts = nRealOpts)\n",
      "KeyboardInterrupt\n",
      "Process ForkPoolWorker-68:\n",
      "Traceback (most recent call last):\n",
      "  File \"/opt/python3.6.8/lib/python3.6/multiprocessing/process.py\", line 258, in _bootstrap\n",
      "    self.run()\n",
      "  File \"/opt/python3.6.8/lib/python3.6/multiprocessing/process.py\", line 93, in run\n",
      "    self._target(*self._args, **self._kwargs)\n",
      "  File \"/opt/python3.6.8/lib/python3.6/multiprocessing/pool.py\", line 119, in worker\n",
      "    result = (True, func(*args, **kwds))\n",
      "  File \"/home/jt/UCSD/bacillusme-master/bacillusme/analysis/sensitivity.py\", line 104, in single_flux_response\n",
      "    solve_model(me,precision = precision,mu_fix=mu_fix,growth_key=growth_key)\n",
      "  File \"/home/jt/UCSD/bacillusme-master/bacillusme/analysis/sensitivity.py\", line 115, in solve_model\n",
      "    verbosity=0,growth_key=growth_key)\n",
      "  File \"/home/jt/UCSD/bacillusme-master/bacillusme/util/helper_functions.py\", line 298, in solve_me_model\n",
      "    muopt, hs, xopt, cache = me_nlp.bisectmu(precision=precision, mumax=max_mu, verbosity=verbosity)\n",
      "  File \"/home/jt/UCSD/solvemepy-master/qminospy/me1.py\", line 465, in bisectmu\n",
      "    stat1, hs, sol1, x1 = checkmu(mu1, hs)\n",
      "  File \"/home/jt/UCSD/solvemepy-master/qminospy/me1.py\", line 439, in checkmu\n",
      "    precision=solver_precision)\n",
      "  File \"/home/jt/UCSD/solvemepy-master/qminospy/me2.py\", line 398, in solvelp\n",
      "    nrealopts = nRealOpts)\n",
      "KeyboardInterrupt\n",
      "Process ForkPoolWorker-54:\n",
      "Traceback (most recent call last):\n",
      "  File \"/opt/python3.6.8/lib/python3.6/multiprocessing/process.py\", line 258, in _bootstrap\n",
      "    self.run()\n",
      "  File \"/opt/python3.6.8/lib/python3.6/multiprocessing/process.py\", line 93, in run\n",
      "    self._target(*self._args, **self._kwargs)\n",
      "  File \"/opt/python3.6.8/lib/python3.6/multiprocessing/pool.py\", line 119, in worker\n",
      "    result = (True, func(*args, **kwds))\n",
      "  File \"/home/jt/UCSD/bacillusme-master/bacillusme/analysis/sensitivity.py\", line 104, in single_flux_response\n",
      "    solve_model(me,precision = precision,mu_fix=mu_fix,growth_key=growth_key)\n",
      "  File \"/home/jt/UCSD/bacillusme-master/bacillusme/analysis/sensitivity.py\", line 115, in solve_model\n",
      "    verbosity=0,growth_key=growth_key)\n",
      "  File \"/home/jt/UCSD/bacillusme-master/bacillusme/util/helper_functions.py\", line 298, in solve_me_model\n",
      "    muopt, hs, xopt, cache = me_nlp.bisectmu(precision=precision, mumax=max_mu, verbosity=verbosity)\n",
      "  File \"/home/jt/UCSD/solvemepy-master/qminospy/me1.py\", line 465, in bisectmu\n",
      "    stat1, hs, sol1, x1 = checkmu(mu1, hs)\n",
      "  File \"/home/jt/UCSD/solvemepy-master/qminospy/me1.py\", line 439, in checkmu\n",
      "    precision=solver_precision)\n",
      "  File \"/home/jt/UCSD/solvemepy-master/qminospy/me2.py\", line 398, in solvelp\n",
      "    nrealopts = nRealOpts)\n",
      "KeyboardInterrupt\n"
     ]
    }
   ],
   "source": [
    "from bacillusme.analysis import sensitivity as ss\n",
    "flux_results_df = ss.transporter_knockout(sporeme,essential_transporters, \\\n",
    "                                        NP=20,solution=1,biomass_dilution='biomass_dilution_s',\\\n",
    "                                        growth_key = 'sigma')\n",
    "flux_results_df.to_csv('essential_transporter_KO_v4.csv')"
   ]
  },
  {
   "cell_type": "code",
   "execution_count": null,
   "metadata": {},
   "outputs": [],
   "source": [
    "flux_results_df = pd.read_csv('essential_transporter_KO_v4.csv',index_col=0)\n",
    "flux_results_df.loc['biomass_dilution_s'].plot.bar(figsize=(15,4))"
   ]
  },
  {
   "cell_type": "code",
   "execution_count": null,
   "metadata": {},
   "outputs": [],
   "source": [
    "# flux_results_df.loc['biomass_dilution_s',at_dict['arg__L_s']+at_dict['met__L_c']].plot.bar()"
   ]
  },
  {
   "cell_type": "code",
   "execution_count": null,
   "metadata": {},
   "outputs": [],
   "source": [
    "# for r in at_dict['arg__L_s']:\n",
    "#     rxn = sporeme.reactions.get_by_id(r)\n",
    "#     print(rxn.reaction)"
   ]
  },
  {
   "cell_type": "markdown",
   "metadata": {},
   "source": [
    "### Network visualization"
   ]
  },
  {
   "cell_type": "code",
   "execution_count": null,
   "metadata": {},
   "outputs": [],
   "source": [
    "import itertools\n",
    "import networkx as nx"
   ]
  },
  {
   "cell_type": "code",
   "execution_count": null,
   "metadata": {},
   "outputs": [],
   "source": [
    "flux_results_df = pd.read_csv('essential_transporter_KO_v4.csv',index_col=0)"
   ]
  },
  {
   "cell_type": "code",
   "execution_count": null,
   "metadata": {},
   "outputs": [],
   "source": [
    "flux_results_df.drop('base',axis=1)"
   ]
  },
  {
   "cell_type": "code",
   "execution_count": null,
   "metadata": {},
   "outputs": [],
   "source": [
    "G = nx.Graph()\n",
    "\n",
    "for r in essential_transporters:\n",
    "    rxn = sporeme.reactions.get_by_id(r)\n",
    "    mets = list(set([m.id[:-2] for m in rxn.metabolites if isinstance(m,cobrame.Metabolite)]))\n",
    "    combinations = list(itertools.combinations(mets, 2))\n",
    "    \n",
    "    for m in mets:\n",
    "        G.add_node(m,node_size=1000)\n",
    "    \n",
    "    for c in combinations:\n",
    "        G.add_edge(c[0],c[1])"
   ]
  },
  {
   "cell_type": "code",
   "execution_count": null,
   "metadata": {},
   "outputs": [],
   "source": [
    "print(\"Nodes of graph: \")\n",
    "print(G.nodes())\n",
    "print(\"Edges of graph: \")\n",
    "print(G.edges())"
   ]
  },
  {
   "cell_type": "code",
   "execution_count": null,
   "metadata": {},
   "outputs": [],
   "source": [
    "d = dict(G.degree)\n",
    "\n",
    "pos = nx.spring_layout(G)\n",
    "plt.figure(figsize=(13,8))\n",
    "nx.draw(G,pos=pos, nodelist=d.keys(), node_size=[v * 100 for v in d.values()],alpha=0.8)\n",
    "\n",
    "for label in pos.keys():\n",
    "    x,y = pos[label]\n",
    "    plt.text(x,y+0.09,s=label,horizontalalignment='center')\n",
    "\n",
    "plt.draw()\n",
    "plt.savefig(\"transport_graph_v4.svg\", format=\"SVG\")"
   ]
  },
  {
   "cell_type": "code",
   "execution_count": null,
   "metadata": {},
   "outputs": [],
   "source": []
  },
  {
   "cell_type": "code",
   "execution_count": null,
   "metadata": {},
   "outputs": [],
   "source": []
  },
  {
   "cell_type": "code",
   "execution_count": null,
   "metadata": {},
   "outputs": [],
   "source": []
  },
  {
   "cell_type": "code",
   "execution_count": null,
   "metadata": {},
   "outputs": [],
   "source": []
  },
  {
   "cell_type": "markdown",
   "metadata": {},
   "source": [
    "# Backup of previous analyses"
   ]
  },
  {
   "cell_type": "code",
   "execution_count": 39,
   "metadata": {
    "scrolled": true
   },
   "outputs": [],
   "source": [
    "# flux_dict = {}\n",
    "# b = 0\n",
    "# for met in tqdm(sorted_mets):\n",
    "#     transport = at_dict[met]\n",
    "    \n",
    "#     if b == 1:\n",
    "#         flux_dict[met] = {r.id:0. for r in sporeme.reactions}\n",
    "#         continue\n",
    "    \n",
    "#     for r in transport:\n",
    "#         rxn = sporeme.reactions.get_by_id(r)\n",
    "#         rxn.lower_bound = 0\n",
    "#         rxn.upper_bound = 0\n",
    "#     solve_me_model(sporeme, max_mu = 0.5, min_mu = .05, using_soplex=False, precision = 1e-4,growth_key = 'sigma',\n",
    "#                   verbosity = 0)\n",
    "#     if sporeme.solution:\n",
    "#         flux_dict[met] = sporeme.solution.x_dict\n",
    "#     else:\n",
    "#         flux_dict[met] = {r.id:0. for r in sporeme.reactions}\n",
    "#         b = 1\n",
    "# flux_results_df = pd.DataFrame.from_dict(flux_dict)\n"
   ]
  },
  {
   "cell_type": "markdown",
   "metadata": {},
   "source": [
    "## Single KO"
   ]
  },
  {
   "cell_type": "code",
   "execution_count": null,
   "metadata": {
    "scrolled": true
   },
   "outputs": [],
   "source": [
    "from bacillusme.analysis import sensitivity as ss\n",
    "flux_results_df = ss.transporter_knockout(sporeme,active_transporters, \\\n",
    "                                        NP=10,solution=1,biomass_dilution='biomass_dilution_s',\\\n",
    "                                        growth_key = 'sigma')\n",
    "flux_results_df.to_csv('comm_transport_flux_results.csv')"
   ]
  },
  {
   "cell_type": "code",
   "execution_count": null,
   "metadata": {},
   "outputs": [],
   "source": [
    "# All of them:\n",
    "flux_results_df = pd.read_csv('comm_transport_flux_results.csv',index_col=0)\n",
    "(n, bins, patches) = plt.hist(flux_results_df.loc['biomass_dilution_s'])\n",
    "plt.xlabel('Growth rate')\n",
    "plt.ylabel('Counts')"
   ]
  },
  {
   "cell_type": "code",
   "execution_count": null,
   "metadata": {},
   "outputs": [],
   "source": [
    "transport_dict = {}\n",
    "for candidate in flux_results_df.drop('base',axis=1).columns:\n",
    "    r = sporeme.reactions.get_by_id(candidate)\n",
    "    mets = []\n",
    "    [mets.append(re.split('_.$',m.id)[0]) for m in r.metabolites if isinstance(m,cobrame.Metabolite) and 'h_' not in m.id]\n",
    "    mets = list(set(mets))\n",
    "    transport_dict[candidate] = mets[0]\n",
    "    \n",
    "plt.figure(figsize=(13,3))\n",
    "flux_results_df.loc['biomass_dilution_s'].sort_values().plot.bar()\n",
    "plt.xlabel('Single knockout')\n",
    "plt.ylabel('Spore growth rate')"
   ]
  },
  {
   "cell_type": "code",
   "execution_count": null,
   "metadata": {},
   "outputs": [],
   "source": [
    "# Important transporters without gene so far\n",
    "df = flux_results_df.loc['biomass_dilution_s'].sort_values().head(20)\n",
    "df[df.index.str.contains('dummy')]"
   ]
  },
  {
   "cell_type": "code",
   "execution_count": null,
   "metadata": {},
   "outputs": [],
   "source": [
    "output = flux_results_df.loc[flux_results_df.columns.to_list()+['biomass_dilution_s']]\n",
    "output = output[output.any(axis=1)] # Only reactions that carried flux in at least one knockout"
   ]
  },
  {
   "cell_type": "code",
   "execution_count": null,
   "metadata": {},
   "outputs": [],
   "source": [
    "plt.figure(figsize = (13,5))\n",
    "cluster_df = pd.DataFrame(stats.zscore(output,axis=1),\n",
    "                            index=output.index,columns=output.columns)\n",
    "cluster_df = cluster_df.loc[:,output.loc['biomass_dilution_s']<bins[-1]]\n",
    "sns.clustermap(cluster_df,col_cluster=1,row_cluster=1,cmap=\"mako\")\n",
    "plt.savefig('clustermap_filtered')"
   ]
  },
  {
   "cell_type": "markdown",
   "metadata": {},
   "source": [
    "Identify essential transporters so far. These are stored and taken out as they are already results."
   ]
  },
  {
   "cell_type": "code",
   "execution_count": null,
   "metadata": {},
   "outputs": [],
   "source": [
    "essential_transporters = list(output.columns[output.loc['biomass_dilution_s'] < 0.001])\n",
    "non_essential_transporter = list(output.columns[output.loc['biomass_dilution_s'] >= bins[-1]])\n",
    "\n",
    "# Remove non-essential\n",
    "candidates_df = output.drop(non_essential_transporter,axis=1)\n",
    "# Remove the ones that we now already are essential\n",
    "candidates_df = candidates_df.drop(essential_transporters,axis=1)\n",
    "\n",
    "print('{} transporters are obviously non-essential: {} \\n'.format(len(non_essential_transporter),non_essential_transporter))\n",
    "print('So far, {} transporters are obviously essential: {} \\n'.format(len(essential_transporters),essential_transporters))\n",
    "\n",
    "print('There are {} candidates: {} \\n'.format(len(candidates_df.columns),candidates_df.columns.values))"
   ]
  },
  {
   "cell_type": "code",
   "execution_count": null,
   "metadata": {},
   "outputs": [],
   "source": [
    "# The rest:\n",
    "(n, bins, patches) = plt.hist(candidates_df.loc['biomass_dilution_s'])\n",
    "plt.xlabel('Growth rate')\n",
    "plt.ylabel('Counts')"
   ]
  },
  {
   "cell_type": "code",
   "execution_count": null,
   "metadata": {},
   "outputs": [],
   "source": [
    "output = candidates_df.loc[candidates_df.columns.to_list()+['biomass_dilution_s']]\n",
    "output = output[output.any(axis=1)] # Only reactions that carried flux in at least one knockout"
   ]
  },
  {
   "cell_type": "code",
   "execution_count": null,
   "metadata": {},
   "outputs": [],
   "source": [
    "cluster_df = pd.DataFrame(stats.zscore(output,axis=1),\n",
    "                            index=output.index,columns=output.columns)\n",
    "cm = sns.clustermap(cluster_df,col_cluster=1,row_cluster=1,cmap=\"mako\",yticklabels=1,xticklabels=1)\n",
    "\n",
    "plt.savefig('clustermap_filtered')"
   ]
  },
  {
   "cell_type": "code",
   "execution_count": null,
   "metadata": {},
   "outputs": [],
   "source": [
    "# 1. Pairwise interaction knockout\n",
    "# 2. Find minimal set of transporters. Sort values and close less essential first. \n",
    "# Ignore those transporters that are not active. Restore them if they are turned on again to compensate.\n",
    "# 3. Do these simulations change with different NGAM?"
   ]
  },
  {
   "cell_type": "markdown",
   "metadata": {
    "tags": []
   },
   "source": [
    "## Pairwise interaction"
   ]
  },
  {
   "cell_type": "code",
   "execution_count": null,
   "metadata": {
    "tags": []
   },
   "outputs": [],
   "source": [
    "from bacillusme.analysis import sensitivity as ss\n",
    "transport_reactions_filtered = cluster_df.columns.values\n",
    "base_model = copy.deepcopy(sporeme)"
   ]
  },
  {
   "cell_type": "code",
   "execution_count": null,
   "metadata": {
    "tags": []
   },
   "outputs": [],
   "source": [
    "from scipy.special import binom\n",
    "print('With {} knockouts there can be {} pairs'.format(len(transport_reactions_filtered),binom(len(transport_reactions_filtered),2)))"
   ]
  },
  {
   "cell_type": "code",
   "execution_count": null,
   "metadata": {
    "scrolled": true,
    "tags": []
   },
   "outputs": [],
   "source": [
    "for r in transport_reactions_filtered:\n",
    "    # Restore\n",
    "    sporeme = copy.deepcopy(base_model)\n",
    "    \n",
    "    # Close transporter\n",
    "    rxn = sporeme.reactions.get_by_id(r)\n",
    "    rxn.lower_bound = 0\n",
    "    rxn.upper_bound = 0\n",
    "    \n",
    "    # Calculation\n",
    "    flux_results_df = ss.transporter_knockout(sporeme,transport_reactions_filtered, \\\n",
    "                                        NP=10,solution=1,biomass_dilution='biomass_dilution_s',\\\n",
    "                                        growth_key = 'sigma')\n",
    "    flux_results_df.to_csv('transporter_knockouts/{}.csv'.format(r))"
   ]
  },
  {
   "cell_type": "code",
   "execution_count": null,
   "metadata": {
    "tags": []
   },
   "outputs": [],
   "source": [
    "# Read and process\n",
    "gr_df = pd.DataFrame(index=transport_reactions_filtered)\n",
    "for r in transport_reactions_filtered:\n",
    "    flux_results_df=pd.read_csv('transporter_knockouts/{}.csv'.format(r),index_col=0).drop('base',axis=1)\n",
    "    for i in transport_reactions_filtered:\n",
    "        gr_df.loc[r,i] = flux_results_df.loc['biomass_dilution_s',i]"
   ]
  },
  {
   "cell_type": "code",
   "execution_count": null,
   "metadata": {
    "tags": []
   },
   "outputs": [],
   "source": [
    "plt.figure(figsize = (13,5))\n",
    "output = gr_df.loc[gr_df.any(axis=1),gr_df.any(axis=0)].drop('H2Ot_FWD_CPLX_dummy_s',axis=0).drop('H2Ot_FWD_CPLX_dummy_s',axis=1)\n",
    "cluster_df = pd.DataFrame(stats.zscore(output,axis=1),\n",
    "                            index=output.index,columns=output.columns)\n",
    "sns.clustermap(output,col_cluster=1,row_cluster=1, cmap='mako')\n",
    "plt.savefig('pairwise_growth')"
   ]
  },
  {
   "cell_type": "markdown",
   "metadata": {},
   "source": [
    "## Check for other possible transporters"
   ]
  },
  {
   "cell_type": "markdown",
   "metadata": {
    "tags": []
   },
   "source": [
    "Close each one of the active 51 transporters and check for all other transporters that might turn on. Then include all in the analysis."
   ]
  },
  {
   "cell_type": "code",
   "execution_count": null,
   "metadata": {
    "scrolled": true,
    "tags": []
   },
   "outputs": [],
   "source": [
    "with open(\"./sporeme_solution.pickle\", \"rb\") as outfile:\n",
    "    sporeme = pickle.load(outfile)"
   ]
  },
  {
   "cell_type": "code",
   "execution_count": null,
   "metadata": {
    "tags": []
   },
   "outputs": [],
   "source": [
    "closed_flux_results_df = pd.read_csv('comm_transport_flux_results.csv',index_col=0).drop('base',axis=1)"
   ]
  },
  {
   "cell_type": "code",
   "execution_count": null,
   "metadata": {
    "scrolled": true,
    "tags": []
   },
   "outputs": [],
   "source": [
    "from bacillusme.analysis import sensitivity as ss\n",
    "flux_results_df = ss.transporter_knockout(sporeme,active_transporters, \\\n",
    "                                        NP=10,solution=1,biomass_dilution='biomass_dilution_s',\\\n",
    "                                        growth_key = 'sigma')\n",
    "flux_results_df.to_csv('single_ko_all_open.csv')"
   ]
  },
  {
   "cell_type": "code",
   "execution_count": null,
   "metadata": {
    "tags": []
   },
   "outputs": [],
   "source": [
    "flux_results_df = pd.read_csv('single_ko_all_open.csv',index_col=0)"
   ]
  },
  {
   "cell_type": "code",
   "execution_count": null,
   "metadata": {
    "scrolled": true,
    "tags": []
   },
   "outputs": [],
   "source": [
    "new_transporters = []\n",
    "for r in transport_reactions:\n",
    "    if (flux_results_df.loc[r]>0).any() and r not in active_transporters:\n",
    "        new_transporters.append(r)\n",
    "        \n",
    "        print('REACTION:',r,flux_results_df.loc[r,'base'])\n",
    "        print(flux_results_df[flux_results_df.columns[flux_results_df.loc[r]>0]].loc[r])\n",
    "        print('\\n')"
   ]
  },
  {
   "cell_type": "code",
   "execution_count": null,
   "metadata": {
    "tags": []
   },
   "outputs": [],
   "source": [
    "include_transporters = new_transporters\n",
    "output = flux_results_df.loc[include_transporters,active_transporters]"
   ]
  },
  {
   "cell_type": "code",
   "execution_count": null,
   "metadata": {
    "tags": []
   },
   "outputs": [],
   "source": [
    "cluster_df = pd.DataFrame(stats.zscore(output,axis=1),\n",
    "                            index=output.index,columns=output.columns)\n",
    "sns.clustermap(cluster_df,col_cluster=1,row_cluster=1, cmap='mako',yticklabels=1,xticklabels=1,figsize=(13,13))\n",
    "plt.savefig('transporters_turned_on')"
   ]
  },
  {
   "cell_type": "markdown",
   "metadata": {},
   "source": [
    "### Mini robustness"
   ]
  },
  {
   "cell_type": "code",
   "execution_count": null,
   "metadata": {
    "tags": []
   },
   "outputs": [],
   "source": [
    "transport_reactions = ['ASPt2r_FWD_CPLX_dummy_s','4FE4St_s','PSER_Lt6_FWD_CPLX_dummy_s','CBL1t_s']"
   ]
  },
  {
   "cell_type": "code",
   "execution_count": null,
   "metadata": {
    "tags": []
   },
   "outputs": [],
   "source": [
    "from bacillusme.analysis import sensitivity as ss\n",
    "flux_results_df = ss.transporter_knockout(sporeme,transport_reactions, \\\n",
    "                                        NP=10,solution=1,biomass_dilution='biomass_dilution_s',\\\n",
    "                                        growth_key = 'sigma',overexpress=True)\n",
    "flux_results_df.to_csv('overexpress_flux_results.csv')"
   ]
  },
  {
   "cell_type": "code",
   "execution_count": null,
   "metadata": {
    "tags": []
   },
   "outputs": [],
   "source": [
    "flux_results_df = pd.read_csv('overexpress_flux_results.csv',index_col=0)"
   ]
  },
  {
   "cell_type": "code",
   "execution_count": null,
   "metadata": {
    "tags": []
   },
   "outputs": [],
   "source": [
    "output = flux_results_df.loc[flux_results_df.columns.to_list()+['biomass_dilution_s']]\n",
    "output = output[output.any(axis=1)] # Only reactions that carried flux in at least one knockout"
   ]
  },
  {
   "cell_type": "code",
   "execution_count": null,
   "metadata": {
    "tags": []
   },
   "outputs": [],
   "source": [
    "plt.figure(figsize = (13,5))\n",
    "cluster_df = pd.DataFrame(stats.zscore(output,axis=1),\n",
    "                            index=output.index,columns=output.columns)\n",
    "sns.clustermap(cluster_df,col_cluster=1,row_cluster=1,cmap=\"mako\")\n",
    "plt.savefig('clustermap_filtered')"
   ]
  },
  {
   "cell_type": "markdown",
   "metadata": {},
   "source": [
    "#### Pairwise interaction"
   ]
  },
  {
   "cell_type": "code",
   "execution_count": 96,
   "metadata": {
    "scrolled": true
   },
   "outputs": [],
   "source": [
    "with open(\"./sporeme_solution.pickle\", \"rb\") as outfile:\n",
    "    sporeme = pickle.load(outfile)"
   ]
  },
  {
   "cell_type": "code",
   "execution_count": 97,
   "metadata": {},
   "outputs": [],
   "source": [
    "for r in transport_reactions:\n",
    "    if r not in essential_transporters and 'SPONT' not in r:\n",
    "        rxn = sporeme.reactions.get_by_id(r)\n",
    "        rxn.upper_bound = 0 \n",
    "        rxn.lower_bound = 0"
   ]
  },
  {
   "cell_type": "code",
   "execution_count": 98,
   "metadata": {},
   "outputs": [],
   "source": [
    "flux_results_df = pd.read_csv('essential_metabolite_group_KO.csv',index_col=0)\n",
    "essential_metabolites = flux_results_df.drop('base',axis=1).columns.values\n",
    "base_model = copy.deepcopy(sporeme)"
   ]
  },
  {
   "cell_type": "code",
   "execution_count": 99,
   "metadata": {},
   "outputs": [
    {
     "name": "stdout",
     "output_type": "stream",
     "text": [
      "With 21 knockouts there can be 210.0 pairs\n"
     ]
    }
   ],
   "source": [
    "from scipy.special import binom\n",
    "print('With {} knockouts there can be {} pairs'.format(len(essential_metabolites),binom(len(essential_metabolites),2)))"
   ]
  },
  {
   "cell_type": "code",
   "execution_count": null,
   "metadata": {
    "scrolled": true
   },
   "outputs": [
    {
     "name": "stdout",
     "output_type": "stream",
     "text": [
      "Chosen change function: group_knockout      Sequential = False\n"
     ]
    },
    {
     "name": "stderr",
     "output_type": "stream",
     "text": [
      "\n",
      "\n",
      "\n",
      "\n",
      "\n",
      "\n",
      "\n",
      "\n",
      "\n",
      "\n",
      "\n",
      "\n",
      "\n",
      "\n",
      "\n",
      "\n",
      "\n",
      "\n",
      "\n",
      "\n",
      "\n",
      "\n",
      "  0%|          | 0/21 [00:00<?, ?it/s]\u001b[A\u001b[A\u001b[A\u001b[A\u001b[A\u001b[A\u001b[A\u001b[A\u001b[A\u001b[A\u001b[A\u001b[A\u001b[A\u001b[A\u001b[A\u001b[A\u001b[A\u001b[A\u001b[A\u001b[A\u001b[A\u001b[A\n",
      "\n",
      "\n",
      "\n",
      "\n",
      "\n",
      "\n",
      "\n",
      "\n",
      "\n",
      "\n",
      "\n",
      "\n",
      "\n",
      "\n",
      "\n",
      "\n",
      "\n",
      "\n",
      "\n",
      "\n",
      "\n",
      "biomass_dilution_s response (20 threads):   0%|          | 0/21 [00:00<?, ?it/s]\u001b[A\u001b[A\u001b[A\u001b[A\u001b[A\u001b[A\u001b[A\u001b[A\u001b[A\u001b[A\u001b[A\u001b[A\u001b[A\u001b[A\u001b[A\u001b[A\u001b[A\u001b[A\u001b[A\u001b[A\u001b[A\u001b[A"
     ]
    }
   ],
   "source": [
    "from bacillusme.analysis import sensitivity as ss\n",
    "for met in essential_metabolites:\n",
    "    # Restore\n",
    "    sporeme = copy.deepcopy(base_model)\n",
    "    \n",
    "    # Close transporter\n",
    "    for r in at_dict[met]:\n",
    "        rxn = sporeme.reactions.get_by_id(r)\n",
    "        rxn.lower_bound = 0\n",
    "        rxn.upper_bound = 0\n",
    "    \n",
    "    # Calculation\n",
    "    flux_results_df = ss.transporter_knockout(sporeme,essential_metabolites, \\\n",
    "                                        NP=20,solution=1,biomass_dilution='biomass_dilution_s',\\\n",
    "                                        growth_key = 'sigma',single_change_function='group_knockout')\n",
    "    flux_results_df.to_csv('group_transporter_knockouts/{}.csv'.format(met))"
   ]
  },
  {
   "cell_type": "code",
   "execution_count": 102,
   "metadata": {},
   "outputs": [
    {
     "data": {
      "text/html": [
       "<div>\n",
       "<style scoped>\n",
       "    .dataframe tbody tr th:only-of-type {\n",
       "        vertical-align: middle;\n",
       "    }\n",
       "\n",
       "    .dataframe tbody tr th {\n",
       "        vertical-align: top;\n",
       "    }\n",
       "\n",
       "    .dataframe thead th {\n",
       "        text-align: right;\n",
       "    }\n",
       "</style>\n",
       "<table border=\"1\" class=\"dataframe\">\n",
       "  <thead>\n",
       "    <tr style=\"text-align: right;\">\n",
       "      <th></th>\n",
       "      <th>base</th>\n",
       "      <th>arg__L_s</th>\n",
       "      <th>zn2_s</th>\n",
       "      <th>so4_s</th>\n",
       "      <th>acnam_s</th>\n",
       "      <th>pser__L_s</th>\n",
       "      <th>6pgc_s</th>\n",
       "      <th>asp__L_s</th>\n",
       "      <th>k_s</th>\n",
       "      <th>gmp_s</th>\n",
       "      <th>...</th>\n",
       "      <th>pyr_c</th>\n",
       "      <th>cbl1_s</th>\n",
       "      <th>mg2_s</th>\n",
       "      <th>pi_c</th>\n",
       "      <th>3amp_s</th>\n",
       "      <th>adn_c</th>\n",
       "      <th>man6p_c</th>\n",
       "      <th>mn2_s</th>\n",
       "      <th>f6p_s</th>\n",
       "      <th>met__L_c</th>\n",
       "    </tr>\n",
       "  </thead>\n",
       "  <tbody>\n",
       "    <tr>\n",
       "      <th>biomass_dilution</th>\n",
       "      <td>0.046832</td>\n",
       "      <td>0.0</td>\n",
       "      <td>0.0</td>\n",
       "      <td>0.0</td>\n",
       "      <td>0.0</td>\n",
       "      <td>0.0</td>\n",
       "      <td>0.0</td>\n",
       "      <td>0.0</td>\n",
       "      <td>0.0</td>\n",
       "      <td>0.0</td>\n",
       "      <td>...</td>\n",
       "      <td>0.0</td>\n",
       "      <td>0.0</td>\n",
       "      <td>0.0</td>\n",
       "      <td>0.0</td>\n",
       "      <td>0.0</td>\n",
       "      <td>0.0</td>\n",
       "      <td>0.0</td>\n",
       "      <td>0.0</td>\n",
       "      <td>0.0</td>\n",
       "      <td>0.0</td>\n",
       "    </tr>\n",
       "    <tr>\n",
       "      <th>protein_biomass_to_biomass</th>\n",
       "      <td>0.026954</td>\n",
       "      <td>0.0</td>\n",
       "      <td>0.0</td>\n",
       "      <td>0.0</td>\n",
       "      <td>0.0</td>\n",
       "      <td>0.0</td>\n",
       "      <td>0.0</td>\n",
       "      <td>0.0</td>\n",
       "      <td>0.0</td>\n",
       "      <td>0.0</td>\n",
       "      <td>...</td>\n",
       "      <td>0.0</td>\n",
       "      <td>0.0</td>\n",
       "      <td>0.0</td>\n",
       "      <td>0.0</td>\n",
       "      <td>0.0</td>\n",
       "      <td>0.0</td>\n",
       "      <td>0.0</td>\n",
       "      <td>0.0</td>\n",
       "      <td>0.0</td>\n",
       "      <td>0.0</td>\n",
       "    </tr>\n",
       "    <tr>\n",
       "      <th>mRNA_biomass_to_biomass</th>\n",
       "      <td>0.000092</td>\n",
       "      <td>0.0</td>\n",
       "      <td>0.0</td>\n",
       "      <td>0.0</td>\n",
       "      <td>0.0</td>\n",
       "      <td>0.0</td>\n",
       "      <td>0.0</td>\n",
       "      <td>0.0</td>\n",
       "      <td>0.0</td>\n",
       "      <td>0.0</td>\n",
       "      <td>...</td>\n",
       "      <td>0.0</td>\n",
       "      <td>0.0</td>\n",
       "      <td>0.0</td>\n",
       "      <td>0.0</td>\n",
       "      <td>0.0</td>\n",
       "      <td>0.0</td>\n",
       "      <td>0.0</td>\n",
       "      <td>0.0</td>\n",
       "      <td>0.0</td>\n",
       "      <td>0.0</td>\n",
       "    </tr>\n",
       "    <tr>\n",
       "      <th>tRNA_biomass_to_biomass</th>\n",
       "      <td>0.000544</td>\n",
       "      <td>0.0</td>\n",
       "      <td>0.0</td>\n",
       "      <td>0.0</td>\n",
       "      <td>0.0</td>\n",
       "      <td>0.0</td>\n",
       "      <td>0.0</td>\n",
       "      <td>0.0</td>\n",
       "      <td>0.0</td>\n",
       "      <td>0.0</td>\n",
       "      <td>...</td>\n",
       "      <td>0.0</td>\n",
       "      <td>0.0</td>\n",
       "      <td>0.0</td>\n",
       "      <td>0.0</td>\n",
       "      <td>0.0</td>\n",
       "      <td>0.0</td>\n",
       "      <td>0.0</td>\n",
       "      <td>0.0</td>\n",
       "      <td>0.0</td>\n",
       "      <td>0.0</td>\n",
       "    </tr>\n",
       "    <tr>\n",
       "      <th>rRNA_biomass_to_biomass</th>\n",
       "      <td>0.004027</td>\n",
       "      <td>0.0</td>\n",
       "      <td>0.0</td>\n",
       "      <td>0.0</td>\n",
       "      <td>0.0</td>\n",
       "      <td>0.0</td>\n",
       "      <td>0.0</td>\n",
       "      <td>0.0</td>\n",
       "      <td>0.0</td>\n",
       "      <td>0.0</td>\n",
       "      <td>...</td>\n",
       "      <td>0.0</td>\n",
       "      <td>0.0</td>\n",
       "      <td>0.0</td>\n",
       "      <td>0.0</td>\n",
       "      <td>0.0</td>\n",
       "      <td>0.0</td>\n",
       "      <td>0.0</td>\n",
       "      <td>0.0</td>\n",
       "      <td>0.0</td>\n",
       "      <td>0.0</td>\n",
       "    </tr>\n",
       "    <tr>\n",
       "      <th>...</th>\n",
       "      <td>...</td>\n",
       "      <td>...</td>\n",
       "      <td>...</td>\n",
       "      <td>...</td>\n",
       "      <td>...</td>\n",
       "      <td>...</td>\n",
       "      <td>...</td>\n",
       "      <td>...</td>\n",
       "      <td>...</td>\n",
       "      <td>...</td>\n",
       "      <td>...</td>\n",
       "      <td>...</td>\n",
       "      <td>...</td>\n",
       "      <td>...</td>\n",
       "      <td>...</td>\n",
       "      <td>...</td>\n",
       "      <td>...</td>\n",
       "      <td>...</td>\n",
       "      <td>...</td>\n",
       "      <td>...</td>\n",
       "      <td>...</td>\n",
       "    </tr>\n",
       "    <tr>\n",
       "      <th>Demand_psetha_BS_s</th>\n",
       "      <td>0.112613</td>\n",
       "      <td>0.0</td>\n",
       "      <td>0.0</td>\n",
       "      <td>0.0</td>\n",
       "      <td>0.0</td>\n",
       "      <td>0.0</td>\n",
       "      <td>0.0</td>\n",
       "      <td>0.0</td>\n",
       "      <td>0.0</td>\n",
       "      <td>0.0</td>\n",
       "      <td>...</td>\n",
       "      <td>0.0</td>\n",
       "      <td>0.0</td>\n",
       "      <td>0.0</td>\n",
       "      <td>0.0</td>\n",
       "      <td>0.0</td>\n",
       "      <td>0.0</td>\n",
       "      <td>0.0</td>\n",
       "      <td>0.0</td>\n",
       "      <td>0.0</td>\n",
       "      <td>0.0</td>\n",
       "    </tr>\n",
       "    <tr>\n",
       "      <th>Demand_t12dg_BS_s</th>\n",
       "      <td>0.112613</td>\n",
       "      <td>0.0</td>\n",
       "      <td>0.0</td>\n",
       "      <td>0.0</td>\n",
       "      <td>0.0</td>\n",
       "      <td>0.0</td>\n",
       "      <td>0.0</td>\n",
       "      <td>0.0</td>\n",
       "      <td>0.0</td>\n",
       "      <td>0.0</td>\n",
       "      <td>...</td>\n",
       "      <td>0.0</td>\n",
       "      <td>0.0</td>\n",
       "      <td>0.0</td>\n",
       "      <td>0.0</td>\n",
       "      <td>0.0</td>\n",
       "      <td>0.0</td>\n",
       "      <td>0.0</td>\n",
       "      <td>0.0</td>\n",
       "      <td>0.0</td>\n",
       "      <td>0.0</td>\n",
       "    </tr>\n",
       "    <tr>\n",
       "      <th>Demand_gtca3_45_BS_s</th>\n",
       "      <td>0.112613</td>\n",
       "      <td>0.0</td>\n",
       "      <td>0.0</td>\n",
       "      <td>0.0</td>\n",
       "      <td>0.0</td>\n",
       "      <td>0.0</td>\n",
       "      <td>0.0</td>\n",
       "      <td>0.0</td>\n",
       "      <td>0.0</td>\n",
       "      <td>0.0</td>\n",
       "      <td>...</td>\n",
       "      <td>0.0</td>\n",
       "      <td>0.0</td>\n",
       "      <td>0.0</td>\n",
       "      <td>0.0</td>\n",
       "      <td>0.0</td>\n",
       "      <td>0.0</td>\n",
       "      <td>0.0</td>\n",
       "      <td>0.0</td>\n",
       "      <td>0.0</td>\n",
       "      <td>0.0</td>\n",
       "    </tr>\n",
       "    <tr>\n",
       "      <th>Demand_lipo1_24_BS_s</th>\n",
       "      <td>0.112613</td>\n",
       "      <td>0.0</td>\n",
       "      <td>0.0</td>\n",
       "      <td>0.0</td>\n",
       "      <td>0.0</td>\n",
       "      <td>0.0</td>\n",
       "      <td>0.0</td>\n",
       "      <td>0.0</td>\n",
       "      <td>0.0</td>\n",
       "      <td>0.0</td>\n",
       "      <td>...</td>\n",
       "      <td>0.0</td>\n",
       "      <td>0.0</td>\n",
       "      <td>0.0</td>\n",
       "      <td>0.0</td>\n",
       "      <td>0.0</td>\n",
       "      <td>0.0</td>\n",
       "      <td>0.0</td>\n",
       "      <td>0.0</td>\n",
       "      <td>0.0</td>\n",
       "      <td>0.0</td>\n",
       "    </tr>\n",
       "    <tr>\n",
       "      <th>Demand_tcam_BS_s</th>\n",
       "      <td>0.112613</td>\n",
       "      <td>0.0</td>\n",
       "      <td>0.0</td>\n",
       "      <td>0.0</td>\n",
       "      <td>0.0</td>\n",
       "      <td>0.0</td>\n",
       "      <td>0.0</td>\n",
       "      <td>0.0</td>\n",
       "      <td>0.0</td>\n",
       "      <td>0.0</td>\n",
       "      <td>...</td>\n",
       "      <td>0.0</td>\n",
       "      <td>0.0</td>\n",
       "      <td>0.0</td>\n",
       "      <td>0.0</td>\n",
       "      <td>0.0</td>\n",
       "      <td>0.0</td>\n",
       "      <td>0.0</td>\n",
       "      <td>0.0</td>\n",
       "      <td>0.0</td>\n",
       "      <td>0.0</td>\n",
       "    </tr>\n",
       "  </tbody>\n",
       "</table>\n",
       "<p>12339 rows × 22 columns</p>\n",
       "</div>"
      ],
      "text/plain": [
       "                                base  arg__L_s  zn2_s  so4_s  acnam_s  \\\n",
       "biomass_dilution            0.046832       0.0    0.0    0.0      0.0   \n",
       "protein_biomass_to_biomass  0.026954       0.0    0.0    0.0      0.0   \n",
       "mRNA_biomass_to_biomass     0.000092       0.0    0.0    0.0      0.0   \n",
       "tRNA_biomass_to_biomass     0.000544       0.0    0.0    0.0      0.0   \n",
       "rRNA_biomass_to_biomass     0.004027       0.0    0.0    0.0      0.0   \n",
       "...                              ...       ...    ...    ...      ...   \n",
       "Demand_psetha_BS_s          0.112613       0.0    0.0    0.0      0.0   \n",
       "Demand_t12dg_BS_s           0.112613       0.0    0.0    0.0      0.0   \n",
       "Demand_gtca3_45_BS_s        0.112613       0.0    0.0    0.0      0.0   \n",
       "Demand_lipo1_24_BS_s        0.112613       0.0    0.0    0.0      0.0   \n",
       "Demand_tcam_BS_s            0.112613       0.0    0.0    0.0      0.0   \n",
       "\n",
       "                            pser__L_s  6pgc_s  asp__L_s  k_s  gmp_s  ...  \\\n",
       "biomass_dilution                  0.0     0.0       0.0  0.0    0.0  ...   \n",
       "protein_biomass_to_biomass        0.0     0.0       0.0  0.0    0.0  ...   \n",
       "mRNA_biomass_to_biomass           0.0     0.0       0.0  0.0    0.0  ...   \n",
       "tRNA_biomass_to_biomass           0.0     0.0       0.0  0.0    0.0  ...   \n",
       "rRNA_biomass_to_biomass           0.0     0.0       0.0  0.0    0.0  ...   \n",
       "...                               ...     ...       ...  ...    ...  ...   \n",
       "Demand_psetha_BS_s                0.0     0.0       0.0  0.0    0.0  ...   \n",
       "Demand_t12dg_BS_s                 0.0     0.0       0.0  0.0    0.0  ...   \n",
       "Demand_gtca3_45_BS_s              0.0     0.0       0.0  0.0    0.0  ...   \n",
       "Demand_lipo1_24_BS_s              0.0     0.0       0.0  0.0    0.0  ...   \n",
       "Demand_tcam_BS_s                  0.0     0.0       0.0  0.0    0.0  ...   \n",
       "\n",
       "                            pyr_c  cbl1_s  mg2_s  pi_c  3amp_s  adn_c  \\\n",
       "biomass_dilution              0.0     0.0    0.0   0.0     0.0    0.0   \n",
       "protein_biomass_to_biomass    0.0     0.0    0.0   0.0     0.0    0.0   \n",
       "mRNA_biomass_to_biomass       0.0     0.0    0.0   0.0     0.0    0.0   \n",
       "tRNA_biomass_to_biomass       0.0     0.0    0.0   0.0     0.0    0.0   \n",
       "rRNA_biomass_to_biomass       0.0     0.0    0.0   0.0     0.0    0.0   \n",
       "...                           ...     ...    ...   ...     ...    ...   \n",
       "Demand_psetha_BS_s            0.0     0.0    0.0   0.0     0.0    0.0   \n",
       "Demand_t12dg_BS_s             0.0     0.0    0.0   0.0     0.0    0.0   \n",
       "Demand_gtca3_45_BS_s          0.0     0.0    0.0   0.0     0.0    0.0   \n",
       "Demand_lipo1_24_BS_s          0.0     0.0    0.0   0.0     0.0    0.0   \n",
       "Demand_tcam_BS_s              0.0     0.0    0.0   0.0     0.0    0.0   \n",
       "\n",
       "                            man6p_c  mn2_s  f6p_s  met__L_c  \n",
       "biomass_dilution                0.0    0.0    0.0       0.0  \n",
       "protein_biomass_to_biomass      0.0    0.0    0.0       0.0  \n",
       "mRNA_biomass_to_biomass         0.0    0.0    0.0       0.0  \n",
       "tRNA_biomass_to_biomass         0.0    0.0    0.0       0.0  \n",
       "rRNA_biomass_to_biomass         0.0    0.0    0.0       0.0  \n",
       "...                             ...    ...    ...       ...  \n",
       "Demand_psetha_BS_s              0.0    0.0    0.0       0.0  \n",
       "Demand_t12dg_BS_s               0.0    0.0    0.0       0.0  \n",
       "Demand_gtca3_45_BS_s            0.0    0.0    0.0       0.0  \n",
       "Demand_lipo1_24_BS_s            0.0    0.0    0.0       0.0  \n",
       "Demand_tcam_BS_s                0.0    0.0    0.0       0.0  \n",
       "\n",
       "[12339 rows x 22 columns]"
      ]
     },
     "execution_count": 102,
     "metadata": {},
     "output_type": "execute_result"
    }
   ],
   "source": [
    "flux_results_df"
   ]
  },
  {
   "cell_type": "code",
   "execution_count": 103,
   "metadata": {},
   "outputs": [],
   "source": [
    "# Read and process\n",
    "gr_df = pd.DataFrame(index=essential_metabolites)\n",
    "for m in essential_metabolites:\n",
    "    flux_results_df=pd.read_csv('group_transporter_knockouts/{}.csv'.format(m),index_col=0).drop('base',axis=1)\n",
    "    for i in flux_results_df.columns.values:\n",
    "        gr_df.loc[m,i] = flux_results_df.loc['biomass_dilution_s',i]"
   ]
  },
  {
   "cell_type": "code",
   "execution_count": 105,
   "metadata": {},
   "outputs": [
    {
     "data": {
      "text/plain": [
       "<seaborn.matrix.ClusterGrid at 0x7f5dce37f780>"
      ]
     },
     "execution_count": 105,
     "metadata": {},
     "output_type": "execute_result"
    },
    {
     "data": {
      "text/plain": [
       "<Figure size 936x360 with 0 Axes>"
      ]
     },
     "metadata": {},
     "output_type": "display_data"
    },
    {
     "data": {
      "image/png": "[encoded data removed]",
      "text/plain": [
       "<Figure size 720x720 with 4 Axes>"
      ]
     },
     "metadata": {},
     "output_type": "display_data"
    }
   ],
   "source": [
    "plt.figure(figsize = (13,5))\n",
    "output = gr_df.loc[gr_df.any(axis=1),gr_df.any(axis=0)]\n",
    "cluster_df = pd.DataFrame(stats.zscore(output,axis=1),\n",
    "                            index=output.index,columns=output.columns)\n",
    "sns.clustermap(cluster_df,col_cluster=1,row_cluster=1, cmap='mako')"
   ]
  },
  {
   "cell_type": "code",
   "execution_count": 111,
   "metadata": {},
   "outputs": [
    {
     "data": {
      "text/plain": [
       "<seaborn.matrix.ClusterGrid at 0x7f5d867192b0>"
      ]
     },
     "execution_count": 111,
     "metadata": {},
     "output_type": "execute_result"
    },
    {
     "data": {
      "text/plain": [
       "<Figure size 936x360 with 0 Axes>"
      ]
     },
     "metadata": {},
     "output_type": "display_data"
    },
    {
     "data": {
      "image/png": "[encoded data removed]",
      "text/plain": [
       "<Figure size 720x720 with 4 Axes>"
      ]
     },
     "metadata": {},
     "output_type": "display_data"
    }
   ],
   "source": [
    "plt.figure(figsize = (13,5))\n",
    "output = gr_df.loc[gr_df.any(axis=1),gr_df.any(axis=0)]\n",
    "cluster_df = pd.DataFrame(stats.zscore(output,axis=1),\n",
    "                            index=output.index,columns=output.columns)\n",
    "sns.clustermap(cluster_df,col_cluster=1,row_cluster=1, cmap='mako')"
   ]
  },
  {
   "cell_type": "markdown",
   "metadata": {},
   "source": [
    "## Energy analysis"
   ]
  },
  {
   "cell_type": "code",
   "execution_count": 188,
   "metadata": {
    "scrolled": true
   },
   "outputs": [],
   "source": [
    "with open(\"./sporeme_solution.pickle\", \"rb\") as outfile:\n",
    "    sporeme = pickle.load(outfile)"
   ]
  },
  {
   "cell_type": "code",
   "execution_count": 189,
   "metadata": {},
   "outputs": [
    {
     "name": "stdout",
     "output_type": "stream",
     "text": [
      "Essential metabolites: ['arg__L_s', 'zn2_s', '6pgc_s', 'so4_s', 'mg2_s', 'pi_c', 'cbl1_s', 'asp__L_s', 'f6p_s', 'mn2_s', 'adn_c', 'acnam_s', 'pep_s', 'pyr_c', 'k_s', 'pser__L_s', 'man6p_c', 'gmp_s', 'leu__L_s', '3amp_s', 'met__L_c']\n"
     ]
    }
   ],
   "source": [
    "flux_results_df = pd.read_csv('group_1by1_KO_flux_results.csv',index_col=0)\n",
    "sorted_mets = flux_results_df.loc['biomass_dilution_s'].sort_values(ascending=True).index.to_list()\n",
    "essential_mets = sorted_mets[:sorted_mets.index('met__L_c')+1]\n",
    "print('Essential metabolites: {}'.format(essential_mets))"
   ]
  },
  {
   "cell_type": "code",
   "execution_count": 190,
   "metadata": {},
   "outputs": [],
   "source": [
    "essential_transporters = []\n",
    "for met in essential_mets:\n",
    "    [essential_transporters.append(i) for i in at_dict[met]]"
   ]
  },
  {
   "cell_type": "code",
   "execution_count": 191,
   "metadata": {},
   "outputs": [
    {
     "name": "stdout",
     "output_type": "stream",
     "text": [
      "63 essential open transporters\n"
     ]
    }
   ],
   "source": [
    "print('{} essential open transporters'.format(len(essential_transporters)))"
   ]
  },
  {
   "cell_type": "code",
   "execution_count": 192,
   "metadata": {},
   "outputs": [],
   "source": [
    "for r in transport_reactions:\n",
    "    if r not in essential_transporters and 'SPONT' not in r:\n",
    "        rxn = sporeme.reactions.get_by_id(r)\n",
    "        rxn.upper_bound = 0 \n",
    "        rxn.lower_bound = 0"
   ]
  },
  {
   "cell_type": "code",
   "execution_count": null,
   "metadata": {
    "scrolled": true
   },
   "outputs": [
    {
     "name": "stdout",
     "output_type": "stream",
     "text": [
      "iter\tmuopt    \ta     \tb     \tmu1       \tstat1\n"
     ]
    }
   ],
   "source": [
    "solve_me_model(sporeme, max_mu = 0.15, min_mu = .05, using_soplex=False, precision = 1e-6,growth_key = 'sigma')\n",
    "flux_dict_base = sporeme.solution.x_dict"
   ]
  },
  {
   "cell_type": "markdown",
   "metadata": {},
   "source": [
    "### Increasing ATPM"
   ]
  },
  {
   "cell_type": "code",
   "execution_count": null,
   "metadata": {},
   "outputs": [],
   "source": [
    "current_ATPM = sporeme.reactions.ATPM_s.lower_bound\n",
    "new_ATPM = 1.1 * current_ATPM\n",
    "\n",
    "sporeme.reactions.ATPM_s.lower_bound = new_ATPM\n",
    "sporeme.reactions.ATPM_s.upper_bound = new_ATPM"
   ]
  },
  {
   "cell_type": "code",
   "execution_count": 177,
   "metadata": {
    "scrolled": true
   },
   "outputs": [
    {
     "name": "stdout",
     "output_type": "stream",
     "text": [
      "iter\tmuopt    \ta     \tb     \tmu1       \tstat1\n",
      "Finished compiling expressions in 415.296403 seconds\n",
      "Finished substituting S,lb,ub in 18.126293 seconds\n",
      "Finished makeME_LP in 2.265234 seconds\n",
      "Getting MINOS parameters from ME_NLP...\n",
      "1 0.0 0.0 0.1 0.1 1\n",
      "Finished substituting S,lb,ub in 18.146298 seconds\n",
      "Finished makeME_LP in 2.297373 seconds\n",
      "Getting MINOS parameters from ME_NLP...\n",
      "2 0.0 0.0 0.05 0.05 1\n",
      "Finished substituting S,lb,ub in 18.020615 seconds\n",
      "Finished makeME_LP in 2.269276 seconds\n",
      "Getting MINOS parameters from ME_NLP...\n",
      "3 0.0 0.0 0.025 0.025 1\n",
      "Finished substituting S,lb,ub in 17.943079 seconds\n",
      "Finished makeME_LP in 2.261524 seconds\n",
      "Getting MINOS parameters from ME_NLP...\n",
      "4 0.0125 0.0125 0.025 0.0125 optimal\n",
      "Finished substituting S,lb,ub in 17.930481 seconds\n",
      "Finished makeME_LP in 2.260695 seconds\n",
      "Getting MINOS parameters from ME_NLP...\n",
      "5 0.0125 0.0125 0.018750000000000003 0.018750000000000003 1\n",
      "Finished substituting S,lb,ub in 18.196980 seconds\n",
      "Finished makeME_LP in 2.283978 seconds\n",
      "Getting MINOS parameters from ME_NLP...\n",
      "6 0.015625 0.015625 0.018750000000000003 0.015625 optimal\n",
      "Finished substituting S,lb,ub in 17.492452 seconds\n",
      "Finished makeME_LP in 2.261822 seconds\n",
      "Getting MINOS parameters from ME_NLP...\n",
      "7 0.015625 0.015625 0.0171875 0.0171875 1\n",
      "Finished substituting S,lb,ub in 17.564386 seconds\n",
      "Finished makeME_LP in 2.240327 seconds\n",
      "Getting MINOS parameters from ME_NLP...\n",
      "8 0.01640625 0.01640625 0.0171875 0.01640625 optimal\n",
      "Finished substituting S,lb,ub in 17.508969 seconds\n",
      "Finished makeME_LP in 2.256292 seconds\n",
      "Getting MINOS parameters from ME_NLP...\n",
      "9 0.01640625 0.01640625 0.016796875000000003 0.016796875000000003 1\n",
      "Finished substituting S,lb,ub in 17.466653 seconds\n",
      "Finished makeME_LP in 2.280223 seconds\n",
      "Getting MINOS parameters from ME_NLP...\n",
      "10 0.0166015625 0.0166015625 0.016796875000000003 0.0166015625 optimal\n",
      "Finished substituting S,lb,ub in 17.559752 seconds\n",
      "Finished makeME_LP in 2.260895 seconds\n",
      "Getting MINOS parameters from ME_NLP...\n",
      "11 0.01669921875 0.01669921875 0.016796875000000003 0.01669921875 optimal\n",
      "Finished substituting S,lb,ub in 17.551544 seconds\n",
      "Finished makeME_LP in 2.249591 seconds\n",
      "Getting MINOS parameters from ME_NLP...\n",
      "12 0.01669921875 0.01669921875 0.016748046875000002 0.016748046875000002 1\n",
      "Finished substituting S,lb,ub in 17.519121 seconds\n",
      "Finished makeME_LP in 2.266143 seconds\n",
      "Getting MINOS parameters from ME_NLP...\n",
      "13 0.0167236328125 0.0167236328125 0.016748046875000002 0.0167236328125 optimal\n",
      "Finished substituting S,lb,ub in 17.448744 seconds\n",
      "Finished makeME_LP in 2.266668 seconds\n",
      "Getting MINOS parameters from ME_NLP...\n",
      "14 0.016735839843750003 0.016735839843750003 0.016748046875000002 0.016735839843750003 optimal\n",
      "Finished substituting S,lb,ub in 17.590960 seconds\n",
      "Finished makeME_LP in 2.263836 seconds\n",
      "Getting MINOS parameters from ME_NLP...\n",
      "15 0.016741943359375004 0.016741943359375004 0.016748046875000002 0.016741943359375004 optimal\n",
      "Finished substituting S,lb,ub in 17.473265 seconds\n",
      "Finished makeME_LP in 2.267441 seconds\n",
      "Getting MINOS parameters from ME_NLP...\n",
      "16 0.0167449951171875 0.0167449951171875 0.016748046875000002 0.0167449951171875 optimal\n",
      "Finished substituting S,lb,ub in 17.451697 seconds\n",
      "Finished makeME_LP in 2.258030 seconds\n",
      "Getting MINOS parameters from ME_NLP...\n",
      "17 0.0167449951171875 0.0167449951171875 0.01674652099609375 0.01674652099609375 1\n",
      "Finished substituting S,lb,ub in 17.609313 seconds\n",
      "Finished makeME_LP in 2.676704 seconds\n",
      "Getting MINOS parameters from ME_NLP...\n",
      "18 0.016745758056640626 0.016745758056640626 0.01674652099609375 0.016745758056640626 optimal\n",
      "Bisection done in 1717.75 seconds\n"
     ]
    }
   ],
   "source": [
    "solve_me_model(sporeme, max_mu = 0.2, min_mu = .05, using_soplex=False, precision = 1e-6,growth_key='sigma')\n",
    "flux_dict_ATPM = sporeme.solution.x_dict"
   ]
  },
  {
   "cell_type": "code",
   "execution_count": 199,
   "metadata": {},
   "outputs": [
    {
     "data": {
      "text/plain": [
       "flux        11.979\n",
       "flux_atp     9.900\n",
       "Name: ATPM_s, dtype: float64"
      ]
     },
     "execution_count": 199,
     "metadata": {},
     "output_type": "execute_result"
    }
   ],
   "source": [
    "atp_df = pd.DataFrame.from_dict({'flux':flux_dict_base}).join(pd.DataFrame.from_dict({'flux':flux_dict_ATPM}),rsuffix='_atp')\n",
    "atp_df.loc['ATPM_s']"
   ]
  },
  {
   "cell_type": "code",
   "execution_count": 215,
   "metadata": {},
   "outputs": [
    {
     "data": {
      "text/plain": [
       "True"
      ]
     },
     "execution_count": 215,
     "metadata": {},
     "output_type": "execute_result"
    }
   ],
   "source": [
    "sums = atp_df.loc[at_dict[met]].sum(axis=0)\n",
    "sums.any()"
   ]
  },
  {
   "cell_type": "markdown",
   "metadata": {},
   "source": [
    "## "
   ]
  },
  {
   "cell_type": "code",
   "execution_count": 218,
   "metadata": {},
   "outputs": [
    {
     "name": "stdout",
     "output_type": "stream",
     "text": [
      "mg2_s 1.369556359552247\n",
      "gmp_s 1.3936761015209471\n",
      "pyr_c 0.9235568354626225\n",
      "k_s 1.402986049062581\n",
      "man6p_c 1.4041387607925155\n",
      "arg__L_s 1.3820070949439316\n",
      "met__L_c 1.3367661897406746\n",
      "mn2_s 1.3274067919517458\n",
      "acnam_s 1.410649664782645\n",
      "pep_s 0.9219755938517683\n",
      "so4_s 1.3508168559868865\n",
      "zn2_s 1.9776180944903203\n",
      "adn_c 0.9206735465435527\n",
      "3amp_s 0.9206362189827443\n",
      "pser__L_s 1.431980366328135\n",
      "6pgc_s 1.404908804372569\n",
      "leu__L_s 1.3894840437357847\n"
     ]
    }
   ],
   "source": [
    "\n",
    "for met in at_dict.keys():\n",
    "    sums = atp_df.loc[at_dict[met]].sum(axis=0)\n",
    "    if sums.any():\n",
    "        ratio = sums['flux_atp']/sums['flux']\n",
    "        print(met,ratio)"
   ]
  },
  {
   "cell_type": "markdown",
   "metadata": {},
   "source": [
    "## Metabolites in medium"
   ]
  },
  {
   "cell_type": "code",
   "execution_count": null,
   "metadata": {},
   "outputs": [],
   "source": [
    "[fed_mets = m for m in at_dict.keys() if m]"
   ]
  },
  {
   "cell_type": "code",
   "execution_count": null,
   "metadata": {
    "scrolled": true
   },
   "outputs": [
    {
     "name": "stdout",
     "output_type": "stream",
     "text": [
      "Chosen change function: feed_metabolites      Sequential = False\n"
     ]
    },
    {
     "name": "stderr",
     "output_type": "stream",
     "text": [
      "\n",
      "\n",
      "\n",
      "\n",
      "\n",
      "\n",
      "\n",
      "\n",
      "\n",
      "\n",
      "\n",
      "\n",
      "\n",
      "\n",
      "\n",
      "\n",
      "\n",
      "\n",
      "\n",
      "\n",
      "\n",
      "\n",
      "\n",
      "\n",
      "\n",
      "\n",
      "\n",
      "\n",
      "\n",
      "\n",
      "\n",
      "\n",
      "\n",
      "\n",
      "\n",
      "\n",
      "\n",
      "\n",
      "\n",
      "\n",
      "\n",
      "\n",
      "\n",
      "\n",
      "  0%|          | 0/38 [00:00<?, ?it/s]\u001b[A\u001b[A\u001b[A\u001b[A\u001b[A\u001b[A\u001b[A\u001b[A\u001b[A\u001b[A\u001b[A\u001b[A\u001b[A\u001b[A\u001b[A\u001b[A\u001b[A\u001b[A\u001b[A\u001b[A\u001b[A\u001b[A\u001b[A\u001b[A\u001b[A\u001b[A\u001b[A\u001b[A\u001b[A\u001b[A\u001b[A\u001b[A\u001b[A\u001b[A\u001b[A\u001b[A\u001b[A\u001b[A\u001b[A\u001b[A\u001b[A\u001b[A\u001b[A\u001b[A\n",
      "\n",
      "\n",
      "\n",
      "\n",
      "\n",
      "\n",
      "\n",
      "\n",
      "\n",
      "\n",
      "\n",
      "\n",
      "\n",
      "\n",
      "\n",
      "\n",
      "\n",
      "\n",
      "\n",
      "\n",
      "\n",
      "\n",
      "\n",
      "\n",
      "\n",
      "\n",
      "\n",
      "\n",
      "\n",
      "\n",
      "\n",
      "\n",
      "\n",
      "\n",
      "\n",
      "\n",
      "\n",
      "\n",
      "\n",
      "\n",
      "\n",
      "\n",
      "\n",
      "biomass_dilution_s response (10 threads):   0%|          | 0/38 [00:00<?, ?it/s]\u001b[A\u001b[A\u001b[A\u001b[A\u001b[A\u001b[A\u001b[A\u001b[A\u001b[A\u001b[A\u001b[A\u001b[A\u001b[A\u001b[A\u001b[A\u001b[A\u001b[A\u001b[A\u001b[A\u001b[A\u001b[A\u001b[A\u001b[A\u001b[A\u001b[A\u001b[A\u001b[A\u001b[A\u001b[A\u001b[A\u001b[A\u001b[A\u001b[A\u001b[A\u001b[A\u001b[A\u001b[A\u001b[A\u001b[A\u001b[A\u001b[A\u001b[A\u001b[A\u001b[A"
     ]
    }
   ],
   "source": [
    "from bacillusme.analysis import sensitivity as ss\n",
    "flux_results_df = ss.transporter_knockout(sporeme,fed_mets, \\\n",
    "                                        NP=10,solution=1,biomass_dilution='biomass_dilution_s',\\\n",
    "                                        growth_key = 'sigma',single_change_function='feed_metabolites')"
   ]
  },
  {
   "cell_type": "code",
   "execution_count": 225,
   "metadata": {},
   "outputs": [
    {
     "data": {
      "text/html": [
       "<div>\n",
       "<style scoped>\n",
       "    .dataframe tbody tr th:only-of-type {\n",
       "        vertical-align: middle;\n",
       "    }\n",
       "\n",
       "    .dataframe tbody tr th {\n",
       "        vertical-align: top;\n",
       "    }\n",
       "\n",
       "    .dataframe thead th {\n",
       "        text-align: right;\n",
       "    }\n",
       "</style>\n",
       "<table border=\"1\" class=\"dataframe\">\n",
       "  <thead>\n",
       "    <tr style=\"text-align: right;\">\n",
       "      <th></th>\n",
       "      <th>base</th>\n",
       "      <th>gly_s</th>\n",
       "      <th>nac_s</th>\n",
       "      <th>cit_s</th>\n",
       "      <th>amp_s</th>\n",
       "      <th>citr__L_s</th>\n",
       "      <th>asn__L_s</th>\n",
       "      <th>acac_s</th>\n",
       "      <th>cmp_s</th>\n",
       "      <th>ump_s</th>\n",
       "      <th>...</th>\n",
       "      <th>ala__D_s</th>\n",
       "      <th>glu__L_s</th>\n",
       "      <th>pnto__R_s</th>\n",
       "      <th>dad_2_s</th>\n",
       "      <th>ribflv_s</th>\n",
       "      <th>3amp_s</th>\n",
       "      <th>ala__L_s</th>\n",
       "      <th>6pgc_s</th>\n",
       "      <th>pser__L_s</th>\n",
       "      <th>leu__L_s</th>\n",
       "    </tr>\n",
       "  </thead>\n",
       "  <tbody>\n",
       "    <tr>\n",
       "      <th>biomass_dilution</th>\n",
       "      <td>0.012078</td>\n",
       "      <td>0.012073</td>\n",
       "      <td>0.012052</td>\n",
       "      <td>0.012060</td>\n",
       "      <td>0.012035</td>\n",
       "      <td>0.012056</td>\n",
       "      <td>0.012061</td>\n",
       "      <td>0.012064</td>\n",
       "      <td>0.012043</td>\n",
       "      <td>0.012044</td>\n",
       "      <td>...</td>\n",
       "      <td>0.012067</td>\n",
       "      <td>0.012055</td>\n",
       "      <td>0.012034</td>\n",
       "      <td>0.012034</td>\n",
       "      <td>0.011992</td>\n",
       "      <td>0.012036</td>\n",
       "      <td>0.012067</td>\n",
       "      <td>0.012054</td>\n",
       "      <td>0.012067</td>\n",
       "      <td>0.012050</td>\n",
       "    </tr>\n",
       "    <tr>\n",
       "      <th>protein_biomass_to_biomass</th>\n",
       "      <td>0.007074</td>\n",
       "      <td>0.007072</td>\n",
       "      <td>0.007059</td>\n",
       "      <td>0.007064</td>\n",
       "      <td>0.007049</td>\n",
       "      <td>0.007061</td>\n",
       "      <td>0.007065</td>\n",
       "      <td>0.007066</td>\n",
       "      <td>0.007054</td>\n",
       "      <td>0.007055</td>\n",
       "      <td>...</td>\n",
       "      <td>0.007068</td>\n",
       "      <td>0.007061</td>\n",
       "      <td>0.007049</td>\n",
       "      <td>0.007049</td>\n",
       "      <td>0.007024</td>\n",
       "      <td>0.007050</td>\n",
       "      <td>0.007068</td>\n",
       "      <td>0.007060</td>\n",
       "      <td>0.007068</td>\n",
       "      <td>0.007058</td>\n",
       "    </tr>\n",
       "    <tr>\n",
       "      <th>mRNA_biomass_to_biomass</th>\n",
       "      <td>0.000020</td>\n",
       "      <td>0.000020</td>\n",
       "      <td>0.000020</td>\n",
       "      <td>0.000020</td>\n",
       "      <td>0.000020</td>\n",
       "      <td>0.000020</td>\n",
       "      <td>0.000020</td>\n",
       "      <td>0.000020</td>\n",
       "      <td>0.000020</td>\n",
       "      <td>0.000020</td>\n",
       "      <td>...</td>\n",
       "      <td>0.000020</td>\n",
       "      <td>0.000020</td>\n",
       "      <td>0.000020</td>\n",
       "      <td>0.000020</td>\n",
       "      <td>0.000020</td>\n",
       "      <td>0.000020</td>\n",
       "      <td>0.000020</td>\n",
       "      <td>0.000020</td>\n",
       "      <td>0.000020</td>\n",
       "      <td>0.000020</td>\n",
       "    </tr>\n",
       "    <tr>\n",
       "      <th>tRNA_biomass_to_biomass</th>\n",
       "      <td>0.000119</td>\n",
       "      <td>0.000119</td>\n",
       "      <td>0.000119</td>\n",
       "      <td>0.000119</td>\n",
       "      <td>0.000118</td>\n",
       "      <td>0.000119</td>\n",
       "      <td>0.000119</td>\n",
       "      <td>0.000119</td>\n",
       "      <td>0.000118</td>\n",
       "      <td>0.000118</td>\n",
       "      <td>...</td>\n",
       "      <td>0.000119</td>\n",
       "      <td>0.000119</td>\n",
       "      <td>0.000118</td>\n",
       "      <td>0.000118</td>\n",
       "      <td>0.000118</td>\n",
       "      <td>0.000118</td>\n",
       "      <td>0.000119</td>\n",
       "      <td>0.000119</td>\n",
       "      <td>0.000119</td>\n",
       "      <td>0.000119</td>\n",
       "    </tr>\n",
       "    <tr>\n",
       "      <th>rRNA_biomass_to_biomass</th>\n",
       "      <td>0.000879</td>\n",
       "      <td>0.000879</td>\n",
       "      <td>0.000877</td>\n",
       "      <td>0.000878</td>\n",
       "      <td>0.000876</td>\n",
       "      <td>0.000877</td>\n",
       "      <td>0.000878</td>\n",
       "      <td>0.000878</td>\n",
       "      <td>0.000876</td>\n",
       "      <td>0.000876</td>\n",
       "      <td>...</td>\n",
       "      <td>0.000878</td>\n",
       "      <td>0.000877</td>\n",
       "      <td>0.000876</td>\n",
       "      <td>0.000876</td>\n",
       "      <td>0.000872</td>\n",
       "      <td>0.000876</td>\n",
       "      <td>0.000878</td>\n",
       "      <td>0.000877</td>\n",
       "      <td>0.000878</td>\n",
       "      <td>0.000877</td>\n",
       "    </tr>\n",
       "    <tr>\n",
       "      <th>...</th>\n",
       "      <td>...</td>\n",
       "      <td>...</td>\n",
       "      <td>...</td>\n",
       "      <td>...</td>\n",
       "      <td>...</td>\n",
       "      <td>...</td>\n",
       "      <td>...</td>\n",
       "      <td>...</td>\n",
       "      <td>...</td>\n",
       "      <td>...</td>\n",
       "      <td>...</td>\n",
       "      <td>...</td>\n",
       "      <td>...</td>\n",
       "      <td>...</td>\n",
       "      <td>...</td>\n",
       "      <td>...</td>\n",
       "      <td>...</td>\n",
       "      <td>...</td>\n",
       "      <td>...</td>\n",
       "      <td>...</td>\n",
       "      <td>...</td>\n",
       "    </tr>\n",
       "    <tr>\n",
       "      <th>Demand_t12dg_BS_s</th>\n",
       "      <td>0.030711</td>\n",
       "      <td>0.030701</td>\n",
       "      <td>0.030658</td>\n",
       "      <td>0.030674</td>\n",
       "      <td>0.030608</td>\n",
       "      <td>0.030663</td>\n",
       "      <td>0.030672</td>\n",
       "      <td>0.030684</td>\n",
       "      <td>0.030635</td>\n",
       "      <td>0.030640</td>\n",
       "      <td>...</td>\n",
       "      <td>0.030691</td>\n",
       "      <td>0.030657</td>\n",
       "      <td>0.030620</td>\n",
       "      <td>0.030610</td>\n",
       "      <td>0.030513</td>\n",
       "      <td>0.030612</td>\n",
       "      <td>0.030691</td>\n",
       "      <td>0.030661</td>\n",
       "      <td>0.030687</td>\n",
       "      <td>0.030656</td>\n",
       "    </tr>\n",
       "    <tr>\n",
       "      <th>Demand_gtca3_45_BS_s</th>\n",
       "      <td>0.030711</td>\n",
       "      <td>0.030701</td>\n",
       "      <td>0.030658</td>\n",
       "      <td>0.030674</td>\n",
       "      <td>0.030608</td>\n",
       "      <td>0.030663</td>\n",
       "      <td>0.030672</td>\n",
       "      <td>0.030684</td>\n",
       "      <td>0.030635</td>\n",
       "      <td>0.030640</td>\n",
       "      <td>...</td>\n",
       "      <td>0.030691</td>\n",
       "      <td>0.030657</td>\n",
       "      <td>0.030620</td>\n",
       "      <td>0.030610</td>\n",
       "      <td>0.030513</td>\n",
       "      <td>0.030612</td>\n",
       "      <td>0.030691</td>\n",
       "      <td>0.030661</td>\n",
       "      <td>0.030687</td>\n",
       "      <td>0.030656</td>\n",
       "    </tr>\n",
       "    <tr>\n",
       "      <th>Demand_lipo1_24_BS_s</th>\n",
       "      <td>0.030711</td>\n",
       "      <td>0.030701</td>\n",
       "      <td>0.030658</td>\n",
       "      <td>0.030674</td>\n",
       "      <td>0.030608</td>\n",
       "      <td>0.030663</td>\n",
       "      <td>0.030672</td>\n",
       "      <td>0.030684</td>\n",
       "      <td>0.030635</td>\n",
       "      <td>0.030640</td>\n",
       "      <td>...</td>\n",
       "      <td>0.030691</td>\n",
       "      <td>0.030657</td>\n",
       "      <td>0.030620</td>\n",
       "      <td>0.030610</td>\n",
       "      <td>0.030513</td>\n",
       "      <td>0.030612</td>\n",
       "      <td>0.030691</td>\n",
       "      <td>0.030661</td>\n",
       "      <td>0.030687</td>\n",
       "      <td>0.030656</td>\n",
       "    </tr>\n",
       "    <tr>\n",
       "      <th>Demand_tcam_BS_s</th>\n",
       "      <td>0.539554</td>\n",
       "      <td>0.539392</td>\n",
       "      <td>0.538664</td>\n",
       "      <td>0.538933</td>\n",
       "      <td>0.537795</td>\n",
       "      <td>0.538743</td>\n",
       "      <td>0.538900</td>\n",
       "      <td>0.539076</td>\n",
       "      <td>0.538259</td>\n",
       "      <td>0.538332</td>\n",
       "      <td>...</td>\n",
       "      <td>0.539224</td>\n",
       "      <td>0.538640</td>\n",
       "      <td>0.537977</td>\n",
       "      <td>0.537838</td>\n",
       "      <td>0.536119</td>\n",
       "      <td>0.537875</td>\n",
       "      <td>0.539226</td>\n",
       "      <td>0.538711</td>\n",
       "      <td>0.539156</td>\n",
       "      <td>0.538619</td>\n",
       "    </tr>\n",
       "    <tr>\n",
       "      <th>dummy_demand</th>\n",
       "      <td>NaN</td>\n",
       "      <td>0.001000</td>\n",
       "      <td>0.001000</td>\n",
       "      <td>0.001000</td>\n",
       "      <td>0.001000</td>\n",
       "      <td>0.001000</td>\n",
       "      <td>0.001000</td>\n",
       "      <td>0.001000</td>\n",
       "      <td>0.001000</td>\n",
       "      <td>0.001000</td>\n",
       "      <td>...</td>\n",
       "      <td>0.001000</td>\n",
       "      <td>0.001000</td>\n",
       "      <td>0.001000</td>\n",
       "      <td>0.001000</td>\n",
       "      <td>0.001000</td>\n",
       "      <td>0.001000</td>\n",
       "      <td>0.001000</td>\n",
       "      <td>0.001000</td>\n",
       "      <td>0.001000</td>\n",
       "      <td>0.001000</td>\n",
       "    </tr>\n",
       "  </tbody>\n",
       "</table>\n",
       "<p>12340 rows × 39 columns</p>\n",
       "</div>"
      ],
      "text/plain": [
       "                                base     gly_s     nac_s     cit_s     amp_s  \\\n",
       "biomass_dilution            0.012078  0.012073  0.012052  0.012060  0.012035   \n",
       "protein_biomass_to_biomass  0.007074  0.007072  0.007059  0.007064  0.007049   \n",
       "mRNA_biomass_to_biomass     0.000020  0.000020  0.000020  0.000020  0.000020   \n",
       "tRNA_biomass_to_biomass     0.000119  0.000119  0.000119  0.000119  0.000118   \n",
       "rRNA_biomass_to_biomass     0.000879  0.000879  0.000877  0.000878  0.000876   \n",
       "...                              ...       ...       ...       ...       ...   \n",
       "Demand_t12dg_BS_s           0.030711  0.030701  0.030658  0.030674  0.030608   \n",
       "Demand_gtca3_45_BS_s        0.030711  0.030701  0.030658  0.030674  0.030608   \n",
       "Demand_lipo1_24_BS_s        0.030711  0.030701  0.030658  0.030674  0.030608   \n",
       "Demand_tcam_BS_s            0.539554  0.539392  0.538664  0.538933  0.537795   \n",
       "dummy_demand                     NaN  0.001000  0.001000  0.001000  0.001000   \n",
       "\n",
       "                            citr__L_s  asn__L_s    acac_s     cmp_s     ump_s  \\\n",
       "biomass_dilution             0.012056  0.012061  0.012064  0.012043  0.012044   \n",
       "protein_biomass_to_biomass   0.007061  0.007065  0.007066  0.007054  0.007055   \n",
       "mRNA_biomass_to_biomass      0.000020  0.000020  0.000020  0.000020  0.000020   \n",
       "tRNA_biomass_to_biomass      0.000119  0.000119  0.000119  0.000118  0.000118   \n",
       "rRNA_biomass_to_biomass      0.000877  0.000878  0.000878  0.000876  0.000876   \n",
       "...                               ...       ...       ...       ...       ...   \n",
       "Demand_t12dg_BS_s            0.030663  0.030672  0.030684  0.030635  0.030640   \n",
       "Demand_gtca3_45_BS_s         0.030663  0.030672  0.030684  0.030635  0.030640   \n",
       "Demand_lipo1_24_BS_s         0.030663  0.030672  0.030684  0.030635  0.030640   \n",
       "Demand_tcam_BS_s             0.538743  0.538900  0.539076  0.538259  0.538332   \n",
       "dummy_demand                 0.001000  0.001000  0.001000  0.001000  0.001000   \n",
       "\n",
       "                            ...  ala__D_s  glu__L_s  pnto__R_s   dad_2_s  \\\n",
       "biomass_dilution            ...  0.012067  0.012055   0.012034  0.012034   \n",
       "protein_biomass_to_biomass  ...  0.007068  0.007061   0.007049  0.007049   \n",
       "mRNA_biomass_to_biomass     ...  0.000020  0.000020   0.000020  0.000020   \n",
       "tRNA_biomass_to_biomass     ...  0.000119  0.000119   0.000118  0.000118   \n",
       "rRNA_biomass_to_biomass     ...  0.000878  0.000877   0.000876  0.000876   \n",
       "...                         ...       ...       ...        ...       ...   \n",
       "Demand_t12dg_BS_s           ...  0.030691  0.030657   0.030620  0.030610   \n",
       "Demand_gtca3_45_BS_s        ...  0.030691  0.030657   0.030620  0.030610   \n",
       "Demand_lipo1_24_BS_s        ...  0.030691  0.030657   0.030620  0.030610   \n",
       "Demand_tcam_BS_s            ...  0.539224  0.538640   0.537977  0.537838   \n",
       "dummy_demand                ...  0.001000  0.001000   0.001000  0.001000   \n",
       "\n",
       "                            ribflv_s    3amp_s  ala__L_s    6pgc_s  pser__L_s  \\\n",
       "biomass_dilution            0.011992  0.012036  0.012067  0.012054   0.012067   \n",
       "protein_biomass_to_biomass  0.007024  0.007050  0.007068  0.007060   0.007068   \n",
       "mRNA_biomass_to_biomass     0.000020  0.000020  0.000020  0.000020   0.000020   \n",
       "tRNA_biomass_to_biomass     0.000118  0.000118  0.000119  0.000119   0.000119   \n",
       "rRNA_biomass_to_biomass     0.000872  0.000876  0.000878  0.000877   0.000878   \n",
       "...                              ...       ...       ...       ...        ...   \n",
       "Demand_t12dg_BS_s           0.030513  0.030612  0.030691  0.030661   0.030687   \n",
       "Demand_gtca3_45_BS_s        0.030513  0.030612  0.030691  0.030661   0.030687   \n",
       "Demand_lipo1_24_BS_s        0.030513  0.030612  0.030691  0.030661   0.030687   \n",
       "Demand_tcam_BS_s            0.536119  0.537875  0.539226  0.538711   0.539156   \n",
       "dummy_demand                0.001000  0.001000  0.001000  0.001000   0.001000   \n",
       "\n",
       "                            leu__L_s  \n",
       "biomass_dilution            0.012050  \n",
       "protein_biomass_to_biomass  0.007058  \n",
       "mRNA_biomass_to_biomass     0.000020  \n",
       "tRNA_biomass_to_biomass     0.000119  \n",
       "rRNA_biomass_to_biomass     0.000877  \n",
       "...                              ...  \n",
       "Demand_t12dg_BS_s           0.030656  \n",
       "Demand_gtca3_45_BS_s        0.030656  \n",
       "Demand_lipo1_24_BS_s        0.030656  \n",
       "Demand_tcam_BS_s            0.538619  \n",
       "dummy_demand                0.001000  \n",
       "\n",
       "[12340 rows x 39 columns]"
      ]
     },
     "execution_count": 225,
     "metadata": {},
     "output_type": "execute_result"
    }
   ],
   "source": [
    "flux_results_df"
   ]
  },
  {
   "cell_type": "code",
   "execution_count": null,
   "metadata": {},
   "outputs": [],
   "source": []
  }
 ],
 "metadata": {
  "kernelspec": {
   "display_name": "me_modeling",
   "language": "python",
   "name": "me_modeling"
  },
  "language_info": {
   "codemirror_mode": {
    "name": "ipython",
    "version": 3
   },
   "file_extension": ".py",
   "mimetype": "text/x-python",
   "name": "python",
   "nbconvert_exporter": "python",
   "pygments_lexer": "ipython3",
   "version": "3.6.8"
  }
 },
 "nbformat": 4,
 "nbformat_minor": 4
}
