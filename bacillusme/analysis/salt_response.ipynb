{
 "cells": [
  {
   "cell_type": "markdown",
   "metadata": {},
   "source": [
    "# Salt stress downregulates AhrC"
   ]
  },
  {
   "cell_type": "code",
   "execution_count": 2,
   "metadata": {
    "scrolled": true
   },
   "outputs": [
    {
     "name": "stdout",
     "output_type": "stream",
     "text": [
      "/home/jt/Downloads/cobrapy-0.5.11/cobra/__init__.py\n",
      "/home/jt/UCSD/cobrame-master/cobrame/__init__.py\n",
      "/home/jt/UCSD/bacillusme-master/bacillusme/__init__.py\n"
     ]
    }
   ],
   "source": [
    "from __future__ import print_function, division, absolute_import\n",
    "\n",
    "import sys\n",
    "\n",
    "import qminospy\n",
    "from qminospy.me2 import ME_NLP\n",
    "\n",
    "# python imports\n",
    "from copy import copy\n",
    "import re\n",
    "from os.path import join\n",
    "from collections import defaultdict\n",
    "import pickle\n",
    "\n",
    "# third party imports\n",
    "import pandas\n",
    "import cobra\n",
    "from tqdm import tqdm\n",
    "import numpy as np\n",
    "import scipy\n",
    "import matplotlib.pyplot as plt\n",
    "\n",
    "# COBRAme\n",
    "import cobrame\n",
    "from cobrame.util import building, mu, me_model_interface\n",
    "from cobrame.io.json import save_json_me_model, save_reduced_json_me_model\n",
    "\n",
    "# ECOLIme\n",
    "import bacillusme\n",
    "from bacillusme import (transcription, translation, flat_files, generics, formulas, compartments)\n",
    "from bacillusme.util.helper_functions import *\n",
    "%load_ext autoreload\n",
    "%autoreload 2\n",
    "print(cobra.__file__)\n",
    "print(cobrame.__file__)\n",
    "print(bacillusme.__file__)"
   ]
  },
  {
   "cell_type": "markdown",
   "metadata": {},
   "source": [
    "Load"
   ]
  },
  {
   "cell_type": "code",
   "execution_count": 3,
   "metadata": {
    "scrolled": true
   },
   "outputs": [],
   "source": [
    "eco_directory = join(flat_files.ecoli_files_dir, 'iJO1366.json')\n",
    "ijo_directory = join(flat_files.ecoli_files_dir, 'iYO844.json')\n",
    "uni_directory = join(flat_files.ecoli_files_dir, 'universal_model.json')\n",
    "\n",
    "eco = cobra.io.load_json_model(eco_directory)\n",
    "bsub = cobra.io.load_json_model(ijo_directory)\n",
    "uni = cobra.io.load_json_model(uni_directory)\n",
    "\n",
    "bsub.optimize()\n",
    "base_mu = bsub.solution.f"
   ]
  },
  {
   "cell_type": "code",
   "execution_count": 174,
   "metadata": {
    "scrolled": true
   },
   "outputs": [],
   "source": [
    "gene_dictionary = pd.read_csv('gene_name_dictionary.csv',index_col=1)\n",
    "ions = ['na1_e','ca2_e','zn2_e','k_e']"
   ]
  },
  {
   "cell_type": "markdown",
   "metadata": {},
   "source": [
    "## RNASeq data"
   ]
  },
  {
   "cell_type": "code",
   "execution_count": 175,
   "metadata": {
    "scrolled": true
   },
   "outputs": [],
   "source": [
    "data = pd.read_csv('rna_seq/RNAseq_raw.csv',index_col=1)"
   ]
  },
  {
   "cell_type": "markdown",
   "metadata": {},
   "source": [
    "RNAseq data appears to be normalized. That means that roughly they have the same numbre of cells."
   ]
  },
  {
   "cell_type": "code",
   "execution_count": 176,
   "metadata": {
    "scrolled": true
   },
   "outputs": [],
   "source": [
    "samples = data.columns\n",
    "control_data = data[samples[samples.str.contains('SMM_')]]\n",
    "stress_data = data[samples[samples.str.contains('Salt')]]\n",
    "fold_change = np.divide(stress_data,control_data)"
   ]
  },
  {
   "cell_type": "markdown",
   "metadata": {},
   "source": [
    "### Arginine biosynthesis"
   ]
  },
  {
   "cell_type": "code",
   "execution_count": 6,
   "metadata": {},
   "outputs": [
    {
     "data": {
      "text/plain": [
       "Text(0.5, 1.0, 'Arginine biosynthetic gene expression ')"
      ]
     },
     "execution_count": 6,
     "metadata": {},
     "output_type": "execute_result"
    },
    {
     "data": {
      "image/png": "[encoded data removed]",
      "text/plain": [
       "<Figure size 432x288 with 1 Axes>"
      ]
     },
     "metadata": {
      "needs_background": "light"
     },
     "output_type": "display_data"
    }
   ],
   "source": [
    "genes = ['argG', 'argH', 'argC', 'argJ', 'argB', 'argD', 'argF', 'carA', 'carB']\n",
    "fold_change.loc[gene_dictionary.loc[genes]['locus_id']].mean(axis=1).to_frame().boxplot()\n",
    "plt.ylabel('fold_change')\n",
    "plt.title('Arginine biosynthetic gene expression ')"
   ]
  },
  {
   "cell_type": "markdown",
   "metadata": {},
   "source": [
    "Arginine biosynthesis is downregulated in salt stress."
   ]
  },
  {
   "cell_type": "markdown",
   "metadata": {},
   "source": [
    "### Transporter expression"
   ]
  },
  {
   "cell_type": "code",
   "execution_count": 7,
   "metadata": {
    "scrolled": true
   },
   "outputs": [],
   "source": [
    "# Identify uptake and secretion transporters\n",
    "uptake_rxns = get_transport_reactions(bsub,'na1_e',verbose=0)\n",
    "transporter_ids=[]\n",
    "for rxn in uptake_rxns:\n",
    "    genes_uptake = rxn.genes\n",
    "    transporters = [gene.id for gene in genes_uptake]\n",
    "    for t in transporters:\n",
    "        transporter_ids.append(t)\n",
    "        \n",
    "secretion_rxns = get_transport_reactions(bsub,'na1_e',verbose=0,comps=['c','e'])\n",
    "secretor_ids=[]\n",
    "for rxn in secretion_rxns:\n",
    "    genes_secretion = rxn.genes\n",
    "    transporters = [gene.id for gene in genes_secretion]\n",
    "    for t in transporters:\n",
    "        secretor_ids.append(t)"
   ]
  },
  {
   "cell_type": "code",
   "execution_count": 8,
   "metadata": {},
   "outputs": [
    {
     "data": {
      "image/png": "[encoded data removed]",
      "text/plain": [
       "<Figure size 504x288 with 2 Axes>"
      ]
     },
     "metadata": {
      "needs_background": "light"
     },
     "output_type": "display_data"
    }
   ],
   "source": [
    "\n",
    "plt.figure(figsize=(7,4))\n",
    "plt.subplot(1,2,1)\n",
    "fold_change.loc[transporter_ids].mean(axis=1).to_frame().boxplot()\n",
    "plt.title('Uptake')\n",
    "plt.ylabel('Fold change')\n",
    "\n",
    "plt.subplot(1,2,2)\n",
    "fold_change.loc[secretor_ids].mean(axis=1).to_frame().boxplot()\n",
    "plt.title('Secretion')\n",
    "plt.ylabel('Fold change')\n",
    "\n",
    "plt.tight_layout()"
   ]
  },
  {
   "cell_type": "markdown",
   "metadata": {},
   "source": [
    "Downregulation of uptake transporters means that either the same or a reduced amount of uptake transporters should be expressed in salt stress. That means that to properly model this in the ME-model it is necessary to add transport reactions that do not induce expression of transporters."
   ]
  },
  {
   "cell_type": "markdown",
   "metadata": {},
   "source": [
    "### Up and downregulation"
   ]
  },
  {
   "cell_type": "code",
   "execution_count": 209,
   "metadata": {
    "scrolled": true
   },
   "outputs": [
    {
     "name": "stderr",
     "output_type": "stream",
     "text": [
      "\n",
      "\n",
      "  0%|          | 0/5875 [00:00<?, ?it/s]\u001b[A\u001b[A\n",
      "\n",
      "  0%|          | 24/5875 [00:00<00:24, 239.29it/s]\u001b[A\u001b[A\n",
      "\n",
      "  1%|          | 44/5875 [00:00<00:26, 222.43it/s]\u001b[A\u001b[A\n",
      "\n",
      "  1%|          | 65/5875 [00:00<00:27, 211.90it/s]\u001b[A\u001b[A\n",
      "\n",
      "  2%|▏         | 93/5875 [00:00<00:25, 227.94it/s]\u001b[A\u001b[A\n",
      "\n",
      "  2%|▏         | 122/5875 [00:00<00:23, 240.57it/s]\u001b[A\u001b[A\n",
      "\n",
      "  2%|▏         | 145/5875 [00:00<00:24, 235.68it/s]\u001b[A\u001b[A\n",
      "\n",
      "  3%|▎         | 172/5875 [00:00<00:23, 242.21it/s]\u001b[A\u001b[A\n",
      "\n",
      "  3%|▎         | 196/5875 [00:00<00:23, 239.21it/s]\u001b[A\u001b[A\n",
      "\n",
      "  4%|▎         | 220/5875 [00:00<00:23, 237.89it/s]\u001b[A\u001b[A\n",
      "\n",
      "  4%|▍         | 243/5875 [00:01<00:24, 230.33it/s]\u001b[A\u001b[A\n",
      "\n",
      "  5%|▍         | 266/5875 [00:01<00:24, 226.28it/s]\u001b[A\u001b[A\n",
      "\n",
      "  5%|▍         | 289/5875 [00:01<00:25, 217.51it/s]\u001b[A\u001b[A\n",
      "\n",
      "  5%|▌         | 313/5875 [00:01<00:25, 221.92it/s]\u001b[A\u001b[A\n",
      "\n",
      "  6%|▌         | 336/5875 [00:01<00:26, 207.51it/s]\u001b[A\u001b[A\n",
      "\n",
      "  6%|▌         | 358/5875 [00:01<00:26, 210.26it/s]\u001b[A\u001b[A\n",
      "\n",
      "  7%|▋         | 386/5875 [00:01<00:24, 226.40it/s]\u001b[A\u001b[A\n",
      "\n",
      "  7%|▋         | 411/5875 [00:01<00:23, 230.19it/s]\u001b[A\u001b[A\n",
      "\n",
      "  7%|▋         | 436/5875 [00:01<00:23, 234.85it/s]\u001b[A\u001b[A\n",
      "\n",
      "  8%|▊         | 460/5875 [00:02<00:24, 221.84it/s]\u001b[A\u001b[A\n",
      "\n",
      "  8%|▊         | 483/5875 [00:02<00:24, 220.04it/s]\u001b[A\u001b[A\n",
      "\n",
      "  9%|▊         | 514/5875 [00:02<00:22, 240.54it/s]\u001b[A\u001b[A\n",
      "\n",
      "  9%|▉         | 545/5875 [00:02<00:20, 256.58it/s]\u001b[A\u001b[A\n",
      "\n",
      " 10%|▉         | 573/5875 [00:02<00:20, 262.03it/s]\u001b[A\u001b[A\n",
      "\n",
      " 10%|█         | 600/5875 [00:02<00:20, 262.33it/s]\u001b[A\u001b[A\n",
      "\n",
      " 11%|█         | 627/5875 [00:02<00:21, 245.38it/s]\u001b[A\u001b[A\n",
      "\n",
      " 11%|█         | 653/5875 [00:02<00:21, 242.79it/s]\u001b[A\u001b[A\n",
      "\n",
      " 12%|█▏        | 678/5875 [00:02<00:21, 238.08it/s]\u001b[A\u001b[A\n",
      "\n",
      " 12%|█▏        | 703/5875 [00:03<00:23, 219.48it/s]\u001b[A\u001b[A\n",
      "\n",
      " 12%|█▏        | 727/5875 [00:03<00:22, 224.26it/s]\u001b[A\u001b[A\n",
      "\n",
      " 13%|█▎        | 757/5875 [00:03<00:21, 239.72it/s]\u001b[A\u001b[A\n",
      "\n",
      " 13%|█▎        | 782/5875 [00:03<00:21, 240.44it/s]\u001b[A\u001b[A\n",
      "\n",
      " 14%|█▎        | 807/5875 [00:03<00:21, 238.27it/s]\u001b[A\u001b[A\n",
      "\n",
      " 14%|█▍        | 832/5875 [00:03<00:22, 220.15it/s]\u001b[A\u001b[A\n",
      "\n",
      " 15%|█▍        | 855/5875 [00:03<00:23, 211.09it/s]\u001b[A\u001b[A\n",
      "\n",
      " 15%|█▍        | 878/5875 [00:03<00:23, 216.43it/s]\u001b[A\u001b[A\n",
      "\n",
      " 15%|█▌        | 902/5875 [00:03<00:22, 220.64it/s]\u001b[A\u001b[A\n",
      "\n",
      " 16%|█▌        | 925/5875 [00:04<00:23, 214.45it/s]\u001b[A\u001b[A\n",
      "\n",
      " 16%|█▌        | 947/5875 [00:04<00:23, 211.46it/s]\u001b[A\u001b[A\n",
      "\n",
      " 16%|█▋        | 969/5875 [00:04<00:24, 202.93it/s]\u001b[A\u001b[A\n",
      "\n",
      " 17%|█▋        | 990/5875 [00:04<00:24, 202.94it/s]\u001b[A\u001b[A\n",
      "\n",
      " 17%|█▋        | 1014/5875 [00:04<00:23, 210.88it/s]\u001b[A\u001b[A\n",
      "\n",
      " 18%|█▊        | 1036/5875 [00:04<00:23, 206.90it/s]\u001b[A\u001b[A\n",
      "\n",
      " 18%|█▊        | 1057/5875 [00:04<00:23, 205.42it/s]\u001b[A\u001b[A\n",
      "\n",
      " 18%|█▊        | 1078/5875 [00:04<00:23, 204.34it/s]\u001b[A\u001b[A\n",
      "\n",
      " 19%|█▊        | 1101/5875 [00:04<00:22, 209.45it/s]\u001b[A\u001b[A\n",
      "\n",
      " 19%|█▉        | 1125/5875 [00:04<00:21, 216.60it/s]\u001b[A\u001b[A\n",
      "\n",
      " 20%|█▉        | 1147/5875 [00:05<00:22, 213.25it/s]\u001b[A\u001b[A\n",
      "\n",
      " 20%|██        | 1176/5875 [00:05<00:20, 229.81it/s]\u001b[A\u001b[A\n",
      "\n",
      " 20%|██        | 1200/5875 [00:05<00:21, 217.74it/s]\u001b[A\u001b[A\n",
      "\n",
      " 21%|██        | 1223/5875 [00:05<00:21, 211.70it/s]\u001b[A\u001b[A\n",
      "\n",
      " 21%|██▏       | 1252/5875 [00:05<00:20, 229.35it/s]\u001b[A\u001b[A\n",
      "\n",
      " 22%|██▏       | 1276/5875 [00:05<00:21, 216.32it/s]\u001b[A\u001b[A\n",
      "\n",
      " 22%|██▏       | 1299/5875 [00:05<00:20, 219.08it/s]\u001b[A\u001b[A\n",
      "\n",
      " 23%|██▎       | 1327/5875 [00:05<00:19, 231.85it/s]\u001b[A\u001b[A\n",
      "\n",
      " 23%|██▎       | 1351/5875 [00:05<00:19, 229.43it/s]\u001b[A\u001b[A\n",
      "\n",
      " 23%|██▎       | 1375/5875 [00:06<00:19, 230.76it/s]\u001b[A\u001b[A\n",
      "\n",
      " 24%|██▍       | 1399/5875 [00:06<00:19, 226.66it/s]\u001b[A\u001b[A\n",
      "\n",
      " 24%|██▍       | 1422/5875 [00:06<00:19, 224.20it/s]\u001b[A\u001b[A\n",
      "\n",
      " 25%|██▍       | 1445/5875 [00:06<00:19, 222.10it/s]\u001b[A\u001b[A\n",
      "\n",
      " 25%|██▌       | 1472/5875 [00:06<00:19, 231.01it/s]\u001b[A\u001b[A\n",
      "\n",
      " 26%|██▌       | 1503/5875 [00:06<00:17, 248.02it/s]\u001b[A\u001b[A\n",
      "\n",
      " 26%|██▌       | 1529/5875 [00:06<00:18, 236.00it/s]\u001b[A\u001b[A\n",
      "\n",
      " 26%|██▋       | 1554/5875 [00:06<00:18, 235.98it/s]\u001b[A\u001b[A\n",
      "\n",
      " 27%|██▋       | 1581/5875 [00:06<00:17, 244.58it/s]\u001b[A\u001b[A\n",
      "\n",
      " 27%|██▋       | 1607/5875 [00:07<00:17, 248.97it/s]\u001b[A\u001b[A\n",
      "\n",
      " 28%|██▊       | 1633/5875 [00:07<00:18, 231.44it/s]\u001b[A\u001b[A\n",
      "\n",
      " 28%|██▊       | 1657/5875 [00:07<00:19, 221.19it/s]\u001b[A\u001b[A\n",
      "\n",
      " 29%|██▊       | 1683/5875 [00:07<00:18, 231.33it/s]\u001b[A\u001b[A\n",
      "\n",
      " 29%|██▉       | 1707/5875 [00:07<00:18, 228.80it/s]\u001b[A\u001b[A\n",
      "\n",
      " 29%|██▉       | 1731/5875 [00:07<00:17, 230.64it/s]\u001b[A\u001b[A\n",
      "\n",
      " 30%|██▉       | 1755/5875 [00:07<00:17, 231.94it/s]\u001b[A\u001b[A\n",
      "\n",
      " 30%|███       | 1779/5875 [00:07<00:17, 233.33it/s]\u001b[A\u001b[A\n",
      "\n",
      " 31%|███       | 1803/5875 [00:07<00:18, 222.59it/s]\u001b[A\u001b[A\n",
      "\n",
      " 31%|███       | 1826/5875 [00:08<00:18, 224.71it/s]\u001b[A\u001b[A\n",
      "\n",
      " 31%|███▏      | 1849/5875 [00:08<00:18, 212.50it/s]\u001b[A\u001b[A\n",
      "\n",
      " 32%|███▏      | 1879/5875 [00:08<00:17, 232.83it/s]\u001b[A\u001b[A\n",
      "\n",
      " 33%|███▎      | 1912/5875 [00:08<00:15, 255.27it/s]\u001b[A\u001b[A\n",
      "\n",
      " 33%|███▎      | 1941/5875 [00:08<00:14, 264.04it/s]\u001b[A\u001b[A\n",
      "\n",
      " 34%|███▎      | 1969/5875 [00:08<00:16, 241.85it/s]\u001b[A\u001b[A\n",
      "\n",
      " 34%|███▍      | 1995/5875 [00:08<00:16, 230.05it/s]\u001b[A\u001b[A\n",
      "\n",
      " 34%|███▍      | 2019/5875 [00:08<00:17, 222.30it/s]\u001b[A\u001b[A\n",
      "\n",
      " 35%|███▍      | 2042/5875 [00:08<00:17, 213.05it/s]\u001b[A\u001b[A\n",
      "\n",
      " 35%|███▌      | 2064/5875 [00:09<00:18, 211.68it/s]\u001b[A\u001b[A\n",
      "\n",
      " 36%|███▌      | 2086/5875 [00:09<00:18, 209.95it/s]\u001b[A\u001b[A\n",
      "\n",
      " 36%|███▌      | 2108/5875 [00:09<00:18, 208.97it/s]\u001b[A\u001b[A\n",
      "\n",
      " 36%|███▋      | 2131/5875 [00:09<00:17, 212.66it/s]\u001b[A\u001b[A\n",
      "\n",
      " 37%|███▋      | 2153/5875 [00:09<00:18, 201.44it/s]\u001b[A\u001b[A\n",
      "\n",
      " 37%|███▋      | 2174/5875 [00:09<00:18, 200.18it/s]\u001b[A\u001b[A\n",
      "\n",
      " 37%|███▋      | 2200/5875 [00:09<00:17, 214.51it/s]\u001b[A\u001b[A\n",
      "\n",
      " 38%|███▊      | 2230/5875 [00:09<00:15, 232.30it/s]\u001b[A\u001b[A\n",
      "\n",
      " 38%|███▊      | 2254/5875 [00:09<00:15, 229.54it/s]\u001b[A\u001b[A\n",
      "\n",
      " 39%|███▉      | 2282/5875 [00:09<00:14, 241.83it/s]\u001b[A\u001b[A\n",
      "\n",
      " 39%|███▉      | 2309/5875 [00:10<00:14, 248.59it/s]\u001b[A\u001b[A\n",
      "\n",
      " 40%|███▉      | 2335/5875 [00:10<00:14, 243.65it/s]\u001b[A\u001b[A\n",
      "\n",
      " 40%|████      | 2360/5875 [00:10<00:15, 234.33it/s]\u001b[A\u001b[A\n",
      "\n",
      " 41%|████      | 2386/5875 [00:10<00:14, 239.16it/s]\u001b[A\u001b[A\n",
      "\n",
      " 41%|████      | 2411/5875 [00:10<00:15, 216.76it/s]\u001b[A\u001b[A\n",
      "\n",
      " 41%|████▏     | 2438/5875 [00:10<00:15, 227.32it/s]\u001b[A\u001b[A\n",
      "\n",
      " 42%|████▏     | 2462/5875 [00:10<00:14, 230.31it/s]\u001b[A\u001b[A\n",
      "\n",
      " 42%|████▏     | 2486/5875 [00:10<00:15, 216.78it/s]\u001b[A\u001b[A\n",
      "\n",
      " 43%|████▎     | 2509/5875 [00:11<00:15, 211.68it/s]\u001b[A\u001b[A\n",
      "\n",
      " 43%|████▎     | 2531/5875 [00:11<00:15, 210.09it/s]\u001b[A\u001b[A\n",
      "\n",
      " 44%|████▎     | 2560/5875 [00:11<00:14, 226.61it/s]\u001b[A\u001b[A\n",
      "\n",
      " 44%|████▍     | 2584/5875 [00:11<00:15, 219.16it/s]\u001b[A\u001b[A\n",
      "\n",
      " 44%|████▍     | 2607/5875 [00:11<00:15, 215.40it/s]\u001b[A\u001b[A\n",
      "\n",
      " 45%|████▍     | 2630/5875 [00:11<00:14, 219.06it/s]\u001b[A\u001b[A\n",
      "\n",
      " 45%|████▌     | 2653/5875 [00:11<00:14, 216.22it/s]\u001b[A\u001b[A\n",
      "\n",
      " 46%|████▌     | 2683/5875 [00:11<00:13, 234.19it/s]\u001b[A\u001b[A\n",
      "\n",
      " 46%|████▌     | 2707/5875 [00:11<00:14, 222.41it/s]\u001b[A\u001b[A\n",
      "\n",
      " 47%|████▋     | 2732/5875 [00:11<00:13, 228.61it/s]\u001b[A\u001b[A\n",
      "\n",
      " 47%|████▋     | 2756/5875 [00:12<00:13, 226.32it/s]\u001b[A\u001b[A\n",
      "\n",
      " 47%|████▋     | 2779/5875 [00:12<00:14, 218.10it/s]\u001b[A\u001b[A\n",
      "\n",
      " 48%|████▊     | 2802/5875 [00:12<00:14, 211.31it/s]\u001b[A\u001b[A\n",
      "\n",
      " 48%|████▊     | 2824/5875 [00:12<00:14, 207.37it/s]\u001b[A\u001b[A\n",
      "\n",
      " 48%|████▊     | 2845/5875 [00:12<00:15, 201.61it/s]\u001b[A\u001b[A\n",
      "\n",
      " 49%|████▉     | 2869/5875 [00:12<00:14, 209.61it/s]\u001b[A\u001b[A\n",
      "\n",
      " 49%|████▉     | 2898/5875 [00:12<00:13, 228.04it/s]\u001b[A\u001b[A\n",
      "\n",
      " 50%|████▉     | 2922/5875 [00:12<00:13, 218.88it/s]\u001b[A\u001b[A\n",
      "\n",
      " 50%|█████     | 2945/5875 [00:12<00:13, 212.09it/s]\u001b[A\u001b[A\n",
      "\n",
      " 51%|█████     | 2967/5875 [00:13<00:14, 207.35it/s]\u001b[A\u001b[A\n",
      "\n",
      " 51%|█████     | 2989/5875 [00:13<00:14, 201.75it/s]\u001b[A\u001b[A\n",
      "\n",
      " 51%|█████     | 3010/5875 [00:13<00:14, 194.75it/s]\u001b[A\u001b[A\n",
      "\n",
      " 52%|█████▏    | 3039/5875 [00:13<00:13, 214.95it/s]\u001b[A\u001b[A\n",
      "\n",
      " 52%|█████▏    | 3066/5875 [00:13<00:12, 226.44it/s]\u001b[A\u001b[A\n",
      "\n",
      " 53%|█████▎    | 3095/5875 [00:13<00:11, 240.97it/s]\u001b[A\u001b[A\n",
      "\n",
      " 53%|█████▎    | 3120/5875 [00:13<00:11, 238.97it/s]\u001b[A\u001b[A\n",
      "\n",
      " 54%|█████▎    | 3145/5875 [00:13<00:11, 238.98it/s]\u001b[A\u001b[A\n",
      "\n",
      " 54%|█████▍    | 3170/5875 [00:13<00:11, 239.51it/s]\u001b[A\u001b[A\n",
      "\n",
      " 54%|█████▍    | 3195/5875 [00:14<00:11, 239.11it/s]\u001b[A\u001b[A\n",
      "\n",
      " 55%|█████▍    | 3220/5875 [00:14<00:11, 238.48it/s]\u001b[A\u001b[A\n",
      "\n",
      " 55%|█████▌    | 3246/5875 [00:14<00:10, 243.71it/s]\u001b[A\u001b[A\n",
      "\n",
      " 56%|█████▌    | 3271/5875 [00:14<00:10, 240.51it/s]\u001b[A\u001b[A\n",
      "\n",
      " 56%|█████▌    | 3301/5875 [00:14<00:10, 255.07it/s]\u001b[A\u001b[A\n",
      "\n",
      " 57%|█████▋    | 3327/5875 [00:14<00:10, 248.52it/s]\u001b[A\u001b[A\n",
      "\n",
      " 57%|█████▋    | 3353/5875 [00:14<00:10, 241.77it/s]\u001b[A\u001b[A\n",
      "\n",
      " 57%|█████▋    | 3378/5875 [00:14<00:10, 240.29it/s]\u001b[A\u001b[A\n",
      "\n",
      " 58%|█████▊    | 3403/5875 [00:14<00:10, 237.43it/s]\u001b[A\u001b[A\n",
      "\n",
      " 58%|█████▊    | 3427/5875 [00:15<00:10, 236.75it/s]\u001b[A\u001b[A\n",
      "\n",
      " 59%|█████▊    | 3451/5875 [00:15<00:10, 233.65it/s]\u001b[A\u001b[A\n",
      "\n",
      " 59%|█████▉    | 3478/5875 [00:15<00:09, 242.63it/s]\u001b[A\u001b[A\n",
      "\n",
      " 60%|█████▉    | 3503/5875 [00:15<00:09, 238.02it/s]\u001b[A\u001b[A\n",
      "\n",
      " 60%|██████    | 3527/5875 [00:15<00:10, 222.84it/s]\u001b[A\u001b[A\n",
      "\n",
      " 60%|██████    | 3550/5875 [00:15<00:11, 209.06it/s]\u001b[A\u001b[A\n",
      "\n",
      " 61%|██████    | 3574/5875 [00:15<00:10, 216.11it/s]\u001b[A\u001b[A\n",
      "\n",
      " 61%|██████    | 3598/5875 [00:15<00:10, 220.81it/s]\u001b[A\u001b[A\n",
      "\n",
      " 62%|██████▏   | 3621/5875 [00:15<00:10, 219.47it/s]\u001b[A\u001b[A\n",
      "\n",
      " 62%|██████▏   | 3645/5875 [00:15<00:09, 224.00it/s]\u001b[A\u001b[A\n",
      "\n",
      " 62%|██████▏   | 3668/5875 [00:16<00:10, 217.32it/s]\u001b[A\u001b[A\n",
      "\n",
      " 63%|██████▎   | 3690/5875 [00:16<00:10, 211.29it/s]\u001b[A\u001b[A\n",
      "\n",
      " 63%|██████▎   | 3718/5875 [00:16<00:09, 225.88it/s]\u001b[A\u001b[A\n",
      "\n",
      " 64%|██████▎   | 3741/5875 [00:16<00:09, 227.01it/s]\u001b[A\u001b[A\n",
      "\n",
      " 64%|██████▍   | 3764/5875 [00:16<00:09, 220.78it/s]\u001b[A\u001b[A\n",
      "\n",
      " 64%|██████▍   | 3787/5875 [00:16<00:09, 221.16it/s]\u001b[A\u001b[A\n",
      "\n",
      " 65%|██████▍   | 3810/5875 [00:16<00:09, 221.10it/s]\u001b[A\u001b[A\n",
      "\n",
      " 65%|██████▌   | 3836/5875 [00:16<00:08, 229.98it/s]\u001b[A\u001b[A\n",
      "\n",
      " 66%|██████▌   | 3860/5875 [00:16<00:08, 228.72it/s]\u001b[A\u001b[A\n",
      "\n",
      " 66%|██████▌   | 3884/5875 [00:17<00:08, 230.80it/s]\u001b[A\u001b[A\n",
      "\n",
      " 67%|██████▋   | 3908/5875 [00:17<00:09, 208.41it/s]\u001b[A\u001b[A\n",
      "\n",
      " 67%|██████▋   | 3930/5875 [00:17<00:09, 199.19it/s]\u001b[A\u001b[A\n",
      "\n",
      " 67%|██████▋   | 3961/5875 [00:17<00:08, 222.66it/s]\u001b[A\u001b[A\n",
      "\n",
      " 68%|██████▊   | 3985/5875 [00:17<00:08, 223.11it/s]\u001b[A\u001b[A\n",
      "\n",
      " 68%|██████▊   | 4012/5875 [00:17<00:07, 235.19it/s]\u001b[A\u001b[A\n",
      "\n",
      " 69%|██████▊   | 4037/5875 [00:17<00:07, 234.76it/s]\u001b[A\u001b[A\n",
      "\n",
      " 69%|██████▉   | 4062/5875 [00:17<00:08, 221.71it/s]\u001b[A\u001b[A\n",
      "\n",
      " 70%|██████▉   | 4085/5875 [00:17<00:08, 223.34it/s]\u001b[A\u001b[A\n",
      "\n",
      " 70%|██████▉   | 4108/5875 [00:18<00:07, 224.87it/s]\u001b[A\u001b[A\n",
      "\n",
      " 70%|███████   | 4132/5875 [00:18<00:07, 228.71it/s]\u001b[A\u001b[A\n",
      "\n",
      " 71%|███████   | 4156/5875 [00:18<00:07, 230.68it/s]\u001b[A\u001b[A\n",
      "\n",
      " 71%|███████   | 4180/5875 [00:18<00:07, 228.62it/s]\u001b[A\u001b[A\n",
      "\n",
      " 72%|███████▏  | 4209/5875 [00:18<00:06, 243.98it/s]\u001b[A\u001b[A\n",
      "\n",
      " 72%|███████▏  | 4234/5875 [00:18<00:06, 235.38it/s]\u001b[A\u001b[A\n",
      "\n",
      " 72%|███████▏  | 4258/5875 [00:18<00:06, 234.23it/s]\u001b[A\u001b[A\n",
      "\n",
      " 73%|███████▎  | 4282/5875 [00:18<00:06, 231.46it/s]\u001b[A\u001b[A\n",
      "\n",
      " 73%|███████▎  | 4306/5875 [00:18<00:07, 223.07it/s]\u001b[A\u001b[A\n",
      "\n",
      " 74%|███████▎  | 4329/5875 [00:19<00:07, 198.80it/s]\u001b[A\u001b[A\n",
      "\n",
      " 74%|███████▍  | 4357/5875 [00:19<00:07, 215.90it/s]\u001b[A\u001b[A\n",
      "\n",
      " 75%|███████▍  | 4381/5875 [00:19<00:06, 220.65it/s]\u001b[A\u001b[A\n",
      "\n",
      " 75%|███████▍  | 4404/5875 [00:19<00:06, 219.49it/s]\u001b[A\u001b[A\n",
      "\n",
      " 75%|███████▌  | 4431/5875 [00:19<00:06, 231.54it/s]\u001b[A\u001b[A\n",
      "\n",
      " 76%|███████▌  | 4455/5875 [00:19<00:06, 230.04it/s]\u001b[A\u001b[A\n",
      "\n",
      " 76%|███████▌  | 4479/5875 [00:19<00:06, 231.16it/s]\u001b[A\u001b[A\n",
      "\n",
      " 77%|███████▋  | 4503/5875 [00:19<00:05, 231.53it/s]\u001b[A\u001b[A\n",
      "\n",
      " 77%|███████▋  | 4531/5875 [00:19<00:05, 243.64it/s]\u001b[A\u001b[A\n",
      "\n",
      " 78%|███████▊  | 4556/5875 [00:19<00:05, 241.04it/s]\u001b[A\u001b[A\n",
      "\n",
      " 78%|███████▊  | 4581/5875 [00:20<00:05, 231.52it/s]\u001b[A\u001b[A\n",
      "\n",
      " 78%|███████▊  | 4605/5875 [00:20<00:05, 217.94it/s]\u001b[A\u001b[A\n",
      "\n",
      " 79%|███████▉  | 4628/5875 [00:20<00:05, 220.66it/s]\u001b[A\u001b[A\n",
      "\n",
      " 79%|███████▉  | 4653/5875 [00:20<00:05, 228.05it/s]\u001b[A\u001b[A\n",
      "\n",
      " 80%|███████▉  | 4677/5875 [00:20<00:05, 227.88it/s]\u001b[A\u001b[A\n",
      "\n",
      " 80%|████████  | 4700/5875 [00:20<00:05, 217.64it/s]\u001b[A\u001b[A\n",
      "\n",
      " 80%|████████  | 4728/5875 [00:20<00:04, 232.90it/s]\u001b[A\u001b[A\n",
      "\n",
      " 81%|████████  | 4752/5875 [00:20<00:04, 224.62it/s]\u001b[A\u001b[A\n",
      "\n",
      " 81%|████████▏ | 4777/5875 [00:20<00:04, 231.33it/s]\u001b[A\u001b[A\n",
      "\n",
      " 82%|████████▏ | 4807/5875 [00:21<00:04, 246.24it/s]\u001b[A\u001b[A\n",
      "\n",
      " 82%|████████▏ | 4833/5875 [00:21<00:04, 243.45it/s]\u001b[A\u001b[A\n",
      "\n",
      " 83%|████████▎ | 4858/5875 [00:21<00:04, 236.11it/s]\u001b[A\u001b[A\n",
      "\n",
      " 83%|████████▎ | 4882/5875 [00:21<00:04, 223.45it/s]\u001b[A\u001b[A\n",
      "\n",
      " 83%|████████▎ | 4905/5875 [00:21<00:04, 216.05it/s]\u001b[A\u001b[A\n",
      "\n",
      " 84%|████████▍ | 4927/5875 [00:21<00:04, 204.65it/s]\u001b[A\u001b[A\n",
      "\n",
      " 84%|████████▍ | 4954/5875 [00:21<00:04, 219.94it/s]\u001b[A\u001b[A\n",
      "\n",
      " 85%|████████▍ | 4978/5875 [00:21<00:03, 224.26it/s]\u001b[A\u001b[A\n",
      "\n",
      " 85%|████████▌ | 5001/5875 [00:21<00:04, 214.97it/s]\u001b[A\u001b[A\n",
      "\n",
      " 86%|████████▌ | 5025/5875 [00:22<00:03, 219.60it/s]\u001b[A\u001b[A\n",
      "\n",
      " 86%|████████▌ | 5049/5875 [00:22<00:03, 224.70it/s]\u001b[A\u001b[A\n",
      "\n",
      " 86%|████████▋ | 5073/5875 [00:22<00:03, 226.43it/s]\u001b[A\u001b[A\n",
      "\n",
      " 87%|████████▋ | 5097/5875 [00:22<00:03, 229.50it/s]\u001b[A\u001b[A\n",
      "\n",
      " 87%|████████▋ | 5121/5875 [00:22<00:03, 227.24it/s]\u001b[A\u001b[A\n",
      "\n",
      " 88%|████████▊ | 5155/5875 [00:22<00:02, 251.24it/s]\u001b[A\u001b[A\n",
      "\n",
      " 88%|████████▊ | 5181/5875 [00:22<00:02, 236.10it/s]\u001b[A\u001b[A\n",
      "\n",
      " 89%|████████▊ | 5206/5875 [00:22<00:02, 225.73it/s]\u001b[A\u001b[A\n",
      "\n",
      " 89%|████████▉ | 5230/5875 [00:22<00:02, 223.26it/s]\u001b[A\u001b[A\n",
      "\n",
      " 89%|████████▉ | 5254/5875 [00:23<00:02, 226.65it/s]\u001b[A\u001b[A\n",
      "\n",
      " 90%|████████▉ | 5284/5875 [00:23<00:02, 242.80it/s]\u001b[A\u001b[A\n",
      "\n",
      " 91%|█████████ | 5317/5875 [00:23<00:02, 263.27it/s]\u001b[A\u001b[A\n",
      "\n",
      " 91%|█████████ | 5347/5875 [00:23<00:01, 271.89it/s]\u001b[A\u001b[A\n",
      "\n",
      " 91%|█████████▏| 5375/5875 [00:23<00:01, 258.55it/s]\u001b[A\u001b[A\n",
      "\n",
      " 92%|█████████▏| 5402/5875 [00:23<00:01, 247.92it/s]\u001b[A\u001b[A\n",
      "\n",
      " 92%|█████████▏| 5428/5875 [00:23<00:02, 222.30it/s]\u001b[A\u001b[A\n",
      "\n",
      " 93%|█████████▎| 5452/5875 [00:23<00:01, 215.52it/s]\u001b[A\u001b[A\n",
      "\n",
      " 93%|█████████▎| 5475/5875 [00:23<00:01, 214.59it/s]\u001b[A\u001b[A\n",
      "\n",
      " 94%|█████████▎| 5497/5875 [00:24<00:01, 211.36it/s]\u001b[A\u001b[A\n",
      "\n",
      " 94%|█████████▍| 5521/5875 [00:24<00:01, 218.58it/s]\u001b[A\u001b[A\n",
      "\n",
      " 94%|█████████▍| 5547/5875 [00:24<00:01, 228.01it/s]\u001b[A\u001b[A\n",
      "\n",
      " 95%|█████████▍| 5572/5875 [00:24<00:01, 231.84it/s]\u001b[A\u001b[A\n",
      "\n",
      " 95%|█████████▌| 5601/5875 [00:24<00:01, 245.12it/s]\u001b[A\u001b[A\n",
      "\n",
      " 96%|█████████▌| 5635/5875 [00:24<00:00, 264.84it/s]\u001b[A\u001b[A\n",
      "\n",
      " 96%|█████████▋| 5663/5875 [00:24<00:00, 254.62it/s]\u001b[A\u001b[A\n",
      "\n",
      " 97%|█████████▋| 5690/5875 [00:24<00:00, 256.30it/s]\u001b[A\u001b[A\n",
      "\n",
      " 97%|█████████▋| 5717/5875 [00:24<00:00, 239.23it/s]\u001b[A\u001b[A\n",
      "\n",
      " 98%|█████████▊| 5749/5875 [00:25<00:00, 258.29it/s]\u001b[A\u001b[A\n",
      "\n",
      " 98%|█████████▊| 5776/5875 [00:25<00:00, 248.06it/s]\u001b[A\u001b[A\n",
      "\n",
      " 99%|█████████▉| 5802/5875 [00:25<00:00, 231.08it/s]\u001b[A\u001b[A\n",
      "\n",
      " 99%|█████████▉| 5832/5875 [00:25<00:00, 247.41it/s]\u001b[A\u001b[A\n",
      "\n",
      "100%|██████████| 5875/5875 [00:25<00:00, 229.58it/s]\u001b[A\u001b[A\n"
     ]
    }
   ],
   "source": [
    "from scipy.stats import ttest_ind,t\n",
    "alpha = 0.05\n",
    "decision_df = pd.DataFrame(index=control_data.index,columns=['reg'])\n",
    "for gene in tqdm(decision_df.index):\n",
    "    \n",
    "    a = control_data.loc[gene]\n",
    "    b = stress_data.loc[gene]\n",
    "    tval = ttest_ind(b,a).statistic\n",
    "\n",
    "    pval = t.cdf(tval,df=(len(a)-1)+(len(b)-1))\n",
    "    if pval > 0.95: # b>a?  \n",
    "        decision_df.loc[gene]['reg'] = 1\n",
    "    elif pval < 0.05: # b<a?\n",
    "        decision_df.loc[gene]['reg'] = -1\n",
    "    else:\n",
    "        decision_df.loc[gene]['reg'] = 0"
   ]
  },
  {
   "cell_type": "code",
   "execution_count": 278,
   "metadata": {
    "scrolled": true
   },
   "outputs": [
    {
     "data": {
      "text/plain": [
       "<matplotlib.axes._subplots.AxesSubplot at 0x7f6c6a9782b0>"
      ]
     },
     "execution_count": 278,
     "metadata": {},
     "output_type": "execute_result"
    },
    {
     "data": {
      "image/png": "[encoded data removed]",
      "text/plain": [
       "<Figure size 432x288 with 1 Axes>"
      ]
     },
     "metadata": {
      "needs_background": "light"
     },
     "output_type": "display_data"
    }
   ],
   "source": [
    "decision_df['reg'].hist()"
   ]
  },
  {
   "cell_type": "markdown",
   "metadata": {},
   "source": [
    "## M-model simulations"
   ]
  },
  {
   "cell_type": "code",
   "execution_count": 8,
   "metadata": {
    "scrolled": true
   },
   "outputs": [
    {
     "name": "stdout",
     "output_type": "stream",
     "text": [
      "na1_in <=> \n",
      "na1_out <=> \n"
     ]
    }
   ],
   "source": [
    "bsub = cobra.io.load_json_model(ijo_directory)\n",
    "na1_e = bsub.metabolites.na1_e\n",
    "## Separate sodium entrance and exit\n",
    "bsub.reactions.EX_na1_e.lower_bound = 0\n",
    "bsub.reactions.EX_na1_e.upper_bound = 0\n",
    "\n",
    "# Create sodium metabolites\n",
    "na1_in = cobra.Metabolite(id='na1_in')\n",
    "na1_out = cobra.Metabolite(id='na1_out')\n",
    "bsub.add_metabolites([na1_in,na1_out])\n",
    "\n",
    "# Sodium uptake\n",
    "rxn = cobra.Reaction(id='EX_na1_in')\n",
    "rxn.add_metabolites({\n",
    "    na1_in:-1.0\n",
    "})\n",
    "rxn.lower_bound = -1000\n",
    "rxn.upper_bound = 0\n",
    "bsub.add_reaction(rxn)\n",
    "print(rxn.reaction)\n",
    "# Sodium exit\n",
    "rxn = cobra.Reaction(id='DM_na1_out')\n",
    "rxn.add_metabolites({\n",
    "    na1_out:-1.0\n",
    "})\n",
    "rxn.lower_bound = 0\n",
    "rxn.upper_bound = 1000\n",
    "bsub.add_reaction(rxn)\n",
    "print(rxn.reaction)"
   ]
  },
  {
   "cell_type": "code",
   "execution_count": 9,
   "metadata": {
    "scrolled": true
   },
   "outputs": [
    {
     "name": "stdout",
     "output_type": "stream",
     "text": [
      "mal__L_e + na1_in --> mal__L_c + na1_c\n",
      "bilea_e + na1_in --> bilea_c + na1_c\n",
      "3.0 na1_in + pi_e --> 3.0 na1_c + pi_c\n",
      "glu__L_e + na1_in --> glu__L_c + na1_c\n",
      "atp_c + h2o_c + na1_c --> adp_c + h_c + na1_out + pi_c\n",
      "2.0 h_e + lac__L_c + mal__L_e + na1_c --> 2.0 h_c + lac__L_e + mal__L_c + na1_out\n",
      "h_e + na1_c --> h_c + na1_out\n"
     ]
    }
   ],
   "source": [
    "uptake_rxns = get_reactions_of_met(bsub,'na1_e',s = -1,verbose=0)\n",
    "exit_rxns = get_reactions_of_met(bsub,'na1_e',s = 1,verbose=0)\n",
    "\n",
    "for rxn in uptake_rxns:\n",
    "    coeff = rxn.pop(na1_e)\n",
    "    rxn.add_metabolites({na1_in:coeff})\n",
    "    print(rxn.reaction)\n",
    "for rxn in exit_rxns:\n",
    "    coeff = rxn.pop(na1_e)\n",
    "    rxn.add_metabolites({na1_out:coeff})\n",
    "    print(rxn.reaction)"
   ]
  },
  {
   "cell_type": "code",
   "execution_count": 10,
   "metadata": {
    "scrolled": true
   },
   "outputs": [],
   "source": [
    "# Sodium rates and simulation\n",
    "na_rates = -np.arange(0,5,0.1)*1e-3\n",
    "flux_dict = dict()\n",
    "for rate in na_rates:\n",
    "    bsub.reactions.get_by_id('EX_na1_in').lower_bound = rate\n",
    "    bsub.reactions.get_by_id('EX_na1_in').upper_bound = rate\n",
    "    solution = bsub.optimize()\n",
    "    flux_dict[rate] = solution.x_dict\n",
    "flux_responses = pd.DataFrame.from_dict(flux_dict)"
   ]
  },
  {
   "cell_type": "code",
   "execution_count": 11,
   "metadata": {
    "scrolled": true
   },
   "outputs": [
    {
     "data": {
      "text/plain": [
       "<matplotlib.legend.Legend at 0x7f870c5e1a90>"
      ]
     },
     "execution_count": 11,
     "metadata": {},
     "output_type": "execute_result"
    },
    {
     "data": {
      "image/png": "[encoded data removed]",
      "text/plain": [
       "<Figure size 432x288 with 2 Axes>"
      ]
     },
     "metadata": {
      "needs_background": "light"
     },
     "output_type": "display_data"
    }
   ],
   "source": [
    "fig,ax1 = plt.subplots()\n",
    "plt.title('Sodium uptake')\n",
    "\n",
    "ax1.plot(-flux_responses.loc['EX_na1_in'],flux_responses.loc['BIOMASS_BS_10'],\n",
    "            label = 'growth',color='tab:red')\n",
    "ax1.set_xlabel('Sodium uptake')\n",
    "ax1.set_ylabel('Growth rate')\n",
    "\n",
    "ax2 = ax1.twinx()\n",
    "ax2.plot(-flux_responses.loc['EX_na1_in'],flux_responses.loc['EX_o2_e'],\n",
    "            label = 'Glucose')\n",
    "ax2.plot(-flux_responses.loc['EX_na1_in'],flux_responses.loc['EX_glc__D_e'],\n",
    "            label = 'O2')\n",
    "ax2.set_ylabel('Rate')\n",
    "\n",
    "ax2.legend()"
   ]
  },
  {
   "cell_type": "markdown",
   "metadata": {},
   "source": [
    "M-model predicts an increase in growth rate at increased sodium uptake"
   ]
  },
  {
   "cell_type": "code",
   "execution_count": 12,
   "metadata": {
    "scrolled": true
   },
   "outputs": [],
   "source": [
    "gene_dictionary = pd.read_csv('gene_name_dictionary.csv',index_col=1)"
   ]
  },
  {
   "cell_type": "code",
   "execution_count": 13,
   "metadata": {
    "scrolled": true
   },
   "outputs": [],
   "source": [
    "flux_responses = pd.DataFrame.from_dict(flux_dict)"
   ]
  },
  {
   "cell_type": "code",
   "execution_count": 20,
   "metadata": {},
   "outputs": [
    {
     "name": "stderr",
     "output_type": "stream",
     "text": [
      "/home/jt/UCSD/ME_modelling/ME_env/lib/python3.6/site-packages/ipykernel_launcher.py:7 \u001b[1;31mRuntimeWarning\u001b[0m: invalid value encountered in true_divide\n"
     ]
    },
    {
     "data": {
      "text/plain": [
       "(0.9, 1.1)"
      ]
     },
     "execution_count": 20,
     "metadata": {},
     "output_type": "execute_result"
    },
    {
     "data": {
      "image/png": "[encoded data removed]",
      "text/plain": [
       "<Figure size 432x288 with 1 Axes>"
      ]
     },
     "metadata": {
      "needs_background": "light"
     },
     "output_type": "display_data"
    }
   ],
   "source": [
    "import pandas as pd\n",
    "genes = ['argG', 'argH', 'argC', 'argJ', 'argB', 'argD', 'argF', 'carA', 'carB']\n",
    "for idx,gene in enumerate(gene_dictionary.loc[genes]['locus_id'].values):\n",
    "    rxns = bsub.genes.get_by_id(gene).reactions\n",
    "    for rxn in rxns:\n",
    "        flux_profile = abs(flux_responses.loc[rxn.id].values)\n",
    "        flux_profile /= max(flux_profile)\n",
    "        plt.plot(na_rates,flux_profile,label=genes[idx]+'_'+rxn.id)\n",
    "plt.title('Response to salt stress')\n",
    "plt.xlabel('Sodium uptake')\n",
    "plt.ylabel('Flux')\n",
    "plt.legend()\n",
    "plt.ylim([0.9, 1.1])"
   ]
  },
  {
   "cell_type": "markdown",
   "metadata": {},
   "source": [
    "Is it an artifact of growth rate increase?"
   ]
  },
  {
   "cell_type": "code",
   "execution_count": 16,
   "metadata": {
    "scrolled": true
   },
   "outputs": [],
   "source": [
    "bsub.reactions.get_by_id('EX_glc__D_e').lower_bound = -10\n",
    "bsub.reactions.get_by_id('BIOMASS_BS_10').lower_bound = base_mu\n",
    "bsub.reactions.get_by_id('BIOMASS_BS_10').upper_bound = base_mu\n",
    "\n",
    "bsub.objective = 'EX_glc__D_e'\n",
    "bsub.reactions.get_by_id('EX_glc__D_e').objective_coefficient = -1.\n",
    "\n",
    "# Sodium rates and simulation\n",
    "na_rates = -np.arange(0,5,0.1)*1e-3\n",
    "flux_dict = dict()\n",
    "for rate in na_rates:\n",
    "    bsub.reactions.get_by_id('EX_na1_in').lower_bound = rate\n",
    "    bsub.reactions.get_by_id('EX_na1_in').upper_bound = rate\n",
    "    solution = bsub.optimize()\n",
    "    flux_dict[rate] = solution.x_dict\n",
    "flux_responses = pd.DataFrame.from_dict(flux_dict)"
   ]
  },
  {
   "cell_type": "code",
   "execution_count": 17,
   "metadata": {},
   "outputs": [
    {
     "name": "stderr",
     "output_type": "stream",
     "text": [
      "/home/jt/UCSD/ME_modelling/ME_env/lib/python3.6/site-packages/ipykernel_launcher.py:6 \u001b[1;31mRuntimeWarning\u001b[0m: invalid value encountered in true_divide\n"
     ]
    },
    {
     "data": {
      "text/plain": [
       "<matplotlib.legend.Legend at 0x7f6c814e9550>"
      ]
     },
     "execution_count": 17,
     "metadata": {},
     "output_type": "execute_result"
    },
    {
     "data": {
      "image/png": "[encoded data removed]",
      "text/plain": [
       "<Figure size 432x288 with 1 Axes>"
      ]
     },
     "metadata": {
      "needs_background": "light"
     },
     "output_type": "display_data"
    }
   ],
   "source": [
    "genes = ['argG', 'argH', 'argC', 'argJ', 'argB', 'argD', 'argF', 'carA', 'carB']\n",
    "for idx,gene in enumerate(gene_dictionary.loc[genes]['locus_id'].values):\n",
    "    rxns = bsub.genes.get_by_id(gene).reactions\n",
    "    for rxn in rxns:\n",
    "        flux_profile = abs(flux_responses.loc[rxn.id].values)\n",
    "        flux_profile /= max(flux_profile)\n",
    "        plt.plot(na_rates,flux_profile,label=genes[idx]+'_'+rxn.id)\n",
    "plt.title('Response to salt stress')\n",
    "plt.xlabel('Sodium uptake')\n",
    "plt.ylabel('Flux')\n",
    "plt.legend()"
   ]
  },
  {
   "cell_type": "markdown",
   "metadata": {},
   "source": [
    "M-model is not able to capture the decrease in AhrC regulon"
   ]
  },
  {
   "cell_type": "markdown",
   "metadata": {},
   "source": [
    "## ME-model simulations"
   ]
  },
  {
   "cell_type": "code",
   "execution_count": 5,
   "metadata": {
    "scrolled": true
   },
   "outputs": [],
   "source": [
    "with open('../me_models/solution.pickle', 'rb') as solution:\n",
    "    me = pickle.load(solution)"
   ]
  },
  {
   "cell_type": "code",
   "execution_count": 7,
   "metadata": {},
   "outputs": [
    {
     "name": "stdout",
     "output_type": "stream",
     "text": [
      "( CLt 0.0 1000.0 ) \t cl_e --> cl_c\n"
     ]
    },
    {
     "data": {
      "text/plain": [
       "[<MEReaction CLt at 0x7f870a82e630>]"
      ]
     },
     "execution_count": 7,
     "metadata": {},
     "output_type": "execute_result"
    }
   ],
   "source": [
    "get_reactions_of_met(me,'cl_c')"
   ]
  },
  {
   "cell_type": "markdown",
   "metadata": {},
   "source": [
    "Add those reactions that account for osmosis"
   ]
  },
  {
   "cell_type": "code",
   "execution_count": 20,
   "metadata": {
    "scrolled": true
   },
   "outputs": [
    {
     "name": "stdout",
     "output_type": "stream",
     "text": [
      "GLUt4_osm 0 1000 glu__L_e + na1_e <=> glu__L_c + na1_c\n",
      "BILEt4_osm 0 1000 bilea_e + na1_e <=> bilea_c + na1_c\n",
      "PIt7_osm 0 1000 3.0 na1_e + pi_e <=> 3.0 na1_c + pi_c\n",
      "MALt4_osm 0 1000 mal__L_e + na1_e <=> mal__L_c + na1_c\n"
     ]
    }
   ],
   "source": [
    "# Add a copy of transport reactions that do not need a transporter\n",
    "uptake_rxns = get_transport_reactions(me,'na1_e',comps=['e','c'],verbose=0)\n",
    "osm_rxns = []\n",
    "for rxn in uptake_rxns:\n",
    "    stoich = rxn.stoichiometric_data.stoichiometry\n",
    "    osm_id = rxn.id.split('_FWD')[0]+'_osm'\n",
    "    \n",
    "    if not hasattr(me.reactions,osm_id):\n",
    "        osm_rxn = cobrame.MEReaction(osm_id)\n",
    "        me.add_reaction(osm_rxn)\n",
    "\n",
    "        osm_rxn.add_metabolites(stoich)\n",
    "        osm_rxn.lower_bound=0\n",
    "        osm_rxn.upper_bound=1000\n",
    "        osm_rxns.append(osm_rxn)\n",
    "        print(osm_rxn.id,osm_rxn.lower_bound,osm_rxn.upper_bound,osm_rxn.reaction)   \n"
   ]
  },
  {
   "cell_type": "markdown",
   "metadata": {},
   "source": [
    "Add sodium uptake and exit separately"
   ]
  },
  {
   "cell_type": "code",
   "execution_count": 21,
   "metadata": {
    "scrolled": true
   },
   "outputs": [
    {
     "name": "stdout",
     "output_type": "stream",
     "text": [
      "EX_na1_in na1_in <=> \n",
      "DM_na1_out na1_out <=> \n"
     ]
    }
   ],
   "source": [
    "from cobrame import MEReaction,Metabolite\n",
    "\n",
    "na1_e = me.metabolites.na1_e\n",
    "## Separate sodium entrance and exit\n",
    "me.reactions.EX_na1_e.lower_bound = 0\n",
    "me.reactions.EX_na1_e.upper_bound = 0\n",
    "\n",
    "# Create sodium metabolites\n",
    "na1_in = Metabolite(id='na1_in')\n",
    "na1_out = Metabolite(id='na1_out')\n",
    "me.add_metabolites([na1_in,na1_out])\n",
    "\n",
    "# Sodium uptake\n",
    "rxn = MEReaction(id='EX_na1_in')\n",
    "rxn.add_metabolites({\n",
    "    na1_in:-1.0\n",
    "})\n",
    "rxn.lower_bound = -1000\n",
    "rxn.upper_bound = 0\n",
    "me.add_reaction(rxn)\n",
    "print(rxn.id,rxn.reaction)\n",
    "# Sodium exit\n",
    "rxn = MEReaction(id='DM_na1_out')\n",
    "rxn.add_metabolites({\n",
    "    na1_out:-1.0\n",
    "})\n",
    "rxn.lower_bound = 0\n",
    "rxn.upper_bound = 1000\n",
    "me.add_reaction(rxn)\n",
    "print(rxn.id,rxn.reaction)"
   ]
  },
  {
   "cell_type": "code",
   "execution_count": 22,
   "metadata": {
    "scrolled": true
   },
   "outputs": [
    {
     "name": "stdout",
     "output_type": "stream",
     "text": [
      "GLUt4_FWD_BSU10220-MONOMER glu__L_e + na1_in <=> -8.11887730293195e-5*mu BSU10220-MONOMER + glu__L_c + na1_c\n",
      "BILEt4_FWD_BSU19350-MONOMER bilea_e + na1_in <=> -0.000101135364372873*mu BSU19350-MONOMER + bilea_c + na1_c\n",
      "PIt7_FWD_BSU25420-MONOMER 3.0 na1_in + pi_e <=> -0.000103860411537506*mu BSU25420-MONOMER + 3.0 na1_c + pi_c\n",
      "MALt4_osm mal__L_e + na1_in <=> mal__L_c + na1_c\n",
      "GLUt4_FWD_BSU09130-MONOMER glu__L_e + na1_in <=> -4.27350427350427e-6*mu BSU09130-MONOMER + glu__L_c + na1_c\n",
      "MALt4_FWD_BSU31580-MONOMER mal__L_e + na1_in <=> -7.87506223338379e-5*mu BSU31580-MONOMER + mal__L_c + na1_c\n",
      "BILEt4_osm bilea_e + na1_in <=> bilea_c + na1_c\n",
      "GLUt4_osm glu__L_e + na1_in <=> glu__L_c + na1_c\n",
      "PIt7_osm 3.0 na1_in + pi_e <=> 3.0 na1_c + pi_c\n",
      "\n",
      "\n",
      "NAt3_1_FWD_BSU31640-MONOMER h_e + na1_c <=> -4.27350427350427e-6*mu BSU31640-MONOMER + h_c + na1_out\n",
      "NAt3_1_FWD_BSU11640-MONOMER h_e + na1_c <=> -6.08493287593205e-5*mu BSU11640-MONOMER + h_c + na1_out\n",
      "NAt3_1_FWD_BSU31630-MONOMER h_e + na1_c <=> -4.27350427350427e-6*mu BSU31630-MONOMER + h_c + na1_out\n",
      "NAt3_1_FWD_BSU09850-MONOMER h_e + na1_c <=> -4.27350427350427e-6*mu BSU09850-MONOMER + h_c + na1_out\n",
      "NAt3_1_FWD_BSU33420-MONOMER h_e + na1_c <=> -4.27350427350427e-6*mu BSU33420-MONOMER + h_c + na1_out\n",
      "NAt3_1_FWD_BSU31600-MONOMER h_e + na1_c <=> -4.27350427350427e-6*mu BSU31600-MONOMER + h_c + na1_out\n",
      "NAabcO_FWD_CPLX8J2-78 atp_c + h2o_c + na1_c <=> -5.87636248818479e-5*mu CPLX8J2-78 + adp_c + h_c + na1_out + pi_c\n",
      "NAt3_1_FWD_BSU31660-MONOMER h_e + na1_c <=> -4.27350427350427e-6*mu BSU31660-MONOMER + h_c + na1_out\n",
      "NAt3_1_FWD_BSU31610-MONOMER h_e + na1_c <=> -4.27350427350427e-6*mu BSU31610-MONOMER + h_c + na1_out\n",
      "NAt3_1_FWD_BSU31620-MONOMER h_e + na1_c <=> -4.27350427350427e-6*mu BSU31620-MONOMER + h_c + na1_out\n",
      "NAt3_1_FWD_BSU09680-MONOMER h_e + na1_c <=> -4.27350427350427e-6*mu BSU09680-MONOMER + h_c + na1_out\n",
      "NAt3_1_FWD_BSU31650-MONOMER h_e + na1_c <=> -4.27350427350427e-6*mu BSU31650-MONOMER + h_c + na1_out\n",
      "MALt10_FWD_BSU23560-MONOMER 2.0 h_e + lac__L_c + mal__L_e + na1_c <=> -7.59309745207179e-5*mu BSU23560-MONOMER + 2.0 h_c + lac__L_e + mal__L_c + na1_out\n"
     ]
    }
   ],
   "source": [
    "uptake_rxns = get_transport_reactions(me,'na1_e',comps=['e','c'],verbose=0)\n",
    "exit_rxns = get_transport_reactions(me,'na1_e',comps=['c','e'],verbose=0)\n",
    "for rxn in uptake_rxns:\n",
    "    coeff = rxn.pop(na1_e)\n",
    "    rxn.add_metabolites({na1_in:coeff})\n",
    "    print(rxn.id,rxn.reaction)\n",
    "print('\\n')\n",
    "for rxn in exit_rxns:\n",
    "    coeff = rxn.pop(na1_e)\n",
    "    rxn.add_metabolites({na1_out:coeff})\n",
    "    print(rxn.id,rxn.reaction)"
   ]
  },
  {
   "cell_type": "markdown",
   "metadata": {},
   "source": [
    "### Calculations"
   ]
  },
  {
   "cell_type": "code",
   "execution_count": 23,
   "metadata": {
    "scrolled": true
   },
   "outputs": [],
   "source": [
    "def single_flux_response(me,rate,mu_fix=False):\n",
    "    me.reactions.get_by_id('EX_na1_in').lower_bound = rate\n",
    "    me.reactions.get_by_id('EX_na1_in').upper_bound = rate\n",
    "    solve_me_model(me, max_mu = 0.5, min_mu = .05, using_soplex=False,\n",
    "                   precision = 1e-6,verbosity=0,mu_fix=mu_fix)\n",
    "    return rate, me.solution.x_dict"
   ]
  },
  {
   "cell_type": "code",
   "execution_count": 19,
   "metadata": {
    "scrolled": true
   },
   "outputs": [],
   "source": [
    "#new_mu = me.solution.f\n",
    "new_mu = False"
   ]
  },
  {
   "cell_type": "code",
   "execution_count": 41,
   "metadata": {
    "scrolled": true
   },
   "outputs": [
    {
     "name": "stdout",
     "output_type": "stream",
     "text": [
      "Rates to use: [-0.  -0.5 -1.  -1.5 -2.  -2.5 -3.  -3.5 -4.  -4.5]\n"
     ]
    },
    {
     "name": "stderr",
     "output_type": "stream",
     "text": [
      "\n",
      "  0%|          | 0/10 [00:00<?, ?it/s]\u001b[A\n",
      "Sodium stress (10 threads):   0%|          | 0/10 [00:00<?, ?it/s]\u001b[A\n",
      "Sodium stress (10 threads):  10%|█         | 1/10 [17:14<2:35:10, 1034.45s/it]\u001b[A\n",
      "Sodium stress (10 threads):  20%|██        | 2/10 [17:22<1:36:53, 726.65s/it] \u001b[A\n",
      "Sodium stress (10 threads):  30%|███       | 3/10 [17:28<59:32, 510.37s/it]  \u001b[A\n",
      "Sodium stress (10 threads):  40%|████      | 4/10 [17:33<35:51, 358.60s/it]\u001b[A\n",
      "Sodium stress (10 threads):  50%|█████     | 5/10 [17:51<21:23, 256.60s/it]\u001b[A\n",
      "Sodium stress (10 threads):  60%|██████    | 6/10 [18:00<12:09, 182.31s/it]\u001b[A\n",
      "Sodium stress (10 threads):  70%|███████   | 7/10 [18:03<06:25, 128.55s/it]\u001b[A\n",
      "Sodium stress (10 threads):  80%|████████  | 8/10 [18:10<03:03, 91.96s/it] \u001b[A\n",
      "Sodium stress (10 threads):  90%|█████████ | 9/10 [18:10<01:04, 64.42s/it]\u001b[A\n",
      "Sodium stress (10 threads): 100%|██████████| 10/10 [18:18<00:00, 47.41s/it]\u001b[A"
     ]
    },
    {
     "data": {
      "text/html": [
       "<div>\n",
       "<style scoped>\n",
       "    .dataframe tbody tr th:only-of-type {\n",
       "        vertical-align: middle;\n",
       "    }\n",
       "\n",
       "    .dataframe tbody tr th {\n",
       "        vertical-align: top;\n",
       "    }\n",
       "\n",
       "    .dataframe thead th {\n",
       "        text-align: right;\n",
       "    }\n",
       "</style>\n",
       "<table border=\"1\" class=\"dataframe\">\n",
       "  <thead>\n",
       "    <tr style=\"text-align: right;\">\n",
       "      <th></th>\n",
       "      <th>-4.5</th>\n",
       "      <th>-4.0</th>\n",
       "      <th>-3.5</th>\n",
       "      <th>-3.0</th>\n",
       "      <th>-2.5</th>\n",
       "      <th>-2.0</th>\n",
       "      <th>-1.5</th>\n",
       "      <th>-1.0</th>\n",
       "      <th>-0.5</th>\n",
       "      <th>-0.0</th>\n",
       "    </tr>\n",
       "  </thead>\n",
       "  <tbody>\n",
       "    <tr>\n",
       "      <th>biomass_dilution</th>\n",
       "      <td>0.099209</td>\n",
       "      <td>0.099489</td>\n",
       "      <td>0.099770</td>\n",
       "      <td>0.100049</td>\n",
       "      <td>0.100329</td>\n",
       "      <td>0.100610</td>\n",
       "      <td>0.100890</td>\n",
       "      <td>0.101171</td>\n",
       "      <td>0.101451</td>\n",
       "      <td>0.101721</td>\n",
       "    </tr>\n",
       "    <tr>\n",
       "      <th>protein_biomass_to_biomass</th>\n",
       "      <td>0.034911</td>\n",
       "      <td>0.035008</td>\n",
       "      <td>0.035105</td>\n",
       "      <td>0.035201</td>\n",
       "      <td>0.035298</td>\n",
       "      <td>0.035395</td>\n",
       "      <td>0.035492</td>\n",
       "      <td>0.035589</td>\n",
       "      <td>0.035686</td>\n",
       "      <td>0.035778</td>\n",
       "    </tr>\n",
       "    <tr>\n",
       "      <th>mRNA_biomass_to_biomass</th>\n",
       "      <td>0.000115</td>\n",
       "      <td>0.000115</td>\n",
       "      <td>0.000116</td>\n",
       "      <td>0.000116</td>\n",
       "      <td>0.000116</td>\n",
       "      <td>0.000117</td>\n",
       "      <td>0.000117</td>\n",
       "      <td>0.000118</td>\n",
       "      <td>0.000118</td>\n",
       "      <td>0.000118</td>\n",
       "    </tr>\n",
       "    <tr>\n",
       "      <th>tRNA_biomass_to_biomass</th>\n",
       "      <td>0.000698</td>\n",
       "      <td>0.000700</td>\n",
       "      <td>0.000702</td>\n",
       "      <td>0.000704</td>\n",
       "      <td>0.000707</td>\n",
       "      <td>0.000709</td>\n",
       "      <td>0.000711</td>\n",
       "      <td>0.000714</td>\n",
       "      <td>0.000716</td>\n",
       "      <td>0.000718</td>\n",
       "    </tr>\n",
       "    <tr>\n",
       "      <th>rRNA_biomass_to_biomass</th>\n",
       "      <td>0.005046</td>\n",
       "      <td>0.005063</td>\n",
       "      <td>0.005080</td>\n",
       "      <td>0.005096</td>\n",
       "      <td>0.005113</td>\n",
       "      <td>0.005130</td>\n",
       "      <td>0.005146</td>\n",
       "      <td>0.005163</td>\n",
       "      <td>0.005180</td>\n",
       "      <td>0.005196</td>\n",
       "    </tr>\n",
       "  </tbody>\n",
       "</table>\n",
       "</div>"
      ],
      "text/plain": [
       "                                -4.5      -4.0      -3.5      -3.0      -2.5  \\\n",
       "biomass_dilution            0.099209  0.099489  0.099770  0.100049  0.100329   \n",
       "protein_biomass_to_biomass  0.034911  0.035008  0.035105  0.035201  0.035298   \n",
       "mRNA_biomass_to_biomass     0.000115  0.000115  0.000116  0.000116  0.000116   \n",
       "tRNA_biomass_to_biomass     0.000698  0.000700  0.000702  0.000704  0.000707   \n",
       "rRNA_biomass_to_biomass     0.005046  0.005063  0.005080  0.005096  0.005113   \n",
       "\n",
       "                                -2.0      -1.5      -1.0      -0.5      -0.0  \n",
       "biomass_dilution            0.100610  0.100890  0.101171  0.101451  0.101721  \n",
       "protein_biomass_to_biomass  0.035395  0.035492  0.035589  0.035686  0.035778  \n",
       "mRNA_biomass_to_biomass     0.000117  0.000117  0.000118  0.000118  0.000118  \n",
       "tRNA_biomass_to_biomass     0.000709  0.000711  0.000714  0.000716  0.000718  \n",
       "rRNA_biomass_to_biomass     0.005130  0.005146  0.005163  0.005180  0.005196  "
      ]
     },
     "execution_count": 41,
     "metadata": {},
     "output_type": "execute_result"
    }
   ],
   "source": [
    "# Calculation at several sodium uptake rates\n",
    "na_rates=-np.arange(0,5,0.5)\n",
    "flux_dict = dict()\n",
    "print('Rates to use: {}'.format(na_rates))\n",
    "\n",
    "import multiprocessing as mp\n",
    "NP = min([len(na_rates),10])\n",
    "pool = mp.Pool(NP)\n",
    "pbar = tqdm(total=len(na_rates))\n",
    "pbar.set_description('Sodium stress ({} threads)'.format(NP))\n",
    "def collect_result(result):\n",
    "    pbar.update(1)\n",
    "    flux_dict[result[0]] = result[1]\n",
    "for rate in na_rates:\n",
    "    pool.apply_async(single_flux_response, args=(me,rate,new_mu), callback=collect_result)\n",
    "pool.close()\n",
    "pool.join()\n",
    "flux_responses_me = pd.DataFrame.from_dict(flux_dict)\n",
    "flux_responses_me = flux_responses_me[sorted(flux_responses_me.columns)]\n",
    "flux_responses_me.head()"
   ]
  },
  {
   "cell_type": "code",
   "execution_count": 48,
   "metadata": {
    "scrolled": true
   },
   "outputs": [],
   "source": [
    "# Save results\n",
    "flux_responses_me.to_csv('salt_flux_responses.csv',index_label='rxn_id')"
   ]
  },
  {
   "cell_type": "code",
   "execution_count": 49,
   "metadata": {
    "scrolled": true
   },
   "outputs": [],
   "source": [
    "flux_responses_me = pd.read_csv('salt_flux_responses.csv',index_col=0)"
   ]
  },
  {
   "cell_type": "code",
   "execution_count": 52,
   "metadata": {
    "scrolled": true
   },
   "outputs": [
    {
     "data": {
      "image/png": "[encoded data removed]",
      "text/plain": [
       "<Figure size 1008x288 with 3 Axes>"
      ]
     },
     "metadata": {
      "needs_background": "light"
     },
     "output_type": "display_data"
    }
   ],
   "source": [
    "# Visualize transcription profiles\n",
    "plt.figure(figsize=(14,4))\n",
    "\n",
    "# TU8J2-912 operon: argCJBDF-carAB\n",
    "plt.subplot(1,3,1)\n",
    "expression = flux_responses_me.loc['transcription_TU8J2_912_from_BSU25200-MONOMER']/flux_responses_me.loc['biomass_dilution']\n",
    "plt.plot(-flux_responses_me.loc['EX_na1_in'],\n",
    "         expression/max(expression),\n",
    "         marker = 'o',markersize=8)\n",
    "plt.title('Transcription of arg operon (TU8J2-912)')\n",
    "plt.ylabel('Transcription level')\n",
    "plt.xlabel('Sodium uptake')\n",
    "\n",
    "# argHG transcription\n",
    "plt.subplot(1,3,2)\n",
    "expression = flux_responses_me.loc['transcription_TU_BSU29450']/flux_responses_me.loc['biomass_dilution']\n",
    "plt.plot(-flux_responses_me.loc['EX_na1_in'],\n",
    "         expression/max(expression), label='argG',\n",
    "         marker = 'o',markersize=8)\n",
    "expression = flux_responses_me.loc['transcription_TU_BSU29440']/flux_responses_me.loc['biomass_dilution']\n",
    "plt.plot(-flux_responses_me.loc['EX_na1_in'],\n",
    "         expression/max(expression), label='argH',\n",
    "         marker = 'o',markersize=8)\n",
    "plt.legend()\n",
    "plt.title('Transcription of argHG operon')\n",
    "plt.ylabel('Transcription level')\n",
    "plt.xlabel('Sodium uptake')\n",
    "\n",
    "plt.subplot(1,3,3)\n",
    "plt.plot(-flux_responses_me.loc['EX_na1_in'],\n",
    "         flux_responses_me.loc['biomass_dilution'],\n",
    "         marker = 'o',markersize=8)\n",
    "plt.title('Growth rate')\n",
    "plt.ylabel('Growth rate')\n",
    "plt.xlabel('Sodium uptake')\n",
    "\n",
    "\n",
    "plt.tight_layout()"
   ]
  },
  {
   "cell_type": "code",
   "execution_count": 53,
   "metadata": {},
   "outputs": [
    {
     "data": {
      "text/plain": [
       "Text(0.5, 1.0, 'artPQR')"
      ]
     },
     "execution_count": 53,
     "metadata": {},
     "output_type": "execute_result"
    },
    {
     "data": {
      "image/png": "[encoded data removed]",
      "text/plain": [
       "<Figure size 1080x288 with 3 Axes>"
      ]
     },
     "metadata": {
      "needs_background": "light"
     },
     "output_type": "display_data"
    }
   ],
   "source": [
    "# Visualize protein expression profiles\n",
    "plt.figure(figsize=(15,4))\n",
    "import itertools\n",
    "marker = itertools.cycle(('v', 's', '^', 'o', '*')) \n",
    "\n",
    "flux_responses_me[abs(flux_responses_me)<1e-16] = 0\n",
    "\n",
    "plt.subplots_adjust(wspace=0.3)\n",
    "plt.subplot(1,3,1)\n",
    "genes = ['argG', 'argH', 'argC', 'argJ', 'argB', 'argD', 'argF']\n",
    "for gene_name,locus_id in gene_dictionary.loc[genes]['locus_id'].items():\n",
    "    expression = flux_responses_me.loc['translation_'+locus_id]\n",
    "    expression /= np.max(expression)\n",
    "    plt.plot(-flux_responses_me.loc['EX_na1_in'],expression,\n",
    "            label=gene_name,marker = next(marker),markersize=8)\n",
    "plt.legend()\n",
    "plt.xlabel('Sodium uptake')\n",
    "plt.ylabel('Protein expression')\n",
    "plt.title('argGHCJBDF')\n",
    "\n",
    "plt.subplot(1,3,2)\n",
    "genes = ['carA', 'carB']\n",
    "for gene_name,locus_id in gene_dictionary.loc[genes]['locus_id'].items():\n",
    "    expression = flux_responses_me.loc['translation_'+locus_id]\n",
    "    expression /= np.max(expression)\n",
    "    plt.plot(-flux_responses_me.loc['EX_na1_in'],expression,\n",
    "            label=gene_name,marker = next(marker),markersize=8)\n",
    "plt.legend()\n",
    "plt.xlabel('Sodium uptake')\n",
    "plt.ylabel('Protein expression')\n",
    "plt.title('carAB')\n",
    "\n",
    "plt.subplot(1,3,3)\n",
    "genes = ['artP', 'artQ','artR']\n",
    "for gene_name,locus_id in gene_dictionary.loc[genes]['locus_id'].items():\n",
    "    expression = flux_responses_me.loc['translation_'+locus_id]\n",
    "    plt.plot(-flux_responses_me.loc['EX_na1_in'],expression,\n",
    "            label=gene_name,marker = next(marker),markersize=8)\n",
    "plt.legend()\n",
    "plt.xlabel('Sodium uptake')\n",
    "plt.ylabel('Protein expression')\n",
    "plt.title('artPQR')\n",
    "\n",
    "# artPQR are not included in the model"
   ]
  },
  {
   "cell_type": "markdown",
   "metadata": {},
   "source": [
    "Notes:\n",
    "* Sodium was forced to go through the model by creating na1_in and na1_out. Otherwise, it would have exited the model without going through the network from EX to DM"
   ]
  },
  {
   "cell_type": "markdown",
   "metadata": {},
   "source": [
    "## Accuracy of prediction of transcription response"
   ]
  },
  {
   "cell_type": "code",
   "execution_count": 218,
   "metadata": {
    "scrolled": true
   },
   "outputs": [],
   "source": [
    "transcription_response = flux_responses_me.loc[flux_responses_me.index.str.contains('translation')]\n",
    "all_genes = [gene.split('_')[1] for gene in transcription_response.index]\n",
    "transcription_df = pd.DataFrame(data=transcription_response.values,index=all_genes,columns=transcription_response.columns)\n",
    "# Only expressed genes\n",
    "transcription_df = transcription_df[transcription_df.any(axis=1)]"
   ]
  },
  {
   "cell_type": "markdown",
   "metadata": {},
   "source": [
    "What should be the threshold to identify up or downregulation in the model?"
   ]
  },
  {
   "cell_type": "code",
   "execution_count": 381,
   "metadata": {
    "scrolled": true
   },
   "outputs": [],
   "source": [
    "thresholds = np.arange(0,0.05,0.001)\n",
    "accuracies = pd.DataFrame(index=thresholds,columns=['TPR','FNR','FDR'])\n",
    "for threshold in thresholds:\n",
    "\n",
    "    predicted_fold_change = ((transcription_df['-4.5']-transcription_df['-0.0'])/transcription_df['-0.0'])\n",
    "\n",
    "    upregulated_genes = predicted_fold_change[predicted_fold_change>threshold]\n",
    "    downregulated_genes = predicted_fold_change[predicted_fold_change<-threshold]\n",
    "    rest_genes = predicted_fold_change[abs(predicted_fold_change)<=threshold]\n",
    "\n",
    "    predicted_decision = pd.DataFrame(data=np.zeros(len(transcription_df.index)),index=transcription_df.index,columns=['reg'])\n",
    "    predicted_decision.loc[upregulated_genes.index]= 1\n",
    "    predicted_decision.loc[downregulated_genes.index] = -1\n",
    "\n",
    "    decision_results = predicted_decision.join(decision_df,lsuffix='_me',rsuffix='_rna')\n",
    "    \n",
    "    \n",
    "    # Metrics\n",
    "    P = decision_results[decision_results['reg_rna'] != 0].index\n",
    "    F = decision_results[decision_results['reg_rna'] == 0].index\n",
    "    pP = decision_results[decision_results['reg_me'] != 0].index\n",
    "    pF = decision_results[decision_results['reg_me'] == 0].index\n",
    "\n",
    "    TP = len(set(P)&set(pP))\n",
    "    FP = len(pP)-TP\n",
    "    TN = len(set(F)&set(pF))\n",
    "    FN = len(pF)-TN\n",
    "\n",
    "    TPR = TP/(TP+FN)\n",
    "    FNR = TN/(TN+FP)\n",
    "\n",
    "    prec = TP/(TP+FP)\n",
    "    FDR = 1-prec\n",
    "    \n",
    "    accuracies.loc[threshold]['TPR'] = TPR\n",
    "    accuracies.loc[threshold]['FNR'] = FNR\n",
    "    accuracies.loc[threshold]['FDR'] = FDR\n",
    "\n",
    "    correct = sum(decision_results['reg_me'] == decision_results['reg_rna'])\n",
    "    incorrect = len(decision_results.index)-correct\n",
    "\n",
    "    accuracy = correct/len(decision_results.index)"
   ]
  },
  {
   "cell_type": "code",
   "execution_count": 384,
   "metadata": {},
   "outputs": [
    {
     "data": {
      "text/plain": [
       "Text(0, 0.5, 'Metric')"
      ]
     },
     "execution_count": 384,
     "metadata": {},
     "output_type": "execute_result"
    },
    {
     "data": {
      "image/png": "[encoded data removed]",
      "text/plain": [
       "<Figure size 432x288 with 1 Axes>"
      ]
     },
     "metadata": {
      "needs_background": "light"
     },
     "output_type": "display_data"
    }
   ],
   "source": [
    "accuracies.plot()\n",
    "plt.xlabel('Threshold for expression change')\n",
    "plt.ylabel('Metric')"
   ]
  },
  {
   "cell_type": "markdown",
   "metadata": {},
   "source": [
    "Seems like the model is able to capture regulation with small changes. Threshold of 0 is the best for accuracy."
   ]
  },
  {
   "cell_type": "code",
   "execution_count": 356,
   "metadata": {
    "scrolled": true
   },
   "outputs": [],
   "source": [
    "threshold = 0.\n",
    "predicted_fold_change = ((transcription_df['-4.5']-transcription_df['-0.0'])/transcription_df['-4.5'])\n",
    "\n",
    "upregulated_genes = predicted_fold_change[predicted_fold_change>threshold]\n",
    "downregulated_genes = predicted_fold_change[predicted_fold_change<-threshold]\n",
    "rest_genes = predicted_fold_change[abs(predicted_fold_change)<=threshold]\n",
    "\n",
    "predicted_decision = pd.DataFrame(data=np.zeros(len(transcription_df.index)),index=transcription_df.index,columns=['reg'])\n",
    "predicted_decision.loc[upregulated_genes.index]= 1\n",
    "predicted_decision.loc[downregulated_genes.index] = -1\n",
    "\n",
    "decision_results = predicted_decision.join(decision_df,lsuffix='_me',rsuffix='_rna')\n",
    "decision_results\n",
    "\n",
    "correct = sum(decision_results['reg_me'] == decision_results['reg_rna'])\n",
    "incorrect = len(decision_results.index)-correct\n",
    "\n",
    "accuracy = correct/len(decision_results.index)\n",
    "accuracies.append(accuracy)"
   ]
  },
  {
   "cell_type": "code",
   "execution_count": 357,
   "metadata": {},
   "outputs": [
    {
     "data": {
      "text/plain": [
       "Text(0.5, 1.0, 'Regulation of active genes in the model')"
      ]
     },
     "execution_count": 357,
     "metadata": {},
     "output_type": "execute_result"
    },
    {
     "data": {
      "image/png": "[encoded data removed]",
      "text/plain": [
       "<Figure size 432x288 with 1 Axes>"
      ]
     },
     "metadata": {
      "needs_background": "light"
     },
     "output_type": "display_data"
    }
   ],
   "source": [
    "decision_results['reg_me'].hist(alpha=0.5,label='reg')\n",
    "decision_results['reg_rna'].hist(alpha=0.5,label='rna')\n",
    "\n",
    "plt.legend()\n",
    "plt.xlabel('Regulation')\n",
    "plt.ylabel('Count')\n",
    "plt.xticks([-1,0,1], ['down',0,'up'])\n",
    "plt.title('Regulation of active genes in the model')"
   ]
  },
  {
   "cell_type": "code",
   "execution_count": 302,
   "metadata": {
    "scrolled": true
   },
   "outputs": [],
   "source": [
    "decision_results[decision_results['reg_me']<0].to_csv('reg_me.csv')"
   ]
  },
  {
   "cell_type": "code",
   "execution_count": 303,
   "metadata": {
    "scrolled": true
   },
   "outputs": [],
   "source": [
    "decision_results[decision_results['reg_rna']<0].to_csv('reg_rna.csv')"
   ]
  },
  {
   "cell_type": "code",
   "execution_count": null,
   "metadata": {
    "scrolled": true
   },
   "outputs": [],
   "source": []
  }
 ],
 "metadata": {
  "kernelspec": {
   "display_name": "Python 3",
   "language": "python",
   "name": "python3"
  },
  "language_info": {
   "codemirror_mode": {
    "name": "ipython",
    "version": 3
   },
   "file_extension": ".py",
   "mimetype": "text/x-python",
   "name": "python",
   "nbconvert_exporter": "python",
   "pygments_lexer": "ipython3",
   "version": "3.6.3"
  }
 },
 "nbformat": 4,
 "nbformat_minor": 4
}
