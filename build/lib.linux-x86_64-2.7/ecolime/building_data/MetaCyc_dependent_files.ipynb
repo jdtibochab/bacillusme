{
 "cells": [
  {
   "cell_type": "markdown",
   "metadata": {},
   "source": [
    "## Generate MetaCyc-dependendt files"
   ]
  },
  {
   "cell_type": "markdown",
   "metadata": {},
   "source": [
    "### protein_complexes.txt"
   ]
  },
  {
   "cell_type": "code",
   "execution_count": 33,
   "metadata": {},
   "outputs": [],
   "source": [
    "import cobra\n",
    "import os\n",
    "import pandas as pd\n",
    "import numpy as np\n",
    "import urllib\n",
    "import pythoncyc as pc\n",
    "import re\n",
    "from Bio.SeqUtils import seq3\n",
    "\n",
    "## Metabolites\n",
    "\n",
    "met_output_file = 'metabolites.txt'\n",
    "m_model_file = './iYO844.json'\n",
    "\n",
    "m_model = cobra.io.load_json_model(m_model_file)\n",
    "\n",
    "## Fix of gene reaction rules\n",
    "m_model.reactions.ACCOAC.gene_reaction_rule = '(BSU29200 and BSU29210) or BSU24350 or BSU24340 or BSU22440'\n",
    "m_model.reactions.PDH.gene_reaction_rule = '(BSU14580 and BSU14590) or BSU14600 or BSU14610'\n",
    "m_model.reactions.ACTD2.gene_reaction_rule = 'BSU08060 and BSU08070'\n",
    "m_model.reactions.get_by_id('AIRC1').gene_reaction_rule = 'BSU06420 or BSU06430'\n",
    "m_model.reactions.get_by_id('ANS').gene_reaction_rule = 'BSU00750 or BSU22680'\n",
    "m_model.reactions.get_by_id('PRFGS_1').gene_reaction_rule = 'BSU06480 or BSU06470'\n",
    "m_model.reactions.get_by_id('RNDR1').gene_reaction_rule = 'BSU17380 and BSU17390'\n",
    "m_model.reactions.get_by_id('RNDR2').gene_reaction_rule = 'BSU17380 and BSU17390'\n",
    "m_model.reactions.get_by_id('RNDR3').gene_reaction_rule = 'BSU17380 and BSU17390'\n",
    "m_model.reactions.get_by_id('RNDR4').gene_reaction_rule = 'BSU17380 and BSU17390'\n"
   ]
  },
  {
   "cell_type": "code",
   "execution_count": 34,
   "metadata": {},
   "outputs": [],
   "source": [
    "bsub = pc.select_organism('bsub')\n",
    "ecoli = pc.select_organism('ecoli')"
   ]
  },
  {
   "cell_type": "code",
   "execution_count": 35,
   "metadata": {
    "scrolled": true
   },
   "outputs": [],
   "source": [
    "PROTEINS = bsub.proteins"
   ]
  },
  {
   "cell_type": "code",
   "execution_count": 36,
   "metadata": {},
   "outputs": [],
   "source": [
    "filename = 'protein_complexes.txt'\n",
    "file = open(filename,'w')\n",
    "CPLX_list = []\n",
    "genes_all_cplxs = []\n",
    "\n",
    "for cplx in PROTEINS.instances:\n",
    "    \n",
    "    cplx_string = str(cplx.frameid)\n",
    "    cplx_string = cplx_string[1:len(cplx_string)-1]\n",
    "    string = cplx_string + '\\t' + 'default_name' + '\\t'\n",
    "\n",
    "    \n",
    "    genes_of_cplx = pc.PGDB.genes_of_protein(bsub,cplx)\n",
    "    genes_of_cplx_comp = []\n",
    "    \n",
    "    for gene in genes_of_cplx:\n",
    "        gene_string = str(gene)\n",
    "        gene_string = gene_string[1:len(gene_string)-1]\n",
    "        \n",
    "        genes_of_cplx_comp.append(gene_string)\n",
    "        string = string + gene_string +'(1)' + ' AND '\n",
    "\n",
    "    \n",
    "    string = string[0:len(string)-5]\n",
    "    string = string + '\\t' + 'M_protein_recon' + '\\n'\n",
    "    \n",
    "    file.write(string)\n",
    "    \n",
    "    CPLX_list.append(cplx_string)\n",
    "    genes_all_cplxs.append(genes_of_cplx_comp)\n",
    "file.close()"
   ]
  },
  {
   "cell_type": "markdown",
   "metadata": {},
   "source": [
    "### enzyme_reaction_association.txt"
   ]
  },
  {
   "cell_type": "code",
   "execution_count": 37,
   "metadata": {},
   "outputs": [],
   "source": [
    "filename = 'enzyme_reaction_association.txt'\n",
    "prot_cplx_filename = 'protein_complexes.txt'\n",
    "\n",
    "file = open(filename,'w')\n",
    "prot_cplx_file = open(prot_cplx_filename,'a')\n",
    "\n",
    "standard_gene_length = 8\n",
    "\n",
    "enz_rxn_assoc_list = []\n",
    "artificial_cplxs = []\n",
    "artificial_id = 0;\n",
    "for reaction in m_model.reactions:\n",
    "    if not (reaction.id[0:3] == 'EX_') and not (reaction.id[0:3] == 'DM_'):\n",
    "        string = str(reaction.id) + '\\t' \n",
    "\n",
    "        rule_string = str(reaction.gene_reaction_rule)\n",
    "            \n",
    "        if rule_string:\n",
    "            rule_string = rule_string.replace('(','')\n",
    "            rule_string = rule_string.replace(')','')\n",
    "            rule_list = rule_string.split(' or ')\n",
    "            enz_rxn_assoc = []\n",
    "\n",
    "            reaction_cplx_list = []\n",
    "            for rule in rule_list:\n",
    "                rule_gene_list = rule.split(' and ')\n",
    "\n",
    "                for index in range(0,len(genes_all_cplxs)-1):\n",
    "                    ref_rule = genes_all_cplxs[index]\n",
    "\n",
    "                    if set(ref_rule) == set(rule_gene_list):\n",
    "                        rule_cplx = CPLX_list[index]\n",
    "                        reaction_cplx_list.append(rule_cplx)\n",
    "\n",
    "            enz_rxn_assoc_list.append(reaction_cplx_list)\n",
    "            string = str(reaction.id) + '\\t'\n",
    "\n",
    "            if reaction_cplx_list:\n",
    "                for cplx in reaction_cplx_list:\n",
    "                    string = string + cplx + ' OR '\n",
    "            else:\n",
    "                for rule in rule_list:\n",
    "                    stoichiometry_string = ''\n",
    "                    if len(rule) == standard_gene_length:\n",
    "                        artificial_cplx = rule + '-MONOMER'\n",
    "                        stoichiometry_string = rule + '(1)'\n",
    "                    else:\n",
    "                        artificial_id = artificial_id + 1\n",
    "                        artificial_cplx = 'CPLX000-' + str(artificial_id)\n",
    "                        cplx_gene_list = rule.split(' and ')\n",
    "\n",
    "                        for gene in cplx_gene_list:\n",
    "                            stoichiometry_string = stoichiometry_string + gene + '(1)' + ' AND '\n",
    "                        stoichiometry_string = stoichiometry_string[0:len(stoichiometry_string)-4]\n",
    "                    string = string + artificial_cplx + ' OR '\n",
    "                    \n",
    "                    if artificial_cplx not in artificial_cplxs:\n",
    "                        artificial_cplxs.append(artificial_cplx)\n",
    "                        prot_cplx_file.write(artificial_cplx + '\\t' + 'default_name' + '\\t' + stoichiometry_string + '\\t' + 'M_protein_recon' + '\\n')\n",
    "\n",
    "        else:\n",
    "            ## TEST\n",
    "            string = string + 'BSU07840-MONOMER    '\n",
    "\n",
    "        string = string[0:len(string)-4]\n",
    "        string = string + '\\n'\n",
    "        file.write(string)\n",
    "    \n",
    "file.close() \n",
    "prot_cplx_file.close()\n",
    "artificial_cplxs = list(set(artificial_cplxs))\n",
    "\n"
   ]
  },
  {
   "cell_type": "markdown",
   "metadata": {},
   "source": [
    "## TUs_from_bsubcyc.txt"
   ]
  },
  {
   "cell_type": "code",
   "execution_count": 38,
   "metadata": {},
   "outputs": [],
   "source": [
    "from Bio import SeqIO\n",
    "\n",
    "filename = 'TUs_from_bsubcyc.txt'\n",
    "file = open(filename,'w')\n",
    "\n",
    "gb_filename = 'NC_000964.gb'   \n",
    "gb_file = SeqIO.read(gb_filename, 'gb')\n",
    "full_seq = str(gb_file.seq)\n",
    "element_types={'CDS', 'rRNA','tRNA', 'ncRNA'}\n",
    "\n",
    "head_string = 'TU_id' + '\\t' + 'start' + '\\t' + 'stop' + '\\t' + 'tss' + '\\t' + 'strand' + '\\t' + 'rho_dependent' + '\\t' + 'sigma' + '\\n'\n",
    "file.write(head_string)\n",
    "TUs = bsub.transcription_units\n",
    "for tu_PFrame in TUs.instances:\n",
    "    tu_data = pc.PToolsFrame.PFrame.get_frame_data(tu_PFrame)\n",
    "    \n",
    "    ## Start and stop\n",
    "    positions = []\n",
    "    for gene_fid in tu_data.components:\n",
    "        if 'BSU' in gene_fid:\n",
    "            gene_PFrame = pc.PToolsFrame.PFrame(gene_fid,bsub,getFrameData=False, isClass=False)\n",
    "            gene_data = pc.PToolsFrame.PFrame.get_frame_data(gene_PFrame)\n",
    "            positions.append(gene_data.left_end_position)\n",
    "            positions.append(gene_data.right_end_position)\n",
    "            gene_id = gene_fid.replace('BSU','BSU_')\n",
    "    if positions:\n",
    "        tu_start = min(positions)\n",
    "        tu_stop = max(positions)\n",
    "    else:\n",
    "        tu_start = 0\n",
    "        tu_stop = 0\n",
    "    \n",
    "    tu_tss = tu_stop\n",
    "    tu_id = tu_data.frameid + '_from_RpoD_mono'\n",
    "    tu_id = tu_id.replace('|','')\n",
    "    tu_id = tu_id.replace('-','_')\n",
    "    \n",
    "    ## Strand    \n",
    "    gene_id = gene_id[1:len(gene_id)-1] ## Only use one gene. The others should have the same direction.\n",
    "    for feature in gb_file.features:\n",
    "        if feature.type not in element_types or 'pseudo' in feature.qualifiers:\n",
    "            continue\n",
    "        if feature.qualifiers[\"locus_tag\"][0] == gene_id:\n",
    "            strand = '+' if feature.location.strand == 1 else '-'\n",
    "    \n",
    "    ##\n",
    "    string = str(tu_id) + '\\t' + str(tu_start) + '\\t' + str(tu_stop) + '\\t' + str(tu_tss) + '\\t' + str(strand) + '\\t' + 'True' + '\\t' + 'RpoD_mono' + '\\n'\n",
    "    \n",
    "    file.write(string)\n",
    "    \n",
    "file.close()"
   ]
  },
  {
   "cell_type": "code",
   "execution_count": 39,
   "metadata": {},
   "outputs": [
    {
     "name": "stdout",
     "output_type": "stream",
     "text": [
      "|TU8J2-1577| [u'|BS8J2-422|', u'|PM8J2-611|', u'|TERM8J2-736|', u'|BSU32470|', u'|BSU32480|', u'|BSU32490|', u'|BSU32500|', u'|BSU32510|']\n",
      "|TU8J2-467| [u'|BS8J2-422|', u'|PM8J2-611|', u'|TERM8J2-736|', u'|BSU32470|', u'|BSU32480|', u'|BSU32490|', u'|BSU32500|', u'|BSU32510|']\n"
     ]
    }
   ],
   "source": [
    "for instance in bsub.transcription_units.instances:\n",
    "    if (instance.frameid == '|TU8J2-1577|') or (instance.frameid == '|TU8J2-467|'):\n",
    "        tu_data = pc.PToolsFrame.PFrame.get_frame_data(tu_PFrame)\n",
    "        print instance.frameid, tu_data.components"
   ]
  },
  {
   "cell_type": "markdown",
   "metadata": {},
   "source": [
    "## trna_to_codon dictionary"
   ]
  },
  {
   "cell_type": "code",
   "execution_count": 8,
   "metadata": {
    "scrolled": true
   },
   "outputs": [
    {
     "data": {
      "text/plain": [
       "{'AAA': 'Lys',\n",
       " 'AAC': 'Asn',\n",
       " 'AAG': 'Lys',\n",
       " 'AAT': 'Asn',\n",
       " 'ACA': 'Thr',\n",
       " 'ACC': 'Thr',\n",
       " 'ACG': 'Thr',\n",
       " 'ACT': 'Thr',\n",
       " 'AGA': 'Arg',\n",
       " 'AGC': 'Ser',\n",
       " 'AGG': 'Arg',\n",
       " 'AGT': 'Ser',\n",
       " 'ATA': 'Ile',\n",
       " 'ATC': 'Ile',\n",
       " 'ATG': 'Met',\n",
       " 'ATT': 'Ile',\n",
       " 'CAA': 'Gln',\n",
       " 'CAC': 'His',\n",
       " 'CAG': 'Gln',\n",
       " 'CAT': 'His',\n",
       " 'CCA': 'Pro',\n",
       " 'CCC': 'Pro',\n",
       " 'CCG': 'Pro',\n",
       " 'CCT': 'Pro',\n",
       " 'CGA': 'Arg',\n",
       " 'CGC': 'Arg',\n",
       " 'CGG': 'Arg',\n",
       " 'CGT': 'Arg',\n",
       " 'CTA': 'Leu',\n",
       " 'CTC': 'Leu',\n",
       " 'CTG': 'Leu',\n",
       " 'CTT': 'Leu',\n",
       " 'GAA': 'Glu',\n",
       " 'GAC': 'Asp',\n",
       " 'GAG': 'Glu',\n",
       " 'GAT': 'Asp',\n",
       " 'GCA': 'Ala',\n",
       " 'GCC': 'Ala',\n",
       " 'GCG': 'Ala',\n",
       " 'GCT': 'Ala',\n",
       " 'GGA': 'Gly',\n",
       " 'GGC': 'Gly',\n",
       " 'GGG': 'Gly',\n",
       " 'GGT': 'Gly',\n",
       " 'GTA': 'Val',\n",
       " 'GTC': 'Val',\n",
       " 'GTG': 'Val',\n",
       " 'GTT': 'Val',\n",
       " 'TAA': 'Ter',\n",
       " 'TAC': 'Tyr',\n",
       " 'TAG': 'Ter',\n",
       " 'TAT': 'Tyr',\n",
       " 'TCA': 'Ser',\n",
       " 'TCC': 'Ser',\n",
       " 'TCG': 'Ser',\n",
       " 'TCT': 'Ser',\n",
       " 'TGA': 'Ter',\n",
       " 'TGC': 'Cys',\n",
       " 'TGG': 'Trp',\n",
       " 'TGT': 'Cys',\n",
       " 'TTA': 'Leu',\n",
       " 'TTC': 'Phe',\n",
       " 'TTG': 'Leu',\n",
       " 'TTT': 'Phe'}"
      ]
     },
     "execution_count": 8,
     "metadata": {},
     "output_type": "execute_result"
    }
   ],
   "source": [
    "\n",
    "tRNA_to_codon_table = {'TTT': 'F',\n",
    " 'TTC': 'F',\n",
    " 'TTA': 'L',\n",
    " 'TTG': 'L',\n",
    " 'TCT': 'S',\n",
    " 'TCC': 'S',\n",
    " 'TCA': 'S',\n",
    " 'TCG': 'S',\n",
    " 'TAT': 'Y',\n",
    " 'TAC': 'Y',\n",
    " 'TAA': '*',\n",
    " 'TAG': '*',\n",
    " 'TGT': 'C',\n",
    " 'TGC': 'C',\n",
    " 'TGA': '*',\n",
    " 'TGG': 'W',\n",
    " 'CTT': 'L',\n",
    " 'CTC': 'L',\n",
    " 'CTA': 'L',\n",
    " 'CTG': 'L',\n",
    " 'CCT': 'P',\n",
    " 'CCC': 'P',\n",
    " 'CCA': 'P',\n",
    " 'CCG': 'P',\n",
    " 'CAT': 'H',\n",
    " 'CAC': 'H',\n",
    " 'CAA': 'Q',\n",
    " 'CAG': 'Q',\n",
    " 'CGT': 'R',\n",
    " 'CGC': 'R',\n",
    " 'CGA': 'R',\n",
    " 'CGG': 'R',\n",
    " 'ATT': 'I',\n",
    " 'ATC': 'I',\n",
    " 'ATA': 'I',\n",
    " 'ATG': 'M',\n",
    " 'ACT': 'T',\n",
    " 'ACC': 'T',\n",
    " 'ACA': 'T',\n",
    " 'ACG': 'T',\n",
    " 'AAT': 'N',\n",
    " 'AAC': 'N',\n",
    " 'AAA': 'K',\n",
    " 'AAG': 'K',\n",
    " 'AGT': 'S',\n",
    " 'AGC': 'S',\n",
    " 'AGA': 'R',\n",
    " 'AGG': 'R',\n",
    " 'GTT': 'V',\n",
    " 'GTC': 'V',\n",
    " 'GTA': 'V',\n",
    " 'GTG': 'V',\n",
    " 'GCT': 'A',\n",
    " 'GCC': 'A',\n",
    " 'GCA': 'A',\n",
    " 'GCG': 'A',\n",
    " 'GAT': 'D',\n",
    " 'GAC': 'D',\n",
    " 'GAA': 'E',\n",
    " 'GAG': 'E',\n",
    " 'GGT': 'G',\n",
    " 'GGC': 'G',\n",
    " 'GGA': 'G',\n",
    " 'GGG': 'G'}\n",
    "\n",
    "for key in tRNA_to_codon_table:\n",
    "    aa_id = tRNA_to_codon_table[key]\n",
    "    aa_id = seq3(aa_id)\n",
    "    tRNA_to_codon_table[key] = aa_id\n",
    "    \n",
    "\n",
    "tRNA_to_codon_table"
   ]
  },
  {
   "cell_type": "code",
   "execution_count": 9,
   "metadata": {},
   "outputs": [],
   "source": [
    "def get_key(my_dict, val): \n",
    "    key_list = []\n",
    "    for key, value in my_dict.items(): \n",
    "         if val == value: \n",
    "                key_list.append(key)\n",
    "    return key_list\n",
    "\n"
   ]
  },
  {
   "cell_type": "code",
   "execution_count": 10,
   "metadata": {
    "scrolled": true
   },
   "outputs": [
    {
     "data": {
      "text/plain": [
       "{'BSU_tRNA_1': ['TTT', 'TTC'],\n",
       " 'BSU_tRNA_10': ['ATG'],\n",
       " 'BSU_tRNA_11': ['GAG', 'GAA'],\n",
       " 'BSU_tRNA_12': ['GTA', 'GTC', 'GTG', 'GTT'],\n",
       " 'BSU_tRNA_13': ['ACA', 'ACG', 'ACT', 'ACC'],\n",
       " 'BSU_tRNA_14': ['AAG', 'AAA'],\n",
       " 'BSU_tRNA_15': ['CTT', 'CTG', 'CTA', 'CTC', 'TTA', 'TTG'],\n",
       " 'BSU_tRNA_16': ['GGT', 'GGG', 'GGA', 'GGC'],\n",
       " 'BSU_tRNA_17': ['CTT', 'CTG', 'CTA', 'CTC', 'TTA', 'TTG'],\n",
       " 'BSU_tRNA_18': ['AGG', 'AGA', 'CGA', 'CGG', 'CGT', 'CGC'],\n",
       " 'BSU_tRNA_19': ['CCT', 'CCG', 'CCA', 'CCC'],\n",
       " 'BSU_tRNA_2': ['GAT', 'GAC'],\n",
       " 'BSU_tRNA_20': ['GCA', 'GCC', 'GCG', 'GCT'],\n",
       " 'BSU_tRNA_21': ['ATG'],\n",
       " 'BSU_tRNA_22': ['GAT', 'GAC'],\n",
       " 'BSU_tRNA_23': ['AAC', 'AAT'],\n",
       " 'BSU_tRNA_24': ['ACA', 'ACG', 'ACT', 'ACC'],\n",
       " 'BSU_tRNA_25': ['GGT', 'GGG', 'GGA', 'GGC'],\n",
       " 'BSU_tRNA_26': ['AGG', 'AGA', 'CGA', 'CGG', 'CGT', 'CGC'],\n",
       " 'BSU_tRNA_27': ['CCT', 'CCG', 'CCA', 'CCC'],\n",
       " 'BSU_tRNA_28': ['GCA', 'GCC', 'GCG', 'GCT'],\n",
       " 'BSU_tRNA_29': ['AAC', 'AAT'],\n",
       " 'BSU_tRNA_3': ['GAG', 'GAA'],\n",
       " 'BSU_tRNA_30': ['AGC', 'AGT', 'TCT', 'TCG', 'TCC', 'TCA'],\n",
       " 'BSU_tRNA_31': ['GAG', 'GAA'],\n",
       " 'BSU_tRNA_32': ['GTA', 'GTC', 'GTG', 'GTT'],\n",
       " 'BSU_tRNA_33': ['ATG'],\n",
       " 'BSU_tRNA_34': ['GAT', 'GAC'],\n",
       " 'BSU_tRNA_35': ['TTT', 'TTC'],\n",
       " 'BSU_tRNA_36': ['ACA', 'ACG', 'ACT', 'ACC'],\n",
       " 'BSU_tRNA_37': ['TAT', 'TAC'],\n",
       " 'BSU_tRNA_38': ['TGG'],\n",
       " 'BSU_tRNA_39': ['CAT', 'CAC'],\n",
       " 'BSU_tRNA_4': ['AAG', 'AAA'],\n",
       " 'BSU_tRNA_40': ['CAA', 'CAG'],\n",
       " 'BSU_tRNA_41': ['GGT', 'GGG', 'GGA', 'GGC'],\n",
       " 'BSU_tRNA_42': ['TGT', 'TGC'],\n",
       " 'BSU_tRNA_43': ['CTT', 'CTG', 'CTA', 'CTC', 'TTA', 'TTG'],\n",
       " 'BSU_tRNA_44': ['CTT', 'CTG', 'CTA', 'CTC', 'TTA', 'TTG'],\n",
       " 'BSU_tRNA_45': ['AAC', 'AAT'],\n",
       " 'BSU_tRNA_46': ['AGC', 'AGT', 'TCT', 'TCG', 'TCC', 'TCA'],\n",
       " 'BSU_tRNA_47': ['GAG', 'GAA'],\n",
       " 'BSU_tRNA_48': ['CAA', 'CAG'],\n",
       " 'BSU_tRNA_49': ['AAG', 'AAA'],\n",
       " 'BSU_tRNA_5': ['ATC', 'ATA', 'ATT'],\n",
       " 'BSU_tRNA_50': ['CTT', 'CTG', 'CTA', 'CTC', 'TTA', 'TTG'],\n",
       " 'BSU_tRNA_51': ['CTT', 'CTG', 'CTA', 'CTC', 'TTA', 'TTG'],\n",
       " 'BSU_tRNA_52': ['GTA', 'GTC', 'GTG', 'GTT'],\n",
       " 'BSU_tRNA_53': ['ACA', 'ACG', 'ACT', 'ACC'],\n",
       " 'BSU_tRNA_54': ['AAG', 'AAA'],\n",
       " 'BSU_tRNA_55': ['CTT', 'CTG', 'CTA', 'CTC', 'TTA', 'TTG'],\n",
       " 'BSU_tRNA_56': ['GGT', 'GGG', 'GGA', 'GGC'],\n",
       " 'BSU_tRNA_57': ['CTT', 'CTG', 'CTA', 'CTC', 'TTA', 'TTG'],\n",
       " 'BSU_tRNA_58': ['AGG', 'AGA', 'CGA', 'CGG', 'CGT', 'CGC'],\n",
       " 'BSU_tRNA_59': ['CCT', 'CCG', 'CCA', 'CCC'],\n",
       " 'BSU_tRNA_6': ['GCA', 'GCC', 'GCG', 'GCT'],\n",
       " 'BSU_tRNA_60': ['GCA', 'GCC', 'GCG', 'GCT'],\n",
       " 'BSU_tRNA_61': ['ATG'],\n",
       " 'BSU_tRNA_62': ['ATG'],\n",
       " 'BSU_tRNA_63': ['AGC', 'AGT', 'TCT', 'TCG', 'TCC', 'TCA'],\n",
       " 'BSU_tRNA_64': ['ATG'],\n",
       " 'BSU_tRNA_65': ['GAT', 'GAC'],\n",
       " 'BSU_tRNA_66': ['TTT', 'TTC'],\n",
       " 'BSU_tRNA_67': ['CAT', 'CAC'],\n",
       " 'BSU_tRNA_68': ['GGT', 'GGG', 'GGA', 'GGC'],\n",
       " 'BSU_tRNA_69': ['ATC', 'ATA', 'ATT'],\n",
       " 'BSU_tRNA_7': ['AGC', 'AGT', 'TCT', 'TCG', 'TCC', 'TCA'],\n",
       " 'BSU_tRNA_70': ['AAC', 'AAT'],\n",
       " 'BSU_tRNA_71': ['AGC', 'AGT', 'TCT', 'TCG', 'TCC', 'TCA'],\n",
       " 'BSU_tRNA_72': ['GAG', 'GAA'],\n",
       " 'BSU_tRNA_73': ['CAA', 'CAG'],\n",
       " 'BSU_tRNA_74': ['CAA', 'CAG'],\n",
       " 'BSU_tRNA_75': ['GAG', 'GAA'],\n",
       " 'BSU_tRNA_76': ['ACA', 'ACG', 'ACT', 'ACC'],\n",
       " 'BSU_tRNA_77': ['TAT', 'TAC'],\n",
       " 'BSU_tRNA_78': ['GTA', 'GTC', 'GTG', 'GTT'],\n",
       " 'BSU_tRNA_79': ['AGG', 'AGA', 'CGA', 'CGG', 'CGT', 'CGC'],\n",
       " 'BSU_tRNA_8': ['ATC', 'ATA', 'ATT'],\n",
       " 'BSU_tRNA_80': ['GGT', 'GGG', 'GGA', 'GGC'],\n",
       " 'BSU_tRNA_81': ['AGG', 'AGA', 'CGA', 'CGG', 'CGT', 'CGC'],\n",
       " 'BSU_tRNA_82': ['GGT', 'GGG', 'GGA', 'GGC'],\n",
       " 'BSU_tRNA_83': ['GTA', 'GTC', 'GTG', 'GTT'],\n",
       " 'BSU_tRNA_84': ['AGG', 'AGA', 'CGA', 'CGG', 'CGT', 'CGC'],\n",
       " 'BSU_tRNA_85': ['AGG', 'AGA', 'CGA', 'CGG', 'CGT', 'CGC'],\n",
       " 'BSU_tRNA_86': ['GCA', 'GCC', 'GCG', 'GCT'],\n",
       " 'BSU_tRNA_9': ['GCA', 'GCC', 'GCG', 'GCT']}"
      ]
     },
     "execution_count": 10,
     "metadata": {},
     "output_type": "execute_result"
    }
   ],
   "source": [
    "trna_to_codon = dict()\n",
    "for tRNA_PFrame in bsub.tRNAs.instances:\n",
    "    tRNA_data = pc.PToolsFrame.PFrame.get_frame_data(tRNA_PFrame)\n",
    "    \n",
    "    tRNA_id = str(tRNA_data.frameid)\n",
    "    tRNA_id = tRNA_id.replace('|','')\n",
    "    tRNA_id = tRNA_id.replace('-tRNA','')\n",
    "    tRNA_id = tRNA_id.replace('TRNA','tRNA')\n",
    "    \n",
    "    aa_id = tRNA_data.common_name\n",
    "    aa_id = aa_id[len(aa_id)-3:len(aa_id)]\n",
    "    \n",
    "    codon_list = get_key(tRNA_to_codon_table, aa_id)\n",
    "    \n",
    "    trna_to_codon[tRNA_id] = codon_list\n",
    "    \n",
    "trna_to_codon\n",
    "    "
   ]
  },
  {
   "cell_type": "markdown",
   "metadata": {},
   "source": [
    "## protein_modification.txt"
   ]
  },
  {
   "cell_type": "code",
   "execution_count": 42,
   "metadata": {},
   "outputs": [],
   "source": [
    "filename = 'protein_modification.txt'\n",
    "file = open(filename,'w')\n",
    "file.write('Modified_enzyme' + '\\t' + 'Core_enzyme' + '\\t' + 'Modifications' + '\\t' + 'Source' + '\\n')\n",
    "cofactors = {'|ZN+2|':'zn2','|CU+2|':'cu2','|NAD|':'nad','|FAD|':'fad','MG+2':'mg2','|CA+2|':'ca2',\n",
    "             '|Reduced-2Fe-2S-Ferredoxins|':'2fe2s','|Oxidized-ferredoxins|':'2fe2s',\n",
    "             '|Reduced-ferredoxins|':'2fe2s','|NADP|':'nad','|PYRIDOXAL_PHOSPHATE|':'pydx5p',\n",
    "             '|ADENOSYLCOBALAMIN|':'adocbl','|BIOTIN|':'btn'}\n",
    "\n",
    "cplx_cofactor_dict = dict()\n",
    "RXNS = bsub.reactions\n",
    "for rxn in RXNS.instances:\n",
    "    rxn_data = pc.PToolsFrame.PFrame.get_frame_data(rxn)\n",
    "    \n",
    "    substrates = rxn_data.substrates\n",
    "    rxn_cofactors = list(set(cofactors) & set(substrates))\n",
    "    \n",
    "    #print rxn_data.frameid, substrates\n",
    "    if any(rxn_cofactors):\n",
    "        cplx_list = pc.PGDB.enzymes_of_reaction(bsub,rxn)\n",
    "        for cplx in cplx_list:\n",
    "            cplx = str(cplx[1:len(cplx)-1])\n",
    "            \n",
    "            if (cplx not in cplx_cofactor_dict.keys()):\n",
    "                cplx_cofactor_dict[cplx] = []\n",
    "                \n",
    "            for cofactor in rxn_cofactors:\n",
    "                \n",
    "                if (cofactors[cofactor] not in cplx_cofactor_dict[cplx]):\n",
    "                    cplx_cofactor_dict[cplx].append(cofactors[cofactor])\n",
    "                    \n",
    "for cplx in cplx_cofactor_dict.keys():\n",
    "    cofactor_string = ''\n",
    "    mod_string = ''\n",
    "    for cofactor in cplx_cofactor_dict[cplx]:\n",
    "        cofactor_string = cofactor_string + cofactor + '()' + ' AND '\n",
    "        mod_string = mod_string + '_' + cofactor\n",
    "    cofactor_string = cofactor_string[0:len(cofactor_string)-5]\n",
    "    \n",
    "    string = cplx + mod_string +'\\t' + cplx + '\\t' + cofactor_string + '\\t' + 'M_protein_recon' + '\\n'\n",
    "    \n",
    "    file.write(string)\n",
    "file.close()\n"
   ]
  },
  {
   "cell_type": "code",
   "execution_count": 41,
   "metadata": {},
   "outputs": [
    {
     "data": {
      "text/plain": [
       "{'BSU00090-MONOMER': ['nad'],\n",
       " 'BSU00810-MONOMER': ['nad'],\n",
       " 'BSU02470-MONOMER': ['nad'],\n",
       " 'BSU03050-MONOMER': ['nad'],\n",
       " 'BSU03210-MONOMER': ['nad'],\n",
       " 'BSU03270-MONOMER': ['nad'],\n",
       " 'BSU03910-MONOMER': ['nad'],\n",
       " 'BSU03990-MONOMER': ['nad'],\n",
       " 'BSU04000-MONOMER': ['nad'],\n",
       " 'BSU06150-MONOMER': ['nad'],\n",
       " 'BSU06240-MONOMER': ['nad'],\n",
       " 'BSU06620-MONOMER': ['nad'],\n",
       " 'BSU07250-MONOMER': ['nad'],\n",
       " 'BSU07830-MONOMER': ['nad'],\n",
       " 'BSU08030-MONOMER': ['nad'],\n",
       " 'BSU08090-MONOMER': ['nad'],\n",
       " 'BSU10530-MONOMER': ['nad'],\n",
       " 'BSU10850-MONOMER': ['nad'],\n",
       " 'BSU11010-MONOMER': ['nad'],\n",
       " 'BSU11190-MONOMER': ['nad'],\n",
       " 'BSU11610-MONOMER': ['nad'],\n",
       " 'BSU12290-MONOMER': ['nad'],\n",
       " 'BSU12350-MONOMER': ['nad'],\n",
       " 'BSU12380-MONOMER': ['nad'],\n",
       " 'BSU13130-MONOMER': ['nad'],\n",
       " 'BSU14060-MONOMER': ['nad'],\n",
       " 'BSU14440-MONOMER': ['nad'],\n",
       " 'BSU14610-MONOMER': ['nad'],\n",
       " 'BSU15110-MONOMER': ['nad'],\n",
       " 'BSU15230-MONOMER': ['nad'],\n",
       " 'BSU15630-MONOMER': ['nad'],\n",
       " 'BSU15750-MONOMER': ['2fe2s'],\n",
       " 'BSU15910-MONOMER': ['nad'],\n",
       " 'BSU16130-MONOMER': ['fad'],\n",
       " 'BSU16550-MONOMER': ['nad'],\n",
       " 'BSU16670-MONOMER': ['fad'],\n",
       " 'BSU16750-MONOMER': ['nad'],\n",
       " 'BSU16990-MONOMER': ['nad'],\n",
       " 'BSU18620-MONOMER': ['fad'],\n",
       " 'BSU21810-MONOMER': ['nad'],\n",
       " 'BSU22140-MONOMER': ['nad'],\n",
       " 'BSU22440-MONOMER': ['btn'],\n",
       " 'BSU22610-MONOMER': ['nad'],\n",
       " 'BSU22830-MONOMER': ['nad'],\n",
       " 'BSU22960-MONOMER': ['nad'],\n",
       " 'BSU23280-MONOMER': ['nad'],\n",
       " 'BSU23550-MONOMER': ['nad'],\n",
       " 'BSU23860-MONOMER': ['nad'],\n",
       " 'BSU24030-MONOMER': ['nad'],\n",
       " 'BSU24060-MONOMER': ['nad'],\n",
       " 'BSU24160-MONOMER': ['nad'],\n",
       " 'BSU24310-MONOMER': ['nad'],\n",
       " 'BSU25070-MONOMER': ['2fe2s'],\n",
       " 'BSU25160-MONOMER': ['2fe2s'],\n",
       " 'BSU25640-MONOMER': ['nad'],\n",
       " 'BSU25660-MONOMER': ['nad'],\n",
       " 'BSU27010-MONOMER': ['nad'],\n",
       " 'BSU28170-MONOMER': ['nad'],\n",
       " 'BSU28270-MONOMER': ['nad'],\n",
       " 'BSU28290-MONOMER': ['nad'],\n",
       " 'BSU28540-MONOMER': ['nad'],\n",
       " 'BSU29020-MONOMER': ['nad'],\n",
       " 'BSU29050-MONOMER': ['nad'],\n",
       " 'BSU29120-MONOMER': ['nad'],\n",
       " 'BSU29130-MONOMER': ['nad'],\n",
       " 'BSU29220-MONOMER': ['nad'],\n",
       " 'BSU29540-MONOMER': ['nad'],\n",
       " 'BSU29880-MONOMER': ['nad'],\n",
       " 'BSU30200-MONOMER': ['btn', '2fe2s'],\n",
       " 'BSU30860-MONOMER': ['nad'],\n",
       " 'BSU31050-MONOMER': ['nad'],\n",
       " 'BSU31060-MONOMER': ['nad'],\n",
       " 'BSU31170-MONOMER': ['nad'],\n",
       " 'BSU31220-MONOMER': ['nad'],\n",
       " 'BSU31360-MONOMER': ['nad'],\n",
       " 'BSU31370-MONOMER': ['nad'],\n",
       " 'BSU31930-MONOMER': ['nad'],\n",
       " 'BSU32000-MONOMER': ['nad'],\n",
       " 'BSU32130-MONOMER': ['nad'],\n",
       " 'BSU32330-MONOMER': ['2fe2s'],\n",
       " 'BSU32840-MONOMER': ['nad'],\n",
       " 'BSU33400-MONOMER': ['nad'],\n",
       " 'BSU33530-MONOMER': ['nad'],\n",
       " 'BSU33940-MONOMER': ['nad'],\n",
       " 'BSU34790-MONOMER': ['nad'],\n",
       " 'BSU34910-MONOMER': ['nad'],\n",
       " 'BSU35060-MONOMER': ['2fe2s'],\n",
       " 'BSU35580-MONOMER': ['nad'],\n",
       " 'BSU36230-MONOMER': ['nad'],\n",
       " 'BSU37050-MONOMER': ['nad'],\n",
       " 'BSU37680-MONOMER': ['nad'],\n",
       " 'BSU37720-MONOMER': ['nad'],\n",
       " 'BSU37780-MONOMER': ['nad'],\n",
       " 'BSU37790-MONOMER': ['nad'],\n",
       " 'BSU37820-MONOMER': ['nad'],\n",
       " 'BSU38020-MONOMER': ['pydx5p'],\n",
       " 'BSU38830-MONOMER': ['nad'],\n",
       " 'BSU40080-MONOMER': ['nad'],\n",
       " 'BSU40100-MONOMER': ['nad'],\n",
       " 'CPLX-8648': ['nad'],\n",
       " 'CPLX-8649': ['nad'],\n",
       " 'CPLX8J2-1': ['nad'],\n",
       " 'CPLX8J2-105': ['nad'],\n",
       " 'CPLX8J2-131': ['pydx5p'],\n",
       " 'CPLX8J2-132': ['nad'],\n",
       " 'CPLX8J2-142': ['ca2'],\n",
       " 'CPLX8J2-16': ['nad'],\n",
       " 'CPLX8J2-179': ['nad', '2fe2s'],\n",
       " 'CPLX8J2-181': ['nad'],\n",
       " 'CPLX8J2-194': ['nad'],\n",
       " 'CPLX8J2-195': ['nad'],\n",
       " 'CPLX8J2-20': ['nad'],\n",
       " 'CPLX8J2-40': ['nad'],\n",
       " 'CPLX8J2-8': ['nad'],\n",
       " 'CPLX8J2-80': ['nad'],\n",
       " 'CPLX8J2-88': ['nad'],\n",
       " 'CPLX8J2-89': ['nad']}"
      ]
     },
     "execution_count": 41,
     "metadata": {},
     "output_type": "execute_result"
    }
   ],
   "source": [
    "cplx_cofactor_dict"
   ]
  },
  {
   "cell_type": "code",
   "execution_count": 13,
   "metadata": {},
   "outputs": [
    {
     "data": {
      "text/html": [
       "<table><tr><td>Class |Reactions| has 1405 instances</td></td></tr></table>"
      ],
      "text/plain": [
       "<IPython.core.display.HTML object>"
      ]
     },
     "metadata": {},
     "output_type": "display_data"
    }
   ],
   "source": [
    "RXNS"
   ]
  },
  {
   "cell_type": "code",
   "execution_count": 14,
   "metadata": {},
   "outputs": [
    {
     "data": {
      "text/html": [
       "<table><tr><td>accession_1</td><td>BSU32510</td></tr><tr><td>centisome_position</td><td>79.22811</td></tr><tr><td>comment</td><td>[u'Evidence 1a: Function experimentally demonstrated in the studied strain; PubMedId: 11344136; Product type c: carrier']</td></tr><tr><td>common_name</td><td>pucA</td></tr><tr><td>component_of</td><td>[u'|CHROM-1-70|', u'|TU8J2-467|']</td></tr><tr><td>creation_date</td><td>3465237850</td></tr><tr><td>creator</td><td>|keseler|</td></tr><tr><td>dblinks</td><td>{u'|STRING|': [u'224308.Bsubs1_010100017636', None, u'|kothari|', 3652461190, None, None], u'|DBTBS-GENES|': [u'pucA', None, u'|taltman|', 3484502256, None, None], u'|GENOLIST|': [u'BSU32510', None, u'|keseler|', 3489409638, None, None], u'|GOA|': [u'O32147', None, u'|keseler|', 3465237847, None, None], u'|INTERPRO|': [u'IPR003777', u'|IN-FAMILY|', u'|keseler|', 3465237847, None, None], u'|SUBTILISWIKI|': [u'pucA', None, u'|keseler|', 3488807606, None, None], u'|SUBTIWIKI|': [u'pucA', None, u'|keseler|', 3474754564, None, None]}</td></tr><tr><td>frameid</td><td>|BSU32510|</td></tr><tr><td>key_slots</td><td>|COMMON-NAME|</td></tr><tr><td>knockout_growth_observations</td><td>[u'|OBS8J2-5|']</td></tr><tr><td>left_end_position</td><td>3339945</td></tr><tr><td>names</td><td>[u'pucA', u'yurF', u'BSU32510']</td></tr><tr><td>pgdb</td><td><PGDB bsub, currently has 5806 PFrames></td></tr><tr><td>product</td><td>[u'|BSU32510-MONOMER|']</td></tr><tr><td>right_end_position</td><td>3340937</td></tr><tr><td>schema_p</td><td>True</td></tr><tr><td>synonym_slots</td><td>[u'|SYNONYMS|', u'|ACCESSION-1|', u'|ACCESSION-2|', u'|ABBREV-NAME|']</td></tr><tr><td>synonyms</td><td>[u'yurF']</td></tr><tr><td>transcription_direction</td><td>-</td></tr></table>"
      ],
      "text/plain": [
       "<IPython.core.display.HTML object>"
      ]
     },
     "metadata": {},
     "output_type": "display_data"
    }
   ],
   "source": [
    "gene_data"
   ]
  },
  {
   "cell_type": "code",
   "execution_count": null,
   "metadata": {},
   "outputs": [],
   "source": []
  },
  {
   "cell_type": "code",
   "execution_count": 16,
   "metadata": {},
   "outputs": [
    {
     "data": {
      "text/html": [
       "<table><tr><td>Class |Complexes| has 1211 instances</td></td></tr></table>"
      ],
      "text/plain": [
       "<IPython.core.display.HTML object>"
      ]
     },
     "metadata": {},
     "output_type": "display_data"
    }
   ],
   "source": [
    "ecoli.complexes"
   ]
  },
  {
   "cell_type": "code",
   "execution_count": 29,
   "metadata": {},
   "outputs": [
    {
     "name": "stdout",
     "output_type": "stream",
     "text": [
      "|CPLX8J2-147|\n"
     ]
    }
   ],
   "source": [
    "for cplx in bsub.complexes.instances:\n",
    "    if cplx.frameid == '|CPLX8J2-147|':\n",
    "        ribosome = cplx\n",
    "        ribosome_data = pc.PToolsFrame.PFrame.get_frame_data(ribosome)\n",
    "        print ribosome.frameid"
   ]
  },
  {
   "cell_type": "code",
   "execution_count": 44,
   "metadata": {},
   "outputs": [
    {
     "name": "stdout",
     "output_type": "stream",
     "text": [
      "|BSU01270|\n"
     ]
    },
    {
     "data": {
      "text/html": [
       "<table><tr><td>accession_1</td><td>BSU01270</td></tr><tr><td>centisome_position</td><td>3.3413227</td></tr><tr><td>comment</td><td>[u'Evidence 1a: Function experimentally demonstrated in the studied strain; PubMedId: 11278078, 12682299; Product type s: structure']</td></tr><tr><td>common_name</td><td>rplX</td></tr><tr><td>component_of</td><td>[u'|CHROM-1-2|']</td></tr><tr><td>creation_date</td><td>3465237857</td></tr><tr><td>creator</td><td>|keseler|</td></tr><tr><td>dblinks</td><td>{u'|STRING|': [u'224308.Bsubs1_010100000655', None, u'|kothari|', 3652461192, None, None], u'|GENOLIST|': [u'BSU01270', None, u'|keseler|', 3489409637, None, None], u'|GOA|': [u'P12876', None, u'|keseler|', 3465237842, None, None], u'|INTERPRO|': [u'IPR014723', u'|IN-FAMILY|', u'|keseler|', 3465237842, None, None], u'|SUBTILISWIKI|': [u'rplX', None, u'|keseler|', 3488807606, None, None], u'|SUBTIWIKI|': [u'rplX', None, u'|keseler|', 3474754563, None, None]}</td></tr><tr><td>frameid</td><td>|BSU01270|</td></tr><tr><td>key_slots</td><td>|COMMON-NAME|</td></tr><tr><td>knockout_growth_observations</td><td>[u'|OBS8J2-1|']</td></tr><tr><td>left_end_position</td><td>140857</td></tr><tr><td>names</td><td>[u'rplX', u'BSU01270']</td></tr><tr><td>pgdb</td><td><PGDB bsub, currently has 11839 PFrames></td></tr><tr><td>product</td><td>[u'|BSU01270-MONOMER|']</td></tr><tr><td>right_end_position</td><td>141168</td></tr><tr><td>schema_p</td><td>True</td></tr><tr><td>synonym_slots</td><td>[u'|SYNONYMS|', u'|ACCESSION-1|', u'|ACCESSION-2|', u'|ABBREV-NAME|']</td></tr><tr><td>transcription_direction</td><td>+</td></tr></table>"
      ],
      "text/plain": [
       "<IPython.core.display.HTML object>"
      ]
     },
     "metadata": {},
     "output_type": "display_data"
    }
   ],
   "source": [
    "for gene in bsub.genes.instances:\n",
    "    if gene.frameid == '|BSU01270|':\n",
    "        test_gene = gene\n",
    "        test_gene_data = pc.PToolsFrame.PFrame.get_frame_data(test_gene)\n",
    "        print test_gene.frameid\n",
    "test_gene_data"
   ]
  },
  {
   "cell_type": "code",
   "execution_count": 53,
   "metadata": {},
   "outputs": [
    {
     "name": "stdout",
     "output_type": "stream",
     "text": [
      "|BSU30940|\n"
     ]
    },
    {
     "data": {
      "text/html": [
       "<table><tr><td>accession_1</td><td>BSU30940</td></tr><tr><td>centisome_position</td><td>75.048164</td></tr><tr><td>comment</td><td>[u'Evidence 1a: Function experimentally demonstrated in the studied strain; PubMedId: 15272305, 8145641; Product type e: enzyme']</td></tr><tr><td>common_name</td><td>glgP</td></tr><tr><td>component_of</td><td>[u'|CHROM-1-66|', u'|TU8J2-507|']</td></tr><tr><td>creation_date</td><td>3465237850</td></tr><tr><td>creator</td><td>|keseler|</td></tr><tr><td>dblinks</td><td>{u'|STRING|': [u'224308.Bsubs1_010100016826', None, u'|kothari|', 3652461192, None, None], u'|DBTBS-GENES|': [u'glgP', None, u'|taltman|', 3484502254, None, None], u'|GENOLIST|': [u'BSU30940', None, u'|keseler|', 3489409638, None, None], u'|GOA|': [u'P39123', None, u'|keseler|', 3465237847, None, None], u'|INTERPRO|': [u'IPR000811', u'|IN-FAMILY|', u'|keseler|', 3465237847, None, None], u'|SUBTILISWIKI|': [u'glgP', None, u'|keseler|', 3488807606, None, None], u'|SUBTIWIKI|': [u'glgP', None, u'|keseler|', 3474754564, None, None]}</td></tr><tr><td>frameid</td><td>|BSU30940|</td></tr><tr><td>key_slots</td><td>|COMMON-NAME|</td></tr><tr><td>knockout_growth_observations</td><td>[u'|OBS8J2-5|']</td></tr><tr><td>left_end_position</td><td>3163735</td></tr><tr><td>names</td><td>[u'glgP', u'BSU30940']</td></tr><tr><td>pgdb</td><td><PGDB bsub, currently has 11839 PFrames></td></tr><tr><td>product</td><td>[u'|BSU30940-MONOMER|']</td></tr><tr><td>right_end_position</td><td>3166131</td></tr><tr><td>schema_p</td><td>True</td></tr><tr><td>synonym_slots</td><td>[u'|SYNONYMS|', u'|ACCESSION-1|', u'|ACCESSION-2|', u'|ABBREV-NAME|']</td></tr><tr><td>transcription_direction</td><td>-</td></tr></table>"
      ],
      "text/plain": [
       "<IPython.core.display.HTML object>"
      ]
     },
     "metadata": {},
     "output_type": "display_data"
    }
   ],
   "source": [
    "for protein in bsub.proteins.instances:\n",
    "    if protein.frameid == '|BSU01270-MONOMER|':\n",
    "        test_protein = gene\n",
    "        print test_protein.frameid\n",
    "test_protein"
   ]
  },
  {
   "cell_type": "code",
   "execution_count": null,
   "metadata": {},
   "outputs": [],
   "source": []
  },
  {
   "cell_type": "code",
   "execution_count": null,
   "metadata": {},
   "outputs": [],
   "source": []
  },
  {
   "cell_type": "code",
   "execution_count": null,
   "metadata": {},
   "outputs": [],
   "source": []
  }
 ],
 "metadata": {
  "kernelspec": {
   "display_name": "Python 2",
   "language": "python",
   "name": "python2"
  },
  "language_info": {
   "codemirror_mode": {
    "name": "ipython",
    "version": 2
   },
   "file_extension": ".py",
   "mimetype": "text/x-python",
   "name": "python",
   "nbconvert_exporter": "python",
   "pygments_lexer": "ipython2",
   "version": "2.7.6"
  }
 },
 "nbformat": 4,
 "nbformat_minor": 2
}
