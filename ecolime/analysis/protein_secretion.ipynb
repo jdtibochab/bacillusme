{
 "cells": [
  {
   "cell_type": "markdown",
   "metadata": {},
   "source": [
    "# Protein secretion"
   ]
  },
  {
   "cell_type": "code",
   "execution_count": 1,
   "metadata": {},
   "outputs": [
    {
     "name": "stderr",
     "output_type": "stream",
     "text": [
      "/home/jt/Downloads/cobrapy-0.5.11/cobra/io/sbml3.py:24: UserWarning: Install lxml for faster SBML I/O\n",
      "  warn(\"Install lxml for faster SBML I/O\")\n",
      "/home/jt/Downloads/cobrapy-0.5.11/cobra/io/__init__.py:12: UserWarning: cobra.io.sbml requires libsbml\n",
      "  warn(\"cobra.io.sbml requires libsbml\")\n"
     ]
    },
    {
     "name": "stdout",
     "output_type": "stream",
     "text": [
      "/home/jt/Downloads/cobrapy-0.5.11/cobra/__init__.py\n",
      "/home/jt/UCSD/cobrame-master/cobrame/__init__.py\n",
      "/home/jt/UCSD/bacillusme-master/ecolime/__init__.py\n"
     ]
    }
   ],
   "source": [
    "from __future__ import print_function, division, absolute_import\n",
    "\n",
    "import sys\n",
    "\n",
    "import qminospy\n",
    "from qminospy.me2 import ME_NLP\n",
    "\n",
    "# python imports\n",
    "from copy import copy\n",
    "import re\n",
    "from os.path import join\n",
    "from collections import defaultdict\n",
    "import pickle\n",
    "\n",
    "# third party imports\n",
    "import pandas\n",
    "import cobra\n",
    "from tqdm import tqdm\n",
    "\n",
    "# COBRAme\n",
    "import cobrame\n",
    "from cobrame.util import building, mu, me_model_interface\n",
    "from cobrame.io.json import save_json_me_model, save_reduced_json_me_model\n",
    "\n",
    "# ECOLIme\n",
    "import ecolime\n",
    "from ecolime import (transcription, translation, flat_files, generics, formulas, compartments)\n",
    "from ecolime.util.helper_functions import *\n",
    "\n",
    "print(cobra.__file__)\n",
    "print(cobrame.__file__)\n",
    "print(ecolime.__file__)"
   ]
  },
  {
   "cell_type": "code",
   "execution_count": 2,
   "metadata": {},
   "outputs": [],
   "source": [
    "with open('../me_models/solution.pickle', 'rb') as solution:\n",
    "    me = pickle.load(solution)"
   ]
  },
  {
   "cell_type": "code",
   "execution_count": 37,
   "metadata": {},
   "outputs": [],
   "source": [
    "def add_demand(me,met_id,flux=0,fraction=0.01):\n",
    "    all_rxns_in_model = [rxn.id for rxn in me.reactions]\n",
    "    met = me.metabolites.get_by_id(met_id)\n",
    "    rxn_id = 'DM_'+met_id\n",
    "    weight = met.formula_weight/1000\n",
    "    \n",
    "    if rxn_id not in all_rxns_in_model:\n",
    "        rxn = cobrame.MEReaction(rxn_id)\n",
    "        me.add_reaction(rxn)\n",
    "        if isinstance(met,cobrame.Metabolite):\n",
    "            rxn.reaction = met_id + ' ->'\n",
    "            mass_correction = 0\n",
    "        elif isinstance(met,cobrame.Complex):\n",
    "            mass_correction = 'protein_biomass'\n",
    "            rxn.reaction = met_id + ' + ' + str(weight) + ' ' + mass_correction + ' ->'\n",
    "        else:\n",
    "            raise ValueError('Compound type not supported')\n",
    "    else:\n",
    "        rxn = me.reactions.get_by_id(rxn_id)\n",
    "        \n",
    "    if not flux and mass_correction:\n",
    "        # fraction 1% of total group production\n",
    "        group_production = me.solution.x_dict[mass_correction+'_to_biomass']\n",
    "        flux = fraction * group_production / weight\n",
    "    elif not flux:\n",
    "        flux = 0.001\n",
    "        \n",
    "    rxn.lower_bound = flux\n",
    "    rxn.upper_bound = flux\n",
    "    \n",
    "def single_sensitivity(me,met_id):\n",
    "    add_demand(me,met_id)\n",
    "    solve_me_model(me, 0.2, min_mu = .05, using_soplex=False, precision = 1e-6,verbosity=0)\n",
    "    return met_id, me.solution.x_dict\n",
    "    "
   ]
  },
  {
   "cell_type": "code",
   "execution_count": 38,
   "metadata": {},
   "outputs": [],
   "source": [
    "def sensitivity(me,met_ids,NP=1,solution=0):\n",
    "    if not solution:\n",
    "        solve_me_model(me, 0.2, min_mu = .05, using_soplex=False, precision = 1e-6)\n",
    "    flux_dict = dict()\n",
    "    flux_dict['base'] = me.solution.x_dict\n",
    "    \n",
    "    if NP == 1:\n",
    "        for met_id in met_ids:\n",
    "            single_protein_sensitivity(me,met_id)\n",
    "            flux_dict[met_id] = me.solution.x_dict\n",
    "    else:\n",
    "        import multiprocessing as mp\n",
    "        pool = mp.Pool(NP)\n",
    "        def collect_result(result):\n",
    "            flux_dict[result[0]] = result[1]\n",
    "            \n",
    "        for met_id in met_ids:\n",
    "            pool.apply_async(single_sensitivity, args=(me,met_id), callback=collect_result)\n",
    "        pool.close()\n",
    "        pool.join()   \n",
    "    \n",
    "    return flux_dict"
   ]
  },
  {
   "cell_type": "code",
   "execution_count": 39,
   "metadata": {},
   "outputs": [],
   "source": [
    "complexes = [met.id for met in me.metabolites if isinstance(met,cobrame.Complex)]"
   ]
  },
  {
   "cell_type": "code",
   "execution_count": null,
   "metadata": {},
   "outputs": [],
   "source": [
    "flux_dict = sensitivity(me,complexes, NP=20,solution=1)"
   ]
  },
  {
   "cell_type": "code",
   "execution_count": null,
   "metadata": {},
   "outputs": [
    {
     "name": "stdout",
     "output_type": "stream",
     "text": [
      "1\n",
      "1\n",
      "1\n",
      "1\n",
      "1\n",
      "1\n",
      "1\n",
      "1\n",
      "1\n",
      "1\n",
      "1\n",
      "1\n",
      "1\n",
      "1\n",
      "1\n",
      "1\n",
      "1\n",
      "1\n",
      "1\n",
      "1\n",
      "1\n"
     ]
    }
   ],
   "source": [
    "base_growth = flux_dict['base']['biomass_dilution']\n",
    "S = []\n",
    "MW = []\n",
    "for protein_id,fluxes in flux_dict.items():\n",
    "    new_growth = fluxes['biomass_dilution']\n",
    "    if protein_id == 'base':\n",
    "        continue\n",
    "    \n",
    "    protein_flux = fluxes['DM_'+protein_id]\n",
    "    S.append((base_growth-new_growth)/protein_flux)\n",
    "    \n",
    "    protein = me.metabolites.get_by_id(protein_id)\n",
    "    MW.append(protein.formula_weight/1000)"
   ]
  },
  {
   "cell_type": "code",
   "execution_count": null,
   "metadata": {},
   "outputs": [],
   "source": [
    "for protein_id,fluxes in flux_dict.items():\n",
    "    "
   ]
  },
  {
   "cell_type": "code",
   "execution_count": 33,
   "metadata": {},
   "outputs": [
    {
     "data": {
      "text/plain": [
       "Text(0, 0.5, 'Sensitivity')"
      ]
     },
     "execution_count": 33,
     "metadata": {},
     "output_type": "execute_result"
    },
    {
     "data": {
      "image/png": "[encoded data removed]",
      "text/plain": [
       "<Figure size 432x288 with 1 Axes>"
      ]
     },
     "metadata": {
      "needs_background": "light"
     },
     "output_type": "display_data"
    }
   ],
   "source": [
    "import matplotlib.pyplot as plt\n",
    "plt.plot(MW,S,'*')\n",
    "plt.xlabel('Molecular weight')\n",
    "plt.ylabel('Sensitivity')"
   ]
  },
  {
   "cell_type": "code",
   "execution_count": null,
   "metadata": {},
   "outputs": [],
   "source": []
  }
 ],
 "metadata": {
  "kernelspec": {
   "display_name": "Python 3",
   "language": "python",
   "name": "python3"
  },
  "language_info": {
   "codemirror_mode": {
    "name": "ipython",
    "version": 3
   },
   "file_extension": ".py",
   "mimetype": "text/x-python",
   "name": "python",
   "nbconvert_exporter": "python",
   "pygments_lexer": "ipython3",
   "version": "3.6.3"
  }
 },
 "nbformat": 4,
 "nbformat_minor": 2
}
