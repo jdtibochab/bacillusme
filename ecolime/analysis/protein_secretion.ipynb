{
 "cells": [
  {
   "cell_type": "markdown",
   "metadata": {},
   "source": [
    "# Protein secretion"
   ]
  },
  {
   "cell_type": "code",
   "execution_count": 1,
   "metadata": {},
   "outputs": [
    {
     "name": "stderr",
     "output_type": "stream",
     "text": [
      "/home/jt/Downloads/cobrapy-0.5.11/cobra/io/sbml3.py:24: UserWarning: Install lxml for faster SBML I/O\n",
      "  warn(\"Install lxml for faster SBML I/O\")\n",
      "/home/jt/Downloads/cobrapy-0.5.11/cobra/io/__init__.py:12: UserWarning: cobra.io.sbml requires libsbml\n",
      "  warn(\"cobra.io.sbml requires libsbml\")\n"
     ]
    },
    {
     "name": "stdout",
     "output_type": "stream",
     "text": [
      "/home/jt/Downloads/cobrapy-0.5.11/cobra/__init__.py\n",
      "/home/jt/UCSD/cobrame-master/cobrame/__init__.py\n",
      "/home/jt/UCSD/bacillusme-master/ecolime/__init__.py\n"
     ]
    }
   ],
   "source": [
    "from __future__ import print_function, division, absolute_import\n",
    "\n",
    "import sys\n",
    "\n",
    "import qminospy\n",
    "from qminospy.me2 import ME_NLP\n",
    "\n",
    "# python imports\n",
    "from copy import copy\n",
    "import re\n",
    "from os.path import join\n",
    "from collections import defaultdict\n",
    "import pickle\n",
    "\n",
    "# third party imports\n",
    "import pandas\n",
    "import cobra\n",
    "\n",
    "# COBRAme\n",
    "import cobrame\n",
    "from cobrame.util import building, mu, me_model_interface\n",
    "from cobrame.io.json import save_json_me_model, save_reduced_json_me_model\n",
    "\n",
    "# ECOLIme\n",
    "import ecolime\n",
    "from ecolime import (transcription, translation, flat_files, generics, formulas, compartments)\n",
    "from ecolime.util.helper_functions import *\n",
    "\n",
    "print(cobra.__file__)\n",
    "print(cobrame.__file__)\n",
    "print(ecolime.__file__)"
   ]
  },
  {
   "cell_type": "code",
   "execution_count": 2,
   "metadata": {},
   "outputs": [],
   "source": [
    "with open('../me_models/iYO844b.pickle', 'rb') as f:\n",
    "    me = pickle.load(f)"
   ]
  },
  {
   "cell_type": "code",
   "execution_count": 4,
   "metadata": {},
   "outputs": [
    {
     "name": "stdout",
     "output_type": "stream",
     "text": [
      "iter\tmuopt    \ta     \tb     \tmu1       \tstat1\n",
      "Finished compiling expressions in 214.437155 seconds\n",
      "Finished substituting S,lb,ub in 9.640172 seconds\n",
      "Finished makeME_LP in 1.070828 seconds\n",
      "Getting MINOS parameters from ME_NLP...\n",
      "1 0.0 0.0 0.5 0.5 1\n",
      "Finished substituting S,lb,ub in 9.114880 seconds\n",
      "Finished makeME_LP in 1.078931 seconds\n",
      "Getting MINOS parameters from ME_NLP...\n",
      "2 0.0 0.0 0.25 0.25 1\n",
      "Finished substituting S,lb,ub in 9.122140 seconds\n",
      "Finished makeME_LP in 1.077351 seconds\n",
      "Getting MINOS parameters from ME_NLP...\n",
      "3 0.0 0.0 0.125 0.125 1\n",
      "Finished substituting S,lb,ub in 9.125032 seconds\n",
      "Finished makeME_LP in 1.060920 seconds\n",
      "Getting MINOS parameters from ME_NLP...\n",
      "4 0.0625 0.0625 0.125 0.0625 optimal\n",
      "Finished substituting S,lb,ub in 9.303525 seconds\n",
      "Finished makeME_LP in 1.094063 seconds\n",
      "Getting MINOS parameters from ME_NLP...\n",
      "5 0.09375 0.09375 0.125 0.09375 optimal\n",
      "Finished substituting S,lb,ub in 9.020577 seconds\n",
      "Finished makeME_LP in 1.046900 seconds\n",
      "Getting MINOS parameters from ME_NLP...\n",
      "6 0.109375 0.109375 0.125 0.109375 optimal\n",
      "Finished substituting S,lb,ub in 10.275672 seconds\n",
      "Finished makeME_LP in 1.239910 seconds\n",
      "Getting MINOS parameters from ME_NLP...\n",
      "7 0.109375 0.109375 0.1171875 0.1171875 1\n",
      "Bisection done in 468.346 seconds\n"
     ]
    }
   ],
   "source": [
    "# Initial solution\n",
    "solve_me_model(me, 1., min_mu = .1, precision=1e-2, using_soplex=False)"
   ]
  },
  {
   "cell_type": "code",
   "execution_count": 5,
   "metadata": {},
   "outputs": [
    {
     "data": {
      "text/plain": [
       "<Solution 0.11 at 0x7fef2a24c048>"
      ]
     },
     "execution_count": 5,
     "metadata": {},
     "output_type": "execute_result"
    }
   ],
   "source": [
    "me.solution"
   ]
  },
  {
   "cell_type": "code",
   "execution_count": null,
   "metadata": {},
   "outputs": [],
   "source": []
  }
 ],
 "metadata": {
  "kernelspec": {
   "display_name": "Python 3",
   "language": "python",
   "name": "python3"
  },
  "language_info": {
   "codemirror_mode": {
    "name": "ipython",
    "version": 3
   },
   "file_extension": ".py",
   "mimetype": "text/x-python",
   "name": "python",
   "nbconvert_exporter": "python",
   "pygments_lexer": "ipython3",
   "version": "3.6.3"
  }
 },
 "nbformat": 4,
 "nbformat_minor": 2
}
