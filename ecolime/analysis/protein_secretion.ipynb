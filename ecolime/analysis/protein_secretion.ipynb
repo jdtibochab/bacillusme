{
 "cells": [
  {
   "cell_type": "markdown",
   "metadata": {},
   "source": [
    "# Protein secretion"
   ]
  },
  {
   "cell_type": "code",
   "execution_count": 1,
   "metadata": {},
   "outputs": [
    {
     "name": "stderr",
     "output_type": "stream",
     "text": [
      "/home/jt/Downloads/cobrapy-0.5.11/cobra/io/sbml3.py:24: UserWarning: Install lxml for faster SBML I/O\n",
      "  warn(\"Install lxml for faster SBML I/O\")\n",
      "/home/jt/Downloads/cobrapy-0.5.11/cobra/io/__init__.py:12: UserWarning: cobra.io.sbml requires libsbml\n",
      "  warn(\"cobra.io.sbml requires libsbml\")\n"
     ]
    },
    {
     "name": "stdout",
     "output_type": "stream",
     "text": [
      "/home/jt/Downloads/cobrapy-0.5.11/cobra/__init__.py\n",
      "/home/jt/UCSD/cobrame-master/cobrame/__init__.py\n",
      "/home/jt/UCSD/bacillusme-master/ecolime/__init__.py\n"
     ]
    }
   ],
   "source": [
    "from __future__ import print_function, division, absolute_import\n",
    "\n",
    "import sys\n",
    "\n",
    "import qminospy\n",
    "from qminospy.me2 import ME_NLP\n",
    "\n",
    "# python imports\n",
    "from copy import copy\n",
    "import re\n",
    "from os.path import join\n",
    "from collections import defaultdict\n",
    "import pickle\n",
    "\n",
    "# third party imports\n",
    "import pandas\n",
    "import cobra\n",
    "from tqdm import tqdm\n",
    "import numpy as np\n",
    "import scipy\n",
    "\n",
    "# COBRAme\n",
    "import cobrame\n",
    "from cobrame.util import building, mu, me_model_interface\n",
    "from cobrame.io.json import save_json_me_model, save_reduced_json_me_model\n",
    "\n",
    "# ECOLIme\n",
    "import ecolime\n",
    "from ecolime import (transcription, translation, flat_files, generics, formulas, compartments)\n",
    "from ecolime.util.helper_functions import *\n",
    "%load_ext autoreload\n",
    "%autoreload 2\n",
    "print(cobra.__file__)\n",
    "print(cobrame.__file__)\n",
    "print(ecolime.__file__)"
   ]
  },
  {
   "cell_type": "code",
   "execution_count": 2,
   "metadata": {},
   "outputs": [],
   "source": [
    "with open('../me_models/solution.pickle', 'rb') as solution:\n",
    "    me = pickle.load(solution)"
   ]
  },
  {
   "cell_type": "markdown",
   "metadata": {},
   "source": [
    "## Protein sensitivity"
   ]
  },
  {
   "cell_type": "markdown",
   "metadata": {},
   "source": [
    "### Calculation"
   ]
  },
  {
   "cell_type": "code",
   "execution_count": 3,
   "metadata": {},
   "outputs": [],
   "source": [
    "from ecolime.analysis import sensitivity as ss"
   ]
  },
  {
   "cell_type": "code",
   "execution_count": 4,
   "metadata": {},
   "outputs": [],
   "source": [
    "complexes = [met.id for met in me.metabolites if isinstance(met,cobrame.Complex)]"
   ]
  },
  {
   "cell_type": "code",
   "execution_count": null,
   "metadata": {},
   "outputs": [
    {
     "name": "stderr",
     "output_type": "stream",
     "text": [
      "biomass_dilution response (10 threads):   2%|▏         | 18/877 [19:35<5:19:10, 22.29s/it]  "
     ]
    }
   ],
   "source": [
    "sensitivity_df,flux_results_df = ss.sensitivity(me,complexes, NP=10,solution=1)"
   ]
  },
  {
   "cell_type": "code",
   "execution_count": null,
   "metadata": {},
   "outputs": [],
   "source": [
    "cost_df,flux_results_cost_df = ss.biosynthetic_cost(me,complexes,cost_rxn='ATPM', NP=10, solution=1)"
   ]
  },
  {
   "cell_type": "code",
   "execution_count": null,
   "metadata": {},
   "outputs": [],
   "source": [
    "cost_df = cost_df.rename(columns={'sensitivity':'ATPM_response'})\n",
    "sensitivity_df = sensitivity_df.rename(columns={'sensitivity':'biomass_dilution_response'})"
   ]
  },
  {
   "cell_type": "code",
   "execution_count": null,
   "metadata": {},
   "outputs": [],
   "source": [
    "flux_results_df.to_csv('./results/sensitivity_raw_results.csv')\n",
    "flux_results_cost_df.to_csv('./results/cost_raw_results.csv')\n",
    "\n",
    "sensitivity_results = sensitivity_df.join(cost_df['ATPM_response'])\n",
    "sensitivity_results.to_csv('./results/sensitivity_results.csv')"
   ]
  },
  {
   "cell_type": "markdown",
   "metadata": {},
   "source": [
    "### Analysis"
   ]
  },
  {
   "cell_type": "code",
   "execution_count": null,
   "metadata": {},
   "outputs": [],
   "source": [
    "flux_results_df = pd.read_csv('./results/sensitivity_raw_results.csv',index_col=0)\n",
    "flux_results_cost_df = pd.read_csv('./results/cost_raw_results.csv',index_col=0)\n",
    "sensitivity_results = pd.read_csv('./results/sensitivity_results.csv',index_col=0)\n",
    "sensitivity_results.sort_values(by='biomass_dilution_response',ascending=False)"
   ]
  },
  {
   "cell_type": "code",
   "execution_count": null,
   "metadata": {},
   "outputs": [],
   "source": [
    "import matplotlib.pyplot as plt\n",
    "plt.figure(figsize=(13,4))\n",
    "plt.subplot(1,2,1)\n",
    "sensitivity_results['ATPM_response'].hist(bins=100)\n",
    "plt.title('Biosynthetic cost of proteins in the model')\n",
    "plt.xlabel('Cost')\n",
    "plt.ylabel('Count')\n",
    "\n",
    "plt.subplot(1,2,2)\n",
    "sensitivity_results['biomass_dilution_response'].hist(bins=100)\n",
    "plt.title('Sensitivity of proteins in the model')\n",
    "plt.xlabel('Sensitivity')\n",
    "plt.ylabel('Count')"
   ]
  },
  {
   "cell_type": "code",
   "execution_count": null,
   "metadata": {},
   "outputs": [],
   "source": [
    "from sklearn.linear_model import LinearRegression\n",
    "\n",
    "MW = sensitivity_results.dropna()['molecular_weight'].values.reshape(-1, 1)\n",
    "S = sensitivity_results.dropna()['biomass_dilution_response'].dropna().values.reshape(-1, 1)\n",
    "C = sensitivity_results.dropna()['ATPM_response'].dropna().values.reshape(-1, 1)\n",
    "S_model = LinearRegression().fit(MW,S)\n",
    "C_model = LinearRegression().fit(MW,C)\n",
    "S_reg = S_model.predict(MW)\n",
    "C_reg = C_model.predict(MW)"
   ]
  },
  {
   "cell_type": "code",
   "execution_count": null,
   "metadata": {},
   "outputs": [],
   "source": [
    "SC_model = LinearRegression().fit(S,C)\n",
    "SC_reg = SC_model.predict(S)\n",
    "plt.scatter(S,C)\n",
    "plt.plot(S,SC_reg,'k')\n",
    "plt.text(np.mean(S),np.max(C),'R2 = '+str(SC_model.score(S,C).round(3)))\n",
    "plt.xlabel('Molecular weight')\n",
    "plt.ylabel('Sensitivity')\n",
    "plt.title('Correlation of S and C')"
   ]
  },
  {
   "cell_type": "code",
   "execution_count": null,
   "metadata": {},
   "outputs": [],
   "source": [
    "plt.figure(figsize=(10,4))\n",
    "plt.subplot(1,2,1)\n",
    "plt.scatter(MW,S)\n",
    "plt.plot(MW,S_reg,'k')\n",
    "plt.text(np.mean(MW),np.max(S),'R2 = '+str(S_model.score(MW,S).round(3)))\n",
    "plt.xlabel('Molecular weight')\n",
    "plt.ylabel('Sensitivity')\n",
    "\n",
    "plt.subplot(1,2,2)\n",
    "plt.scatter(MW,C)\n",
    "plt.plot(MW,C_reg,'k')\n",
    "plt.text(np.mean(MW),np.max(C),'R2 = '+str(C_model.score(MW,C).round(3)))\n",
    "plt.xlabel('Molecular weight')\n",
    "plt.ylabel('Cost')\n",
    "\n",
    "plt.subplots_adjust(wspace=0.3)"
   ]
  },
  {
   "cell_type": "code",
   "execution_count": null,
   "metadata": {},
   "outputs": [],
   "source": [
    "S_residuals = pd.DataFrame(data=S_reg-S,index=sensitivity_results.dropna().index,columns=['residuals'])\n",
    "plt.scatter(MW,S_residuals.values)\n",
    "plt.xlabel('Molecular weight')\n",
    "plt.ylabel('Residuals')"
   ]
  },
  {
   "cell_type": "code",
   "execution_count": null,
   "metadata": {},
   "outputs": [],
   "source": [
    "outliers = S_residuals.abs().sort_values(by='residuals',ascending=False).head(5).index\n",
    "plt.figure()\n",
    "plt.scatter(MW,S)\n",
    "plt.plot(MW,S_reg,'k')\n",
    "plt.xlabel('Molecular weight')\n",
    "plt.ylabel('Sensitivity')\n",
    "\n",
    "for outlier_id in outliers:\n",
    "    plt.text(sensitivity_results.loc[outlier_id]['molecular_weight'],\n",
    "             sensitivity_results.loc[outlier_id]['biomass_dilution_response'],outlier_id)"
   ]
  },
  {
   "cell_type": "code",
   "execution_count": null,
   "metadata": {},
   "outputs": [],
   "source": [
    "for met_id in outliers.index:\n",
    "    rxns = get_reactions_of_met(me,met_id,verbose=False)\n",
    "    for rxn in rxns:\n",
    "        if isinstance(rxn,cobrame.MetabolicReaction):\n",
    "            print(met_id,rxn.subsystem)"
   ]
  },
  {
   "cell_type": "code",
   "execution_count": null,
   "metadata": {},
   "outputs": [],
   "source": [
    "# Look a protein up\n",
    "gene_dictionary = pd.read_csv('gene_name_dictionary.csv',index_col=1)\n",
    "genes = ['trpE','trpD','trpC','trpF','trpB']"
   ]
  },
  {
   "cell_type": "code",
   "execution_count": null,
   "metadata": {},
   "outputs": [],
   "source": [
    "outliers = ['BSU11190-MONOMER']\n",
    "plt.figure()\n",
    "plt.scatter(MW,S)\n",
    "plt.plot(MW,S_reg,'k')\n",
    "plt.xlabel('Molecular weight')\n",
    "plt.ylabel('Sensitivity')\n",
    "\n",
    "included_genes = []\n",
    "for gene_name,locus_id in gene_dictionary.loc[genes]['locus_id'].iteritems():\n",
    "    protein_id = locus_id+'-MONOMER'\n",
    "    if protein_id not in sensitivity_results.index or sensitivity_results.loc[protein_id].isnull().any():\n",
    "        continue\n",
    "    x, y = sensitivity_results.loc[locus_id+'-MONOMER']['molecular_weight'],\\\n",
    "             sensitivity_results.loc[locus_id+'-MONOMER']['biomass_dilution_response']\n",
    "    plt.plot(x,y,marker='*',markersize=10,color='red')\n",
    "    plt.text(x,y,gene_name)\n",
    "    included_genes.append(gene_name)\n",
    "plt.title(included_genes)"
   ]
  },
  {
   "cell_type": "code",
   "execution_count": null,
   "metadata": {},
   "outputs": [],
   "source": []
  }
 ],
 "metadata": {
  "kernelspec": {
   "display_name": "Python 3",
   "language": "python",
   "name": "python3"
  },
  "language_info": {
   "codemirror_mode": {
    "name": "ipython",
    "version": 3
   },
   "file_extension": ".py",
   "mimetype": "text/x-python",
   "name": "python",
   "nbconvert_exporter": "python",
   "pygments_lexer": "ipython3",
   "version": "3.6.3"
  }
 },
 "nbformat": 4,
 "nbformat_minor": 2
}
