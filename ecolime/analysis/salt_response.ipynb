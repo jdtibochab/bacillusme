{
 "cells": [
  {
   "cell_type": "markdown",
   "metadata": {},
   "source": [
    "# Salt stress downregulates AhrC"
   ]
  },
  {
   "cell_type": "code",
   "execution_count": 2,
   "metadata": {},
   "outputs": [
    {
     "name": "stderr",
     "output_type": "stream",
     "text": [
      "/home/jt/Downloads/cobrapy-0.5.11/cobra/io/sbml3.py:24: UserWarning: Install lxml for faster SBML I/O\n",
      "  warn(\"Install lxml for faster SBML I/O\")\n",
      "/home/jt/Downloads/cobrapy-0.5.11/cobra/io/__init__.py:12: UserWarning: cobra.io.sbml requires libsbml\n",
      "  warn(\"cobra.io.sbml requires libsbml\")\n"
     ]
    },
    {
     "name": "stdout",
     "output_type": "stream",
     "text": [
      "/home/jt/Downloads/cobrapy-0.5.11/cobra/__init__.py\n",
      "/home/jt/UCSD/cobrame-master/cobrame/__init__.py\n",
      "/home/jt/UCSD/bacillusme-master/ecolime/__init__.py\n"
     ]
    }
   ],
   "source": [
    "from __future__ import print_function, division, absolute_import\n",
    "\n",
    "import sys\n",
    "\n",
    "import qminospy\n",
    "from qminospy.me2 import ME_NLP\n",
    "\n",
    "# python imports\n",
    "from copy import copy\n",
    "import re\n",
    "from os.path import join\n",
    "from collections import defaultdict\n",
    "import pickle\n",
    "\n",
    "# third party imports\n",
    "import pandas\n",
    "import cobra\n",
    "from tqdm import tqdm\n",
    "import numpy as np\n",
    "import scipy\n",
    "import matplotlib.pyplot as plt\n",
    "\n",
    "# COBRAme\n",
    "import cobrame\n",
    "from cobrame.util import building, mu, me_model_interface\n",
    "from cobrame.io.json import save_json_me_model, save_reduced_json_me_model\n",
    "\n",
    "# ECOLIme\n",
    "import ecolime\n",
    "from ecolime import (transcription, translation, flat_files, generics, formulas, compartments)\n",
    "from ecolime.util.helper_functions import *\n",
    "%load_ext autoreload\n",
    "%autoreload 2\n",
    "print(cobra.__file__)\n",
    "print(cobrame.__file__)\n",
    "print(ecolime.__file__)"
   ]
  },
  {
   "cell_type": "markdown",
   "metadata": {},
   "source": [
    "Load"
   ]
  },
  {
   "cell_type": "code",
   "execution_count": 3,
   "metadata": {},
   "outputs": [],
   "source": [
    "eco_directory = join(flat_files.ecoli_files_dir, 'iJO1366.json')\n",
    "ijo_directory = join(flat_files.ecoli_files_dir, 'iYO844.json')\n",
    "uni_directory = join(flat_files.ecoli_files_dir, 'universal_model.json')\n",
    "\n",
    "eco = cobra.io.load_json_model(eco_directory)\n",
    "bsub = cobra.io.load_json_model(ijo_directory)\n",
    "uni = cobra.io.load_json_model(uni_directory)\n",
    "\n",
    "bsub.optimize()\n",
    "base_mu = bsub.solution.f"
   ]
  },
  {
   "cell_type": "code",
   "execution_count": 4,
   "metadata": {},
   "outputs": [],
   "source": [
    "gene_dictionary = pd.read_csv('gene_name_dictionary.csv',index_col=1)\n",
    "ions = ['na1_e','ca2_e','zn2_e','k_e']"
   ]
  },
  {
   "cell_type": "markdown",
   "metadata": {},
   "source": [
    "## RNASeq data"
   ]
  },
  {
   "cell_type": "code",
   "execution_count": 5,
   "metadata": {},
   "outputs": [],
   "source": [
    "data = pd.read_csv('rna_seq/RNAseq_raw.csv',index_col=1)"
   ]
  },
  {
   "cell_type": "markdown",
   "metadata": {},
   "source": [
    "RNAseq data appears to be normalized. That means that roughly they have the same numbre of cells."
   ]
  },
  {
   "cell_type": "code",
   "execution_count": 6,
   "metadata": {},
   "outputs": [
    {
     "ename": "NameError",
     "evalue": "name 'stress_data' is not defined",
     "output_type": "error",
     "traceback": [
      "\u001b[0;31m---------------------------------------------------------------------------\u001b[0m",
      "\u001b[0;31mNameError\u001b[0m                                 Traceback (most recent call last)",
      "\u001b[0;32m<ipython-input-6-b9052866d4a2>\u001b[0m in \u001b[0;36m<module>\u001b[0;34m\u001b[0m\n\u001b[0;32m----> 1\u001b[0;31m \u001b[0mstress_data\u001b[0m\u001b[0;34m.\u001b[0m\u001b[0msum\u001b[0m\u001b[0;34m(\u001b[0m\u001b[0maxis\u001b[0m\u001b[0;34m=\u001b[0m\u001b[0;36m0\u001b[0m\u001b[0;34m)\u001b[0m\u001b[0;34m\u001b[0m\u001b[0m\n\u001b[0m",
      "\u001b[0;31mNameError\u001b[0m: name 'stress_data' is not defined"
     ]
    }
   ],
   "source": [
    "stress_data.sum(axis=0)"
   ]
  },
  {
   "cell_type": "code",
   "execution_count": null,
   "metadata": {},
   "outputs": [],
   "source": [
    "samples = data.columns\n",
    "control_data = data[samples[samples.str.contains('SMM_')]]\n",
    "stress_data = data[samples[samples.str.contains('Salt')]]\n",
    "fold_change = np.divide(stress_data,control_data)"
   ]
  },
  {
   "cell_type": "markdown",
   "metadata": {},
   "source": [
    "### Arginine biosynthesis"
   ]
  },
  {
   "cell_type": "code",
   "execution_count": null,
   "metadata": {},
   "outputs": [],
   "source": [
    "genes = ['argG', 'argH', 'argC', 'argJ', 'argB', 'argD', 'argF', 'carA', 'carB']\n",
    "fold_change.loc[gene_dictionary.loc[genes]['locus_id']].mean(axis=1).to_frame().boxplot()\n",
    "plt.ylabel('fold_change')\n",
    "plt.title('Arginine biosynthetic gene expression ')"
   ]
  },
  {
   "cell_type": "markdown",
   "metadata": {},
   "source": [
    "Arginine biosynthesis is downregulated in salt stress."
   ]
  },
  {
   "cell_type": "markdown",
   "metadata": {},
   "source": [
    "### Transporter expression"
   ]
  },
  {
   "cell_type": "code",
   "execution_count": null,
   "metadata": {},
   "outputs": [],
   "source": [
    "# Identify uptake and secretion transporters\n",
    "uptake_rxns = get_transport_reactions(bsub,'na1_e',verbose=0)\n",
    "transporter_ids=[]\n",
    "for rxn in uptake_rxns:\n",
    "    genes_uptake = rxn.genes\n",
    "    transporters = [gene.id for gene in genes_uptake]\n",
    "    for t in transporters:\n",
    "        transporter_ids.append(t)\n",
    "        \n",
    "secretion_rxns = get_transport_reactions(bsub,'na1_e',verbose=0,comps=['c','e'])\n",
    "secretor_ids=[]\n",
    "for rxn in secretion_rxns:\n",
    "    genes_secretion = rxn.genes\n",
    "    transporters = [gene.id for gene in genes_secretion]\n",
    "    for t in transporters:\n",
    "        secretor_ids.append(t)"
   ]
  },
  {
   "cell_type": "code",
   "execution_count": null,
   "metadata": {},
   "outputs": [],
   "source": [
    "\n",
    "plt.figure(figsize=(7,4))\n",
    "plt.subplot(1,2,1)\n",
    "fold_change.loc[transporter_ids].mean(axis=1).to_frame().boxplot()\n",
    "plt.title('Uptake')\n",
    "plt.ylabel('Fold change')\n",
    "\n",
    "plt.subplot(1,2,2)\n",
    "fold_change.loc[secretor_ids].mean(axis=1).to_frame().boxplot()\n",
    "plt.title('Secretion')\n",
    "plt.ylabel('Fold change')\n",
    "\n",
    "plt.tight_layout()"
   ]
  },
  {
   "cell_type": "markdown",
   "metadata": {},
   "source": [
    "Downregulation of uptake transporters means that either the same or a reduced amount of uptake transporters should be expressed in salt stress. That means that to properly model this in the ME-model it is necessary to add transport reactions that do not induce expression of transporters."
   ]
  },
  {
   "cell_type": "markdown",
   "metadata": {},
   "source": [
    "## M-model simulations"
   ]
  },
  {
   "cell_type": "code",
   "execution_count": null,
   "metadata": {},
   "outputs": [],
   "source": [
    "bsub = cobra.io.load_json_model(ijo_directory)\n",
    "na1_e = bsub.metabolites.na1_e\n",
    "## Separate sodium entrance and exit\n",
    "bsub.reactions.EX_na1_e.lower_bound = 0\n",
    "bsub.reactions.EX_na1_e.upper_bound = 0\n",
    "\n",
    "# Create sodium metabolites\n",
    "na1_in = cobra.Metabolite(id='na1_in')\n",
    "na1_out = cobra.Metabolite(id='na1_out')\n",
    "bsub.add_metabolites([na1_in,na1_out])\n",
    "\n",
    "# Sodium uptake\n",
    "rxn = cobra.Reaction(id='EX_na1_in')\n",
    "rxn.add_metabolites({\n",
    "    na1_in:-1.0\n",
    "})\n",
    "rxn.lower_bound = -1000\n",
    "rxn.upper_bound = 0\n",
    "bsub.add_reaction(rxn)\n",
    "print(rxn.reaction)\n",
    "# Sodium exit\n",
    "rxn = cobra.Reaction(id='DM_na1_out')\n",
    "rxn.add_metabolites({\n",
    "    na1_out:-1.0\n",
    "})\n",
    "rxn.lower_bound = 0\n",
    "rxn.upper_bound = 1000\n",
    "bsub.add_reaction(rxn)\n",
    "print(rxn.reaction)"
   ]
  },
  {
   "cell_type": "code",
   "execution_count": null,
   "metadata": {},
   "outputs": [],
   "source": [
    "uptake_rxns = get_reactions_of_met(bsub,'na1_e',s = -1,verbose=0)\n",
    "exit_rxns = get_reactions_of_met(bsub,'na1_e',s = 1,verbose=0)\n",
    "\n",
    "for rxn in uptake_rxns:\n",
    "    coeff = rxn.pop(na1_e)\n",
    "    rxn.add_metabolites({na1_in:coeff})\n",
    "    print(rxn.reaction)\n",
    "for rxn in exit_rxns:\n",
    "    coeff = rxn.pop(na1_e)\n",
    "    rxn.add_metabolites({na1_out:coeff})\n",
    "    print(rxn.reaction)"
   ]
  },
  {
   "cell_type": "code",
   "execution_count": null,
   "metadata": {},
   "outputs": [],
   "source": [
    "# Sodium rates and simulation\n",
    "na_rates = -np.arange(0,5,0.1)*1e-3\n",
    "flux_dict = dict()\n",
    "for rate in na_rates:\n",
    "    bsub.reactions.get_by_id('EX_na1_in').lower_bound = rate\n",
    "    bsub.reactions.get_by_id('EX_na1_in').upper_bound = rate\n",
    "    solution = bsub.optimize()\n",
    "    flux_dict[rate] = solution.x_dict\n",
    "flux_responses = pd.DataFrame.from_dict(flux_dict)"
   ]
  },
  {
   "cell_type": "code",
   "execution_count": null,
   "metadata": {},
   "outputs": [],
   "source": [
    "fig,ax1 = plt.subplots()\n",
    "plt.title('Sodium uptake')\n",
    "\n",
    "ax1.plot(-flux_responses.loc['EX_na1_in'],flux_responses.loc['BIOMASS_BS_10'],\n",
    "            label = 'growth',color='tab:red')\n",
    "ax1.set_xlabel('Sodium uptake')\n",
    "ax1.set_ylabel('Growth rate')\n",
    "\n",
    "ax2 = ax1.twinx()\n",
    "ax2.plot(-flux_responses.loc['EX_na1_in'],flux_responses.loc['EX_o2_e'],\n",
    "            label = 'Glucose')\n",
    "ax2.plot(-flux_responses.loc['EX_na1_in'],flux_responses.loc['EX_glc__D_e'],\n",
    "            label = 'O2')\n",
    "ax2.set_ylabel('Rate')\n",
    "\n",
    "ax2.legend()"
   ]
  },
  {
   "cell_type": "markdown",
   "metadata": {},
   "source": [
    "M-model predicts an increase in growth rate at increased sodium uptake"
   ]
  },
  {
   "cell_type": "code",
   "execution_count": null,
   "metadata": {},
   "outputs": [],
   "source": [
    "gene_dictionary = pd.read_csv('gene_name_dictionary.csv',index_col=1)"
   ]
  },
  {
   "cell_type": "code",
   "execution_count": null,
   "metadata": {},
   "outputs": [],
   "source": [
    "flux_responses = pd.DataFrame.from_dict(flux_dict)"
   ]
  },
  {
   "cell_type": "code",
   "execution_count": null,
   "metadata": {},
   "outputs": [],
   "source": [
    "import pandas as pd\n",
    "genes = ['argG', 'argH', 'argC', 'argJ', 'argB', 'argD', 'argF', 'carA', 'carB']\n",
    "for idx,gene in enumerate(gene_dictionary.loc[genes]['locus_id'].values):\n",
    "    rxns = bsub.genes.get_by_id(gene).reactions\n",
    "    for rxn in rxns:\n",
    "        flux_profile = abs(flux_responses.loc[rxn.id].values)\n",
    "        flux_profile /= max(flux_profile)\n",
    "        plt.plot(na_rates,flux_profile,label=genes[idx]+'_'+rxn.id)\n",
    "plt.title('Response to salt stress')\n",
    "plt.xlabel('Sodium uptake')\n",
    "plt.ylabel('Flux')\n",
    "plt.legend()"
   ]
  },
  {
   "cell_type": "markdown",
   "metadata": {},
   "source": [
    "Is it an artifact of growth rate increase?"
   ]
  },
  {
   "cell_type": "code",
   "execution_count": null,
   "metadata": {},
   "outputs": [],
   "source": [
    "bsub.reactions.get_by_id('EX_glc__D_e').lower_bound = -10\n",
    "bsub.reactions.get_by_id('BIOMASS_BS_10').lower_bound = base_mu\n",
    "bsub.reactions.get_by_id('BIOMASS_BS_10').upper_bound = base_mu\n",
    "\n",
    "bsub.objective = 'EX_glc__D_e'\n",
    "bsub.reactions.get_by_id('EX_glc__D_e').objective_coefficient = -1.\n",
    "\n",
    "# Sodium rates and simulation\n",
    "na_rates = -np.arange(0,5,0.1)*1e-3\n",
    "flux_dict = dict()\n",
    "for rate in na_rates:\n",
    "    bsub.reactions.get_by_id('EX_na1_in').lower_bound = rate\n",
    "    bsub.reactions.get_by_id('EX_na1_in').upper_bound = rate\n",
    "    solution = bsub.optimize()\n",
    "    flux_dict[rate] = solution.x_dict\n",
    "flux_responses = pd.DataFrame.from_dict(flux_dict)"
   ]
  },
  {
   "cell_type": "code",
   "execution_count": null,
   "metadata": {},
   "outputs": [],
   "source": [
    "genes = ['argG', 'argH', 'argC', 'argJ', 'argB', 'argD', 'argF', 'carA', 'carB']\n",
    "for idx,gene in enumerate(gene_dictionary.loc[genes]['locus_id'].values):\n",
    "    rxns = bsub.genes.get_by_id(gene).reactions\n",
    "    for rxn in rxns:\n",
    "        flux_profile = abs(flux_responses.loc[rxn.id].values)\n",
    "        flux_profile /= max(flux_profile)\n",
    "        plt.plot(na_rates,flux_profile,label=genes[idx]+'_'+rxn.id)\n",
    "plt.title('Response to salt stress')\n",
    "plt.xlabel('Sodium uptake')\n",
    "plt.ylabel('Flux')\n",
    "plt.legend()"
   ]
  },
  {
   "cell_type": "markdown",
   "metadata": {},
   "source": [
    "M-model is not able to capture the decrease in AhrC regulon"
   ]
  },
  {
   "cell_type": "markdown",
   "metadata": {},
   "source": [
    "## ME-model simulations"
   ]
  },
  {
   "cell_type": "code",
   "execution_count": null,
   "metadata": {},
   "outputs": [],
   "source": [
    "with open('../me_models/solution.pickle', 'rb') as solution:\n",
    "    me = pickle.load(solution)"
   ]
  },
  {
   "cell_type": "code",
   "execution_count": null,
   "metadata": {},
   "outputs": [],
   "source": [
    "#new_mu = me.solution.f\n",
    "new_mu = False"
   ]
  },
  {
   "cell_type": "markdown",
   "metadata": {},
   "source": [
    "Add those reactions that account for osmosis"
   ]
  },
  {
   "cell_type": "code",
   "execution_count": null,
   "metadata": {},
   "outputs": [],
   "source": [
    "# Add a copy of transport reactions that do not need a transporter\n",
    "uptake_rxns = get_transport_reactions(me,'na1_e',comps=['e','c'],verbose=0)\n",
    "osm_rxns = []\n",
    "for rxn in uptake_rxns:\n",
    "    stoich = rxn.stoichiometric_data.stoichiometry\n",
    "    osm_id = rxn.id.split('_FWD')[0]+'_osm'\n",
    "    \n",
    "    if not hasattr(me.reactions,osm_id):\n",
    "        osm_rxn = cobrame.MEReaction(osm_id)\n",
    "        me.add_reaction(osm_rxn)\n",
    "\n",
    "        osm_rxn.add_metabolites(stoich)\n",
    "        osm_rxn.lower_bound=0\n",
    "        osm_rxn.upper_bound=1000\n",
    "        osm_rxns.append(osm_rxn)\n",
    "        print(osm_rxn.id,osm_rxn.lower_bound,osm_rxn.upper_bound,osm_rxn.reaction)   \n"
   ]
  },
  {
   "cell_type": "markdown",
   "metadata": {},
   "source": [
    "Add sodium uptake and exit separately"
   ]
  },
  {
   "cell_type": "code",
   "execution_count": null,
   "metadata": {},
   "outputs": [],
   "source": [
    "from cobrame import MEReaction,Metabolite\n",
    "\n",
    "na1_e = me.metabolites.na1_e\n",
    "## Separate sodium entrance and exit\n",
    "me.reactions.EX_na1_e.lower_bound = 0\n",
    "me.reactions.EX_na1_e.upper_bound = 0\n",
    "\n",
    "# Create sodium metabolites\n",
    "na1_in = Metabolite(id='na1_in')\n",
    "na1_out = Metabolite(id='na1_out')\n",
    "me.add_metabolites([na1_in,na1_out])\n",
    "\n",
    "# Sodium uptake\n",
    "rxn = MEReaction(id='EX_na1_in')\n",
    "rxn.add_metabolites({\n",
    "    na1_in:-1.0\n",
    "})\n",
    "rxn.lower_bound = -1000\n",
    "rxn.upper_bound = 0\n",
    "me.add_reaction(rxn)\n",
    "print(rxn.id,rxn.reaction)\n",
    "# Sodium exit\n",
    "rxn = MEReaction(id='DM_na1_out')\n",
    "rxn.add_metabolites({\n",
    "    na1_out:-1.0\n",
    "})\n",
    "rxn.lower_bound = 0\n",
    "rxn.upper_bound = 1000\n",
    "me.add_reaction(rxn)\n",
    "print(rxn.id,rxn.reaction)"
   ]
  },
  {
   "cell_type": "code",
   "execution_count": null,
   "metadata": {},
   "outputs": [],
   "source": [
    "uptake_rxns = get_transport_reactions(me,'na1_e',comps=['e','c'],verbose=0)\n",
    "exit_rxns = get_transport_reactions(me,'na1_e',comps=['c','e'],verbose=0)\n",
    "for rxn in uptake_rxns:\n",
    "    coeff = rxn.pop(na1_e)\n",
    "    rxn.add_metabolites({na1_in:coeff})\n",
    "    print(rxn.id,rxn.reaction)\n",
    "print('\\n')\n",
    "for rxn in exit_rxns:\n",
    "    coeff = rxn.pop(na1_e)\n",
    "    rxn.add_metabolites({na1_out:coeff})\n",
    "    print(rxn.id,rxn.reaction)"
   ]
  },
  {
   "cell_type": "markdown",
   "metadata": {},
   "source": [
    "### Calculations"
   ]
  },
  {
   "cell_type": "code",
   "execution_count": null,
   "metadata": {},
   "outputs": [],
   "source": [
    "def single_flux_response(me,rate,mu_fix=False):\n",
    "    me.reactions.get_by_id('EX_na1_in').lower_bound = rate\n",
    "    me.reactions.get_by_id('EX_na1_in').upper_bound = rate\n",
    "    solve_me_model(me, max_mu = 0.5, min_mu = .05, using_soplex=False,\n",
    "                   precision = 1e-6,verbosity=0,mu_fix=mu_fix)\n",
    "    return rate, me.solution.x_dict"
   ]
  },
  {
   "cell_type": "code",
   "execution_count": null,
   "metadata": {},
   "outputs": [],
   "source": [
    "# Calculation at several sodium uptake rates\n",
    "na_rates=-np.arange(0,5,0.5)*1e-2\n",
    "flux_dict = dict()\n",
    "print('Rates to use: {}'.format(na_rates))\n",
    "\n",
    "import multiprocessing as mp\n",
    "NP = min([len(na_rates),10])\n",
    "pool = mp.Pool(NP)\n",
    "pbar = tqdm(total=len(na_rates))\n",
    "pbar.set_description('Sodium stress ({} threads)'.format(NP))\n",
    "def collect_result(result):\n",
    "    pbar.update(1)\n",
    "    flux_dict[result[0]] = result[1]\n",
    "for rate in na_rates:\n",
    "    pool.apply_async(single_flux_response, args=(me,rate,new_mu), callback=collect_result)\n",
    "pool.close()\n",
    "pool.join()\n",
    "flux_responses_me = pd.DataFrame.from_dict(flux_dict)\n",
    "flux_responses_me = flux_responses_me[sorted(flux_responses_me.columns)]\n",
    "flux_responses_me.head()"
   ]
  },
  {
   "cell_type": "code",
   "execution_count": null,
   "metadata": {},
   "outputs": [],
   "source": [
    "# Save results\n",
    "flux_responses_me.to_csv('salt_flux_responses.csv',index_label='rxn_id')"
   ]
  },
  {
   "cell_type": "code",
   "execution_count": null,
   "metadata": {},
   "outputs": [],
   "source": [
    "flux_responses_me = pd.read_csv('salt_flux_responses.csv',index_col=0)"
   ]
  },
  {
   "cell_type": "code",
   "execution_count": null,
   "metadata": {},
   "outputs": [],
   "source": [
    "# Visualize transcription profiles\n",
    "plt.figure(figsize=(10,4))\n",
    "\n",
    "# TU8J2-912 operon: argCJBDF-carAB\n",
    "plt.subplot(1,2,1)\n",
    "expression = flux_responses_me.loc['transcription_TU8J2_912_from_BSU25200-MONOMER']\n",
    "plt.plot(-flux_responses_me.loc['EX_na1_in'],\n",
    "         expression/max(expression),\n",
    "         marker = 'o',markersize=8)\n",
    "plt.title('Transcription of arg operon (TU8J2-912)')\n",
    "plt.ylabel('Transcription level')\n",
    "plt.xlabel('Sodium uptake')\n",
    "\n",
    "# argHG transcription\n",
    "plt.subplot(1,2,2)\n",
    "expression = flux_responses_me.loc['transcription_TU_BSU29450']\n",
    "plt.plot(-flux_responses_me.loc['EX_na1_in'],\n",
    "         expression/max(expression), label='argG',\n",
    "         marker = 'o',markersize=8)\n",
    "expression = flux_responses_me.loc['transcription_TU_BSU29440']\n",
    "plt.plot(-flux_responses_me.loc['EX_na1_in'],\n",
    "         expression/max(expression), label='argH',\n",
    "         marker = 'o',markersize=8)\n",
    "plt.legend()\n",
    "plt.title('Transcription of argHG operon')\n",
    "plt.ylabel('Transcription level')\n",
    "plt.xlabel('Sodium uptake')\n"
   ]
  },
  {
   "cell_type": "code",
   "execution_count": 91,
   "metadata": {},
   "outputs": [
    {
     "data": {
      "text/plain": [
       "Text(0.5, 1.0, 'artPQR')"
      ]
     },
     "execution_count": 91,
     "metadata": {},
     "output_type": "execute_result"
    },
    {
     "data": {
      "image/png": "[encoded data removed]",
      "text/plain": [
       "<Figure size 1080x288 with 3 Axes>"
      ]
     },
     "metadata": {
      "needs_background": "light"
     },
     "output_type": "display_data"
    }
   ],
   "source": [
    "# Visualize protein expression profiles\n",
    "plt.figure(figsize=(15,4))\n",
    "import itertools\n",
    "marker = itertools.cycle(('v', 's', '^', 'o', '*')) \n",
    "\n",
    "flux_responses_me[abs(flux_responses_me)<1e-16] = 0\n",
    "\n",
    "plt.subplots_adjust(wspace=0.3)\n",
    "plt.subplot(1,3,1)\n",
    "genes = ['argG', 'argH', 'argC', 'argJ', 'argB', 'argD', 'argF']\n",
    "for gene_name,locus_id in gene_dictionary.loc[genes]['locus_id'].items():\n",
    "    expression = flux_responses_me.loc['translation_'+locus_id]\n",
    "    expression /= np.max(expression)\n",
    "    plt.plot(-flux_responses_me.loc['EX_na1_in'],expression,\n",
    "            label=gene_name,marker = next(marker),markersize=8)\n",
    "plt.legend()\n",
    "plt.xlabel('Sodium uptake')\n",
    "plt.ylabel('Protein expression')\n",
    "plt.title('argGHCJBDF')\n",
    "\n",
    "plt.subplot(1,3,2)\n",
    "genes = ['carA', 'carB']\n",
    "for gene_name,locus_id in gene_dictionary.loc[genes]['locus_id'].items():\n",
    "    expression = flux_responses_me.loc['translation_'+locus_id]\n",
    "    expression /= np.max(expression)\n",
    "    plt.plot(-flux_responses_me.loc['EX_na1_in'],expression,\n",
    "            label=gene_name,marker = next(marker),markersize=8)\n",
    "plt.legend()\n",
    "plt.xlabel('Sodium uptake')\n",
    "plt.ylabel('Protein expression')\n",
    "plt.title('carAB')\n",
    "\n",
    "plt.subplot(1,3,3)\n",
    "genes = ['artP', 'artQ','artR']\n",
    "for gene_name,locus_id in gene_dictionary.loc[genes]['locus_id'].items():\n",
    "    expression = flux_responses_me.loc['translation_'+locus_id]\n",
    "    plt.plot(-flux_responses_me.loc['EX_na1_in'],expression,\n",
    "            label=gene_name,marker = next(marker),markersize=8)\n",
    "plt.legend()\n",
    "plt.xlabel('Sodium uptake')\n",
    "plt.ylabel('Protein expression')\n",
    "plt.title('artPQR')\n",
    "\n",
    "# artPQR are not included in the model"
   ]
  },
  {
   "cell_type": "markdown",
   "metadata": {},
   "source": [
    "Notes:\n",
    "* Sodium was forced to go through the model by creating na1_in and na1_out. Otherwise, it would have exited the model without going through the network from EX to DM"
   ]
  },
  {
   "cell_type": "code",
   "execution_count": null,
   "metadata": {},
   "outputs": [],
   "source": []
  }
 ],
 "metadata": {
  "kernelspec": {
   "display_name": "Python 3",
   "language": "python",
   "name": "python3"
  },
  "language_info": {
   "codemirror_mode": {
    "name": "ipython",
    "version": 3
   },
   "file_extension": ".py",
   "mimetype": "text/x-python",
   "name": "python",
   "nbconvert_exporter": "python",
   "pygments_lexer": "ipython3",
   "version": "3.6.3"
  }
 },
 "nbformat": 4,
 "nbformat_minor": 2
}
