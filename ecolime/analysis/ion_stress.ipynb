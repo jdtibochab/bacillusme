{
 "cells": [
  {
   "cell_type": "markdown",
   "metadata": {},
   "source": [
    "# Ion stress response"
   ]
  },
  {
   "cell_type": "code",
   "execution_count": 1,
   "metadata": {},
   "outputs": [
    {
     "name": "stderr",
     "output_type": "stream",
     "text": [
      "/home/jt/Downloads/cobrapy-0.5.11/cobra/io/sbml3.py:24: UserWarning: Install lxml for faster SBML I/O\n",
      "  warn(\"Install lxml for faster SBML I/O\")\n",
      "/home/jt/Downloads/cobrapy-0.5.11/cobra/io/__init__.py:12: UserWarning: cobra.io.sbml requires libsbml\n",
      "  warn(\"cobra.io.sbml requires libsbml\")\n"
     ]
    },
    {
     "name": "stdout",
     "output_type": "stream",
     "text": [
      "/home/jt/Downloads/cobrapy-0.5.11/cobra/__init__.py\n",
      "/home/jt/UCSD/cobrame-master/cobrame/__init__.py\n",
      "/home/jt/UCSD/bacillusme-master/ecolime/__init__.py\n"
     ]
    }
   ],
   "source": [
    "from __future__ import print_function, division, absolute_import\n",
    "\n",
    "import sys\n",
    "\n",
    "import qminospy\n",
    "from qminospy.me2 import ME_NLP\n",
    "\n",
    "# python imports\n",
    "from copy import copy\n",
    "import re\n",
    "from os.path import join\n",
    "from collections import defaultdict\n",
    "import pickle\n",
    "\n",
    "# third party imports\n",
    "import pandas\n",
    "import cobra\n",
    "from tqdm import tqdm\n",
    "import numpy as np\n",
    "import scipy\n",
    "import matplotlib.pyplot as plt\n",
    "\n",
    "# COBRAme\n",
    "import cobrame\n",
    "from cobrame.util import building, mu, me_model_interface\n",
    "from cobrame.io.json import save_json_me_model, save_reduced_json_me_model\n",
    "\n",
    "# ECOLIme\n",
    "import ecolime\n",
    "from ecolime import (transcription, translation, flat_files, generics, formulas, compartments)\n",
    "from ecolime.util.helper_functions import *\n",
    "%load_ext autoreload\n",
    "%autoreload 2\n",
    "print(cobra.__file__)\n",
    "print(cobrame.__file__)\n",
    "print(ecolime.__file__)"
   ]
  },
  {
   "cell_type": "code",
   "execution_count": 2,
   "metadata": {},
   "outputs": [],
   "source": [
    "gene_dictionary = pd.read_csv('gene_name_dictionary.csv',index_col=1)\n",
    "ions = ['na1_e','ca2_e','zn2_e','k_e','mg2_e','mn2_e']"
   ]
  },
  {
   "cell_type": "markdown",
   "metadata": {},
   "source": [
    "Load"
   ]
  },
  {
   "cell_type": "code",
   "execution_count": 3,
   "metadata": {},
   "outputs": [],
   "source": [
    "eco_directory = join(flat_files.ecoli_files_dir, 'iJO1366.json')\n",
    "ijo_directory = join(flat_files.ecoli_files_dir, 'iYO844.json')\n",
    "uni_directory = join(flat_files.ecoli_files_dir, 'universal_model.json')\n",
    "\n",
    "eco = cobra.io.load_json_model(eco_directory)\n",
    "bsub = cobra.io.load_json_model(ijo_directory)\n",
    "uni = cobra.io.load_json_model(uni_directory)\n",
    "\n",
    "bsub.optimize()\n",
    "base = bsub.solution.x_dict\n",
    "base_mu = bsub.solution.f"
   ]
  },
  {
   "cell_type": "markdown",
   "metadata": {},
   "source": [
    "## M-model simulations"
   ]
  },
  {
   "cell_type": "code",
   "execution_count": 4,
   "metadata": {},
   "outputs": [
    {
     "name": "stdout",
     "output_type": "stream",
     "text": [
      "( PIt7 0.0 999999.0 ) \t 3.0 na1_e + pi_e --> 3.0 na1_c + pi_c\n",
      "( NAabcO 0.0 999999.0 ) \t atp_c + h2o_c + na1_c --> adp_c + h_c + na1_e + pi_c\n",
      "( GLUt4 0.0 999999.0 ) \t glu__L_e + na1_e --> glu__L_c + na1_c\n",
      "( NAt3_1 0.0 999999.0 ) \t h_e + na1_c --> h_c + na1_e\n",
      "( MALt4 0.0 999999.0 ) \t mal__L_e + na1_e --> mal__L_c + na1_c\n",
      "( BILEt4 0.0 999999.0 ) \t bilea_e + na1_e --> bilea_c + na1_c\n",
      "( EX_na1_e -999999.0 999999.0 ) \t na1_e <=> \n",
      "( MALt10 0.0 999999.0 ) \t 2.0 h_e + lac__L_c + mal__L_e + na1_c --> 2.0 h_c + lac__L_e + mal__L_c + na1_e\n"
     ]
    },
    {
     "data": {
      "text/plain": [
       "[<Reaction PIt7 at 0x7faf867db668>,\n",
       " <Reaction NAabcO at 0x7faf867bdc88>,\n",
       " <Reaction GLUt4 at 0x7faf867f4ac8>,\n",
       " <Reaction NAt3_1 at 0x7faf867bdcf8>,\n",
       " <Reaction MALt4 at 0x7faf86827320>,\n",
       " <Reaction BILEt4 at 0x7faf87382198>,\n",
       " <Reaction EX_na1_e at 0x7faf873a37b8>,\n",
       " <Reaction MALt10 at 0x7faf868271d0>]"
      ]
     },
     "execution_count": 4,
     "metadata": {},
     "output_type": "execute_result"
    }
   ],
   "source": [
    "get_reactions_of_met(bsub,'na1_e')"
   ]
  },
  {
   "cell_type": "code",
   "execution_count": 5,
   "metadata": {},
   "outputs": [
    {
     "name": "stderr",
     "output_type": "stream",
     "text": [
      "100%|██████████| 100/100 [00:08<00:00, 11.28it/s]\n"
     ]
    },
    {
     "data": {
      "text/plain": [
       "<matplotlib.legend.Legend at 0x7faf8395fe48>"
      ]
     },
     "execution_count": 5,
     "metadata": {},
     "output_type": "execute_result"
    },
    {
     "data": {
      "image/png": "[encoded data removed]",
      "text/plain": [
       "<Figure size 432x288 with 1 Axes>"
      ]
     },
     "metadata": {
      "needs_background": "light"
     },
     "output_type": "display_data"
    }
   ],
   "source": [
    "import itertools\n",
    "marker = itertools.cycle(('v', 's', '^', 'o', '*')) \n",
    "ion_rates = -np.arange(0,10,0.1)*1e-6\n",
    "for ion in ['na1_e']:\n",
    "    base_flux = base['EX_'+ion]\n",
    "    gr = []\n",
    "    for rate in tqdm(ion_rates):\n",
    "        ex = bsub.reactions.get_by_id('EX_'+ion)\n",
    "        ex.lower_bound = rate\n",
    "        ex.upper_bound = rate\n",
    "        bsub.optimize()\n",
    "        gr.append(bsub.solution.f)\n",
    "    plt.plot(-ion_rates,gr,label=ion,marker=next(marker),markersize=8)\n",
    "plt.legend()"
   ]
  },
  {
   "cell_type": "markdown",
   "metadata": {},
   "source": [
    "## ME-model simulations"
   ]
  },
  {
   "cell_type": "code",
   "execution_count": 6,
   "metadata": {},
   "outputs": [],
   "source": [
    "with open('../me_models/solution.pickle', 'rb') as solution:\n",
    "    me = pickle.load(solution)"
   ]
  },
  {
   "cell_type": "code",
   "execution_count": 7,
   "metadata": {},
   "outputs": [
    {
     "name": "stdout",
     "output_type": "stream",
     "text": [
      "na1_e 0.0\n",
      "ca2_e 0.0\n",
      "zn2_e -1.833244939576966e-07\n",
      "k_e -1.8080572856545358e-07\n",
      "mg2_e -0.0013002379702828882\n",
      "mn2_e -2.3718242480067265e-06\n"
     ]
    }
   ],
   "source": [
    "for ion in ions:\n",
    "    print(ion, me.solution.x_dict['EX_'+ion])"
   ]
  },
  {
   "cell_type": "markdown",
   "metadata": {},
   "source": [
    "Add those reactions that account for osmosis"
   ]
  },
  {
   "cell_type": "code",
   "execution_count": 8,
   "metadata": {},
   "outputs": [
    {
     "name": "stdout",
     "output_type": "stream",
     "text": [
      "\n",
      " na1_e\n",
      "MALt4_osm 0 1000 mal__L_e + na1_e <=> mal__L_c + na1_c\n",
      "PIt7_osm 0 1000 3.0 na1_e + pi_e <=> 3.0 na1_c + pi_c\n",
      "GLUt4_osm 0 1000 glu__L_e + na1_e <=> glu__L_c + na1_c\n",
      "BILEt4_osm 0 1000 bilea_e + na1_e <=> bilea_c + na1_c\n",
      "\n",
      " ca2_e\n",
      "CAt4_REV_CPLX8J2-142_osm 0 1000 ca2_c + h_e <=> ca2_e + h_c\n",
      "CITt14_osm 0 1000 ca2_e + cit_e + h_e <=> ca2_c + cit_c + h_c\n",
      "CAt4_REV_BSU07920-MONOMER_osm 0 1000 ca2_c + h_e <=> ca2_e + h_c\n",
      "\n",
      " zn2_e\n",
      "ZNabc_osm 0 1000 atp_c + h2o_c + zn2_e <=> adp_c + h_c + pi_c + zn2_c\n",
      "CITt15_osm 0 1000 cit_e + h_e + zn2_e <=> cit_c + h_c + zn2_c\n",
      "\n",
      " k_e\n",
      "CD2t4_osm 0 1000 cd2_c + h_e + k_e <=> cd2_e + h_c + k_c\n",
      "Kt1_osm 0 1000 k_e <=> k_c\n",
      "ZN2t4_osm 0 1000 h_e + k_e + zn2_c <=> h_c + k_c + zn2_e\n",
      "Kt2r_osm 0 1000 h_e + k_e <=> h_c + k_c\n",
      "\n",
      " mg2_e\n",
      "CITt10_osm 0 1000 cit_e + h_e + mg2_e <=> cit_c + h_c + mg2_c\n",
      "ICITt10_osm 0 1000 h_e + icit_e + mg2_e <=> h_c + icit_c + mg2_c\n",
      "MGt5_REV_BSU08000-MONOMER_osm 0 1000 mg2_c <=> mg2_e\n",
      "MGt5_REV_BSU24740-MONOMER_osm 0 1000 mg2_c <=> mg2_e\n",
      "MGt5_REV_BSU13300-MONOMER_osm 0 1000 mg2_c <=> mg2_e\n",
      "\n",
      " mn2_e\n",
      "CITt11_osm 0 1000 cit_e + h_e + mn2_e <=> cit_c + h_c + mn2_c\n",
      "MNt2_osm 0 1000 h_e + mn2_e <=> h_c + mn2_c\n",
      "MNabc_osm 0 1000 atp_c + h2o_c + mn2_e <=> adp_c + h_c + mn2_c + pi_c\n"
     ]
    }
   ],
   "source": [
    "# Add a copy of transport reactions that do not need a transporter\n",
    "\n",
    "for ion in ions:\n",
    "    uptake_rxns = get_transport_reactions(me,ion,comps=['e','c'],verbose=0)\n",
    "    osm_rxns = []\n",
    "    print('\\n',ion)\n",
    "    for rxn in uptake_rxns:\n",
    "        stoich = rxn.stoichiometric_data.stoichiometry\n",
    "        osm_id = rxn.id.split('_FWD')[0]+'_osm'\n",
    "\n",
    "        if not hasattr(me.reactions,osm_id):\n",
    "            osm_rxn = cobrame.MEReaction(osm_id)\n",
    "            me.add_reaction(osm_rxn)\n",
    "\n",
    "            osm_rxn.add_metabolites(stoich)\n",
    "            osm_rxn.lower_bound=0\n",
    "            osm_rxn.upper_bound=1000\n",
    "            osm_rxns.append(osm_rxn)\n",
    "            print(osm_rxn.id,osm_rxn.lower_bound,osm_rxn.upper_bound,osm_rxn.reaction)"
   ]
  },
  {
   "cell_type": "markdown",
   "metadata": {},
   "source": [
    "Add ion uptake and exit separately"
   ]
  },
  {
   "cell_type": "code",
   "execution_count": 9,
   "metadata": {},
   "outputs": [],
   "source": [
    "for ion in ions:\n",
    "    \n",
    "    old_ion = me.metabolites.get_by_id(ion)\n",
    "    ion_base = ion.split('_')[0]\n",
    "    # Close old exchange\n",
    "    me.reactions.get_by_id('EX_{}'.format(ion)).lower_bound = 0\n",
    "    me.reactions.get_by_id('EX_{}'.format(ion)).upper_bound = 0\n",
    "    \n",
    "    # Create new in/out metabolites\n",
    "    ion_in = cobrame.Metabolite(id='{}_in'.format(ion_base))\n",
    "    ion_out = cobrame.Metabolite(id='{}_out'.format(ion_base))\n",
    "    \n",
    "    # Ion uptake (creation, all open)\n",
    "    rxn = cobrame.MEReaction(id='EX_{}_in'.format(ion_base))\n",
    "    rxn.add_metabolites({\n",
    "        ion_in:-1.0\n",
    "    })\n",
    "    me.add_reaction(rxn)\n",
    "    rxn.lower_bound = -1000\n",
    "    rxn.upper_bound = 0\n",
    "    \n",
    "    # Ion exit\n",
    "    rxn = cobrame.MEReaction(id='DM_{}_out'.format(ion_base))\n",
    "    rxn.add_metabolites({\n",
    "        ion_out:-1.0\n",
    "    })\n",
    "    rxn.lower_bound = 0\n",
    "    rxn.upper_bound = 1000\n",
    "    me.add_reaction(rxn)\n",
    "    \n",
    "    # Replace old met\n",
    "    uptake_rxns = get_reactions_of_met(me,ion,s = -1,verbose=0)\n",
    "    exit_rxns = get_reactions_of_met(me,ion,s = 1,verbose=0)\n",
    "\n",
    "    for rxn in uptake_rxns:\n",
    "        coeff = rxn.pop(old_ion)\n",
    "        rxn.add_metabolites({ion_in:coeff})\n",
    "    for rxn in exit_rxns:\n",
    "        coeff = rxn.pop(old_ion)\n",
    "        rxn.add_metabolites({ion_out:coeff})\n",
    "        #print('\\n', ion)\n",
    "    #_=get_reactions_of_met(me,ion_in.id)\n",
    "    #_=get_reactions_of_met(me,ion_out.id)"
   ]
  },
  {
   "cell_type": "code",
   "execution_count": 10,
   "metadata": {},
   "outputs": [],
   "source": [
    "def single_flux_response(me,rate,ion,mu_fix=False):\n",
    "    ion_base = ion.split('_')[0]\n",
    "    me.reactions.get_by_id('EX_{}_in'.format(ion_base)).lower_bound = rate\n",
    "    me.reactions.get_by_id('EX_{}_in'.format(ion_base)).upper_bound = rate\n",
    "    solve_me_model(me, max_mu = 0.5, min_mu = .05, using_soplex=False,\n",
    "                   precision = 1e-6,verbosity=0,mu_fix=mu_fix)\n",
    "    return rate, me.solution.x_dict"
   ]
  },
  {
   "cell_type": "code",
   "execution_count": 11,
   "metadata": {},
   "outputs": [
    {
     "name": "stdout",
     "output_type": "stream",
     "text": [
      "Ions to include: ['na1_e', 'ca2_e', 'zn2_e', 'k_e', 'mg2_e', 'mn2_e']\n",
      "Rates to use: {'na1_e': array([-0.0e+00, -2.0e-08, -4.0e-08, -6.0e-08, -8.0e-08, -1.0e-07,\n",
      "       -1.2e-07, -1.4e-07, -1.6e-07, -1.8e-07]), 'ca2_e': array([-0.0e+00, -2.0e-08, -4.0e-08, -6.0e-08, -8.0e-08, -1.0e-07,\n",
      "       -1.2e-07, -1.4e-07, -1.6e-07, -1.8e-07]), 'zn2_e': array([-0.0e+00, -2.0e-08, -4.0e-08, -6.0e-08, -8.0e-08, -1.0e-07,\n",
      "       -1.2e-07, -1.4e-07, -1.6e-07, -1.8e-07]), 'k_e': array([-0.0e+00, -2.0e-08, -4.0e-08, -6.0e-08, -8.0e-08, -1.0e-07,\n",
      "       -1.2e-07, -1.4e-07, -1.6e-07, -1.8e-07]), 'mg2_e': array([-0.0e+00, -2.0e-08, -4.0e-08, -6.0e-08, -8.0e-08, -1.0e-07,\n",
      "       -1.2e-07, -1.4e-07, -1.6e-07, -1.8e-07]), 'mn2_e': array([-0.0e+00, -2.0e-08, -4.0e-08, -6.0e-08, -8.0e-08, -1.0e-07,\n",
      "       -1.2e-07, -1.4e-07, -1.6e-07, -1.8e-07])}\n"
     ]
    }
   ],
   "source": [
    "# Calculation at several ion uptake rates\n",
    "ion_rates_dict = {}\n",
    "ion_fractions = np.arange(0,10)\n",
    "for ion in ions:\n",
    "    base_flux = me.solution.x_dict['EX_'+ion]\n",
    "#     if base_flux:\n",
    "#         ion_rates_dict[ion] = ion_fractions*base_flux\n",
    "#     else:\n",
    "    ion_rates_dict[ion] = ion_fractions*-0.2e-7\n",
    "#ion_rates = -np.arange(0,10)*0.2e-7\n",
    "print('Ions to include: {}'.format(ions))\n",
    "print('Rates to use: {}'.format(ion_rates_dict))\n",
    "\n",
    "ion_result_macrodict = dict()\n",
    "\n",
    "import multiprocessing as mp\n",
    "NP = min([len(ion_fractions),10])"
   ]
  },
  {
   "cell_type": "code",
   "execution_count": 12,
   "metadata": {},
   "outputs": [
    {
     "name": "stderr",
     "output_type": "stream",
     "text": [
      "Calculating mn2_e (10 threads):  78%|███████▊  | 47/60 [1:44:53<13:01, 60.10s/it]   "
     ]
    }
   ],
   "source": [
    "# Parallel processing\n",
    "pbar = tqdm(total=len(ions)*len(ion_fractions))\n",
    "for ion in ions:\n",
    "    flux_dict = {}  \n",
    "    ion_rates = ion_rates_dict[ion]\n",
    "    pbar.set_description('Calculating {} ({} threads)'.format(ion,NP))\n",
    "    def collect_result(result):\n",
    "        pbar.update(1)\n",
    "        flux_dict[result[0]] = result[1]\n",
    "        \n",
    "    pool = mp.Pool(NP)\n",
    "    for rate in ion_rates:\n",
    "        pool.apply_async(single_flux_response, args=(me,rate,ion), callback=collect_result)\n",
    "    pool.close()\n",
    "    pool.join()\n",
    "    ion_result_macrodict[ion] = flux_dict\n",
    "    flux_responses_me = pd.DataFrame.from_dict(flux_dict)\n",
    "    flux_responses_me = flux_responses_me[sorted(flux_responses_me.columns)]\n",
    "    flux_responses_me.to_csv('{}_flux_responses.csv'.format(ion))"
   ]
  },
  {
   "cell_type": "code",
   "execution_count": 13,
   "metadata": {},
   "outputs": [
    {
     "ename": "KeyError",
     "evalue": "'EX_mg2_in'",
     "output_type": "error",
     "traceback": [
      "\u001b[0;31m---------------------------------------------------------------------------\u001b[0m",
      "\u001b[0;31mKeyError\u001b[0m                                  Traceback (most recent call last)",
      "\u001b[0;32m~/UCSD/ME_modelling/ME_env/lib/python3.6/site-packages/pandas/core/indexes/base.py\u001b[0m in \u001b[0;36mget_loc\u001b[0;34m(self, key, method, tolerance)\u001b[0m\n\u001b[1;32m   2896\u001b[0m             \u001b[0;32mtry\u001b[0m\u001b[0;34m:\u001b[0m\u001b[0;34m\u001b[0m\u001b[0m\n\u001b[0;32m-> 2897\u001b[0;31m                 \u001b[0;32mreturn\u001b[0m \u001b[0mself\u001b[0m\u001b[0;34m.\u001b[0m\u001b[0m_engine\u001b[0m\u001b[0;34m.\u001b[0m\u001b[0mget_loc\u001b[0m\u001b[0;34m(\u001b[0m\u001b[0mkey\u001b[0m\u001b[0;34m)\u001b[0m\u001b[0;34m\u001b[0m\u001b[0m\n\u001b[0m\u001b[1;32m   2898\u001b[0m             \u001b[0;32mexcept\u001b[0m \u001b[0mKeyError\u001b[0m\u001b[0;34m:\u001b[0m\u001b[0;34m\u001b[0m\u001b[0m\n",
      "\u001b[0;32mpandas/_libs/index.pyx\u001b[0m in \u001b[0;36mpandas._libs.index.IndexEngine.get_loc\u001b[0;34m()\u001b[0m\n",
      "\u001b[0;32mpandas/_libs/index.pyx\u001b[0m in \u001b[0;36mpandas._libs.index.IndexEngine.get_loc\u001b[0;34m()\u001b[0m\n",
      "\u001b[0;32mpandas/_libs/hashtable_class_helper.pxi\u001b[0m in \u001b[0;36mpandas._libs.hashtable.PyObjectHashTable.get_item\u001b[0;34m()\u001b[0m\n",
      "\u001b[0;32mpandas/_libs/hashtable_class_helper.pxi\u001b[0m in \u001b[0;36mpandas._libs.hashtable.PyObjectHashTable.get_item\u001b[0;34m()\u001b[0m\n",
      "\u001b[0;31mKeyError\u001b[0m: 'EX_mg2_in'",
      "\nDuring handling of the above exception, another exception occurred:\n",
      "\u001b[0;31mKeyError\u001b[0m                                  Traceback (most recent call last)",
      "\u001b[0;32m<ipython-input-13-64d8a8070a78>\u001b[0m in \u001b[0;36m<module>\u001b[0;34m\u001b[0m\n\u001b[1;32m      8\u001b[0m     \u001b[0mflux_responses_me\u001b[0m \u001b[0;34m=\u001b[0m \u001b[0mflux_responses_me\u001b[0m\u001b[0;34m[\u001b[0m\u001b[0msorted\u001b[0m\u001b[0;34m(\u001b[0m\u001b[0mflux_responses_me\u001b[0m\u001b[0;34m.\u001b[0m\u001b[0mcolumns\u001b[0m\u001b[0;34m)\u001b[0m\u001b[0;34m]\u001b[0m\u001b[0;34m\u001b[0m\u001b[0m\n\u001b[1;32m      9\u001b[0m \u001b[0;34m\u001b[0m\u001b[0m\n\u001b[0;32m---> 10\u001b[0;31m     plt.plot((-flux_responses_me.loc['EX_{}_in'.format(ion_base)]),flux_responses_me.loc['biomass_dilution'],\n\u001b[0m\u001b[1;32m     11\u001b[0m                 label = ion,marker = next(marker),markersize=8)\n\u001b[1;32m     12\u001b[0m     \u001b[0mplt\u001b[0m\u001b[0;34m.\u001b[0m\u001b[0mxlabel\u001b[0m\u001b[0;34m(\u001b[0m\u001b[0;34m'Ion uptake'\u001b[0m\u001b[0;34m)\u001b[0m\u001b[0;34m\u001b[0m\u001b[0m\n",
      "\u001b[0;32m~/UCSD/ME_modelling/ME_env/lib/python3.6/site-packages/pandas/core/indexing.py\u001b[0m in \u001b[0;36m__getitem__\u001b[0;34m(self, key)\u001b[0m\n\u001b[1;32m   1422\u001b[0m \u001b[0;34m\u001b[0m\u001b[0m\n\u001b[1;32m   1423\u001b[0m             \u001b[0mmaybe_callable\u001b[0m \u001b[0;34m=\u001b[0m \u001b[0mcom\u001b[0m\u001b[0;34m.\u001b[0m\u001b[0mapply_if_callable\u001b[0m\u001b[0;34m(\u001b[0m\u001b[0mkey\u001b[0m\u001b[0;34m,\u001b[0m \u001b[0mself\u001b[0m\u001b[0;34m.\u001b[0m\u001b[0mobj\u001b[0m\u001b[0;34m)\u001b[0m\u001b[0;34m\u001b[0m\u001b[0m\n\u001b[0;32m-> 1424\u001b[0;31m             \u001b[0;32mreturn\u001b[0m \u001b[0mself\u001b[0m\u001b[0;34m.\u001b[0m\u001b[0m_getitem_axis\u001b[0m\u001b[0;34m(\u001b[0m\u001b[0mmaybe_callable\u001b[0m\u001b[0;34m,\u001b[0m \u001b[0maxis\u001b[0m\u001b[0;34m=\u001b[0m\u001b[0maxis\u001b[0m\u001b[0;34m)\u001b[0m\u001b[0;34m\u001b[0m\u001b[0m\n\u001b[0m\u001b[1;32m   1425\u001b[0m \u001b[0;34m\u001b[0m\u001b[0m\n\u001b[1;32m   1426\u001b[0m     \u001b[0;32mdef\u001b[0m \u001b[0m_is_scalar_access\u001b[0m\u001b[0;34m(\u001b[0m\u001b[0mself\u001b[0m\u001b[0;34m,\u001b[0m \u001b[0mkey\u001b[0m\u001b[0;34m:\u001b[0m \u001b[0mTuple\u001b[0m\u001b[0;34m)\u001b[0m\u001b[0;34m:\u001b[0m\u001b[0;34m\u001b[0m\u001b[0m\n",
      "\u001b[0;32m~/UCSD/ME_modelling/ME_env/lib/python3.6/site-packages/pandas/core/indexing.py\u001b[0m in \u001b[0;36m_getitem_axis\u001b[0;34m(self, key, axis)\u001b[0m\n\u001b[1;32m   1848\u001b[0m         \u001b[0;31m# fall thru to straight lookup\u001b[0m\u001b[0;34m\u001b[0m\u001b[0;34m\u001b[0m\u001b[0m\n\u001b[1;32m   1849\u001b[0m         \u001b[0mself\u001b[0m\u001b[0;34m.\u001b[0m\u001b[0m_validate_key\u001b[0m\u001b[0;34m(\u001b[0m\u001b[0mkey\u001b[0m\u001b[0;34m,\u001b[0m \u001b[0maxis\u001b[0m\u001b[0;34m)\u001b[0m\u001b[0;34m\u001b[0m\u001b[0m\n\u001b[0;32m-> 1850\u001b[0;31m         \u001b[0;32mreturn\u001b[0m \u001b[0mself\u001b[0m\u001b[0;34m.\u001b[0m\u001b[0m_get_label\u001b[0m\u001b[0;34m(\u001b[0m\u001b[0mkey\u001b[0m\u001b[0;34m,\u001b[0m \u001b[0maxis\u001b[0m\u001b[0;34m=\u001b[0m\u001b[0maxis\u001b[0m\u001b[0;34m)\u001b[0m\u001b[0;34m\u001b[0m\u001b[0m\n\u001b[0m\u001b[1;32m   1851\u001b[0m \u001b[0;34m\u001b[0m\u001b[0m\n\u001b[1;32m   1852\u001b[0m \u001b[0;34m\u001b[0m\u001b[0m\n",
      "\u001b[0;32m~/UCSD/ME_modelling/ME_env/lib/python3.6/site-packages/pandas/core/indexing.py\u001b[0m in \u001b[0;36m_get_label\u001b[0;34m(self, label, axis)\u001b[0m\n\u001b[1;32m    158\u001b[0m             \u001b[0;32mraise\u001b[0m \u001b[0mIndexingError\u001b[0m\u001b[0;34m(\u001b[0m\u001b[0;34m\"no slices here, handle elsewhere\"\u001b[0m\u001b[0;34m)\u001b[0m\u001b[0;34m\u001b[0m\u001b[0m\n\u001b[1;32m    159\u001b[0m \u001b[0;34m\u001b[0m\u001b[0m\n\u001b[0;32m--> 160\u001b[0;31m         \u001b[0;32mreturn\u001b[0m \u001b[0mself\u001b[0m\u001b[0;34m.\u001b[0m\u001b[0mobj\u001b[0m\u001b[0;34m.\u001b[0m\u001b[0m_xs\u001b[0m\u001b[0;34m(\u001b[0m\u001b[0mlabel\u001b[0m\u001b[0;34m,\u001b[0m \u001b[0maxis\u001b[0m\u001b[0;34m=\u001b[0m\u001b[0maxis\u001b[0m\u001b[0;34m)\u001b[0m\u001b[0;34m\u001b[0m\u001b[0m\n\u001b[0m\u001b[1;32m    161\u001b[0m \u001b[0;34m\u001b[0m\u001b[0m\n\u001b[1;32m    162\u001b[0m     \u001b[0;32mdef\u001b[0m \u001b[0m_get_loc\u001b[0m\u001b[0;34m(\u001b[0m\u001b[0mself\u001b[0m\u001b[0;34m,\u001b[0m \u001b[0mkey\u001b[0m\u001b[0;34m:\u001b[0m \u001b[0mint\u001b[0m\u001b[0;34m,\u001b[0m \u001b[0maxis\u001b[0m\u001b[0;34m:\u001b[0m \u001b[0mint\u001b[0m\u001b[0;34m)\u001b[0m\u001b[0;34m:\u001b[0m\u001b[0;34m\u001b[0m\u001b[0m\n",
      "\u001b[0;32m~/UCSD/ME_modelling/ME_env/lib/python3.6/site-packages/pandas/core/generic.py\u001b[0m in \u001b[0;36mxs\u001b[0;34m(self, key, axis, level, drop_level)\u001b[0m\n\u001b[1;32m   3735\u001b[0m             \u001b[0mloc\u001b[0m\u001b[0;34m,\u001b[0m \u001b[0mnew_index\u001b[0m \u001b[0;34m=\u001b[0m \u001b[0mself\u001b[0m\u001b[0;34m.\u001b[0m\u001b[0mindex\u001b[0m\u001b[0;34m.\u001b[0m\u001b[0mget_loc_level\u001b[0m\u001b[0;34m(\u001b[0m\u001b[0mkey\u001b[0m\u001b[0;34m,\u001b[0m \u001b[0mdrop_level\u001b[0m\u001b[0;34m=\u001b[0m\u001b[0mdrop_level\u001b[0m\u001b[0;34m)\u001b[0m\u001b[0;34m\u001b[0m\u001b[0m\n\u001b[1;32m   3736\u001b[0m         \u001b[0;32melse\u001b[0m\u001b[0;34m:\u001b[0m\u001b[0;34m\u001b[0m\u001b[0m\n\u001b[0;32m-> 3737\u001b[0;31m             \u001b[0mloc\u001b[0m \u001b[0;34m=\u001b[0m \u001b[0mself\u001b[0m\u001b[0;34m.\u001b[0m\u001b[0mindex\u001b[0m\u001b[0;34m.\u001b[0m\u001b[0mget_loc\u001b[0m\u001b[0;34m(\u001b[0m\u001b[0mkey\u001b[0m\u001b[0;34m)\u001b[0m\u001b[0;34m\u001b[0m\u001b[0m\n\u001b[0m\u001b[1;32m   3738\u001b[0m \u001b[0;34m\u001b[0m\u001b[0m\n\u001b[1;32m   3739\u001b[0m             \u001b[0;32mif\u001b[0m \u001b[0misinstance\u001b[0m\u001b[0;34m(\u001b[0m\u001b[0mloc\u001b[0m\u001b[0;34m,\u001b[0m \u001b[0mnp\u001b[0m\u001b[0;34m.\u001b[0m\u001b[0mndarray\u001b[0m\u001b[0;34m)\u001b[0m\u001b[0;34m:\u001b[0m\u001b[0;34m\u001b[0m\u001b[0m\n",
      "\u001b[0;32m~/UCSD/ME_modelling/ME_env/lib/python3.6/site-packages/pandas/core/indexes/base.py\u001b[0m in \u001b[0;36mget_loc\u001b[0;34m(self, key, method, tolerance)\u001b[0m\n\u001b[1;32m   2897\u001b[0m                 \u001b[0;32mreturn\u001b[0m \u001b[0mself\u001b[0m\u001b[0;34m.\u001b[0m\u001b[0m_engine\u001b[0m\u001b[0;34m.\u001b[0m\u001b[0mget_loc\u001b[0m\u001b[0;34m(\u001b[0m\u001b[0mkey\u001b[0m\u001b[0;34m)\u001b[0m\u001b[0;34m\u001b[0m\u001b[0m\n\u001b[1;32m   2898\u001b[0m             \u001b[0;32mexcept\u001b[0m \u001b[0mKeyError\u001b[0m\u001b[0;34m:\u001b[0m\u001b[0;34m\u001b[0m\u001b[0m\n\u001b[0;32m-> 2899\u001b[0;31m                 \u001b[0;32mreturn\u001b[0m \u001b[0mself\u001b[0m\u001b[0;34m.\u001b[0m\u001b[0m_engine\u001b[0m\u001b[0;34m.\u001b[0m\u001b[0mget_loc\u001b[0m\u001b[0;34m(\u001b[0m\u001b[0mself\u001b[0m\u001b[0;34m.\u001b[0m\u001b[0m_maybe_cast_indexer\u001b[0m\u001b[0;34m(\u001b[0m\u001b[0mkey\u001b[0m\u001b[0;34m)\u001b[0m\u001b[0;34m)\u001b[0m\u001b[0;34m\u001b[0m\u001b[0m\n\u001b[0m\u001b[1;32m   2900\u001b[0m         \u001b[0mindexer\u001b[0m \u001b[0;34m=\u001b[0m \u001b[0mself\u001b[0m\u001b[0;34m.\u001b[0m\u001b[0mget_indexer\u001b[0m\u001b[0;34m(\u001b[0m\u001b[0;34m[\u001b[0m\u001b[0mkey\u001b[0m\u001b[0;34m]\u001b[0m\u001b[0;34m,\u001b[0m \u001b[0mmethod\u001b[0m\u001b[0;34m=\u001b[0m\u001b[0mmethod\u001b[0m\u001b[0;34m,\u001b[0m \u001b[0mtolerance\u001b[0m\u001b[0;34m=\u001b[0m\u001b[0mtolerance\u001b[0m\u001b[0;34m)\u001b[0m\u001b[0;34m\u001b[0m\u001b[0m\n\u001b[1;32m   2901\u001b[0m         \u001b[0;32mif\u001b[0m \u001b[0mindexer\u001b[0m\u001b[0;34m.\u001b[0m\u001b[0mndim\u001b[0m \u001b[0;34m>\u001b[0m \u001b[0;36m1\u001b[0m \u001b[0;32mor\u001b[0m \u001b[0mindexer\u001b[0m\u001b[0;34m.\u001b[0m\u001b[0msize\u001b[0m \u001b[0;34m>\u001b[0m \u001b[0;36m1\u001b[0m\u001b[0;34m:\u001b[0m\u001b[0;34m\u001b[0m\u001b[0m\n",
      "\u001b[0;32mpandas/_libs/index.pyx\u001b[0m in \u001b[0;36mpandas._libs.index.IndexEngine.get_loc\u001b[0;34m()\u001b[0m\n",
      "\u001b[0;32mpandas/_libs/index.pyx\u001b[0m in \u001b[0;36mpandas._libs.index.IndexEngine.get_loc\u001b[0;34m()\u001b[0m\n",
      "\u001b[0;32mpandas/_libs/hashtable_class_helper.pxi\u001b[0m in \u001b[0;36mpandas._libs.hashtable.PyObjectHashTable.get_item\u001b[0;34m()\u001b[0m\n",
      "\u001b[0;32mpandas/_libs/hashtable_class_helper.pxi\u001b[0m in \u001b[0;36mpandas._libs.hashtable.PyObjectHashTable.get_item\u001b[0;34m()\u001b[0m\n",
      "\u001b[0;31mKeyError\u001b[0m: 'EX_mg2_in'"
     ]
    },
    {
     "data": {
      "image/png": "[encoded data removed]",
      "text/plain": [
       "<Figure size 360x288 with 1 Axes>"
      ]
     },
     "metadata": {
      "needs_background": "light"
     },
     "output_type": "display_data"
    }
   ],
   "source": [
    "import itertools\n",
    "marker = itertools.cycle(('v', 's', '^', 'o', '*')) \n",
    "\n",
    "plt.figure(figsize=(5,4))\n",
    "for idx,ion in enumerate(ions):\n",
    "    ion_base = ion.split('_')[0]\n",
    "    flux_responses_me = pd.DataFrame.from_dict(ion_result_macrodict[ion])\n",
    "    flux_responses_me = flux_responses_me[sorted(flux_responses_me.columns)]\n",
    "\n",
    "    plt.plot((-flux_responses_me.loc['EX_{}_in'.format(ion_base)]),flux_responses_me.loc['biomass_dilution'],\n",
    "                label = ion,marker = next(marker),markersize=8)\n",
    "    plt.xlabel('Ion uptake')\n",
    "    plt.ylabel('Growth rate')\n",
    "plt.legend()\n",
    "plt.tight_layout()"
   ]
  },
  {
   "cell_type": "code",
   "execution_count": null,
   "metadata": {},
   "outputs": [],
   "source": [
    "flux_responses_me"
   ]
  },
  {
   "cell_type": "markdown",
   "metadata": {},
   "source": [
    "It appers that the icnrease davailability of ionstends to favor growth for Na and Ca. Zn does not change much. Potassium seems to greatly decrease. Is it due to the transporter expression?"
   ]
  },
  {
   "cell_type": "code",
   "execution_count": null,
   "metadata": {},
   "outputs": [],
   "source": [
    "plt.figure(figsize=(10,5))\n",
    "marker = itertools.cycle(('v', 's', '^', 'o', '*')) \n",
    "for idx,ion in enumerate(ions):\n",
    "    ion_base = ion.split('_')[0]\n",
    "    plt.subplot(2,3,idx+1)\n",
    "    flux_responses_me = pd.DataFrame.from_dict(ion_result_macrodict[ion])\n",
    "    flux_responses_me = flux_responses_me[sorted(flux_responses_me.columns)]\n",
    "    \n",
    "    uptake_rxns = get_transport_reactions(me,ion.replace('e','c'),comps=['in','c'],verbose=0)\n",
    "    exit_rxns = get_transport_reactions(me,ion.replace('e','c'),comps=['c','out'],verbose=0)\n",
    "    transport_rxns = uptake_rxns + exit_rxns\n",
    "    for rxn in exit_rxns:\n",
    "        if not hasattr(rxn,'complex_data'):\n",
    "            continue\n",
    "        \n",
    "        complex_id = rxn.complex_data.complex.id\n",
    "        formation_id = 'formation_{}'.format(complex_id)\n",
    "        plt.plot(-flux_responses_me.loc['EX_{}_in'.format(ion_base)],\n",
    "                 flux_responses_me.loc[formation_id]/flux_responses_me.loc['biomass_dilution'],\n",
    "                 label = complex_id,marker = next(marker),markersize=8)\n",
    "    plt.xlabel('Ion uptake')\n",
    "    plt.title(ion)\n",
    "    #plt.legend()\n",
    "plt.tight_layout()"
   ]
  },
  {
   "cell_type": "code",
   "execution_count": null,
   "metadata": {},
   "outputs": [],
   "source": [
    "ion = 'k_c'\n",
    "flux_responses_me = pd.DataFrame.from_dict(ion_result_macrodict[ion])\n",
    "flux_responses_me = flux_responses_me[sorted(flux_responses_me.columns)]\n",
    "transport_rxns = get_reactions_of_met(me,ion.replace('_c','_e'),verbose=0)\n",
    "for rxn in transport_rxns:\n",
    "    if not hasattr(rxn,'complex_data'):\n",
    "        continue\n",
    "    complex_id = rxn.complex_data.complex.id\n",
    "    formation_id = 'formation_{}'.format(complex_id)\n",
    "    \n",
    "    plt.plot(-flux_responses_me.loc['EX_{}_osm'.format(ion)],flux_responses_me.loc[formation_id],\n",
    "                label = formation_id)\n",
    "    plt.xlabel('Ion uptake')\n",
    "plt.legend(bbox_to_anchor=(1, 1))"
   ]
  },
  {
   "cell_type": "code",
   "execution_count": null,
   "metadata": {},
   "outputs": [],
   "source": [
    "rxn"
   ]
  },
  {
   "cell_type": "code",
   "execution_count": null,
   "metadata": {},
   "outputs": [],
   "source": [
    "# Visualize protein expression profiles\n",
    "plt.figure(figsize=(15,4))\n",
    "import itertools\n",
    "marker = itertools.cycle(('v', 's', '^', 'o', '*')) \n",
    "\n",
    "flux_responses_me[abs(flux_responses_me)<1e-20] = 0\n",
    "\n",
    "plt.figure(figsize=(12,4))\n",
    "plt.subplots_adjust(wspace=0.3)\n",
    "plt.subplot(1,2,1)\n",
    "genes = ['ktrB','ktrA']\n",
    "for gene_name,locus_id in gene_dictionary.loc[genes]['locus_id'].items():\n",
    "    expression = flux_responses_me.loc['translation_'+locus_id]\n",
    "    expression /= np.max(expression)\n",
    "    plt.plot(-flux_responses_me.loc['EX_k_c_osm'],expression,\n",
    "            label=gene_name,marker = next(marker),markersize=8)\n",
    "plt.legend()\n",
    "plt.xlabel('Sodium uptake')\n",
    "plt.ylabel('Protein expression')\n",
    "plt.title('Protein: K+ transporter KtrAB')\n",
    "\n",
    "plt.subplot(1,2,2)\n",
    "genes = ['ktrB','ktrA']\n",
    "for gene_name,locus_id in gene_dictionary.loc[genes]['locus_id'].items():\n",
    "    expression = flux_responses_me.loc['translation_'+locus_id]\n",
    "    expression /= np.max(expression)\n",
    "    plt.plot(-flux_responses_me.loc['EX_k_c_osm'],expression,\n",
    "            label=gene_name,marker = next(marker),markersize=8)\n",
    "plt.legend()\n",
    "plt.xlabel('Sodium uptake')\n",
    "plt.ylabel('Protein expression')\n",
    "plt.title(genes)"
   ]
  },
  {
   "cell_type": "code",
   "execution_count": null,
   "metadata": {},
   "outputs": [],
   "source": []
  },
  {
   "cell_type": "code",
   "execution_count": null,
   "metadata": {},
   "outputs": [],
   "source": []
  }
 ],
 "metadata": {
  "kernelspec": {
   "display_name": "Python 3",
   "language": "python",
   "name": "python3"
  },
  "language_info": {
   "codemirror_mode": {
    "name": "ipython",
    "version": 3
   },
   "file_extension": ".py",
   "mimetype": "text/x-python",
   "name": "python",
   "nbconvert_exporter": "python",
   "pygments_lexer": "ipython3",
   "version": "3.6.3"
  }
 },
 "nbformat": 4,
 "nbformat_minor": 2
}
