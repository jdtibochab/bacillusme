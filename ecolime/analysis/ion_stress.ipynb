{
 "cells": [
  {
   "cell_type": "markdown",
   "metadata": {},
   "source": [
    "# Ion stress response"
   ]
  },
  {
   "cell_type": "code",
   "execution_count": 1,
   "metadata": {},
   "outputs": [
    {
     "name": "stderr",
     "output_type": "stream",
     "text": [
      "/home/jt/Downloads/cobrapy-0.5.11/cobra/io/sbml3.py:24: UserWarning: Install lxml for faster SBML I/O\n",
      "  warn(\"Install lxml for faster SBML I/O\")\n",
      "/home/jt/Downloads/cobrapy-0.5.11/cobra/io/__init__.py:12: UserWarning: cobra.io.sbml requires libsbml\n",
      "  warn(\"cobra.io.sbml requires libsbml\")\n"
     ]
    },
    {
     "name": "stdout",
     "output_type": "stream",
     "text": [
      "/home/jt/Downloads/cobrapy-0.5.11/cobra/__init__.py\n",
      "/home/jt/UCSD/cobrame-master/cobrame/__init__.py\n",
      "/home/jt/UCSD/bacillusme-master/ecolime/__init__.py\n"
     ]
    }
   ],
   "source": [
    "from __future__ import print_function, division, absolute_import\n",
    "\n",
    "import sys\n",
    "\n",
    "import qminospy\n",
    "from qminospy.me2 import ME_NLP\n",
    "\n",
    "# python imports\n",
    "from copy import copy\n",
    "import re\n",
    "from os.path import join\n",
    "from collections import defaultdict\n",
    "import pickle\n",
    "\n",
    "# third party imports\n",
    "import pandas\n",
    "import cobra\n",
    "from tqdm import tqdm\n",
    "import numpy as np\n",
    "import scipy\n",
    "import matplotlib.pyplot as plt\n",
    "\n",
    "# COBRAme\n",
    "import cobrame\n",
    "from cobrame.util import building, mu, me_model_interface\n",
    "from cobrame.io.json import save_json_me_model, save_reduced_json_me_model\n",
    "\n",
    "# ECOLIme\n",
    "import ecolime\n",
    "from ecolime import (transcription, translation, flat_files, generics, formulas, compartments)\n",
    "from ecolime.util.helper_functions import *\n",
    "%load_ext autoreload\n",
    "%autoreload 2\n",
    "print(cobra.__file__)\n",
    "print(cobrame.__file__)\n",
    "print(ecolime.__file__)"
   ]
  },
  {
   "cell_type": "markdown",
   "metadata": {},
   "source": [
    "Load"
   ]
  },
  {
   "cell_type": "code",
   "execution_count": 2,
   "metadata": {},
   "outputs": [],
   "source": [
    "eco_directory = join(flat_files.ecoli_files_dir, 'iJO1366.json')\n",
    "ijo_directory = join(flat_files.ecoli_files_dir, 'iYO844.json')\n",
    "uni_directory = join(flat_files.ecoli_files_dir, 'universal_model.json')\n",
    "\n",
    "eco = cobra.io.load_json_model(eco_directory)\n",
    "bsub = cobra.io.load_json_model(ijo_directory)\n",
    "uni = cobra.io.load_json_model(uni_directory)\n",
    "\n",
    "bsub.optimize()\n",
    "base_mu = bsub.solution.f"
   ]
  },
  {
   "cell_type": "markdown",
   "metadata": {},
   "source": [
    "## ME-model simulations"
   ]
  },
  {
   "cell_type": "code",
   "execution_count": 3,
   "metadata": {},
   "outputs": [],
   "source": [
    "with open('../me_models/solution.pickle', 'rb') as solution:\n",
    "    me = pickle.load(solution)"
   ]
  },
  {
   "cell_type": "code",
   "execution_count": 4,
   "metadata": {},
   "outputs": [],
   "source": [
    "ions = ['na1_c','ca2_c','zn2_c','k_c']"
   ]
  },
  {
   "cell_type": "markdown",
   "metadata": {},
   "source": [
    "Add ion uptake through osmosis"
   ]
  },
  {
   "cell_type": "code",
   "execution_count": 5,
   "metadata": {},
   "outputs": [],
   "source": [
    "for ion in ions:\n",
    "    rxn = cobrame.MEReaction(id='EX_{}_osm'.format(ion))\n",
    "    me.add_reaction(rxn)\n",
    "    rxn.reaction = ' -> '+ion\n",
    "    rxn.lower_bound = 0\n",
    "    rxn.upper_bound = 0"
   ]
  },
  {
   "cell_type": "code",
   "execution_count": 6,
   "metadata": {},
   "outputs": [],
   "source": [
    "def single_flux_response(me,rate,ion,mu_fix=False):  \n",
    "    me.reactions.get_by_id('EX_{}_osm'.format(ion)).lower_bound = rate\n",
    "    me.reactions.get_by_id('EX_{}_osm'.format(ion)).upper_bound = rate\n",
    "    solve_me_model(me, max_mu = 0.5, min_mu = .05, using_soplex=False,\n",
    "                   precision = 1e-6,verbosity=0,mu_fix=mu_fix)\n",
    "    return rate, me.solution.x_dict"
   ]
  },
  {
   "cell_type": "code",
   "execution_count": 7,
   "metadata": {},
   "outputs": [
    {
     "name": "stdout",
     "output_type": "stream",
     "text": [
      "Ions to include: ['na1_c', 'ca2_c', 'zn2_c', 'k_c']\n",
      "Rates to use: [  0 -10 -20 -30 -40 -50 -60 -70 -80 -90]\n"
     ]
    }
   ],
   "source": [
    "# Calculation at several sodium uptake rates\n",
    "all_rxns = [rxn.id for rxn in me.reactions]\n",
    "ion_rates = -np.arange(0,100,10)\n",
    "\n",
    "print('Ions to include: {}'.format(ions))\n",
    "print('Rates to use: {}'.format(ion_rates))\n",
    "\n",
    "ion_result_macrodict = dict()\n",
    "\n",
    "import multiprocessing as mp\n",
    "NP = min([len(ion_rates),10])"
   ]
  },
  {
   "cell_type": "code",
   "execution_count": 8,
   "metadata": {},
   "outputs": [
    {
     "name": "stderr",
     "output_type": "stream",
     "text": [
      "Calculating k_c (10 threads): 100%|██████████| 40/40 [1:14:46<00:00, 34.55s/it]   "
     ]
    }
   ],
   "source": [
    "# Parallel processing\n",
    "pbar = tqdm(total=len(ions)*len(ion_rates))\n",
    "for ion in ions:  \n",
    "    flux_dict = {}  \n",
    "    pbar.set_description('Calculating {} ({} threads)'.format(ion,NP))\n",
    "    def collect_result(result):\n",
    "        flux_dict[result[0]] = result[1]\n",
    "        pbar.update(1)\n",
    "    pool = mp.Pool(NP)\n",
    "    for rate in ion_rates:\n",
    "        pool.apply_async(single_flux_response, args=(me,rate,ion), callback=collect_result)\n",
    "    pool.close()\n",
    "    pool.join()\n",
    "    ion_result_macrodict[ion] = flux_dict\n",
    "    flux_responses_me = pd.DataFrame.from_dict(flux_dict)\n",
    "    flux_responses_me = flux_responses_me[sorted(flux_responses_me.columns)]\n",
    "    flux_responses_me.to_csv('{}_flux_responses.csv'.format(ion))"
   ]
  },
  {
   "cell_type": "code",
   "execution_count": 9,
   "metadata": {},
   "outputs": [
    {
     "data": {
      "image/png": "[encoded data removed]",
      "text/plain": [
       "<Figure size 720x360 with 4 Axes>"
      ]
     },
     "metadata": {
      "needs_background": "light"
     },
     "output_type": "display_data"
    }
   ],
   "source": [
    "plt.figure(figsize=(10,5))\n",
    "for idx,ion in enumerate(ions):\n",
    "    plt.subplot(2,3,idx+1)\n",
    "    flux_responses_me = pd.DataFrame.from_dict(ion_result_macrodict[ion])\n",
    "    flux_responses_me = flux_responses_me[sorted(flux_responses_me.columns)]\n",
    "\n",
    "    plt.plot(-flux_responses_me.loc['EX_{}_osm'.format(ion)],flux_responses_me.loc['biomass_dilution'],\n",
    "                label = 'growth',color='tab:red')\n",
    "    plt.xlabel('Ion uptake')\n",
    "    plt.ylabel('Growth rate')\n",
    "    plt.title(ion)\n",
    "plt.tight_layout()"
   ]
  },
  {
   "cell_type": "code",
   "execution_count": 12,
   "metadata": {},
   "outputs": [],
   "source": [
    "gene_dictionary = pd.read_csv('gene_name_dictionary.csv',index_col=1)"
   ]
  },
  {
   "cell_type": "code",
   "execution_count": 23,
   "metadata": {},
   "outputs": [
    {
     "data": {
      "text/plain": [
       "frozenset()"
      ]
     },
     "execution_count": 23,
     "metadata": {},
     "output_type": "execute_result"
    }
   ],
   "source": [
    "bsub.reactions.EX_k_e.genes"
   ]
  },
  {
   "cell_type": "code",
   "execution_count": 25,
   "metadata": {},
   "outputs": [
    {
     "name": "stdout",
     "output_type": "stream",
     "text": [
      "( Kt2r_FWD_BSU26640-MONOMER 0 999999.0 ) \t h_e + k_e <=> -9.15996565006832e-5*mu BSU26640-MONOMER + h_c + k_c\n",
      "( Kt2r_FWD_CPLX8J2-165 0 999999.0 ) \t h_e + k_e <=> -4.27350427350427e-6*mu CPLX8J2-165 + h_c + k_c\n",
      "( EX_k_e -999999.0 999999.0 ) \t k_e <=> \n",
      "( Kt3r_FWD_BSU31650-MONOMER 0 999999.0 ) \t h_e + k_c <=> -0.000250009142655074*mu BSU31650-MONOMER + h_c + k_e\n",
      "( ZN2t4_FWD_BSU26650-MONOMER 0 999999.0 ) \t h_e + k_e + zn2_c <=> -0.000101343392647356*mu BSU26650-MONOMER + h_c + k_c + zn2_e\n",
      "( Kt3r_FWD_BSU31600-MONOMER 0 999999.0 ) \t h_e + k_c <=> -4.27350427350427e-6*mu BSU31600-MONOMER + h_c + k_e\n",
      "( CD2t4_FWD_BSU26650-MONOMER 0 999999.0 ) \t cd2_c + h_e + k_e <=> -4.27350427350427e-6*mu BSU26650-MONOMER + cd2_e + h_c + k_c\n",
      "( Kt1_REV_BSU31322-MONOMER 0 999999.0 ) \t k_c <=> -3.40320963111916e-5*mu BSU31322-MONOMER + k_e\n",
      "( Kt3r_FWD_BSU31620-MONOMER 0 999999.0 ) \t h_e + k_c <=> -4.27350427350427e-6*mu BSU31620-MONOMER + h_c + k_e\n",
      "( Kt3r_FWD_BSU31630-MONOMER 0 999999.0 ) \t h_e + k_c <=> -4.27350427350427e-6*mu BSU31630-MONOMER + h_c + k_e\n",
      "( Kt1_FWD_BSU31322-MONOMER 0 999999.0 ) \t k_e <=> -3.40320963111916e-5*mu BSU31322-MONOMER + k_c\n",
      "( Kt3r_FWD_BSU31610-MONOMER 0 999999.0 ) \t h_e + k_c <=> -4.27350427350427e-6*mu BSU31610-MONOMER + h_c + k_e\n",
      "( Kt3r_FWD_BSU31660-MONOMER 0 999999.0 ) \t h_e + k_c <=> -4.27350427350427e-6*mu BSU31660-MONOMER + h_c + k_e\n"
     ]
    },
    {
     "data": {
      "text/plain": [
       "[<MetabolicReaction Kt2r_FWD_BSU26640-MONOMER at 0x7fc1fcbe8400>,\n",
       " <MetabolicReaction Kt2r_FWD_CPLX8J2-165 at 0x7fc1fcbe8630>,\n",
       " <MEReaction EX_k_e at 0x7fc200be9438>,\n",
       " <MetabolicReaction Kt3r_FWD_BSU31650-MONOMER at 0x7fc1fcbe8a58>,\n",
       " <MetabolicReaction ZN2t4_FWD_BSU26650-MONOMER at 0x7fc1fc8bd4a8>,\n",
       " <MetabolicReaction Kt3r_FWD_BSU31600-MONOMER at 0x7fc1fcbe8cc0>,\n",
       " <MetabolicReaction CD2t4_FWD_BSU26650-MONOMER at 0x7fc1fcf1fcf8>,\n",
       " <MetabolicReaction Kt1_REV_BSU31322-MONOMER at 0x7fc1fcbe8ef0>,\n",
       " <MetabolicReaction Kt3r_FWD_BSU31620-MONOMER at 0x7fc1fcbe8748>,\n",
       " <MetabolicReaction Kt3r_FWD_BSU31630-MONOMER at 0x7fc1fcbe8940>,\n",
       " <MetabolicReaction Kt1_FWD_BSU31322-MONOMER at 0x7fc1fcbf6160>,\n",
       " <MetabolicReaction Kt3r_FWD_BSU31610-MONOMER at 0x7fc1fcbe8ba8>,\n",
       " <MetabolicReaction Kt3r_FWD_BSU31660-MONOMER at 0x7fc1fcbe8dd8>]"
      ]
     },
     "execution_count": 25,
     "metadata": {},
     "output_type": "execute_result"
    }
   ],
   "source": [
    "get_reactions_of_met(me,'k_e')"
   ]
  },
  {
   "cell_type": "code",
   "execution_count": 26,
   "metadata": {},
   "outputs": [
    {
     "name": "stderr",
     "output_type": "stream",
     "text": [
      "/home/jt/UCSD/ME_modelling/ME_env/lib/python3.6/site-packages/ipykernel_launcher.py:9 \u001b[1;31mFutureWarning\u001b[0m: \n",
      "Passing list-likes to .loc or [] with any missing label will raise\n",
      "KeyError in the future, you can use .reindex() as an alternative.\n",
      "\n",
      "See the documentation here:\n",
      "https://pandas.pydata.org/pandas-docs/stable/user_guide/indexing.html#deprecate-loc-reindex-listlike\n"
     ]
    },
    {
     "ename": "TypeError",
     "evalue": "must be str, not float",
     "output_type": "error",
     "traceback": [
      "\u001b[0;31m---------------------------------------------------------------------------\u001b[0m",
      "\u001b[0;31mTypeError\u001b[0m                                 Traceback (most recent call last)",
      "\u001b[0;32m<ipython-input-26-892def1c9181>\u001b[0m in \u001b[0;36m<module>\u001b[0;34m\u001b[0m\n\u001b[1;32m      8\u001b[0m \u001b[0mgenes\u001b[0m \u001b[0;34m=\u001b[0m \u001b[0;34m[\u001b[0m\u001b[0;34m'ktrB'\u001b[0m\u001b[0;34m,\u001b[0m\u001b[0;34m'ktrA'\u001b[0m\u001b[0;34m,\u001b[0m\u001b[0;34m'yufD'\u001b[0m\u001b[0;34m]\u001b[0m\u001b[0;34m\u001b[0m\u001b[0m\n\u001b[1;32m      9\u001b[0m \u001b[0;32mfor\u001b[0m \u001b[0mgene_name\u001b[0m\u001b[0;34m,\u001b[0m\u001b[0mlocus_id\u001b[0m \u001b[0;32min\u001b[0m \u001b[0mgene_dictionary\u001b[0m\u001b[0;34m.\u001b[0m\u001b[0mloc\u001b[0m\u001b[0;34m[\u001b[0m\u001b[0mgenes\u001b[0m\u001b[0;34m]\u001b[0m\u001b[0;34m[\u001b[0m\u001b[0;34m'locus_id'\u001b[0m\u001b[0;34m]\u001b[0m\u001b[0;34m.\u001b[0m\u001b[0mitems\u001b[0m\u001b[0;34m(\u001b[0m\u001b[0;34m)\u001b[0m\u001b[0;34m:\u001b[0m\u001b[0;34m\u001b[0m\u001b[0m\n\u001b[0;32m---> 10\u001b[0;31m     \u001b[0mexpression\u001b[0m \u001b[0;34m=\u001b[0m \u001b[0mflux_responses_me\u001b[0m\u001b[0;34m.\u001b[0m\u001b[0mloc\u001b[0m\u001b[0;34m[\u001b[0m\u001b[0;34m'translation_'\u001b[0m\u001b[0;34m+\u001b[0m\u001b[0mlocus_id\u001b[0m\u001b[0;34m]\u001b[0m\u001b[0;34m\u001b[0m\u001b[0m\n\u001b[0m\u001b[1;32m     11\u001b[0m     \u001b[0mexpression\u001b[0m \u001b[0;34m/=\u001b[0m \u001b[0mnp\u001b[0m\u001b[0;34m.\u001b[0m\u001b[0mmax\u001b[0m\u001b[0;34m(\u001b[0m\u001b[0mexpression\u001b[0m\u001b[0;34m)\u001b[0m\u001b[0;34m\u001b[0m\u001b[0m\n\u001b[1;32m     12\u001b[0m     plt.plot(-flux_responses_me.loc['EX_k_c_osm'],expression,\n",
      "\u001b[0;31mTypeError\u001b[0m: must be str, not float"
     ]
    },
    {
     "data": {
      "image/png": "[encoded data removed]",
      "text/plain": [
       "<Figure size 1080x288 with 1 Axes>"
      ]
     },
     "metadata": {
      "needs_background": "light"
     },
     "output_type": "display_data"
    }
   ],
   "source": [
    "# Visualize protein expression profiles\n",
    "plt.figure(figsize=(15,4))\n",
    "import itertools\n",
    "marker = itertools.cycle(('v', 's', '^', 'o', '*')) \n",
    "\n",
    "flux_responses_me[abs(flux_responses_me)<1e-20] = 0\n",
    "\n",
    "plt.figure()\n",
    "plt.subplots_adjust(wspace=0.3)\n",
    "plt.subplot(1,2,1)\n",
    "genes = ['ktrB','ktrA']\n",
    "for gene_name,locus_id in gene_dictionary.loc[genes]['locus_id'].items():\n",
    "    expression = flux_responses_me.loc['translation_'+locus_id]\n",
    "    expression /= np.max(expression)\n",
    "    plt.plot(-flux_responses_me.loc['EX_k_c_osm'],expression,\n",
    "            label=gene_name,marker = next(marker),markersize=8)\n",
    "plt.legend()\n",
    "plt.xlabel('Sodium uptake')\n",
    "plt.ylabel('Protein expression')\n",
    "plt.title('Protein: K+ transporter KtrAB')\n",
    "\n",
    "plt.subplot(1,2,1)\n",
    "genes = ['ktrB','ktrA']\n",
    "for gene_name,locus_id in gene_dictionary.loc[genes]['locus_id'].items():\n",
    "    expression = flux_responses_me.loc['translation_'+locus_id]\n",
    "    expression /= np.max(expression)\n",
    "    plt.plot(-flux_responses_me.loc['EX_k_c_osm'],expression,\n",
    "            label=gene_name,marker = next(marker),markersize=8)\n",
    "plt.legend()\n",
    "plt.xlabel('Sodium uptake')\n",
    "plt.ylabel('Protein expression')\n",
    "plt.title(genes)"
   ]
  },
  {
   "cell_type": "code",
   "execution_count": null,
   "metadata": {},
   "outputs": [],
   "source": []
  }
 ],
 "metadata": {
  "kernelspec": {
   "display_name": "Python 3",
   "language": "python",
   "name": "python3"
  },
  "language_info": {
   "codemirror_mode": {
    "name": "ipython",
    "version": 3
   },
   "file_extension": ".py",
   "mimetype": "text/x-python",
   "name": "python",
   "nbconvert_exporter": "python",
   "pygments_lexer": "ipython3",
   "version": "3.6.3"
  }
 },
 "nbformat": 4,
 "nbformat_minor": 2
}
