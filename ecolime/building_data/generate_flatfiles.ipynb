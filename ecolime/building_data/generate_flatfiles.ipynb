{
 "cells": [
  {
   "cell_type": "code",
   "execution_count": 242,
   "metadata": {},
   "outputs": [],
   "source": [
    "import cobra\n",
    "import numpy as np\n",
    "from cobrame.util import building, mu, me_model_interface\n",
    "\n",
    "## Metabolites\n",
    "\n",
    "met_output_file = 'metabolites.txt'\n",
    "m_model_file = './iYO844.json'\n",
    "\n",
    "m_model = cobra.io.load_json_model(m_model_file)"
   ]
  },
  {
   "cell_type": "code",
   "execution_count": 243,
   "metadata": {},
   "outputs": [],
   "source": [
    "def duplicates(lst, item, counter):\n",
    "    return [i for i, x in enumerate(lst) if x == item and i != counter]\n",
    "def duplicate_indices(lst, item):\n",
    "    return [i for i, x in enumerate(lst) if x == item]"
   ]
  },
  {
   "cell_type": "code",
   "execution_count": 244,
   "metadata": {},
   "outputs": [],
   "source": [
    "def convert_compartments(compartment_list):\n",
    "    compartment_ids = ['c','e','p']\n",
    "    compartment_equivalence = ['Cytosol','Extra-organism','Periplasm']\n",
    "    \n",
    "    for c in range(0,len(compartment_list)):\n",
    "        if compartment_list[c] in compartment_ids:\n",
    "            ind = compartment_ids.index(compartment_list[c])\n",
    "            compartment_list[c] = compartment_equivalence[ind]\n",
    "            \n",
    "    return compartment_list\n",
    "\n",
    "def generate_metfile(m_model,filename):\n",
    "    file = open(filename,'a')\n",
    "    \n",
    "    metabolite_list = [None]*len(m_model.metabolites)\n",
    "    np.transpose(metabolite_list)\n",
    "    compartment_list = [None]*len(m_model.metabolites)\n",
    "    homogeneous_metabolite_list = []\n",
    "    \n",
    "    \n",
    "    for m in range(0,len(m_model.metabolites)):\n",
    "        ID = m_model.metabolites[m].id\n",
    "        compartment_list[m] = ID[len(ID)-1]\n",
    "        metabolite_list[m] = ID[:len(ID)-2]\n",
    "        \n",
    "    compartment_list = convert_compartments(compartment_list)\n",
    "    \n",
    "    other_mets_index = [];\n",
    "    for c in range(0,len(m_model.metabolites)):\n",
    "        if len(duplicates(other_mets_index,c,-1)) == 0:\n",
    "            met = metabolite_list[c]\n",
    "            name = m_model.metabolites[c].name\n",
    "            formula = m_model.metabolites[c].formula\n",
    "\n",
    "            other_mets_index = duplicates(metabolite_list,met,c)\n",
    "            \n",
    "            if formula is None:\n",
    "                formula = 'no-formula'\n",
    "            \n",
    "            string = met + '\t' + name + '\t' + formula + '\t' + compartment_list[c]\n",
    "            for other_mets in other_mets_index:\n",
    "                string = string + ' AND ' + compartment_list[other_mets]\n",
    "            \n",
    "            string = string + '\\n'\n",
    "            file.write(string)\n",
    "    file.close()"
   ]
  },
  {
   "cell_type": "code",
   "execution_count": 245,
   "metadata": {},
   "outputs": [],
   "source": [
    "generate_metfile(m_model,met_output_file)"
   ]
  },
  {
   "cell_type": "code",
   "execution_count": null,
   "metadata": {},
   "outputs": [],
   "source": []
  }
 ],
 "metadata": {
  "kernelspec": {
   "display_name": "Python 3",
   "language": "python",
   "name": "python3"
  },
  "language_info": {
   "codemirror_mode": {
    "name": "ipython",
    "version": 3
   },
   "file_extension": ".py",
   "mimetype": "text/x-python",
   "name": "python",
   "nbconvert_exporter": "python",
   "pygments_lexer": "ipython3",
   "version": "3.6.7"
  }
 },
 "nbformat": 4,
 "nbformat_minor": 2
}
