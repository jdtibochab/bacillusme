{
 "cells": [
  {
   "cell_type": "code",
   "execution_count": 19,
   "metadata": {},
   "outputs": [],
   "source": [
    "import cobra\n",
    "import os\n",
    "import pandas as pd\n",
    "import numpy as np\n",
    "import urllib\n",
    "from cobrame.util import building, mu, me_model_interface\n",
    "\n",
    "## Metabolites\n",
    "\n",
    "met_output_file = 'metabolites.txt'\n",
    "m_model_file = './iYO844.json'\n",
    "\n",
    "m_model = cobra.io.load_json_model(m_model_file)"
   ]
  },
  {
   "cell_type": "code",
   "execution_count": 20,
   "metadata": {},
   "outputs": [],
   "source": [
    "def duplicates(lst, item, counter):\n",
    "    return [i for i, x in enumerate(lst) if x == item and i != counter]\n",
    "\n",
    "def duplicate_indices(lst, item):\n",
    "    return [i for i, x in enumerate(lst) if x == item]\n",
    "\n",
    "def convert_compartments(compartment_list):\n",
    "    compartment_ids = ['c','e','p']\n",
    "    compartment_equivalence = ['Cytosol','Extra-organism','Periplasm']\n",
    "    \n",
    "    for c in range(0,len(compartment_list)):\n",
    "        if compartment_list[c] in compartment_ids:\n",
    "            ind = compartment_ids.index(compartment_list[c])\n",
    "            compartment_list[c] = compartment_equivalence[ind]\n",
    "            \n",
    "    return compartment_list\n",
    "\n",
    "def convert_compartment(compartment_list):\n",
    "    compartment_ids = ['c','e','p']\n",
    "    compartment_equivalence = ['Cytosol','Extra-organism','Periplasm']\n",
    "    if compartment_list in compartment_ids:\n",
    "        ind = compartment_ids.index(compartment_list)\n",
    "        compartment_list = compartment_equivalence[ind]\n",
    "            \n",
    "    return compartment_list"
   ]
  },
  {
   "cell_type": "markdown",
   "metadata": {},
   "source": [
    "## 1. metabolites.txt"
   ]
  },
  {
   "cell_type": "code",
   "execution_count": 21,
   "metadata": {},
   "outputs": [],
   "source": [
    "def generate_metfile(m_model,filename):\n",
    "    file = open(filename,'w')\n",
    "    \n",
    "    metabolite_list = [None]*len(m_model.metabolites)\n",
    "    compartment_list = [None]*len(m_model.metabolites)\n",
    "    \n",
    "    for m in range(0,len(m_model.metabolites)):\n",
    "        ID = m_model.metabolites[m].id\n",
    "        compartment_list[m] = ID[len(ID)-1]\n",
    "        metabolite_list[m] = ID[:len(ID)-2]\n",
    "        \n",
    "    compartment_list = convert_compartments(compartment_list)\n",
    "    \n",
    "    other_mets_index = [];\n",
    "    for c in range(0,len(m_model.metabolites)):\n",
    "        if len(duplicates(other_mets_index,c,-1)) == 0:\n",
    "            met = metabolite_list[c]\n",
    "            name = m_model.metabolites[c].name\n",
    "            formula = m_model.metabolites[c].formula\n",
    "\n",
    "            other_mets_index = duplicates(metabolite_list,met,c)\n",
    "            \n",
    "            if formula is None:\n",
    "                formula = 'no-formula'\n",
    "            \n",
    "            string = met + '\\t' + name + '\\t' + formula + '\\t' + compartment_list[c]\n",
    "            for other_mets in other_mets_index:\n",
    "                string = string + ' AND ' + compartment_list[other_mets]\n",
    "            \n",
    "            string = string + '\\n'\n",
    "            file.write(string)\n",
    "    file.close()"
   ]
  },
  {
   "cell_type": "code",
   "execution_count": 22,
   "metadata": {},
   "outputs": [],
   "source": [
    "generate_metfile(m_model,met_output_file)"
   ]
  },
  {
   "cell_type": "markdown",
   "metadata": {},
   "source": [
    "## reaction_matrix.txt"
   ]
  },
  {
   "cell_type": "code",
   "execution_count": 23,
   "metadata": {},
   "outputs": [],
   "source": [
    "def generate_reactionmatrix_file(m_model,filename):\n",
    "    file = open(filename,'w')\n",
    "    \n",
    "    reaction_matrix_list = []\n",
    "    \n",
    "    for rxn in m_model.reactions:\n",
    "        for metabolite in rxn.metabolites:\n",
    "            compartment = metabolite.compartment\n",
    "            compartment = convert_compartment(compartment)\n",
    "            \n",
    "            met = metabolite.id\n",
    "            met = met[:len(met)-2]\n",
    "            \n",
    "            coefficient = rxn.get_coefficient(metabolite)\n",
    "            \n",
    "            string = rxn.id + '\\t' + met + '\\t' + compartment + '\\t' + str(coefficient) + '\\n'\n",
    "            \n",
    "            file.write(string)\n",
    "\n",
    "    file.close()\n",
    "    \n",
    "    \n",
    "    "
   ]
  },
  {
   "cell_type": "code",
   "execution_count": 24,
   "metadata": {},
   "outputs": [],
   "source": [
    "generate_reactionmatrix_file(m_model,'reaction_matrix.txt')"
   ]
  },
  {
   "cell_type": "markdown",
   "metadata": {},
   "source": [
    "## reactions.txt"
   ]
  },
  {
   "cell_type": "code",
   "execution_count": 27,
   "metadata": {},
   "outputs": [],
   "source": [
    "def generate_reactions_file(m_model,filename):\n",
    "    file = open(filename,'w')\n",
    "    \n",
    "    string = '#name' + '\\t' + 'description' +  '\\t' + 'is_reversible' + '\\t' + 'data_source' + '\\t' + 'is_spontaneous' +  '\\n'\n",
    "    \n",
    "    file.write(string)\n",
    "    reaction_matrix_list = []\n",
    "    \n",
    "    for rxn in m_model.reactions:\n",
    "        rev = rxn.reversibility\n",
    "        name = rxn.name\n",
    "        name = name.replace(' ','_')\n",
    "        \n",
    "        if rev == True:\n",
    "            reversibility = 1\n",
    "        else:\n",
    "            reversibility = 0\n",
    "        \n",
    "        string = rxn.id + '\\t' + name + '\\t' + str(reversibility) + '\\t' + m_model.id + '\\t' + '0' + '\\n'\n",
    "        file.write(string)\n",
    "\n",
    "    file.close()"
   ]
  },
  {
   "cell_type": "code",
   "execution_count": 28,
   "metadata": {},
   "outputs": [],
   "source": [
    "generate_reactions_file(m_model,'reactions.txt')"
   ]
  },
  {
   "cell_type": "code",
   "execution_count": null,
   "metadata": {},
   "outputs": [],
   "source": []
  },
  {
   "cell_type": "code",
   "execution_count": 34,
   "metadata": {},
   "outputs": [
    {
     "ename": "TypeError",
     "evalue": "'dict' object is not callable",
     "output_type": "error",
     "traceback": [
      "\u001b[0;31m---------------------------------------------------------------------------\u001b[0m",
      "\u001b[0;31mTypeError\u001b[0m                                 Traceback (most recent call last)",
      "\u001b[0;32m<ipython-input-34-078d56a3541c>\u001b[0m in \u001b[0;36m<module>\u001b[0;34m\u001b[0m\n\u001b[1;32m      1\u001b[0m \u001b[0;32mfrom\u001b[0m \u001b[0mBio\u001b[0m\u001b[0;34m.\u001b[0m\u001b[0mData\u001b[0m \u001b[0;32mimport\u001b[0m \u001b[0mCodonTable\u001b[0m\u001b[0;34m\u001b[0m\u001b[0;34m\u001b[0m\u001b[0m\n\u001b[0;32m----> 2\u001b[0;31m \u001b[0mprint\u001b[0m\u001b[0;34m(\u001b[0m\u001b[0mBio\u001b[0m\u001b[0;34m.\u001b[0m\u001b[0mData\u001b[0m\u001b[0;34m.\u001b[0m\u001b[0mCodonTable\u001b[0m\u001b[0;34m.\u001b[0m\u001b[0mambiguous_rna_by_name\u001b[0m\u001b[0;34m(\u001b[0m\u001b[0;34m'UUU'\u001b[0m\u001b[0;34m)\u001b[0m\u001b[0;34m)\u001b[0m\u001b[0;34m\u001b[0m\u001b[0;34m\u001b[0m\u001b[0m\n\u001b[0m",
      "\u001b[0;31mTypeError\u001b[0m: 'dict' object is not callable"
     ]
    }
   ],
   "source": [
    "from Bio.Data import CodonTable\n",
    "print(Bio.Data.CodonTable.)"
   ]
  },
  {
   "cell_type": "code",
   "execution_count": 30,
   "metadata": {},
   "outputs": [
    {
     "name": "stdout",
     "output_type": "stream",
     "text": [
      "Table 1 Standard, SGC0\n",
      "\n",
      "  |  U      |  C      |  A      |  G      |\n",
      "--+---------+---------+---------+---------+--\n",
      "U | UUU F   | UCU S   | UAU Y   | UGU C   | U\n",
      "U | UUC F   | UCC S   | UAC Y   | UGC C   | C\n",
      "U | UUA L   | UCA S   | UAA Stop| UGA Stop| A\n",
      "U | UUG L(s)| UCG S   | UAG Stop| UGG W   | G\n",
      "--+---------+---------+---------+---------+--\n",
      "C | CUU L   | CCU P   | CAU H   | CGU R   | U\n",
      "C | CUC L   | CCC P   | CAC H   | CGC R   | C\n",
      "C | CUA L   | CCA P   | CAA Q   | CGA R   | A\n",
      "C | CUG L(s)| CCG P   | CAG Q   | CGG R   | G\n",
      "--+---------+---------+---------+---------+--\n",
      "A | AUU I   | ACU T   | AAU N   | AGU S   | U\n",
      "A | AUC I   | ACC T   | AAC N   | AGC S   | C\n",
      "A | AUA I   | ACA T   | AAA K   | AGA R   | A\n",
      "A | AUG M(s)| ACG T   | AAG K   | AGG R   | G\n",
      "--+---------+---------+---------+---------+--\n",
      "G | GUU V   | GCU A   | GAU D   | GGU G   | U\n",
      "G | GUC V   | GCC A   | GAC D   | GGC G   | C\n",
      "G | GUA V   | GCA A   | GAA E   | GGA G   | A\n",
      "G | GUG V   | GCG A   | GAG E   | GGG G   | G\n",
      "--+---------+---------+---------+---------+--\n"
     ]
    }
   ],
   "source": [
    "Bio.Data.CodonTable.standard_rna_table"
   ]
  },
  {
   "cell_type": "code",
   "execution_count": null,
   "metadata": {},
   "outputs": [],
   "source": []
  }
 ],
 "metadata": {
  "kernelspec": {
   "display_name": "Python 3",
   "language": "python",
   "name": "python3"
  },
  "language_info": {
   "codemirror_mode": {
    "name": "ipython",
    "version": 3
   },
   "file_extension": ".py",
   "mimetype": "text/x-python",
   "name": "python",
   "nbconvert_exporter": "python",
   "pygments_lexer": "ipython3",
   "version": "3.6.7"
  }
 },
 "nbformat": 4,
 "nbformat_minor": 2
}
