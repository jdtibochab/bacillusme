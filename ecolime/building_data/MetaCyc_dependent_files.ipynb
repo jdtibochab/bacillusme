{
 "cells": [
  {
   "cell_type": "markdown",
   "metadata": {},
   "source": [
    "## Generate MetaCyc-dependendt files"
   ]
  },
  {
   "cell_type": "code",
   "execution_count": 17,
   "metadata": {},
   "outputs": [],
   "source": [
    "import cobra\n",
    "import os\n",
    "import pandas as pd\n",
    "import numpy as np\n",
    "import urllib\n",
    "import pythoncyc as pc\n",
    "\n",
    "## Metabolites\n",
    "\n",
    "met_output_file = 'metabolites.txt'\n",
    "m_model_file = './iYO844.json'\n",
    "\n",
    "m_model = cobra.io.load_json_model(m_model_file)"
   ]
  },
  {
   "cell_type": "code",
   "execution_count": 18,
   "metadata": {},
   "outputs": [],
   "source": [
    "bsub = pc.select_organism('bsub')"
   ]
  },
  {
   "cell_type": "code",
   "execution_count": 19,
   "metadata": {},
   "outputs": [
    {
     "name": "stdout",
     "output_type": "stream",
     "text": [
      "<PGDB bsub, currently has 0 PFrames>\n"
     ]
    }
   ],
   "source": [
    "print bsub"
   ]
  },
  {
   "cell_type": "code",
   "execution_count": 46,
   "metadata": {
    "scrolled": true
   },
   "outputs": [
    {
     "name": "stdout",
     "output_type": "stream",
     "text": [
      "[u'|CPLX8J2-77|', u'|CPLX8J2-91|', u'|CPLX-7603|', u'|CPLX8J2-101|', u'|CPLX8J2-119|', u'|CPLX8J2-14|', u'|CPLX8J2-164|', u'|CPLX8J2-179|', u'|CPLX8J2-194|', u'|CPLX8J2-32|', u'|CPLX8J2-48|', u'|CPLX8J2-64|', u'|CPLX8J2-8|', u'|CPLX8J2-94|', u'|CPLX-8351|', u'|CPLX8J2-104|', u'|CPLX8J2-122|', u'|CPLX8J2-142|', u'|CPLX8J2-145|', u'|CPLX8J2-167|', u'|CPLX8J2-181|', u'|CPLX8J2-20|', u'|CPLX8J2-36|', u'|CPLX8J2-50|', u'|CPLX8J2-67|', u'|CPLX8J2-82|', u'|CPLX8J2-97|', u'|CPLX-8648|', u'|CPLX8J2-107|', u'|CPLX8J2-125|', u'|CPLX8J2-148|', u'|CPLX8J2-17|', u'|CPLX8J2-185|', u'|CPLX8J2-23|', u'|CPLX8J2-39|', u'|CPLX8J2-53|', u'|CPLX8J2-70|', u'|CPLX8J2-85|', u'|CPLX-9083|', u'|CPLX8J2-110|', u'|CPLX8J2-128|', u'|CPLX8J2-157|', u'|CPLX8J2-172|', u'|CPLX8J2-188|', u'|CPLX8J2-26|', u'|CPLX8J2-41|', u'|CPLX8J2-56|', u'|CPLX8J2-73|', u'|CPLX8J2-88|', u'|CPLX-5322|', u'|CPLX-9285|', u'|CPLX8J2-113|', u'|CPLX8J2-131|', u'|CPLX8J2-16|', u'|CPLX8J2-175|', u'|CPLX8J2-190|', u'|CPLX8J2-29|', u'|CPLX8J2-44|', u'|CPLX8J2-59|', u'|CPLX8J2-76|', u'|CPLX8J2-90|', u'|CPLX-7602|', u'|CPLX8J2-100|', u'|CPLX8J2-118|', u'|CPLX8J2-139|', u'|CPLX8J2-163|', u'|CPLX8J2-178|', u'|CPLX8J2-193|', u'|CPLX8J2-31|', u'|CPLX8J2-47|', u'|CPLX8J2-61|', u'|CPLX8J2-79|', u'|CPLX8J2-93|', u'|CPLX-8225|', u'|CPLX8J2-103|', u'|CPLX8J2-120|', u'|CPLX8J2-141|', u'|CPLX8J2-166|', u'|CPLX8J2-180|', u'|CPLX8J2-2|', u'|CPLX8J2-34|', u'|CPLX8J2-5|', u'|CPLX8J2-66|', u'|CPLX8J2-81|', u'|CPLX8J2-96|', u'|CPLX-8354|', u'|CPLX8J2-106|', u'|CPLX8J2-124|', u'|CPLX8J2-144|', u'|CPLX8J2-147|', u'|CPLX8J2-169|', u'|CPLX8J2-184|', u'|CPLX8J2-22|', u'|CPLX8J2-38|', u'|CPLX8J2-52|', u'|CPLX8J2-7|', u'|CPLX8J2-84|', u'|MONOMER8J2-6|', u'|CPLX-8875|', u'|CPLX8J2-11|', u'|CPLX8J2-127|', u'|CPLX8J2-156|', u'|CPLX8J2-171|', u'|CPLX8J2-187|', u'|CPLX8J2-25|', u'|CPLX8J2-40|', u'|CPLX8J2-55|', u'|CPLX8J2-72|', u'|CPLX8J2-87|', u'|CPLX-9195|', u'|CPLX8J2-112|', u'|CPLX8J2-130|', u'|CPLX8J2-159|', u'|CPLX8J2-174|', u'|CPLX8J2-19|', u'|CPLX8J2-28|', u'|CPLX8J2-43|', u'|CPLX8J2-58|', u'|CPLX8J2-75|', u'|CPLX8J2-9|', u'|CPLX-7601|', u'|CPLX8J2-10|', u'|CPLX8J2-117|', u'|CPLX8J2-133|', u'|CPLX8J2-162|', u'|CPLX8J2-177|', u'|CPLX8J2-192|', u'|CPLX8J2-30|', u'|CPLX8J2-46|', u'|CPLX8J2-60|', u'|CPLX8J2-78|', u'|CPLX8J2-92|', u'|CPLX-7604|', u'|CPLX8J2-102|', u'|CPLX8J2-12|', u'|CPLX8J2-140|', u'|CPLX8J2-165|', u'|CPLX8J2-18|', u'|CPLX8J2-195|', u'|CPLX8J2-33|', u'|CPLX8J2-49|', u'|CPLX8J2-65|', u'|CPLX8J2-80|', u'|CPLX8J2-95|', u'|CPLX-8352|', u'|CPLX8J2-105|', u'|CPLX8J2-123|', u'|CPLX8J2-143|', u'|CPLX8J2-146|', u'|CPLX8J2-168|', u'|CPLX8J2-182|', u'|CPLX8J2-21|', u'|CPLX8J2-37|', u'|CPLX8J2-51|', u'|CPLX8J2-68|', u'|CPLX8J2-83|', u'|CPLX8J2-98|', u'|CPLX-8649|', u'|CPLX8J2-108|', u'|CPLX8J2-126|', u'|CPLX8J2-15|', u'|CPLX8J2-170|', u'|CPLX8J2-186|', u'|CPLX8J2-24|', u'|CPLX8J2-4|', u'|CPLX8J2-54|', u'|CPLX8J2-71|', u'|CPLX8J2-86|', u'|CPLX-9084|', u'|CPLX8J2-111|', u'|CPLX8J2-13|', u'|CPLX8J2-158|', u'|CPLX8J2-173|', u'|CPLX8J2-189|', u'|CPLX8J2-27|', u'|CPLX8J2-42|', u'|CPLX8J2-57|', u'|CPLX8J2-74|', u'|CPLX8J2-89|', u'|CPLX-7445|', u'|CPLX8J2-1|', u'|CPLX8J2-116|', u'|CPLX8J2-132|', u'|CPLX8J2-161|', u'|CPLX8J2-176|', u'|CPLX8J2-191|', u'|CPLX8J2-3|', u'|CPLX8J2-45|', u'|CPLX8J2-6|']\n"
     ]
    }
   ],
   "source": [
    "CPLXS = pc.PGDB.all_protein_complexes(bsub,filter='all')\n",
    "print CPLXS"
   ]
  },
  {
   "cell_type": "code",
   "execution_count": 73,
   "metadata": {},
   "outputs": [
    {
     "name": "stdout",
     "output_type": "stream",
     "text": [
      "[]\n",
      "[]\n",
      "[]\n",
      "[u'|ATPSYN-RXN|']\n",
      "[u'|TRANS-RXN8J2-112|']\n",
      "[u'|5.99.1.3-RXN|']\n",
      "[u'|ASPARTATEKIN-RXN|']\n",
      "[u'|RXN-17897|', u'|FLAVONADPREDUCT-RXN|']\n",
      "[u'|RXN-13198|']\n",
      "[]\n",
      "[]\n",
      "[]\n",
      "[u'|RXN0-901|', u'|RXN-7682|']\n",
      "[]\n",
      "[u'|THIAZOLSYN3-RXN|']\n",
      "[u'|RXN-11136|']\n",
      "[u'|RIBOFLAVIN-SYN-RXN|']\n",
      "[u'|TRANS-RXN8J2-114|']\n",
      "[]\n",
      "[]\n",
      "[u'|PGLYCDEHYDROG-RXN|']\n",
      "[u'|SULFITE-REDUCT-RXN|']\n",
      "[]\n",
      "[]\n",
      "[]\n",
      "[u'|TRANS-RXN8J2-95|']\n",
      "[]\n",
      "[u'|RXN-11213|', u'|1.2.1.27-RXN|', u'|RXN-2902|']\n",
      "[]\n",
      "[u'|PENICILLIN-AMIDASE-RXN|']\n",
      "[]\n",
      "[u'|GCVP-RXN|']\n",
      "[u'|5-OXOPROLINASE-ATP-HYDROLYSING-RXN|']\n",
      "[u'|ACETOOHBUTSYN-RXN|', u'|ACETOLACTSYN-RXN|']\n",
      "[]\n",
      "[]\n",
      "[]\n",
      "[]\n",
      "[u'|RXN-17519|', u'|RXN-19755|', u'|RXN-19756|']\n",
      "[]\n",
      "[u'|RXN8J2-1|']\n",
      "[]\n",
      "[]\n",
      "[u'|PYRROLINECARBREDUCT-RXN|']\n",
      "[]\n",
      "[u'|R145-RXN|']\n",
      "[]\n",
      "[]\n",
      "[u'|ENOYL-ACP-REDUCT-NADH-RXN|', u'|RXN-9558|', u'|RXN-9661|', u'|RXN-9659|', u'|RXN-9660|', u'|RXN-9657|', u'|RXN-9663|', u'|RXN-9658|', u'|RXN-9662|', u'|1.3.1.9-RXN|']\n",
      "[u'|2.7.7.39-RXN|']\n",
      "[u'|RXN1K-87|', u'|RXN-19491|', u'|RXN-12354|', u'|PHENYLPYRUVATE-TAUTOMERASE-RXN|', u'|RXN-7282|']\n",
      "[]\n",
      "[u'|RXN-11322|', u'|GLUTAMIN-RXN|', u'|RXN-12590|']\n",
      "[u'|GLUTAMATESYN-RXN|', u'|GLUTDEHYD-RXN|', u'|GLUTAMIN-RXN|']\n",
      "[]\n",
      "[]\n",
      "[u'|PABASYN-RXN|']\n",
      "[]\n",
      "[]\n",
      "[]\n",
      "[u'|FRUCTOKINASE-RXN|']\n",
      "[]\n",
      "[]\n",
      "[u'|2.7.1.69-RXN|']\n",
      "[]\n",
      "[]\n",
      "[]\n",
      "[]\n",
      "[u'|GLUC1PADENYLTRANS-RXN|']\n",
      "[]\n",
      "[]\n",
      "[]\n",
      "[u'|TRANS-RXN8J2-97|', u'|TRANS-RXN8J2-96|']\n",
      "[u'|OXALATE-DECARBOXYLASE-RXN|']\n",
      "[u'|GLYCOLATEDEHYDRO-RXN|']\n",
      "[]\n",
      "[u'|TRANS-RXN8J2-113|']\n",
      "[]\n",
      "[u'|LYSINE-23-AMINOMUTASE-RXN|']\n",
      "[u'|RXN0-3501|']\n",
      "[u'|RXNI-2|', u'|3-OXOACID-COA-TRANSFERASE-RXN|']\n",
      "[u'|CARBPSYN-RXN|', u'|GLUTAMIN-RXN|', u'|RXN-13202|', u'|RXN-16909|', u'|RXN-16910|', u'|RXN-14196|']\n",
      "[]\n",
      "[u'|TRANS-RXN8J2-95|']\n",
      "[u'|RXN-12093|']\n",
      "[u'|PYRIMSYN1-RXN|']\n",
      "[u'|GLUCOSE-1-DEHYDROGENASE-RXN|']\n",
      "[]\n",
      "[u'|RXN8J2-137|']\n",
      "[u'|N-ACETYLDIAMINOPIMELATE-DEACETYLASE-RXN|']\n",
      "[]\n",
      "[u'|6-CARBOXYHEXANOATE--COA-LIGASE-RXN|']\n",
      "[u'|CYTOCHROME-C-OXIDASE-RXN|']\n",
      "[u'|TRANS-RXN8J2-98|']\n",
      "[]\n",
      "[u'|SUCCCOASYN-RXN|']\n",
      "[]\n",
      "[]\n",
      "[u'|RXN-13072|']\n",
      "[u'|PHENYLALANINE--TRNA-LIGASE-RXN|']\n",
      "[u'|3.4.21.89-RXN|']\n",
      "[]\n",
      "[]\n",
      "[u'|PYRROLINECARBREDUCT-RXN|']\n",
      "[]\n",
      "[u'|NAD-SYNTH-NH3-RXN|']\n",
      "[]\n",
      "[]\n",
      "[u'|RXN0-6377|']\n",
      "[u'|RXN-13568|', u'|RXN-13566|', u'|RXN-13567|']\n",
      "[]\n",
      "[]\n",
      "[]\n",
      "[]\n",
      "[u'|TRYPSYN-RXN|', u'|RXN0-2381|', u'|RXN0-2382|']\n",
      "[u'|UREASE-RXN|']\n",
      "[u'|RXN-12164|']\n",
      "[]\n",
      "[]\n",
      "[u'|RIBONUCLEOSIDE-DIP-REDUCTI-RXN|', u'|CDPREDUCT-RXN|', u'|UDPREDUCT-RXN|']\n",
      "[u'|ISOCHORMAT-RXN|']\n",
      "[u'|UDPREDUCT-RXN|', u'|RIBONUCLEOSIDE-DIP-REDUCTI-RXN|']\n",
      "[u'|TRANS-RXN8J2-108|']\n",
      "[u'|3.4.21.105-RXN|']\n",
      "[]\n",
      "[u'|RXN0-6381|']\n",
      "[u'|RXN8J2-3|']\n",
      "[u'|DNA-DIRECTED-RNA-POLYMERASE-RXN|']\n",
      "[]\n",
      "[]\n",
      "[u'|RXN-19779|']\n",
      "[]\n",
      "[u'|RXN-19450|', u'|DHBAMPLIG-RXN|', u'|RXN-19449|']\n",
      "[u'|RXN0-5266|']\n",
      "[u'|GLYCINE--TRNA-LIGASE-RXN|']\n",
      "[]\n",
      "[]\n",
      "[u'|4.3.1.17-RXN|', u'|RXN-15125|']\n",
      "[u'|GLU6PDEHYDROG-RXN|']\n",
      "[u'|3.1.11.6-RXN|']\n",
      "[]\n",
      "[u'|TRANS-RXN8J2-97|']\n",
      "[u'|RXN-5041|']\n",
      "[]\n",
      "[u'|RXN-12614|']\n",
      "[u'|OROTATE-REDUCTASE-NADH-RXN|']\n",
      "[u'|LUMAZINESYN-RXN|']\n",
      "[u'|3.2.1.55-RXN|']\n",
      "[u'|GLUTAMINESYN-RXN|']\n",
      "[u'|RXN0-308|']\n",
      "[]\n",
      "[u'|3-ISOPROPYLMALISOM-RXN|', u'|RXN-8991|']\n",
      "[u'|TRANS-RXN8J2-99|']\n",
      "[]\n",
      "[]\n",
      "[]\n",
      "[]\n",
      "[u'|RXN-14148|', u'|MYO-INOSITOL-2-DEHYDROGENASE-RXN|']\n",
      "[]\n",
      "[u'|TRANSALDOL-RXN|']\n",
      "[u'|RXN-14971|', u'|SUCCINATE-DEHYDROGENASE-UBIQUINONE-RXN|']\n",
      "[]\n",
      "[u'|PYRROLINECARBREDUCT-RXN|']\n",
      "[u'|RXN0-1061|']\n",
      "[u'|6.3.5.7-RXN|']\n",
      "[]\n",
      "[]\n",
      "[u'|NITRATREDUCT-RXN|']\n",
      "[u'|RXN-10642|', u'|UROGENDECARBOX-RXN|']\n",
      "[]\n",
      "[u'|RXN0-1134|', u'|RXN-12583|', u'|RXN-12508|', u'|PYRUVATEDECARB-RXN|']\n",
      "[u'|TRANS-RXN-101|']\n",
      "[]\n",
      "[u'|TRANS-RXN0-506|']\n",
      "[u'|RXN-11458|', u'|TRANS-HEXAPRENYLTRANSTRANSFERASE-RXN|']\n",
      "[]\n",
      "[]\n",
      "[]\n",
      "[u'|ENOYL-ACP-REDUCT-NADH-RXN|', u'|RXN-9558|', u'|RXN-9661|', u'|RXN-9659|', u'|RXN-9660|', u'|RXN-9657|', u'|RXN-9663|', u'|RXN-9658|', u'|RXN-9662|', u'|1.3.1.9-RXN|']\n",
      "[u'|R82-RXN|']\n",
      "[u'|RXN-11036|', u'|RXN-11032|', u'|ACETOINDEHYDROG-RXN|', u'|ACETOINDEHYDROG-A-RXN|', u'|RXN-9718|']\n",
      "[u'|TRANS-RXN-156|']\n",
      "[u'|RXN0-4022|']\n",
      "[u'|RXN-18028|']\n",
      "[u'|THYMIDYLATESYN-RXN|']\n",
      "[u'|RXN8J2-145|']\n",
      "[u'|ACETYL-COA-CARBOXYLTRANSFER-RXN|']\n",
      "[]\n",
      "[u'|CARBPSYN-RXN|', u'|GLUTAMIN-RXN|', u'|RXN-13202|', u'|RXN-16909|', u'|RXN-16910|', u'|RXN-14196|']\n"
     ]
    }
   ],
   "source": [
    "filename = 'protein_complexes_test.txt'\n",
    "file = open(filename,'w')\n",
    "for cplx in CPLXS:\n",
    "    \n",
    "    rxn = pc.PGDB.reactions_of_enzyme(bsub,cplx)\n",
    "    \n",
    "    cplx_string = str(cplx)\n",
    "    cplx_string = cplx_string[1:len(cplx_string)-1]\n",
    "    string = cplx_string + '\\t' + 'default_name' + '\\t'\n",
    "    \n",
    "    genes_of_cplx = pc.PGDB.genes_of_protein(bsub,cplx)\n",
    "    \n",
    "    for gene in genes_of_cplx:\n",
    "        gene_string = str(gene)\n",
    "        gene_string = gene_string[1:len(gene_string)-1]\n",
    "        string = string + gene_string +'(1)' + ' AND '\n",
    "        \n",
    "    string = string[0:len(string)-4]\n",
    "    string = string + '\\t' + 'M_protein_recon' + '\\n'\n",
    "    file.write(string)\n",
    "    \n",
    "file.close()\n",
    "    \n",
    "    \n"
   ]
  },
  {
   "cell_type": "code",
   "execution_count": null,
   "metadata": {},
   "outputs": [],
   "source": [
    "genes = pc.PGDB.genes_of_protein(bsub,CPLXS[1])\n",
    "print genes"
   ]
  },
  {
   "cell_type": "code",
   "execution_count": 43,
   "metadata": {},
   "outputs": [
    {
     "data": {
      "text/plain": [
       "[u'|CPLX8J2-9|']"
      ]
     },
     "execution_count": 43,
     "metadata": {},
     "output_type": "execute_result"
    }
   ],
   "source": [
    "pc.PGDB.enzymes_of_gene(bsub,genes[0])"
   ]
  },
  {
   "cell_type": "code",
   "execution_count": 52,
   "metadata": {},
   "outputs": [
    {
     "ename": "AttributeError",
     "evalue": "'list' object has no attribute 'id'",
     "output_type": "error",
     "traceback": [
      "\u001b[0;31m---------------------------------------------------------------------------\u001b[0m",
      "\u001b[0;31mAttributeError\u001b[0m                            Traceback (most recent call last)",
      "\u001b[0;32m<ipython-input-52-91f6cb8325ee>\u001b[0m in \u001b[0;36m<module>\u001b[0;34m()\u001b[0m\n\u001b[0;32m----> 1\u001b[0;31m \u001b[0mgene\u001b[0m\u001b[0;34m.\u001b[0m\u001b[0mid\u001b[0m\u001b[0;34m\u001b[0m\u001b[0m\n\u001b[0m",
      "\u001b[0;31mAttributeError\u001b[0m: 'list' object has no attribute 'id'"
     ]
    }
   ],
   "source": []
  },
  {
   "cell_type": "code",
   "execution_count": null,
   "metadata": {},
   "outputs": [],
   "source": []
  }
 ],
 "metadata": {
  "kernelspec": {
   "display_name": "Python 2",
   "language": "python",
   "name": "python2"
  },
  "language_info": {
   "codemirror_mode": {
    "name": "ipython",
    "version": 2
   },
   "file_extension": ".py",
   "mimetype": "text/x-python",
   "name": "python",
   "nbconvert_exporter": "python",
   "pygments_lexer": "ipython2",
   "version": "2.7.6"
  }
 },
 "nbformat": 4,
 "nbformat_minor": 2
}
