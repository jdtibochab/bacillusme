{
 "cells": [
  {
   "cell_type": "code",
   "execution_count": 1,
   "metadata": {
    "scrolled": true
   },
   "outputs": [
    {
     "name": "stderr",
     "output_type": "stream",
     "text": [
      "/home/jt/Downloads/cobrapy-0.5.11/cobra/io/__init__.py:12: UserWarning: cobra.io.sbml requires libsbml\n",
      "  warn(\"cobra.io.sbml requires libsbml\")\n"
     ]
    },
    {
     "name": "stdout",
     "output_type": "stream",
     "text": [
      "/home/jt/UCSD/cobrame/cobrame/__init__.py\n",
      "/home/jt/UCSD/bacillusme-master/ecolime/__init__.py\n"
     ]
    }
   ],
   "source": [
    "from __future__ import print_function, division, absolute_import\n",
    "\n",
    "# python imports\n",
    "from copy import copy\n",
    "import re\n",
    "from os.path import join\n",
    "from collections import defaultdict\n",
    "import pickle\n",
    "\n",
    "# third party imports\n",
    "import pandas\n",
    "import cobra\n",
    "\n",
    "# COBRAme\n",
    "import cobrame\n",
    "from cobrame.util import building, mu, me_model_interface\n",
    "from cobrame.io.json import save_json_me_model, save_reduced_json_me_model\n",
    "\n",
    "# ECOLIme\n",
    "import ecolime\n",
    "from ecolime import (transcription, translation, flat_files, generics, formulas, compartments)\n",
    "from ecolime.util.helper_functions import *\n",
    "\n",
    "print(cobrame.__file__)\n",
    "print(ecolime.__file__)"
   ]
  },
  {
   "cell_type": "code",
   "execution_count": 2,
   "metadata": {},
   "outputs": [
    {
     "data": {
      "text/plain": [
       "<Solution 0.12 at 0x7fb55ae6f940>"
      ]
     },
     "execution_count": 2,
     "metadata": {},
     "output_type": "execute_result"
    }
   ],
   "source": [
    "eco_directory = join(flat_files.ecoli_files_dir, 'iJO1366.json')\n",
    "ijo_directory = join(flat_files.ecoli_files_dir, 'iYO844.json')\n",
    "uni_directory = join(flat_files.ecoli_files_dir, 'universal_model.json')\n",
    "\n",
    "eco = cobra.io.load_json_model(eco_directory)\n",
    "bsub = cobra.io.load_json_model(ijo_directory)\n",
    "uni = cobra.io.load_json_model(uni_directory)\n",
    "\n",
    "bsub.optimize()"
   ]
  },
  {
   "cell_type": "code",
   "execution_count": 3,
   "metadata": {},
   "outputs": [],
   "source": [
    "with open('./me_models/iBS.pickle', 'rb') as f:\n",
    "    me = pickle.load(f)"
   ]
  },
  {
   "cell_type": "code",
   "execution_count": 4,
   "metadata": {
    "scrolled": true
   },
   "outputs": [
    {
     "name": "stdout",
     "output_type": "stream",
     "text": [
      "iter\tmuopt    \ta     \tb     \tmu1       \tstat1\n",
      "Finished compiling expressions in 94.893968 seconds\n",
      "Finished substituting S,lb,ub in 3.381221 seconds\n",
      "Finished makeME_LP in 0.654457 seconds\n",
      "Getting MINOS parameters from ME_NLP...\n",
      "1 0.0 0.0 0.5 0.5 1\n",
      "Finished substituting S,lb,ub in 3.334421 seconds\n",
      "Finished makeME_LP in 0.651895 seconds\n",
      "Getting MINOS parameters from ME_NLP...\n",
      "2 0.0 0.0 0.25 0.25 1\n",
      "Finished substituting S,lb,ub in 3.330354 seconds\n",
      "Finished makeME_LP in 0.676111 seconds\n",
      "Getting MINOS parameters from ME_NLP...\n",
      "3 0.0 0.0 0.125 0.125 1\n",
      "Finished substituting S,lb,ub in 3.374699 seconds\n",
      "Finished makeME_LP in 0.675227 seconds\n",
      "Getting MINOS parameters from ME_NLP...\n",
      "4 0.0625 0.0625 0.125 0.0625 optimal\n",
      "Finished substituting S,lb,ub in 3.425889 seconds\n",
      "Finished makeME_LP in 0.645596 seconds\n",
      "Getting MINOS parameters from ME_NLP...\n",
      "5 0.09375 0.09375 0.125 0.09375 optimal\n",
      "Finished substituting S,lb,ub in 3.320446 seconds\n",
      "Finished makeME_LP in 0.660151 seconds\n",
      "Getting MINOS parameters from ME_NLP...\n",
      "6 0.109375 0.109375 0.125 0.109375 optimal\n",
      "Finished substituting S,lb,ub in 3.522423 seconds\n",
      "Finished makeME_LP in 0.662471 seconds\n",
      "Getting MINOS parameters from ME_NLP...\n",
      "7 0.109375 0.109375 0.1171875 0.1171875 1\n",
      "Bisection done in 295.853 seconds\n"
     ]
    }
   ],
   "source": [
    "solve_me_model(me, 1., min_mu = .1, precision=1e-2, using_soplex=False)"
   ]
  },
  {
   "cell_type": "code",
   "execution_count": 5,
   "metadata": {},
   "outputs": [],
   "source": [
    "with open('./me_models/solution.pickle', 'wb') as solution:\n",
    "    pickle.dump(me,solution)"
   ]
  },
  {
   "cell_type": "code",
   "execution_count": 6,
   "metadata": {},
   "outputs": [],
   "source": [
    "with open('./me_models/solution.pickle', 'rb') as solution:\n",
    "    me = pickle.load(solution)"
   ]
  },
  {
   "cell_type": "code",
   "execution_count": 7,
   "metadata": {},
   "outputs": [
    {
     "data": {
      "text/html": [
       "<div>\n",
       "<style scoped>\n",
       "    .dataframe tbody tr th:only-of-type {\n",
       "        vertical-align: middle;\n",
       "    }\n",
       "\n",
       "    .dataframe tbody tr th {\n",
       "        vertical-align: top;\n",
       "    }\n",
       "\n",
       "    .dataframe thead th {\n",
       "        text-align: right;\n",
       "    }\n",
       "</style>\n",
       "<table border=\"1\" class=\"dataframe\">\n",
       "  <thead>\n",
       "    <tr style=\"text-align: right;\">\n",
       "      <th></th>\n",
       "      <th>id</th>\n",
       "      <th>name</th>\n",
       "      <th>reaction</th>\n",
       "      <th>lower_bound</th>\n",
       "      <th>upper_bound</th>\n",
       "      <th>flux</th>\n",
       "    </tr>\n",
       "  </thead>\n",
       "  <tbody>\n",
       "    <tr>\n",
       "      <th>0</th>\n",
       "      <td>EX_ca2_e</td>\n",
       "      <td>Calcium exchange</td>\n",
       "      <td>ca2_e &lt;=&gt;</td>\n",
       "      <td>-999999.0</td>\n",
       "      <td>999999.0</td>\n",
       "      <td>-0.000378</td>\n",
       "    </tr>\n",
       "    <tr>\n",
       "      <th>1</th>\n",
       "      <td>EX_co2_e</td>\n",
       "      <td>CO2 exchange</td>\n",
       "      <td>co2_e &lt;=&gt;</td>\n",
       "      <td>-999999.0</td>\n",
       "      <td>999999.0</td>\n",
       "      <td>5.980676</td>\n",
       "    </tr>\n",
       "    <tr>\n",
       "      <th>2</th>\n",
       "      <td>EX_fe3_e</td>\n",
       "      <td>Fe3+ exchange</td>\n",
       "      <td>fe3_e &lt;=&gt;</td>\n",
       "      <td>-999999.0</td>\n",
       "      <td>999999.0</td>\n",
       "      <td>-0.000407</td>\n",
       "    </tr>\n",
       "    <tr>\n",
       "      <th>3</th>\n",
       "      <td>EX_glc__D_e</td>\n",
       "      <td>D-Glucose exchange</td>\n",
       "      <td>glc__D_e &lt;=&gt;</td>\n",
       "      <td>-1.7</td>\n",
       "      <td>999999.0</td>\n",
       "      <td>-1.700000</td>\n",
       "    </tr>\n",
       "    <tr>\n",
       "      <th>4</th>\n",
       "      <td>EX_h2o_e</td>\n",
       "      <td>H2O exchange</td>\n",
       "      <td>h2o_e &lt;=&gt;</td>\n",
       "      <td>-999999.0</td>\n",
       "      <td>999999.0</td>\n",
       "      <td>7.869819</td>\n",
       "    </tr>\n",
       "    <tr>\n",
       "      <th>5</th>\n",
       "      <td>EX_h_e</td>\n",
       "      <td>H+ exchange</td>\n",
       "      <td>h_e &lt;=&gt;</td>\n",
       "      <td>-999999.0</td>\n",
       "      <td>999999.0</td>\n",
       "      <td>0.767665</td>\n",
       "    </tr>\n",
       "    <tr>\n",
       "      <th>6</th>\n",
       "      <td>EX_k_e</td>\n",
       "      <td>K+ exchange</td>\n",
       "      <td>k_e &lt;=&gt;</td>\n",
       "      <td>-999999.0</td>\n",
       "      <td>999999.0</td>\n",
       "      <td>-0.083321</td>\n",
       "    </tr>\n",
       "    <tr>\n",
       "      <th>7</th>\n",
       "      <td>EX_mg2_e</td>\n",
       "      <td>Mg exchange</td>\n",
       "      <td>mg2_e &lt;=&gt;</td>\n",
       "      <td>-999999.0</td>\n",
       "      <td>999999.0</td>\n",
       "      <td>-0.011999</td>\n",
       "    </tr>\n",
       "    <tr>\n",
       "      <th>8</th>\n",
       "      <td>EX_nh4_e</td>\n",
       "      <td>Ammonia exchange</td>\n",
       "      <td>nh4_e &lt;=&gt;</td>\n",
       "      <td>-5.0</td>\n",
       "      <td>999999.0</td>\n",
       "      <td>-0.944964</td>\n",
       "    </tr>\n",
       "    <tr>\n",
       "      <th>9</th>\n",
       "      <td>EX_o2_e</td>\n",
       "      <td>O2 exchange</td>\n",
       "      <td>o2_e &lt;--</td>\n",
       "      <td>-999999.0</td>\n",
       "      <td>0.0</td>\n",
       "      <td>-5.705899</td>\n",
       "    </tr>\n",
       "    <tr>\n",
       "      <th>10</th>\n",
       "      <td>EX_pi_e</td>\n",
       "      <td>Phosphate exchange</td>\n",
       "      <td>pi_e &lt;=&gt;</td>\n",
       "      <td>-5.0</td>\n",
       "      <td>999999.0</td>\n",
       "      <td>-0.181053</td>\n",
       "    </tr>\n",
       "    <tr>\n",
       "      <th>11</th>\n",
       "      <td>EX_so4_e</td>\n",
       "      <td>Sulfate exchange</td>\n",
       "      <td>so4_e &lt;=&gt;</td>\n",
       "      <td>-5.0</td>\n",
       "      <td>999999.0</td>\n",
       "      <td>-0.020092</td>\n",
       "    </tr>\n",
       "  </tbody>\n",
       "</table>\n",
       "</div>"
      ],
      "text/plain": [
       "             id                name       reaction  lower_bound  upper_bound  \\\n",
       "0      EX_ca2_e    Calcium exchange     ca2_e <=>     -999999.0     999999.0   \n",
       "1      EX_co2_e        CO2 exchange     co2_e <=>     -999999.0     999999.0   \n",
       "2      EX_fe3_e       Fe3+ exchange     fe3_e <=>     -999999.0     999999.0   \n",
       "3   EX_glc__D_e  D-Glucose exchange  glc__D_e <=>          -1.7     999999.0   \n",
       "4      EX_h2o_e        H2O exchange     h2o_e <=>     -999999.0     999999.0   \n",
       "5        EX_h_e         H+ exchange       h_e <=>     -999999.0     999999.0   \n",
       "6        EX_k_e         K+ exchange       k_e <=>     -999999.0     999999.0   \n",
       "7      EX_mg2_e         Mg exchange     mg2_e <=>     -999999.0     999999.0   \n",
       "8      EX_nh4_e    Ammonia exchange     nh4_e <=>          -5.0     999999.0   \n",
       "9       EX_o2_e         O2 exchange      o2_e <--     -999999.0          0.0   \n",
       "10      EX_pi_e  Phosphate exchange      pi_e <=>          -5.0     999999.0   \n",
       "11     EX_so4_e    Sulfate exchange     so4_e <=>          -5.0     999999.0   \n",
       "\n",
       "        flux  \n",
       "0  -0.000378  \n",
       "1   5.980676  \n",
       "2  -0.000407  \n",
       "3  -1.700000  \n",
       "4   7.869819  \n",
       "5   0.767665  \n",
       "6  -0.083321  \n",
       "7  -0.011999  \n",
       "8  -0.944964  \n",
       "9  -5.705899  \n",
       "10 -0.181053  \n",
       "11 -0.020092  "
      ]
     },
     "execution_count": 7,
     "metadata": {},
     "output_type": "execute_result"
    }
   ],
   "source": [
    "df_m = exchange_single_model(bsub)\n",
    "df_m"
   ]
  },
  {
   "cell_type": "code",
   "execution_count": 8,
   "metadata": {},
   "outputs": [
    {
     "data": {
      "text/html": [
       "<div>\n",
       "<style scoped>\n",
       "    .dataframe tbody tr th:only-of-type {\n",
       "        vertical-align: middle;\n",
       "    }\n",
       "\n",
       "    .dataframe tbody tr th {\n",
       "        vertical-align: top;\n",
       "    }\n",
       "\n",
       "    .dataframe thead th {\n",
       "        text-align: right;\n",
       "    }\n",
       "</style>\n",
       "<table border=\"1\" class=\"dataframe\">\n",
       "  <thead>\n",
       "    <tr style=\"text-align: right;\">\n",
       "      <th></th>\n",
       "      <th>id</th>\n",
       "      <th>name</th>\n",
       "      <th>reaction</th>\n",
       "      <th>lower_bound</th>\n",
       "      <th>upper_bound</th>\n",
       "      <th>flux</th>\n",
       "    </tr>\n",
       "  </thead>\n",
       "  <tbody>\n",
       "    <tr>\n",
       "      <th>0</th>\n",
       "      <td>EX_ca2_e</td>\n",
       "      <td></td>\n",
       "      <td>ca2_e &lt;=&gt;</td>\n",
       "      <td>-999999.0</td>\n",
       "      <td>999999.0</td>\n",
       "      <td>-1.766083e-28</td>\n",
       "    </tr>\n",
       "    <tr>\n",
       "      <th>1</th>\n",
       "      <td>EX_co2_e</td>\n",
       "      <td></td>\n",
       "      <td>co2_e &lt;=&gt;</td>\n",
       "      <td>-999999.0</td>\n",
       "      <td>999999.0</td>\n",
       "      <td>6.488141e+00</td>\n",
       "    </tr>\n",
       "    <tr>\n",
       "      <th>2</th>\n",
       "      <td>EX_glc__D_e</td>\n",
       "      <td></td>\n",
       "      <td>glc__D_e &lt;=&gt;</td>\n",
       "      <td>-1.7</td>\n",
       "      <td>999999.0</td>\n",
       "      <td>-1.700000e+00</td>\n",
       "    </tr>\n",
       "    <tr>\n",
       "      <th>3</th>\n",
       "      <td>EX_glyb_e</td>\n",
       "      <td></td>\n",
       "      <td>glyb_e --&gt;</td>\n",
       "      <td>0.0</td>\n",
       "      <td>999999.0</td>\n",
       "      <td>4.577704e-22</td>\n",
       "    </tr>\n",
       "    <tr>\n",
       "      <th>4</th>\n",
       "      <td>EX_h2o_e</td>\n",
       "      <td></td>\n",
       "      <td>h2o_e &lt;=&gt;</td>\n",
       "      <td>-999999.0</td>\n",
       "      <td>999999.0</td>\n",
       "      <td>8.330686e+00</td>\n",
       "    </tr>\n",
       "    <tr>\n",
       "      <th>5</th>\n",
       "      <td>EX_h_e</td>\n",
       "      <td></td>\n",
       "      <td>h_e &lt;=&gt;</td>\n",
       "      <td>-999999.0</td>\n",
       "      <td>999999.0</td>\n",
       "      <td>2.627595e-01</td>\n",
       "    </tr>\n",
       "    <tr>\n",
       "      <th>6</th>\n",
       "      <td>EX_hexs_e</td>\n",
       "      <td></td>\n",
       "      <td>hexs_e --&gt;</td>\n",
       "      <td>0.0</td>\n",
       "      <td>999999.0</td>\n",
       "      <td>-2.095133e-23</td>\n",
       "    </tr>\n",
       "    <tr>\n",
       "      <th>7</th>\n",
       "      <td>EX_hqn_e</td>\n",
       "      <td></td>\n",
       "      <td>hqn_e --&gt;</td>\n",
       "      <td>0.0</td>\n",
       "      <td>999999.0</td>\n",
       "      <td>1.219146e-34</td>\n",
       "    </tr>\n",
       "    <tr>\n",
       "      <th>8</th>\n",
       "      <td>EX_k_e</td>\n",
       "      <td></td>\n",
       "      <td>k_e &lt;=&gt;</td>\n",
       "      <td>-999999.0</td>\n",
       "      <td>999999.0</td>\n",
       "      <td>-1.207822e-07</td>\n",
       "    </tr>\n",
       "    <tr>\n",
       "      <th>9</th>\n",
       "      <td>EX_mg2_e</td>\n",
       "      <td></td>\n",
       "      <td>mg2_e &lt;=&gt;</td>\n",
       "      <td>-999999.0</td>\n",
       "      <td>999999.0</td>\n",
       "      <td>-3.268522e-04</td>\n",
       "    </tr>\n",
       "    <tr>\n",
       "      <th>10</th>\n",
       "      <td>EX_nh4_e</td>\n",
       "      <td></td>\n",
       "      <td>nh4_e &lt;=&gt;</td>\n",
       "      <td>-5.0</td>\n",
       "      <td>999999.0</td>\n",
       "      <td>-6.087844e-01</td>\n",
       "    </tr>\n",
       "    <tr>\n",
       "      <th>11</th>\n",
       "      <td>EX_o2_e</td>\n",
       "      <td></td>\n",
       "      <td>o2_e &lt;--</td>\n",
       "      <td>-999999.0</td>\n",
       "      <td>0.0</td>\n",
       "      <td>-6.162350e+00</td>\n",
       "    </tr>\n",
       "    <tr>\n",
       "      <th>12</th>\n",
       "      <td>EX_pi_e</td>\n",
       "      <td></td>\n",
       "      <td>pi_e &lt;=&gt;</td>\n",
       "      <td>-5.0</td>\n",
       "      <td>999999.0</td>\n",
       "      <td>-3.198696e-01</td>\n",
       "    </tr>\n",
       "    <tr>\n",
       "      <th>13</th>\n",
       "      <td>EX_ppi_e</td>\n",
       "      <td></td>\n",
       "      <td>ppi_e --&gt;</td>\n",
       "      <td>0.0</td>\n",
       "      <td>999999.0</td>\n",
       "      <td>6.075379e-23</td>\n",
       "    </tr>\n",
       "    <tr>\n",
       "      <th>14</th>\n",
       "      <td>EX_so4_e</td>\n",
       "      <td></td>\n",
       "      <td>so4_e &lt;=&gt;</td>\n",
       "      <td>-5.0</td>\n",
       "      <td>999999.0</td>\n",
       "      <td>-1.089350e-02</td>\n",
       "    </tr>\n",
       "    <tr>\n",
       "      <th>15</th>\n",
       "      <td>EX_zn2_e</td>\n",
       "      <td></td>\n",
       "      <td>zn2_e --&gt;</td>\n",
       "      <td>0.0</td>\n",
       "      <td>999999.0</td>\n",
       "      <td>1.207822e-07</td>\n",
       "    </tr>\n",
       "    <tr>\n",
       "      <th>16</th>\n",
       "      <td>EX_4fe4s_c</td>\n",
       "      <td></td>\n",
       "      <td>4fe4s_c &lt;=&gt;</td>\n",
       "      <td>-1000.0</td>\n",
       "      <td>1000.0</td>\n",
       "      <td>-1.551205e-07</td>\n",
       "    </tr>\n",
       "    <tr>\n",
       "      <th>17</th>\n",
       "      <td>EX_mn2_c</td>\n",
       "      <td></td>\n",
       "      <td>mn2_c &lt;=&gt;</td>\n",
       "      <td>-1000.0</td>\n",
       "      <td>1000.0</td>\n",
       "      <td>-1.484294e-06</td>\n",
       "    </tr>\n",
       "    <tr>\n",
       "      <th>18</th>\n",
       "      <td>EX_pydx5p_c</td>\n",
       "      <td></td>\n",
       "      <td>pydx5p_c &lt;=&gt;</td>\n",
       "      <td>-1000.0</td>\n",
       "      <td>1000.0</td>\n",
       "      <td>-1.275076e-06</td>\n",
       "    </tr>\n",
       "    <tr>\n",
       "      <th>19</th>\n",
       "      <td>EX_cu_c</td>\n",
       "      <td></td>\n",
       "      <td>cu_c &lt;=&gt;</td>\n",
       "      <td>-1000.0</td>\n",
       "      <td>1000.0</td>\n",
       "      <td>-5.190006e-06</td>\n",
       "    </tr>\n",
       "    <tr>\n",
       "      <th>20</th>\n",
       "      <td>EX_thmpp_c</td>\n",
       "      <td></td>\n",
       "      <td>thmpp_c &lt;=&gt;</td>\n",
       "      <td>-1000.0</td>\n",
       "      <td>1000.0</td>\n",
       "      <td>-4.981218e-07</td>\n",
       "    </tr>\n",
       "    <tr>\n",
       "      <th>21</th>\n",
       "      <td>EX_zn2_c</td>\n",
       "      <td></td>\n",
       "      <td>zn2_c &lt;=&gt;</td>\n",
       "      <td>-1000.0</td>\n",
       "      <td>1000.0</td>\n",
       "      <td>-2.530321e-07</td>\n",
       "    </tr>\n",
       "    <tr>\n",
       "      <th>22</th>\n",
       "      <td>EX_cbl1_c</td>\n",
       "      <td></td>\n",
       "      <td>cbl1_c &lt;=&gt;</td>\n",
       "      <td>-1000.0</td>\n",
       "      <td>1000.0</td>\n",
       "      <td>-2.274710e-09</td>\n",
       "    </tr>\n",
       "    <tr>\n",
       "      <th>23</th>\n",
       "      <td>EX_cobalt2_c</td>\n",
       "      <td></td>\n",
       "      <td>cobalt2_c &lt;=&gt;</td>\n",
       "      <td>-1000.0</td>\n",
       "      <td>1000.0</td>\n",
       "      <td>-3.593773e-08</td>\n",
       "    </tr>\n",
       "  </tbody>\n",
       "</table>\n",
       "</div>"
      ],
      "text/plain": [
       "              id name        reaction  lower_bound  upper_bound          flux\n",
       "0       EX_ca2_e           ca2_e <=>     -999999.0     999999.0 -1.766083e-28\n",
       "1       EX_co2_e           co2_e <=>     -999999.0     999999.0  6.488141e+00\n",
       "2    EX_glc__D_e        glc__D_e <=>          -1.7     999999.0 -1.700000e+00\n",
       "3      EX_glyb_e          glyb_e -->           0.0     999999.0  4.577704e-22\n",
       "4       EX_h2o_e           h2o_e <=>     -999999.0     999999.0  8.330686e+00\n",
       "5         EX_h_e             h_e <=>     -999999.0     999999.0  2.627595e-01\n",
       "6      EX_hexs_e          hexs_e -->           0.0     999999.0 -2.095133e-23\n",
       "7       EX_hqn_e           hqn_e -->           0.0     999999.0  1.219146e-34\n",
       "8         EX_k_e             k_e <=>     -999999.0     999999.0 -1.207822e-07\n",
       "9       EX_mg2_e           mg2_e <=>     -999999.0     999999.0 -3.268522e-04\n",
       "10      EX_nh4_e           nh4_e <=>          -5.0     999999.0 -6.087844e-01\n",
       "11       EX_o2_e            o2_e <--     -999999.0          0.0 -6.162350e+00\n",
       "12       EX_pi_e            pi_e <=>          -5.0     999999.0 -3.198696e-01\n",
       "13      EX_ppi_e           ppi_e -->           0.0     999999.0  6.075379e-23\n",
       "14      EX_so4_e           so4_e <=>          -5.0     999999.0 -1.089350e-02\n",
       "15      EX_zn2_e           zn2_e -->           0.0     999999.0  1.207822e-07\n",
       "16    EX_4fe4s_c         4fe4s_c <=>       -1000.0       1000.0 -1.551205e-07\n",
       "17      EX_mn2_c           mn2_c <=>       -1000.0       1000.0 -1.484294e-06\n",
       "18   EX_pydx5p_c        pydx5p_c <=>       -1000.0       1000.0 -1.275076e-06\n",
       "19       EX_cu_c            cu_c <=>       -1000.0       1000.0 -5.190006e-06\n",
       "20    EX_thmpp_c         thmpp_c <=>       -1000.0       1000.0 -4.981218e-07\n",
       "21      EX_zn2_c           zn2_c <=>       -1000.0       1000.0 -2.530321e-07\n",
       "22     EX_cbl1_c          cbl1_c <=>       -1000.0       1000.0 -2.274710e-09\n",
       "23  EX_cobalt2_c       cobalt2_c <=>       -1000.0       1000.0 -3.593773e-08"
      ]
     },
     "execution_count": 8,
     "metadata": {},
     "output_type": "execute_result"
    }
   ],
   "source": [
    "df = exchange_single_model(me)\n",
    "df"
   ]
  },
  {
   "cell_type": "code",
   "execution_count": 9,
   "metadata": {},
   "outputs": [],
   "source": [
    "filename = 'solution_summary.csv'\n",
    "file = open(filename,'w')\n",
    "file.write('ID, reaction, LB, UB, V \\n')\n",
    "for rxn in me.reactions:\n",
    "    try:\n",
    "        reaction = rxn.reaction\n",
    "    except:\n",
    "        reaction = 'NA'\n",
    "    string = rxn.id + ',' + reaction + ',' + str(rxn.lower_bound) + ',' + str(rxn.upper_bound) +\\\n",
    "    ',' +  str(me.solution.x_dict[rxn.id]) + '\\n'\n",
    "    file.write(string)\n",
    "file.close()"
   ]
  },
  {
   "cell_type": "code",
   "execution_count": 10,
   "metadata": {},
   "outputs": [],
   "source": [
    "flux_dict = me.get_metabolic_flux()\n",
    "filename = 'fluxdist_me_bsub.csv'\n",
    "file = open(filename,'w')\n",
    "for rxn in flux_dict.keys():\n",
    "    flux = flux_dict[rxn]\n",
    "    file.write(rxn + ',' + str(flux) + '\\n')\n",
    "file.close()"
   ]
  },
  {
   "cell_type": "code",
   "execution_count": 11,
   "metadata": {},
   "outputs": [],
   "source": [
    "filename = 'fluxdist_m_bsub.csv'\n",
    "file = open(filename,'w')\n",
    "for rxn in bsub.reactions:\n",
    "    flux = bsub.solution.x_dict[rxn.id]\n",
    "    file.write(rxn.id + ',' + str(flux) + '\\n')\n",
    "file.close()"
   ]
  },
  {
   "cell_type": "code",
   "execution_count": null,
   "metadata": {},
   "outputs": [],
   "source": []
  },
  {
   "cell_type": "markdown",
   "metadata": {},
   "source": [
    "## Postprocessing"
   ]
  },
  {
   "cell_type": "code",
   "execution_count": 12,
   "metadata": {},
   "outputs": [
    {
     "name": "stdout",
     "output_type": "stream",
     "text": [
      "/home/jt/UCSD/cobrame/cobrame/__init__.py\n",
      "/home/jt/UCSD/bacillusme-master/ecolime/__init__.py\n"
     ]
    }
   ],
   "source": [
    "from __future__ import print_function, division, absolute_import\n",
    "\n",
    "# python imports\n",
    "import re\n",
    "from os.path import join\n",
    "from collections import defaultdict\n",
    "import pickle\n",
    "\n",
    "# third party imports\n",
    "import pandas\n",
    "import cobra\n",
    "\n",
    "# COBRAme\n",
    "import cobrame\n",
    "from cobrame.util import building, mu, me_model_interface\n",
    "from cobrame.io.json import save_json_me_model, save_reduced_json_me_model\n",
    "\n",
    "# ECOLIme\n",
    "import ecolime\n",
    "from ecolime import (transcription, translation, flat_files, generics, formulas, compartments)\n",
    "from ecolime.util.helper_functions import *\n",
    "\n",
    "print(cobrame.__file__)\n",
    "print(ecolime.__file__)"
   ]
  },
  {
   "cell_type": "code",
   "execution_count": 13,
   "metadata": {},
   "outputs": [],
   "source": [
    "with open('./me_models/solution.pickle', 'rb') as solution:\n",
    "    me = pickle.load(solution)"
   ]
  },
  {
   "cell_type": "code",
   "execution_count": 14,
   "metadata": {},
   "outputs": [
    {
     "data": {
      "text/plain": [
       "'optimal'"
      ]
     },
     "execution_count": 14,
     "metadata": {},
     "output_type": "execute_result"
    }
   ],
   "source": [
    "me.solution.status"
   ]
  },
  {
   "cell_type": "code",
   "execution_count": 21,
   "metadata": {},
   "outputs": [
    {
     "name": "stdout",
     "output_type": "stream",
     "text": [
      "ADK1_FWD_BSU01370-MONOMER_mod_mg2 ( -0.38999094393715655 ) 4.27350427350427e-6*mu BSU01370-MONOMER_mod_mg2 + amp_c + atp_c --> 2.0 adp_c\n",
      "NTD7_FWD_BSU07840-MONOMER ( 8.566624133528062e-23 ) 4.27350427350427e-6*mu BSU07840-MONOMER + amp_c + h2o_c --> adn_c + pi_c\n"
     ]
    }
   ],
   "source": [
    "flux_based_reactions(me,'amp_c',-1,['translation','transcription','formation'],0.2)"
   ]
  },
  {
   "cell_type": "code",
   "execution_count": null,
   "metadata": {},
   "outputs": [],
   "source": [
    "me.metabolites.get_by_id('cobalt2_c').reactions"
   ]
  },
  {
   "cell_type": "code",
   "execution_count": null,
   "metadata": {},
   "outputs": [],
   "source": [
    "me.metabolites.get_by_id('BSU32100-MONOMER').formula_weight"
   ]
  },
  {
   "cell_type": "code",
   "execution_count": 6,
   "metadata": {
    "scrolled": true
   },
   "outputs": [
    {
     "name": "stdout",
     "output_type": "stream",
     "text": [
      "Number of processors:  20\n"
     ]
    }
   ],
   "source": [
    "me.genes = bsub.genes\n",
    "GE_dict = gene_essentiality(bsub, model_type = 'm',  lim = 0.01, NP = 20)"
   ]
  },
  {
   "cell_type": "code",
   "execution_count": 7,
   "metadata": {},
   "outputs": [
    {
     "data": {
      "text/plain": [
       "{}"
      ]
     },
     "execution_count": 7,
     "metadata": {},
     "output_type": "execute_result"
    }
   ],
   "source": [
    "GE_dict"
   ]
  },
  {
   "cell_type": "code",
   "execution_count": null,
   "metadata": {},
   "outputs": [],
   "source": []
  }
 ],
 "metadata": {
  "kernelspec": {
   "display_name": "Python 3",
   "language": "python",
   "name": "python3"
  },
  "language_info": {
   "codemirror_mode": {
    "name": "ipython",
    "version": 3
   },
   "file_extension": ".py",
   "mimetype": "text/x-python",
   "name": "python",
   "nbconvert_exporter": "python",
   "pygments_lexer": "ipython3",
   "version": "3.6.7"
  }
 },
 "nbformat": 4,
 "nbformat_minor": 1
}
