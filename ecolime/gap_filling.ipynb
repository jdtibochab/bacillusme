{
 "cells": [
  {
   "cell_type": "code",
   "execution_count": 1,
   "metadata": {
    "scrolled": false
   },
   "outputs": [
    {
     "name": "stderr",
     "output_type": "stream",
     "text": [
      "/home/jt/Downloads/cobrapy-0.5.11/cobra/io/__init__.py:12: UserWarning: cobra.io.sbml requires libsbml\n",
      "  warn(\"cobra.io.sbml requires libsbml\")\n"
     ]
    },
    {
     "name": "stdout",
     "output_type": "stream",
     "text": [
      "/home/jt/UCSD/cobrame/cobrame/__init__.py\n",
      "/home/jt/UCSD/bacillusme-master/ecolime/__init__.py\n"
     ]
    }
   ],
   "source": [
    "from __future__ import print_function, division, absolute_import\n",
    "\n",
    "from copy import copy\n",
    "# python imports\n",
    "import re\n",
    "from os.path import join\n",
    "from collections import defaultdict\n",
    "import pickle\n",
    "\n",
    "# third party imports\n",
    "import pandas\n",
    "import cobra\n",
    "\n",
    "# COBRAme\n",
    "import cobrame\n",
    "from cobrame.util import building, mu, me_model_interface\n",
    "from cobrame.io.json import save_json_me_model, save_reduced_json_me_model\n",
    "\n",
    "# ECOLIme\n",
    "import ecolime\n",
    "from ecolime import (transcription, translation, flat_files, generics, formulas, compartments)\n",
    "from ecolime.util.helper_functions import *\n",
    "\n",
    "from cobrame.core.component import (Constraint, ProcessedProtein, Complex,\n",
    "                                    TranslatedGene, TranscribedGene, Metabolite, Ribosome,\n",
    "                                    GenericComponent,GenerictRNA,RNAP)\n",
    "\n",
    "print(cobrame.__file__)\n",
    "print(ecolime.__file__)"
   ]
  },
  {
   "cell_type": "code",
   "execution_count": 2,
   "metadata": {},
   "outputs": [],
   "source": [
    "# Define Models\n",
    "model_directory = join(flat_files.ecoli_files_dir, 'iYO844.json')\n",
    "model = cobra.io.load_json_model(model_directory)"
   ]
  },
  {
   "cell_type": "code",
   "execution_count": 3,
   "metadata": {},
   "outputs": [],
   "source": [
    "with open('./me_models/iBS.pickle', 'rb') as f:\n",
    "    me = pickle.load(f)"
   ]
  },
  {
   "cell_type": "code",
   "execution_count": 5,
   "metadata": {
    "scrolled": true
   },
   "outputs": [
    {
     "name": "stdout",
     "output_type": "stream",
     "text": [
      "( AMMQT7_FWD_BSU22750-MONOMER 0 999999.0 ) \t 2dmmq7_c + 4.71514146737046e-6*mu BSU22750-MONOMER + amet_c + nadph_c --> ahcys_c + mql7_c + nadp_c\n",
      "( NADH4_FWD_BSU32100-MONOMER 0 999999.0 ) \t 8.26913491691037e-5*mu BSU32100-MONOMER + h_c + mqn7_c + nadh_c --> mql7_c + nad_c\n",
      "( SUCD5_BS_FWD_CPLX8J2-15 0 999999.0 ) \t 1.28067513227184e-6*mu CPLX8J2-15 + fadh2_c + 2.0 h_e + mqn7_c --> fad_c + 2.0 h_c + mql7_c\n",
      "( G3PD4_FWD_BSU09300-MONOMER 0 999999.0 ) \t 2.04130467975336e-6*mu BSU09300-MONOMER + glyc3p_c + mqn7_c --> dhap_c + mql7_c\n",
      "( NADH4_FWD_BSU12290-MONOMER_mod_nad 0 999999.0 ) \t 4.27350427350427e-6*mu BSU12290-MONOMER_mod_nad + h_c + mqn7_c + nadh_c --> mql7_c + nad_c\n",
      "( NADH4_FWD_BSU32200-MONOMER 0 999999.0 ) \t 4.27350427350427e-6*mu BSU32200-MONOMER + h_c + mqn7_c + nadh_c --> mql7_c + nad_c\n"
     ]
    }
   ],
   "source": [
    "print_reactions_of_met(me,'mql7_c',1)"
   ]
  },
  {
   "cell_type": "code",
   "execution_count": 26,
   "metadata": {
    "scrolled": true
   },
   "outputs": [
    {
     "name": "stdout",
     "output_type": "stream",
     "text": [
      "10fthf_c -0.000367\n",
      "adp_c 104.997414\n",
      "ala__L_c -0.266902\n",
      "amp_c -0.00467\n",
      "arg__L_c -0.193021\n",
      "asn__L_c -0.147987\n",
      "asp__L_c -0.148014\n",
      "atp_c -105.053483\n",
      "ca2_c -0.003205\n",
      "cdlp_BS_c -5e-06\n",
      "cdp_c -0.000251\n",
      "cmp_c -0.001042\n",
      "ctp_c -0.038902\n",
      "cys__L_c -0.05699\n",
      "d12dg_BS_c -0.00011\n",
      "datp_c -0.022982\n",
      "dctp_c -0.01738\n",
      "dgtp_c -0.017398\n",
      "dttp_c -0.022899\n",
      "fe3_c -0.00345\n",
      "gdp_c -0.00018\n",
      "gln__L_c -0.260335\n",
      "glu__L_c -0.260378\n",
      "gly_c -0.408288\n",
      "gmp_c -0.000503\n",
      "gtca1_45_BS_c -0.003624\n",
      "gtca2_45_BS_c -0.002347\n",
      "gtca3_45_BS_c -0.001819\n",
      "gtp_c -0.062667\n",
      "h2o_c -105.0\n",
      "h_c 105.0\n",
      "his__L_c -0.081739\n",
      "ile__L_c -0.269905\n",
      "k_c -0.706312\n",
      "leu__L_c -0.346445\n",
      "lipo1_24_BS_c -7e-06\n",
      "lipo2_24_BS_c -6e-06\n",
      "lipo3_24_BS_c -1.8e-05\n",
      "lipo4_24_BS_c -1.5e-05\n",
      "lys__L_c -0.323093\n",
      "lysylpgly_BS_c -2.2e-05\n",
      "m12dg_BS_c -8.6e-05\n",
      "met__L_c -0.113326\n",
      "mg2_c -0.101714\n",
      "mql7_c -0.000266\n",
      "nad_c -0.016164\n",
      "nadp_c -0.000934\n",
      "nadph_c -0.000216\n",
      "peptido_BS_c -0.101817\n",
      "pgly_BS_c -0.000176\n",
      "phe__L_c -0.175939\n",
      "pi_c 104.985613\n",
      "ppi_c -0.000918\n",
      "pro__L_c -0.160642\n",
      "psetha_BS_c -0.00056\n",
      "ser__L_c -0.216213\n",
      "t12dg_BS_c -6.6e-05\n",
      "tcam_BS_c -0.003112\n",
      "thr__L_c -0.186317\n",
      "trp__L_c -0.054336\n",
      "tyr__L_c -0.110824\n",
      "utp_c -0.041501\n",
      "val__L_c -0.306734\n"
     ]
    }
   ],
   "source": [
    "for key,value in model.reactions.BIOMASS_BS_10.metabolites.items():\n",
    "    print(key,value)"
   ]
  },
  {
   "cell_type": "code",
   "execution_count": 6,
   "metadata": {},
   "outputs": [
    {
     "data": {
      "text/plain": [
       "'2 Demethylmenaquinone 7 C45H62O2'"
      ]
     },
     "execution_count": 6,
     "metadata": {},
     "output_type": "execute_result"
    }
   ],
   "source": [
    "model.metabolites.get_by_id('2dmmq7_c').name"
   ]
  },
  {
   "cell_type": "code",
   "execution_count": 25,
   "metadata": {},
   "outputs": [
    {
     "data": {
      "text/plain": [
       "<Metabolite val__L_c at 0x7fc724dfe128>"
      ]
     },
     "execution_count": 25,
     "metadata": {},
     "output_type": "execute_result"
    }
   ],
   "source": [
    "met"
   ]
  },
  {
   "cell_type": "code",
   "execution_count": null,
   "metadata": {},
   "outputs": [],
   "source": []
  }
 ],
 "metadata": {
  "kernelspec": {
   "display_name": "Python 3",
   "language": "python",
   "name": "python3"
  },
  "language_info": {
   "codemirror_mode": {
    "name": "ipython",
    "version": 3
   },
   "file_extension": ".py",
   "mimetype": "text/x-python",
   "name": "python",
   "nbconvert_exporter": "python",
   "pygments_lexer": "ipython3",
   "version": "3.6.7"
  }
 },
 "nbformat": 4,
 "nbformat_minor": 1
}
