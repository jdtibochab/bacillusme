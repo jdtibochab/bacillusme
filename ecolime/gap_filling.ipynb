{
 "cells": [
  {
   "cell_type": "code",
   "execution_count": 1,
   "metadata": {
    "scrolled": false
   },
   "outputs": [
    {
     "name": "stderr",
     "output_type": "stream",
     "text": [
      "/home/jt/Downloads/cobrapy-0.5.11/cobra/io/__init__.py:12: UserWarning: cobra.io.sbml requires libsbml\n",
      "  warn(\"cobra.io.sbml requires libsbml\")\n"
     ]
    },
    {
     "name": "stdout",
     "output_type": "stream",
     "text": [
      "/home/jt/UCSD/cobrame/cobrame/__init__.py\n",
      "/home/jt/UCSD/bacillusme-master/ecolime/__init__.py\n"
     ]
    }
   ],
   "source": [
    "from __future__ import print_function, division, absolute_import\n",
    "\n",
    "from copy import copy\n",
    "# python imports\n",
    "import re\n",
    "from os.path import join\n",
    "from collections import defaultdict\n",
    "import pickle\n",
    "\n",
    "# third party imports\n",
    "import pandas\n",
    "import cobra\n",
    "\n",
    "# COBRAme\n",
    "import cobrame\n",
    "from cobrame.util import building, mu, me_model_interface\n",
    "from cobrame.io.json import save_json_me_model, save_reduced_json_me_model\n",
    "\n",
    "# ECOLIme\n",
    "import ecolime\n",
    "from ecolime import (transcription, translation, flat_files, generics, formulas, compartments)\n",
    "from ecolime.util.helper_functions import *\n",
    "\n",
    "from cobrame.core.component import (Constraint, ProcessedProtein, Complex,\n",
    "                                    TranslatedGene, TranscribedGene, Metabolite, Ribosome,\n",
    "                                    GenericComponent,GenerictRNA,RNAP)\n",
    "\n",
    "print(cobrame.__file__)\n",
    "print(ecolime.__file__)"
   ]
  },
  {
   "cell_type": "code",
   "execution_count": null,
   "metadata": {},
   "outputs": [
    {
     "data": {
      "text/plain": [
       "<Solution 0.12 at 0x7f3c108a79e8>"
      ]
     },
     "execution_count": 2,
     "metadata": {},
     "output_type": "execute_result"
    }
   ],
   "source": [
    "eco_directory = join(flat_files.ecoli_files_dir, 'iJO1366.json')\n",
    "bsub_directory = join(flat_files.ecoli_files_dir, 'iYO844.json')\n",
    "uni_directory = join(flat_files.ecoli_files_dir, 'universal_model.json')\n",
    "bsub_ref_directory = join(flat_files.ecoli_files_dir, 'Bacillus_subtilis_subsp_subtilis_str_168.xml')\n",
    "\n",
    "eco = cobra.io.load_json_model(eco_directory)\n",
    "bsub = cobra.io.load_json_model(bsub_directory)\n",
    "bsub_ref = cobra.io.read_sbml_model(bsub_ref_directory)\n",
    "uni = cobra.io.load_json_model(uni_directory)\n",
    "\n",
    "bsub.optimize()"
   ]
  },
  {
   "cell_type": "code",
   "execution_count": null,
   "metadata": {},
   "outputs": [],
   "source": [
    "with open('./me_models/iBS.pickle', 'rb') as f:\n",
    "    me = pickle.load(f)\n",
    "    \n",
    "with open('./me_models/iJL1678b.pickle', 'rb') as f:\n",
    "    eco_me = pickle.load(f)"
   ]
  },
  {
   "cell_type": "code",
   "execution_count": null,
   "metadata": {
    "scrolled": true
   },
   "outputs": [],
   "source": [
    "GE_dict_m = gene_essentiality(bsub, model_type = 'm',  lim = 0.01, NP = 20)"
   ]
  },
  {
   "cell_type": "code",
   "execution_count": null,
   "metadata": {
    "scrolled": true
   },
   "outputs": [],
   "source": [
    "GE_dict_me = gene_essentiality(me, model_type = 'me',  lim = 0.01, NP = 20, initial_f=0)"
   ]
  },
  {
   "cell_type": "code",
   "execution_count": null,
   "metadata": {},
   "outputs": [],
   "source": [
    "# Create one dict\n",
    "GE_dict = {}\n",
    "for key in GE_dict_me.keys():\n",
    "    GE_dict[key] = {}\n",
    "    try:\n",
    "        GE_dict[key]['m'] = GE_dict_m[key]\n",
    "    except:\n",
    "        GE_dict[key]['m'] = None\n",
    "    GE_dict[key]['me'] = GE_dict_me[key]\n",
    "GE_dict"
   ]
  },
  {
   "cell_type": "code",
   "execution_count": 15,
   "metadata": {},
   "outputs": [],
   "source": [
    "with open(\"./me_models/GE_dict.pickle\", \"wb\") as outfile:\n",
    "    pickle.dump(GE_dict, outfile)"
   ]
  },
  {
   "cell_type": "code",
   "execution_count": 10,
   "metadata": {},
   "outputs": [
    {
     "name": "stdout",
     "output_type": "stream",
     "text": [
      "( formation_BSU04560-MONOMER 0.0 1000.0 ) \t protein_BSU04560 --> BSU04560-MONOMER\n",
      "( translation_BSU04560 0.0 1000.0 ) \t 10fthf_c + 0.00150854700854701*mu BSU01120-MONOMER + 4.27350427350427e-6*mu BSU01390-MONOMER + 4.27350427350427e-6*mu BSU15720-MONOMER + 4.27350427350427e-6*mu BSU15730-MONOMER + 0.00150854700854701*mu BSU16500-MONOMER + 4.27350427350427e-6*mu BSU16520-MONOMER + 8.54700854700855e-6*mu BSU16630-MONOMER + 4.27350427350427e-6*mu BSU28870-MONOMER + 4.27350427350427e-6*mu BSU35290-MONOMER + 0.000498399634202103*mu + 0.000195123456790123 + 0.00598079561042524*(mu + 0.3915)/mu RNA_BSU04560 + 2.55589556001079e-8*mu + 1.00063311174422e-8 RNA_degradosome + 33 ala__L_c + 9 arg__L_c + 14 asn__L_c + 19 asp__L_c + 353.0 + 1.59089163237311*(mu + 0.3915)/mu atp_c + 4 cys__L_c + 4.27350427350427e-6*mu generic_RF + 0.00150854700854701*mu generic_Tuf + 20.0 generic_tRNA_AAA_lys__L_c + 9.0 generic_tRNA_AAC_asn__L_c + 5.0 generic_tRNA_AAG_lys__L_c + 5.0 generic_tRNA_AAU_asn__L_c + 8.0 generic_tRNA_ACA_thr__L_c + generic_tRNA_ACG_thr__L_c + 5.0 generic_tRNA_ACU_thr__L_c + 2.0 generic_tRNA_AGA_arg__L_c + 3.0 generic_tRNA_AGC_ser__L_c + 3.0 generic_tRNA_AGU_ser__L_c + 2.0 generic_tRNA_AUA_ile__L_c + 11.0 generic_tRNA_AUC_ile__L_c + 9.0 generic_tRNA_AUG_met__L_c + 7.0 generic_tRNA_AUU_ile__L_c + 6.0 generic_tRNA_CAA_gln__L_c + 2.0 generic_tRNA_CAC_his__L_c + 9.0 generic_tRNA_CAG_gln__L_c + 4.0 generic_tRNA_CAU_his__L_c + generic_tRNA_CCA_pro__L_c + 9.0 generic_tRNA_CCG_pro__L_c + 6.0 generic_tRNA_CCU_pro__L_c + generic_tRNA_CGA_arg__L_c + 3.0 generic_tRNA_CGC_arg__L_c + 3.0 generic_tRNA_CGU_arg__L_c + generic_tRNA_CUA_leu__L_c + 6.0 generic_tRNA_CUC_leu__L_c + 9.0 generic_tRNA_CUG_leu__L_c + 8.0 generic_tRNA_CUU_leu__L_c + 24.0 generic_tRNA_GAA_glu__L_c + 8.0 generic_tRNA_GAC_asp__L_c + 11.0 generic_tRNA_GAG_glu__L_c + 11.0 generic_tRNA_GAU_asp__L_c + 5.0 generic_tRNA_GCA_ala__L_c + 4.0 generic_tRNA_GCC_ala__L_c + 11.0 generic_tRNA_GCG_ala__L_c + 13.0 generic_tRNA_GCU_ala__L_c + 14.0 generic_tRNA_GGA_gly_c + 12.0 generic_tRNA_GGC_gly_c + 2.0 generic_tRNA_GGU_gly_c + 3.0 generic_tRNA_GUA_val__L_c + 8.0 generic_tRNA_GUC_val__L_c + 6.0 generic_tRNA_GUG_val__L_c + 10.0 generic_tRNA_GUU_val__L_c + generic_tRNA_START_met__L_c + 6.0 generic_tRNA_UAC_tyr__L_c + 5.0 generic_tRNA_UAU_tyr__L_c + 5.0 generic_tRNA_UCA_ser__L_c + 2.0 generic_tRNA_UCC_ser__L_c + generic_tRNA_UCG_ser__L_c + 3.0 generic_tRNA_UCU_ser__L_c + 3.0 generic_tRNA_UGC_cys__L_c + 3.0 generic_tRNA_UGG_trp__L_c + generic_tRNA_UGU_cys__L_c + 3.0 generic_tRNA_UUA_leu__L_c + 9.0 generic_tRNA_UUC_phe__L_c + 3.0 generic_tRNA_UUG_leu__L_c + 9.0 generic_tRNA_UUU_phe__L_c + 15 gln__L_c + 35 glu__L_c + 28 gly_c + 708.0 gtp_c + 709.0 + 1.59089163237311*(mu + 0.3915)/mu h2o_c + 6 his__L_c + 20 ile__L_c + 30 leu__L_c + 25 lys__L_c + 2.03035797761674*(mu + 0.3915)/mu mRNA_biomass + 10 met__L_c + 18 phe__L_c + 16 pro__L_c + 0.00507516402844689*mu + 0.00198692671713696 ribosome + 17 ser__L_c + 14 thr__L_c + 3 trp__L_c + 11 tyr__L_c + 27 val__L_c --> 1.59089163237311*(mu + 0.3915)/mu adp_c + 353.0 + 1.51912208504801*(mu + 0.3915)/mu amp_c + 1.62079561042524*(mu + 0.3915)/mu cmp_c + for_c + 708.0 gdp_c + 1.36362139917696*(mu + 0.3915)/mu gmp_c + 1061.0 + 1.59089163237311*(mu + 0.3915)/mu h_c + 708.0 + 1.59089163237311*(mu + 0.3915)/mu pi_c + 353.0 ppi_c + protein_BSU04560 + 39.110940199999995 protein_biomass + thf_c + 1.86600823045268*(mu + 0.3915)/mu ump_c\n"
     ]
    }
   ],
   "source": [
    "r = get_reactions_of_met(me,'protein_BSU04560',0)"
   ]
  },
  {
   "cell_type": "code",
   "execution_count": 17,
   "metadata": {},
   "outputs": [
    {
     "data": {
      "text/plain": [
       "0.11796638935761272"
      ]
     },
     "execution_count": 17,
     "metadata": {},
     "output_type": "execute_result"
    }
   ],
   "source": [
    "bsub.solution.f"
   ]
  },
  {
   "cell_type": "code",
   "execution_count": 61,
   "metadata": {},
   "outputs": [
    {
     "data": {
      "text/plain": [
       "['shcl_c']"
      ]
     },
     "execution_count": 61,
     "metadata": {},
     "output_type": "execute_result"
    }
   ],
   "source": [
    "get_metabolites_from_pattern(me,'cl_c')"
   ]
  },
  {
   "cell_type": "code",
   "execution_count": 113,
   "metadata": {
    "scrolled": true
   },
   "outputs": [
    {
     "name": "stdout",
     "output_type": "stream",
     "text": [
      "\n"
     ]
    }
   ],
   "source": [
    "met = 'protein_b3035'\n",
    "print(eco_me.metabolites.get_by_id(met).name)\n",
    "print_reactions_of_met(eco_me,met,1)"
   ]
  },
  {
   "cell_type": "code",
   "execution_count": 6,
   "metadata": {},
   "outputs": [
    {
     "name": "stdout",
     "output_type": "stream",
     "text": [
      "FMN C17H19N4O9P\n"
     ]
    },
    {
     "ename": "NameError",
     "evalue": "name 'print_reactions_of_met' is not defined",
     "output_type": "error",
     "traceback": [
      "\u001b[0;31m---------------------------------------------------------------------------\u001b[0m",
      "\u001b[0;31mNameError\u001b[0m                                 Traceback (most recent call last)",
      "\u001b[0;32m<ipython-input-6-e4a8cd9db70f>\u001b[0m in \u001b[0;36m<module>\u001b[0;34m\u001b[0m\n\u001b[1;32m      1\u001b[0m \u001b[0mmet\u001b[0m \u001b[0;34m=\u001b[0m \u001b[0;34m'fmn_c'\u001b[0m\u001b[0;34m\u001b[0m\u001b[0;34m\u001b[0m\u001b[0m\n\u001b[1;32m      2\u001b[0m \u001b[0mprint\u001b[0m\u001b[0;34m(\u001b[0m\u001b[0mme\u001b[0m\u001b[0;34m.\u001b[0m\u001b[0mmetabolites\u001b[0m\u001b[0;34m.\u001b[0m\u001b[0mget_by_id\u001b[0m\u001b[0;34m(\u001b[0m\u001b[0mmet\u001b[0m\u001b[0;34m)\u001b[0m\u001b[0;34m.\u001b[0m\u001b[0mname\u001b[0m\u001b[0;34m)\u001b[0m\u001b[0;34m\u001b[0m\u001b[0;34m\u001b[0m\u001b[0m\n\u001b[0;32m----> 3\u001b[0;31m \u001b[0mprint_reactions_of_met\u001b[0m\u001b[0;34m(\u001b[0m\u001b[0mme\u001b[0m\u001b[0;34m,\u001b[0m\u001b[0mmet\u001b[0m\u001b[0;34m,\u001b[0m\u001b[0;34m-\u001b[0m\u001b[0;36m1\u001b[0m\u001b[0;34m)\u001b[0m\u001b[0;34m\u001b[0m\u001b[0;34m\u001b[0m\u001b[0m\n\u001b[0m",
      "\u001b[0;31mNameError\u001b[0m: name 'print_reactions_of_met' is not defined"
     ]
    }
   ],
   "source": [
    "met = 'fmn_c'\n",
    "print(me.metabolites.get_by_id(met).name)\n",
    "print_reactions_of_met(me,met,-1)"
   ]
  },
  {
   "cell_type": "code",
   "execution_count": 57,
   "metadata": {
    "scrolled": true
   },
   "outputs": [],
   "source": [
    "for met in bsub.metabolites:\n",
    "    if 'complex' in met.name:\n",
    "        print(met.id, met.name)"
   ]
  },
  {
   "cell_type": "code",
   "execution_count": 15,
   "metadata": {},
   "outputs": [
    {
     "data": {
      "text/plain": [
       "24349.923540000003"
      ]
     },
     "execution_count": 15,
     "metadata": {},
     "output_type": "execute_result"
    }
   ],
   "source": [
    "eco_me.metabolites.get_by_id('GRXB-MONOMER_mod_Oxidized').formula_weight"
   ]
  },
  {
   "cell_type": "code",
   "execution_count": 5,
   "metadata": {},
   "outputs": [
    {
     "ename": "KeyError",
     "evalue": "'heme_c'",
     "output_type": "error",
     "traceback": [
      "\u001b[0;31m---------------------------------------------------------------------------\u001b[0m",
      "\u001b[0;31mKeyError\u001b[0m                                  Traceback (most recent call last)",
      "\u001b[0;32m<ipython-input-5-ff3eb40a8923>\u001b[0m in \u001b[0;36m<module>\u001b[0;34m\u001b[0m\n\u001b[0;32m----> 1\u001b[0;31m \u001b[0meco_me\u001b[0m\u001b[0;34m.\u001b[0m\u001b[0mmetabolites\u001b[0m\u001b[0;34m.\u001b[0m\u001b[0mget_by_id\u001b[0m\u001b[0;34m(\u001b[0m\u001b[0;34m'heme_c'\u001b[0m\u001b[0;34m)\u001b[0m\u001b[0;34m.\u001b[0m\u001b[0mformula\u001b[0m\u001b[0;34m\u001b[0m\u001b[0;34m\u001b[0m\u001b[0m\n\u001b[0m",
      "\u001b[0;32m~/Downloads/cobrapy-0.5.11/cobra/core/DictList.py\u001b[0m in \u001b[0;36mget_by_id\u001b[0;34m(self, id)\u001b[0m\n\u001b[1;32m     47\u001b[0m     \u001b[0;32mdef\u001b[0m \u001b[0mget_by_id\u001b[0m\u001b[0;34m(\u001b[0m\u001b[0mself\u001b[0m\u001b[0;34m,\u001b[0m \u001b[0mid\u001b[0m\u001b[0;34m)\u001b[0m\u001b[0;34m:\u001b[0m\u001b[0;34m\u001b[0m\u001b[0;34m\u001b[0m\u001b[0m\n\u001b[1;32m     48\u001b[0m         \u001b[0;34m\"\"\"return the element with a matching id\"\"\"\u001b[0m\u001b[0;34m\u001b[0m\u001b[0;34m\u001b[0m\u001b[0m\n\u001b[0;32m---> 49\u001b[0;31m         \u001b[0;32mreturn\u001b[0m \u001b[0mlist\u001b[0m\u001b[0;34m.\u001b[0m\u001b[0m__getitem__\u001b[0m\u001b[0;34m(\u001b[0m\u001b[0mself\u001b[0m\u001b[0;34m,\u001b[0m \u001b[0mself\u001b[0m\u001b[0;34m.\u001b[0m\u001b[0m_dict\u001b[0m\u001b[0;34m[\u001b[0m\u001b[0mid\u001b[0m\u001b[0;34m]\u001b[0m\u001b[0;34m)\u001b[0m\u001b[0;34m\u001b[0m\u001b[0;34m\u001b[0m\u001b[0m\n\u001b[0m\u001b[1;32m     50\u001b[0m \u001b[0;34m\u001b[0m\u001b[0m\n\u001b[1;32m     51\u001b[0m     \u001b[0;32mdef\u001b[0m \u001b[0mlist_attr\u001b[0m\u001b[0;34m(\u001b[0m\u001b[0mself\u001b[0m\u001b[0;34m,\u001b[0m \u001b[0mattribute\u001b[0m\u001b[0;34m)\u001b[0m\u001b[0;34m:\u001b[0m\u001b[0;34m\u001b[0m\u001b[0;34m\u001b[0m\u001b[0m\n",
      "\u001b[0;31mKeyError\u001b[0m: 'heme_c'"
     ]
    }
   ],
   "source": [
    "eco_me.metabolites.get_by_id('heme_c').formula"
   ]
  },
  {
   "cell_type": "code",
   "execution_count": 15,
   "metadata": {},
   "outputs": [
    {
     "data": {
      "text/plain": [
       "'HX'"
      ]
     },
     "execution_count": 15,
     "metadata": {},
     "output_type": "execute_result"
    }
   ],
   "source": [
    "bsub.metabolites.get_by_id('ACP_c').formula"
   ]
  },
  {
   "cell_type": "code",
   "execution_count": 42,
   "metadata": {
    "scrolled": true
   },
   "outputs": [
    {
     "data": {
      "text/plain": [
       "{<Metabolite datp_c at 0x7f6228fa36a0>: -0.246051501452,\n",
       " <Metabolite dctp_c at 0x7f6228fa35f8>: -0.253948498548,\n",
       " <Metabolite dgtp_c at 0x7f6228fa31d0>: -0.253948498548,\n",
       " <Metabolite dttp_c at 0x7f6228fa33c8>: -0.246051501452,\n",
       " <Metabolite ppi_c at 0x7f622fe6b828>: 1,\n",
       " <Constraint DNA_biomass at 0x7f622d17b6a0>: 0.3079428373534753}"
      ]
     },
     "execution_count": 42,
     "metadata": {},
     "output_type": "execute_result"
    }
   ],
   "source": [
    "me.reactions.DNA_replication.metabolites"
   ]
  },
  {
   "cell_type": "code",
   "execution_count": 37,
   "metadata": {},
   "outputs": [
    {
     "name": "stdout",
     "output_type": "stream",
     "text": [
      "( ACS 0.0 999999.0 ) \t ac_c + atp_c + coa_c --> accoa_c + amp_c + ppi_c\n",
      "( ADPDA -999999.0 999999.0 ) \t 26dapime_c + h2o_c <=> 26dap_LL_c + ac_c\n",
      "( ALDD2x 0.0 999999.0 ) \t acald_c + h2o_c + nad_c --> ac_c + 2.0 h_c + nadh_c\n",
      "( ACODA_1 0.0 999999.0 ) \t acorn_c + h2o_c --> ac_c + orn__L_c\n",
      "( CYSS_2 0.0 999999.0 ) \t acser_c + h2s_c --> ac_c + cys__L_c\n",
      "( AHSERL4 -999999.0 999999.0 ) \t acser_c + trdrd_c + tsul_c <=> ac_c + cys__L_c + h_c + so3_c + trdox_c\n",
      "( AGDC 0.0 999999.0 ) \t acgam6p_c + h2o_c --> ac_c + gam6p_c\n",
      "( AHSERL3 -999999.0 999999.0 ) \t acser_c + seln_c <=> ac_c + scys__L_c\n",
      "( SLCYSS 0.0 999999.0 ) \t acser_c + tsul_c --> ac_c + scys__L_c\n",
      "( ACKr -999999.0 999999.0 ) \t ac_c + atp_c <=> actp_c + adp_c\n",
      "( ACt2r -999999.0 999999.0 ) \t ac_e + h_e <=> ac_c + h_c\n"
     ]
    }
   ],
   "source": [
    "r = get_reactions_of_met(bsub,'ac_c',0)"
   ]
  },
  {
   "cell_type": "code",
   "execution_count": 31,
   "metadata": {},
   "outputs": [
    {
     "name": "stdout",
     "output_type": "stream",
     "text": [
      "182\n"
     ]
    }
   ],
   "source": [
    "i=0\n",
    "for rxn in me.reactions:\n",
    "    rule = rxn.gene_reaction_rule\n",
    "    if 'dummy' in rxn.id:\n",
    "        i = i + 1\n",
    "\n",
    "print(i)"
   ]
  },
  {
   "cell_type": "code",
   "execution_count": 7,
   "metadata": {},
   "outputs": [
    {
     "data": {
      "text/plain": [
       "''"
      ]
     },
     "execution_count": 7,
     "metadata": {},
     "output_type": "execute_result"
    }
   ],
   "source": [
    "eco_me.reactions.ATPM.gene_reaction_rule"
   ]
  },
  {
   "cell_type": "code",
   "execution_count": 25,
   "metadata": {},
   "outputs": [
    {
     "data": {
      "text/plain": [
       "''"
      ]
     },
     "execution_count": 25,
     "metadata": {},
     "output_type": "execute_result"
    }
   ],
   "source": [
    "rxn_id = 'PYRt2rpp'\n",
    "eco.reactions.get_by_id(rxn_id).reaction\n",
    "eco_me.reactions.SELGTHR2_FWD_CPLX_dummy.gene_reaction_rule"
   ]
  },
  {
   "cell_type": "code",
   "execution_count": null,
   "metadata": {},
   "outputs": [],
   "source": []
  }
 ],
 "metadata": {
  "kernelspec": {
   "display_name": "Python 3",
   "language": "python",
   "name": "python3"
  },
  "language_info": {
   "codemirror_mode": {
    "name": "ipython",
    "version": 3
   },
   "file_extension": ".py",
   "mimetype": "text/x-python",
   "name": "python",
   "nbconvert_exporter": "python",
   "pygments_lexer": "ipython3",
   "version": "3.6.7"
  }
 },
 "nbformat": 4,
 "nbformat_minor": 1
}
